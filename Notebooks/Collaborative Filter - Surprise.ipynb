{
 "cells": [
  {
   "cell_type": "code",
   "execution_count": 47,
   "metadata": {},
   "outputs": [],
   "source": [
    "import pandas as pd\n",
    "import numpy as np\n",
    "import matplotlib.pyplot as plt\n",
    "import seaborn as sns\n",
    "import datetime\n",
    "import pickle\n",
    "from sklearn.model_selection import GridSearchCV\n"
   ]
  },
  {
   "cell_type": "code",
   "execution_count": 48,
   "metadata": {},
   "outputs": [],
   "source": [
    "from surprise import Dataset\n",
    "from surprise import Reader\n",
    "\n",
    "from surprise import SVD\n",
    "from surprise import SVDpp\n",
    "from surprise import NMF\n",
    "\n",
    "from surprise import KNNBasic\n",
    "from surprise import KNNWithMeans\n",
    "from surprise import KNNBaseline\n",
    "from surprise import SlopeOne\n",
    "from surprise import CoClustering\n",
    "from surprise import NormalPredictor\n",
    "from surprise import KNNWithZScore\n",
    "from surprise import BaselineOnly\n",
    "\n",
    "from surprise import accuracy\n",
    "\n",
    "from surprise.model_selection import train_test_split\n",
    "from surprise.model_selection import GridSearchCV\n",
    "from surprise.model_selection import cross_validate\n",
    "\n",
    "\n",
    "from surprise import Reader, Dataset, SVD, SVDpp, NMF, KNNBaseline, evaluate, accuracy\n",
    "from surprise.model_selection import KFold, train_test_split, GridSearchCV\n",
    "from sklearn.linear_model import LinearRegression\n",
    "\n"
   ]
  },
  {
   "cell_type": "code",
   "execution_count": 49,
   "metadata": {},
   "outputs": [],
   "source": [
    "def dateparse (time_in_secs):    \n",
    "    return datetime.datetime.fromtimestamp(float(time_in_secs))"
   ]
  },
  {
   "cell_type": "code",
   "execution_count": 50,
   "metadata": {},
   "outputs": [],
   "source": [
    "rating_data = pd.read_csv('../Data/ratings.csv',parse_dates=True,index_col='timestamp',date_parser=dateparse)\n",
    "rating_data_train = pd.read_csv('../Data/ratings_train.csv')\n",
    "rating_data_test = pd.read_csv('../Data/ratings_test.csv')"
   ]
  },
  {
   "cell_type": "code",
   "execution_count": 51,
   "metadata": {},
   "outputs": [
    {
     "data": {
      "text/html": [
       "<div>\n",
       "<style scoped>\n",
       "    .dataframe tbody tr th:only-of-type {\n",
       "        vertical-align: middle;\n",
       "    }\n",
       "\n",
       "    .dataframe tbody tr th {\n",
       "        vertical-align: top;\n",
       "    }\n",
       "\n",
       "    .dataframe thead th {\n",
       "        text-align: right;\n",
       "    }\n",
       "</style>\n",
       "<table border=\"1\" class=\"dataframe\">\n",
       "  <thead>\n",
       "    <tr style=\"text-align: right;\">\n",
       "      <th></th>\n",
       "      <th>userId</th>\n",
       "      <th>movieId</th>\n",
       "      <th>rating</th>\n",
       "    </tr>\n",
       "    <tr>\n",
       "      <th>timestamp</th>\n",
       "      <th></th>\n",
       "      <th></th>\n",
       "      <th></th>\n",
       "    </tr>\n",
       "  </thead>\n",
       "  <tbody>\n",
       "    <tr>\n",
       "      <th>1996-03-29 15:36:55</th>\n",
       "      <td>429</td>\n",
       "      <td>595</td>\n",
       "      <td>5.0</td>\n",
       "    </tr>\n",
       "    <tr>\n",
       "      <th>1996-03-29 15:36:55</th>\n",
       "      <td>429</td>\n",
       "      <td>588</td>\n",
       "      <td>5.0</td>\n",
       "    </tr>\n",
       "    <tr>\n",
       "      <th>1996-03-29 15:36:55</th>\n",
       "      <td>429</td>\n",
       "      <td>590</td>\n",
       "      <td>5.0</td>\n",
       "    </tr>\n",
       "    <tr>\n",
       "      <th>1996-03-29 15:36:55</th>\n",
       "      <td>429</td>\n",
       "      <td>592</td>\n",
       "      <td>5.0</td>\n",
       "    </tr>\n",
       "    <tr>\n",
       "      <th>1996-03-29 15:36:55</th>\n",
       "      <td>429</td>\n",
       "      <td>432</td>\n",
       "      <td>3.0</td>\n",
       "    </tr>\n",
       "  </tbody>\n",
       "</table>\n",
       "</div>"
      ],
      "text/plain": [
       "                     userId  movieId  rating\n",
       "timestamp                                   \n",
       "1996-03-29 15:36:55     429      595     5.0\n",
       "1996-03-29 15:36:55     429      588     5.0\n",
       "1996-03-29 15:36:55     429      590     5.0\n",
       "1996-03-29 15:36:55     429      592     5.0\n",
       "1996-03-29 15:36:55     429      432     3.0"
      ]
     },
     "execution_count": 51,
     "metadata": {},
     "output_type": "execute_result"
    }
   ],
   "source": [
    "rating_data.sort_values(by='timestamp').head()"
   ]
  },
  {
   "cell_type": "code",
   "execution_count": 52,
   "metadata": {},
   "outputs": [
    {
     "data": {
      "text/plain": [
       "<matplotlib.axes._subplots.AxesSubplot at 0x191222c3da0>"
      ]
     },
     "execution_count": 52,
     "metadata": {},
     "output_type": "execute_result"
    },
    {
     "data": {
      "image/png": "[encoded data removed]",
      "text/plain": [
       "<Figure size 432x288 with 1 Axes>"
      ]
     },
     "metadata": {
      "needs_background": "light"
     },
     "output_type": "display_data"
    }
   ],
   "source": [
    "rating_data['rating'].hist(bins=9)"
   ]
  },
  {
   "cell_type": "code",
   "execution_count": 53,
   "metadata": {},
   "outputs": [],
   "source": [
    "# rating_data.loc[rating_data['userId']==514].sort_values(by='timestamp').head()"
   ]
  },
  {
   "cell_type": "code",
   "execution_count": 54,
   "metadata": {},
   "outputs": [
    {
     "data": {
      "text/plain": [
       "610"
      ]
     },
     "execution_count": 54,
     "metadata": {},
     "output_type": "execute_result"
    }
   ],
   "source": [
    "len(rating_data['userId'].unique())"
   ]
  },
  {
   "cell_type": "code",
   "execution_count": 55,
   "metadata": {},
   "outputs": [],
   "source": [
    "# index_split = round(len(rating_data)*0.75)\n",
    "# train_rating_data = rating_data[:index_split].copy()\n",
    "# test_rating_data = rating_data[index_split:].copy()"
   ]
  },
  {
   "cell_type": "code",
   "execution_count": 56,
   "metadata": {},
   "outputs": [],
   "source": [
    "# train_rating_data.head()"
   ]
  },
  {
   "cell_type": "code",
   "execution_count": 57,
   "metadata": {},
   "outputs": [],
   "source": [
    "# test_rating_data.head()"
   ]
  },
  {
   "cell_type": "code",
   "execution_count": 58,
   "metadata": {},
   "outputs": [
    {
     "data": {
      "text/html": [
       "<div>\n",
       "<style scoped>\n",
       "    .dataframe tbody tr th:only-of-type {\n",
       "        vertical-align: middle;\n",
       "    }\n",
       "\n",
       "    .dataframe tbody tr th {\n",
       "        vertical-align: top;\n",
       "    }\n",
       "\n",
       "    .dataframe thead th {\n",
       "        text-align: right;\n",
       "    }\n",
       "</style>\n",
       "<table border=\"1\" class=\"dataframe\">\n",
       "  <thead>\n",
       "    <tr style=\"text-align: right;\">\n",
       "      <th></th>\n",
       "      <th>movieId</th>\n",
       "      <th>title</th>\n",
       "      <th>genres</th>\n",
       "    </tr>\n",
       "  </thead>\n",
       "  <tbody>\n",
       "    <tr>\n",
       "      <th>0</th>\n",
       "      <td>1</td>\n",
       "      <td>Toy Story (1995)</td>\n",
       "      <td>Adventure|Animation|Children|Comedy|Fantasy</td>\n",
       "    </tr>\n",
       "    <tr>\n",
       "      <th>1</th>\n",
       "      <td>2</td>\n",
       "      <td>Jumanji (1995)</td>\n",
       "      <td>Adventure|Children|Fantasy</td>\n",
       "    </tr>\n",
       "    <tr>\n",
       "      <th>2</th>\n",
       "      <td>3</td>\n",
       "      <td>Grumpier Old Men (1995)</td>\n",
       "      <td>Comedy|Romance</td>\n",
       "    </tr>\n",
       "    <tr>\n",
       "      <th>3</th>\n",
       "      <td>4</td>\n",
       "      <td>Waiting to Exhale (1995)</td>\n",
       "      <td>Comedy|Drama|Romance</td>\n",
       "    </tr>\n",
       "    <tr>\n",
       "      <th>4</th>\n",
       "      <td>5</td>\n",
       "      <td>Father of the Bride Part II (1995)</td>\n",
       "      <td>Comedy</td>\n",
       "    </tr>\n",
       "  </tbody>\n",
       "</table>\n",
       "</div>"
      ],
      "text/plain": [
       "   movieId                               title  \\\n",
       "0        1                    Toy Story (1995)   \n",
       "1        2                      Jumanji (1995)   \n",
       "2        3             Grumpier Old Men (1995)   \n",
       "3        4            Waiting to Exhale (1995)   \n",
       "4        5  Father of the Bride Part II (1995)   \n",
       "\n",
       "                                        genres  \n",
       "0  Adventure|Animation|Children|Comedy|Fantasy  \n",
       "1                   Adventure|Children|Fantasy  \n",
       "2                               Comedy|Romance  \n",
       "3                         Comedy|Drama|Romance  \n",
       "4                                       Comedy  "
      ]
     },
     "execution_count": 58,
     "metadata": {},
     "output_type": "execute_result"
    }
   ],
   "source": [
    "movies = pd.read_csv('../Data/movies.csv')\n",
    "movies.head()"
   ]
  },
  {
   "cell_type": "code",
   "execution_count": 59,
   "metadata": {
    "scrolled": true
   },
   "outputs": [
    {
     "data": {
      "text/plain": [
       "[4.0, 3.0, 5.0, 3.5, 4.5, 2.0, 2.5, 1.0, 1.5, 0.5]"
      ]
     },
     "execution_count": 59,
     "metadata": {},
     "output_type": "execute_result"
    }
   ],
   "source": [
    "rating_dist = rating_data['rating'].value_counts()\n",
    "list(rating_dist.index)"
   ]
  },
  {
   "cell_type": "code",
   "execution_count": 60,
   "metadata": {},
   "outputs": [
    {
     "data": {
      "image/png": "[encoded data removed]",
      "text/plain": [
       "<Figure size 432x288 with 1 Axes>"
      ]
     },
     "metadata": {
      "needs_background": "light"
     },
     "output_type": "display_data"
    }
   ],
   "source": [
    "plt.hist(rating_data['rating'])\n",
    "plt.title('Rating Distribution')\n",
    "plt.xlabel('Score')\n",
    "plt.ylabel('Count')\n",
    "plt.xticks(np.arange(0.5, 5.5, 0.5));"
   ]
  },
  {
   "cell_type": "code",
   "execution_count": 61,
   "metadata": {},
   "outputs": [
    {
     "data": {
      "text/plain": [
       "1054    Star Trek: The Motion Picture (1979)\n",
       "Name: title, dtype: object"
      ]
     },
     "execution_count": 61,
     "metadata": {},
     "output_type": "execute_result"
    }
   ],
   "source": [
    "users = list(rating_data['userId'].unique())\n",
    "items = list(rating_data['movieId'].unique())\n",
    "\n",
    "def movie_id_to_name(mid):\n",
    "    return movies.loc[movies['movieId']==mid].title\n",
    "movie_id_to_name(1371)"
   ]
  },
  {
   "cell_type": "markdown",
   "metadata": {},
   "source": [
    "# Aproximaciones con los modelos de Surprise"
   ]
  },
  {
   "cell_type": "code",
   "execution_count": 62,
   "metadata": {},
   "outputs": [],
   "source": [
    "# #reader = Reader(rating_scale= (0.5,5))\n",
    "reader = Reader(rating_scale= (0.5,5),line_format='user item rating timestamp',sep=',')\n",
    "data_full = Dataset.load_from_df(rating_data[['userId','movieId','rating']], reader=reader)\n",
    "\n",
    "# # data_train = Dataset.load_from_df(rating_data_train[['userId','movieId','rating']], reader=reader)\n",
    "# # data_test=Dataset.load_from_df(rating_data_test[['userId','movieId','rating']], reader=reader)"
   ]
  },
  {
   "cell_type": "code",
   "execution_count": 63,
   "metadata": {},
   "outputs": [],
   "source": [
    "# benchmark_train = []\n",
    "# benchmark_test = []\n",
    "\n",
    "# for algoritmo in [SVD(), SVDpp(), SlopeOne(), NMF(), NormalPredictor(), KNNBaseline(), KNNBasic(), KNNWithMeans(), KNNWithZScore(), BaselineOnly(), CoClustering()]:\n",
    "\n",
    "#     resultados_train = cross_validate(algoritmo, data_train, measures=['RMSE','MAE'], cv=3, verbose=False)\n",
    "#     resultados_test = cross_validate(algoritmo, data_test, measures=['RMSE','MAE'], cv=3, verbose=False)\n",
    "       \n",
    "#     tmp_train = pd.DataFrame.from_dict(resultados_train).mean(axis=0)\n",
    "#     tmp_train = tmp_train.append(pd.Series([str(algoritmo).split(' ')[0].split('.')[-1]], index=['Algoritmo']))\n",
    "#     benchmark_train.append(tmp_train)\n",
    "\n",
    "#     tmp_test = pd.DataFrame.from_dict(resultados_test).mean(axis=0)\n",
    "#     tmp_test = tmp_test.append(pd.Series([str(algoritmo).split(' ')[0].split('.')[-1]], index=['Algoritmo']))\n",
    "#     benchmark_test.append(tmp_test)\n",
    "\n",
    "\n",
    "# pd.DataFrame(benchmark_train).set_index('Algoritmo').sort_values('test_rmse')   \n",
    "# pd.DataFrame(benchmark_test).set_index('Algoritmo').sort_values('test_rmse')   "
   ]
  },
  {
   "cell_type": "code",
   "execution_count": 64,
   "metadata": {},
   "outputs": [],
   "source": [
    "# benchmark = []\n",
    "\n",
    "# for algoritmo in [SVD(), SVDpp(), SlopeOne(), NMF(), NormalPredictor(), KNNBaseline(), KNNBasic(), KNNWithMeans(), KNNWithZScore(), BaselineOnly(), CoClustering()]:\n",
    "\n",
    "#     resultados = cross_validate(algoritmo, data_full, measures=['RMSE','MAE'], cv=3, verbose=False)\n",
    " \n",
    "#     tmp = pd.DataFrame.from_dict(resultados).mean(axis=0)\n",
    "#     tmp = tmp.append(pd.Series([str(algoritmo).split(' ')[0].split('.')[-1]], index=['Algoritmo']))\n",
    "#     benchmark.append(tmp)\n",
    "\n",
    "# pd.DataFrame(benchmark).set_index('Algoritmo').sort_values('test_rmse')   "
   ]
  },
  {
   "cell_type": "markdown",
   "metadata": {},
   "source": [
    "# SVD MODEL - Single Value Descomposition"
   ]
  },
  {
   "cell_type": "code",
   "execution_count": 65,
   "metadata": {
    "scrolled": true
   },
   "outputs": [],
   "source": [
    "#reader = Reader(rating_scale= (0.5,5))\n",
    "reader = Reader(rating_scale= (0.5,5),line_format='user item rating timestamp',sep=',')\n",
    "data_test = Dataset.load_from_df(rating_data_test[['userId','movieId','rating']], reader=reader)\n",
    "data_train = Dataset.load_from_df(rating_data_train[['userId','movieId','rating']], reader=reader)"
   ]
  },
  {
   "cell_type": "code",
   "execution_count": 66,
   "metadata": {},
   "outputs": [
    {
     "name": "stdout",
     "output_type": "stream",
     "text": [
      "Evaluating RMSE, MAE of algorithm SVD on 5 split(s).\n",
      "\n",
      "                  Fold 1  Fold 2  Fold 3  Fold 4  Fold 5  Mean    Std     \n",
      "RMSE (testset)    0.8910  0.8883  0.8865  0.8859  0.8836  0.8871  0.0025  \n",
      "MAE (testset)     0.6849  0.6832  0.6814  0.6831  0.6802  0.6826  0.0016  \n",
      "Fit time          5.60    5.15    6.68    5.17    5.27    5.58    0.58    \n",
      "Test time         0.14    0.18    0.16    0.26    0.14    0.18    0.04    \n"
     ]
    },
    {
     "data": {
      "text/plain": [
       "{'test_rmse': array([0.89096692, 0.8882613 , 0.88651382, 0.88594653, 0.88357704]),\n",
       " 'test_mae': array([0.6848942 , 0.68321453, 0.68137755, 0.68308418, 0.68018315]),\n",
       " 'fit_time': (5.604545593261719,\n",
       "  5.151822805404663,\n",
       "  6.68388032913208,\n",
       "  5.165815114974976,\n",
       "  5.270750999450684),\n",
       " 'test_time': (0.1429121494293213,\n",
       "  0.17889165878295898,\n",
       "  0.1589064598083496,\n",
       "  0.2598412036895752,\n",
       "  0.1409134864807129)}"
      ]
     },
     "execution_count": 66,
     "metadata": {},
     "output_type": "execute_result"
    }
   ],
   "source": [
    "svd_model = SVD(n_epochs=20,lr_all=0.005,reg_all=0.02,verbose=False)\n",
    "cross_validate(svd_model, data_train, measures=['RMSE', 'MAE'], cv=5, verbose=True)"
   ]
  },
  {
   "cell_type": "code",
   "execution_count": 67,
   "metadata": {},
   "outputs": [
    {
     "data": {
      "text/plain": [
       "<surprise.prediction_algorithms.matrix_factorization.SVD at 0x1912ff06908>"
      ]
     },
     "execution_count": 67,
     "metadata": {},
     "output_type": "execute_result"
    }
   ],
   "source": [
    "#trainset, testset = train_test_split(data_full, train_size=0.75,shuffle=True)\n",
    "svd_model = SVD(n_epochs=20,lr_all=0.005,reg_all=0.02,verbose=False)\n",
    "svd_model.fit(data_train.build_full_trainset())\n",
    "# svd_model.fit(trainset)"
   ]
  },
  {
   "cell_type": "code",
   "execution_count": 68,
   "metadata": {},
   "outputs": [
    {
     "name": "stdout",
     "output_type": "stream",
     "text": [
      "RMSE: 0.8705\n",
      "MAE:  0.6700\n"
     ]
    },
    {
     "data": {
      "text/plain": [
       "(0.8705482601893809, 0.670035887795179)"
      ]
     },
     "execution_count": 68,
     "metadata": {},
     "output_type": "execute_result"
    }
   ],
   "source": [
    "# predictions = svd_model.test(testset)\n",
    "\n",
    "predictions = svd_model.test(data_test.build_full_trainset().build_testset())\n",
    "accuracy.rmse(predictions),accuracy.mae(predictions)\n"
   ]
  },
  {
   "cell_type": "code",
   "execution_count": 69,
   "metadata": {},
   "outputs": [],
   "source": [
    "#trainset"
   ]
  },
  {
   "cell_type": "code",
   "execution_count": 70,
   "metadata": {},
   "outputs": [],
   "source": [
    "# predictions"
   ]
  },
  {
   "cell_type": "code",
   "execution_count": 71,
   "metadata": {},
   "outputs": [],
   "source": [
    "# trainset.ur"
   ]
  },
  {
   "cell_type": "code",
   "execution_count": 72,
   "metadata": {},
   "outputs": [],
   "source": [
    "# for rating in trainset.all_ratings():\n",
    "#     print(rating)"
   ]
  },
  {
   "cell_type": "code",
   "execution_count": 73,
   "metadata": {},
   "outputs": [],
   "source": [
    "# # save the model to disk\n",
    "\n",
    "# filename = '../pickle_models/svd_first_model.sav'\n",
    "# pickle.dump(svd_model, open(filename, 'wb'))"
   ]
  },
  {
   "cell_type": "code",
   "execution_count": 74,
   "metadata": {},
   "outputs": [],
   "source": [
    "# loaded_model = pickle.load(open(filename, 'rb'))\n",
    "# loaded_"
   ]
  },
  {
   "cell_type": "markdown",
   "metadata": {},
   "source": [
    "# Cross-Validation for SVD"
   ]
  },
  {
   "cell_type": "code",
   "execution_count": 75,
   "metadata": {},
   "outputs": [],
   "source": [
    "param_grid_svd = {'n_factors':[20,40,60,80,100],'n_epochs': [5,10], 'lr_all': [0.002, 0.005], 'reg_all': [0.02,0.04]}"
   ]
  },
  {
   "cell_type": "code",
   "execution_count": 76,
   "metadata": {},
   "outputs": [],
   "source": [
    "gs_svd = GridSearchCV(SVD, param_grid_svd, measures=['mae',\"rmse\", 'fcp'], cv=5, refit=True)"
   ]
  },
  {
   "cell_type": "code",
   "execution_count": 77,
   "metadata": {},
   "outputs": [],
   "source": [
    "gs_svd.fit(data_train)"
   ]
  },
  {
   "cell_type": "code",
   "execution_count": 78,
   "metadata": {},
   "outputs": [
    {
     "data": {
      "text/plain": [
       "{'mae': 0.6846808344349095,\n",
       " 'rmse': 0.887522506462119,\n",
       " 'fcp': 0.6465042137104334}"
      ]
     },
     "execution_count": 78,
     "metadata": {},
     "output_type": "execute_result"
    }
   ],
   "source": [
    "gs_svd.best_score"
   ]
  },
  {
   "cell_type": "code",
   "execution_count": 79,
   "metadata": {},
   "outputs": [
    {
     "data": {
      "text/plain": [
       "{'mae': {'n_factors': 20, 'n_epochs': 10, 'lr_all': 0.005, 'reg_all': 0.04},\n",
       " 'rmse': {'n_factors': 20, 'n_epochs': 10, 'lr_all': 0.005, 'reg_all': 0.04},\n",
       " 'fcp': {'n_factors': 60, 'n_epochs': 10, 'lr_all': 0.005, 'reg_all': 0.04}}"
      ]
     },
     "execution_count": 79,
     "metadata": {},
     "output_type": "execute_result"
    }
   ],
   "source": [
    "gs_svd.best_params"
   ]
  },
  {
   "cell_type": "code",
   "execution_count": 80,
   "metadata": {
    "scrolled": true
   },
   "outputs": [
    {
     "data": {
      "text/plain": [
       "{'mae': <surprise.prediction_algorithms.matrix_factorization.SVD at 0x1912e6ed748>,\n",
       " 'rmse': <surprise.prediction_algorithms.matrix_factorization.SVD at 0x1912e6ed5c0>,\n",
       " 'fcp': <surprise.prediction_algorithms.matrix_factorization.SVD at 0x1912e6ed518>}"
      ]
     },
     "execution_count": 80,
     "metadata": {},
     "output_type": "execute_result"
    }
   ],
   "source": [
    "gs_svd.best_estimator"
   ]
  },
  {
   "cell_type": "code",
   "execution_count": 81,
   "metadata": {},
   "outputs": [],
   "source": [
    "# data_full.build_full_trainset()\n"
   ]
  },
  {
   "cell_type": "code",
   "execution_count": 82,
   "metadata": {},
   "outputs": [],
   "source": [
    "# best_model = SVD(n_epochs=gs1.best_params['mae']['n_epochs'],\n",
    "#                  lr_all=gs1.best_params['mae']['lr_all'],\n",
    "#                  reg_all=gs1.best_params['mae']['reg_all'],\n",
    "#                  verbose=False)\n",
    "# best_model.fit(data_train.build_full_trainset())\n",
    "# best_predictions = best_model.test(data_test.build_full_trainset().build_anti_testset())\n"
   ]
  },
  {
   "cell_type": "code",
   "execution_count": 83,
   "metadata": {},
   "outputs": [
    {
     "data": {
      "text/plain": [
       "{'mae': 0.6846808344349095,\n",
       " 'rmse': 0.887522506462119,\n",
       " 'fcp': 0.6465042137104334}"
      ]
     },
     "execution_count": 83,
     "metadata": {},
     "output_type": "execute_result"
    }
   ],
   "source": [
    "gs_svd.best_score"
   ]
  },
  {
   "cell_type": "code",
   "execution_count": 84,
   "metadata": {},
   "outputs": [
    {
     "data": {
      "text/html": [
       "<div>\n",
       "<style scoped>\n",
       "    .dataframe tbody tr th:only-of-type {\n",
       "        vertical-align: middle;\n",
       "    }\n",
       "\n",
       "    .dataframe tbody tr th {\n",
       "        vertical-align: top;\n",
       "    }\n",
       "\n",
       "    .dataframe thead th {\n",
       "        text-align: right;\n",
       "    }\n",
       "</style>\n",
       "<table border=\"1\" class=\"dataframe\">\n",
       "  <thead>\n",
       "    <tr style=\"text-align: right;\">\n",
       "      <th></th>\n",
       "      <th>model</th>\n",
       "      <th>fcp</th>\n",
       "      <th>mae</th>\n",
       "      <th>rmse</th>\n",
       "    </tr>\n",
       "  </thead>\n",
       "  <tbody>\n",
       "    <tr>\n",
       "      <th>0</th>\n",
       "      <td>SVD</td>\n",
       "      <td>0.646504</td>\n",
       "      <td>0.684681</td>\n",
       "      <td>0.887523</td>\n",
       "    </tr>\n",
       "  </tbody>\n",
       "</table>\n",
       "</div>"
      ],
      "text/plain": [
       "  model       fcp       mae      rmse\n",
       "0   SVD  0.646504  0.684681  0.887523"
      ]
     },
     "execution_count": 84,
     "metadata": {},
     "output_type": "execute_result"
    }
   ],
   "source": [
    "SVD_score = gs_svd.best_score\n",
    "SVD_score['model']='SVD'\n",
    "scores=[]\n",
    "scores.append(SVD_score)\n",
    "results = pd.DataFrame(scores,columns=['model','fcp','mae','rmse'])\n",
    "results"
   ]
  },
  {
   "cell_type": "markdown",
   "metadata": {},
   "source": [
    "## NMF"
   ]
  },
  {
   "cell_type": "code",
   "execution_count": 85,
   "metadata": {},
   "outputs": [],
   "source": [
    "paramgrid_nmf = {'n_factors':[20,40,60,80,100],'n_epochs': [5,10]}"
   ]
  },
  {
   "cell_type": "code",
   "execution_count": 86,
   "metadata": {},
   "outputs": [],
   "source": [
    "gs_nmf = GridSearchCV(NMF, paramgrid_nmf, measures=['mae',\"rmse\", 'fcp'], cv=5, refit=True)"
   ]
  },
  {
   "cell_type": "code",
   "execution_count": 87,
   "metadata": {},
   "outputs": [],
   "source": [
    "gs_nmf.fit(data_train)"
   ]
  },
  {
   "cell_type": "code",
   "execution_count": 88,
   "metadata": {},
   "outputs": [
    {
     "data": {
      "text/plain": [
       "{'mae': 0.9416080087975965,\n",
       " 'rmse': 1.2145904698273735,\n",
       " 'fcp': 0.6341597107295865}"
      ]
     },
     "execution_count": 88,
     "metadata": {},
     "output_type": "execute_result"
    }
   ],
   "source": [
    "gs_nmf.best_score"
   ]
  },
  {
   "cell_type": "code",
   "execution_count": 89,
   "metadata": {},
   "outputs": [
    {
     "data": {
      "text/plain": [
       "{'mae': {'n_factors': 20, 'n_epochs': 10},\n",
       " 'rmse': {'n_factors': 20, 'n_epochs': 10},\n",
       " 'fcp': {'n_factors': 20, 'n_epochs': 10}}"
      ]
     },
     "execution_count": 89,
     "metadata": {},
     "output_type": "execute_result"
    }
   ],
   "source": [
    "gs_nmf.best_params"
   ]
  },
  {
   "cell_type": "code",
   "execution_count": 90,
   "metadata": {
    "scrolled": true
   },
   "outputs": [
    {
     "data": {
      "text/plain": [
       "{'mae': <surprise.prediction_algorithms.matrix_factorization.NMF at 0x1912fcfa518>,\n",
       " 'rmse': <surprise.prediction_algorithms.matrix_factorization.NMF at 0x1912fcfada0>,\n",
       " 'fcp': <surprise.prediction_algorithms.matrix_factorization.NMF at 0x1912fcfa630>}"
      ]
     },
     "execution_count": 90,
     "metadata": {},
     "output_type": "execute_result"
    }
   ],
   "source": [
    "gs_nmf.best_estimator"
   ]
  },
  {
   "cell_type": "code",
   "execution_count": 91,
   "metadata": {},
   "outputs": [
    {
     "data": {
      "text/plain": [
       "{'mae': 0.9416080087975965,\n",
       " 'rmse': 1.2145904698273735,\n",
       " 'fcp': 0.6341597107295865}"
      ]
     },
     "execution_count": 91,
     "metadata": {},
     "output_type": "execute_result"
    }
   ],
   "source": [
    "gs_nmf.best_score"
   ]
  },
  {
   "cell_type": "code",
   "execution_count": 92,
   "metadata": {},
   "outputs": [
    {
     "data": {
      "text/html": [
       "<div>\n",
       "<style scoped>\n",
       "    .dataframe tbody tr th:only-of-type {\n",
       "        vertical-align: middle;\n",
       "    }\n",
       "\n",
       "    .dataframe tbody tr th {\n",
       "        vertical-align: top;\n",
       "    }\n",
       "\n",
       "    .dataframe thead th {\n",
       "        text-align: right;\n",
       "    }\n",
       "</style>\n",
       "<table border=\"1\" class=\"dataframe\">\n",
       "  <thead>\n",
       "    <tr style=\"text-align: right;\">\n",
       "      <th></th>\n",
       "      <th>model</th>\n",
       "      <th>fcp</th>\n",
       "      <th>mae</th>\n",
       "      <th>rmse</th>\n",
       "    </tr>\n",
       "  </thead>\n",
       "  <tbody>\n",
       "    <tr>\n",
       "      <th>0</th>\n",
       "      <td>SVD</td>\n",
       "      <td>0.646504</td>\n",
       "      <td>0.684681</td>\n",
       "      <td>0.887523</td>\n",
       "    </tr>\n",
       "    <tr>\n",
       "      <th>1</th>\n",
       "      <td>NMF</td>\n",
       "      <td>0.634160</td>\n",
       "      <td>0.941608</td>\n",
       "      <td>1.214590</td>\n",
       "    </tr>\n",
       "  </tbody>\n",
       "</table>\n",
       "</div>"
      ],
      "text/plain": [
       "  model       fcp       mae      rmse\n",
       "0   SVD  0.646504  0.684681  0.887523\n",
       "1   NMF  0.634160  0.941608  1.214590"
      ]
     },
     "execution_count": 92,
     "metadata": {},
     "output_type": "execute_result"
    }
   ],
   "source": [
    "NMF_score = gs_nmf.best_score\n",
    "NMF_score['model']='NMF'\n",
    "scores.append(NMF_score)\n",
    "results = pd.DataFrame(scores,columns=['model','fcp','mae','rmse'])\n",
    "results"
   ]
  },
  {
   "cell_type": "code",
   "execution_count": null,
   "metadata": {},
   "outputs": [],
   "source": []
  },
  {
   "cell_type": "code",
   "execution_count": null,
   "metadata": {},
   "outputs": [],
   "source": []
  },
  {
   "cell_type": "code",
   "execution_count": null,
   "metadata": {},
   "outputs": [],
   "source": []
  },
  {
   "cell_type": "code",
   "execution_count": null,
   "metadata": {},
   "outputs": [],
   "source": []
  },
  {
   "cell_type": "code",
   "execution_count": null,
   "metadata": {},
   "outputs": [],
   "source": []
  },
  {
   "cell_type": "code",
   "execution_count": null,
   "metadata": {},
   "outputs": [],
   "source": []
  },
  {
   "cell_type": "markdown",
   "metadata": {},
   "source": [
    "# KNN inspired models"
   ]
  },
  {
   "cell_type": "markdown",
   "metadata": {},
   "source": [
    "## KNNBasic"
   ]
  },
  {
   "cell_type": "code",
   "execution_count": 93,
   "metadata": {},
   "outputs": [],
   "source": [
    "# testset_model_surprise = surprise.Dataset.load_from_df(data_full, reader).build_full_trainset()\n",
    "# trainset_model_surprise = surprise.Dataset.load_from_df(data_full, reader).build_full_trainset()\n",
    "\n",
    "# testset = testset_model_surprise.build_testset()\n",
    "# predictions = knn_basic_gs.fit(trainset_model_surprise).test(testset)\n"
   ]
  },
  {
   "cell_type": "code",
   "execution_count": 94,
   "metadata": {},
   "outputs": [],
   "source": [
    "# #corremos el KNNBasic con los parámetros predefinidos por el modelo\n",
    "# knn_basic = KNNBasic(k=40, sim_options = {'user_based': [True, False]}, verbose=False)\n",
    "# eval_knn_basic = evaluate(knn_basic, data_full, measures=['RMSE', 'MAE'])\n"
   ]
  },
  {
   "cell_type": "code",
   "execution_count": 95,
   "metadata": {},
   "outputs": [],
   "source": [
    "param_grid_KNNBasic =  {'k': [20, 40 ,80, 100], 'sim_options': {'user_based': [True, False]}}\n"
   ]
  },
  {
   "cell_type": "code",
   "execution_count": 96,
   "metadata": {},
   "outputs": [],
   "source": [
    "gs_knnbasic = GridSearchCV(KNNBasic, param_grid_KNNBasic, measures=['rmse', 'mae','fcp'], cv=5,joblib_verbose=0)"
   ]
  },
  {
   "cell_type": "code",
   "execution_count": 97,
   "metadata": {},
   "outputs": [
    {
     "name": "stdout",
     "output_type": "stream",
     "text": [
      "Computing the msd similarity matrix...\n",
      "Done computing similarity matrix.\n",
      "Computing the msd similarity matrix...\n",
      "Done computing similarity matrix.\n",
      "Computing the msd similarity matrix...\n",
      "Done computing similarity matrix.\n",
      "Computing the msd similarity matrix...\n",
      "Done computing similarity matrix.\n",
      "Computing the msd similarity matrix...\n",
      "Done computing similarity matrix.\n",
      "Computing the msd similarity matrix...\n",
      "Done computing similarity matrix.\n",
      "Computing the msd similarity matrix...\n",
      "Done computing similarity matrix.\n",
      "Computing the msd similarity matrix...\n",
      "Done computing similarity matrix.\n",
      "Computing the msd similarity matrix...\n",
      "Done computing similarity matrix.\n",
      "Computing the msd similarity matrix...\n",
      "Done computing similarity matrix.\n",
      "Computing the msd similarity matrix...\n",
      "Done computing similarity matrix.\n",
      "Computing the msd similarity matrix...\n",
      "Done computing similarity matrix.\n",
      "Computing the msd similarity matrix...\n",
      "Done computing similarity matrix.\n",
      "Computing the msd similarity matrix...\n",
      "Done computing similarity matrix.\n",
      "Computing the msd similarity matrix...\n",
      "Done computing similarity matrix.\n",
      "Computing the msd similarity matrix...\n",
      "Done computing similarity matrix.\n",
      "Computing the msd similarity matrix...\n",
      "Done computing similarity matrix.\n",
      "Computing the msd similarity matrix...\n",
      "Done computing similarity matrix.\n",
      "Computing the msd similarity matrix...\n",
      "Done computing similarity matrix.\n",
      "Computing the msd similarity matrix...\n",
      "Done computing similarity matrix.\n",
      "Computing the msd similarity matrix...\n",
      "Done computing similarity matrix.\n",
      "Computing the msd similarity matrix...\n",
      "Done computing similarity matrix.\n",
      "Computing the msd similarity matrix...\n",
      "Done computing similarity matrix.\n",
      "Computing the msd similarity matrix...\n",
      "Done computing similarity matrix.\n",
      "Computing the msd similarity matrix...\n",
      "Done computing similarity matrix.\n",
      "Computing the msd similarity matrix...\n",
      "Done computing similarity matrix.\n",
      "Computing the msd similarity matrix...\n",
      "Done computing similarity matrix.\n",
      "Computing the msd similarity matrix...\n",
      "Done computing similarity matrix.\n",
      "Computing the msd similarity matrix...\n",
      "Done computing similarity matrix.\n",
      "Computing the msd similarity matrix...\n",
      "Done computing similarity matrix.\n",
      "Computing the msd similarity matrix...\n",
      "Done computing similarity matrix.\n",
      "Computing the msd similarity matrix...\n",
      "Done computing similarity matrix.\n",
      "Computing the msd similarity matrix...\n",
      "Done computing similarity matrix.\n",
      "Computing the msd similarity matrix...\n",
      "Done computing similarity matrix.\n",
      "Computing the msd similarity matrix...\n",
      "Done computing similarity matrix.\n",
      "Computing the msd similarity matrix...\n",
      "Done computing similarity matrix.\n",
      "Computing the msd similarity matrix...\n",
      "Done computing similarity matrix.\n",
      "Computing the msd similarity matrix...\n",
      "Done computing similarity matrix.\n",
      "Computing the msd similarity matrix...\n",
      "Done computing similarity matrix.\n",
      "Computing the msd similarity matrix...\n",
      "Done computing similarity matrix.\n"
     ]
    }
   ],
   "source": [
    "gs_knnbasic.fit(data_train)"
   ]
  },
  {
   "cell_type": "code",
   "execution_count": 98,
   "metadata": {},
   "outputs": [
    {
     "data": {
      "text/plain": [
       "{'rmse': 0.9194168143607561,\n",
       " 'mae': 0.7068035769345129,\n",
       " 'fcp': 0.6538921673784814}"
      ]
     },
     "execution_count": 98,
     "metadata": {},
     "output_type": "execute_result"
    }
   ],
   "source": [
    "gs_knnbasic.best_score"
   ]
  },
  {
   "cell_type": "code",
   "execution_count": 99,
   "metadata": {},
   "outputs": [
    {
     "data": {
      "text/plain": [
       "{'rmse': {'k': 80, 'sim_options': {'user_based': False}},\n",
       " 'mae': {'k': 80, 'sim_options': {'user_based': False}},\n",
       " 'fcp': {'k': 20, 'sim_options': {'user_based': True}}}"
      ]
     },
     "execution_count": 99,
     "metadata": {},
     "output_type": "execute_result"
    }
   ],
   "source": [
    "gs_knnbasic.best_params"
   ]
  },
  {
   "cell_type": "code",
   "execution_count": 100,
   "metadata": {},
   "outputs": [
    {
     "data": {
      "text/plain": [
       "{'rmse': <surprise.prediction_algorithms.knns.KNNBasic at 0x1912fcd6dd8>,\n",
       " 'mae': <surprise.prediction_algorithms.knns.KNNBasic at 0x1912fcd6198>,\n",
       " 'fcp': <surprise.prediction_algorithms.knns.KNNBasic at 0x1912fcd6f98>}"
      ]
     },
     "execution_count": 100,
     "metadata": {},
     "output_type": "execute_result"
    }
   ],
   "source": [
    "gs_knnbasic.best_estimator"
   ]
  },
  {
   "cell_type": "code",
   "execution_count": 101,
   "metadata": {},
   "outputs": [
    {
     "data": {
      "text/html": [
       "<div>\n",
       "<style scoped>\n",
       "    .dataframe tbody tr th:only-of-type {\n",
       "        vertical-align: middle;\n",
       "    }\n",
       "\n",
       "    .dataframe tbody tr th {\n",
       "        vertical-align: top;\n",
       "    }\n",
       "\n",
       "    .dataframe thead th {\n",
       "        text-align: right;\n",
       "    }\n",
       "</style>\n",
       "<table border=\"1\" class=\"dataframe\">\n",
       "  <thead>\n",
       "    <tr style=\"text-align: right;\">\n",
       "      <th></th>\n",
       "      <th>model</th>\n",
       "      <th>fcp</th>\n",
       "      <th>mae</th>\n",
       "      <th>rmse</th>\n",
       "    </tr>\n",
       "  </thead>\n",
       "  <tbody>\n",
       "    <tr>\n",
       "      <th>0</th>\n",
       "      <td>SVD</td>\n",
       "      <td>0.646504</td>\n",
       "      <td>0.684681</td>\n",
       "      <td>0.887523</td>\n",
       "    </tr>\n",
       "    <tr>\n",
       "      <th>1</th>\n",
       "      <td>NMF</td>\n",
       "      <td>0.634160</td>\n",
       "      <td>0.941608</td>\n",
       "      <td>1.214590</td>\n",
       "    </tr>\n",
       "    <tr>\n",
       "      <th>2</th>\n",
       "      <td>KNN Basic</td>\n",
       "      <td>0.653892</td>\n",
       "      <td>0.706804</td>\n",
       "      <td>0.919417</td>\n",
       "    </tr>\n",
       "  </tbody>\n",
       "</table>\n",
       "</div>"
      ],
      "text/plain": [
       "       model       fcp       mae      rmse\n",
       "0        SVD  0.646504  0.684681  0.887523\n",
       "1        NMF  0.634160  0.941608  1.214590\n",
       "2  KNN Basic  0.653892  0.706804  0.919417"
      ]
     },
     "execution_count": 101,
     "metadata": {},
     "output_type": "execute_result"
    }
   ],
   "source": [
    "knnbasic_score = gs_knnbasic.best_score\n",
    "knnbasic_score['model']='KNN Basic'\n",
    "scores.append(knnbasic_score)\n",
    "results = pd.DataFrame(scores,columns=['model','fcp','mae','rmse'])\n",
    "results"
   ]
  },
  {
   "cell_type": "code",
   "execution_count": 102,
   "metadata": {},
   "outputs": [],
   "source": [
    "# knn_basic_train= data_full.build_full_trainset()"
   ]
  },
  {
   "cell_type": "code",
   "execution_count": 103,
   "metadata": {},
   "outputs": [],
   "source": [
    "# print(knn_basic_gs.best_score['rmse'])\n",
    "# print(knn_basic_gs.best_params['rmse'])\n",
    "# print(knn_basic_gs.best_estimator['rmse'])"
   ]
  },
  {
   "cell_type": "code",
   "execution_count": 104,
   "metadata": {},
   "outputs": [],
   "source": [
    "# #sim_optionsKNNBasic = {'name': 'cosine', 'user_based':[True,False]}\n",
    " \n",
    "# param_grid_KNNBasic2 =  {'k': [20, 40 ,80, 100], 'sim_options': {'user_based': [True]},\\\n",
    "#               'bsl_options': {'method': ['als', 'sgd']}}\n",
    "# knn_basic_gs2 = GridSearchCV(KNNBasic, param_grid_KNNBasic, measures=['rmse', 'mae'], cv=5)\n",
    "\n",
    "# knn_basic_gs2.fit(data_full)\n"
   ]
  },
  {
   "cell_type": "code",
   "execution_count": 105,
   "metadata": {},
   "outputs": [],
   "source": [
    "# print(knn_basic_gs2.best_score['rmse'])\n",
    "# print(knn_basic_gs2.best_params['rmse'])\n",
    "# print(knn_basic_gs2.best_estimator['rmse'])"
   ]
  },
  {
   "cell_type": "markdown",
   "metadata": {},
   "source": [
    "## KNN With Means"
   ]
  },
  {
   "cell_type": "code",
   "execution_count": 106,
   "metadata": {},
   "outputs": [],
   "source": [
    "param_grid_KNNMeans =  {'k': [20, 40 ,80, 100], 'sim_options': {'user_based': [True, False]}}\n"
   ]
  },
  {
   "cell_type": "code",
   "execution_count": 107,
   "metadata": {},
   "outputs": [],
   "source": [
    "gs_knn_means = GridSearchCV(KNNWithMeans, param_grid_KNNMeans, measures=['rmse', 'mae','fcp'], cv=5,joblib_verbose=0)"
   ]
  },
  {
   "cell_type": "code",
   "execution_count": 108,
   "metadata": {},
   "outputs": [
    {
     "name": "stdout",
     "output_type": "stream",
     "text": [
      "Computing the msd similarity matrix...\n",
      "Done computing similarity matrix.\n",
      "Computing the msd similarity matrix...\n",
      "Done computing similarity matrix.\n",
      "Computing the msd similarity matrix...\n",
      "Done computing similarity matrix.\n",
      "Computing the msd similarity matrix...\n",
      "Done computing similarity matrix.\n",
      "Computing the msd similarity matrix...\n",
      "Done computing similarity matrix.\n",
      "Computing the msd similarity matrix...\n",
      "Done computing similarity matrix.\n",
      "Computing the msd similarity matrix...\n",
      "Done computing similarity matrix.\n",
      "Computing the msd similarity matrix...\n",
      "Done computing similarity matrix.\n",
      "Computing the msd similarity matrix...\n",
      "Done computing similarity matrix.\n",
      "Computing the msd similarity matrix...\n",
      "Done computing similarity matrix.\n",
      "Computing the msd similarity matrix...\n",
      "Done computing similarity matrix.\n",
      "Computing the msd similarity matrix...\n",
      "Done computing similarity matrix.\n",
      "Computing the msd similarity matrix...\n",
      "Done computing similarity matrix.\n",
      "Computing the msd similarity matrix...\n",
      "Done computing similarity matrix.\n",
      "Computing the msd similarity matrix...\n",
      "Done computing similarity matrix.\n",
      "Computing the msd similarity matrix...\n",
      "Done computing similarity matrix.\n",
      "Computing the msd similarity matrix...\n",
      "Done computing similarity matrix.\n",
      "Computing the msd similarity matrix...\n",
      "Done computing similarity matrix.\n",
      "Computing the msd similarity matrix...\n",
      "Done computing similarity matrix.\n",
      "Computing the msd similarity matrix...\n",
      "Done computing similarity matrix.\n",
      "Computing the msd similarity matrix...\n",
      "Done computing similarity matrix.\n",
      "Computing the msd similarity matrix...\n",
      "Done computing similarity matrix.\n",
      "Computing the msd similarity matrix...\n",
      "Done computing similarity matrix.\n",
      "Computing the msd similarity matrix...\n",
      "Done computing similarity matrix.\n",
      "Computing the msd similarity matrix...\n",
      "Done computing similarity matrix.\n",
      "Computing the msd similarity matrix...\n",
      "Done computing similarity matrix.\n",
      "Computing the msd similarity matrix...\n",
      "Done computing similarity matrix.\n",
      "Computing the msd similarity matrix...\n",
      "Done computing similarity matrix.\n",
      "Computing the msd similarity matrix...\n",
      "Done computing similarity matrix.\n",
      "Computing the msd similarity matrix...\n",
      "Done computing similarity matrix.\n",
      "Computing the msd similarity matrix...\n",
      "Done computing similarity matrix.\n",
      "Computing the msd similarity matrix...\n",
      "Done computing similarity matrix.\n",
      "Computing the msd similarity matrix...\n",
      "Done computing similarity matrix.\n",
      "Computing the msd similarity matrix...\n",
      "Done computing similarity matrix.\n",
      "Computing the msd similarity matrix...\n",
      "Done computing similarity matrix.\n",
      "Computing the msd similarity matrix...\n",
      "Done computing similarity matrix.\n",
      "Computing the msd similarity matrix...\n",
      "Done computing similarity matrix.\n",
      "Computing the msd similarity matrix...\n",
      "Done computing similarity matrix.\n",
      "Computing the msd similarity matrix...\n",
      "Done computing similarity matrix.\n",
      "Computing the msd similarity matrix...\n",
      "Done computing similarity matrix.\n"
     ]
    }
   ],
   "source": [
    "gs_knn_means.fit(data_train)\n"
   ]
  },
  {
   "cell_type": "code",
   "execution_count": 109,
   "metadata": {},
   "outputs": [
    {
     "data": {
      "text/plain": [
       "{'rmse': 0.906760150729348,\n",
       " 'mae': 0.6917284366225824,\n",
       " 'fcp': 0.6387956241755208}"
      ]
     },
     "execution_count": 109,
     "metadata": {},
     "output_type": "execute_result"
    }
   ],
   "source": [
    "gs_knn_means.best_score"
   ]
  },
  {
   "cell_type": "code",
   "execution_count": 110,
   "metadata": {},
   "outputs": [
    {
     "data": {
      "text/plain": [
       "{'rmse': {'k': 100, 'sim_options': {'user_based': False}},\n",
       " 'mae': {'k': 100, 'sim_options': {'user_based': False}},\n",
       " 'fcp': {'k': 100, 'sim_options': {'user_based': False}}}"
      ]
     },
     "execution_count": 110,
     "metadata": {},
     "output_type": "execute_result"
    }
   ],
   "source": [
    "gs_knn_means.best_params"
   ]
  },
  {
   "cell_type": "code",
   "execution_count": 111,
   "metadata": {},
   "outputs": [
    {
     "data": {
      "text/plain": [
       "{'rmse': <surprise.prediction_algorithms.knns.KNNWithMeans at 0x19122050c88>,\n",
       " 'mae': <surprise.prediction_algorithms.knns.KNNWithMeans at 0x191222445f8>,\n",
       " 'fcp': <surprise.prediction_algorithms.knns.KNNWithMeans at 0x191222aacc0>}"
      ]
     },
     "execution_count": 111,
     "metadata": {},
     "output_type": "execute_result"
    }
   ],
   "source": [
    "gs_knn_means.best_estimator"
   ]
  },
  {
   "cell_type": "code",
   "execution_count": 112,
   "metadata": {},
   "outputs": [
    {
     "data": {
      "text/html": [
       "<div>\n",
       "<style scoped>\n",
       "    .dataframe tbody tr th:only-of-type {\n",
       "        vertical-align: middle;\n",
       "    }\n",
       "\n",
       "    .dataframe tbody tr th {\n",
       "        vertical-align: top;\n",
       "    }\n",
       "\n",
       "    .dataframe thead th {\n",
       "        text-align: right;\n",
       "    }\n",
       "</style>\n",
       "<table border=\"1\" class=\"dataframe\">\n",
       "  <thead>\n",
       "    <tr style=\"text-align: right;\">\n",
       "      <th></th>\n",
       "      <th>model</th>\n",
       "      <th>fcp</th>\n",
       "      <th>mae</th>\n",
       "      <th>rmse</th>\n",
       "    </tr>\n",
       "  </thead>\n",
       "  <tbody>\n",
       "    <tr>\n",
       "      <th>0</th>\n",
       "      <td>SVD</td>\n",
       "      <td>0.646504</td>\n",
       "      <td>0.684681</td>\n",
       "      <td>0.887523</td>\n",
       "    </tr>\n",
       "    <tr>\n",
       "      <th>1</th>\n",
       "      <td>NMF</td>\n",
       "      <td>0.634160</td>\n",
       "      <td>0.941608</td>\n",
       "      <td>1.214590</td>\n",
       "    </tr>\n",
       "    <tr>\n",
       "      <th>2</th>\n",
       "      <td>KNN Basic</td>\n",
       "      <td>0.653892</td>\n",
       "      <td>0.706804</td>\n",
       "      <td>0.919417</td>\n",
       "    </tr>\n",
       "    <tr>\n",
       "      <th>3</th>\n",
       "      <td>KNN With Means</td>\n",
       "      <td>0.638796</td>\n",
       "      <td>0.691728</td>\n",
       "      <td>0.906760</td>\n",
       "    </tr>\n",
       "  </tbody>\n",
       "</table>\n",
       "</div>"
      ],
      "text/plain": [
       "            model       fcp       mae      rmse\n",
       "0             SVD  0.646504  0.684681  0.887523\n",
       "1             NMF  0.634160  0.941608  1.214590\n",
       "2       KNN Basic  0.653892  0.706804  0.919417\n",
       "3  KNN With Means  0.638796  0.691728  0.906760"
      ]
     },
     "execution_count": 112,
     "metadata": {},
     "output_type": "execute_result"
    }
   ],
   "source": [
    "knn_means_score = gs_knn_means.best_score\n",
    "knn_means_score['model']='KNN With Means'\n",
    "scores.append(knn_means_score)\n",
    "results = pd.DataFrame(scores,columns=['model','fcp','mae','rmse'])\n",
    "results"
   ]
  },
  {
   "cell_type": "code",
   "execution_count": 113,
   "metadata": {},
   "outputs": [],
   "source": [
    "# knn_withmeans = KNNWithMeans(k=40, sim_options = {'user_based': False}, verbose=False)\n",
    "# eval_knn_withmeans = evaluate(knn_withmeans, data_full, measures=['RMSE', 'MAE'])"
   ]
  },
  {
   "cell_type": "code",
   "execution_count": 114,
   "metadata": {},
   "outputs": [],
   "source": [
    "# param_grid_KNNWithMeans = {'k': [40 ,80, 100,150], 'sim_options': {'user_based': [True, False]},\\\n",
    "#               'bsl_options': {'method': ['als', 'sgd']}}\n",
    "# knn_withmeans_gs = GridSearchCV(KNNWithMeans, param_grid_KNNWithMeans, measures=['rmse', 'mae'], cv=5)\n",
    "# knn_withmeans_gs.fit(data_full)\n",
    "# print(knn_withmeans_gs.best_score['rmse'])\n",
    "# print(knn_withmeans_gs.best_params['rmse'])"
   ]
  },
  {
   "cell_type": "markdown",
   "metadata": {},
   "source": [
    "## KNN With ZScore"
   ]
  },
  {
   "cell_type": "code",
   "execution_count": 115,
   "metadata": {},
   "outputs": [],
   "source": [
    "paramgrid_KNN_ZScore =  {'k': [20, 40 ,80, 100], 'sim_options': {'user_based': [True, False]}}\n"
   ]
  },
  {
   "cell_type": "code",
   "execution_count": 116,
   "metadata": {},
   "outputs": [],
   "source": [
    "gs_knn_zscore = GridSearchCV(KNNWithZScore, paramgrid_KNN_ZScore, measures=['rmse', 'mae','fcp'], cv=5,joblib_verbose=0)"
   ]
  },
  {
   "cell_type": "code",
   "execution_count": 117,
   "metadata": {},
   "outputs": [
    {
     "name": "stdout",
     "output_type": "stream",
     "text": [
      "Computing the msd similarity matrix...\n",
      "Done computing similarity matrix.\n",
      "Computing the msd similarity matrix...\n",
      "Done computing similarity matrix.\n",
      "Computing the msd similarity matrix...\n",
      "Done computing similarity matrix.\n",
      "Computing the msd similarity matrix...\n",
      "Done computing similarity matrix.\n",
      "Computing the msd similarity matrix...\n",
      "Done computing similarity matrix.\n",
      "Computing the msd similarity matrix...\n",
      "Done computing similarity matrix.\n",
      "Computing the msd similarity matrix...\n",
      "Done computing similarity matrix.\n",
      "Computing the msd similarity matrix...\n",
      "Done computing similarity matrix.\n",
      "Computing the msd similarity matrix...\n",
      "Done computing similarity matrix.\n",
      "Computing the msd similarity matrix...\n",
      "Done computing similarity matrix.\n",
      "Computing the msd similarity matrix...\n",
      "Done computing similarity matrix.\n",
      "Computing the msd similarity matrix...\n",
      "Done computing similarity matrix.\n",
      "Computing the msd similarity matrix...\n",
      "Done computing similarity matrix.\n",
      "Computing the msd similarity matrix...\n",
      "Done computing similarity matrix.\n",
      "Computing the msd similarity matrix...\n",
      "Done computing similarity matrix.\n",
      "Computing the msd similarity matrix...\n",
      "Done computing similarity matrix.\n",
      "Computing the msd similarity matrix...\n",
      "Done computing similarity matrix.\n",
      "Computing the msd similarity matrix...\n",
      "Done computing similarity matrix.\n",
      "Computing the msd similarity matrix...\n",
      "Done computing similarity matrix.\n",
      "Computing the msd similarity matrix...\n",
      "Done computing similarity matrix.\n",
      "Computing the msd similarity matrix...\n",
      "Done computing similarity matrix.\n",
      "Computing the msd similarity matrix...\n",
      "Done computing similarity matrix.\n",
      "Computing the msd similarity matrix...\n",
      "Done computing similarity matrix.\n",
      "Computing the msd similarity matrix...\n",
      "Done computing similarity matrix.\n",
      "Computing the msd similarity matrix...\n",
      "Done computing similarity matrix.\n",
      "Computing the msd similarity matrix...\n",
      "Done computing similarity matrix.\n",
      "Computing the msd similarity matrix...\n",
      "Done computing similarity matrix.\n",
      "Computing the msd similarity matrix...\n",
      "Done computing similarity matrix.\n",
      "Computing the msd similarity matrix...\n",
      "Done computing similarity matrix.\n",
      "Computing the msd similarity matrix...\n",
      "Done computing similarity matrix.\n",
      "Computing the msd similarity matrix...\n",
      "Done computing similarity matrix.\n",
      "Computing the msd similarity matrix...\n",
      "Done computing similarity matrix.\n",
      "Computing the msd similarity matrix...\n",
      "Done computing similarity matrix.\n",
      "Computing the msd similarity matrix...\n",
      "Done computing similarity matrix.\n",
      "Computing the msd similarity matrix...\n",
      "Done computing similarity matrix.\n",
      "Computing the msd similarity matrix...\n",
      "Done computing similarity matrix.\n",
      "Computing the msd similarity matrix...\n",
      "Done computing similarity matrix.\n",
      "Computing the msd similarity matrix...\n",
      "Done computing similarity matrix.\n",
      "Computing the msd similarity matrix...\n",
      "Done computing similarity matrix.\n",
      "Computing the msd similarity matrix...\n",
      "Done computing similarity matrix.\n"
     ]
    }
   ],
   "source": [
    "gs_knn_zscore.fit(data_train)\n"
   ]
  },
  {
   "cell_type": "code",
   "execution_count": 118,
   "metadata": {},
   "outputs": [
    {
     "data": {
      "text/plain": [
       "{'rmse': 0.913103561203253,\n",
       " 'mae': 0.6926273071784358,\n",
       " 'fcp': 0.6323516680194362}"
      ]
     },
     "execution_count": 118,
     "metadata": {},
     "output_type": "execute_result"
    }
   ],
   "source": [
    "gs_knn_zscore.best_score"
   ]
  },
  {
   "cell_type": "code",
   "execution_count": 119,
   "metadata": {},
   "outputs": [
    {
     "data": {
      "text/plain": [
       "{'rmse': {'k': 100, 'sim_options': {'user_based': False}},\n",
       " 'mae': {'k': 80, 'sim_options': {'user_based': True}},\n",
       " 'fcp': {'k': 100, 'sim_options': {'user_based': False}}}"
      ]
     },
     "execution_count": 119,
     "metadata": {},
     "output_type": "execute_result"
    }
   ],
   "source": [
    "gs_knn_zscore.best_params"
   ]
  },
  {
   "cell_type": "code",
   "execution_count": 120,
   "metadata": {},
   "outputs": [
    {
     "data": {
      "text/plain": [
       "{'rmse': <surprise.prediction_algorithms.knns.KNNWithZScore at 0x1912fd01278>,\n",
       " 'mae': <surprise.prediction_algorithms.knns.KNNWithZScore at 0x1912fd01550>,\n",
       " 'fcp': <surprise.prediction_algorithms.knns.KNNWithZScore at 0x1912fd01940>}"
      ]
     },
     "execution_count": 120,
     "metadata": {},
     "output_type": "execute_result"
    }
   ],
   "source": [
    "gs_knn_zscore.best_estimator"
   ]
  },
  {
   "cell_type": "code",
   "execution_count": 121,
   "metadata": {
    "scrolled": true
   },
   "outputs": [
    {
     "data": {
      "text/html": [
       "<div>\n",
       "<style scoped>\n",
       "    .dataframe tbody tr th:only-of-type {\n",
       "        vertical-align: middle;\n",
       "    }\n",
       "\n",
       "    .dataframe tbody tr th {\n",
       "        vertical-align: top;\n",
       "    }\n",
       "\n",
       "    .dataframe thead th {\n",
       "        text-align: right;\n",
       "    }\n",
       "</style>\n",
       "<table border=\"1\" class=\"dataframe\">\n",
       "  <thead>\n",
       "    <tr style=\"text-align: right;\">\n",
       "      <th></th>\n",
       "      <th>model</th>\n",
       "      <th>fcp</th>\n",
       "      <th>mae</th>\n",
       "      <th>rmse</th>\n",
       "    </tr>\n",
       "  </thead>\n",
       "  <tbody>\n",
       "    <tr>\n",
       "      <th>0</th>\n",
       "      <td>SVD</td>\n",
       "      <td>0.646504</td>\n",
       "      <td>0.684681</td>\n",
       "      <td>0.887523</td>\n",
       "    </tr>\n",
       "    <tr>\n",
       "      <th>1</th>\n",
       "      <td>NMF</td>\n",
       "      <td>0.634160</td>\n",
       "      <td>0.941608</td>\n",
       "      <td>1.214590</td>\n",
       "    </tr>\n",
       "    <tr>\n",
       "      <th>2</th>\n",
       "      <td>KNN Basic</td>\n",
       "      <td>0.653892</td>\n",
       "      <td>0.706804</td>\n",
       "      <td>0.919417</td>\n",
       "    </tr>\n",
       "    <tr>\n",
       "      <th>3</th>\n",
       "      <td>KNN With Means</td>\n",
       "      <td>0.638796</td>\n",
       "      <td>0.691728</td>\n",
       "      <td>0.906760</td>\n",
       "    </tr>\n",
       "    <tr>\n",
       "      <th>4</th>\n",
       "      <td>KNN With Z-Score</td>\n",
       "      <td>0.632352</td>\n",
       "      <td>0.692627</td>\n",
       "      <td>0.913104</td>\n",
       "    </tr>\n",
       "  </tbody>\n",
       "</table>\n",
       "</div>"
      ],
      "text/plain": [
       "              model       fcp       mae      rmse\n",
       "0               SVD  0.646504  0.684681  0.887523\n",
       "1               NMF  0.634160  0.941608  1.214590\n",
       "2         KNN Basic  0.653892  0.706804  0.919417\n",
       "3    KNN With Means  0.638796  0.691728  0.906760\n",
       "4  KNN With Z-Score  0.632352  0.692627  0.913104"
      ]
     },
     "execution_count": 121,
     "metadata": {},
     "output_type": "execute_result"
    }
   ],
   "source": [
    "knn_zscore_score = gs_knn_zscore.best_score\n",
    "knn_zscore_score['model']='KNN With Z-Score'\n",
    "scores.append(knn_zscore_score)\n",
    "results = pd.DataFrame(scores,columns=['model','fcp','mae','rmse'])\n",
    "results"
   ]
  },
  {
   "cell_type": "code",
   "execution_count": null,
   "metadata": {},
   "outputs": [],
   "source": []
  },
  {
   "cell_type": "markdown",
   "metadata": {},
   "source": [
    "## KNN BAseline"
   ]
  },
  {
   "cell_type": "code",
   "execution_count": 122,
   "metadata": {},
   "outputs": [],
   "source": [
    "# knn_baseline = KNNBaseline(k=40, sim_options = {'user_based': False}, verbose=False)\n",
    "# eval_knn_baseline = evaluate(knn_baseline, data_full, measures=['RMSE', 'MAE'])"
   ]
  },
  {
   "cell_type": "code",
   "execution_count": 123,
   "metadata": {},
   "outputs": [],
   "source": [
    "param_grid_KNNBaseline =  {'k': [20, 40 ,80, 100], 'sim_options': {'user_based': [True, False]}}\n"
   ]
  },
  {
   "cell_type": "code",
   "execution_count": 124,
   "metadata": {},
   "outputs": [],
   "source": [
    "gs_knnbaseline = GridSearchCV(KNNBaseline, param_grid_KNNBaseline, measures=['rmse', 'mae','fcp'], cv=5,joblib_verbose=0)"
   ]
  },
  {
   "cell_type": "code",
   "execution_count": 125,
   "metadata": {},
   "outputs": [
    {
     "name": "stdout",
     "output_type": "stream",
     "text": [
      "Estimating biases using als...\n",
      "Computing the msd similarity matrix...\n",
      "Done computing similarity matrix.\n",
      "Estimating biases using als...\n",
      "Computing the msd similarity matrix...\n",
      "Done computing similarity matrix.\n",
      "Estimating biases using als...\n",
      "Computing the msd similarity matrix...\n",
      "Done computing similarity matrix.\n",
      "Estimating biases using als...\n",
      "Computing the msd similarity matrix...\n",
      "Done computing similarity matrix.\n",
      "Estimating biases using als...\n",
      "Computing the msd similarity matrix...\n",
      "Done computing similarity matrix.\n",
      "Estimating biases using als...\n",
      "Computing the msd similarity matrix...\n",
      "Done computing similarity matrix.\n",
      "Estimating biases using als...\n",
      "Computing the msd similarity matrix...\n",
      "Done computing similarity matrix.\n",
      "Estimating biases using als...\n",
      "Computing the msd similarity matrix...\n",
      "Done computing similarity matrix.\n",
      "Estimating biases using als...\n",
      "Computing the msd similarity matrix...\n",
      "Done computing similarity matrix.\n",
      "Estimating biases using als...\n",
      "Computing the msd similarity matrix...\n",
      "Done computing similarity matrix.\n",
      "Estimating biases using als...\n",
      "Computing the msd similarity matrix...\n",
      "Done computing similarity matrix.\n",
      "Estimating biases using als...\n",
      "Computing the msd similarity matrix...\n",
      "Done computing similarity matrix.\n",
      "Estimating biases using als...\n",
      "Computing the msd similarity matrix...\n",
      "Done computing similarity matrix.\n",
      "Estimating biases using als...\n",
      "Computing the msd similarity matrix...\n",
      "Done computing similarity matrix.\n",
      "Estimating biases using als...\n",
      "Computing the msd similarity matrix...\n",
      "Done computing similarity matrix.\n",
      "Estimating biases using als...\n",
      "Computing the msd similarity matrix...\n",
      "Done computing similarity matrix.\n",
      "Estimating biases using als...\n",
      "Computing the msd similarity matrix...\n",
      "Done computing similarity matrix.\n",
      "Estimating biases using als...\n",
      "Computing the msd similarity matrix...\n",
      "Done computing similarity matrix.\n",
      "Estimating biases using als...\n",
      "Computing the msd similarity matrix...\n",
      "Done computing similarity matrix.\n",
      "Estimating biases using als...\n",
      "Computing the msd similarity matrix...\n",
      "Done computing similarity matrix.\n",
      "Estimating biases using als...\n",
      "Computing the msd similarity matrix...\n",
      "Done computing similarity matrix.\n",
      "Estimating biases using als...\n",
      "Computing the msd similarity matrix...\n",
      "Done computing similarity matrix.\n",
      "Estimating biases using als...\n",
      "Computing the msd similarity matrix...\n",
      "Done computing similarity matrix.\n",
      "Estimating biases using als...\n",
      "Computing the msd similarity matrix...\n",
      "Done computing similarity matrix.\n",
      "Estimating biases using als...\n",
      "Computing the msd similarity matrix...\n",
      "Done computing similarity matrix.\n",
      "Estimating biases using als...\n",
      "Computing the msd similarity matrix...\n",
      "Done computing similarity matrix.\n",
      "Estimating biases using als...\n",
      "Computing the msd similarity matrix...\n",
      "Done computing similarity matrix.\n",
      "Estimating biases using als...\n",
      "Computing the msd similarity matrix...\n",
      "Done computing similarity matrix.\n",
      "Estimating biases using als...\n",
      "Computing the msd similarity matrix...\n",
      "Done computing similarity matrix.\n",
      "Estimating biases using als...\n",
      "Computing the msd similarity matrix...\n",
      "Done computing similarity matrix.\n",
      "Estimating biases using als...\n",
      "Computing the msd similarity matrix...\n",
      "Done computing similarity matrix.\n",
      "Estimating biases using als...\n",
      "Computing the msd similarity matrix...\n",
      "Done computing similarity matrix.\n",
      "Estimating biases using als...\n",
      "Computing the msd similarity matrix...\n",
      "Done computing similarity matrix.\n",
      "Estimating biases using als...\n",
      "Computing the msd similarity matrix...\n",
      "Done computing similarity matrix.\n",
      "Estimating biases using als...\n",
      "Computing the msd similarity matrix...\n",
      "Done computing similarity matrix.\n",
      "Estimating biases using als...\n",
      "Computing the msd similarity matrix...\n",
      "Done computing similarity matrix.\n",
      "Estimating biases using als...\n",
      "Computing the msd similarity matrix...\n",
      "Done computing similarity matrix.\n",
      "Estimating biases using als...\n",
      "Computing the msd similarity matrix...\n",
      "Done computing similarity matrix.\n",
      "Estimating biases using als...\n",
      "Computing the msd similarity matrix...\n",
      "Done computing similarity matrix.\n",
      "Estimating biases using als...\n",
      "Computing the msd similarity matrix...\n",
      "Done computing similarity matrix.\n"
     ]
    }
   ],
   "source": [
    "gs_knnbaseline.fit(data_train)\n"
   ]
  },
  {
   "cell_type": "code",
   "execution_count": 126,
   "metadata": {},
   "outputs": [
    {
     "data": {
      "text/plain": [
       "{'rmse': 0.8716755410687529,\n",
       " 'mae': 0.6677905697878039,\n",
       " 'fcp': 0.6613140009253531}"
      ]
     },
     "execution_count": 126,
     "metadata": {},
     "output_type": "execute_result"
    }
   ],
   "source": [
    "gs_knnbaseline.best_score"
   ]
  },
  {
   "cell_type": "code",
   "execution_count": 127,
   "metadata": {},
   "outputs": [
    {
     "data": {
      "text/plain": [
       "{'rmse': {'k': 100, 'sim_options': {'user_based': False}},\n",
       " 'mae': {'k': 100, 'sim_options': {'user_based': False}},\n",
       " 'fcp': {'k': 100, 'sim_options': {'user_based': False}}}"
      ]
     },
     "execution_count": 127,
     "metadata": {},
     "output_type": "execute_result"
    }
   ],
   "source": [
    "gs_knnbaseline.best_params"
   ]
  },
  {
   "cell_type": "code",
   "execution_count": 128,
   "metadata": {},
   "outputs": [
    {
     "data": {
      "text/plain": [
       "{'rmse': <surprise.prediction_algorithms.knns.KNNBaseline at 0x1912fd01ba8>,\n",
       " 'mae': <surprise.prediction_algorithms.knns.KNNBaseline at 0x1912e6ed470>,\n",
       " 'fcp': <surprise.prediction_algorithms.knns.KNNBaseline at 0x1912e6ed4e0>}"
      ]
     },
     "execution_count": 128,
     "metadata": {},
     "output_type": "execute_result"
    }
   ],
   "source": [
    "gs_knnbaseline.best_estimator"
   ]
  },
  {
   "cell_type": "code",
   "execution_count": 129,
   "metadata": {
    "scrolled": true
   },
   "outputs": [
    {
     "data": {
      "text/html": [
       "<div>\n",
       "<style scoped>\n",
       "    .dataframe tbody tr th:only-of-type {\n",
       "        vertical-align: middle;\n",
       "    }\n",
       "\n",
       "    .dataframe tbody tr th {\n",
       "        vertical-align: top;\n",
       "    }\n",
       "\n",
       "    .dataframe thead th {\n",
       "        text-align: right;\n",
       "    }\n",
       "</style>\n",
       "<table border=\"1\" class=\"dataframe\">\n",
       "  <thead>\n",
       "    <tr style=\"text-align: right;\">\n",
       "      <th></th>\n",
       "      <th>model</th>\n",
       "      <th>fcp</th>\n",
       "      <th>mae</th>\n",
       "      <th>rmse</th>\n",
       "    </tr>\n",
       "  </thead>\n",
       "  <tbody>\n",
       "    <tr>\n",
       "      <th>0</th>\n",
       "      <td>SVD</td>\n",
       "      <td>0.646504</td>\n",
       "      <td>0.684681</td>\n",
       "      <td>0.887523</td>\n",
       "    </tr>\n",
       "    <tr>\n",
       "      <th>1</th>\n",
       "      <td>NMF</td>\n",
       "      <td>0.634160</td>\n",
       "      <td>0.941608</td>\n",
       "      <td>1.214590</td>\n",
       "    </tr>\n",
       "    <tr>\n",
       "      <th>2</th>\n",
       "      <td>KNN Basic</td>\n",
       "      <td>0.653892</td>\n",
       "      <td>0.706804</td>\n",
       "      <td>0.919417</td>\n",
       "    </tr>\n",
       "    <tr>\n",
       "      <th>3</th>\n",
       "      <td>KNN With Means</td>\n",
       "      <td>0.638796</td>\n",
       "      <td>0.691728</td>\n",
       "      <td>0.906760</td>\n",
       "    </tr>\n",
       "    <tr>\n",
       "      <th>4</th>\n",
       "      <td>KNN With Z-Score</td>\n",
       "      <td>0.632352</td>\n",
       "      <td>0.692627</td>\n",
       "      <td>0.913104</td>\n",
       "    </tr>\n",
       "    <tr>\n",
       "      <th>5</th>\n",
       "      <td>KNN Baseline</td>\n",
       "      <td>0.661314</td>\n",
       "      <td>0.667791</td>\n",
       "      <td>0.871676</td>\n",
       "    </tr>\n",
       "  </tbody>\n",
       "</table>\n",
       "</div>"
      ],
      "text/plain": [
       "              model       fcp       mae      rmse\n",
       "0               SVD  0.646504  0.684681  0.887523\n",
       "1               NMF  0.634160  0.941608  1.214590\n",
       "2         KNN Basic  0.653892  0.706804  0.919417\n",
       "3    KNN With Means  0.638796  0.691728  0.906760\n",
       "4  KNN With Z-Score  0.632352  0.692627  0.913104\n",
       "5      KNN Baseline  0.661314  0.667791  0.871676"
      ]
     },
     "execution_count": 129,
     "metadata": {},
     "output_type": "execute_result"
    }
   ],
   "source": [
    "knn_baseline_score = gs_knnbaseline.best_score\n",
    "knn_baseline_score['model']='KNN Baseline'\n",
    "scores.append(knn_baseline_score)\n",
    "results = pd.DataFrame(scores,columns=['model','fcp','mae','rmse'])\n",
    "results"
   ]
  },
  {
   "cell_type": "code",
   "execution_count": 130,
   "metadata": {},
   "outputs": [],
   "source": [
    "\n",
    "# print(knn_baseline_gs.best_score['rmse'])\n",
    "# print(knn_baseline_gs.best_params['rmse'])"
   ]
  },
  {
   "cell_type": "markdown",
   "metadata": {},
   "source": [
    "# Co-clustering"
   ]
  },
  {
   "cell_type": "code",
   "execution_count": 131,
   "metadata": {},
   "outputs": [],
   "source": [
    "# co_clustering = CoClustering(n_cltr_u=3, n_cltr_i=3 , n_epochs=20, random_state=12)\n",
    "# eval_co_clustering = evaluate(co_clustering, data_full, measures=['RMSE', 'MAE'])"
   ]
  },
  {
   "cell_type": "code",
   "execution_count": 132,
   "metadata": {},
   "outputs": [],
   "source": [
    "param_grid_co_clustering = {'n_cltr_u': [3, 5, 10, 15], 'n_cltr_i': [3, 5,10, 15], 'n_epochs':[5,10]}"
   ]
  },
  {
   "cell_type": "code",
   "execution_count": 133,
   "metadata": {},
   "outputs": [],
   "source": [
    "gs_coclustering = GridSearchCV(CoClustering, param_grid_co_clustering, measures=['rmse', 'mae','fcp'], cv=5)"
   ]
  },
  {
   "cell_type": "code",
   "execution_count": 134,
   "metadata": {},
   "outputs": [],
   "source": [
    "gs_coclustering.fit(data_train)"
   ]
  },
  {
   "cell_type": "code",
   "execution_count": 135,
   "metadata": {},
   "outputs": [
    {
     "data": {
      "text/plain": [
       "{'rmse': 0.9620976879139775,\n",
       " 'mae': 0.7441746062245173,\n",
       " 'fcp': 0.6216885987335394}"
      ]
     },
     "execution_count": 135,
     "metadata": {},
     "output_type": "execute_result"
    }
   ],
   "source": [
    "gs_coclustering.best_score"
   ]
  },
  {
   "cell_type": "code",
   "execution_count": 136,
   "metadata": {},
   "outputs": [
    {
     "data": {
      "text/plain": [
       "{'rmse': {'n_cltr_u': 3, 'n_cltr_i': 3, 'n_epochs': 10},\n",
       " 'mae': {'n_cltr_u': 5, 'n_cltr_i': 3, 'n_epochs': 10},\n",
       " 'fcp': {'n_cltr_u': 15, 'n_cltr_i': 3, 'n_epochs': 10}}"
      ]
     },
     "execution_count": 136,
     "metadata": {},
     "output_type": "execute_result"
    }
   ],
   "source": [
    "gs_coclustering.best_params"
   ]
  },
  {
   "cell_type": "code",
   "execution_count": 137,
   "metadata": {},
   "outputs": [
    {
     "data": {
      "text/plain": [
       "{'rmse': <surprise.prediction_algorithms.co_clustering.CoClustering at 0x1912fd54f60>,\n",
       " 'mae': <surprise.prediction_algorithms.co_clustering.CoClustering at 0x1912fd54e10>,\n",
       " 'fcp': <surprise.prediction_algorithms.co_clustering.CoClustering at 0x1912fd549e8>}"
      ]
     },
     "execution_count": 137,
     "metadata": {},
     "output_type": "execute_result"
    }
   ],
   "source": [
    "gs_coclustering.best_estimator"
   ]
  },
  {
   "cell_type": "code",
   "execution_count": 138,
   "metadata": {
    "scrolled": true
   },
   "outputs": [
    {
     "data": {
      "text/html": [
       "<div>\n",
       "<style scoped>\n",
       "    .dataframe tbody tr th:only-of-type {\n",
       "        vertical-align: middle;\n",
       "    }\n",
       "\n",
       "    .dataframe tbody tr th {\n",
       "        vertical-align: top;\n",
       "    }\n",
       "\n",
       "    .dataframe thead th {\n",
       "        text-align: right;\n",
       "    }\n",
       "</style>\n",
       "<table border=\"1\" class=\"dataframe\">\n",
       "  <thead>\n",
       "    <tr style=\"text-align: right;\">\n",
       "      <th></th>\n",
       "      <th>model</th>\n",
       "      <th>fcp</th>\n",
       "      <th>mae</th>\n",
       "      <th>rmse</th>\n",
       "    </tr>\n",
       "  </thead>\n",
       "  <tbody>\n",
       "    <tr>\n",
       "      <th>0</th>\n",
       "      <td>SVD</td>\n",
       "      <td>0.646504</td>\n",
       "      <td>0.684681</td>\n",
       "      <td>0.887523</td>\n",
       "    </tr>\n",
       "    <tr>\n",
       "      <th>1</th>\n",
       "      <td>NMF</td>\n",
       "      <td>0.634160</td>\n",
       "      <td>0.941608</td>\n",
       "      <td>1.214590</td>\n",
       "    </tr>\n",
       "    <tr>\n",
       "      <th>2</th>\n",
       "      <td>KNN Basic</td>\n",
       "      <td>0.653892</td>\n",
       "      <td>0.706804</td>\n",
       "      <td>0.919417</td>\n",
       "    </tr>\n",
       "    <tr>\n",
       "      <th>3</th>\n",
       "      <td>KNN With Means</td>\n",
       "      <td>0.638796</td>\n",
       "      <td>0.691728</td>\n",
       "      <td>0.906760</td>\n",
       "    </tr>\n",
       "    <tr>\n",
       "      <th>4</th>\n",
       "      <td>KNN With Z-Score</td>\n",
       "      <td>0.632352</td>\n",
       "      <td>0.692627</td>\n",
       "      <td>0.913104</td>\n",
       "    </tr>\n",
       "    <tr>\n",
       "      <th>5</th>\n",
       "      <td>KNN Baseline</td>\n",
       "      <td>0.661314</td>\n",
       "      <td>0.667791</td>\n",
       "      <td>0.871676</td>\n",
       "    </tr>\n",
       "    <tr>\n",
       "      <th>6</th>\n",
       "      <td>Co-Clustering</td>\n",
       "      <td>0.621689</td>\n",
       "      <td>0.744175</td>\n",
       "      <td>0.962098</td>\n",
       "    </tr>\n",
       "  </tbody>\n",
       "</table>\n",
       "</div>"
      ],
      "text/plain": [
       "              model       fcp       mae      rmse\n",
       "0               SVD  0.646504  0.684681  0.887523\n",
       "1               NMF  0.634160  0.941608  1.214590\n",
       "2         KNN Basic  0.653892  0.706804  0.919417\n",
       "3    KNN With Means  0.638796  0.691728  0.906760\n",
       "4  KNN With Z-Score  0.632352  0.692627  0.913104\n",
       "5      KNN Baseline  0.661314  0.667791  0.871676\n",
       "6     Co-Clustering  0.621689  0.744175  0.962098"
      ]
     },
     "execution_count": 138,
     "metadata": {},
     "output_type": "execute_result"
    }
   ],
   "source": [
    "coclustering_score = gs_coclustering.best_score\n",
    "coclustering_score['model']='Co-Clustering'\n",
    "scores.append(coclustering_score)\n",
    "results = pd.DataFrame(scores,columns=['model','fcp','mae','rmse'])\n",
    "results"
   ]
  },
  {
   "cell_type": "code",
   "execution_count": null,
   "metadata": {},
   "outputs": [],
   "source": [
    "# print(co_clustering_gs.best_score['rmse'])\n",
    "# print(co_clustering_gs.best_params['rmse'])"
   ]
  },
  {
   "cell_type": "code",
   "execution_count": null,
   "metadata": {},
   "outputs": [],
   "source": []
  },
  {
   "cell_type": "code",
   "execution_count": 166,
   "metadata": {},
   "outputs": [],
   "source": [
    "from collections import defaultdict\n",
    "\n",
    "def get_top_n(predictions, n=10):\n",
    "    '''Return the top-N recommendation for each user from a set of predictions.\n",
    "\n",
    "    Args:\n",
    "        predictions(list of Prediction objects): The list of predictions, as\n",
    "            returned by the test method of an algorithm.\n",
    "        n(int): The number of recommendation to output for each user. Default\n",
    "            is 10.\n",
    "\n",
    "    Returns:\n",
    "    A dict where keys are user (raw) ids and values are lists of tuples:\n",
    "        [(raw item id, rating estimation), ...] of size n.\n",
    "    '''\n",
    "\n",
    "    # First map the predictions to each user.\n",
    "    top_n = defaultdict(list)\n",
    "    for uid, iid, true_r, est, _ in predictions:\n",
    "        top_n[uid].append((iid, est))\n",
    "\n",
    "    # Then sort the predictions for each user and retrieve the k highest ones.\n",
    "    for uid, user_ratings in top_n.items():\n",
    "        user_ratings.sort(key=lambda x: x[1], reverse=True)\n",
    "        top_n[uid] = user_ratings[:n]\n",
    "\n",
    "    return top_n\n",
    "\n",
    "def get_user_recommendations(uid,top_n):\n",
    "    titles=[]\n",
    "    for mid,_ in top_n[uid]:\n",
    "        titles.append((mid,movies.loc[movies['movieId']==mid,'title'].values[0]))\n",
    "    return titles"
   ]
  },
  {
   "cell_type": "code",
   "execution_count": null,
   "metadata": {},
   "outputs": [],
   "source": [
    "# # First train an SVD algorithm on the movielens dataset.\n",
    "# trainset = data_sp.build_full_trainset()\n",
    "# best_model = SVD(n_epochs=gs1.best_params['rmse']['n_epochs'],lr_all=gs1.best_params['rmse']['lr_all'],reg_all=gs1.best_params['rmse']['reg_all'],verbose=False)\n",
    "# best_model.fit(trainset)\n",
    "\n",
    "# # Than predict ratings for all pairs (u, i) that are NOT in the training set.\n",
    "# testset = trainset.build_anti_testset()\n",
    "# predictions = best_model.test(testset)"
   ]
  },
  {
   "cell_type": "markdown",
   "metadata": {},
   "source": [
    "## Best Matrix Factorization Model: SVD"
   ]
  },
  {
   "cell_type": "code",
   "execution_count": 139,
   "metadata": {},
   "outputs": [
    {
     "data": {
      "text/plain": [
       "<surprise.prediction_algorithms.matrix_factorization.SVD at 0x1912e6ed748>"
      ]
     },
     "execution_count": 139,
     "metadata": {},
     "output_type": "execute_result"
    }
   ],
   "source": [
    "best_SVD = gs_svd.best_estimator['mae']\n",
    "best_SVD.fit(data_train.build_full_trainset())"
   ]
  },
  {
   "cell_type": "code",
   "execution_count": 195,
   "metadata": {},
   "outputs": [],
   "source": [
    "SVD_predictions = best_SVD.test(data_test.build_full_trainset().build_anti_testset())\n",
    "#SVD_predictions"
   ]
  },
  {
   "cell_type": "code",
   "execution_count": 196,
   "metadata": {},
   "outputs": [
    {
     "name": "stdout",
     "output_type": "stream",
     "text": [
      "MAE:  0.3221\n"
     ]
    },
    {
     "data": {
      "text/plain": [
       "0.32205279761508565"
      ]
     },
     "execution_count": 196,
     "metadata": {},
     "output_type": "execute_result"
    }
   ],
   "source": [
    "accuracy.mae(SVD_predictions)"
   ]
  },
  {
   "cell_type": "code",
   "execution_count": 197,
   "metadata": {},
   "outputs": [
    {
     "name": "stdout",
     "output_type": "stream",
     "text": [
      "474 [318, 912, 2959, 1089, 858, 904, 1198, 750, 1213, 48516]\n",
      "21 [318, 1204, 1213, 912, 1089, 2329, 50, 1136, 1198, 48516]\n",
      "465 [318, 50, 1213, 48516, 1089, 2959, 858, 1204, 1198, 912]\n",
      "590 [318, 50, 912, 2959, 904, 1198, 1213, 48516, 858, 6711]\n",
      "40 [1136, 318, 50, 1089, 2959, 1204, 912, 750, 6711, 48516]\n",
      "606 [318, 912, 1136, 2959, 1193, 48516, 1213, 6711, 1196, 1221]\n",
      "182 [318, 2959, 48516, 1204, 1136, 1089, 1213, 2329, 750, 1221]\n",
      "100 [318, 50, 2959, 2571, 912, 1204, 1089, 1213, 48516, 1136]\n",
      "354 [318, 912, 2329, 1213, 858, 1089, 2571, 1208, 1221, 1198]\n",
      "599 [318, 2959, 50, 48516, 904, 1089, 912, 750, 1136, 858]\n",
      "339 [1204, 2959, 1196, 50, 912, 1198, 48516, 750, 2571, 527]\n",
      "279 [318, 2959, 750, 912, 1136, 1089, 50, 1204, 904, 858]\n",
      "136 [318, 2959, 50, 1089, 1193, 904, 48516, 1204, 858, 1136]\n",
      "274 [318, 2959, 50, 750, 1204, 48516, 904, 1213, 1136, 1196]\n",
      "610 [1136, 50, 1204, 1196, 904, 6711, 1089, 1198, 1193, 260]\n",
      "380 [318, 1089, 912, 50, 904, 2959, 1136, 858, 1213, 58559]\n",
      "68 [318, 912, 1204, 1198, 50, 1089, 1213, 48516, 904, 1221]\n",
      "359 [318, 912, 50, 1193, 2959, 1089, 904, 1136, 58559, 1204]\n",
      "119 [318, 2959, 912, 1204, 1089, 1198, 50, 1136, 1221, 2329]\n",
      "462 [858, 2959, 1213, 50, 1204, 750, 1089, 2329, 48516, 6711]\n",
      "326 [318, 1213, 2959, 1204, 912, 1136, 858, 1089, 48516, 750]\n",
      "179 [318, 1213, 2959, 50, 1204, 1208, 2329, 48516, 912, 1089]\n",
      "424 [318, 2959, 1208, 50, 912, 4226, 1193, 1204, 1136, 1197]\n",
      "318 [318, 2959, 912, 50, 1089, 1204, 858, 1213, 904, 48516]\n",
      "20 [318, 2959, 48516, 1204, 912, 904, 50, 1193, 1213, 1089]\n",
      "518 [318, 48516, 2959, 912, 904, 2571, 1204, 527, 1193, 1089]\n",
      "210 [318, 1213, 912, 2959, 858, 1198, 1204, 2571, 904, 750]\n",
      "41 [318, 2959, 1198, 912, 1204, 1136, 1089, 48516, 2571, 904]\n",
      "325 [2959, 50, 1204, 1089, 1136, 750, 48516, 858, 912, 1198]\n",
      "356 [318, 1089, 1136, 2959, 750, 912, 1204, 1196, 50, 904]\n",
      "541 [318, 2959, 1204, 48516, 912, 50, 1089, 4973, 904, 1213]\n",
      "215 [318, 2959, 1204, 1208, 1136, 1193, 750, 912, 4973, 2329]\n",
      "411 [318, 1204, 1198, 912, 1196, 1089, 904, 2959, 750, 858]\n",
      "26 [318, 912, 1089, 2959, 1198, 904, 1136, 50, 48516, 750]\n",
      "7 [318, 50, 1193, 912, 1204, 2959, 2571, 1089, 904, 1136]\n",
      "240 [318, 2959, 912, 1089, 904, 50, 858, 48516, 1213, 1204]\n",
      "438 [318, 1196, 912, 750, 1089, 1213, 904, 1204, 1198, 50]\n",
      "6 [318, 1204, 2959, 912, 858, 1198, 2571, 1196, 1213, 1089]\n",
      "603 [318, 912, 58559, 50, 1208, 2959, 1204, 6711, 1198, 750]\n",
      "555 [318, 2959, 858, 50, 1204, 48516, 1089, 912, 750, 1136]\n",
      "152 [318, 50, 2959, 1089, 912, 1193, 1213, 858, 1136, 1204]\n",
      "19 [318, 904, 1213, 48516, 2959, 1196, 2571, 912, 1198, 50]\n",
      "369 [318, 2959, 1136, 48516, 1089, 50, 1204, 912, 6711, 1198]\n",
      "181 [318, 50, 858, 912, 1198, 6711, 1204, 2329, 1213, 356]\n",
      "570 [318, 912, 1089, 750, 1136, 4226, 1198, 50, 1204, 1196]\n",
      "373 [318, 50, 48516, 2959, 1213, 1193, 1136, 1208, 750, 1089]\n",
      "201 [318, 1089, 50, 1204, 2959, 912, 1213, 1136, 1198, 48516]\n",
      "510 [318, 912, 1204, 2959, 2329, 4973, 1208, 1197, 1213, 50]\n",
      "448 [318, 50, 1089, 48516, 904, 1213, 1136, 1204, 858, 1193]\n",
      "34 [318, 2329, 1136, 912, 1204, 1208, 1193, 904, 750, 1213]\n",
      "414 [318, 1213, 2959, 50, 48516, 912, 1204, 750, 1198, 904]\n",
      "334 [2959, 912, 1204, 858, 50, 2329, 1198, 48516, 1213, 2571]\n",
      "8 [318, 912, 2959, 1204, 1213, 2571, 4973, 50, 750, 904]\n",
      "295 [318, 912, 1089, 2959, 48516, 50, 904, 1198, 1136, 527]\n",
      "517 [318, 912, 1198, 2959, 1196, 2329, 858, 356, 1213, 1089]\n",
      "419 [318, 912, 1204, 6711, 1193, 2959, 50, 356, 904, 1089]\n",
      "89 [318, 4226, 1196, 912, 904, 527, 1213, 48516, 50, 2959]\n",
      "159 [318, 912, 1204, 858, 2959, 1208, 50, 1089, 58559, 527]\n",
      "87 [318, 912, 50, 1204, 750, 2329, 1213, 858, 1193, 1221]\n",
      "298 [318, 858, 1213, 2959, 750, 1204, 1136, 904, 1089, 2329]\n",
      "51 [318, 2959, 858, 48516, 50, 1213, 904, 1204, 750, 1198]\n",
      "288 [318, 2959, 912, 1204, 50, 904, 1089, 1196, 1213, 750]\n",
      "162 [318, 1213, 2959, 50, 912, 48516, 1089, 4226, 904, 2571]\n",
      "516 [318, 50, 2959, 1136, 1089, 1204, 904, 912, 750, 7361]\n",
      "116 [318, 750, 1204, 912, 50, 1089, 2959, 6711, 904, 1198]\n",
      "84 [1213, 1204, 2959, 48516, 1198, 1193, 1208, 58559, 4226, 356]\n",
      "381 [318, 1204, 50, 1213, 912, 48516, 1089, 2329, 858, 904]\n",
      "280 [318, 2959, 50, 1204, 1198, 912, 858, 1089, 2571, 1136]\n",
      "226 [318, 2959, 50, 912, 904, 1213, 1089, 750, 48516, 1198]\n",
      "62 [2959, 50, 48516, 912, 904, 58559, 1204, 356, 1198, 1213]\n",
      "372 [318, 912, 1204, 2959, 1213, 904, 1193, 2329, 1198, 1215]\n",
      "177 [318, 2959, 912, 1204, 2329, 858, 904, 1089, 1193, 1221]\n",
      "368 [318, 1213, 858, 50, 2959, 1193, 1204, 1089, 912, 904]\n",
      "137 [318, 912, 50, 858, 1193, 1089, 904, 1208, 1213, 2329]\n",
      "397 [318, 912, 50, 1089, 58559, 904, 858, 1198, 1204, 1136]\n",
      "415 [318, 750, 2959, 912, 50, 1204, 1089, 1136, 1196, 858]\n",
      "256 [318, 2959, 1089, 50, 912, 48516, 1136, 1204, 1213, 858]\n",
      "1 [318, 50, 2959, 912, 750, 1089, 1204, 858, 1193, 904]\n",
      "212 [318, 912, 50, 1193, 1089, 904, 2959, 1204, 48516, 750]\n",
      "166 [318, 50, 48516, 912, 2959, 1213, 1136, 1204, 750, 1198]\n",
      "592 [318, 2959, 912, 858, 50, 1089, 2329, 1204, 48516, 1136]\n",
      "187 [318, 912, 50, 904, 48516, 1136, 2959, 4973, 1193, 1204]\n",
      "214 [318, 2959, 50, 1193, 904, 912, 1204, 58559, 1208, 1136]\n",
      "525 [318, 2959, 48516, 912, 50, 1204, 904, 750, 1213, 1136]\n",
      "232 [1213, 50, 48516, 904, 912, 1204, 1089, 750, 1196, 1193]\n",
      "103 [318, 2959, 912, 1213, 904, 1193, 1204, 750, 1089, 2329]\n",
      "217 [318, 50, 1089, 2959, 750, 904, 912, 1213, 1193, 48516]\n",
      "230 [1204, 1089, 1196, 50, 2959, 1198, 858, 1136, 912, 1213]\n",
      "18 [50, 2959, 1193, 1204, 1213, 48516, 912, 904, 1208, 6711]\n",
      "287 [318, 750, 1196, 904, 1204, 48516, 1198, 6711, 1213, 858]\n",
      "455 [318, 2959, 1193, 58559, 50, 912, 858, 904, 750, 1089]\n",
      "358 [318, 1204, 750, 1196, 912, 50, 1198, 1136, 6711, 1089]\n",
      "219 [2959, 912, 1089, 904, 858, 50, 58559, 2329, 1193, 1213]\n",
      "534 [318, 2959, 912, 1089, 904, 48516, 1136, 1204, 50, 750]\n",
      "542 [318, 858, 356, 2959, 58559, 1204, 912, 2571, 1208, 1193]\n",
      "42 [318, 2959, 50, 1204, 1089, 1193, 1213, 904, 48516, 356]\n",
      "307 [318, 50, 912, 1204, 904, 2329, 1089, 48516, 1221, 750]\n",
      "294 [318, 1196, 4226, 1204, 1136, 1213, 2571, 2959, 48516, 750]\n",
      "129 [318, 858, 2959, 1204, 912, 1089, 1198, 50, 1221, 356]\n",
      "77 [318, 50, 1089, 1198, 912, 1136, 1196, 1204, 6711, 2959]\n",
      "562 [912, 2959, 4226, 48516, 1089, 50, 1136, 904, 1204, 527]\n",
      "200 [2959, 858, 50, 1089, 1136, 1204, 2329, 904, 912, 750]\n",
      "434 [318, 2959, 904, 1204, 48516, 50, 750, 1136, 1198, 2571]\n",
      "249 [318, 912, 50, 1204, 2959, 1213, 1198, 904, 750, 2329]\n",
      "351 [318, 750, 1213, 1136, 1196, 912, 50, 1089, 1204, 48516]\n",
      "453 [1196, 1089, 50, 912, 750, 1136, 48516, 6711, 904, 1198]\n",
      "156 [2959, 50, 1136, 1204, 750, 912, 1196, 858, 6711, 48516]\n",
      "423 [912, 50, 2959, 1089, 1208, 1136, 1221, 1193, 1204, 750]\n",
      "111 [318, 1213, 2959, 750, 50, 1193, 1204, 904, 58559, 912]\n",
      "105 [318, 50, 2959, 1089, 858, 912, 1213, 48516, 904, 1193]\n",
      "437 [318, 1198, 904, 1196, 912, 48516, 1089, 6711, 750, 2959]\n",
      "405 [318, 1204, 2959, 50, 858, 1198, 2329, 912, 1089, 48516]\n",
      "32 [318, 2959, 48516, 50, 1213, 1208, 1193, 904, 2329, 1204]\n",
      "221 [1193, 2959, 1204, 1089, 912, 1136, 1221, 1208, 750, 2329]\n",
      "514 [318, 2959, 912, 1204, 2329, 1136, 904, 48516, 50, 1089]\n",
      "425 [318, 912, 1204, 50, 1193, 2959, 1213, 904, 48516, 2329]\n",
      "365 [318, 2959, 2571, 912, 1204, 1136, 1213, 1196, 1199, 1089]\n",
      "418 [318, 858, 1213, 50, 2959, 1089, 1204, 912, 6711, 356]\n",
      "198 [1213, 50, 2959, 904, 1204, 2329, 1208, 48516, 6711, 750]\n",
      "46 [318, 2959, 904, 1136, 48516, 1198, 1204, 858, 1089, 912]\n",
      "480 [318, 48516, 1204, 1198, 2959, 912, 904, 1196, 1213, 50]\n",
      "16 [1089, 912, 1204, 48516, 50, 904, 1198, 1136, 527, 1193]\n",
      "395 [318, 50, 912, 2959, 1089, 2329, 1204, 1136, 48516, 1213]\n",
      "80 [318, 2959, 50, 912, 904, 1204, 1198, 2329, 1213, 1089]\n",
      "239 [318, 50, 2959, 1213, 48516, 912, 1204, 904, 750, 2571]\n",
      "237 [318, 2959, 1089, 48516, 50, 904, 912, 1136, 858, 4226]\n",
      "160 [318, 58559, 2571, 1193, 4011, 2959, 912, 7361, 904, 50]\n",
      "282 [318, 2959, 50, 858, 1213, 1204, 1208, 750, 1136, 1193]\n",
      "306 [318, 2959, 50, 1204, 858, 2571, 904, 912, 48516, 1089]\n",
      "596 [318, 2959, 50, 48516, 1204, 1213, 58559, 2571, 858, 912]\n",
      "260 [318, 1193, 912, 1204, 1208, 1197, 608, 904, 58559, 750]\n",
      "184 [318, 1193, 356, 50, 48516, 1204, 2959, 904, 858, 1208]\n",
      "342 [318, 50, 48516, 912, 1089, 1197, 904, 1193, 1136, 4973]\n",
      "328 [318, 1089, 904, 1204, 1136, 4226, 750, 1198, 48516, 1208]\n",
      "305 [318, 2959, 858, 50, 912, 1213, 750, 1204, 904, 1193]\n",
      "547 [318, 912, 750, 50, 4973, 1089, 1196, 1136, 1204, 904]\n",
      "125 [318, 912, 50, 48516, 1204, 1089, 1193, 904, 1213, 1198]\n",
      "422 [318, 48516, 4226, 1213, 50, 1193, 1204, 1201, 1208, 1225]\n",
      "469 [318, 2959, 48516, 1136, 1089, 1204, 904, 1213, 4226, 1198]\n",
      "91 [318, 1213, 912, 48516, 50, 2959, 2571, 1204, 750, 1136]\n",
      "387 [2959, 1204, 1198, 50, 750, 912, 858, 1089, 1213, 48516]\n",
      "9 [318, 50, 750, 1136, 912, 2329, 2959, 1213, 1204, 1089]\n",
      "186 [318, 912, 2959, 1089, 1204, 50, 904, 1213, 1193, 4973]\n",
      "167 [318, 1213, 2959, 48516, 904, 50, 1193, 912, 1196, 58559]\n",
      "451 [318, 50, 750, 48516, 1208, 1136, 2959, 4226, 904, 1089]\n",
      "202 [318, 1204, 50, 912, 2959, 48516, 2571, 750, 904, 1089]\n",
      "332 [50, 1193, 1089, 750, 858, 1204, 904, 48516, 912, 1136]\n",
      "385 [318, 2959, 2329, 1204, 1213, 1208, 6711, 904, 50, 1136]\n",
      "436 [50, 2959, 750, 858, 1089, 1198, 1204, 912, 1136, 904]\n",
      "398 [318, 50, 912, 1193, 1213, 1136, 48516, 904, 750, 2959]\n",
      "521 [318, 912, 1089, 1213, 50, 2959, 1193, 904, 48516, 858]\n",
      "580 [318, 750, 50, 1204, 1196, 6711, 904, 1136, 1213, 48516]\n",
      "74 [318, 2571, 912, 1213, 858, 1204, 356, 50, 58559, 2959]\n",
      "39 [318, 912, 1198, 2959, 1089, 904, 48516, 4226, 1204, 527]\n",
      "50 [318, 1193, 50, 2959, 1204, 912, 1089, 904, 858, 1208]\n",
      "489 [2959, 318, 48516, 904, 50, 1089, 1204, 858, 58559, 912]\n",
      "377 [318, 50, 1193, 58559, 1136, 750, 1208, 912, 1204, 2959]\n",
      "546 [318, 50, 1204, 912, 2959, 2329, 1193, 1213, 1221, 1208]\n",
      "513 [318, 50, 1136, 858, 1193, 750, 1213, 2959, 1208, 1089]\n",
      "43 [1208, 912, 1172, 50, 1617, 68157, 2329, 1258, 1196, 293]\n",
      "291 [318, 1136, 2959, 50, 750, 48516, 1089, 527, 1204, 1208]\n",
      "501 [318, 1136, 750, 912, 2959, 1089, 2571, 858, 1198, 1204]\n",
      "445 [318, 2959, 50, 1204, 750, 1136, 48516, 4973, 904, 912]\n",
      "565 [318, 50, 2959, 1089, 1204, 1136, 912, 858, 750, 48516]\n",
      "608 [318, 1213, 50, 912, 1198, 4226, 48516, 1089, 1204, 904]\n",
      "452 [1208, 912, 50, 2329, 1196, 260, 608, 1221, 593, 923]\n",
      "561 [318, 50, 1193, 750, 904, 48516, 1213, 2959, 1136, 1208]\n",
      "520 [318, 912, 50, 1136, 904, 750, 4226, 48516, 1204, 2571]\n",
      "587 [318, 2959, 1204, 912, 858, 58559, 1208, 1089, 1199, 1198]\n",
      "390 [318, 2959, 50, 1213, 1204, 2329, 1136, 750, 904, 1208]\n",
      "317 [318, 50, 912, 48516, 1136, 1204, 1193, 904, 1089, 858]\n",
      "132 [318, 1198, 50, 1204, 1089, 1136, 1208, 750, 4226, 1221]\n",
      "94 [318, 1204, 912, 2959, 1213, 2571, 50, 750, 1198, 2329]\n",
      "545 [318, 2959, 50, 1089, 912, 1204, 904, 1198, 858, 48516]\n",
      "308 [912, 318, 1204, 2329, 4973, 1213, 1193, 1208, 50, 904]\n",
      "563 [318, 1213, 2571, 2959, 1204, 50, 4226, 48516, 58559, 1196]\n",
      "600 [2959, 904, 48516, 912, 50, 1204, 750, 1193, 1136, 1208]\n",
      "361 [318, 50, 750, 1213, 1136, 1208, 904, 58559, 6711, 1193]\n",
      "490 [318, 50, 1208, 912, 1136, 2959, 1089, 750, 1193, 1204]\n",
      "576 [318, 2959, 912, 50, 1089, 1204, 48516, 904, 750, 1198]\n",
      "29 [318, 2959, 912, 1089, 904, 50, 527, 858, 6711, 4973]\n",
      "605 [318, 2959, 50, 904, 1089, 1213, 58559, 48516, 1136, 4226]\n",
      "446 [318, 2959, 1089, 50, 1213, 912, 48516, 1193, 858, 904]\n",
      "428 [318, 50, 858, 912, 2959, 1213, 1204, 2571, 1193, 750]\n",
      "261 [318, 1213, 356, 1193, 1204, 2959, 912, 750, 858, 1208]\n",
      "45 [318, 2959, 912, 1089, 48516, 858, 2329, 4226, 2571, 1204]\n",
      "401 [318, 2959, 1213, 1204, 912, 1198, 904, 48516, 50, 858]\n",
      "273 [318, 48516, 2959, 50, 1089, 912, 2571, 1136, 1213, 4226]\n",
      "140 [318, 912, 2959, 1204, 904, 1198, 1197, 2329, 1213, 48516]\n",
      "135 [318, 904, 50, 1204, 1198, 1213, 2329, 48516, 1089, 858]\n",
      "456 [318, 1089, 1196, 912, 2959, 1198, 1136, 48516, 1204, 904]\n",
      "262 [2959, 318, 912, 904, 1089, 2329, 48516, 50, 1213, 858]\n",
      "128 [318, 50, 912, 2959, 1089, 1136, 4226, 2571, 1213, 1204]\n",
      "276 [318, 2959, 912, 904, 1089, 1204, 1196, 1198, 4973, 1213]\n",
      "408 [318, 50, 904, 912, 750, 2959, 1193, 48516, 1213, 1136]\n",
      "246 [318, 912, 1213, 50, 750, 4226, 1198, 2329, 858, 1089]\n",
      "321 [318, 1213, 912, 48516, 904, 2959, 2571, 750, 50, 1204]\n",
      "504 [318, 50, 1193, 1204, 912, 2959, 1208, 858, 2571, 1136]\n",
      "268 [318, 2959, 48516, 50, 1136, 750, 904, 1089, 1204, 1213]\n",
      "71 [318, 2959, 1204, 858, 2329, 1208, 1213, 1193, 912, 50]\n",
      "355 [318, 2959, 912, 1204, 50, 1089, 904, 1198, 2329, 750]\n",
      "63 [318, 2959, 48516, 1089, 1204, 50, 904, 858, 1196, 1136]\n",
      "27 [318, 912, 2571, 1213, 1204, 2959, 50, 1198, 1089, 3275]\n",
      "352 [318, 904, 2959, 912, 1204, 48516, 750, 1198, 1213, 6711]\n",
      "483 [318, 2959, 50, 904, 912, 48516, 1204, 750, 1089, 1136]\n",
      "66 [318, 750, 50, 48516, 1204, 904, 6711, 1136, 1198, 1196]\n",
      "222 [318, 912, 1136, 2959, 1204, 50, 750, 1089, 48516, 1196]\n",
      "602 [318, 2959, 750, 912, 1136, 1089, 527, 904, 1198, 7361]\n",
      "143 [318, 1204, 50, 48516, 1213, 2959, 912, 1198, 1196, 750]\n",
      "330 [318, 50, 4226, 1196, 1204, 750, 48516, 1089, 904, 1136]\n",
      "313 [318, 1204, 1198, 48516, 904, 2571, 1213, 1196, 6711, 858]\n",
      "577 [2959, 48516, 50, 904, 912, 1204, 1213, 1089, 1193, 858]\n",
      "121 [2959, 1204, 48516, 1198, 50, 904, 858, 912, 750, 1089]\n",
      "540 [318, 50, 858, 1204, 750, 48516, 1193, 6711, 1136, 1208]\n",
      "48 [318, 912, 1204, 2959, 1213, 50, 904, 2329, 858, 4973]\n",
      "413 [912, 2329, 1213, 904, 1204, 750, 1089, 1136, 1208, 50]\n",
      "183 [318, 912, 750, 904, 2329, 6711, 2959, 1136, 1204, 1196]\n",
      "477 [2959, 50, 1089, 48516, 1136, 4226, 912, 1204, 1198, 1213]\n",
      "195 [1136, 750, 912, 2959, 50, 1089, 48516, 1213, 1193, 1221]\n",
      "460 [50, 2959, 858, 1204, 1089, 904, 1198, 912, 1208, 58559]\n",
      "475 [912, 50, 904, 318, 1204, 1089, 2959, 1198, 1262, 7361]\n",
      "567 [318, 750, 912, 6711, 1204, 904, 1136, 50, 7361, 296]\n",
      "432 [318, 1193, 1213, 1208, 50, 1204, 912, 1089, 58559, 1136]\n",
      "252 [318, 1213, 50, 858, 2959, 356, 1193, 1208, 2329, 1089]\n",
      "290 [318, 2959, 1213, 50, 912, 48516, 1204, 2571, 1136, 2329]\n",
      "421 [318, 1136, 2959, 1198, 1204, 750, 912, 50, 4226, 1089]\n",
      "331 [318, 1136, 1089, 1193, 1213, 4226, 904, 48516, 912, 6711]\n",
      "78 [318, 912, 2959, 1089, 1204, 858, 1198, 50, 750, 904]\n",
      "102 [318, 912, 1204, 50, 2959, 2329, 2571, 1213, 1197, 1193]\n",
      "493 [2959, 318, 858, 1089, 1213, 50, 904, 1136, 2329, 1204]\n",
      "572 [318, 50, 1213, 1193, 58559, 48516, 912, 2959, 2571, 1197]\n",
      "3 [318, 912, 50, 1193, 1213, 2571, 904, 1204, 2959, 593]\n",
      "278 [318, 1089, 2959, 1213, 1136, 48516, 912, 1196, 2571, 4226]\n",
      "393 [318, 858, 912, 50, 1089, 1198, 58559, 1213, 4226, 1196]\n",
      "4 [318, 1089, 1193, 912, 50, 750, 1136, 3275, 1204, 48516]\n",
      "174 [318, 912, 2959, 1204, 904, 1089, 4973, 858, 1193, 1196]\n",
      "241 [318, 1089, 1208, 912, 1136, 2959, 58559, 858, 1204, 1193]\n",
      "607 [318, 2959, 50, 1193, 1136, 1213, 1208, 1089, 48516, 2329]\n",
      "427 [318, 2959, 912, 1213, 750, 1204, 1196, 2571, 904, 1136]\n",
      "495 [318, 2959, 50, 912, 1213, 58559, 1193, 904, 1208, 2329]\n",
      "323 [318, 2959, 858, 50, 1208, 1213, 1089, 2329, 48516, 1136]\n",
      "25 [318, 912, 2959, 904, 1204, 750, 4226, 1198, 58559, 4973]\n",
      "310 [318, 858, 2959, 1213, 1204, 48516, 2329, 2571, 1199, 50]\n",
      "439 [318, 2959, 1204, 904, 912, 48516, 2571, 1276, 2329, 527]\n",
      "163 [318, 2959, 1204, 1213, 50, 2571, 858, 48516, 2329, 912]\n",
      "327 [318, 912, 1204, 1198, 2571, 2959, 1196, 1089, 1213, 1136]\n",
      "108 [318, 912, 2959, 1204, 1193, 50, 904, 1089, 1198, 58559]\n",
      "131 [318, 2959, 912, 1204, 2329, 1136, 2571, 904, 4973, 1198]\n",
      "122 [912, 50, 1196, 904, 58559, 1136, 2959, 750, 318, 527]\n",
      "362 [318, 2959, 1193, 1089, 912, 1213, 1204, 1136, 1197, 2329]\n",
      "340 [318, 1213, 2959, 48516, 1204, 904, 50, 750, 1196, 1089]\n",
      "28 [318, 912, 1204, 1213, 50, 2329, 904, 1198, 750, 2571]\n",
      "479 [318, 1204, 912, 1198, 1196, 1089, 6711, 858, 50, 1136]\n",
      "464 [318, 48516, 2959, 50, 750, 1136, 1089, 904, 912, 1204]\n",
      "476 [318, 912, 2959, 356, 48516, 1204, 1197, 1198, 1089, 904]\n",
      "59 [318, 50, 904, 912, 1089, 2959, 1193, 58559, 4226, 6711]\n",
      "254 [318, 48516, 2959, 50, 1213, 750, 1136, 904, 912, 1193]\n",
      "117 [2959, 1204, 750, 912, 1213, 1198, 858, 904, 1193, 50]\n",
      "524 [318, 48516, 4226, 1213, 1196, 904, 1198, 527, 1204, 1089]\n",
      "543 [318, 50, 750, 912, 1089, 1136, 858, 6711, 1198, 1199]\n",
      "345 [318, 50, 912, 1193, 1089, 1197, 2959, 48516, 904, 1136]\n",
      "64 [318, 912, 1204, 1213, 50, 356, 858, 1193, 750, 1198]\n",
      "275 [318, 48516, 2959, 904, 912, 1204, 2571, 4973, 1089, 50]\n",
      "560 [318, 50, 2959, 904, 912, 1204, 858, 1213, 1089, 58559]\n",
      "98 [318, 2959, 904, 48516, 912, 750, 1204, 4973, 2329, 1208]\n",
      "609 [318, 1204, 904, 6711, 750, 1196, 2959, 912, 1198, 50]\n",
      "484 [318, 912, 2959, 2571, 904, 58559, 50, 1204, 858, 1089]\n",
      "468 [318, 2959, 48516, 1204, 904, 1196, 912, 1213, 50, 1136]\n",
      "509 [318, 2959, 1213, 48516, 912, 904, 50, 1204, 2329, 1089]\n",
      "473 [318, 2959, 1089, 858, 48516, 50, 1204, 912, 1136, 1198]\n",
      "208 [318, 1204, 50, 1213, 858, 58559, 912, 2571, 2959, 1208]\n",
      "594 [318, 1213, 1204, 2959, 904, 1196, 1198, 912, 1193, 2571]\n",
      "47 [318, 50, 58559, 2959, 1193, 750, 1208, 1136, 912, 1089]\n",
      "134 [318, 912, 2959, 1215, 1204, 1089, 1198, 2571, 50, 527]\n",
      "314 [318, 1136, 48516, 2959, 750, 50, 904, 1089, 2571, 1204]\n",
      "503 [318, 50, 904, 48516, 2959, 6711, 1193, 1089, 1204, 912]\n",
      "412 [318, 2959, 50, 904, 1204, 48516, 1198, 2329, 1136, 912]\n",
      "367 [50, 2959, 912, 1089, 1193, 904, 48516, 58559, 858, 1208]\n",
      "216 [318, 912, 1213, 750, 904, 50, 1204, 6711, 1196, 1089]\n",
      "376 [318, 1213, 50, 904, 48516, 1089, 750, 912, 1193, 2959]\n",
      "58 [318, 2959, 1136, 750, 1204, 858, 1089, 904, 48516, 912]\n",
      "238 [318, 2959, 48516, 1213, 1136, 1204, 2329, 912, 50, 1196]\n",
      "265 [318, 1196, 904, 1213, 750, 2571, 50, 912, 48516, 2959]\n",
      "185 [318, 1198, 48516, 356, 912, 4226, 1213, 58559, 858, 2959]\n",
      "93 [912, 2329, 318, 1213, 1204, 2959, 904, 50, 1198, 750]\n",
      "234 [318, 2959, 1136, 1089, 904, 48516, 912, 1213, 750, 50]\n",
      "233 [318, 912, 1204, 2959, 904, 4973, 1089, 48516, 1198, 7361]\n",
      "270 [318, 912, 50, 2959, 904, 7361, 1193, 1204, 58559, 1208]\n",
      "199 [318, 50, 858, 1204, 1136, 2959, 2571, 904, 1193, 6711]\n",
      "402 [318, 1198, 858, 50, 1089, 2959, 1196, 1204, 750, 912]\n",
      "82 [318, 1213, 912, 1204, 2329, 2959, 1196, 1198, 904, 1089]\n",
      "309 [318, 912, 1089, 3275, 904, 2959, 750, 1196, 1204, 48516]\n",
      "573 [318, 912, 1198, 1204, 1213, 2329, 904, 6711, 750, 50]\n",
      "426 [318, 2959, 48516, 2571, 1204, 50, 1213, 912, 904, 1197]\n",
      "141 [318, 50, 2959, 1193, 912, 904, 2571, 1089, 58559, 1204]\n",
      "496 [318, 912, 2959, 50, 1089, 1193, 1213, 58559, 858, 2329]\n",
      "286 [318, 912, 2959, 48516, 50, 1089, 1204, 904, 58559, 1221]\n",
      "353 [318, 2959, 1204, 1136, 2329, 1213, 1198, 48516, 4226, 904]\n",
      "190 [318, 2959, 1204, 1198, 912, 858, 48516, 50, 2571, 904]\n",
      "470 [318, 2959, 2329, 1213, 858, 50, 1228, 1204, 1208, 912]\n",
      "158 [318, 2959, 1204, 912, 50, 1213, 750, 2571, 1198, 904]\n",
      "113 [318, 2959, 48516, 904, 50, 1204, 858, 1213, 1198, 912]\n",
      "104 [318, 912, 2959, 904, 50, 1089, 1204, 1193, 48516, 1136]\n",
      "33 [318, 912, 50, 1089, 904, 1136, 2959, 1204, 750, 6711]\n",
      "463 [318, 750, 1204, 2959, 912, 50, 1213, 904, 1198, 1193]\n",
      "410 [1204, 2959, 1213, 912, 2329, 6711, 1208, 50, 1198, 1196]\n",
      "149 [318, 2959, 912, 1204, 1193, 4973, 904, 1089, 50, 48516]\n",
      "552 [318, 750, 904, 50, 1136, 1198, 48516, 912, 1213, 4226]\n",
      "191 [318, 912, 2959, 1204, 1213, 1089, 1196, 1198, 858, 904]\n",
      "502 [750, 50, 912, 1136, 2959, 858, 1204, 1089, 2571, 48516]\n",
      "75 [318, 50, 6711, 1089, 1204, 2959, 904, 858, 1136, 48516]\n",
      "83 [912, 2959, 1204, 58559, 904, 2571, 1197, 1193, 356, 1198]\n",
      "391 [318, 2959, 1204, 2329, 1208, 912, 858, 1193, 1213, 1089]\n",
      "79 [318, 50, 1213, 2959, 904, 912, 2329, 750, 1204, 1136]\n",
      "357 [318, 912, 50, 1204, 1089, 858, 1193, 904, 750, 48516]\n",
      "235 [318, 1089, 50, 912, 2959, 858, 1136, 904, 1198, 48516]\n",
      "76 [1204, 296, 750, 50, 912, 1213, 2959, 48516, 2571, 904]\n",
      "139 [318, 912, 1198, 1204, 1089, 50, 2959, 750, 1136, 904]\n",
      "447 [318, 2959, 750, 1089, 1204, 912, 1136, 50, 904, 1198]\n",
      "259 [318, 1204, 1213, 912, 2959, 50, 1196, 48516, 1208, 1198]\n",
      "67 [318, 912, 50, 6711, 1089, 1204, 58559, 2959, 1193, 904]\n",
      "593 [318, 1204, 912, 2959, 1198, 50, 858, 1193, 904, 1089]\n",
      "382 [318, 904, 50, 6711, 858, 2959, 912, 1089, 1196, 48516]\n",
      "109 [318, 1213, 1204, 2959, 50, 858, 904, 750, 1198, 1196]\n",
      "420 [318, 2959, 1204, 1196, 48516, 1136, 1198, 912, 1213, 904]\n",
      "220 [50, 1204, 1196, 1198, 912, 6711, 750, 1089, 904, 48516]\n",
      "38 [318, 50, 1089, 858, 1198, 912, 48516, 1136, 2959, 750]\n",
      "153 [318, 50, 1193, 904, 912, 541, 1213, 1221, 1266, 1204]\n",
      "144 [318, 2959, 1213, 50, 1193, 904, 1089, 48516, 1204, 1136]\n",
      "204 [318, 1204, 50, 912, 4226, 1198, 1213, 1208, 858, 356]\n",
      "583 [318, 2959, 50, 1204, 912, 1089, 48516, 2329, 1198, 1136]\n",
      "336 [318, 1213, 2571, 750, 50, 48516, 1136, 912, 1196, 1204]\n",
      "101 [318, 2959, 48516, 1193, 1213, 904, 50, 1204, 1089, 912]\n",
      "466 [318, 50, 904, 1136, 750, 1089, 2959, 1193, 1213, 912]\n",
      "527 [318, 912, 2959, 1204, 1089, 1193, 50, 904, 2571, 1213]\n",
      "60 [2959, 1213, 858, 48516, 904, 50, 912, 1193, 58559, 2571]\n",
      "168 [318, 2959, 50, 858, 1136, 1204, 912, 2329, 750, 1193]\n",
      "597 [318, 2959, 1213, 48516, 904, 50, 2329, 912, 1204, 1208]\n",
      "379 [318, 2959, 1089, 1204, 1213, 912, 48516, 904, 858, 50]\n",
      "506 [318, 1204, 1196, 750, 50, 1198, 904, 1213, 2571, 2959]\n",
      "69 [318, 750, 50, 1213, 1136, 912, 904, 1198, 1089, 2959]\n",
      "57 [318, 2959, 50, 912, 1213, 48516, 904, 750, 1136, 1193]\n",
      "169 [318, 2959, 4226, 50, 48516, 1204, 912, 1213, 904, 1089]\n",
      "302 [318, 2959, 858, 1089, 50, 1204, 912, 1193, 356, 1197]\n",
      "344 [318, 2959, 50, 904, 750, 1089, 858, 912, 1204, 1193]\n",
      "250 [318, 1204, 912, 50, 750, 1089, 6711, 2959, 1198, 1196]\n",
      "322 [318, 912, 2959, 1204, 1089, 1196, 1198, 4226, 904, 527]\n",
      "36 [318, 912, 2959, 904, 1204, 2329, 1197, 1213, 2571, 48516]\n",
      "409 [318, 50, 1204, 1193, 2571, 912, 1136, 750, 2959, 1213]\n",
      "554 [318, 2571, 2959, 1204, 904, 750, 1198, 1089, 50, 6711]\n",
      "557 [318, 2959, 912, 1204, 750, 904, 1089, 4973, 50, 6711]\n",
      "582 [318, 912, 1213, 1089, 50, 1198, 1204, 904, 6711, 3275]\n",
      "548 [318, 50, 1213, 2959, 912, 1193, 1204, 7153, 1208, 2329]\n",
      "360 [318, 912, 1198, 858, 1204, 50, 1089, 2959, 2329, 1136]\n",
      "523 [1208, 912, 50, 260, 904, 58559, 7361, 1136, 1193, 2959]\n",
      "97 [318, 912, 1089, 2959, 750, 1136, 904, 1204, 6711, 1198]\n",
      "267 [318, 2959, 1204, 912, 1197, 1213, 356, 48516, 1193, 904]\n",
      "384 [318, 912, 1204, 2329, 904, 858, 1089, 7361, 1208, 50]\n",
      "172 [318, 1196, 1204, 1198, 750, 2571, 912, 1213, 50, 2959]\n",
      "171 [1208, 912, 50, 2329, 1196, 1221, 3147, 904, 4973, 58559]\n",
      "528 [318, 50, 750, 912, 1193, 1136, 1208, 1213, 1204, 6711]\n",
      "444 [318, 50, 48516, 1136, 750, 2959, 904, 2571, 1198, 6711]\n",
      "176 [858, 2959, 912, 50, 1204, 356, 1213, 58559, 1193, 2329]\n",
      "346 [318, 50, 1089, 912, 858, 1213, 1204, 48516, 2329, 4973]\n",
      "522 [318, 912, 50, 1204, 1089, 1198, 2959, 1213, 904, 750]\n",
      "65 [2571, 912, 1204, 1196, 750, 50, 1089, 1198, 1136, 527]\n",
      "95 [318, 1198, 4226, 904, 2959, 1204, 912, 750, 1196, 50]\n",
      "519 [318, 50, 1213, 750, 48516, 1193, 2571, 904, 1208, 1204]\n",
      "589 [318, 2959, 1204, 2329, 912, 6711, 904, 1208, 1136, 50]\n",
      "73 [318, 50, 912, 750, 1089, 858, 1198, 6711, 1221, 1136]\n",
      "289 [318, 912, 2571, 1193, 2959, 1213, 50, 593, 4011, 1208]\n",
      "467 [318, 912, 50, 2959, 1204, 2571, 1193, 2329, 4973, 48516]\n",
      "386 [2959, 1204, 1208, 1213, 50, 48516, 912, 1197, 2329, 1136]\n",
      "591 [318, 912, 2959, 750, 904, 1204, 50, 1213, 2571, 1136]\n",
      "292 [318, 858, 50, 1213, 912, 2959, 1089, 1204, 1198, 2329]\n",
      "333 [318, 912, 50, 2959, 1204, 1198, 1213, 1089, 904, 858]\n",
      "498 [318, 50, 2959, 1213, 2329, 858, 750, 904, 1198, 48516]\n",
      "471 [318, 50, 1193, 2959, 1136, 1208, 904, 912, 1204, 1089]\n",
      "155 [318, 50, 2959, 1136, 1089, 904, 750, 1204, 48516, 1208]\n",
      "118 [318, 912, 50, 2329, 1204, 2959, 858, 1208, 750, 1213]\n",
      "271 [318, 912, 1204, 50, 750, 904, 2959, 1089, 1198, 2571]\n",
      "440 [318, 2959, 1208, 1204, 1193, 904, 58559, 50, 1136, 1089]\n",
      "10 [318, 1089, 858, 1204, 1198, 912, 50, 4226, 1221, 48516]\n",
      "258 [318, 2959, 1204, 2329, 858, 1213, 50, 912, 1193, 1208]\n",
      "488 [318, 48516, 50, 2959, 904, 1213, 750, 1136, 1089, 1204]\n",
      "296 [318, 1204, 912, 1136, 2571, 48516, 527, 904, 1208, 2329]\n",
      "236 [318, 912, 904, 48516, 2959, 58559, 527, 1089, 6711, 1198]\n",
      "416 [318, 912, 50, 2959, 1089, 1208, 1193, 1197, 858, 1136]\n",
      "11 [318, 1204, 2959, 1196, 858, 1213, 750, 1198, 6711, 912]\n",
      "343 [318, 50, 1213, 912, 4011, 904, 7153, 1089, 1193, 1204]\n",
      "430 [318, 912, 48516, 2959, 50, 1198, 1089, 750, 1204, 904]\n",
      "266 [318, 50, 858, 48516, 2959, 904, 1213, 58559, 1193, 1221]\n",
      "263 [318, 912, 1204, 2959, 1198, 904, 50, 58559, 1193, 1196]\n",
      "281 [318, 912, 2959, 1204, 50, 1089, 750, 904, 858, 4973]\n",
      "85 [318, 1089, 2959, 1136, 912, 260, 6711, 48516, 50, 1198]\n",
      "429 [318, 2959, 912, 1213, 904, 1204, 48516, 1089, 2571, 1196]\n",
      "218 [318, 2959, 912, 1193, 904, 1204, 1136, 50, 2571, 7361]\n",
      "24 [318, 2959, 1089, 912, 1204, 750, 1136, 858, 50, 904]\n",
      "178 [318, 1089, 1136, 2959, 48516, 858, 904, 6711, 750, 912]\n",
      "145 [318, 50, 48516, 2959, 1204, 912, 1136, 1089, 1197, 1213]\n",
      "304 [2959, 50, 1136, 1204, 1089, 1198, 2329, 4226, 750, 1213]\n",
      "601 [2959, 50, 1089, 48516, 1198, 1136, 1204, 750, 1208, 2329]\n",
      "244 [318, 2959, 1197, 1213, 2329, 1204, 912, 904, 1208, 4226]\n",
      "482 [318, 912, 1204, 1213, 750, 50, 2571, 1136, 2959, 2329]\n",
      "431 [318, 6711, 1204, 912, 858, 50, 2959, 1089, 1208, 527]\n",
      "15 [318, 912, 1204, 4973, 2959, 2571, 1089, 527, 296, 904]\n",
      "491 [318, 2959, 912, 750, 1089, 1136, 904, 527, 50, 6711]\n",
      "23 [318, 1204, 50, 2959, 1196, 58559, 1213, 1193, 6711, 1208]\n",
      "417 [318, 912, 904, 2959, 1204, 50, 1213, 750, 7361, 1193]\n",
      "374 [318, 2959, 48516, 1136, 1204, 912, 1197, 4973, 2571, 50]\n",
      "566 [1204, 2959, 912, 858, 50, 2329, 1213, 1089, 1136, 750]\n",
      "228 [318, 2959, 1213, 858, 1089, 50, 48516, 1204, 58559, 1208]\n",
      "349 [318, 1198, 1196, 6711, 912, 50, 858, 1213, 1204, 1136]\n",
      "551 [318, 4226, 50, 912, 1213, 1196, 58559, 1198, 6711, 904]\n",
      "123 [50, 318, 1193, 858, 904, 58559, 1213, 912, 1208, 1089]\n",
      "586 [912, 318, 50, 1204, 1089, 2959, 904, 1136, 1208, 4973]\n",
      "442 [318, 1198, 1196, 1204, 2571, 2959, 750, 858, 50, 48516]\n",
      "435 [318, 2959, 912, 50, 1089, 1204, 1213, 1208, 2329, 1197]\n",
      "458 [318, 48516, 1213, 50, 2959, 1193, 1204, 1221, 1136, 904]\n",
      "564 [318, 1213, 50, 858, 1208, 2959, 1136, 4226, 48516, 2571]\n",
      "264 [318, 58559, 2959, 912, 1193, 50, 1208, 904, 356, 1213]\n",
      "151 [318, 912, 1204, 1193, 50, 904, 356, 2959, 4973, 58559]\n",
      "17 [318, 1136, 2959, 50, 750, 904, 858, 1204, 1208, 912]\n",
      "588 [2959, 912, 1089, 50, 904, 1136, 48516, 1198, 1204, 1197]\n",
      "209 [318, 48516, 1204, 50, 1213, 2959, 1198, 904, 1089, 750]\n",
      "512 [318, 48516, 750, 1204, 2329, 1136, 2959, 6711, 1213, 1198]\n",
      "56 [2959, 1204, 912, 904, 50, 1193, 4973, 750, 7361, 1276]\n",
      "500 [318, 2959, 904, 1089, 48516, 50, 750, 1136, 1193, 1204]\n",
      "312 [318, 858, 2959, 912, 1213, 1204, 2329, 1198, 50, 750]\n",
      "72 [2959, 318, 1204, 904, 858, 1089, 750, 6711, 1196, 48516]\n",
      "110 [318, 1213, 912, 48516, 1204, 1198, 4226, 1196, 2329, 50]\n",
      "347 [318, 912, 2959, 1193, 1089, 1136, 50, 904, 1204, 858]\n",
      "189 [318, 50, 1204, 904, 750, 1213, 1196, 2959, 1198, 48516]\n",
      "536 [318, 50, 2959, 4226, 750, 1204, 48516, 1213, 1266, 1198]\n",
      "90 [318, 2329, 2959, 1213, 50, 1204, 912, 858, 1208, 1193]\n",
      "400 [318, 912, 1204, 4973, 1089, 904, 1213, 2329, 48516, 1197]\n",
      "459 [318, 2959, 48516, 904, 1204, 50, 1213, 2571, 912, 858]\n",
      "173 [318, 858, 2959, 50, 1089, 48516, 904, 1136, 1213, 58559]\n",
      "574 [2959, 912, 2329, 50, 1136, 1213, 1204, 1089, 750, 858]\n",
      "371 [912, 50, 2959, 318, 858, 1204, 1213, 904, 2329, 1089]\n",
      "515 [318, 912, 2959, 1089, 904, 1204, 6711, 858, 4973, 750]\n",
      "61 [318, 50, 912, 750, 2959, 1204, 904, 1198, 1136, 858]\n",
      "404 [858, 50, 2959, 750, 1089, 904, 1213, 1204, 912, 1198]\n",
      "604 [318, 912, 2959, 1197, 1204, 2571, 2329, 50, 1208, 904]\n",
      "272 [318, 48516, 50, 1089, 2959, 904, 1136, 750, 1193, 912]\n",
      "396 [318, 912, 1089, 1198, 904, 48516, 1204, 750, 1196, 1136]\n",
      "441 [318, 2959, 2329, 1213, 50, 1204, 1136, 912, 48516, 858]\n",
      "161 [318, 1204, 2959, 912, 1089, 904, 2329, 50, 1198, 1208]\n",
      "53 [912, 50, 904, 2959, 318, 1204, 48516, 1193, 1208, 6711]\n",
      "192 [318, 2959, 48516, 50, 858, 1136, 1089, 2571, 2329, 4226]\n",
      "146 [50, 318, 2959, 48516, 904, 1193, 1136, 1213, 1089, 912]\n",
      "211 [318, 2959, 1089, 50, 904, 1136, 48516, 1193, 912, 1204]\n",
      "231 [318, 50, 750, 1213, 912, 1204, 1089, 2959, 904, 1196]\n",
      "164 [318, 2959, 1089, 1198, 1136, 904, 912, 750, 1204, 48516]\n",
      "338 [858, 1213, 2959, 50, 2329, 1208, 1204, 6711, 1193, 1136]\n",
      "553 [318, 1204, 2959, 50, 1208, 904, 858, 750, 1213, 2329]\n",
      "213 [318, 2959, 1204, 50, 1193, 912, 904, 750, 1208, 48516]\n",
      "388 [318, 2571, 2959, 912, 50, 1204, 58559, 1193, 904, 1208]\n",
      "366 [318, 1213, 50, 2959, 858, 750, 1204, 1193, 2329, 48516]\n",
      "324 [318, 2959, 50, 1089, 1213, 1204, 912, 1193, 4226, 1208]\n",
      "526 [318, 912, 1204, 2959, 50, 1197, 48516, 4973, 2571, 2329]\n",
      "126 [318, 912, 2959, 1089, 1204, 858, 1198, 904, 6711, 50]\n",
      "31 [318, 2959, 50, 912, 58559, 1089, 904, 2571, 1197, 1193]\n",
      "341 [318, 50, 904, 912, 1193, 6711, 2959, 1204, 48516, 1213]\n",
      "539 [318, 2959, 1213, 48516, 912, 1204, 904, 58559, 1193, 1089]\n",
      "52 [318, 50, 750, 1204, 1136, 1213, 912, 2959, 1089, 6711]\n",
      "12 [2959, 318, 912, 1213, 1204, 48516, 1089, 904, 4973, 1196]\n",
      "106 [318, 50, 1136, 2959, 1204, 750, 2329, 1208, 2571, 912]\n",
      "165 [318, 912, 1204, 50, 1197, 2959, 750, 1198, 2329, 1089]\n",
      "403 [318, 50, 1196, 1136, 1089, 904, 912, 750, 6711, 2959]\n",
      "96 [318, 2959, 912, 904, 1204, 1213, 1089, 1198, 48516, 2571]\n",
      "2 [318, 912, 1136, 2959, 750, 1204, 2571, 48516, 50, 904]\n",
      "22 [318, 2959, 1136, 48516, 1197, 50, 904, 912, 1208, 1193]\n",
      "242 [318, 912, 2329, 1204, 904, 1213, 2959, 50, 4226, 2571]\n",
      "492 [318, 1204, 50, 750, 858, 1198, 912, 1089, 2959, 6711]\n",
      "537 [318, 1213, 2329, 912, 2959, 1204, 2571, 50, 904, 58559]\n",
      "505 [318, 904, 50, 1193, 912, 1204, 58559, 858, 1208, 1213]\n",
      "180 [318, 2959, 1089, 50, 858, 912, 1208, 58559, 1193, 904]\n",
      "170 [318, 50, 2959, 1213, 1204, 904, 912, 1089, 750, 4973]\n",
      "86 [318, 50, 750, 1213, 2329, 1204, 912, 858, 4226, 1198]\n",
      "5 [318, 912, 1204, 2959, 1213, 50, 904, 1089, 1198, 6711]\n",
      "584 [318, 1213, 2959, 2329, 50, 912, 1204, 858, 48516, 1198]\n",
      "319 [318, 2959, 858, 50, 912, 1089, 1204, 904, 1193, 1213]\n",
      "196 [318, 912, 1089, 2959, 50, 904, 48516, 1136, 1198, 527]\n",
      "549 [2959, 1213, 858, 1204, 50, 2329, 1208, 48516, 2571, 58559]\n",
      "224 [318, 2959, 2329, 1213, 912, 1136, 1198, 48516, 1204, 2571]\n",
      "303 [318, 50, 912, 1213, 4226, 904, 1208, 58559, 750, 48516]\n",
      "229 [318, 1213, 858, 1204, 2959, 50, 1198, 1196, 2571, 48516]\n",
      "461 [318, 1204, 1198, 50, 904, 48516, 1221, 2959, 4226, 912]\n",
      "571 [318, 912, 4973, 1204, 750, 2959, 50, 2329, 1089, 1198]\n",
      "277 [318, 2959, 912, 904, 50, 1089, 750, 1204, 58559, 1213]\n",
      "225 [318, 1204, 912, 2959, 50, 904, 1089, 527, 48516, 1193]\n",
      "533 [318, 2959, 1204, 912, 2329, 1089, 904, 1213, 50, 1198]\n",
      "392 [318, 2959, 48516, 1089, 858, 50, 904, 912, 1204, 1193]\n",
      "378 [318, 912, 1089, 2571, 1204, 50, 904, 4973, 1136, 527]\n",
      "449 [318, 1193, 50, 48516, 1213, 1204, 904, 858, 1208, 1221]\n",
      "115 [318, 1204, 912, 50, 1198, 750, 2959, 356, 6711, 904]\n",
      "579 [318, 912, 2959, 1089, 1204, 50, 904, 48516, 1193, 4973]\n",
      "44 [318, 912, 2959, 50, 1089, 48516, 904, 1193, 1136, 1204]\n",
      "389 [318, 2959, 904, 1193, 1204, 50, 58559, 912, 1208, 858]\n",
      "301 [318, 858, 1204, 912, 2959, 50, 750, 2571, 1198, 1208]\n",
      "138 [318, 50, 2959, 1213, 2571, 4226, 1204, 2329, 1136, 912]\n",
      "348 [912, 2959, 356, 2329, 904, 50, 858, 1193, 48516, 1204]\n",
      "175 [318, 912, 1198, 858, 1204, 6711, 50, 1196, 1089, 750]\n",
      "450 [318, 50, 1136, 912, 750, 1089, 6711, 1196, 1198, 1204]\n",
      "227 [2959, 318, 904, 1089, 1136, 912, 1204, 50, 1193, 48516]\n",
      "472 [318, 1204, 2959, 50, 1198, 2571, 1213, 2329, 912, 1196]\n",
      "243 [318, 912, 1213, 904, 50, 1208, 2959, 1204, 2329, 1193]\n",
      "370 [912, 750, 50, 2959, 1204, 7153, 1136, 48516, 904, 1276]\n",
      "454 [318, 1198, 1196, 1204, 750, 2959, 48516, 50, 6711, 4226]\n",
      "350 [318, 1136, 2959, 50, 750, 48516, 1089, 1204, 912, 1196]\n",
      "297 [318, 2959, 356, 1213, 48516, 50, 858, 1204, 1193, 904]\n",
      "559 [318, 1136, 750, 48516, 912, 50, 1089, 2959, 1196, 1204]\n",
      "255 [318, 912, 2959, 1204, 50, 1089, 858, 7361, 58559, 1208]\n",
      "148 [318, 1089, 1136, 912, 2959, 1198, 1204, 1196, 50, 858]\n",
      "251 [318, 50, 750, 1136, 48516, 904, 1089, 912, 1193, 2959]\n",
      "399 [318, 2959, 1204, 1089, 1136, 750, 912, 50, 1198, 48516]\n",
      "248 [318, 912, 50, 2329, 1204, 1213, 2959, 750, 904, 1208]\n",
      "130 [318, 2571, 904, 1136, 912, 2959, 50, 750, 48516, 1089]\n",
      "485 [318, 50, 858, 2959, 1213, 1204, 1196, 904, 912, 1089]\n",
      "556 [318, 1198, 912, 1204, 2959, 1196, 1213, 356, 750, 904]\n",
      "257 [318, 2959, 1089, 1204, 48516, 50, 1198, 904, 1213, 912]\n",
      "316 [318, 2959, 912, 1193, 1136, 904, 50, 1197, 750, 1208]\n",
      "70 [318, 1136, 912, 4226, 2959, 1089, 1198, 2329, 1199, 48516]\n",
      "311 [318, 2959, 48516, 50, 1204, 1213, 1196, 2571, 1136, 1198]\n",
      "581 [50, 1089, 912, 48516, 1193, 858, 904, 1136, 1204, 6711]\n",
      "107 [318, 912, 2959, 1204, 58559, 750, 1089, 1208, 2329, 50]\n",
      "55 [318, 912, 904, 2959, 1204, 48516, 4973, 50, 1198, 1089]\n",
      "544 [318, 912, 750, 1213, 50, 1089, 2571, 1204, 1136, 1198]\n",
      "247 [318, 858, 50, 1193, 1204, 2959, 904, 750, 1208, 1213]\n",
      "538 [318, 2959, 912, 2571, 904, 1204, 48516, 1213, 858, 58559]\n",
      "443 [318, 50, 1089, 4226, 48516, 1213, 1136, 1222, 1266, 750]\n",
      "300 [318, 1198, 912, 1204, 1089, 858, 1196, 6711, 50, 750]\n",
      "223 [2959, 50, 1193, 1204, 904, 750, 1213, 912, 48516, 1208]\n",
      "154 [912, 318, 750, 1213, 1089, 1204, 2959, 50, 904, 858]\n",
      "150 [318, 1213, 1204, 912, 50, 2571, 1208, 1193, 2959, 48516]\n",
      "92 [318, 50, 1193, 904, 48516, 2959, 1089, 750, 1213, 1208]\n",
      "457 [318, 2959, 50, 1204, 1089, 4226, 1213, 912, 1136, 904]\n",
      "375 [318, 912, 50, 2571, 4226, 750, 1136, 1197, 1198, 1213]\n",
      "54 [318, 912, 2959, 1204, 750, 1136, 1208, 904, 50, 1089]\n",
      "497 [2959, 912, 1204, 1089, 50, 1199, 858, 1136, 904, 7361]\n",
      "81 [318, 912, 1204, 50, 2959, 1193, 858, 1213, 1221, 1198]\n",
      "494 [318, 2959, 50, 858, 1208, 1204, 1089, 1136, 58559, 912]\n",
      "203 [318, 1213, 2959, 4226, 48516, 50, 2329, 912, 1204, 1089]\n",
      "293 [318, 1213, 858, 1196, 2959, 1204, 1198, 58559, 912, 750]\n",
      "315 [318, 912, 1204, 2959, 1089, 50, 4973, 904, 1193, 1208]\n",
      "394 [318, 2959, 904, 50, 48516, 858, 750, 1204, 1193, 1089]\n",
      "531 [318, 50, 750, 2959, 1204, 1136, 48516, 2571, 904, 1089]\n",
      "486 [318, 1136, 2959, 1089, 750, 912, 1196, 904, 1198, 48516]\n",
      "575 [318, 2959, 48516, 1193, 904, 50, 1136, 4226, 58559, 1213]\n",
      "481 [318, 2959, 1136, 50, 1213, 1089, 48516, 1204, 1198, 858]\n",
      "558 [318, 50, 2959, 2329, 1213, 1204, 1198, 912, 4226, 904]\n",
      "253 [318, 50, 2959, 1089, 858, 1204, 1136, 912, 1198, 750]\n",
      "13 [318, 2959, 912, 1204, 1199, 750, 50, 858, 48516, 1198]\n",
      "112 [318, 1213, 2959, 48516, 50, 858, 1204, 1193, 904, 750]\n",
      "508 [318, 750, 858, 6711, 1136, 912, 2959, 50, 1204, 527]\n",
      "14 [2959, 858, 1213, 1204, 50, 48516, 2329, 1208, 750, 1089]\n",
      "193 [318, 904, 750, 1136, 912, 50, 2959, 1213, 48516, 6711]\n",
      "363 [318, 912, 2959, 1213, 48516, 1089, 2329, 4226, 904, 1136]\n",
      "532 [1204, 2959, 2571, 1089, 912, 750, 50, 1136, 1196, 1213]\n",
      "99 [318, 50, 904, 2959, 1089, 48516, 1213, 912, 7153, 750]\n",
      "207 [318, 48516, 50, 4226, 1089, 2959, 1213, 1198, 1221, 904]\n",
      "299 [318, 2959, 2329, 1204, 1136, 1208, 48516, 50, 912, 904]\n",
      "88 [318, 1196, 1204, 2959, 1198, 912, 2571, 50, 904, 1089]\n",
      "142 [318, 912, 50, 1089, 904, 2959, 1204, 4973, 48516, 1213]\n",
      "284 [318, 912, 2959, 1204, 1198, 904, 1089, 1197, 6711, 2329]\n",
      "511 [50, 858, 1213, 2329, 912, 1208, 58559, 6711, 1089, 48516]\n",
      "535 [318, 912, 1198, 1204, 1221, 7361, 750, 4226, 2959, 527]\n",
      "383 [318, 912, 2959, 904, 1208, 1204, 4973, 48516, 1197, 50]\n",
      "37 [912, 858, 2959, 1089, 1204, 58559, 1193, 2571, 50, 1208]\n",
      "478 [318, 912, 50, 2329, 1213, 1204, 1193, 2959, 1136, 1089]\n",
      "285 [318, 2959, 1089, 904, 1213, 858, 1204, 1198, 750, 50]\n",
      "197 [318, 912, 1089, 904, 750, 2959, 1204, 48516, 1136, 1198]\n",
      "35 [318, 1089, 750, 50, 904, 2959, 1204, 912, 1136, 4973]\n",
      "133 [318, 912, 1204, 1213, 356, 904, 2959, 1198, 58559, 1252]\n",
      "120 [318, 1089, 50, 912, 1136, 2959, 4226, 750, 858, 1198]\n",
      "329 [2959, 1213, 48516, 356, 912, 1204, 3275, 1089, 904, 1196]\n",
      "487 [2959, 1193, 1204, 48516, 50, 904, 912, 1276, 1208, 1089]\n",
      "585 [318, 2959, 912, 1089, 904, 1204, 1198, 2329, 48516, 1197]\n",
      "578 [318, 1204, 1193, 912, 1213, 50, 356, 2959, 58559, 2571]\n",
      "364 [318, 858, 50, 2959, 750, 1204, 1213, 2571, 912, 48516]\n",
      "530 [318, 1204, 912, 2959, 904, 1196, 6711, 1198, 858, 1213]\n",
      "406 [318, 1204, 750, 2959, 50, 1136, 296, 904, 1196, 1213]\n",
      "598 [318, 1213, 50, 1204, 2959, 48516, 904, 1208, 750, 1136]\n",
      "335 [318, 750, 1204, 1213, 1196, 1198, 904, 6711, 2959, 858]\n",
      "127 [318, 904, 2959, 50, 1193, 1089, 48516, 1136, 750, 912]\n",
      "499 [318, 2959, 48516, 1213, 1089, 1204, 50, 904, 858, 1196]\n",
      "337 [318, 1136, 50, 1204, 2959, 912, 1208, 1196, 2571, 1213]\n",
      "433 [318, 50, 1204, 904, 1193, 750, 48516, 912, 1213, 1089]\n",
      "269 [912, 318, 1204, 2959, 904, 4973, 2571, 296, 750, 1196]\n",
      "124 [318, 50, 1136, 2959, 48516, 1208, 750, 1089, 904, 1193]\n",
      "569 [318, 912, 2959, 1204, 2329, 750, 1198, 904, 50, 1136]\n",
      "407 [318, 904, 50, 912, 1198, 48516, 1204, 1136, 2571, 1089]\n",
      "157 [318, 912, 58559, 2959, 1208, 1213, 2329, 50, 356, 858]\n",
      "30 [318, 912, 2959, 1204, 6711, 858, 1213, 50, 2571, 2329]\n",
      "529 [318, 2571, 1213, 912, 1204, 48516, 50, 2959, 750, 1196]\n",
      "188 [318, 50, 912, 1204, 2959, 1089, 858, 1198, 750, 1213]\n",
      "283 [318, 50, 750, 1136, 2959, 1089, 48516, 858, 904, 912]\n",
      "507 [318, 2959, 904, 912, 1204, 50, 1089, 48516, 1193, 750]\n",
      "595 [318, 2959, 1089, 912, 1193, 50, 1204, 904, 1136, 750]\n",
      "194 [318, 2959, 904, 48516, 1213, 50, 541, 1089, 912, 750]\n",
      "206 [318, 50, 858, 2959, 912, 1204, 1193, 1089, 48516, 2329]\n",
      "320 [318, 912, 1204, 6711, 2329, 2959, 858, 1208, 1198, 50]\n",
      "114 [318, 912, 750, 904, 2959, 1089, 1204, 50, 1198, 4973]\n",
      "147 [318, 2959, 2329, 1136, 48516, 1213, 4226, 1204, 1198, 904]\n",
      "245 [318, 1213, 912, 2959, 1204, 2329, 50, 48516, 1197, 2571]\n",
      "550 [318, 2959, 1089, 4226, 912, 50, 1136, 750, 1197, 904]\n",
      "49 [318, 1204, 2959, 912, 50, 1198, 6711, 904, 858, 1208]\n",
      "568 [318, 2959, 50, 904, 858, 1208, 2329, 1136, 1204, 1089]\n",
      "205 [318, 50, 858, 1193, 2959, 1089, 1136, 750, 1213, 1204]\n"
     ]
    }
   ],
   "source": [
    "top_n_SVD = get_top_n(SVD_predictions, n=10)\n",
    "for uid, user_ratings in top_n_SVD.items():\n",
    "    print(uid, [iid for (iid, _) in user_ratings])"
   ]
  },
  {
   "cell_type": "code",
   "execution_count": 198,
   "metadata": {},
   "outputs": [
    {
     "data": {
      "text/plain": [
       "[(318, 'Shawshank Redemption, The (1994)'),\n",
       " (912, 'Casablanca (1942)'),\n",
       " (2959, 'Fight Club (1999)'),\n",
       " (1089, 'Reservoir Dogs (1992)'),\n",
       " (858, 'Godfather, The (1972)'),\n",
       " (904, 'Rear Window (1954)'),\n",
       " (1198,\n",
       "  'Raiders of the Lost Ark (Indiana Jones and the Raiders of the Lost Ark) (1981)'),\n",
       " (750,\n",
       "  'Dr. Strangelove or: How I Learned to Stop Worrying and Love the Bomb (1964)'),\n",
       " (1213, 'Goodfellas (1990)'),\n",
       " (48516, 'Departed, The (2006)')]"
      ]
     },
     "execution_count": 198,
     "metadata": {},
     "output_type": "execute_result"
    }
   ],
   "source": [
    "get_user_recommendations(474,top_n_SVD)"
   ]
  },
  {
   "cell_type": "code",
   "execution_count": 199,
   "metadata": {},
   "outputs": [
    {
     "data": {
      "text/plain": [
       "[(318, 'Shawshank Redemption, The (1994)'),\n",
       " (912, 'Casablanca (1942)'),\n",
       " (1204, 'Lawrence of Arabia (1962)'),\n",
       " (6711, 'Lost in Translation (2003)'),\n",
       " (2329, 'American History X (1998)'),\n",
       " (2959, 'Fight Club (1999)'),\n",
       " (858, 'Godfather, The (1972)'),\n",
       " (1208, 'Apocalypse Now (1979)'),\n",
       " (1198,\n",
       "  'Raiders of the Lost Ark (Indiana Jones and the Raiders of the Lost Ark) (1981)'),\n",
       " (50, 'Usual Suspects, The (1995)')]"
      ]
     },
     "execution_count": 199,
     "metadata": {},
     "output_type": "execute_result"
    }
   ],
   "source": [
    "get_user_recommendations(320,top_n_SVD)"
   ]
  },
  {
   "cell_type": "code",
   "execution_count": 202,
   "metadata": {},
   "outputs": [
    {
     "data": {
      "text/plain": [
       "[(318, 'Shawshank Redemption, The (1994)'),\n",
       " (1089, 'Reservoir Dogs (1992)'),\n",
       " (50, 'Usual Suspects, The (1995)'),\n",
       " (912, 'Casablanca (1942)'),\n",
       " (1136, 'Monty Python and the Holy Grail (1975)'),\n",
       " (2959, 'Fight Club (1999)'),\n",
       " (4226, 'Memento (2000)'),\n",
       " (750,\n",
       "  'Dr. Strangelove or: How I Learned to Stop Worrying and Love the Bomb (1964)'),\n",
       " (858, 'Godfather, The (1972)'),\n",
       " (1198,\n",
       "  'Raiders of the Lost Ark (Indiana Jones and the Raiders of the Lost Ark) (1981)')]"
      ]
     },
     "execution_count": 202,
     "metadata": {},
     "output_type": "execute_result"
    }
   ],
   "source": [
    "get_user_recommendations(120,top_n_SVD)"
   ]
  },
  {
   "cell_type": "code",
   "execution_count": 203,
   "metadata": {},
   "outputs": [
    {
     "data": {
      "text/plain": [
       "[(1204, 'Lawrence of Arabia (1962)'),\n",
       " (1089, 'Reservoir Dogs (1992)'),\n",
       " (1196, 'Star Wars: Episode V - The Empire Strikes Back (1980)'),\n",
       " (50, 'Usual Suspects, The (1995)'),\n",
       " (2959, 'Fight Club (1999)'),\n",
       " (1198,\n",
       "  'Raiders of the Lost Ark (Indiana Jones and the Raiders of the Lost Ark) (1981)'),\n",
       " (858, 'Godfather, The (1972)'),\n",
       " (1136, 'Monty Python and the Holy Grail (1975)'),\n",
       " (912, 'Casablanca (1942)'),\n",
       " (1213, 'Goodfellas (1990)')]"
      ]
     },
     "execution_count": 203,
     "metadata": {},
     "output_type": "execute_result"
    }
   ],
   "source": [
    "get_user_recommendations(230,top_n_SVD)"
   ]
  },
  {
   "cell_type": "markdown",
   "metadata": {},
   "source": [
    "## Best KNN Based Model: KNN Baseline"
   ]
  },
  {
   "cell_type": "code",
   "execution_count": 152,
   "metadata": {},
   "outputs": [
    {
     "name": "stdout",
     "output_type": "stream",
     "text": [
      "Estimating biases using als...\n",
      "Computing the msd similarity matrix...\n",
      "Done computing similarity matrix.\n"
     ]
    },
    {
     "data": {
      "text/plain": [
       "<surprise.prediction_algorithms.knns.KNNBaseline at 0x1912e6ed470>"
      ]
     },
     "execution_count": 152,
     "metadata": {},
     "output_type": "execute_result"
    }
   ],
   "source": [
    "best_KNN = gs_knnbaseline.best_estimator['mae']\n",
    "best_KNN.fit(data_train.build_full_trainset())"
   ]
  },
  {
   "cell_type": "code",
   "execution_count": 204,
   "metadata": {},
   "outputs": [],
   "source": [
    "KNN_predictions = best_KNN.test(data_test.build_full_trainset().build_anti_testset())"
   ]
  },
  {
   "cell_type": "code",
   "execution_count": 205,
   "metadata": {},
   "outputs": [
    {
     "name": "stdout",
     "output_type": "stream",
     "text": [
      "MAE:  0.4024\n"
     ]
    },
    {
     "data": {
      "text/plain": [
       "0.40244824085415226"
      ]
     },
     "execution_count": 205,
     "metadata": {},
     "output_type": "execute_result"
    }
   ],
   "source": [
    "accuracy.mae(KNN_predictions)"
   ]
  },
  {
   "cell_type": "code",
   "execution_count": 206,
   "metadata": {},
   "outputs": [
    {
     "name": "stdout",
     "output_type": "stream",
     "text": [
      "474 [318, 858, 3451, 1221, 7153, 7361, 912, 527, 1136, 906]\n",
      "21 [78637, 101864, 356, 1196, 7573, 68954, 135887, 47997, 260, 78499]\n",
      "465 [318, 912, 1204, 2959, 858, 1136, 750, 50, 1089, 48516]\n",
      "590 [318, 858, 912, 904, 3451, 1208, 50, 1262, 1198, 1276]\n",
      "40 [318, 112421, 1718, 127298, 166024, 2959, 1341, 170705, 5890, 858]\n",
      "606 [2959, 912, 1193, 898, 1208, 527, 2571, 1196, 593, 296]\n",
      "182 [318, 2959, 1213, 912, 1172, 1411, 2329, 6711, 1104, 1089]\n",
      "100 [318, 50, 858, 58559, 48516, 2959, 356, 2329, 912, 1213]\n",
      "354 [318, 858, 1136, 912, 48516, 1213, 527, 58559, 2571, 1089]\n",
      "599 [1178, 318, 3468, 3503, 951, 6711, 720, 912, 1089, 2959]\n",
      "339 [56782, 7156, 527, 6016, 858, 1193, 608, 1252, 92259, 48516]\n",
      "279 [2669, 318, 1136, 2959, 1196, 260, 1204, 56782, 858, 541]\n",
      "136 [155820, 152091, 106062, 159441, 5890, 8405, 5867, 2442, 5951, 6023]\n",
      "274 [318, 1089, 2959, 2329, 1193, 58559, 50, 4226, 1213, 48516]\n",
      "610 [3328, 1208, 68157, 1258, 1196, 260, 1221, 904, 296, 7387]\n",
      "380 [1617, 1221, 7387, 49272, 58559, 78499, 750, 1079, 6350, 93840]\n",
      "68 [44195, 8132, 54881, 912, 8968, 81834, 142488, 88810, 1197, 76093]\n",
      "359 [114713, 73042, 132800, 128852, 157312, 389, 115664, 169912, 125974, 104339]\n",
      "119 [318, 26555, 2959, 912, 92259, 3275, 858, 2329, 3147, 7153]\n",
      "462 [858, 1252, 1136, 3037, 750, 1213, 111, 923, 1228, 2788]\n",
      "326 [318, 48516, 2959, 527, 4440, 92259, 57669, 593, 912, 858]\n",
      "179 [4154, 389, 1547, 318, 4440, 2959, 40, 912, 50, 1204]\n",
      "424 [2566, 318, 50, 2959, 7756, 48516, 1193, 912, 4226, 1204]\n",
      "318 [296, 7361, 1884, 318, 5618, 3246, 99114, 6807, 44195, 60069]\n",
      "20 [58655, 115664, 294, 1148, 720, 157312, 1167, 318, 5618, 2959]\n",
      "518 [174053, 87234, 3302, 1123, 91470, 142509, 152970, 162478, 112421, 115664]\n",
      "210 [318, 2959, 5051, 858, 50, 2571, 912, 1136, 260, 1193]\n",
      "41 [389, 549, 92259, 57669, 5051, 116897, 1225, 104879, 26116, 4207]\n",
      "325 [1341, 858, 904, 1199, 1217, 1228, 2959, 4993, 1213, 912]\n",
      "356 [318, 58559, 7756, 912, 720, 2959, 1089, 38061, 26564, 62383]\n",
      "541 [5051, 2669, 106062, 159441, 1718, 318, 5404, 152091, 50, 1204]\n",
      "215 [318, 2959, 7756, 912, 40, 26704, 1208, 858, 1172, 1136]\n",
      "411 [1167, 5051, 1718, 112421, 183897, 127298, 170705, 82378, 187541, 760]\n",
      "26 [318, 2959, 50, 1204, 858, 1136, 912, 750, 904, 48516]\n",
      "7 [1564, 3546, 1167, 26564, 62383, 50, 318, 3313, 1341, 33681]\n",
      "240 [73042, 132800, 128852, 130518, 389, 318, 169912, 125974, 104339, 50]\n",
      "438 [318, 1196, 527, 3275, 1617, 2571, 7090, 8368, 260, 4226]\n",
      "6 [53, 58655, 318, 808, 314, 262, 356, 364, 56782, 1204]\n",
      "603 [904, 111, 1252, 1199, 914, 1104, 942, 1673, 3201, 912]\n",
      "555 [318, 1089, 50, 2329, 3673, 1215, 356, 778, 3147, 187]\n",
      "152 [318, 2959, 858, 912, 50, 750, 1204, 904, 1136, 1193]\n",
      "19 [3358, 904, 2959, 1658, 26555, 913, 720, 903, 1198, 1967]\n",
      "369 [318, 2959, 50, 1204, 858, 912, 1136, 2571, 1196, 48516]\n",
      "181 [112421, 5051, 4195, 151455, 127298, 72294, 108188, 86059, 176419, 141866]\n",
      "570 [318, 50, 2571, 1136, 1198, 904, 1213, 1196, 593, 912]\n",
      "373 [3660, 1324, 2614, 4711, 5867, 5890, 1341, 8405, 187541, 170705]\n",
      "201 [318, 1204, 1198, 2959, 1196, 50, 858, 912, 115664, 1136]\n",
      "510 [91470, 142509, 159415, 100714, 1564, 3546, 128520, 58655, 5404, 26681]\n",
      "448 [858, 6016, 1228, 2019, 8542, 1250, 3681, 6375, 1193, 1213]\n",
      "34 [5890, 5404, 5867, 318, 5447, 152091, 155820, 50, 58655, 106062]\n",
      "414 [3275, 318, 1276, 741, 1204, 142488, 1233, 106918, 148626, 1217]\n",
      "334 [2959, 1204, 50, 912, 1196, 1198, 2571, 858, 6711, 904]\n",
      "8 [8268, 318, 187541, 1204, 912, 50, 2959, 858, 1136, 166024]\n",
      "295 [3660, 1324, 2614, 318, 1105, 484, 2959, 1502, 2329, 50]\n",
      "517 [26704, 94070, 3675, 2565, 82169, 137857, 5013, 1262, 914, 166291]\n",
      "419 [26704, 318, 2959, 294, 1089, 50, 2329, 296, 1213, 1221]\n",
      "89 [2324, 50872, 108932, 157296, 73042, 4886, 84944, 129354, 8360, 32031]\n",
      "159 [53, 73042, 132800, 128852, 58655, 4154, 318, 4252, 4166, 26555]\n",
      "87 [318, 87234, 2959, 912, 1136, 50, 904, 1204, 3451, 177593]\n",
      "298 [858, 1208, 318, 1196, 8370, 2959, 1213, 1089, 86377, 26471]\n",
      "51 [1272, 2788, 1215, 247, 111, 166291, 1845, 4437, 593, 8874]\n",
      "288 [1204, 57669, 318, 3037, 58559, 7361, 527, 2329, 1193, 4226]\n",
      "162 [2959, 318, 858, 1136, 1262, 7361, 48516, 7153, 750, 4226]\n",
      "516 [73042, 87234, 115664, 132800, 128852, 66511, 8605, 5523, 106642, 103984]\n",
      "116 [2669, 112421, 127298, 176419, 141866, 141890, 5447, 72294, 151455, 108188]\n",
      "84 [1272, 898, 1276, 2959, 1208, 608, 265, 1104, 858, 1242]\n",
      "381 [48516, 50, 2571, 4973, 5618, 318, 4226, 46578, 72226, 2329]\n",
      "280 [50, 48516, 318, 912, 2959, 4973, 1204, 1136, 1104, 858]\n",
      "226 [1136, 48516, 1222, 318, 1276, 2959, 7361, 2329, 6711, 1262]\n",
      "62 [2959, 1089, 1221, 7153, 2571, 593, 58559, 527, 48516, 356]\n",
      "372 [318, 101765, 389, 1204, 1213, 187541, 1221, 858, 1198, 1089]\n",
      "177 [1104, 3451, 912, 922, 1411, 904, 318, 3022, 1939, 928]\n",
      "368 [100714, 1193, 318, 527, 858, 296, 50, 1204, 1221, 1089]\n",
      "137 [318, 912, 858, 5447, 1136, 750, 1208, 7153, 923, 904]\n",
      "397 [1564, 3546, 130518, 680, 318, 73042, 183897, 7756, 617, 132800]\n",
      "415 [318, 858, 2959, 50, 912, 1204, 1213, 1136, 1089, 48516]\n",
      "256 [318, 92259, 513, 504, 389, 2959, 912, 7361, 2571, 1196]\n",
      "1 [912, 50, 1196, 2959, 2571, 318, 527, 1222, 858, 1213]\n",
      "212 [318, 2959, 1136, 177593, 1198, 50, 904, 4011, 5690, 48516]\n",
      "166 [318, 50, 2959, 1204, 912, 1136, 48516, 1213, 2571, 527]\n",
      "592 [4440, 7756, 73042, 112421, 132800, 128852, 5051, 318, 4195, 40]\n",
      "187 [50, 922, 1201, 6350, 1199, 750, 8874, 7153, 912, 4993]\n",
      "214 [49647, 318, 4444, 117545, 142372, 2959, 912, 50, 858, 1136]\n",
      "525 [318, 50, 1136, 527, 608, 1197, 6711, 4973, 2959, 1196]\n",
      "232 [26704, 389, 2329, 2571, 527, 48516, 3275, 78499, 3147, 2028]\n",
      "103 [318, 2959, 912, 1213, 858, 58559, 56782, 1228, 2329, 296]\n",
      "217 [187541, 53, 3200, 112421, 3404, 127298, 1081, 3114, 3347, 720]\n",
      "230 [166291, 164917, 5447, 49389, 109569, 104074, 82041, 84189, 108188, 86059]\n",
      "18 [50, 2959, 904, 527, 1136, 48516, 1213, 1193, 2571, 1221]\n",
      "287 [5404, 1341, 5890, 4973, 247, 6711, 50954, 4711, 4642, 1136]\n",
      "455 [2669, 5404, 26116, 318, 187541, 155820, 1204, 2959, 152091, 172591]\n",
      "358 [6723, 43917, 4795, 5873, 2807, 2419, 4200, 7782, 6387, 49524]\n",
      "219 [50, 904, 57669, 2959, 38061, 58559, 4226, 44195, 858, 7802]\n",
      "534 [2324, 1215, 389, 26704, 1270, 2329, 1196, 2028, 7090, 593]\n",
      "542 [418, 166291, 581, 1105, 484, 808, 164917, 26564, 62383, 547]\n",
      "42 [40, 50, 1213, 2329, 1245, 318, 1089, 1221, 356, 1673]\n",
      "307 [318, 48516, 56782, 2329, 1215, 51931, 1221, 7361, 527, 858]\n",
      "294 [187541, 1204, 3235, 1884, 858, 1194, 260, 1084, 441, 1261]\n",
      "129 [318, 2959, 294, 1204, 912, 50, 858, 1136, 2571, 1213]\n",
      "77 [117192, 5447, 40, 115664, 187, 157312, 8782, 53140, 1334, 512]\n",
      "562 [2959, 93840, 50, 2571, 527, 356, 58559, 1136, 48516, 912]\n",
      "200 [2959, 58559, 1204, 54190, 1197, 4973, 46578, 1210, 49272, 38061]\n",
      "434 [318, 2959, 48516, 1136, 912, 2329, 1204, 50, 4226, 5618]\n",
      "249 [912, 318, 56782, 2329, 2571, 7153, 1198, 2959, 6711, 3275]\n",
      "351 [318, 48516, 50, 593, 2571, 912, 356, 1204, 858, 527]\n",
      "453 [2959, 1089, 50, 1136, 296, 3241, 4226, 2324, 858, 2580]\n",
      "156 [912, 858, 750, 1136, 923, 1217, 6711, 3468, 1199, 3503]\n",
      "423 [3313, 2477, 418, 7756, 4195, 3912, 171, 2566, 808, 26564]\n",
      "111 [318, 2959, 3275, 48516, 58559, 81156, 356, 68157, 104925, 111617]\n",
      "105 [79132, 50, 293, 1221, 593, 3147, 904, 296, 2028, 778]\n",
      "437 [5447, 318, 1204, 58655, 2959, 1136, 1213, 858, 912, 1208]\n",
      "405 [318, 2959, 912, 1204, 50, 858, 1213, 48516, 750, 294]\n",
      "32 [92048, 101765, 2669, 50445, 318, 55451, 55250, 1564, 3546, 2959]\n",
      "221 [2959, 1104, 904, 1193, 912, 1089, 750, 6016, 1213, 1276]\n",
      "514 [1197, 318, 1198, 1196, 1204, 1213, 260, 904, 1270, 527]\n",
      "425 [318, 2959, 50, 356, 48516, 1198, 1213, 2329, 593, 3275]\n",
      "365 [1105, 484, 981, 318, 3147, 1259, 100507, 159093, 4995, 7451]\n",
      "418 [53, 318, 2959, 1136, 1276, 50, 1204, 6711, 7361, 111]\n",
      "198 [1446, 1172, 5014, 2959, 26116, 1089, 265, 3246, 5570, 50]\n",
      "46 [73042, 25771, 318, 132800, 128852, 112421, 4154, 912, 106642, 2959]\n",
      "480 [318, 2329, 1225, 1198, 2959, 48516, 1203, 1266, 3275, 3814]\n",
      "16 [1167, 1204, 912, 50, 1136, 858, 750, 1193, 1213, 904]\n",
      "395 [6370, 48342, 48744, 318, 34523, 1526, 71205, 112370, 2959, 1136]\n",
      "80 [318, 1204, 2959, 912, 50, 1089, 1136, 593, 1104, 1208]\n",
      "239 [318, 2959, 858, 50, 2329, 912, 1213, 1196, 260, 7153]\n",
      "237 [4440, 3912, 1167, 4053, 4195, 3325, 4252, 4166, 80241, 3884]\n",
      "160 [1411, 3213, 3328, 111, 3083, 4381, 1199, 3858, 2324, 2118]\n",
      "282 [318, 2959, 50, 1136, 858, 1204, 527, 58559, 1193, 1213]\n",
      "306 [318, 92048, 750, 101765, 1208, 2959, 48516, 912, 4226, 187541]\n",
      "596 [4207, 2959, 6350, 57669, 4226, 912, 318, 4993, 2571, 858]\n",
      "260 [318, 720, 1089, 5690, 2959, 4200, 7782, 53, 904, 1148]\n",
      "184 [73042, 58559, 4226, 318, 132800, 128852, 6460, 1213, 1204, 1089]\n",
      "342 [87234, 80586, 99764, 581, 91671, 95377, 4350, 92259, 71462, 32898]\n",
      "328 [1167, 2788, 26116, 1203, 1136, 750, 2761, 3499, 318, 6807]\n",
      "305 [318, 92259, 6016, 858, 1213, 57669, 55721, 1193, 1221, 50]\n",
      "547 [26116, 106642, 92535, 170705, 70946, 28, 2138, 1564, 3546, 55280]\n",
      "125 [1193, 549, 858, 318, 2571, 7361, 356, 296, 1206, 58301]\n",
      "422 [5447, 174053, 334, 318, 87234, 100714, 26116, 83132, 1204, 750]\n",
      "469 [1104, 318, 2788, 1136, 3037, 3681, 858, 1228, 1193, 1252]\n",
      "91 [7387, 50, 1198, 3429, 8874, 750, 1136, 1215, 1196, 2019]\n",
      "387 [2959, 50, 1136, 858, 912, 1199, 923, 1252, 750, 1089]\n",
      "9 [101765, 731, 2280, 127152, 171867, 4339, 59143, 165947, 2670, 100507]\n",
      "186 [318, 1136, 1196, 912, 58559, 2959, 50, 1204, 750, 1089]\n",
      "167 [166291, 164917, 318, 1136, 1204, 1196, 1215, 3275, 1197, 4011]\n",
      "451 [4956, 5279, 80615, 112421, 318, 1446, 127298, 1204, 166024, 858]\n",
      "202 [115664, 1204, 912, 157312, 2959, 750, 50, 318, 1089, 593]\n",
      "332 [58655, 1204, 912, 750, 50, 904, 4226, 1089, 1196, 1136]\n",
      "385 [318, 5447, 1204, 130518, 858, 1198, 1213, 1196, 2959, 1199]\n",
      "436 [8405, 166024, 2442, 187541, 5951, 6023, 2959, 1204, 858, 912]\n",
      "398 [59103, 85179, 1136, 318, 1564, 3546, 4973, 1197, 912, 50]\n",
      "521 [318, 25771, 89759, 87234, 183897, 2959, 104283, 2511, 8405, 4350]\n",
      "580 [6711, 50, 318, 1089, 1136, 48516, 4226, 296, 3275, 1222]\n",
      "74 [808, 858, 318, 2669, 48516, 238, 2959, 1252, 1208, 4440]\n",
      "39 [115664, 58655, 318, 157312, 50, 174053, 1204, 1089, 1136, 2959]\n",
      "50 [858, 1204, 318, 1136, 750, 1198, 1208, 923, 7756, 1201]\n",
      "489 [1172, 914, 918, 904, 2959, 3000, 27803, 4973, 58559, 912]\n",
      "377 [389, 55451, 55250, 112421, 33815, 90343, 85397, 1208, 4442, 1718]\n",
      "546 [1718, 549, 1341, 8605, 4442, 2978, 1085, 4297, 8939, 73211]\n",
      "513 [318, 1564, 3546, 912, 1204, 2959, 858, 50, 904, 750]\n",
      "43 [1208, 912, 50, 1617, 2329, 1258, 1196, 293, 260, 608]\n",
      "291 [6790, 8730, 318, 3451, 1411, 2491, 4743, 3103, 5409, 6265]\n",
      "501 [83132, 183897, 4440, 389, 170697, 7991, 127202, 238, 3673, 32584]\n",
      "445 [26704, 5447, 318, 2959, 100714, 1136, 750, 858, 912, 50]\n",
      "565 [1167, 112421, 5890, 1341, 318, 31437, 32770, 7056, 174053, 50]\n",
      "608 [8132, 50, 318, 2231, 4011, 5294, 858, 1213, 2571, 2502]\n",
      "452 [912, 50, 1196, 1221, 904, 4973, 356, 58559, 7361, 1136]\n",
      "561 [318, 58559, 922, 48516, 1196, 4440, 50, 2959, 3740, 4011]\n",
      "520 [166291, 164917, 318, 1136, 750, 26555, 1198, 1197, 1204, 912]\n",
      "587 [58655, 318, 3451, 1172, 3037, 2324, 1193, 2959, 912, 2669]\n",
      "390 [40, 2959, 318, 527, 2571, 1217, 50, 4973, 4226, 6350]\n",
      "317 [981, 26704, 114713, 50, 318, 7156, 858, 48516, 1089, 1208]\n",
      "132 [318, 1172, 50, 4226, 2329, 6711, 2324, 7361, 58559, 4973]\n",
      "94 [4440, 100882, 85412, 4207, 318, 2330, 1204, 82041, 84189, 912]\n",
      "545 [1979, 103883, 91842, 60037, 408, 177763, 96811, 107314, 113573, 73211]\n",
      "308 [7756, 26555, 117192, 164917, 87234, 166291, 106642, 26564, 62383, 4154]\n",
      "563 [3758, 3370, 2347, 1422, 521, 83827, 318, 5224, 6869, 2959]\n",
      "600 [2959, 1199, 1136, 4642, 750, 1235, 5902, 3814, 6350, 5618]\n",
      "361 [2669, 294, 115664, 318, 157312, 4207, 50, 1089, 981, 166291]\n",
      "490 [581, 318, 2959, 858, 549, 1545, 50, 8405, 1089, 4226]\n",
      "576 [80906, 102194, 65682, 91488, 1727, 82242, 6460, 69524, 81847, 64497]\n",
      "29 [318, 2959, 912, 858, 50, 1196, 904, 48516, 58559, 389]\n",
      "605 [187541, 318, 2882, 7153, 50, 260, 4993, 2959, 1221, 5447]\n",
      "446 [5890, 5867, 5051, 40, 4440, 106062, 159441, 187541, 7756, 318]\n",
      "428 [318, 2959, 1089, 7361, 1204, 8370, 50, 1136, 296, 1206]\n",
      "261 [549, 318, 5890, 33815, 90343, 85397, 55451, 55250, 7297, 4476]\n",
      "45 [1242, 858, 1136, 2329, 4011, 2959, 2571, 260, 318, 3147]\n",
      "401 [5890, 5867, 352, 881, 318, 904, 1204, 858, 1136, 2959]\n",
      "273 [73042, 132800, 128852, 169912, 125974, 104339, 26704, 318, 7067, 112421]\n",
      "140 [1272, 1204, 1262, 4995, 1250, 318, 40, 527, 858, 2028]\n",
      "135 [318, 1136, 1215, 2571, 527, 1197, 858, 1208, 4226, 4993]\n",
      "456 [40, 25771, 80241, 112421, 318, 86504, 1718, 93006, 8718, 166024]\n",
      "262 [2425, 28, 53140, 2959, 2571, 318, 1198, 1197, 912, 1089]\n",
      "128 [7756, 318, 2959, 912, 904, 1198, 858, 527, 608, 26564]\n",
      "276 [50, 1196, 132800, 58559, 7361, 1136, 2959, 2571, 56782, 7153]\n",
      "408 [318, 2959, 50, 912, 858, 1272, 1198, 2571, 1204, 1213]\n",
      "246 [1196, 318, 50, 4226, 7361, 260, 4993, 5618, 904, 7153]\n",
      "321 [73042, 318, 1564, 3546, 132800, 128852, 66511, 4399, 155820, 5523]\n",
      "504 [318, 2959, 50, 912, 858, 1136, 750, 48516, 1204, 6711]\n",
      "268 [1341, 26704, 4154, 1547, 4195, 7756, 5867, 5890, 898, 858]\n",
      "71 [86781, 1167, 101765, 85179, 318, 1213, 50, 6280, 30898, 238]\n",
      "355 [7756, 680, 6387, 2882, 4195, 26564, 62383, 33681, 4442, 1204]\n",
      "63 [318, 50, 1136, 57669, 2788, 2959, 1196, 1208, 6104, 48516]\n",
      "27 [389, 53, 5523, 4711, 172591, 173925, 135518, 103137, 185029, 92048]\n",
      "352 [318, 2959, 48516, 2329, 1089, 527, 4011, 4226, 356, 858]\n",
      "483 [318, 50, 2959, 1172, 296, 2324, 5902, 1136, 48516, 7361]\n",
      "66 [318, 4226, 1136, 7361, 3037, 6711, 7153, 50, 1252, 1201]\n",
      "222 [48516, 318, 1213, 1221, 1089, 2959, 2571, 912, 1136, 1204]\n",
      "602 [4711, 40, 100714, 4440, 166024, 187541, 80241, 117192, 100882, 318]\n",
      "143 [549, 1085, 4297, 40, 1502, 2566, 26116, 114713, 1564, 3546]\n",
      "330 [318, 58559, 48516, 50, 2788, 4226, 1136, 1222, 7387, 2324]\n",
      "313 [3153, 2138, 3771, 858, 50, 26555, 1235, 1215, 2117, 2467]\n",
      "577 [92048, 858, 5051, 912, 527, 50, 2959, 1204, 1262, 55451]\n",
      "121 [4350, 25788, 389, 92535, 7156, 858, 85736, 912, 56782, 50]\n",
      "540 [318, 858, 50, 2329, 56782, 912, 48516, 57669, 260, 904]\n",
      "48 [318, 1204, 2959, 912, 1136, 904, 1104, 858, 50, 808]\n",
      "413 [1167, 115664, 7756, 858, 2329, 1213, 50, 912, 527, 58655]\n",
      "183 [318, 86781, 89759, 1502, 2959, 187541, 912, 92259, 1204, 4207]\n",
      "477 [48516, 1136, 527, 57669, 1199, 356, 1204, 593, 1196, 3347]\n",
      "195 [55451, 55250, 33815, 90343, 85397, 1213, 50, 1266, 1089, 608]\n",
      "460 [2959, 50, 912, 858, 1204, 1136, 5404, 2571, 1213, 1196]\n",
      "475 [318, 1204, 58655, 5051, 7756, 1167, 2959, 26704, 1136, 246]\n",
      "567 [7756, 4195, 26564, 62383, 33681, 4792, 25771, 5690, 58301, 7361]\n",
      "432 [912, 58559, 1221, 1704, 593, 3147, 57274, 78499, 74458, 1873]\n",
      "252 [318, 1248, 1204, 50, 2959, 912, 5747, 858, 3814, 904]\n",
      "290 [318, 4440, 1204, 912, 858, 1213, 1228, 527, 1225, 923]\n",
      "421 [318, 2959, 112421, 5890, 527, 912, 1718, 858, 1341, 1136]\n",
      "331 [318, 5890, 26116, 858, 3673, 1136, 1213, 56782, 187, 57669]\n",
      "78 [73042, 132800, 128852, 169912, 125974, 104339, 7067, 40, 7756, 318]\n",
      "102 [5447, 5404, 73042, 132800, 128852, 5890, 1341, 174053, 55451, 55250]\n",
      "493 [73290, 549, 858, 1564, 3546, 127152, 171867, 318, 174053, 26116]\n",
      "572 [318, 858, 912, 904, 1193, 750, 1221, 1276, 3037, 1208]\n",
      "3 [1167, 4440, 70946, 4518, 7991, 4527, 5397, 7756, 4195, 5333]\n",
      "278 [92259, 318, 28, 177593, 170705, 96829, 858, 85342, 70946, 174053]\n",
      "393 [40, 73042, 132800, 128852, 106642, 169912, 125974, 104339, 117192, 130518]\n",
      "4 [7756, 26564, 62383, 33681, 898, 3508, 162, 1203, 1283, 912]\n",
      "174 [85412, 100882, 5404, 2669, 3660, 1324, 2614, 33681, 4195, 82041]\n",
      "241 [318, 858, 1193, 912, 1221, 1136, 2571, 48516, 904, 4973]\n",
      "607 [26704, 115664, 157312, 318, 58655, 166024, 3147, 50445, 2398, 110]\n",
      "427 [31437, 32770, 7056, 7756, 101765, 40, 4195, 26564, 62383, 1699]\n",
      "495 [1172, 318, 2959, 26555, 48516, 858, 1193, 58559, 1208, 1704]\n",
      "323 [4207, 318, 115664, 50, 1204, 2959, 1196, 858, 1564, 3546]\n",
      "25 [1208, 912, 50, 2329, 1196, 260, 608, 1221, 593, 904]\n",
      "310 [58655, 1204, 318, 904, 6711, 858, 1198, 912, 1148, 2959]\n",
      "439 [318, 2959, 1204, 50, 912, 73042, 1136, 100507, 1564, 3546]\n",
      "163 [53140, 80586, 99764, 8782, 61401, 130518, 271, 318, 2959, 56782]\n",
      "327 [132800, 73042, 169912, 125974, 7067, 128852, 6566, 6946, 104339, 5404]\n",
      "108 [1204, 4440, 318, 8405, 50, 4878, 2442, 5951, 6023, 1270]\n",
      "131 [318, 2959, 912, 1204, 858, 904, 1136, 1193, 750, 58559]\n",
      "122 [912, 50, 2329, 1196, 260, 1221, 923, 904, 4973, 296]\n",
      "362 [318, 1204, 2959, 912, 1136, 1089, 904, 750, 1208, 1213]\n",
      "340 [318, 1136, 1204, 2959, 912, 50, 8268, 858, 79798, 904]\n",
      "28 [3508, 115664, 5782, 7481, 38061, 858, 157312, 8132, 318, 1213]\n",
      "479 [8268, 904, 318, 1341, 858, 1198, 912, 128520, 5404, 58655]\n",
      "464 [318, 40, 2959, 858, 1204, 2329, 904, 1196, 50, 593]\n",
      "476 [40, 4440, 318, 117192, 2959, 31437, 32770, 7056, 50, 912]\n",
      "59 [53, 912, 858, 904, 318, 5447, 1252, 7756, 2959, 608]\n",
      "254 [318, 2959, 50, 1341, 858, 912, 48516, 1136, 904, 1204]\n",
      "117 [187541, 1204, 2959, 50, 912, 858, 58655, 1136, 1213, 58559]\n",
      "524 [4956, 5279, 55451, 55250, 33815, 90343, 85397, 130518, 187541, 166024]\n",
      "543 [6723, 3508, 92259, 4207, 1812, 2227, 4200, 1167, 7782, 4440]\n",
      "345 [318, 7297, 4476, 93805, 3746, 5051, 858, 26555, 1104, 92259]\n",
      "64 [1204, 318, 5690, 858, 1193, 1203, 1213, 527, 1221, 1208]\n",
      "275 [3328, 1208, 912, 593, 1278, 4034, 3429, 904, 4973, 296]\n",
      "560 [2959, 50, 318, 1208, 58559, 1089, 7361, 2571, 260, 57669]\n",
      "98 [318, 904, 2669, 1193, 5523, 1197, 40, 2959, 2329, 26704]\n",
      "609 [318, 1204, 2959, 858, 912, 1136, 1213, 1193, 1089, 1198]\n",
      "484 [318, 2959, 2329, 923, 175, 294, 50872, 1089, 364, 50]\n",
      "468 [1564, 3546, 1699, 3223, 6184, 8405, 7297, 4476, 4711, 3912]\n",
      "509 [1198, 318, 1196, 1197, 4973, 7153, 2571, 260, 106642, 4993]\n",
      "473 [318, 4789, 5404, 2239, 177593, 4207, 26810, 334, 2329, 2436]\n",
      "208 [170705, 82378, 6370, 760, 126430, 48342, 128520, 100714, 117881, 48744]\n",
      "594 [593, 2571, 7169, 8132, 110, 1225, 28, 1564, 3546, 457]\n",
      "47 [2669, 117192, 318, 356, 3147, 389, 2028, 50, 58559, 912]\n",
      "134 [318, 2959, 1204, 50, 1089, 858, 31437, 32770, 7056, 750]\n",
      "314 [40, 73042, 132800, 128852, 187541, 169912, 125974, 104339, 7067, 152091]\n",
      "503 [318, 1204, 1193, 48516, 1089, 2959, 50, 296, 581, 1198]\n",
      "412 [4956, 5279, 53, 40, 80615, 2959, 318, 904, 858, 912]\n",
      "367 [912, 115664, 858, 157312, 593, 1204, 58655, 2959, 1198, 923]\n",
      "216 [2669, 53, 581, 5051, 5447, 4444, 117545, 142372, 4711, 7756]\n",
      "376 [318, 5447, 2959, 912, 858, 50, 904, 1204, 1213, 1136]\n",
      "58 [389, 318, 2959, 858, 48516, 1204, 912, 2329, 1136, 1213]\n",
      "238 [100882, 318, 85412, 1272, 50, 1136, 2067, 904, 1198, 3147]\n",
      "265 [55451, 55250, 87234, 33815, 90343, 85397, 318, 98203, 117192, 1718]\n",
      "185 [117192, 1718, 166291, 4956, 5279, 101765, 164917, 80615, 66511, 48879]\n",
      "93 [1208, 912, 50, 2329, 1196, 1221, 58559, 1136, 2959, 56782]\n",
      "234 [294, 40, 55451, 55250, 115664, 33815, 90343, 85397, 87234, 157312]\n",
      "233 [318, 2959, 1204, 912, 7361, 48516, 593, 527, 1136, 2571]\n",
      "270 [4154, 1547, 112421, 100882, 1564, 3546, 26116, 92048, 55451, 55250]\n",
      "199 [1204, 1178, 1272, 1217, 166291, 1208, 1233, 1136, 318, 923]\n",
      "402 [4956, 80615, 58655, 4440, 5279, 389, 5404, 48342, 3912, 6387]\n",
      "82 [318, 40, 1198, 2959, 912, 57669, 26704, 110, 1204, 1089]\n",
      "309 [318, 912, 1204, 2959, 904, 1089, 750, 1136, 858, 1208]\n",
      "573 [318, 26555, 50, 48516, 2329, 1196, 58559, 1198, 3213, 1213]\n",
      "426 [1699, 3223, 6184, 1733, 5404, 3165, 206, 3539, 4422, 1922]\n",
      "141 [318, 2959, 912, 50, 1136, 1204, 58559, 2329, 1196, 6711]\n",
      "496 [5404, 61, 3733, 944, 318, 2425, 3771, 4086, 731, 2280]\n",
      "286 [2959, 1341, 318, 112421, 50, 2329, 912, 858, 296, 1136]\n",
      "353 [50445, 92048, 1167, 2425, 5404, 70946, 170705, 166024, 86504, 96829]\n",
      "190 [101765, 318, 40, 389, 549, 2959, 1204, 1136, 912, 858]\n",
      "470 [5051, 4440, 40, 318, 187541, 2669, 1204, 2959, 858, 1564]\n",
      "158 [1545, 4442, 180095, 6300, 547, 27619, 26444, 162606, 7294, 73211]\n",
      "113 [294, 53, 3451, 912, 904, 1193, 1167, 265, 969, 318]\n",
      "104 [1148, 4973, 1136, 318, 527, 356, 2959, 912, 48780, 50]\n",
      "33 [318, 50, 58655, 527, 117192, 1446, 296, 356, 593, 2959]\n",
      "463 [318, 130518, 117192, 100882, 2959, 1136, 50, 1204, 912, 858]\n",
      "410 [112421, 904, 1276, 2959, 3468, 923, 1228, 1136, 912, 858]\n",
      "149 [4711, 8405, 130518, 4207, 294, 3660, 1324, 2614, 2442, 169912]\n",
      "552 [318, 1341, 1136, 112421, 1196, 50, 750, 1208, 858, 7153]\n",
      "191 [4956, 5279, 5890, 720, 5867, 318, 80615, 5447, 246, 1204]\n",
      "502 [85412, 100882, 703, 3653, 4440, 1105, 484, 536, 27619, 6523]\n",
      "75 [1910, 40, 8605, 73042, 294, 100507, 132800, 128852, 162478, 318]\n",
      "83 [166291, 164917, 1564, 3546, 26704, 40, 187541, 58559, 1225, 547]\n",
      "391 [318, 1204, 1104, 1228, 912, 1136, 1172, 1089, 858, 1193]\n",
      "79 [294, 549, 318, 912, 92048, 1085, 4297, 2959, 1204, 1196]\n",
      "357 [1104, 318, 7669, 50, 1276, 858, 246, 58559, 26471, 1221]\n",
      "235 [389, 318, 101765, 166024, 112421, 2959, 912, 1167, 1204, 50]\n",
      "76 [26704, 1213, 2959, 57669, 82041, 84189, 1221, 2318, 1089, 72129]\n",
      "139 [547, 891, 3846, 3758, 3370, 426, 1422, 26116, 2816, 334]\n",
      "447 [26704, 318, 5404, 912, 50, 1089, 2959, 858, 48516, 1136]\n",
      "259 [808, 165103, 238, 3938, 5433, 8906, 5205, 4893, 2878, 1502]\n",
      "67 [318, 1564, 3546, 2959, 184, 50, 581, 858, 48516, 904]\n",
      "593 [3660, 1324, 2614, 318, 187541, 1341, 40, 912, 389, 581]\n",
      "382 [389, 318, 2959, 912, 858, 50, 1196, 750, 2571, 7153]\n",
      "109 [100714, 100882, 4399, 6663, 8235, 26422, 85412, 318, 33781, 2959]\n",
      "420 [318, 2959, 912, 50, 1136, 858, 1204, 48516, 527, 1196]\n",
      "220 [389, 912, 50, 858, 58655, 1196, 1198, 1204, 2571, 1193]\n",
      "38 [5447, 130518, 4440, 169912, 125974, 104339, 132800, 128852, 166024, 2882]\n",
      "153 [168492, 140174, 4226, 5992, 89904, 180095, 7361, 106920, 7265, 88810]\n",
      "144 [115664, 157312, 166291, 164917, 318, 2959, 912, 1204, 50, 114713]\n",
      "204 [4207, 318, 1204, 1104, 1136, 5472, 1213, 527, 1242, 1193]\n",
      "583 [581, 5539, 4711, 2477, 981, 3313, 703, 8268, 184, 426]\n",
      "336 [4154, 549, 318, 5447, 1547, 73042, 4207, 132800, 128852, 50]\n",
      "101 [5951, 6023, 2442, 2330, 549, 100714, 78, 8405, 26810, 1085]\n",
      "466 [318, 4207, 50, 2959, 1204, 1136, 912, 750, 356, 1193]\n",
      "527 [166291, 318, 164917, 593, 912, 1204, 1196, 1089, 1198, 50]\n",
      "60 [130518, 100507, 170697, 86892, 166291, 5404, 1718, 59103, 127152, 171867]\n",
      "168 [318, 858, 2959, 912, 750, 1213, 50, 1089, 1136, 1204]\n",
      "597 [1172, 1272, 1204, 246, 922, 50, 318, 904, 1197, 1225]\n",
      "379 [4154, 1547, 130518, 1718, 73042, 1564, 3546, 132800, 128852, 7756]\n",
      "506 [3846, 4654, 4466, 2073, 550, 30898, 4743, 2956, 782, 5417]\n",
      "69 [50, 2959, 318, 858, 1204, 1136, 912, 48516, 904, 1198]\n",
      "57 [115664, 912, 1136, 50, 904, 157312, 750, 1148, 593, 913]\n",
      "169 [318, 1204, 1136, 2959, 912, 527, 858, 50, 750, 7153]\n",
      "302 [86892, 59103, 127152, 171867, 85179, 318, 59143, 165947, 808, 92048]\n",
      "344 [5447, 26704, 334, 8268, 1167, 114713, 1105, 484, 2928, 2523]\n",
      "250 [50, 2959, 318, 306, 25771, 1718, 4973, 912, 1136, 4226]\n",
      "322 [318, 2959, 1136, 912, 50, 750, 1204, 1198, 2329, 1089]\n",
      "36 [4219, 95067, 109576, 160565, 114818, 49647, 4444, 117545, 142372, 63540]\n",
      "409 [40, 7756, 318, 101765, 26564, 62383, 858, 912, 2959, 4195]\n",
      "554 [58655, 981, 5447, 61, 306, 4440, 858, 318, 3037, 170697]\n",
      "557 [294, 8268, 2425, 1105, 484, 1547, 4154, 981, 318, 184]\n",
      "582 [318, 50, 912, 1136, 858, 904, 48516, 1089, 1213, 1198]\n",
      "548 [2959, 318, 1252, 1204, 246, 58559, 593, 527, 48516, 898]\n",
      "360 [627, 8782, 3451, 695, 53, 547, 2477, 53140, 5747, 7379]\n",
      "523 [912, 50, 2329, 1196, 58559, 1136, 2959, 2571, 750, 318]\n",
      "97 [82041, 84189, 318, 106642, 858, 130518, 50, 4956, 5279, 80615]\n",
      "267 [581, 318, 1204, 1196, 904, 7756, 1198, 912, 858, 2959]\n",
      "384 [172591, 104863, 173925, 135518, 112421, 1204, 808, 318, 127298, 92048]\n",
      "172 [318, 50, 1204, 2959, 56782, 912, 858, 58559, 48516, 904]\n",
      "171 [1208, 912, 50, 2329, 1196, 608, 1221, 593, 923, 904]\n",
      "528 [8268, 2669, 53, 61, 1564, 3546, 2633, 981, 187541, 85412]\n",
      "444 [389, 2425, 318, 2959, 5890, 50, 912, 858, 904, 1136]\n",
      "176 [912, 2959, 858, 130518, 4440, 1204, 1136, 1196, 48342, 6370]\n",
      "346 [53, 904, 318, 50, 912, 750, 858, 1208, 1252, 306]\n",
      "522 [318, 48516, 50, 58559, 1136, 2959, 68157, 2502, 1196, 1089]\n",
      "65 [5890, 5867, 50, 48516, 2329, 1089, 858, 1136, 8341, 912]\n",
      "95 [318, 2959, 50, 1204, 912, 1196, 1198, 1136, 2571, 7361]\n",
      "519 [318, 912, 2959, 1204, 50, 858, 1136, 1196, 1198, 2571]\n",
      "589 [318, 2566, 547, 1167, 4440, 389, 5404, 238, 808, 2669]\n",
      "73 [4440, 1341, 5890, 318, 1206, 58559, 1193, 114713, 547, 5867]\n",
      "289 [318, 71462, 1198, 2329, 48516, 50, 142115, 527, 593, 1136]\n",
      "467 [117192, 549, 5890, 83827, 96829, 130518, 112421, 8341, 86504, 32898]\n",
      "386 [1341, 98203, 5890, 26116, 5867, 8605, 87234, 66511, 2959, 7756]\n",
      "591 [112421, 109569, 104074, 127298, 6387, 49389, 176419, 141866, 141890, 4440]\n",
      "292 [8132, 318, 112852, 389, 3836, 3147, 2761, 1207, 356, 53]\n",
      "333 [174053, 26116, 166461, 1564, 3546, 100714, 162478, 161580, 91470, 142509]\n",
      "498 [50954, 318, 2633, 130518, 73042, 1910, 3912, 152091, 155820, 132800]\n",
      "471 [40, 389, 318, 1136, 912, 2959, 1213, 48516, 858, 1221]\n",
      "155 [4200, 7782, 6723, 8778, 981, 294, 109569, 104074, 85788, 1547]\n",
      "118 [8268, 318, 5404, 1204, 858, 2959, 100714, 1718, 912, 1213]\n",
      "271 [318, 4956, 5279, 50, 1136, 2959, 912, 858, 904, 1193]\n",
      "440 [318, 547, 1204, 2959, 50, 912, 1089, 858, 92259, 904]\n",
      "10 [92259, 912, 318, 94070, 7169, 49272, 7153, 4993, 50, 91529]\n",
      "258 [1248, 58, 318, 898, 246, 306, 6666, 2959, 7008, 5404]\n",
      "488 [115664, 157312, 318, 5051, 26116, 3451, 70946, 904, 1136, 87234]\n",
      "296 [318, 5404, 130518, 296, 527, 166291, 4440, 2324, 2571, 1136]\n",
      "236 [1415, 132800, 162606, 92259, 4207, 73042, 171, 4252, 169912, 3451]\n",
      "416 [4200, 7782, 6723, 8778, 4154, 4517, 5867, 5890, 26810, 2959]\n",
      "11 [389, 7756, 166024, 4195, 318, 26564, 62383, 104863, 173925, 172591]\n",
      "343 [7756, 26564, 62383, 33681, 318, 912, 166291, 50, 1213, 904]\n",
      "430 [1341, 40, 4956, 5279, 318, 4252, 4166, 80615, 549, 1204]\n",
      "266 [5447, 2959, 50, 1199, 1213, 1136, 1266, 1222, 1206, 541]\n",
      "263 [318, 527, 912, 593, 1136, 858, 2959, 1148, 6711, 1204]\n",
      "281 [100882, 92048, 85412, 318, 50445, 1204, 73042, 26564, 62383, 50]\n",
      "85 [581, 171, 53140, 146, 304, 48342, 940, 354, 48744, 389]\n",
      "429 [148424, 78836, 8838, 5224, 103688, 6869, 6966, 53161, 112515, 161634]\n",
      "218 [70599, 4711, 680, 1545, 5867, 318, 8405, 2959, 1204, 904]\n",
      "24 [318, 50, 2959, 1204, 912, 858, 1198, 1136, 1196, 1213]\n",
      "178 [318, 2959, 2329, 912, 858, 8405, 48516, 1136, 1089, 7361]\n",
      "145 [112421, 127298, 166024, 176419, 141866, 141890, 72294, 151455, 108188, 86059]\n",
      "304 [1198, 1196, 527, 904, 1207, 1204, 1213, 858, 356, 912]\n",
      "601 [2959, 50, 1204, 1136, 2571, 48516, 1198, 527, 750, 1213]\n",
      "244 [4207, 130518, 73042, 389, 132800, 128852, 318, 128520, 169912, 125974]\n",
      "482 [91470, 142509, 159415, 115664, 1718, 26681, 89190, 157312, 808, 101765]\n",
      "431 [680, 96829, 82378, 8405, 90345, 760, 126430, 2442, 8939, 82041]\n",
      "15 [40, 5051, 3660, 1324, 2614, 549, 4440, 58655, 318, 1085]\n",
      "491 [1034, 318, 1238, 5404, 2959, 1136, 2566, 246, 912, 1089]\n",
      "23 [389, 547, 318, 2959, 50, 1204, 58559, 1198, 2571, 48516]\n",
      "417 [318, 2959, 50, 858, 1136, 904, 2329, 1204, 912, 1193]\n",
      "374 [5404, 5890, 130518, 4956, 5279, 5867, 2566, 318, 4440, 1204]\n",
      "566 [73042, 3660, 1324, 2614, 132800, 128852, 169912, 125974, 104339, 7067]\n",
      "228 [318, 692, 1352, 50, 2959, 130518, 1198, 904, 2571, 1196]\n",
      "349 [7756, 4195, 26564, 62383, 33681, 170697, 547, 318, 101765, 1718]\n",
      "551 [318, 26704, 40, 2959, 92259, 912, 356, 1204, 2669, 593]\n",
      "123 [318, 912, 50, 1136, 858, 2329, 904, 1196, 1213, 4226]\n",
      "586 [318, 50, 912, 1198, 750, 2329, 1136, 2959, 48516, 4226]\n",
      "442 [177593, 58301, 174053, 85342, 112421, 117192, 87234, 92259, 680, 89759]\n",
      "435 [5447, 318, 1910, 2959, 858, 50, 912, 1136, 1204, 1196]\n",
      "458 [148424, 8838, 53161, 549, 90469, 92391, 52950, 70946, 26510, 141408]\n",
      "564 [318, 904, 513, 504, 2959, 912, 750, 4219, 5404, 31437]\n",
      "264 [318, 2959, 115664, 912, 5404, 1204, 50, 858, 1136, 56782]\n",
      "151 [132800, 160567, 86892, 73042, 169912, 59103, 85179, 130518, 125974, 7067]\n",
      "17 [318, 2959, 858, 50, 1204, 912, 1196, 1136, 2571, 904]\n",
      "588 [5447, 130518, 2882, 3912, 48342, 48744, 4053, 680, 5404, 50]\n",
      "209 [318, 1204, 912, 1136, 2959, 50, 858, 1196, 750, 1213]\n",
      "512 [3660, 1324, 2614, 4350, 2425, 25788, 318, 102194, 130518, 1167]\n",
      "56 [1910, 33681, 26564, 7756, 62383, 4195, 5404, 50445, 92048, 100507]\n",
      "500 [115664, 157312, 8405, 166024, 114713, 2442, 5951, 6023, 85354, 170705]\n",
      "312 [53, 1204, 318, 912, 750, 1208, 904, 26555, 527, 858]\n",
      "72 [318, 2959, 1204, 858, 1136, 1213, 1089, 750, 2571, 2329]\n",
      "110 [318, 4973, 155820, 1136, 109569, 104074, 50, 152091, 912, 1276]\n",
      "347 [389, 4207, 166024, 318, 1167, 2959, 912, 50, 858, 1204]\n",
      "189 [318, 50, 912, 2959, 858, 166291, 1213, 58559, 1136, 904]\n",
      "536 [5447, 7756, 581, 4195, 92509, 26564, 62383, 7991, 112421, 33681]\n",
      "90 [50, 4200, 7782, 6723, 8778, 1213, 6711, 1228, 2959, 904]\n",
      "400 [318, 50, 912, 1204, 1196, 1136, 1089, 2571, 2329, 904]\n",
      "459 [318, 2959, 50, 1204, 4440, 904, 858, 912, 48516, 5890]\n",
      "173 [8405, 549, 1085, 4297, 2442, 169912, 125974, 104339, 5951, 6023]\n",
      "574 [34523, 34336, 2566, 2669, 4733, 1526, 73290, 112370, 127098, 104283]\n",
      "371 [1208, 912, 50, 2329, 1258, 1196, 260, 608, 1221, 593]\n",
      "515 [1208, 912, 50, 2329, 1196, 260, 608, 1221, 593, 904]\n",
      "61 [318, 1204, 912, 2959, 50, 858, 1136, 904, 1196, 2571]\n",
      "404 [58655, 50, 912, 1204, 858, 2959, 1136, 904, 1089, 1193]\n",
      "604 [174053, 549, 91470, 142509, 318, 159415, 94130, 1085, 4297, 93297]\n",
      "272 [318, 7067, 73015, 50, 48516, 1136, 4973, 2959, 1197, 858]\n",
      "396 [981, 418, 61, 184, 89759, 680, 1564, 3546, 549, 318]\n",
      "441 [5404, 5447, 318, 7756, 58559, 2959, 1547, 50, 1089, 1136]\n",
      "161 [130518, 73042, 132800, 128852, 5051, 318, 4711, 858, 1198, 92259]\n",
      "53 [5218, 216, 2962, 3328, 8464, 307, 1208, 63082, 912, 1172]\n",
      "192 [94503, 95067, 102993, 109576, 7297, 4476, 93805, 2633, 160565, 114818]\n",
      "146 [83827, 1545, 5224, 6869, 6966, 6387, 2425, 4977, 4086, 4252]\n",
      "211 [318, 53, 2959, 50, 858, 912, 1204, 2329, 1198, 1089]\n",
      "231 [40, 1105, 484, 828, 318, 3451, 2571, 50, 2959, 912]\n",
      "164 [7297, 73290, 4476, 101765, 389, 1167, 93805, 80241, 2669, 4207]\n",
      "338 [4195, 527, 6460, 858, 2959, 3451, 5404, 171, 549, 177593]\n",
      "553 [318, 2959, 858, 50, 48516, 1213, 912, 1089, 1136, 1204]\n",
      "213 [318, 1105, 484, 146, 304, 1204, 2959, 115664, 354, 40]\n",
      "388 [162578, 3858, 4956, 26810, 4444, 117545, 8254, 5279, 448, 2978]\n",
      "366 [115664, 157312, 318, 2959, 50, 1136, 858, 1204, 912, 750]\n",
      "324 [59103, 87234, 26528, 3430, 1545, 38304, 3402, 83132, 7297, 4476]\n",
      "526 [318, 808, 2959, 50, 1136, 912, 1198, 904, 1089, 7361]\n",
      "126 [8405, 166024, 4711, 2442, 100714, 5951, 6023, 3746, 93805, 79798]\n",
      "31 [78174, 148652, 127152, 171867, 59143, 165947, 4399, 5523, 103137, 6663]\n",
      "341 [26555, 318, 166024, 581, 1136, 912, 2959, 50, 858, 904]\n",
      "539 [2566, 1167, 112421, 92048, 318, 87234, 117192, 127298, 912, 92259]\n",
      "52 [318, 2959, 1204, 50, 912, 858, 2571, 1213, 2329, 1136]\n",
      "12 [1208, 912, 1172, 50, 2329, 1258, 1196, 260, 608, 1221]\n",
      "106 [912, 50, 1196, 904, 132800, 1136, 2959, 2571, 7153, 318]\n",
      "165 [115664, 112421, 318, 157312, 127298, 2959, 8268, 1089, 1198, 1204]\n",
      "403 [581, 61, 4200, 7782, 1545, 87234, 536, 6723, 8778, 26116]\n",
      "96 [7756, 26564, 62383, 4195, 1910, 50, 33681, 318, 1204, 1089]\n",
      "2 [318, 2959, 4226, 750, 1089, 48516, 6711, 912, 1136, 260]\n",
      "22 [513, 504, 6425, 2741, 1105, 484, 808, 1545, 2816, 981]\n",
      "242 [3660, 1324, 2614, 166024, 89759, 4252, 4166, 5523, 318, 2959]\n",
      "492 [3660, 4207, 1324, 40, 2614, 2633, 73015, 7067, 318, 7991]\n",
      "537 [318, 115664, 8268, 48516, 2329, 61401, 157312, 8782, 2959, 1213]\n",
      "505 [73290, 912, 904, 318, 50, 6460, 7153, 593, 58559, 3153]\n",
      "180 [318, 2959, 858, 912, 1213, 50, 1204, 1196, 904, 1089]\n",
      "170 [581, 58655, 100714, 318, 100882, 155820, 6370, 152091, 92694, 48342]\n",
      "86 [318, 50, 858, 912, 1136, 2329, 1089, 48516, 1213, 904]\n",
      "5 [389, 5890, 5867, 1341, 2425, 1204, 187541, 318, 2959, 912]\n",
      "584 [318, 1167, 50, 1502, 1213, 912, 1198, 858, 356, 1136]\n",
      "319 [318, 858, 2959, 50, 1204, 1136, 1213, 912, 1196, 2571]\n",
      "196 [80241, 4711, 318, 808, 6460, 238, 912, 2959, 334, 750]\n",
      "549 [86817, 91079, 8341, 100714, 5890, 2959, 94130, 4711, 5867, 93297]\n",
      "224 [73042, 130518, 981, 389, 132800, 128852, 5523, 58655, 527, 40]\n",
      "303 [5447, 53, 4440, 5051, 4154, 174053, 1718, 91470, 142509, 26555]\n",
      "229 [130518, 4440, 318, 5890, 1341, 1204, 2959, 50, 112421, 858]\n",
      "461 [166291, 164917, 130518, 73042, 132800, 128852, 294, 55451, 55250, 169912]\n",
      "571 [127152, 59143, 161580, 78174, 148652, 171867, 165947, 162478, 82041, 84189]\n",
      "277 [170705, 8254, 4399, 6663, 8235, 26422, 160565, 114818, 33781, 2732]\n",
      "225 [50954, 1167, 73290, 174053, 148652, 117881, 59143, 165947, 166461, 581]\n",
      "533 [318, 2959, 50, 92259, 527, 858, 912, 58559, 1136, 1213]\n",
      "392 [40, 66511, 103984, 2669, 117887, 8268, 5523, 1910, 7107, 6658]\n",
      "378 [318, 680, 1136, 50, 912, 1193, 1089, 48516, 1204, 1198]\n",
      "449 [94130, 318, 828, 93297, 87413, 166291, 101765, 164917, 82041, 84189]\n",
      "115 [58655, 40, 112421, 73042, 3037, 132800, 128852, 82041, 84189, 127298]\n",
      "579 [8268, 4956, 5279, 1564, 3546, 58655, 80615, 5404, 318, 6460]\n",
      "44 [80241, 48342, 6370, 4711, 71462, 48744, 174053, 142115, 112421, 117192]\n",
      "389 [1136, 1193, 2959, 318, 4956, 6723, 858, 1213, 1204, 152970]\n",
      "301 [166291, 164917, 187541, 115664, 318, 56782, 50, 2959, 1341, 48516]\n",
      "138 [78, 7156, 170705, 96829, 58301, 5404, 115569, 92535, 7756, 171]\n",
      "348 [912, 50, 1196, 2959, 858, 1204, 2329, 48516, 1089, 904]\n",
      "175 [45728, 65514, 665, 2497, 92535, 92259, 550, 115569, 86377, 4733]\n",
      "450 [318, 1204, 912, 2959, 904, 858, 50, 1193, 4200, 7782]\n",
      "227 [101765, 318, 2959, 50, 858, 750, 48516, 1136, 904, 1213]\n",
      "472 [318, 912, 50, 2959, 1104, 48516, 2329, 1213, 25771, 3037]\n",
      "243 [2425, 100882, 3733, 389, 85412, 1442, 2959, 318, 48516, 680]\n",
      "370 [2959, 50, 1204, 858, 912, 2329, 1213, 4973, 593, 1136]\n",
      "454 [59103, 101765, 85179, 5404, 2669, 86892, 318, 95067, 130450, 109576]\n",
      "350 [547, 318, 4440, 117192, 50, 1136, 8268, 2959, 56782, 912]\n",
      "297 [4399, 107565, 6663, 8235, 26422, 78703, 33781, 92509, 95543, 112421]\n",
      "559 [166024, 4207, 318, 187541, 581, 73042, 1204, 112421, 132800, 128852]\n",
      "255 [50445, 73290, 294, 92048, 981, 5523, 112421, 1034, 107565, 103137]\n",
      "148 [5890, 5867, 318, 2959, 912, 50, 1198, 1172, 7361, 2329]\n",
      "251 [1208, 912, 50, 2329, 1196, 260, 1221, 593, 904, 4973]\n",
      "399 [117192, 1564, 3546, 115664, 318, 617, 114713, 1196, 3660, 1324]\n",
      "248 [318, 2959, 50, 858, 1089, 6387, 1193, 750, 912, 1228]\n",
      "130 [1718, 5404, 92048, 318, 4440, 7756, 2351, 117192, 2669, 130518]\n",
      "485 [101765, 318, 912, 50, 25771, 7756, 942, 858, 904, 2959]\n",
      "556 [171, 73042, 61, 1545, 318, 132800, 128852, 3846, 944, 536]\n",
      "257 [294, 89759, 70599, 4789, 4440, 53140, 58301, 5890, 100882, 4956]\n",
      "316 [135518, 331, 173925, 318, 766, 5404, 547, 174053, 6460, 187541]\n",
      "70 [318, 2959, 858, 1136, 912, 50, 1204, 56782, 48516, 1213]\n",
      "311 [27619, 87234, 117192, 82041, 84189, 4350, 50954, 4711, 25788, 170697]\n",
      "581 [912, 50, 858, 1136, 48516, 1213, 1196, 1193, 1204, 904]\n",
      "107 [55451, 55250, 33815, 90343, 85397, 549, 318, 1085, 4297, 58301]\n",
      "55 [87234, 170705, 70946, 130518, 96829, 78836, 26547, 680, 174053, 170697]\n",
      "544 [912, 50, 1221, 1136, 2959, 2571, 7153, 318, 1276, 4956]\n",
      "247 [318, 26564, 62383, 2959, 50, 33681, 858, 1193, 1196, 1197]\n",
      "538 [318, 581, 2959, 912, 4200, 7782, 2807, 48516, 7153, 58559]\n",
      "443 [33815, 55451, 90343, 55250, 85397, 58655, 318, 912, 6711, 4154]\n",
      "300 [5890, 318, 1341, 1136, 5867, 4195, 40, 1204, 389, 858]\n",
      "223 [115664, 157312, 5447, 50, 73042, 48516, 2959, 1136, 4973, 132800]\n",
      "154 [1208, 912, 1172, 50, 2329, 1196, 260, 608, 593, 3147]\n",
      "150 [117192, 27834, 79798, 31437, 32770, 7056, 129397, 5404, 92259, 680]\n",
      "92 [1105, 7297, 146, 304, 4476, 484, 93805, 617, 3746, 352]\n",
      "457 [581, 1564, 3546, 7756, 4956, 5279, 5447, 100882, 73042, 80615]\n",
      "375 [318, 1204, 70946, 115664, 8405, 2959, 858, 5404, 157312, 2442]\n",
      "54 [318, 2959, 912, 1136, 1204, 50, 858, 48516, 1193, 527]\n",
      "497 [4200, 7782, 115664, 6723, 8778, 157312, 4517, 581, 184, 40]\n",
      "81 [40, 31437, 32770, 7056, 2425, 4956, 5279, 4086, 294, 3733]\n",
      "494 [130518, 58301, 318, 2959, 50, 8605, 1718, 40, 858, 1196]\n",
      "203 [318, 1718, 2959, 858, 50, 1105, 484, 912, 4440, 112421]\n",
      "293 [130518, 100507, 73042, 58655, 48342, 132800, 128852, 127152, 171867, 45175]\n",
      "315 [83827, 26116, 53, 5224, 6869, 82378, 40, 6966, 760, 126430]\n",
      "394 [5404, 183897, 32898, 86781, 174053, 163645, 112421, 86628, 96020, 95654]\n",
      "531 [6387, 2425, 117192, 130518, 4789, 100507, 82041, 84189, 26810, 155820]\n",
      "486 [26704, 318, 112421, 127298, 2959, 858, 912, 176419, 141866, 141890]\n",
      "575 [117881, 32898, 82378, 85736, 73290, 95377, 95654, 69529, 760, 126430]\n",
      "481 [5466, 49647, 89759, 103984, 760, 4444, 183897, 31804, 117545, 6387]\n",
      "558 [73042, 130518, 127152, 171867, 3325, 132800, 128852, 59143, 165947, 55451]\n",
      "253 [318, 5404, 2959, 4442, 1204, 912, 904, 858, 50, 1196]\n",
      "13 [4956, 5279, 58301, 40, 5890, 80615, 87234, 100714, 318, 581]\n",
      "112 [389, 2669, 26704, 4711, 5051, 100882, 8268, 33681, 318, 70946]\n",
      "508 [58301, 96829, 170705, 70946, 117192, 159093, 86504, 55908, 90439, 4789]\n",
      "14 [4711, 6370, 48342, 48744, 48516, 581, 2959, 1193, 912, 858]\n",
      "193 [53, 1193, 318, 260, 1206, 1196, 1564, 3546, 2959, 1207]\n",
      "363 [166291, 164917, 53, 115664, 157312, 59143, 165947, 127152, 171867, 73042]\n",
      "532 [132800, 73042, 128520, 128852, 86817, 91079, 169912, 125974, 104339, 7067]\n",
      "99 [148424, 31427, 31431, 4219, 50445, 7107, 72701, 8838, 2566, 2669]\n",
      "207 [177593, 58301, 87234, 174053, 117881, 26528, 77800, 1361, 334, 89759]\n",
      "299 [318, 2959, 50, 1204, 912, 73290, 858, 1136, 1213, 6711]\n",
      "88 [318, 1204, 912, 50, 2959, 58559, 1193, 7361, 1272, 1172]\n",
      "142 [73042, 132800, 128852, 7756, 128520, 169912, 125974, 104339, 4195, 26564]\n",
      "284 [5404, 50445, 73042, 132800, 128852, 92048, 4440, 5447, 318, 1204]\n",
      "511 [1204, 246, 912, 858, 3451, 50, 1196, 898, 2571, 1136]\n",
      "535 [2633, 40, 1949, 2494, 26116, 26528, 4154, 549, 8405, 5890]\n",
      "383 [5404, 87234, 5890, 318, 170697, 177593, 115664, 5867, 73290, 172591]\n",
      "37 [2566, 2669, 33681, 26564, 73290, 101765, 62383, 5404, 50954, 3653]\n",
      "478 [87234, 174053, 166291, 152970, 164917, 91470, 142509, 172591, 102194, 83132]\n",
      "285 [58655, 318, 858, 904, 80241, 2959, 86817, 91079, 1104, 5051]\n",
      "197 [2882, 6723, 8778, 4200, 7782, 109569, 104074, 49389, 40, 130518]\n",
      "35 [1208, 912, 50, 904, 1136, 1193, 2959, 750, 318, 858]\n",
      "133 [318, 2959, 4711, 4195, 1204, 5404, 858, 912, 1136, 8405]\n",
      "120 [117192, 87234, 26810, 112421, 100507, 174053, 26116, 7767, 127298, 172591]\n",
      "329 [4789, 828, 1292, 156, 4780, 278, 778, 549, 1193, 58655]\n",
      "487 [1204, 1341, 904, 527, 1104, 2959, 1272, 1262, 260, 1252]\n",
      "585 [318, 155820, 2959, 152091, 858, 106062, 159441, 48516, 912, 50]\n",
      "578 [912, 2329, 422, 2959, 318, 2497, 940, 3508, 2670, 4795]\n",
      "364 [418, 389, 8268, 1105, 484, 318, 1104, 1207, 25771, 1204]\n",
      "530 [117192, 318, 130518, 912, 2959, 92259, 50, 1196, 750, 1136]\n",
      "406 [5466, 92259, 2073, 33815, 49647, 26764, 55451, 4444, 73211, 5034]\n",
      "598 [166291, 164917, 4154, 1547, 6370, 27619, 100714, 48342, 48744, 8405]\n",
      "335 [318, 40, 4440, 8268, 58301, 167746, 92259, 2959, 1167, 1196]\n",
      "127 [4789, 5890, 5867, 31427, 4991, 58876, 37853, 72129, 7142, 43556]\n",
      "499 [26528, 5404, 1361, 83827, 7078, 5224, 6869, 549, 4442, 6966]\n",
      "337 [318, 4207, 912, 527, 2959, 1204, 1089, 1136, 858, 2882]\n",
      "433 [58655, 112421, 6723, 8778, 53140, 8782, 3037, 8268, 61401, 318]\n",
      "269 [3660, 1324, 2614, 117192, 627, 25771, 906, 112421, 3091, 4920]\n",
      "124 [53, 318, 1204, 50, 1136, 2959, 858, 1213, 7361, 2329]\n",
      "569 [318, 1699, 3223, 1204, 5404, 2959, 48516, 6184, 92259, 7361]\n",
      "407 [5051, 5447, 4154, 3302, 1123, 1547, 4350, 25788, 5466, 5034]\n",
      "157 [155820, 61, 106062, 152091, 159441, 2807, 1004, 881, 828, 135137]\n",
      "30 [912, 50, 2329, 1196, 904, 1136, 2959, 2571, 318, 858]\n",
      "529 [680, 143969, 5404, 117192, 4399, 4195, 6663, 8235, 26422, 163645]\n",
      "188 [318, 2959, 904, 48516, 1136, 2329, 527, 912, 858, 2571]\n",
      "283 [1105, 484, 981, 130518, 1167, 73042, 100714, 132800, 128852, 73290]\n",
      "507 [117887, 318, 947, 1699, 3223, 101765, 112421, 6184, 53574, 2959]\n",
      "595 [318, 527, 1204, 28, 2329, 1089, 6350, 50, 2959, 858]\n",
      "194 [318, 4789, 32898, 163645, 95654, 69529, 100882, 2959, 112006, 50]\n",
      "206 [318, 1684, 858, 1204, 112421, 7361, 2959, 912, 904, 2511]\n",
      "320 [318, 25771, 2959, 3451, 3022, 3037, 92259, 898, 5404, 858]\n",
      "114 [58655, 100714, 130518, 166291, 164917, 318, 1204, 1136, 2959, 3147]\n",
      "147 [2669, 26564, 7756, 680, 62383, 4195, 1564, 3546, 4792, 79798]\n",
      "245 [112421, 4708, 3819, 72171, 8748, 58376, 117533, 183897, 86892, 127298]\n",
      "550 [318, 2959, 26555, 50, 680, 912, 858, 1204, 1136, 1196]\n",
      "49 [318, 2959, 50, 1136, 912, 858, 1089, 904, 48516, 1204]\n",
      "568 [318, 50, 2959, 5690, 1262, 2788, 1213, 246, 1172, 912]\n",
      "205 [318, 2959, 50, 2571, 1136, 7361, 296, 260, 750, 48516]\n"
     ]
    }
   ],
   "source": [
    "top_n_KNN = get_top_n(KNN_predictions, n=10)\n",
    "for uid, user_ratings in top_n_KNN.items():\n",
    "    print(uid, [iid for (iid, _) in user_ratings])"
   ]
  },
  {
   "cell_type": "code",
   "execution_count": 207,
   "metadata": {},
   "outputs": [
    {
     "data": {
      "text/plain": [
       "[(318, 'Shawshank Redemption, The (1994)'),\n",
       " (858, 'Godfather, The (1972)'),\n",
       " (3451, \"Guess Who's Coming to Dinner (1967)\"),\n",
       " (1221, 'Godfather: Part II, The (1974)'),\n",
       " (7153, 'Lord of the Rings: The Return of the King, The (2003)'),\n",
       " (7361, 'Eternal Sunshine of the Spotless Mind (2004)'),\n",
       " (912, 'Casablanca (1942)'),\n",
       " (527, \"Schindler's List (1993)\"),\n",
       " (1136, 'Monty Python and the Holy Grail (1975)'),\n",
       " (906, 'Gaslight (1944)')]"
      ]
     },
     "execution_count": 207,
     "metadata": {},
     "output_type": "execute_result"
    }
   ],
   "source": [
    "get_user_recommendations(474,top_n_KNN)"
   ]
  },
  {
   "cell_type": "code",
   "execution_count": 208,
   "metadata": {
    "scrolled": true
   },
   "outputs": [
    {
     "data": {
      "text/plain": [
       "[(3328, 'Ghost Dog: The Way of the Samurai (1999)'),\n",
       " (1208, 'Apocalypse Now (1979)'),\n",
       " (68157, 'Inglourious Basterds (2009)'),\n",
       " (1258, 'Shining, The (1980)'),\n",
       " (1196, 'Star Wars: Episode V - The Empire Strikes Back (1980)'),\n",
       " (260, 'Star Wars: Episode IV - A New Hope (1977)'),\n",
       " (1221, 'Godfather: Part II, The (1974)'),\n",
       " (904, 'Rear Window (1954)'),\n",
       " (296, 'Pulp Fiction (1994)'),\n",
       " (7387, 'Dawn of the Dead (1978)')]"
      ]
     },
     "execution_count": 208,
     "metadata": {},
     "output_type": "execute_result"
    }
   ],
   "source": [
    "get_user_recommendations(610,top_n_KNN)"
   ]
  },
  {
   "cell_type": "code",
   "execution_count": 209,
   "metadata": {},
   "outputs": [
    {
     "data": {
      "text/plain": [
       "[(117192, 'Doctor Who: The Time of the Doctor (2013)'),\n",
       " (87234, 'Submarine (2010)'),\n",
       " (26810, 'Bad Boy Bubby (1993)'),\n",
       " (112421, 'Frank (2014)'),\n",
       " (100507, '21 and Over (2013)'),\n",
       " (174053, 'Black Mirror: White Christmas (2014)'),\n",
       " (26116, 'Hush... Hush, Sweet Charlotte (1964)'),\n",
       " (7767, 'Best of Youth, The (La meglio gioventù) (2003)'),\n",
       " (127298, 'A Pigeon Sat on a Branch Reflecting on Existence (2014)'),\n",
       " (172591, 'The Godfather Trilogy: 1972-1990 (1992)')]"
      ]
     },
     "execution_count": 209,
     "metadata": {},
     "output_type": "execute_result"
    }
   ],
   "source": [
    "get_user_recommendations(120,top_n_KNN)"
   ]
  },
  {
   "cell_type": "code",
   "execution_count": 210,
   "metadata": {},
   "outputs": [
    {
     "data": {
      "text/plain": [
       "[(166291, 'A Silent Voice (2016)'),\n",
       " (164917, '13th (2016)'),\n",
       " (5447, 'Sunshine State (2002)'),\n",
       " (49389, 'The Great Train Robbery (1903)'),\n",
       " (109569, '3 Days to Kill (2014)'),\n",
       " (104074, 'Percy Jackson: Sea of Monsters (2013)'),\n",
       " (82041, 'Loved Ones, The (2009)'),\n",
       " (84189, 'I Spit on Your Grave (2010)'),\n",
       " (108188, 'Jack Ryan: Shadow Recruit (2014)'),\n",
       " (86059, 'Hop (2011)')]"
      ]
     },
     "execution_count": 210,
     "metadata": {},
     "output_type": "execute_result"
    }
   ],
   "source": [
    "get_user_recommendations(230,top_n_KNN)"
   ]
  },
  {
   "cell_type": "markdown",
   "metadata": {},
   "source": [
    "## Best Co-Clustering"
   ]
  },
  {
   "cell_type": "code",
   "execution_count": 155,
   "metadata": {},
   "outputs": [
    {
     "data": {
      "text/plain": [
       "<surprise.prediction_algorithms.co_clustering.CoClustering at 0x1912fd54e10>"
      ]
     },
     "execution_count": 155,
     "metadata": {},
     "output_type": "execute_result"
    }
   ],
   "source": [
    "best_co = gs_coclustering.best_estimator['mae']\n",
    "best_co.fit(data_train.build_full_trainset())"
   ]
  },
  {
   "cell_type": "code",
   "execution_count": 190,
   "metadata": {},
   "outputs": [],
   "source": [
    "co_predictions = best_co.test(data_test.build_full_trainset().build_anti_testset())\n"
   ]
  },
  {
   "cell_type": "code",
   "execution_count": 191,
   "metadata": {},
   "outputs": [
    {
     "name": "stdout",
     "output_type": "stream",
     "text": [
      "MAE:  0.5930\n"
     ]
    },
    {
     "data": {
      "text/plain": [
       "0.5930009152493572"
      ]
     },
     "execution_count": 191,
     "metadata": {},
     "output_type": "execute_result"
    }
   ],
   "source": [
    "accuracy.mae(co_predictions)"
   ]
  },
  {
   "cell_type": "code",
   "execution_count": 192,
   "metadata": {
    "scrolled": true
   },
   "outputs": [
    {
     "name": "stdout",
     "output_type": "stream",
     "text": [
      "474 [627, 4956, 1699, 1105, 100882, 549, 53, 174053, 73290, 101765]\n",
      "21 [627, 4956, 1699, 1105, 100882, 549, 53, 174053, 73290, 101765]\n",
      "465 [1172, 50, 2329, 71462, 260, 608, 1221, 593, 162578, 3019]\n",
      "590 [627, 4956, 1699, 1105, 100882, 549, 53, 174053, 73290, 101765]\n",
      "40 [627, 7767, 78836, 4956, 1564, 95654, 1699, 1104, 1178, 1105]\n",
      "606 [4956, 1699, 1105, 100882, 48342, 549, 53, 26116, 5890, 174053]\n",
      "182 [7767, 78836, 1564, 95654, 1545, 73042, 2511, 3546, 26547, 58655]\n",
      "100 [627, 7767, 78836, 4956, 1564, 95654, 8838, 1699, 2670, 6666]\n",
      "354 [627, 7767, 78836, 4956, 1564, 95654, 1699, 1105, 1545, 73042]\n",
      "599 [4956, 1699, 1105, 100882, 549, 53, 174053, 73290, 101765, 4708]\n",
      "339 [627, 7767, 78836, 4956, 1564, 95654, 8838, 1699, 2670, 6666]\n",
      "279 [627, 7767, 78836, 4956, 1564, 95654, 1699, 1105, 1545, 73042]\n",
      "136 [7767, 78836, 1564, 95654, 1545, 73042, 2511, 3546, 26547, 58655]\n",
      "274 [627, 4956, 1699, 1105, 100882, 549, 53, 174053, 73290, 101765]\n",
      "610 [627, 4956, 1699, 1105, 100882, 48342, 549, 53, 26116, 5890]\n",
      "380 [627, 7767, 78836, 4956, 1564, 95654, 1699, 1105, 1545, 73042]\n",
      "68 [26116, 5890, 7756, 906, 6159, 4440, 100714, 3673, 627, 4956]\n",
      "359 [627, 4956, 1699, 1105, 100882, 549, 53, 174053, 73290, 101765]\n",
      "119 [627, 7767, 56782, 3153, 78836, 5379, 280, 3083, 4956, 1564]\n",
      "462 [78836, 1564, 95654, 1545, 73042, 2511, 3546, 26547, 58655, 70946]\n",
      "326 [627, 7767, 78836, 4956, 1564, 95654, 8838, 1699, 1104, 1178]\n",
      "179 [627, 7767, 78836, 4956, 1564, 95654, 8838, 1699, 2670, 6666]\n",
      "424 [627, 7767, 78836, 4956, 1564, 95654, 1699, 1105, 1545, 73042]\n",
      "318 [7767, 1564, 95654, 1545, 73042, 2511, 3546, 48342, 26547, 58655]\n",
      "20 [48342, 26116, 5890, 7756, 906, 6159, 4440, 100714, 3673, 627]\n",
      "518 [48342, 26116, 5890, 7756, 906, 6159, 4440, 100714, 3673, 627]\n",
      "210 [627, 7767, 78836, 4956, 1564, 95654, 8838, 1699, 2670, 6666]\n",
      "41 [627, 4956, 1699, 1105, 100882, 549, 53, 174053, 73290, 101765]\n",
      "325 [627, 1699, 1105, 100882, 48342, 549, 1949, 53, 26116, 5890]\n",
      "356 [1172, 162578, 627, 1924, 7767, 1041, 78836, 4956, 1564, 95654]\n",
      "541 [627, 4956, 1699, 1105, 100882, 48342, 549, 53, 26116, 5890]\n",
      "215 [627, 7767, 78836, 4956, 1564, 95654, 8838, 1699, 2670, 1105]\n",
      "411 [627, 4956, 1699, 1105, 100882, 549, 53, 174053, 73290, 101765]\n",
      "26 [627, 4956, 1699, 1105, 100882, 549, 53, 174053, 73290, 101765]\n",
      "7 [48342, 26116, 5890, 7756, 906, 6159, 4440, 100714, 3673, 627]\n",
      "240 [1172, 162578, 627, 1924, 7767, 1041, 78836, 176, 4956, 1564]\n",
      "438 [48342, 26116, 5890, 7756, 906, 6159, 4440, 100714, 3673, 627]\n",
      "6 [7767, 78836, 1564, 95654, 1545, 73042, 2511, 3546, 48342, 26547]\n",
      "603 [7767, 78836, 1564, 95654, 1545, 73042, 2511, 3546, 48342, 26547]\n",
      "555 [627, 7767, 78836, 4956, 1564, 95654, 1699, 1105, 1545, 73042]\n",
      "152 [627, 7767, 78836, 4956, 1564, 95654, 8838, 1699, 1104, 1178]\n",
      "19 [4956, 1699, 1105, 100882, 549, 53, 174053, 73290, 101765, 84414]\n",
      "369 [7767, 78836, 1564, 95654, 1545, 73042, 2511, 3546, 26547, 58655]\n",
      "181 [7767, 78836, 1564, 95654, 1545, 73042, 2511, 3546, 26547, 58655]\n",
      "570 [48342, 26116, 5890, 7756, 906, 6159, 4440, 100714, 3673, 627]\n",
      "373 [48342, 26116, 5890, 7756, 906, 6159, 4440, 100714, 3673, 627]\n",
      "201 [912, 1172, 162578, 905, 627, 1924, 7767, 56782, 1041, 951]\n",
      "510 [627, 4956, 1699, 1105, 100882, 549, 53, 174053, 73290, 101765]\n",
      "448 [7767, 78836, 1564, 95654, 1545, 73042, 2511, 3546, 26547, 58655]\n",
      "34 [7767, 78836, 1564, 95654, 1545, 73042, 2511, 3546, 26547, 58655]\n",
      "414 [627, 4956, 1699, 1105, 100882, 48342, 549, 53, 26116, 5890]\n",
      "334 [7767, 78836, 1564, 95654, 1545, 73042, 2511, 3546, 26547, 58655]\n",
      "8 [627, 7767, 78836, 4956, 1564, 95654, 1699, 6666, 1105, 1545]\n",
      "295 [627, 7767, 78836, 4956, 1564, 95654, 1699, 6666, 1105, 1545]\n",
      "517 [7767, 78836, 1564, 95654, 1545, 73042, 2511, 3546, 26547, 58655]\n",
      "419 [627, 7767, 78836, 4956, 1564, 95654, 1699, 1105, 1545, 73042]\n",
      "89 [7767, 78836, 1564, 95654, 1545, 73042, 2511, 3546, 26547, 58655]\n",
      "159 [7767, 78836, 1564, 95654, 1545, 73042, 2511, 3546, 26547, 58655]\n",
      "87 [1172, 162578, 627, 1924, 7767, 1041, 78836, 176, 4956, 1564]\n",
      "298 [48342, 26116, 5890, 7756, 906, 6159, 4440, 100714, 3673, 627]\n",
      "51 [627, 4956, 1699, 1105, 100882, 48342, 549, 53, 26116, 5890]\n",
      "288 [48342, 26116, 5890, 7756, 906, 6159, 4440, 100714, 3673, 627]\n",
      "162 [47629, 1208, 912, 1172, 79132, 50, 1617, 2194, 2329, 1196]\n",
      "516 [627, 7767, 3153, 78836, 4956, 1564, 95654, 1699, 1104, 1178]\n",
      "116 [7767, 78836, 1564, 95654, 1545, 73042, 2511, 3546, 26547, 58655]\n",
      "84 [627, 7767, 3153, 78836, 4956, 1564, 95654, 1699, 86892, 6666]\n",
      "381 [627, 7767, 78836, 4956, 1564, 95654, 1699, 1105, 1545, 73042]\n",
      "280 [627, 7767, 78836, 4956, 1564, 95654, 1699, 1105, 1545, 73042]\n",
      "226 [627, 4956, 1699, 1105, 100882, 549, 53, 174053, 73290, 101765]\n",
      "62 [627, 7767, 3153, 78836, 4956, 1564, 95654, 8838, 1699, 86892]\n",
      "372 [48342, 26116, 5890, 7756, 906, 6159, 4440, 100714, 3673, 627]\n",
      "177 [627, 4956, 1699, 1105, 100882, 549, 53, 174053, 73290, 101765]\n",
      "368 [7767, 78836, 1564, 95654, 1545, 73042, 2511, 3546, 26547, 58655]\n",
      "137 [627, 7767, 78836, 4956, 1564, 95654, 8838, 1699, 2670, 6666]\n",
      "397 [627, 7767, 78836, 4956, 1564, 95654, 8838, 1699, 2670, 6666]\n",
      "415 [627, 7767, 3153, 78836, 4956, 1564, 95654, 8838, 1699, 86892]\n",
      "256 [627, 7767, 78836, 4956, 1564, 95654, 8838, 1699, 1104, 1178]\n",
      "1 [47629, 3328, 1208, 912, 1172, 50, 1196, 71462, 260, 1221]\n",
      "212 [7767, 78836, 1564, 95654, 1545, 73042, 2511, 3546, 48342, 26547]\n",
      "166 [627, 7767, 78836, 4956, 1564, 95654, 8838, 1699, 2670, 6666]\n",
      "592 [627, 7767, 78836, 4956, 1564, 95654, 1699, 1105, 1545, 73042]\n",
      "187 [627, 7767, 78836, 4956, 1564, 95654, 1699, 1104, 1105, 1545]\n",
      "214 [7767, 78836, 1564, 95654, 1545, 73042, 2511, 3546, 26547, 58655]\n",
      "525 [627, 4956, 1699, 1105, 100882, 549, 53, 174053, 73290, 101765]\n",
      "232 [7767, 78836, 1564, 95654, 1545, 73042, 2511, 3546, 26547, 58655]\n",
      "103 [627, 7767, 78836, 4956, 1564, 95654, 8838, 1699, 2670, 1105]\n",
      "217 [627, 4956, 1699, 1105, 100882, 549, 53, 174053, 73290, 101765]\n",
      "230 [7767, 78836, 1564, 95654, 1545, 73042, 2511, 3546, 26547, 58655]\n",
      "18 [627, 7767, 78836, 4956, 1564, 95654, 1699, 1105, 1545, 73042]\n",
      "287 [48342, 26116, 5890, 7756, 906, 6159, 4440, 100714, 3673, 627]\n",
      "455 [627, 7767, 78836, 4956, 1564, 95654, 1699, 1105, 1545, 73042]\n",
      "358 [7767, 78836, 1564, 95654, 1545, 73042, 2511, 3546, 26547, 58655]\n",
      "219 [627, 4956, 1699, 1105, 100882, 549, 53, 174053, 73290, 101765]\n",
      "534 [627, 7767, 78836, 4956, 1564, 95654, 1699, 1105, 1545, 73042]\n",
      "542 [7767, 78836, 1564, 95654, 1545, 73042, 2511, 3546, 26547, 58655]\n",
      "42 [627, 7767, 78836, 4956, 1564, 95654, 1699, 1105, 1545, 73042]\n",
      "307 [7767, 78836, 1564, 95654, 1545, 73042, 2511, 3546, 26547, 58655]\n",
      "294 [627, 4956, 1699, 1105, 100882, 549, 53, 174053, 73290, 101765]\n",
      "129 [627, 7767, 78836, 4956, 1564, 95654, 1699, 1104, 1105, 1545]\n",
      "77 [627, 7767, 78836, 4956, 1564, 95654, 1699, 1104, 1105, 1545]\n",
      "562 [1172, 162578, 627, 1924, 7767, 1041, 3153, 78836, 4956, 1564]\n",
      "200 [627, 7767, 78836, 4956, 1564, 95654, 1699, 1104, 1178, 1105]\n",
      "434 [627, 4956, 1699, 1105, 100882, 48342, 549, 1949, 53, 26116]\n",
      "249 [7767, 78836, 1564, 95654, 1545, 73042, 2511, 3546, 48342, 26547]\n",
      "351 [627, 7767, 78836, 4956, 1564, 95654, 1699, 1105, 1545, 73042]\n",
      "453 [1172, 162578, 627, 1924, 7767, 1041, 3153, 78836, 4956, 1564]\n",
      "156 [627, 7767, 78836, 4956, 1564, 95654, 1699, 6666, 1105, 1545]\n",
      "423 [627, 4956, 1699, 1105, 100882, 48342, 549, 53, 26116, 5890]\n",
      "111 [627, 4956, 1699, 1105, 100882, 549, 53, 174053, 73290, 101765]\n",
      "105 [1172, 162578, 627, 1924, 7767, 1041, 3153, 78836, 176, 4956]\n",
      "437 [627, 7767, 3153, 78836, 4956, 1564, 95654, 1699, 1104, 1178]\n",
      "405 [627, 7767, 78836, 4956, 1564, 95654, 8838, 1699, 2670, 6666]\n",
      "32 [7767, 3153, 78836, 4956, 1564, 95654, 1699, 86892, 6666, 1105]\n",
      "221 [71462, 627, 7767, 3153, 78836, 55814, 4956, 1564, 95654, 1699]\n",
      "514 [627, 4956, 1699, 1105, 100882, 549, 53, 174053, 73290, 101765]\n",
      "425 [7767, 78836, 1564, 95654, 1545, 73042, 2511, 3546, 26547, 58655]\n",
      "365 [627, 4956, 1699, 1105, 100882, 549, 53, 174053, 73290, 101765]\n",
      "418 [627, 4956, 1699, 1105, 100882, 48342, 549, 53, 26116, 5890]\n",
      "198 [627, 7767, 78836, 4956, 1564, 95654, 1699, 1105, 1545, 73042]\n",
      "46 [627, 7767, 56782, 3153, 78836, 5379, 280, 4956, 1564, 95654]\n",
      "480 [627, 4956, 1699, 1105, 100882, 549, 53, 174053, 73290, 101765]\n",
      "16 [627, 7767, 78836, 4956, 1564, 95654, 1699, 1105, 1545, 73042]\n",
      "395 [7767, 78836, 1564, 95654, 1545, 73042, 2511, 3546, 26547, 58655]\n",
      "80 [71462, 627, 86, 7767, 56782, 3153, 926, 318, 78836, 5379]\n",
      "239 [627, 7767, 78836, 4956, 1564, 95654, 1699, 6666, 1105, 1545]\n",
      "237 [627, 4956, 1699, 1105, 100882, 549, 53, 174053, 73290, 101765]\n",
      "160 [7767, 78836, 1564, 95654, 1545, 73042, 2511, 3546, 26547, 58655]\n",
      "282 [627, 7767, 78836, 4956, 1564, 95654, 8838, 1699, 2670, 6666]\n",
      "306 [627, 4956, 1699, 1105, 100882, 549, 53, 174053, 73290, 101765]\n",
      "596 [7767, 78836, 1564, 95654, 1545, 73042, 2511, 3546, 26547, 58655]\n",
      "260 [627, 7767, 78836, 4956, 1564, 95654, 1699, 1105, 1545, 73042]\n",
      "184 [627, 4956, 1699, 1105, 100882, 48342, 549, 53, 26116, 5890]\n",
      "342 [48342, 26116, 5890, 7756, 906, 6159, 4440, 100714, 3673, 627]\n",
      "328 [627, 4956, 1699, 1105, 100882, 549, 53, 174053, 73290, 101765]\n",
      "305 [627, 7767, 3153, 78836, 4956, 1564, 95654, 1699, 86892, 6666]\n",
      "547 [71462, 3019, 627, 7387, 86, 7767, 56782, 3153, 926, 318]\n",
      "125 [627, 7767, 78836, 4956, 1564, 95654, 1699, 1105, 1545, 73042]\n",
      "422 [627, 4956, 1699, 1105, 100882, 549, 53, 174053, 73290, 101765]\n",
      "469 [627, 7767, 78836, 4956, 1564, 95654, 1699, 6666, 1105, 1545]\n",
      "91 [627, 4956, 1699, 1105, 100882, 549, 53, 174053, 73290, 101765]\n",
      "387 [48342, 26116, 5890, 7756, 6159, 4440, 100714, 3673, 627, 1699]\n",
      "9 [48342, 26116, 7756, 906, 6159, 4440, 100714, 3673, 4956, 1699]\n",
      "186 [71462, 627, 86, 7767, 56782, 3153, 926, 318, 78836, 5379]\n",
      "167 [627, 4956, 1699, 1105, 100882, 549, 53, 174053, 73290, 101765]\n",
      "451 [627, 7767, 3153, 78836, 4956, 1564, 95654, 1699, 86892, 6666]\n",
      "202 [627, 7767, 3153, 78836, 4956, 1564, 95654, 1699, 86892, 6666]\n",
      "332 [7767, 78836, 1564, 95654, 1545, 73042, 2511, 3546, 26547, 58655]\n",
      "385 [627, 4956, 1699, 1105, 100882, 48342, 549, 53, 26116, 5890]\n",
      "436 [627, 4956, 1699, 1105, 100882, 549, 53, 174053, 73290, 101765]\n",
      "398 [1172, 71462, 3019, 627, 7387, 86, 132800, 262, 7767, 3858]\n",
      "521 [627, 7767, 78836, 4956, 1564, 95654, 1699, 1105, 1545, 73042]\n",
      "580 [48342, 26116, 5890, 7756, 906, 6159, 4440, 100714, 3673, 627]\n",
      "74 [912, 1172, 162578, 905, 627, 1924, 7767, 1041, 3153, 951]\n",
      "39 [71462, 627, 86, 7767, 56782, 3153, 926, 318, 78836, 5379]\n",
      "50 [627, 4956, 1699, 1105, 100882, 549, 53, 174053, 73290, 101765]\n",
      "489 [627, 4956, 1699, 1105, 100882, 549, 53, 174053, 73290, 101765]\n",
      "377 [627, 7767, 78836, 4956, 1564, 95654, 1699, 1105, 1545, 73042]\n",
      "546 [627, 4956, 1699, 1105, 100882, 48342, 549, 53, 26116, 5890]\n",
      "513 [627, 7767, 78836, 4956, 1564, 95654, 1699, 1104, 6666, 1105]\n",
      "43 [47629, 3328, 1208, 912, 1172, 79132, 50, 1617, 3160, 2194]\n",
      "291 [912, 1172, 71462, 162578, 3019, 905, 627, 296, 7387, 1924]\n",
      "501 [7767, 78836, 1564, 95654, 1545, 73042, 2511, 3546, 26547, 58655]\n",
      "445 [627, 7767, 78836, 4956, 1564, 95654, 1699, 1104, 1178, 1105]\n",
      "565 [627, 7767, 78836, 4956, 1564, 95654, 1699, 1105, 1545, 73042]\n",
      "608 [48342, 26116, 5890, 7756, 906, 6159, 4440, 100714, 3673, 627]\n",
      "452 [3328, 1208, 912, 1172, 99114, 6787, 122882, 50, 3160, 68157]\n",
      "561 [48342, 26116, 5890, 7756, 906, 6159, 4440, 100714, 3673, 627]\n",
      "520 [627, 7767, 78836, 4956, 1564, 95654, 8838, 1699, 1104, 1178]\n",
      "587 [627, 7767, 56782, 3153, 78836, 5379, 280, 3083, 4956, 1564]\n",
      "390 [627, 7767, 78836, 4956, 1564, 95654, 1699, 6666, 1105, 1545]\n",
      "317 [627, 7767, 78836, 4956, 1564, 95654, 1699, 1104, 1105, 1545]\n",
      "132 [627, 4956, 1699, 1105, 100882, 549, 53, 174053, 73290, 101765]\n",
      "94 [7767, 78836, 1564, 95654, 1545, 73042, 2511, 3546, 26547, 58655]\n",
      "545 [7767, 78836, 1564, 95654, 1545, 73042, 2511, 3546, 26547, 58655]\n",
      "308 [7767, 78836, 1564, 95654, 1545, 73042, 2511, 3546, 26547, 58655]\n",
      "563 [627, 4956, 1699, 1105, 100882, 549, 53, 174053, 73290, 101765]\n",
      "600 [627, 4956, 1699, 1105, 100882, 549, 53, 174053, 73290, 101765]\n",
      "361 [627, 4956, 1699, 1105, 100882, 549, 53, 174053, 73290, 101765]\n",
      "490 [627, 4956, 1699, 1105, 100882, 549, 53, 174053, 73290, 101765]\n",
      "576 [7767, 78836, 1564, 95654, 1545, 73042, 2511, 3546, 26547, 58655]\n",
      "29 [71462, 627, 7767, 3153, 318, 78836, 55814, 4956, 1564, 95654]\n",
      "605 [48342, 26116, 5890, 7756, 906, 6159, 4440, 100714, 3673, 627]\n",
      "446 [48342, 26116, 5890, 7756, 906, 6159, 4440, 100714, 3673, 627]\n",
      "428 [48342, 26116, 5890, 7756, 906, 6159, 4440, 100714, 3673, 627]\n",
      "261 [627, 7767, 78836, 4956, 1564, 95654, 1699, 6666, 1105, 1545]\n",
      "45 [71462, 627, 7767, 3153, 318, 78836, 55814, 4956, 1564, 95654]\n",
      "401 [627, 4956, 1699, 1105, 100882, 549, 53, 174053, 73290, 101765]\n",
      "273 [912, 1172, 162578, 905, 627, 1924, 7767, 1041, 951, 1272]\n",
      "140 [627, 4956, 1699, 1105, 100882, 48342, 549, 53, 26116, 5890]\n",
      "135 [627, 7767, 78836, 4956, 1564, 95654, 1699, 1105, 1545, 73042]\n",
      "456 [627, 7767, 78836, 4956, 1564, 95654, 1699, 1104, 1178, 1105]\n",
      "262 [627, 4956, 1699, 1105, 100882, 549, 53, 174053, 73290, 101765]\n",
      "128 [3328, 1208, 912, 1172, 50, 2329, 71462, 260, 608, 1221]\n",
      "276 [1208, 912, 1172, 50, 68157, 2329, 1258, 1196, 71462, 260]\n",
      "408 [627, 7767, 56782, 3153, 78836, 5379, 280, 3083, 4956, 1564]\n",
      "246 [71462, 627, 86, 7767, 56782, 3153, 926, 318, 78836, 5379]\n",
      "321 [627, 7767, 78836, 4956, 1564, 95654, 1699, 1105, 1545, 73042]\n",
      "504 [627, 7767, 78836, 4956, 1564, 95654, 1699, 1105, 1545, 73042]\n",
      "268 [48342, 26116, 5890, 7756, 906, 6159, 4440, 100714, 3673, 627]\n",
      "71 [627, 7767, 78836, 4956, 1564, 95654, 1699, 1105, 1545, 73042]\n",
      "355 [1172, 50, 71462, 1221, 3019, 904, 627, 7387, 7767, 2959]\n",
      "63 [627, 7767, 78836, 4956, 1564, 95654, 1699, 1105, 1545, 73042]\n",
      "27 [627, 7767, 78836, 4956, 1564, 95654, 1699, 1105, 1545, 73042]\n",
      "352 [627, 7767, 78836, 4956, 1564, 95654, 1699, 1105, 1545, 73042]\n",
      "483 [627, 4956, 1699, 1105, 100882, 48342, 549, 53, 26116, 5890]\n",
      "66 [627, 7767, 78836, 4956, 1564, 95654, 8838, 1699, 2670, 6666]\n",
      "222 [48342, 26116, 5890, 7756, 906, 6159, 4440, 100714, 3673, 627]\n",
      "602 [627, 4956, 1699, 1105, 100882, 48342, 549, 53, 26116, 5890]\n",
      "143 [48342, 26116, 5890, 7756, 906, 6159, 4440, 100714, 3673, 627]\n",
      "330 [627, 4956, 1699, 1105, 100882, 48342, 549, 53, 26116, 5890]\n",
      "313 [48342, 26116, 5890, 7756, 906, 6159, 4440, 100714, 3673, 627]\n",
      "577 [627, 7767, 78836, 4956, 1564, 95654, 1699, 1105, 1545, 73042]\n",
      "121 [7767, 78836, 1564, 95654, 1545, 73042, 2511, 3546, 26547, 58655]\n",
      "540 [1172, 162578, 627, 1924, 7767, 1041, 78836, 4956, 1564, 95654]\n",
      "48 [627, 7767, 78836, 4956, 1564, 95654, 1699, 6666, 1105, 1545]\n",
      "413 [47629, 3328, 1208, 912, 1172, 50, 1617, 2329, 1196, 71462]\n",
      "183 [1172, 162578, 627, 1924, 7767, 1041, 78836, 4956, 1564, 95654]\n",
      "477 [627, 4956, 1699, 1105, 100882, 48342, 549, 1949, 53, 26116]\n",
      "195 [627, 7767, 78836, 4956, 1564, 95654, 1699, 1105, 1545, 73042]\n",
      "460 [912, 1172, 162578, 627, 1924, 7767, 1041, 951, 1272, 78836]\n",
      "475 [912, 1172, 71462, 162578, 3019, 905, 627, 7387, 1924, 7767]\n",
      "567 [48342, 26116, 5890, 7756, 906, 6159, 4440, 100714, 3673, 627]\n",
      "432 [7767, 78836, 1564, 95654, 1545, 73042, 2511, 3546, 48342, 26547]\n",
      "252 [627, 7767, 56782, 3153, 78836, 5379, 280, 4956, 1564, 95654]\n",
      "290 [912, 1172, 162578, 905, 627, 296, 86, 1924, 7767, 1136]\n",
      "421 [71462, 627, 7767, 3153, 318, 78836, 55814, 4956, 1564, 95654]\n",
      "331 [627, 4956, 1699, 1105, 100882, 48342, 549, 53, 26116, 5890]\n",
      "78 [627, 4956, 1699, 1105, 100882, 549, 53, 174053, 73290, 101765]\n",
      "102 [7767, 78836, 1564, 95654, 1545, 73042, 2511, 3546, 26547, 58655]\n",
      "493 [627, 7767, 78836, 4956, 1564, 95654, 1699, 1104, 1105, 1545]\n",
      "572 [1172, 50, 71462, 1221, 162578, 3019, 904, 627, 7387, 1924]\n",
      "3 [7767, 78836, 1564, 95654, 1545, 73042, 2511, 3546, 26547, 58655]\n",
      "278 [627, 7767, 78836, 4956, 1564, 95654, 1699, 1105, 1545, 73042]\n",
      "393 [627, 7767, 78836, 4956, 1564, 95654, 1699, 1104, 1178, 6666]\n",
      "4 [627, 4956, 1699, 1105, 100882, 48342, 549, 1949, 53, 26116]\n",
      "174 [627, 7767, 78836, 4956, 1564, 95654, 8838, 1699, 2670, 6666]\n",
      "241 [627, 7767, 78836, 4956, 1564, 95654, 1699, 1104, 1178, 1105]\n",
      "607 [627, 7767, 78836, 4956, 1564, 95654, 8838, 1699, 2670, 6666]\n",
      "427 [48342, 26116, 5890, 7756, 906, 6159, 4440, 100714, 3673, 627]\n",
      "495 [627, 7767, 78836, 4956, 1564, 95654, 8838, 1699, 2670, 6666]\n",
      "323 [627, 4956, 1699, 1105, 100882, 549, 53, 174053, 73290, 101765]\n",
      "25 [47629, 3328, 307, 1208, 63082, 912, 1172, 99114, 6787, 79132]\n",
      "310 [627, 4956, 1699, 1105, 100882, 48342, 549, 1949, 53, 26116]\n",
      "439 [912, 1172, 162578, 627, 1924, 7767, 1041, 951, 1272, 78836]\n",
      "163 [7767, 78836, 1564, 95654, 1545, 73042, 2511, 3546, 26547, 58655]\n",
      "327 [71462, 627, 86, 7767, 56782, 3153, 318, 78836, 5379, 280]\n",
      "108 [71462, 3019, 627, 7387, 7767, 3153, 93840, 318, 78836, 55814]\n",
      "131 [627, 7767, 78836, 4956, 1564, 95654, 1699, 1105, 1545, 73042]\n",
      "122 [3328, 912, 1172, 50, 2329, 1196, 71462, 260, 1221, 162578]\n",
      "362 [912, 1172, 162578, 905, 627, 1924, 7767, 56782, 1041, 3153]\n",
      "340 [912, 1172, 71462, 1221, 162578, 3019, 905, 627, 7387, 1924]\n",
      "28 [7767, 78836, 1564, 95654, 1545, 73042, 2511, 3546, 26547, 58655]\n",
      "479 [627, 4956, 1699, 1105, 100882, 48342, 549, 53, 26116, 5890]\n",
      "464 [627, 7767, 78836, 4956, 1564, 95654, 1699, 6666, 1105, 1545]\n",
      "476 [627, 7767, 78836, 4956, 1564, 95654, 1699, 6666, 1105, 1545]\n",
      "59 [3328, 1172, 50, 1196, 71462, 1221, 162578, 3019, 904, 627]\n",
      "254 [627, 7767, 78836, 4956, 1564, 95654, 8838, 1699, 1104, 1178]\n",
      "117 [627, 7767, 78836, 4956, 1564, 95654, 1699, 1105, 1545, 73042]\n",
      "524 [627, 4956, 1699, 1105, 100882, 48342, 549, 1949, 53, 26116]\n",
      "543 [3328, 1172, 50, 71462, 1221, 162578, 3019, 904, 627, 7387]\n",
      "345 [627, 7767, 78836, 4956, 1564, 95654, 1699, 1104, 1178, 6666]\n",
      "64 [627, 7767, 78836, 4956, 1564, 95654, 1699, 1105, 1545, 73042]\n",
      "275 [1208, 1172, 50, 2329, 1196, 71462, 260, 1221, 593, 162578]\n",
      "560 [627, 7767, 78836, 4956, 1564, 95654, 1699, 1105, 1545, 73042]\n",
      "98 [627, 7767, 3153, 78836, 4956, 1564, 95654, 1699, 86892, 6666]\n",
      "609 [627, 7767, 78836, 4956, 1564, 95654, 1699, 1105, 1545, 73042]\n",
      "484 [627, 7767, 78836, 4956, 1564, 95654, 8838, 1699, 2670, 1105]\n",
      "468 [627, 4956, 1699, 1105, 100882, 48342, 549, 53, 26116, 5890]\n",
      "509 [7767, 78836, 1564, 95654, 1545, 73042, 2511, 3546, 26547, 58655]\n",
      "473 [48342, 26116, 5890, 7756, 906, 6159, 4440, 100714, 3673, 627]\n",
      "208 [627, 4956, 1699, 1105, 100882, 48342, 549, 53, 26116, 5890]\n",
      "594 [627, 7767, 78836, 4956, 1564, 95654, 1699, 6666, 1105, 1545]\n",
      "47 [627, 4956, 1699, 1105, 100882, 549, 53, 174053, 73290, 101765]\n",
      "134 [7767, 78836, 1564, 95654, 1545, 73042, 2511, 3546, 48342, 26547]\n",
      "314 [48342, 26116, 5890, 7756, 906, 6159, 4440, 100714, 3673, 627]\n",
      "503 [627, 4956, 1699, 1105, 100882, 549, 53, 174053, 73290, 101765]\n",
      "412 [1172, 162578, 627, 1924, 7767, 1041, 78836, 176, 4956, 1564]\n",
      "367 [627, 7767, 56782, 3153, 78836, 5379, 280, 4956, 1564, 95654]\n",
      "216 [627, 7767, 78836, 4956, 1564, 95654, 1699, 1105, 1545, 73042]\n",
      "376 [627, 7767, 3153, 78836, 280, 4956, 1564, 95654, 8838, 1699]\n",
      "58 [627, 7767, 3153, 78836, 4956, 1564, 95654, 8838, 1699, 1104]\n",
      "238 [627, 7767, 78836, 4956, 1564, 95654, 8838, 1699, 2670, 1105]\n",
      "265 [627, 4956, 1699, 1105, 100882, 48342, 549, 53, 26116, 5890]\n",
      "185 [627, 7767, 78836, 4956, 1564, 95654, 1699, 6666, 1105, 1545]\n",
      "93 [1208, 912, 1172, 50, 68157, 2329, 1258, 1196, 71462, 260]\n",
      "234 [7767, 78836, 1564, 95654, 1545, 73042, 2511, 3546, 48342, 26547]\n",
      "233 [7767, 78836, 1564, 95654, 1545, 73042, 2511, 3546, 26547, 58655]\n",
      "270 [627, 4956, 1699, 1105, 100882, 549, 53, 174053, 73290, 101765]\n",
      "199 [48342, 26116, 5890, 7756, 906, 6159, 4440, 100714, 3673, 627]\n",
      "402 [1172, 162578, 627, 1924, 7767, 1041, 78836, 176, 4956, 1564]\n",
      "82 [627, 4956, 1699, 1105, 100882, 549, 53, 174053, 73290, 101765]\n",
      "309 [627, 7767, 3153, 78836, 4956, 1564, 95654, 1699, 86892, 6666]\n",
      "573 [912, 1172, 162578, 627, 1924, 7767, 1041, 951, 1272, 78836]\n",
      "426 [627, 7767, 78836, 4956, 1564, 95654, 1699, 1105, 1545, 73042]\n",
      "141 [627, 4956, 1699, 1105, 100882, 549, 53, 174053, 73290, 101765]\n",
      "496 [48342, 26116, 5890, 7756, 906, 6159, 4440, 100714, 3673, 627]\n",
      "286 [627, 7767, 78836, 4956, 1564, 95654, 1699, 1105, 1545, 73042]\n",
      "353 [627, 4956, 1699, 6666, 1105, 100882, 26471, 48342, 549, 25771]\n",
      "190 [627, 7767, 78836, 4956, 1564, 95654, 8838, 1699, 1104, 1178]\n",
      "470 [627, 7767, 78836, 4956, 1564, 95654, 1699, 1105, 1545, 73042]\n",
      "158 [7767, 78836, 1564, 95654, 1545, 73042, 2511, 3546, 26547, 58655]\n",
      "113 [627, 7767, 3153, 78836, 4956, 1564, 95654, 1699, 86892, 6666]\n",
      "104 [627, 7767, 78836, 4956, 1564, 95654, 1699, 1105, 1545, 73042]\n",
      "33 [627, 7767, 3153, 78836, 4956, 1564, 95654, 1699, 86892, 6666]\n",
      "463 [627, 7767, 78836, 4956, 1564, 95654, 1699, 1105, 1545, 73042]\n",
      "410 [71462, 627, 86, 7767, 56782, 3153, 78836, 5379, 280, 55814]\n",
      "149 [627, 4956, 1699, 1105, 100882, 549, 53, 174053, 73290, 101765]\n",
      "552 [627, 4956, 1699, 1105, 100882, 549, 53, 174053, 73290, 101765]\n",
      "191 [627, 7767, 78836, 4956, 1564, 95654, 1699, 1104, 1178, 6666]\n",
      "502 [627, 4956, 1699, 1105, 100882, 549, 53, 174053, 73290, 101765]\n",
      "75 [627, 4956, 1699, 1105, 100882, 549, 53, 174053, 73290, 101765]\n",
      "83 [7767, 78836, 1564, 95654, 1545, 73042, 2511, 3546, 26547, 58655]\n",
      "391 [627, 7767, 78836, 4956, 1564, 95654, 8838, 1699, 2670, 6666]\n",
      "79 [71462, 3019, 627, 7387, 86, 7767, 56782, 3153, 926, 318]\n",
      "357 [627, 7767, 78836, 4956, 1564, 95654, 8838, 1699, 2670, 6666]\n",
      "235 [627, 7767, 78836, 4956, 1564, 95654, 1699, 1105, 1545, 73042]\n",
      "76 [627, 4956, 1699, 1105, 100882, 549, 53, 174053, 73290, 101765]\n",
      "139 [48342, 26116, 5890, 7756, 906, 6159, 4440, 100714, 3673, 627]\n",
      "447 [627, 7767, 78836, 4956, 1564, 95654, 8838, 1699, 2670, 6666]\n",
      "259 [627, 4956, 1699, 1105, 100882, 549, 53, 174053, 73290, 101765]\n",
      "67 [627, 7767, 78836, 4956, 1564, 95654, 8838, 1699, 1104, 1178]\n",
      "593 [48342, 26116, 5890, 7756, 906, 6159, 4440, 100714, 3673, 627]\n",
      "382 [627, 4956, 1699, 1105, 100882, 549, 53, 174053, 73290, 101765]\n",
      "109 [7767, 78836, 1564, 95654, 1545, 73042, 2511, 3546, 26547, 58655]\n",
      "420 [627, 7767, 78836, 4956, 1564, 95654, 1699, 1105, 1545, 73042]\n",
      "220 [627, 7767, 3153, 78836, 4956, 1564, 95654, 1699, 86892, 6666]\n",
      "38 [48342, 26116, 5890, 7756, 906, 6159, 4440, 100714, 3673, 627]\n",
      "153 [48342, 26116, 5890, 7756, 906, 6159, 4440, 100714, 3673, 627]\n",
      "144 [627, 7767, 78836, 4956, 1564, 95654, 1699, 1105, 1545, 73042]\n",
      "204 [627, 7767, 78836, 4956, 1564, 95654, 1699, 6666, 1105, 1545]\n",
      "583 [7767, 78836, 1564, 95654, 1545, 73042, 2511, 3546, 26547, 58655]\n",
      "336 [912, 1172, 162578, 905, 627, 1924, 7767, 56782, 1041, 3153]\n",
      "101 [627, 7767, 78836, 4956, 1564, 95654, 1699, 1105, 1545, 73042]\n",
      "466 [627, 7767, 78836, 4956, 1564, 95654, 8838, 1699, 2670, 1105]\n",
      "527 [1208, 1172, 50, 2329, 1196, 71462, 260, 1221, 593, 162578]\n",
      "60 [627, 7767, 78836, 4956, 1564, 95654, 1699, 1104, 1178, 6666]\n",
      "168 [3328, 1172, 50, 71462, 1221, 162578, 3019, 904, 627, 7387]\n",
      "597 [1172, 162578, 627, 1924, 7767, 1041, 3153, 78836, 176, 4956]\n",
      "379 [7767, 78836, 1564, 95654, 1545, 73042, 2511, 3546, 26547, 58655]\n",
      "506 [7767, 78836, 1564, 95654, 1545, 73042, 2511, 3546, 26547, 58655]\n",
      "69 [3328, 912, 1172, 99114, 6787, 122882, 50, 68157, 1258, 1356]\n",
      "57 [48342, 26116, 5890, 7756, 906, 6159, 4440, 100714, 3673, 627]\n",
      "169 [912, 1172, 162578, 905, 627, 1924, 7767, 56782, 1041, 3153]\n",
      "302 [71462, 1221, 3019, 627, 7387, 7767, 2959, 3153, 930, 93840]\n",
      "344 [627, 7767, 78836, 4956, 1564, 95654, 1699, 1105, 1545, 73042]\n",
      "250 [912, 1172, 162578, 905, 627, 1924, 7767, 56782, 1041, 951]\n",
      "322 [627, 4956, 1699, 1105, 100882, 549, 53, 174053, 73290, 101765]\n",
      "36 [7767, 78836, 1564, 95654, 1545, 73042, 2511, 3546, 26547, 58655]\n",
      "409 [627, 7767, 78836, 4956, 1564, 95654, 1699, 1104, 1178, 6666]\n",
      "554 [627, 7767, 56782, 3153, 78836, 5379, 280, 4956, 1564, 95654]\n",
      "557 [627, 7767, 78836, 4956, 1564, 95654, 8838, 1699, 1104, 1178]\n",
      "582 [627, 7767, 78836, 4956, 1564, 95654, 8838, 1699, 1104, 1178]\n",
      "548 [1172, 71462, 162578, 3019, 627, 7387, 86, 132800, 1924, 262]\n",
      "360 [627, 7767, 78836, 4956, 1564, 95654, 1699, 1105, 1545, 73042]\n",
      "523 [3328, 912, 1172, 99114, 6787, 122882, 50, 68157, 1258, 1356]\n",
      "97 [3328, 1208, 912, 1172, 50, 2329, 1196, 71462, 260, 608]\n",
      "267 [3328, 1208, 912, 1172, 50, 2329, 1196, 71462, 1221, 593]\n",
      "384 [627, 4956, 1699, 1105, 100882, 549, 53, 174053, 73290, 101765]\n",
      "172 [627, 7767, 78836, 4956, 1564, 95654, 8838, 1699, 2670, 6666]\n",
      "171 [47629, 3328, 1208, 912, 95858, 1172, 99114, 6787, 79132, 50]\n",
      "528 [48342, 26116, 5890, 7756, 906, 6159, 4440, 100714, 3673, 627]\n",
      "444 [627, 7767, 78836, 4956, 1564, 95654, 1699, 1104, 1178, 6666]\n",
      "176 [71462, 3019, 627, 7387, 7767, 3153, 78836, 55814, 5690, 4956]\n",
      "346 [7767, 78836, 1564, 95654, 1545, 73042, 2511, 3546, 48342, 26547]\n",
      "522 [627, 7767, 78836, 4956, 1564, 95654, 1699, 1105, 1545, 73042]\n",
      "65 [627, 7767, 78836, 4956, 1564, 95654, 8838, 1699, 2670, 6666]\n",
      "95 [1172, 627, 7767, 3153, 78836, 4956, 1564, 95654, 8838, 1699]\n",
      "519 [1208, 912, 1172, 50, 68157, 1258, 1196, 71462, 260, 608]\n",
      "589 [47629, 1208, 912, 1172, 50, 2329, 1196, 71462, 260, 608]\n",
      "73 [627, 4956, 1699, 1105, 100882, 48342, 549, 53, 26116, 5890]\n",
      "289 [627, 4956, 1699, 1105, 100882, 48342, 549, 1949, 53, 26116]\n",
      "467 [48342, 26116, 5890, 7756, 906, 6159, 4440, 100714, 3673, 627]\n",
      "386 [627, 4956, 1699, 1105, 100882, 549, 53, 174053, 73290, 101765]\n",
      "591 [48342, 26116, 5890, 7756, 906, 6159, 4440, 100714, 3673, 627]\n",
      "292 [7767, 78836, 1564, 95654, 1545, 73042, 2511, 3546, 26547, 58655]\n",
      "333 [48342, 26116, 5890, 7756, 906, 6159, 4440, 100714, 3673, 627]\n",
      "498 [1172, 162578, 627, 1924, 7767, 1041, 3153, 78836, 4956, 1564]\n",
      "471 [627, 7767, 78836, 4956, 1564, 95654, 1699, 1105, 1545, 73042]\n",
      "155 [627, 7767, 78836, 4956, 1564, 95654, 1699, 1105, 1545, 73042]\n",
      "118 [71462, 627, 86, 7767, 56782, 3153, 926, 318, 78836, 5379]\n",
      "271 [7767, 78836, 1564, 95654, 1545, 73042, 2511, 3546, 26547, 58655]\n",
      "440 [627, 7767, 78836, 4956, 1564, 95654, 1699, 1105, 1545, 73042]\n",
      "10 [627, 4956, 1699, 1105, 100882, 549, 53, 174053, 73290, 101765]\n",
      "258 [912, 1172, 162578, 627, 1924, 7767, 1041, 951, 1272, 78836]\n",
      "488 [627, 7767, 78836, 4956, 1564, 95654, 8838, 1699, 2670, 6666]\n",
      "296 [627, 7767, 78836, 4956, 1564, 95654, 8838, 1699, 2670, 6666]\n",
      "236 [71462, 3019, 627, 7387, 7767, 3153, 318, 78836, 55814, 5690]\n",
      "416 [627, 4956, 1699, 1105, 100882, 549, 53, 174053, 73290, 101765]\n",
      "11 [627, 7767, 3153, 78836, 4956, 1564, 95654, 1699, 86892, 6666]\n",
      "343 [627, 7767, 78836, 4956, 1564, 95654, 8838, 1699, 2670, 6666]\n",
      "430 [627, 7767, 78836, 4956, 1564, 95654, 1699, 1105, 1545, 73042]\n",
      "266 [627, 4956, 1699, 1105, 100882, 48342, 549, 1949, 53, 26116]\n",
      "263 [627, 7767, 78836, 4956, 1564, 95654, 1699, 1105, 1545, 73042]\n",
      "281 [48342, 26116, 5890, 7756, 906, 6159, 4440, 100714, 3673, 627]\n",
      "85 [627, 7767, 78836, 4956, 1564, 95654, 8838, 1699, 2670, 6666]\n",
      "429 [627, 7767, 3153, 78836, 4956, 1564, 95654, 8838, 1699, 86892]\n",
      "218 [627, 4956, 1699, 1105, 100882, 48342, 549, 53, 26116, 5890]\n",
      "24 [7767, 78836, 1564, 95654, 1545, 73042, 2511, 3546, 48342, 26547]\n",
      "178 [627, 7767, 78836, 4956, 1564, 95654, 8838, 1699, 2670, 6666]\n",
      "145 [627, 7767, 78836, 4956, 1564, 95654, 1699, 1105, 1545, 73042]\n",
      "304 [1172, 162578, 627, 1924, 7767, 1041, 3153, 78836, 176, 4956]\n",
      "601 [3328, 1208, 1172, 50, 2329, 1196, 71462, 260, 1221, 593]\n",
      "244 [627, 7767, 3153, 78836, 4956, 1564, 95654, 1699, 1104, 1178]\n",
      "482 [48342, 26116, 5890, 7756, 906, 6159, 4440, 100714, 3673, 627]\n",
      "431 [627, 4956, 1699, 1105, 100882, 549, 53, 174053, 73290, 101765]\n",
      "15 [627, 4956, 1699, 1105, 100882, 549, 53, 174053, 73290, 101765]\n",
      "491 [912, 1172, 162578, 905, 627, 1924, 7767, 56782, 1041, 951]\n",
      "23 [7767, 78836, 1564, 95654, 1545, 73042, 2511, 3546, 48342, 26547]\n",
      "417 [3328, 912, 1172, 99114, 6787, 122882, 50, 68157, 1258, 1356]\n",
      "374 [627, 7767, 78836, 4956, 1564, 95654, 1699, 1105, 1545, 73042]\n",
      "566 [627, 4956, 1699, 6666, 1105, 100882, 26471, 48342, 549, 25771]\n",
      "228 [627, 4956, 1699, 1105, 100882, 48342, 549, 53, 26116, 5890]\n",
      "349 [627, 7767, 3153, 78836, 4956, 1564, 95654, 1699, 86892, 6666]\n",
      "551 [627, 7767, 78836, 4956, 1564, 95654, 1699, 1105, 1545, 73042]\n",
      "123 [627, 7767, 78836, 4956, 1564, 95654, 8838, 1699, 1104, 1178]\n",
      "586 [1172, 71462, 162578, 3019, 627, 7387, 86, 132800, 1924, 262]\n",
      "442 [8753, 46367, 130052, 7786, 2725, 48262, 6204, 31702, 59440, 33124]\n",
      "435 [912, 1172, 162578, 4973, 905, 627, 296, 86, 1207, 1924]\n",
      "458 [912, 1172, 162578, 4973, 905, 627, 86, 1207, 1924, 7767]\n",
      "564 [627, 7767, 78836, 4956, 1564, 95654, 1699, 1105, 1545, 73042]\n",
      "264 [627, 4956, 1699, 1105, 100882, 48342, 549, 53, 26116, 5890]\n",
      "151 [627, 7767, 78836, 4956, 1564, 95654, 1699, 1105, 1545, 73042]\n",
      "17 [627, 7767, 56782, 3153, 78836, 280, 4956, 1564, 95654, 8838]\n",
      "588 [627, 4956, 1699, 1105, 100882, 549, 53, 174053, 73290, 101765]\n",
      "209 [912, 1172, 8645, 162578, 3165, 30745, 4973, 905, 627, 206]\n",
      "512 [627, 7767, 78836, 4956, 1564, 95654, 1699, 6666, 1105, 1545]\n",
      "56 [627, 7767, 78836, 4956, 1564, 95654, 8838, 1699, 2670, 6666]\n",
      "500 [627, 4956, 1699, 1105, 100882, 549, 53, 174053, 73290, 101765]\n",
      "312 [627, 7767, 78836, 4956, 1564, 95654, 1699, 1104, 1178, 1105]\n",
      "72 [627, 7767, 78836, 4956, 1564, 95654, 8838, 1699, 2670, 6666]\n",
      "110 [627, 7767, 78836, 4956, 1564, 95654, 1699, 1105, 1545, 73042]\n",
      "347 [627, 7767, 78836, 4956, 1564, 95654, 1699, 1105, 1545, 73042]\n",
      "189 [912, 1172, 162578, 627, 1924, 7767, 1041, 951, 1272, 78836]\n",
      "536 [7767, 78836, 1564, 95654, 1545, 73042, 2511, 3546, 26547, 58655]\n",
      "90 [912, 1172, 71462, 162578, 3019, 905, 627, 7387, 1924, 7767]\n",
      "400 [3328, 912, 1172, 6787, 68157, 1258, 1356, 293, 71462, 6]\n",
      "459 [912, 1172, 50, 71462, 1221, 162578, 3019, 904, 4973, 905]\n",
      "173 [7767, 78836, 1564, 95654, 1545, 73042, 2511, 3546, 48342, 26547]\n",
      "574 [71462, 627, 86, 7767, 56782, 3153, 926, 78836, 5379, 280]\n",
      "371 [47629, 3328, 1208, 912, 1172, 79132, 50, 1617, 3160, 2329]\n",
      "515 [47629, 3328, 307, 1208, 63082, 912, 1172, 99114, 6787, 122882]\n",
      "61 [627, 7767, 78836, 4956, 1564, 95654, 1699, 1104, 6666, 1105]\n",
      "404 [7767, 78836, 1564, 95654, 1545, 73042, 2511, 3546, 48342, 26547]\n",
      "604 [7767, 78836, 1564, 95654, 1545, 73042, 2511, 3546, 48342, 26547]\n",
      "272 [627, 7767, 78836, 4956, 1564, 95654, 1699, 1105, 1545, 73042]\n",
      "396 [627, 4956, 1699, 1105, 100882, 549, 53, 174053, 73290, 101765]\n",
      "441 [3328, 1208, 912, 1172, 50, 2329, 1196, 71462, 260, 608]\n",
      "161 [627, 7767, 78836, 4956, 1564, 95654, 8838, 1699, 2670, 1105]\n",
      "53 [5218, 47629, 216, 3328, 1608, 1208, 63082, 912, 95858, 596]\n",
      "192 [627, 7767, 3153, 78836, 280, 4956, 1564, 95654, 8838, 1699]\n",
      "146 [627, 4956, 1699, 1105, 100882, 549, 53, 174053, 73290, 101765]\n",
      "211 [627, 7767, 78836, 4956, 1564, 95654, 8838, 1699, 2670, 6666]\n",
      "231 [1172, 162578, 627, 1924, 7767, 1041, 78836, 176, 4956, 1564]\n",
      "164 [912, 1172, 162578, 905, 627, 296, 1924, 7767, 56782, 1041]\n",
      "338 [627, 4956, 1699, 1105, 100882, 549, 53, 174053, 73290, 101765]\n",
      "553 [912, 1172, 162578, 905, 627, 296, 86, 1924, 7767, 1136]\n",
      "213 [627, 7767, 78836, 4956, 1564, 95654, 1699, 1105, 1545, 73042]\n",
      "388 [627, 7767, 78836, 4956, 1564, 95654, 1699, 1105, 1545, 73042]\n",
      "366 [627, 7767, 78836, 4956, 1564, 95654, 1699, 1104, 1178, 1105]\n",
      "324 [48342, 26116, 5890, 7756, 906, 6159, 4440, 100714, 3673, 627]\n",
      "526 [912, 1172, 162578, 905, 627, 1924, 7767, 56782, 1041, 951]\n",
      "126 [48342, 26116, 5890, 7756, 906, 6159, 4440, 100714, 3673, 627]\n",
      "31 [627, 7767, 56782, 3153, 78836, 5379, 280, 4956, 1564, 95654]\n",
      "341 [627, 7767, 78836, 4956, 1564, 95654, 1699, 1104, 1178, 1105]\n",
      "539 [627, 7767, 78836, 4956, 1564, 95654, 1699, 6666, 1105, 1545]\n",
      "52 [3328, 912, 1172, 6787, 68157, 1258, 1356, 71462, 6, 8645]\n",
      "12 [47629, 1208, 912, 1172, 50, 1617, 2329, 1196, 71462, 260]\n",
      "106 [3328, 1208, 912, 1172, 99114, 6787, 122882, 50, 68157, 2329]\n",
      "165 [627, 7767, 78836, 4956, 1564, 95654, 1699, 1105, 1545, 73042]\n",
      "403 [627, 4956, 1699, 6666, 1105, 100882, 26471, 48342, 549, 25771]\n",
      "96 [627, 7767, 3153, 78836, 280, 4956, 1564, 95654, 8838, 1699]\n",
      "2 [627, 7767, 3153, 78836, 280, 4956, 1564, 95654, 8838, 1699]\n",
      "22 [627, 4956, 1699, 1105, 100882, 549, 53, 174053, 73290, 101765]\n",
      "242 [627, 7767, 78836, 4956, 1564, 95654, 1699, 1105, 1545, 73042]\n",
      "492 [71462, 627, 7767, 3153, 318, 78836, 55814, 4956, 1564, 95654]\n",
      "537 [627, 7767, 56782, 3153, 78836, 5379, 280, 4956, 1564, 95654]\n",
      "505 [71462, 627, 7767, 3153, 318, 78836, 55814, 4956, 1564, 95654]\n",
      "180 [7767, 78836, 1564, 95654, 1545, 73042, 2511, 3546, 26547, 58655]\n",
      "170 [7767, 78836, 1564, 95654, 1545, 73042, 2511, 3546, 26547, 58655]\n",
      "86 [627, 7767, 78836, 4956, 1564, 95654, 1699, 1104, 1178, 1105]\n",
      "5 [627, 7767, 78836, 4956, 1564, 95654, 1699, 1104, 1105, 1545]\n",
      "584 [1172, 71462, 3019, 627, 7387, 86, 132800, 262, 7767, 3858]\n",
      "319 [912, 1172, 8645, 162578, 3165, 30745, 4973, 905, 627, 206]\n",
      "196 [627, 7767, 78836, 4956, 1564, 95654, 1699, 1104, 1178, 1105]\n",
      "549 [1172, 162578, 627, 1924, 7767, 1041, 78836, 176, 4956, 1564]\n",
      "224 [912, 1172, 50, 1196, 71462, 1221, 162578, 3019, 904, 4973]\n",
      "303 [627, 7767, 78836, 4956, 1564, 95654, 1699, 1105, 1545, 73042]\n",
      "229 [627, 7767, 78836, 4956, 1564, 95654, 8838, 1699, 2670, 6666]\n",
      "461 [7767, 78836, 1564, 95654, 1545, 73042, 2511, 3546, 26547, 58655]\n",
      "571 [627, 4956, 1699, 1105, 100882, 549, 53, 174053, 73290, 101765]\n",
      "277 [627, 7767, 78836, 4956, 1564, 95654, 1699, 1105, 1545, 73042]\n",
      "225 [627, 7767, 78836, 4956, 1564, 95654, 1699, 6666, 1105, 1545]\n",
      "533 [47629, 3328, 1208, 912, 1172, 50, 1617, 2329, 1196, 71462]\n",
      "392 [627, 7767, 78836, 4956, 1564, 95654, 1699, 1105, 1545, 73042]\n",
      "378 [627, 7767, 78836, 4956, 1564, 95654, 8838, 1699, 2670, 6666]\n",
      "449 [627, 4956, 1699, 1105, 100882, 549, 53, 174053, 73290, 101765]\n",
      "115 [627, 7767, 78836, 4956, 1564, 95654, 1699, 6666, 1105, 1545]\n",
      "579 [1172, 162578, 627, 1924, 7767, 1041, 3153, 78836, 176, 4956]\n",
      "44 [627, 4956, 1699, 1105, 100882, 48342, 549, 53, 26116, 5890]\n",
      "389 [912, 1172, 162578, 905, 627, 1924, 7767, 56782, 1041, 3153]\n",
      "301 [48342, 26116, 5890, 7756, 906, 6159, 4440, 100714, 3673, 627]\n",
      "138 [7767, 78836, 1564, 95654, 1545, 73042, 2511, 3546, 26547, 58655]\n",
      "348 [47629, 3328, 1208, 912, 1172, 50, 1617, 3160, 2329, 1196]\n",
      "175 [7767, 78836, 1564, 95654, 1545, 73042, 2511, 3546, 26547, 58655]\n",
      "450 [627, 7767, 3153, 78836, 280, 4956, 1564, 95654, 8838, 1699]\n",
      "227 [627, 7767, 3153, 78836, 5379, 280, 4956, 1564, 95654, 8838]\n",
      "472 [912, 1172, 162578, 627, 1924, 7767, 1041, 1272, 78836, 176]\n",
      "243 [912, 1172, 162578, 905, 627, 1924, 7767, 56782, 1041, 3153]\n",
      "370 [7767, 78836, 1564, 95654, 1545, 73042, 2511, 3546, 26547, 58655]\n",
      "454 [7767, 78836, 1564, 95654, 1545, 73042, 2511, 3546, 48342, 26547]\n",
      "350 [627, 7767, 78836, 4956, 1564, 95654, 1699, 1105, 1545, 73042]\n",
      "297 [48342, 26116, 5890, 7756, 906, 6159, 4440, 100714, 3673, 627]\n",
      "559 [627, 7767, 78836, 4956, 1564, 95654, 1699, 1105, 1545, 73042]\n",
      "255 [7767, 78836, 1564, 95654, 1545, 73042, 2511, 3546, 26547, 58655]\n",
      "148 [627, 7767, 78836, 4956, 1564, 95654, 1699, 1105, 1545, 73042]\n",
      "251 [47629, 3328, 1608, 1208, 912, 95858, 596, 1172, 99114, 6787]\n",
      "399 [627, 7767, 78836, 4956, 1564, 95654, 1699, 1105, 1545, 73042]\n",
      "248 [627, 7767, 78836, 4956, 1564, 95654, 1699, 1105, 1545, 73042]\n",
      "130 [627, 7767, 78836, 4956, 1564, 95654, 1699, 1105, 1545, 73042]\n",
      "485 [912, 1172, 162578, 905, 627, 1924, 7767, 56782, 1041, 951]\n",
      "556 [71462, 627, 7767, 3153, 318, 78836, 55814, 4956, 1564, 95654]\n",
      "257 [7767, 78836, 1564, 95654, 1545, 73042, 2511, 3546, 26547, 58655]\n",
      "316 [627, 4956, 1699, 1105, 100882, 549, 53, 174053, 73290, 101765]\n",
      "70 [71462, 627, 86, 7767, 56782, 3153, 926, 318, 78836, 5379]\n",
      "311 [7767, 78836, 1564, 95654, 1545, 73042, 2511, 3546, 26547, 58655]\n",
      "581 [912, 1172, 162578, 627, 1924, 7767, 1041, 951, 1272, 78836]\n",
      "107 [627, 7767, 56782, 3153, 78836, 5379, 280, 4956, 1564, 95654]\n",
      "55 [627, 4956, 1699, 1105, 100882, 549, 53, 174053, 73290, 101765]\n",
      "544 [47629, 3328, 1208, 912, 1172, 50, 1617, 2329, 1196, 71462]\n",
      "247 [627, 7767, 78836, 4956, 1564, 95654, 1699, 1105, 1545, 73042]\n",
      "538 [71462, 3019, 627, 7387, 86, 7767, 56782, 3153, 1201, 926]\n",
      "443 [912, 1172, 162578, 627, 1924, 7767, 1041, 951, 1272, 78836]\n",
      "300 [912, 1172, 1258, 8645, 162578, 3165, 30745, 4973, 905, 627]\n",
      "223 [627, 4956, 1699, 1105, 100882, 549, 53, 174053, 73290, 101765]\n",
      "154 [3328, 1208, 912, 1172, 99114, 6787, 122882, 50, 3160, 68157]\n",
      "150 [627, 7767, 78836, 4956, 1564, 95654, 1699, 1105, 1545, 73042]\n",
      "92 [627, 7767, 78836, 4956, 1564, 95654, 1699, 1104, 1178, 6666]\n",
      "457 [627, 7767, 78836, 4956, 1564, 95654, 1699, 1105, 1545, 73042]\n",
      "375 [627, 7767, 78836, 4956, 1564, 95654, 1699, 1104, 6666, 1105]\n",
      "54 [627, 4956, 1699, 1105, 100882, 549, 53, 174053, 73290, 101765]\n",
      "497 [627, 7767, 78836, 4956, 1564, 95654, 1699, 1105, 1545, 73042]\n",
      "81 [48342, 26116, 5890, 7756, 906, 6159, 4440, 100714, 3673, 627]\n",
      "494 [1172, 50, 71462, 3019, 904, 627, 7387, 7767, 2959, 3153]\n",
      "203 [627, 7767, 3153, 78836, 280, 4956, 1564, 95654, 8838, 1699]\n",
      "293 [7767, 78836, 1564, 95654, 1545, 73042, 2511, 3546, 26547, 58655]\n",
      "315 [48342, 26116, 5890, 7756, 906, 6159, 4440, 100714, 3673, 627]\n",
      "394 [627, 4956, 1699, 1105, 100882, 549, 53, 174053, 73290, 101765]\n",
      "531 [627, 7767, 3153, 78836, 4956, 1564, 95654, 1699, 86892, 6666]\n",
      "486 [912, 1172, 71462, 162578, 627, 1924, 7767, 1041, 3153, 951]\n",
      "575 [627, 4956, 1699, 1105, 100882, 549, 53, 174053, 73290, 101765]\n",
      "481 [7767, 78836, 1564, 95654, 1545, 73042, 2511, 3546, 26547, 58655]\n",
      "558 [627, 7767, 56782, 3153, 78836, 280, 4956, 1564, 95654, 8838]\n",
      "253 [47629, 1208, 912, 1172, 50, 1617, 2329, 1196, 71462, 260]\n",
      "13 [627, 7767, 3153, 78836, 4956, 1564, 95654, 1699, 86892, 6666]\n",
      "112 [48342, 26116, 5890, 7756, 906, 6159, 4440, 100714, 3673, 627]\n",
      "508 [7767, 78836, 1564, 95654, 1545, 73042, 2511, 3546, 26547, 58655]\n",
      "14 [7767, 78836, 1564, 95654, 1545, 73042, 2511, 3546, 48342, 26547]\n",
      "193 [627, 7767, 78836, 4956, 1564, 95654, 1699, 1105, 1545, 73042]\n",
      "363 [627, 4956, 1699, 1105, 100882, 549, 53, 174053, 73290, 101765]\n",
      "532 [3328, 1172, 50, 71462, 1221, 162578, 3019, 904, 627, 7387]\n",
      "99 [627, 7767, 78836, 4956, 1564, 95654, 8838, 1699, 2670, 6666]\n",
      "207 [48342, 26116, 5890, 7756, 906, 6159, 4440, 100714, 3673, 627]\n",
      "299 [627, 7767, 78836, 4956, 1564, 95654, 1699, 1105, 1545, 73042]\n",
      "88 [627, 7767, 3153, 78836, 4956, 1564, 95654, 1699, 86892, 6666]\n",
      "142 [627, 7767, 78836, 4956, 1564, 95654, 1699, 1104, 1178, 6666]\n",
      "284 [627, 7767, 78836, 4956, 1564, 95654, 8838, 1699, 2670, 1105]\n",
      "511 [71462, 3019, 627, 7387, 7767, 3153, 93840, 78836, 5690, 4956]\n",
      "535 [48342, 26116, 5890, 7756, 906, 6159, 4440, 100714, 3673, 627]\n",
      "383 [627, 7767, 3153, 78836, 4956, 1564, 95654, 1699, 1104, 1178]\n",
      "37 [912, 1172, 162578, 905, 627, 296, 86, 1924, 7767, 1136]\n",
      "478 [627, 4956, 1699, 1105, 100882, 549, 53, 174053, 73290, 101765]\n",
      "285 [627, 7767, 78836, 4956, 1564, 95654, 8838, 1699, 2670, 6666]\n",
      "197 [627, 7767, 78836, 4956, 1564, 95654, 1699, 1104, 1178, 6666]\n",
      "35 [3328, 912, 1172, 6787, 68157, 1258, 1356, 293, 71462, 6]\n",
      "133 [627, 4956, 1699, 1105, 100882, 549, 53, 174053, 73290, 101765]\n",
      "120 [7767, 78836, 1564, 95654, 1545, 73042, 2511, 3546, 26547, 58655]\n",
      "329 [627, 4956, 1699, 1105, 100882, 549, 53, 174053, 73290, 101765]\n",
      "487 [7767, 78836, 1564, 95654, 1545, 73042, 2511, 3546, 26547, 58655]\n",
      "585 [1172, 71462, 162578, 3019, 627, 7387, 86, 132800, 1924, 262]\n",
      "578 [627, 7767, 78836, 4956, 1564, 95654, 1699, 1105, 1545, 73042]\n",
      "364 [3328, 1172, 50, 71462, 1221, 162578, 3019, 904, 627, 7387]\n",
      "530 [71462, 627, 7767, 3153, 318, 78836, 55814, 4956, 1564, 95654]\n",
      "406 [7767, 78836, 1564, 95654, 1545, 73042, 2511, 3546, 26547, 58655]\n",
      "598 [627, 7767, 78836, 4956, 1564, 95654, 1699, 1104, 1178, 1105]\n",
      "335 [627, 4956, 1699, 1105, 100882, 48342, 549, 53, 26116, 5890]\n",
      "127 [627, 4956, 1699, 1105, 100882, 549, 53, 174053, 73290, 101765]\n",
      "499 [627, 7767, 3153, 78836, 4956, 1564, 95654, 1699, 86892, 6666]\n",
      "337 [912, 1172, 1258, 8645, 162578, 3165, 30745, 4973, 905, 627]\n",
      "433 [627, 7767, 78836, 4956, 1564, 95654, 8838, 1699, 2670, 6666]\n",
      "269 [627, 7767, 78836, 4956, 1564, 95654, 1699, 1105, 1545, 73042]\n",
      "124 [627, 7767, 78836, 4956, 1564, 95654, 1699, 1104, 1178, 6666]\n",
      "569 [912, 1172, 162578, 627, 1924, 7767, 1041, 951, 1272, 78836]\n",
      "407 [627, 7767, 3153, 78836, 280, 4956, 1564, 95654, 8838, 1699]\n",
      "157 [627, 7767, 78836, 4956, 1564, 95654, 1699, 1105, 1545, 73042]\n",
      "30 [47629, 3328, 307, 1208, 63082, 912, 1172, 99114, 6787, 122882]\n",
      "529 [627, 7767, 78836, 4956, 1564, 95654, 1699, 1105, 1545, 73042]\n",
      "188 [3328, 912, 1172, 68157, 1258, 1356, 293, 71462, 6, 8645]\n",
      "283 [48342, 26116, 5890, 7756, 906, 6159, 4440, 100714, 3673, 627]\n",
      "507 [627, 7767, 78836, 4956, 1564, 95654, 1699, 1105, 1545, 73042]\n",
      "595 [47629, 1208, 912, 1172, 50, 1617, 68157, 2329, 1258, 1196]\n",
      "194 [627, 4956, 1699, 1105, 100882, 549, 53, 174053, 73290, 101765]\n",
      "206 [71462, 627, 86, 7767, 56782, 3153, 926, 318, 78836, 5379]\n",
      "320 [48342, 26116, 5890, 7756, 906, 6159, 4440, 100714, 3673, 627]\n",
      "114 [627, 4956, 1699, 1105, 100882, 549, 53, 174053, 73290, 101765]\n",
      "147 [627, 4956, 1699, 1105, 100882, 549, 53, 174053, 73290, 101765]\n",
      "245 [627, 4956, 1699, 1105, 100882, 549, 53, 174053, 73290, 101765]\n",
      "550 [71462, 627, 86, 7767, 56782, 3153, 926, 318, 78836, 5379]\n",
      "49 [912, 1172, 162578, 627, 1924, 7767, 1041, 951, 1272, 78836]\n",
      "568 [912, 1172, 71462, 162578, 3019, 905, 627, 7387, 1924, 7767]\n",
      "205 [627, 7767, 3153, 78836, 4956, 1564, 95654, 1699, 86892, 6666]\n"
     ]
    }
   ],
   "source": [
    "top_n_co = get_top_n(co_predictions, n=10)\n",
    "for uid, user_ratings in top_n_co.items():\n",
    "    print(uid, [iid for (iid, _) in user_ratings])"
   ]
  },
  {
   "cell_type": "code",
   "execution_count": 193,
   "metadata": {},
   "outputs": [
    {
     "data": {
      "text/plain": [
       "[(627, 'Last Supper, The (1995)'),\n",
       " (4956, 'Stunt Man, The (1980)'),\n",
       " (1699, 'Butcher Boy, The (1997)'),\n",
       " (1105, 'Children of the Corn IV: The Gathering (1996)'),\n",
       " (100882,\n",
       "  'Journey to the West: Conquering the Demons (Daai wa sai you chi Chui mo chun kei) (2013)'),\n",
       " (549, 'Thirty-Two Short Films About Glenn Gould (1993)'),\n",
       " (53, 'Lamerica (1994)'),\n",
       " (174053, 'Black Mirror: White Christmas (2014)'),\n",
       " (73290, \"Hachiko: A Dog's Story (a.k.a. Hachi: A Dog's Tale) (2009)\"),\n",
       " (101765, 'Perfect Plan, A (Plan parfait, Un) (2012)')]"
      ]
     },
     "execution_count": 193,
     "metadata": {},
     "output_type": "execute_result"
    }
   ],
   "source": [
    "get_user_recommendations(474,top_n_co)"
   ]
  },
  {
   "cell_type": "code",
   "execution_count": 194,
   "metadata": {},
   "outputs": [
    {
     "data": {
      "text/plain": [
       "[(7767, 'Best of Youth, The (La meglio gioventù) (2003)'),\n",
       " (78836, 'Enter the Void (2009)'),\n",
       " (1564, \"For Roseanna (Roseanna's Grave) (1997)\"),\n",
       " (95654, \"Geri's Game (1997)\"),\n",
       " (1545, 'Ponette (1996)'),\n",
       " (73042, 'Alvin and the Chipmunks: The Squeakquel (2009)'),\n",
       " (2511, 'Long Goodbye, The (1973)'),\n",
       " (3546, 'What Ever Happened to Baby Jane? (1962)'),\n",
       " (26547, 'Police Story (Ging chaat goo si) (1985)'),\n",
       " (58655, 'Drillbit Taylor (2008)')]"
      ]
     },
     "execution_count": 194,
     "metadata": {},
     "output_type": "execute_result"
    }
   ],
   "source": [
    "get_user_recommendations(120,top_n_co)"
   ]
  },
  {
   "cell_type": "code",
   "execution_count": null,
   "metadata": {},
   "outputs": [],
   "source": [
    "get_user_recommendations(230,top_n_co)"
   ]
  },
  {
   "cell_type": "code",
   "execution_count": null,
   "metadata": {},
   "outputs": [],
   "source": []
  },
  {
   "cell_type": "code",
   "execution_count": null,
   "metadata": {},
   "outputs": [],
   "source": []
  },
  {
   "cell_type": "code",
   "execution_count": null,
   "metadata": {},
   "outputs": [],
   "source": [
    "# top_n = get_top_n(best_predictions, n=5)"
   ]
  },
  {
   "cell_type": "code",
   "execution_count": null,
   "metadata": {},
   "outputs": [],
   "source": [
    "# for uid, user_ratings in top_n.items():\n",
    "#     print(uid, [iid for (iid, _) in user_ratings])"
   ]
  },
  {
   "cell_type": "code",
   "execution_count": null,
   "metadata": {
    "scrolled": true
   },
   "outputs": [],
   "source": [
    "# preds = pd.DataFrame(best_predictions)\n",
    "# preds['err']=abs(preds['r_ui']-preds['est'])\n",
    "# preds"
   ]
  },
  {
   "cell_type": "code",
   "execution_count": null,
   "metadata": {},
   "outputs": [],
   "source": [
    "# #las 5 películas recomendadas para el usuario 1\n",
    "# df_1 = rating_data[rating_data['userId'] == 1]\n",
    "# df_1 = df_1.set_index('movieId')\n",
    "# df_1 = df_1.join(movies, how=\"left\")['title']\n",
    "# print(df_1.sort_index().head(5))\n",
    "\n",
    "# # me dá el index gral no el de las pelis, está corrido 1 lugar"
   ]
  },
  {
   "cell_type": "code",
   "execution_count": null,
   "metadata": {},
   "outputs": [],
   "source": [
    "# user_1_svd = movies[['movieId', 'title']]\n",
    "# user_1_svd['Estimate_Score'] = user_1_svd['movieId'].apply(lambda x: gs1.predict('1', x).est)\n",
    "# user_1_svd = user_1_svd.drop('movieId', axis = 1)\n",
    "# user_1_svd = user_1_svd.sort_values('Estimate_Score', ascending=False)\n",
    "# print(user_1_svd.head(10))"
   ]
  },
  {
   "cell_type": "markdown",
   "metadata": {},
   "source": [
    "Tendriamos que ver la prediccion y el estimado para el usuario 1"
   ]
  },
  {
   "cell_type": "code",
   "execution_count": null,
   "metadata": {},
   "outputs": [],
   "source": [
    "# cv_results_svd = pd.DataFrame(gs1.cv_results)\n",
    "# fig = plt.figure(figsize=(15, 6))\n",
    "# plt.subplot(121)\n",
    "# plt.plot(cv_results_svd['mean_test_rmse'])\n",
    "# plt.xticks(np.arange(10), np.arange(70, 170, 10), fontsize=13)\n",
    "# plt.yticks(fontsize=13)\n",
    "# plt.xlabel('number of latent factors', fontsize=16)\n",
    "# plt.ylabel('Root Mean Square Error (RMSE)', fontsize=16)\n",
    "# plt.grid()\n",
    "# plt.legend()\n",
    "# plt.subplot(122)\n",
    "# plt.plot(cv_results_svd['mean_test_mae'])\n",
    "# plt.xticks(np.arange(10), np.arange(70, 170, 10), fontsize=13)\n",
    "# plt.yticks(fontsize=13)\n",
    "# plt.xlabel('number of latent factors', fontsize=16)\n",
    "# plt.ylabel('Mean Absolute Error (MAE)', fontsize=16)\n",
    "# plt.grid()\n",
    "# plt.legend()\n",
    "# plt.show()"
   ]
  }
 ],
 "metadata": {
  "kernelspec": {
   "display_name": "Python 3",
   "language": "python",
   "name": "python3"
  },
  "language_info": {
   "codemirror_mode": {
    "name": "ipython",
    "version": 3
   },
   "file_extension": ".py",
   "mimetype": "text/x-python",
   "name": "python",
   "nbconvert_exporter": "python",
   "pygments_lexer": "ipython3",
   "version": "3.7.3"
  }
 },
 "nbformat": 4,
 "nbformat_minor": 2
}
