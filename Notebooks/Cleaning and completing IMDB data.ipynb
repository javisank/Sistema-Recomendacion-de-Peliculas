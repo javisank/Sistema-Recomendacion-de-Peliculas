{
 "cells": [
  {
   "cell_type": "code",
   "execution_count": 1,
   "metadata": {},
   "outputs": [],
   "source": [
    "import numpy as np\n",
    "import pandas as pd\n",
    "import matplotlib.pyplot as plt\n",
    "import seaborn as sns"
   ]
  },
  {
   "cell_type": "code",
   "execution_count": 11,
   "metadata": {},
   "outputs": [],
   "source": [
    "links = pd.read_csv('../Data/links.csv')\n",
    "movies = pd.read_csv('../Data/movies.csv')\n",
    "ratings = pd.read_csv('../Data/ratings.csv')\n",
    "tags = pd.read_csv('../Data/tags.csv')\n",
    "imdb_info = pd.read_csv('../Data/imdb_info.csv')"
   ]
  },
  {
   "cell_type": "code",
   "execution_count": 12,
   "metadata": {},
   "outputs": [
    {
     "data": {
      "text/html": [
       "<div>\n",
       "<style scoped>\n",
       "    .dataframe tbody tr th:only-of-type {\n",
       "        vertical-align: middle;\n",
       "    }\n",
       "\n",
       "    .dataframe tbody tr th {\n",
       "        vertical-align: top;\n",
       "    }\n",
       "\n",
       "    .dataframe thead th {\n",
       "        text-align: right;\n",
       "    }\n",
       "</style>\n",
       "<table border=\"1\" class=\"dataframe\">\n",
       "  <thead>\n",
       "    <tr style=\"text-align: right;\">\n",
       "      <th></th>\n",
       "      <th>imdbId</th>\n",
       "      <th>imdb_info</th>\n",
       "    </tr>\n",
       "  </thead>\n",
       "  <tbody>\n",
       "    <tr>\n",
       "      <th>0</th>\n",
       "      <td>tt0114709</td>\n",
       "      <td>{'title': 'Toy Story', 'year': '1995', 'rated'...</td>\n",
       "    </tr>\n",
       "    <tr>\n",
       "      <th>1</th>\n",
       "      <td>tt0113497</td>\n",
       "      <td>{'title': 'Jumanji', 'year': '1995', 'rated': ...</td>\n",
       "    </tr>\n",
       "    <tr>\n",
       "      <th>2</th>\n",
       "      <td>tt0113228</td>\n",
       "      <td>{'title': 'Grumpier Old Men', 'year': '1995', ...</td>\n",
       "    </tr>\n",
       "    <tr>\n",
       "      <th>3</th>\n",
       "      <td>tt0114885</td>\n",
       "      <td>{'title': 'Waiting to Exhale', 'year': '1995',...</td>\n",
       "    </tr>\n",
       "    <tr>\n",
       "      <th>4</th>\n",
       "      <td>tt0113041</td>\n",
       "      <td>{'title': 'Father of the Bride Part II', 'year...</td>\n",
       "    </tr>\n",
       "  </tbody>\n",
       "</table>\n",
       "</div>"
      ],
      "text/plain": [
       "      imdbId                                          imdb_info\n",
       "0  tt0114709  {'title': 'Toy Story', 'year': '1995', 'rated'...\n",
       "1  tt0113497  {'title': 'Jumanji', 'year': '1995', 'rated': ...\n",
       "2  tt0113228  {'title': 'Grumpier Old Men', 'year': '1995', ...\n",
       "3  tt0114885  {'title': 'Waiting to Exhale', 'year': '1995',...\n",
       "4  tt0113041  {'title': 'Father of the Bride Part II', 'year..."
      ]
     },
     "execution_count": 12,
     "metadata": {},
     "output_type": "execute_result"
    }
   ],
   "source": [
    "imdb_info.head()"
   ]
  },
  {
   "cell_type": "code",
   "execution_count": 24,
   "metadata": {},
   "outputs": [
    {
     "data": {
      "text/plain": [
       "'{\\'title\\': \\'Toy Story\\', \\'year\\': \\'1995\\', \\'rated\\': \\'G\\', \\'released\\': \\'22 Nov 1995\\', \\'runtime\\': \\'81 min\\', \\'genre\\': \\'Animation, Adventure, Comedy, Family, Fantasy\\', \\'director\\': \\'John Lasseter\\', \\'writer\\': \\'John Lasseter (original story by), Pete Docter (original story by), Andrew Stanton (original story by), Joe Ranft (original story by), Joss Whedon (screenplay by), Andrew Stanton (screenplay by), Joel Cohen (screenplay by), Alec Sokolow (screenplay by)\\', \\'actors\\': \\'Tom Hanks, Tim Allen, Don Rickles, Jim Varney\\', \\'plot\\': \"A cowboy doll is profoundly threatened and jealous when a new spaceman figure supplants him as top toy in a boy\\'s room.\", \\'language\\': \\'English\\', \\'country\\': \\'USA\\', \\'awards\\': \\'Nominated for 3 Oscars. Another 23 wins & 17 nominations.\\', \\'poster\\': \\'https://m.media-amazon.com/images/M/MV5BMDU2ZWJlMjktMTRhMy00ZTA5LWEzNDgtYmNmZTEwZTViZWJkXkEyXkFqcGdeQXVyNDQ2OTk4MzI@._V1_SX300.jpg\\', \\'ratings\\': [{\\'source\\': \\'Internet Movie Database\\', \\'value\\': \\'8.3/10\\'}, {\\'source\\': \\'Rotten Tomatoes\\', \\'value\\': \\'100%\\'}, {\\'source\\': \\'Metacritic\\', \\'value\\': \\'95/100\\'}], \\'metascore\\': \\'95\\', \\'imdb_rating\\': \\'8.3\\', \\'imdb_votes\\': \\'805,018\\', \\'imdb_id\\': \\'tt0114709\\', \\'type\\': \\'movie\\', \\'dvd\\': \\'20 Mar 2001\\', \\'box_office\\': \\'N/A\\', \\'production\\': \\'Buena Vista\\', \\'website\\': \\'http://www.disney.com/ToyStory\\', \\'response\\': \\'True\\'}'"
      ]
     },
     "execution_count": 24,
     "metadata": {},
     "output_type": "execute_result"
    }
   ],
   "source": [
    "imdb_info.iloc[0]['imdb_info'].replace('\\\\','LOL')"
   ]
  },
  {
   "cell_type": "code",
   "execution_count": 10,
   "metadata": {
    "scrolled": true
   },
   "outputs": [
    {
     "ename": "SyntaxError",
     "evalue": "invalid syntax (<ipython-input-10-dc11291be429>, line 1)",
     "output_type": "error",
     "traceback": [
      "\u001b[1;36m  File \u001b[1;32m\"<ipython-input-10-dc11291be429>\"\u001b[1;36m, line \u001b[1;32m1\u001b[0m\n\u001b[1;33m    json.loads({\"title\": \"Toy Story\", \"year\": \"1995\", \"rated\": \"G\", \"released\": \"22 Nov 1995\", \"runtime\": \"81 min\", \"genre\": \"Animation, Adventure, Comedy, Family, Fantasy\", \"director\": \"John Lasseter\", \"writer\": \"John Lasseter (original story by), Pete Docter (original story by), Andrew Stanton (original story by), Joe Ranft (original story by), Joss Whedon (screenplay by), Andrew Stanton (screenplay by), Joel Cohen (screenplay by), Alec Sokolow (screenplay by)\", \"actors\": \"Tom Hanks, Tim Allen, Don Rickles, Jim Varney\", \"plot\": \"A cowboy doll is profoundly threatened and jealous when a new spaceman figure supplants him as top toy in a boy\"s room.\", \"language\": \"English\", \"country\": \"USA\", \"awards\": \"Nominated for 3 Oscars. Another 23 wins & 17 nominations.\", \"poster\": \"https://m.media-amazon.com/images/M/MV5BMDU2ZWJlMjktMTRhMy00ZTA5LWEzNDgtYmNmZTEwZTViZWJkXkEyXkFqcGdeQXVyNDQ2OTk4MzI@._V1_SX300.jpg\", \"ratings\": [{\"source\": \"Internet Movie Database\", \"value\": \"8.3/10\"}, {\"source\": \"Rotten Tomatoes\", \"value\": \"100%\"}, {\"source\": \"Metacritic\", \"value\": \"95/100\"}], \"metascore\": \"95\", \"imdb_rating\": \"8.3\", \"imdb_votes\": \"805,018\", \"imdb_id\": \"tt0114709\", \"type\": \"movie\", \"dvd\": \"20 Mar 2001\", \"box_office\": \"N/A\", \"production\": \"Buena Vista\", \"website\": \"http://www.disney.com/ToyStory\", \"response\": \"True\"})\u001b[0m\n\u001b[1;37m                                                                                                                                                                                                                                                                                                                                                                                                                                                                                                                                                                                                                                                                         ^\u001b[0m\n\u001b[1;31mSyntaxError\u001b[0m\u001b[1;31m:\u001b[0m invalid syntax\n"
     ]
    }
   ],
   "source": [
    "json.loads()"
   ]
  },
  {
   "cell_type": "code",
   "execution_count": null,
   "metadata": {},
   "outputs": [],
   "source": []
  },
  {
   "cell_type": "code",
   "execution_count": null,
   "metadata": {},
   "outputs": [],
   "source": []
  },
  {
   "cell_type": "code",
   "execution_count": 9,
   "metadata": {},
   "outputs": [
    {
     "data": {
      "text/plain": [
       "'{\"title\": \"Toy Story\", \"year\": \"1995\", \"rated\": \"G\", \"released\": \"22 Nov 1995\", \"runtime\": \"81 min\", \"genre\": \"Animation, Adventure, Comedy, Family, Fantasy\", \"director\": \"John Lasseter\", \"writer\": \"John Lasseter (original story by), Pete Docter (original story by), Andrew Stanton (original story by), Joe Ranft (original story by), Joss Whedon (screenplay by), Andrew Stanton (screenplay by), Joel Cohen (screenplay by), Alec Sokolow (screenplay by)\", \"actors\": \"Tom Hanks, Tim Allen, Don Rickles, Jim Varney\", \"plot\": \"A cowboy doll is profoundly threatened and jealous when a new spaceman figure supplants him as top toy in a boy\"s room.\", \"language\": \"English\", \"country\": \"USA\", \"awards\": \"Nominated for 3 Oscars. Another 23 wins & 17 nominations.\", \"poster\": \"https://m.media-amazon.com/images/M/MV5BMDU2ZWJlMjktMTRhMy00ZTA5LWEzNDgtYmNmZTEwZTViZWJkXkEyXkFqcGdeQXVyNDQ2OTk4MzI@._V1_SX300.jpg\", \"ratings\": [{\"source\": \"Internet Movie Database\", \"value\": \"8.3/10\"}, {\"source\": \"Rotten Tomatoes\", \"value\": \"100%\"}, {\"source\": \"Metacritic\", \"value\": \"95/100\"}], \"metascore\": \"95\", \"imdb_rating\": \"8.3\", \"imdb_votes\": \"805,018\", \"imdb_id\": \"tt0114709\", \"type\": \"movie\", \"dvd\": \"20 Mar 2001\", \"box_office\": \"N/A\", \"production\": \"Buena Vista\", \"website\": \"http://www.disney.com/ToyStory\", \"response\": \"True\"}'"
      ]
     },
     "execution_count": 9,
     "metadata": {},
     "output_type": "execute_result"
    }
   ],
   "source": [
    "#imdb_info['json'] = imdb_info['imdb_info'].apply(lambda x: x.replace('\\'','\\\"'))\n",
    "#imdb_info.loc[0]['json']\n",
    "#json.loads(imdb_info.loc[0]['json'])"
   ]
  },
  {
   "cell_type": "code",
   "execution_count": 5,
   "metadata": {},
   "outputs": [
    {
     "ename": "JSONDecodeError",
     "evalue": "Expecting property name enclosed in double quotes: line 1 column 2 (char 1)",
     "output_type": "error",
     "traceback": [
      "\u001b[1;31m---------------------------------------------------------------------------\u001b[0m",
      "\u001b[1;31mJSONDecodeError\u001b[0m                           Traceback (most recent call last)",
      "\u001b[1;32m<ipython-input-5-52161f5576b4>\u001b[0m in \u001b[0;36m<module>\u001b[1;34m\u001b[0m\n\u001b[0;32m      1\u001b[0m \u001b[1;32mimport\u001b[0m \u001b[0mjson\u001b[0m\u001b[1;33m\u001b[0m\u001b[1;33m\u001b[0m\u001b[0m\n\u001b[1;32m----> 2\u001b[1;33m \u001b[0mjson\u001b[0m\u001b[1;33m.\u001b[0m\u001b[0mloads\u001b[0m\u001b[1;33m(\u001b[0m\u001b[0mimdb_info\u001b[0m\u001b[1;33m.\u001b[0m\u001b[0miloc\u001b[0m\u001b[1;33m[\u001b[0m\u001b[1;36m0\u001b[0m\u001b[1;33m]\u001b[0m\u001b[1;33m[\u001b[0m\u001b[1;34m'imdb_info'\u001b[0m\u001b[1;33m]\u001b[0m\u001b[1;33m)\u001b[0m\u001b[1;33m\u001b[0m\u001b[1;33m\u001b[0m\u001b[0m\n\u001b[0m",
      "\u001b[1;32m~\\Miniconda3\\envs\\dhds\\lib\\json\\__init__.py\u001b[0m in \u001b[0;36mloads\u001b[1;34m(s, encoding, cls, object_hook, parse_float, parse_int, parse_constant, object_pairs_hook, **kw)\u001b[0m\n\u001b[0;32m    346\u001b[0m             \u001b[0mparse_int\u001b[0m \u001b[1;32mis\u001b[0m \u001b[1;32mNone\u001b[0m \u001b[1;32mand\u001b[0m \u001b[0mparse_float\u001b[0m \u001b[1;32mis\u001b[0m \u001b[1;32mNone\u001b[0m \u001b[1;32mand\u001b[0m\u001b[1;33m\u001b[0m\u001b[1;33m\u001b[0m\u001b[0m\n\u001b[0;32m    347\u001b[0m             parse_constant is None and object_pairs_hook is None and not kw):\n\u001b[1;32m--> 348\u001b[1;33m         \u001b[1;32mreturn\u001b[0m \u001b[0m_default_decoder\u001b[0m\u001b[1;33m.\u001b[0m\u001b[0mdecode\u001b[0m\u001b[1;33m(\u001b[0m\u001b[0ms\u001b[0m\u001b[1;33m)\u001b[0m\u001b[1;33m\u001b[0m\u001b[1;33m\u001b[0m\u001b[0m\n\u001b[0m\u001b[0;32m    349\u001b[0m     \u001b[1;32mif\u001b[0m \u001b[0mcls\u001b[0m \u001b[1;32mis\u001b[0m \u001b[1;32mNone\u001b[0m\u001b[1;33m:\u001b[0m\u001b[1;33m\u001b[0m\u001b[1;33m\u001b[0m\u001b[0m\n\u001b[0;32m    350\u001b[0m         \u001b[0mcls\u001b[0m \u001b[1;33m=\u001b[0m \u001b[0mJSONDecoder\u001b[0m\u001b[1;33m\u001b[0m\u001b[1;33m\u001b[0m\u001b[0m\n",
      "\u001b[1;32m~\\Miniconda3\\envs\\dhds\\lib\\json\\decoder.py\u001b[0m in \u001b[0;36mdecode\u001b[1;34m(self, s, _w)\u001b[0m\n\u001b[0;32m    335\u001b[0m \u001b[1;33m\u001b[0m\u001b[0m\n\u001b[0;32m    336\u001b[0m         \"\"\"\n\u001b[1;32m--> 337\u001b[1;33m         \u001b[0mobj\u001b[0m\u001b[1;33m,\u001b[0m \u001b[0mend\u001b[0m \u001b[1;33m=\u001b[0m \u001b[0mself\u001b[0m\u001b[1;33m.\u001b[0m\u001b[0mraw_decode\u001b[0m\u001b[1;33m(\u001b[0m\u001b[0ms\u001b[0m\u001b[1;33m,\u001b[0m \u001b[0midx\u001b[0m\u001b[1;33m=\u001b[0m\u001b[0m_w\u001b[0m\u001b[1;33m(\u001b[0m\u001b[0ms\u001b[0m\u001b[1;33m,\u001b[0m \u001b[1;36m0\u001b[0m\u001b[1;33m)\u001b[0m\u001b[1;33m.\u001b[0m\u001b[0mend\u001b[0m\u001b[1;33m(\u001b[0m\u001b[1;33m)\u001b[0m\u001b[1;33m)\u001b[0m\u001b[1;33m\u001b[0m\u001b[1;33m\u001b[0m\u001b[0m\n\u001b[0m\u001b[0;32m    338\u001b[0m         \u001b[0mend\u001b[0m \u001b[1;33m=\u001b[0m \u001b[0m_w\u001b[0m\u001b[1;33m(\u001b[0m\u001b[0ms\u001b[0m\u001b[1;33m,\u001b[0m \u001b[0mend\u001b[0m\u001b[1;33m)\u001b[0m\u001b[1;33m.\u001b[0m\u001b[0mend\u001b[0m\u001b[1;33m(\u001b[0m\u001b[1;33m)\u001b[0m\u001b[1;33m\u001b[0m\u001b[1;33m\u001b[0m\u001b[0m\n\u001b[0;32m    339\u001b[0m         \u001b[1;32mif\u001b[0m \u001b[0mend\u001b[0m \u001b[1;33m!=\u001b[0m \u001b[0mlen\u001b[0m\u001b[1;33m(\u001b[0m\u001b[0ms\u001b[0m\u001b[1;33m)\u001b[0m\u001b[1;33m:\u001b[0m\u001b[1;33m\u001b[0m\u001b[1;33m\u001b[0m\u001b[0m\n",
      "\u001b[1;32m~\\Miniconda3\\envs\\dhds\\lib\\json\\decoder.py\u001b[0m in \u001b[0;36mraw_decode\u001b[1;34m(self, s, idx)\u001b[0m\n\u001b[0;32m    351\u001b[0m         \"\"\"\n\u001b[0;32m    352\u001b[0m         \u001b[1;32mtry\u001b[0m\u001b[1;33m:\u001b[0m\u001b[1;33m\u001b[0m\u001b[1;33m\u001b[0m\u001b[0m\n\u001b[1;32m--> 353\u001b[1;33m             \u001b[0mobj\u001b[0m\u001b[1;33m,\u001b[0m \u001b[0mend\u001b[0m \u001b[1;33m=\u001b[0m \u001b[0mself\u001b[0m\u001b[1;33m.\u001b[0m\u001b[0mscan_once\u001b[0m\u001b[1;33m(\u001b[0m\u001b[0ms\u001b[0m\u001b[1;33m,\u001b[0m \u001b[0midx\u001b[0m\u001b[1;33m)\u001b[0m\u001b[1;33m\u001b[0m\u001b[1;33m\u001b[0m\u001b[0m\n\u001b[0m\u001b[0;32m    354\u001b[0m         \u001b[1;32mexcept\u001b[0m \u001b[0mStopIteration\u001b[0m \u001b[1;32mas\u001b[0m \u001b[0merr\u001b[0m\u001b[1;33m:\u001b[0m\u001b[1;33m\u001b[0m\u001b[1;33m\u001b[0m\u001b[0m\n\u001b[0;32m    355\u001b[0m             \u001b[1;32mraise\u001b[0m \u001b[0mJSONDecodeError\u001b[0m\u001b[1;33m(\u001b[0m\u001b[1;34m\"Expecting value\"\u001b[0m\u001b[1;33m,\u001b[0m \u001b[0ms\u001b[0m\u001b[1;33m,\u001b[0m \u001b[0merr\u001b[0m\u001b[1;33m.\u001b[0m\u001b[0mvalue\u001b[0m\u001b[1;33m)\u001b[0m \u001b[1;32mfrom\u001b[0m \u001b[1;32mNone\u001b[0m\u001b[1;33m\u001b[0m\u001b[1;33m\u001b[0m\u001b[0m\n",
      "\u001b[1;31mJSONDecodeError\u001b[0m: Expecting property name enclosed in double quotes: line 1 column 2 (char 1)"
     ]
    }
   ],
   "source": [
    "import json\n",
    "json.loads(imdb_info.iloc[0]['imdb_info'])"
   ]
  },
  {
   "cell_type": "code",
   "execution_count": 39,
   "metadata": {},
   "outputs": [],
   "source": [
    "id1 = 1\n",
    "id2 = 11\n",
    "id3 = 111\n",
    "id4 = 1111\n",
    "id5 = 11111\n",
    "id6 = 111111\n",
    "id7 = 1111111\n",
    "ids = [id1,id2,id3,id4,id5,id6,id7]\n",
    "\n",
    "def convert2reqid(num):\n",
    "    if num<10:\n",
    "        return 'tt000000'+str(num)\n",
    "    elif num<100:\n",
    "        return 'tt00000'+str(num)\n",
    "    elif num<1000:\n",
    "        return 'tt0000'+str(num)\n",
    "    elif num<10000:\n",
    "        return 'tt000'+str(num)\n",
    "    elif num<100000:\n",
    "        return 'tt00'+str(num)\n",
    "    else:\n",
    "        return 'tt0'+str(num)\n",
    "#     elif num<1000000:\n",
    "#         return 'tt0'+str(num)\n",
    "#     else:\n",
    "#         return 'tt'+str(num)\n",
    "\n"
   ]
  },
  {
   "cell_type": "code",
   "execution_count": 38,
   "metadata": {},
   "outputs": [
    {
     "name": "stdout",
     "output_type": "stream",
     "text": [
      "1 tt0000001\n",
      "----\n",
      "11 tt0000011\n",
      "----\n",
      "111 tt0000111\n",
      "----\n",
      "1111 tt0001111\n",
      "----\n",
      "11111 tt0011111\n",
      "----\n",
      "111111 tt0111111\n",
      "----\n",
      "1111111 tt01111111\n",
      "----\n"
     ]
    }
   ],
   "source": [
    "for mid in ids:\n",
    "    print(mid,convert2reqid(mid))\n",
    "    print(\"----\")"
   ]
  },
  {
   "cell_type": "code",
   "execution_count": 41,
   "metadata": {},
   "outputs": [
    {
     "data": {
      "text/plain": [
       "imdbId       0\n",
       "imdb_info    0\n",
       "dtype: int64"
      ]
     },
     "execution_count": 41,
     "metadata": {},
     "output_type": "execute_result"
    }
   ],
   "source": [
    "imdb_info.isna().sum()"
   ]
  },
  {
   "cell_type": "code",
   "execution_count": 19,
   "metadata": {},
   "outputs": [
    {
     "data": {
      "text/plain": [
       "['tt0004972',\n",
       " 'tt0006864',\n",
       " 'tt0008133',\n",
       " 'tt0000417',\n",
       " 'tt0000439',\n",
       " 'tt0006333',\n",
       " 'tt0007361',\n",
       " 'tt0007264',\n",
       " 'tt0000516']"
      ]
     },
     "execution_count": 19,
     "metadata": {},
     "output_type": "execute_result"
    }
   ],
   "source": [
    "falta_info = list(imdb_info.loc[imdb_info['imdb_info']=='{}','imdbId'])\n",
    "falta_info = [int(mid.split('tt00')[-1]) for mid in falta_info]\n",
    "falta_info = [convert2reqid(mid) for mid in falta_info]\n",
    "falta_info"
   ]
  },
  {
   "cell_type": "code",
   "execution_count": 9,
   "metadata": {},
   "outputs": [],
   "source": [
    "import omdb\n",
    "client = omdb.OMDBClient(apikey='e06ce3f4')"
   ]
  },
  {
   "cell_type": "code",
   "execution_count": 20,
   "metadata": {},
   "outputs": [
    {
     "data": {
      "text/plain": [
       "[{'title': 'The Birth of a Nation',\n",
       "  'year': '1915',\n",
       "  'rated': 'Not Rated',\n",
       "  'released': '21 Mar 1915',\n",
       "  'runtime': '195 min',\n",
       "  'genre': 'Drama, History, War',\n",
       "  'director': 'D.W. Griffith',\n",
       "  'writer': 'Thomas Dixon Jr. (adapted from his novel: \"The Clansman: An Historical Romance of the Ku Klux Klan\"), Thomas Dixon Jr. (play), Thomas Dixon Jr. (novel), D.W. Griffith, Frank E. Woods',\n",
       "  'actors': 'Henry B. Walthall, Lillian Gish, Mae Marsh, Miriam Cooper',\n",
       "  'plot': \"The Stoneman family finds its friendship with the Camerons affected by the Civil War, both fighting in opposite armies. The development of the war in their lives plays through to Lincoln's assassination and the birth of the Ku Klux Klan.\",\n",
       "  'language': 'N/A',\n",
       "  'country': 'USA',\n",
       "  'awards': '2 wins.',\n",
       "  'poster': 'https://m.media-amazon.com/images/M/MV5BYTM4ZDhiYTQtYzExNC00YjVlLTg2YWYtYTk3NTAzMzcwNTExXkEyXkFqcGdeQXVyNjU0OTQ0OTY@._V1_SX300.jpg',\n",
       "  'ratings': [{'source': 'Internet Movie Database', 'value': '6.6/10'},\n",
       "   {'source': 'Rotten Tomatoes', 'value': '98%'}],\n",
       "  'metascore': 'N/A',\n",
       "  'imdb_rating': '6.6',\n",
       "  'imdb_votes': '20,483',\n",
       "  'imdb_id': 'tt0004972',\n",
       "  'type': 'movie',\n",
       "  'dvd': '29 Jun 2004',\n",
       "  'box_office': 'N/A',\n",
       "  'production': 'Gravitas',\n",
       "  'website': 'N/A',\n",
       "  'response': 'True'},\n",
       " {'title': \"Intolerance: Love's Struggle Throughout the Ages\",\n",
       "  'year': '1916',\n",
       "  'rated': 'Passed',\n",
       "  'released': '24 Feb 1918',\n",
       "  'runtime': '197 min',\n",
       "  'genre': 'Drama, History',\n",
       "  'director': 'D.W. Griffith',\n",
       "  'writer': 'D.W. Griffith (scenario), Anita Loos (titles)',\n",
       "  'actors': 'Lillian Gish, Mae Marsh, Robert Harron, F.A. Turner',\n",
       "  'plot': 'The story of a poor young woman, separated by prejudice from her husband and baby, is interwoven with tales of intolerance from throughout history.',\n",
       "  'language': 'N/A',\n",
       "  'country': 'USA',\n",
       "  'awards': '1 win.',\n",
       "  'poster': 'https://m.media-amazon.com/images/M/MV5BZTc0YjA1ZjctOTFlZi00NWRiLWE2MTAtZDE1MWY1YTgzOTJjXkEyXkFqcGdeQXVyNzkwMjQ5NzM@._V1_SX300.jpg',\n",
       "  'ratings': [{'source': 'Internet Movie Database', 'value': '7.9/10'},\n",
       "   {'source': 'Rotten Tomatoes', 'value': '97%'},\n",
       "   {'source': 'Metacritic', 'value': '92/100'}],\n",
       "  'metascore': '92',\n",
       "  'imdb_rating': '7.9',\n",
       "  'imdb_votes': '12,877',\n",
       "  'imdb_id': 'tt0006864',\n",
       "  'type': 'movie',\n",
       "  'dvd': '10 Dec 2002',\n",
       "  'box_office': 'N/A',\n",
       "  'production': 'Cohen Media Group',\n",
       "  'website': 'N/A',\n",
       "  'response': 'True'},\n",
       " {'title': 'The Immigrant',\n",
       "  'year': '1917',\n",
       "  'rated': 'Unrated',\n",
       "  'released': '17 Jun 1917',\n",
       "  'runtime': '30 min',\n",
       "  'genre': 'Short, Comedy, Drama, Romance',\n",
       "  'director': 'Charles Chaplin',\n",
       "  'writer': 'Charles Chaplin',\n",
       "  'actors': 'Charles Chaplin, Edna Purviance, Eric Campbell, Albert Austin',\n",
       "  'plot': 'Charlie is an immigrant who endures a challenging voyage and gets into trouble as soon as he arrives in America.',\n",
       "  'language': 'English',\n",
       "  'country': 'USA',\n",
       "  'awards': '1 win.',\n",
       "  'poster': 'https://m.media-amazon.com/images/M/MV5BMTNkYWU5YjMtMjY2My00MDI4LTlmYzQtNTFkNTFjM2E1MTVlXkEyXkFqcGdeQXVyNDE5MTU2MDE@._V1_SX300.jpg',\n",
       "  'ratings': [{'source': 'Internet Movie Database', 'value': '7.7/10'}],\n",
       "  'metascore': 'N/A',\n",
       "  'imdb_rating': '7.7',\n",
       "  'imdb_votes': '6,622',\n",
       "  'imdb_id': 'tt0008133',\n",
       "  'type': 'movie',\n",
       "  'dvd': '12 Apr 2001',\n",
       "  'box_office': 'N/A',\n",
       "  'production': 'Lone Star Corporation',\n",
       "  'website': 'N/A',\n",
       "  'response': 'True'},\n",
       " {'title': 'A Trip to the Moon',\n",
       "  'year': '1902',\n",
       "  'rated': 'TV-G',\n",
       "  'released': '04 Oct 1902',\n",
       "  'runtime': '13 min',\n",
       "  'genre': 'Short, Action, Adventure, Comedy, Fantasy, Sci-Fi',\n",
       "  'director': 'Georges Méliès',\n",
       "  'writer': 'N/A',\n",
       "  'actors': \"Victor André, Bleuette Bernon, Brunnet, Jehanne d'Alcy\",\n",
       "  'plot': 'A group of astronomers go on an expedition to the Moon.',\n",
       "  'language': 'French',\n",
       "  'country': 'France',\n",
       "  'awards': '1 win.',\n",
       "  'poster': 'https://m.media-amazon.com/images/M/MV5BMzcyYzhlMzctYjg1NS00ODJlLTkxOTUtYmQ4YjgxMWY5MGFlXkEyXkFqcGdeQXVyNDE5MTU2MDE@._V1_SX300.jpg',\n",
       "  'ratings': [{'source': 'Internet Movie Database', 'value': '8.2/10'},\n",
       "   {'source': 'Rotten Tomatoes', 'value': '100%'}],\n",
       "  'metascore': 'N/A',\n",
       "  'imdb_rating': '8.2',\n",
       "  'imdb_votes': '39,085',\n",
       "  'imdb_id': 'tt0000417',\n",
       "  'type': 'movie',\n",
       "  'dvd': 'N/A',\n",
       "  'box_office': 'N/A',\n",
       "  'production': 'N/A',\n",
       "  'website': 'N/A',\n",
       "  'response': 'True'},\n",
       " {'title': 'The Great Train Robbery',\n",
       "  'year': '1903',\n",
       "  'rated': 'TV-G',\n",
       "  'released': '01 Dec 1903',\n",
       "  'runtime': '11 min',\n",
       "  'genre': 'Short, Action, Crime, Western',\n",
       "  'director': 'Edwin S. Porter',\n",
       "  'writer': 'N/A',\n",
       "  'actors': \"A.C. Abadie, Gilbert M. 'Broncho Billy' Anderson, George Barnes, Justus D. Barnes\",\n",
       "  'plot': 'A group of bandits stage a brazen train hold-up, only to find a determined posse hot on their heels.',\n",
       "  'language': 'English',\n",
       "  'country': 'USA',\n",
       "  'awards': '1 win.',\n",
       "  'poster': 'https://m.media-amazon.com/images/M/MV5BMTU3NjE5NzYtYTYyNS00MDVmLWIwYjgtMmYwYWIxZDYyNzU2XkEyXkFqcGdeQXVyNzQzNzQxNzI@._V1_SX300.jpg',\n",
       "  'ratings': [{'source': 'Internet Movie Database', 'value': '7.3/10'},\n",
       "   {'source': 'Rotten Tomatoes', 'value': '100%'}],\n",
       "  'metascore': 'N/A',\n",
       "  'imdb_rating': '7.3',\n",
       "  'imdb_votes': '15,065',\n",
       "  'imdb_id': 'tt0000439',\n",
       "  'type': 'movie',\n",
       "  'dvd': '16 Dec 2003',\n",
       "  'box_office': 'N/A',\n",
       "  'production': 'N/A',\n",
       "  'website': 'N/A',\n",
       "  'response': 'True'},\n",
       " {'title': '20,000 Leagues Under the Sea',\n",
       "  'year': '1916',\n",
       "  'rated': 'PASSED',\n",
       "  'released': '24 Dec 1916',\n",
       "  'runtime': '105 min',\n",
       "  'genre': 'Action, Adventure, Sci-Fi',\n",
       "  'director': 'Stuart Paton',\n",
       "  'writer': 'Jules Verne (based on: \"Twenty Thousand Leagues Under the Sea\" by)',\n",
       "  'actors': 'Dan Hanlon, Edna Pendleton, Curtis Benton, Allen Holubar',\n",
       "  'plot': 'Captain Nemo has built a fantastic submarine for his mission of revenge. He has traveled over 20,000 leagues in search of Charles Denver - a man who caused the death of Princess Daaker. ...',\n",
       "  'language': 'English',\n",
       "  'country': 'USA',\n",
       "  'awards': '1 win.',\n",
       "  'poster': 'https://images-na.ssl-images-amazon.com/images/M/MV5BMTQ0OTk3MTIzNV5BMl5BanBnXkFtZTgwNDA5MjAwMzE@._V1_SX300.jpg',\n",
       "  'ratings': [{'source': 'Internet Movie Database', 'value': '7.0/10'}],\n",
       "  'metascore': 'N/A',\n",
       "  'imdb_rating': '7.0',\n",
       "  'imdb_votes': '1,281',\n",
       "  'imdb_id': 'tt0006333',\n",
       "  'type': 'movie',\n",
       "  'dvd': '26 Jan 1999',\n",
       "  'box_office': 'N/A',\n",
       "  'production': 'Universal Pictures',\n",
       "  'website': 'N/A',\n",
       "  'response': 'True'},\n",
       " {'title': 'Snow White',\n",
       "  'year': '1916',\n",
       "  'rated': 'UNRATED',\n",
       "  'released': '25 Dec 1916',\n",
       "  'runtime': '63 min',\n",
       "  'genre': 'Fantasy, Romance',\n",
       "  'director': 'J. Searle Dawley',\n",
       "  'writer': 'Winthrop Ames (by), Winthrop Ames',\n",
       "  'actors': 'Dorothy Cumming, Creighton Hale, Lionel Braham, Alice Washburn',\n",
       "  'plot': \"Snow White is a motherless princess, who arouses the jealousy and hatred of Mary Jane, her mother's former lady-in-waiting, who is the ugliest woman in the kingdom, but aspires to the ...\",\n",
       "  'language': 'English',\n",
       "  'country': 'USA',\n",
       "  'awards': 'N/A',\n",
       "  'poster': 'https://images-na.ssl-images-amazon.com/images/M/MV5BMjk0NTJjY2UtMWNjNi00MGM1LWEzNGEtMjI2OWI1NzQwOWY2L2ltYWdlL2ltYWdlXkEyXkFqcGdeQXVyMjUxODE0MDY@._V1_SX300.jpg',\n",
       "  'ratings': [{'source': 'Internet Movie Database', 'value': '6.2/10'}],\n",
       "  'metascore': 'N/A',\n",
       "  'imdb_rating': '6.2',\n",
       "  'imdb_votes': '297',\n",
       "  'imdb_id': 'tt0007361',\n",
       "  'type': 'movie',\n",
       "  'dvd': 'N/A',\n",
       "  'box_office': 'N/A',\n",
       "  'production': 'N/A',\n",
       "  'website': 'N/A',\n",
       "  'response': 'True'},\n",
       " {'title': 'The Rink',\n",
       "  'year': '1916',\n",
       "  'rated': 'TV-G',\n",
       "  'released': '04 Dec 1916',\n",
       "  'runtime': '30 min',\n",
       "  'genre': 'Comedy, Short',\n",
       "  'director': 'Charles Chaplin',\n",
       "  'writer': 'N/A',\n",
       "  'actors': 'Charles Chaplin, Edna Purviance, James T. Kelley, Eric Campbell',\n",
       "  'plot': 'After causing restaurant chaos at work, a bumbling waiter tears up the local roller rink with his skating.',\n",
       "  'language': 'English',\n",
       "  'country': 'USA',\n",
       "  'awards': 'N/A',\n",
       "  'poster': 'https://m.media-amazon.com/images/M/MV5BYTViN2ZjMjQtYjlhYy00NTc5LWE5YzctNmZjYTcyNmE3ZDIxXkEyXkFqcGdeQXVyNDE5MTU2MDE@._V1_SX300.jpg',\n",
       "  'ratings': [{'source': 'Internet Movie Database', 'value': '7.2/10'}],\n",
       "  'metascore': 'N/A',\n",
       "  'imdb_rating': '7.2',\n",
       "  'imdb_votes': '2,884',\n",
       "  'imdb_id': 'tt0007264',\n",
       "  'type': 'movie',\n",
       "  'dvd': 'N/A',\n",
       "  'box_office': 'N/A',\n",
       "  'production': 'Lone Star Mutual',\n",
       "  'website': 'N/A',\n",
       "  'response': 'True'},\n",
       " {'title': 'The Electric Hotel',\n",
       "  'year': '1908',\n",
       "  'rated': 'N/A',\n",
       "  'released': '19 Dec 1908',\n",
       "  'runtime': '8 min',\n",
       "  'genre': 'Animation, Short, Fantasy',\n",
       "  'director': 'Segundo de Chomón',\n",
       "  'writer': 'N/A',\n",
       "  'actors': 'Segundo de Chomón, Julienne Mathieu',\n",
       "  'plot': 'According to the rapid strides that electricity is making in this wonderful age we are not surprised to see in this picture an ideal hotel of the future in which everything is done by ...',\n",
       "  'language': 'N/A',\n",
       "  'country': 'Spain, France',\n",
       "  'awards': 'N/A',\n",
       "  'poster': 'https://images-na.ssl-images-amazon.com/images/M/MV5BNjhlYWQ5MmUtM2YwOC00ODBhLWJlMDQtZGEwNWNkNTFmZjE3XkEyXkFqcGdeQXVyMDM0MzU2NA@@._V1_SX300.jpg',\n",
       "  'ratings': [{'source': 'Internet Movie Database', 'value': '6.6/10'}],\n",
       "  'metascore': 'N/A',\n",
       "  'imdb_rating': '6.6',\n",
       "  'imdb_votes': '592',\n",
       "  'imdb_id': 'tt0000516',\n",
       "  'type': 'movie',\n",
       "  'dvd': 'N/A',\n",
       "  'box_office': 'N/A',\n",
       "  'production': 'N/A',\n",
       "  'website': 'N/A',\n",
       "  'response': 'True'}]"
      ]
     },
     "execution_count": 20,
     "metadata": {},
     "output_type": "execute_result"
    }
   ],
   "source": [
    "new_info = []\n",
    "for mid in falta_info:\n",
    "    new_info.append(client.imdbid(mid))\n",
    "new_info"
   ]
  },
  {
   "cell_type": "code",
   "execution_count": 27,
   "metadata": {},
   "outputs": [
    {
     "data": {
      "text/html": [
       "<div>\n",
       "<style scoped>\n",
       "    .dataframe tbody tr th:only-of-type {\n",
       "        vertical-align: middle;\n",
       "    }\n",
       "\n",
       "    .dataframe tbody tr th {\n",
       "        vertical-align: top;\n",
       "    }\n",
       "\n",
       "    .dataframe thead th {\n",
       "        text-align: right;\n",
       "    }\n",
       "</style>\n",
       "<table border=\"1\" class=\"dataframe\">\n",
       "  <thead>\n",
       "    <tr style=\"text-align: right;\">\n",
       "      <th></th>\n",
       "      <th>imdbId</th>\n",
       "      <th>imdb_info</th>\n",
       "      <th>correct_imdbid</th>\n",
       "    </tr>\n",
       "  </thead>\n",
       "  <tbody>\n",
       "    <tr>\n",
       "      <th>4743</th>\n",
       "      <td>tt0004972</td>\n",
       "      <td>{}</td>\n",
       "      <td>4972</td>\n",
       "    </tr>\n",
       "    <tr>\n",
       "      <th>4846</th>\n",
       "      <td>tt0006864</td>\n",
       "      <td>{}</td>\n",
       "      <td>6864</td>\n",
       "    </tr>\n",
       "    <tr>\n",
       "      <th>5217</th>\n",
       "      <td>tt0008133</td>\n",
       "      <td>{}</td>\n",
       "      <td>8133</td>\n",
       "    </tr>\n",
       "    <tr>\n",
       "      <th>5868</th>\n",
       "      <td>tt0000417</td>\n",
       "      <td>{}</td>\n",
       "      <td>417</td>\n",
       "    </tr>\n",
       "    <tr>\n",
       "      <th>6355</th>\n",
       "      <td>tt0000439</td>\n",
       "      <td>{}</td>\n",
       "      <td>439</td>\n",
       "    </tr>\n",
       "    <tr>\n",
       "      <th>6863</th>\n",
       "      <td>tt0006333</td>\n",
       "      <td>{}</td>\n",
       "      <td>6333</td>\n",
       "    </tr>\n",
       "    <tr>\n",
       "      <th>7210</th>\n",
       "      <td>tt0007361</td>\n",
       "      <td>{}</td>\n",
       "      <td>7361</td>\n",
       "    </tr>\n",
       "    <tr>\n",
       "      <th>8170</th>\n",
       "      <td>tt0007264</td>\n",
       "      <td>{}</td>\n",
       "      <td>7264</td>\n",
       "    </tr>\n",
       "    <tr>\n",
       "      <th>9020</th>\n",
       "      <td>tt0000516</td>\n",
       "      <td>{}</td>\n",
       "      <td>516</td>\n",
       "    </tr>\n",
       "  </tbody>\n",
       "</table>\n",
       "</div>"
      ],
      "text/plain": [
       "         imdbId imdb_info correct_imdbid\n",
       "4743  tt0004972        {}           4972\n",
       "4846  tt0006864        {}           6864\n",
       "5217  tt0008133        {}           8133\n",
       "5868  tt0000417        {}            417\n",
       "6355  tt0000439        {}            439\n",
       "6863  tt0006333        {}           6333\n",
       "7210  tt0007361        {}           7361\n",
       "8170  tt0007264        {}           7264\n",
       "9020  tt0000516        {}            516"
      ]
     },
     "execution_count": 27,
     "metadata": {},
     "output_type": "execute_result"
    }
   ],
   "source": [
    "imdb_info.loc[imdb_info['imdb_info']=='{}','correct_imdbid']=imdb_info.loc[imdb_info['imdb_info']=='{}','imdbId'].apply(lambda x: x.split('tt00')[-1])\n",
    "imdb_info.loc[imdb_info['imdb_info']=='{}','imdbId']=imdb_info.loc[imdb_info['imdb_info']=='{}','correct_imdbid'].apply(convertstr2reqid)\n",
    "imdb_info.loc[imdb_info['imdb_info']=='{}']"
   ]
  },
  {
   "cell_type": "code",
   "execution_count": 30,
   "metadata": {},
   "outputs": [],
   "source": [
    "imdb_info.drop(columns=['correct_imdbid'],inplace=True)\n"
   ]
  },
  {
   "cell_type": "code",
   "execution_count": 32,
   "metadata": {
    "scrolled": true
   },
   "outputs": [],
   "source": [
    "imdb_info.loc[imdb_info['imdb_info']=='{}','imdb_info']=imdb_info.loc[imdb_info['imdb_info']=='{}','imdbId'].apply(lambda x:\n",
    "                                                                                                                  client.imdbid(x))"
   ]
  },
  {
   "cell_type": "code",
   "execution_count": 33,
   "metadata": {},
   "outputs": [
    {
     "data": {
      "text/plain": [
       "Series([], Name: imdb_info, dtype: object)"
      ]
     },
     "execution_count": 33,
     "metadata": {},
     "output_type": "execute_result"
    }
   ],
   "source": [
    "imdb_info.loc[imdb_info['imdb_info']=='{}','imdb_info']"
   ]
  },
  {
   "cell_type": "code",
   "execution_count": 34,
   "metadata": {},
   "outputs": [
    {
     "data": {
      "text/plain": [
       "Series([], Name: imdb_info, dtype: object)"
      ]
     },
     "execution_count": 34,
     "metadata": {},
     "output_type": "execute_result"
    }
   ],
   "source": [
    "imdb_info.loc[imdb_info['imdb_info']==-1,'imdb_info']"
   ]
  }
 ],
 "metadata": {
  "kernelspec": {
   "display_name": "Python 3",
   "language": "python",
   "name": "python3"
  },
  "language_info": {
   "codemirror_mode": {
    "name": "ipython",
    "version": 3
   },
   "file_extension": ".py",
   "mimetype": "text/x-python",
   "name": "python",
   "nbconvert_exporter": "python",
   "pygments_lexer": "ipython3",
   "version": "3.7.1"
  }
 },
 "nbformat": 4,
 "nbformat_minor": 2
}
