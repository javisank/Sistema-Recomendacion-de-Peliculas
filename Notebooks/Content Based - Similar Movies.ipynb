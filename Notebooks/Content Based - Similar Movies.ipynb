{
 "cells": [
  {
   "cell_type": "markdown",
   "metadata": {},
   "source": [
    "## 1. Importar librerías"
   ]
  },
  {
   "cell_type": "code",
   "execution_count": 2,
   "metadata": {},
   "outputs": [
    {
     "name": "stderr",
     "output_type": "stream",
     "text": [
      "C:\\Users\\JAVI\\Miniconda3\\envs\\dhds\\lib\\site-packages\\gensim\\utils.py:1197: UserWarning: detected Windows; aliasing chunkize to chunkize_serial\n",
      "  warnings.warn(\"detected Windows; aliasing chunkize to chunkize_serial\")\n"
     ]
    }
   ],
   "source": [
    "import pandas as pd\n",
    "import numpy as np\n",
    "import matplotlib.pyplot as pltd\n",
    "import seaborn as sns\n",
    "\n",
    "from gensim.models import Word2Vec"
   ]
  },
  {
   "cell_type": "markdown",
   "metadata": {},
   "source": [
    "## 2. Cargar datos"
   ]
  },
  {
   "cell_type": "code",
   "execution_count": 3,
   "metadata": {},
   "outputs": [],
   "source": [
    "movies=pd.read_csv('../Data/movies.csv')\n",
    "ratings=pd.read_csv('../Data/ratings.csv')\n",
    "links=pd.read_csv('../Data/links.csv')\n",
    "tags=pd.read_csv('../Data/tags.csv')\n",
    "imdb=pd.read_csv('../Data/tab_imdb_info.csv',index_col=0)"
   ]
  },
  {
   "cell_type": "code",
   "execution_count": 4,
   "metadata": {},
   "outputs": [
    {
     "data": {
      "text/html": [
       "<div>\n",
       "<style scoped>\n",
       "    .dataframe tbody tr th:only-of-type {\n",
       "        vertical-align: middle;\n",
       "    }\n",
       "\n",
       "    .dataframe tbody tr th {\n",
       "        vertical-align: top;\n",
       "    }\n",
       "\n",
       "    .dataframe thead th {\n",
       "        text-align: right;\n",
       "    }\n",
       "</style>\n",
       "<table border=\"1\" class=\"dataframe\">\n",
       "  <thead>\n",
       "    <tr style=\"text-align: right;\">\n",
       "      <th></th>\n",
       "      <th>movieId</th>\n",
       "      <th>title</th>\n",
       "      <th>genres</th>\n",
       "    </tr>\n",
       "  </thead>\n",
       "  <tbody>\n",
       "    <tr>\n",
       "      <th>0</th>\n",
       "      <td>1</td>\n",
       "      <td>Toy Story (1995)</td>\n",
       "      <td>Adventure|Animation|Children|Comedy|Fantasy</td>\n",
       "    </tr>\n",
       "    <tr>\n",
       "      <th>1</th>\n",
       "      <td>2</td>\n",
       "      <td>Jumanji (1995)</td>\n",
       "      <td>Adventure|Children|Fantasy</td>\n",
       "    </tr>\n",
       "    <tr>\n",
       "      <th>2</th>\n",
       "      <td>3</td>\n",
       "      <td>Grumpier Old Men (1995)</td>\n",
       "      <td>Comedy|Romance</td>\n",
       "    </tr>\n",
       "    <tr>\n",
       "      <th>3</th>\n",
       "      <td>4</td>\n",
       "      <td>Waiting to Exhale (1995)</td>\n",
       "      <td>Comedy|Drama|Romance</td>\n",
       "    </tr>\n",
       "    <tr>\n",
       "      <th>4</th>\n",
       "      <td>5</td>\n",
       "      <td>Father of the Bride Part II (1995)</td>\n",
       "      <td>Comedy</td>\n",
       "    </tr>\n",
       "  </tbody>\n",
       "</table>\n",
       "</div>"
      ],
      "text/plain": [
       "   movieId                               title  \\\n",
       "0        1                    Toy Story (1995)   \n",
       "1        2                      Jumanji (1995)   \n",
       "2        3             Grumpier Old Men (1995)   \n",
       "3        4            Waiting to Exhale (1995)   \n",
       "4        5  Father of the Bride Part II (1995)   \n",
       "\n",
       "                                        genres  \n",
       "0  Adventure|Animation|Children|Comedy|Fantasy  \n",
       "1                   Adventure|Children|Fantasy  \n",
       "2                               Comedy|Romance  \n",
       "3                         Comedy|Drama|Romance  \n",
       "4                                       Comedy  "
      ]
     },
     "execution_count": 4,
     "metadata": {},
     "output_type": "execute_result"
    }
   ],
   "source": [
    "movies.head()"
   ]
  },
  {
   "cell_type": "code",
   "execution_count": 5,
   "metadata": {},
   "outputs": [
    {
     "data": {
      "text/html": [
       "<div>\n",
       "<style scoped>\n",
       "    .dataframe tbody tr th:only-of-type {\n",
       "        vertical-align: middle;\n",
       "    }\n",
       "\n",
       "    .dataframe tbody tr th {\n",
       "        vertical-align: top;\n",
       "    }\n",
       "\n",
       "    .dataframe thead th {\n",
       "        text-align: right;\n",
       "    }\n",
       "</style>\n",
       "<table border=\"1\" class=\"dataframe\">\n",
       "  <thead>\n",
       "    <tr style=\"text-align: right;\">\n",
       "      <th></th>\n",
       "      <th>movieId</th>\n",
       "      <th>imdbId</th>\n",
       "      <th>tmdbId</th>\n",
       "    </tr>\n",
       "  </thead>\n",
       "  <tbody>\n",
       "    <tr>\n",
       "      <th>0</th>\n",
       "      <td>1</td>\n",
       "      <td>114709</td>\n",
       "      <td>862.0</td>\n",
       "    </tr>\n",
       "    <tr>\n",
       "      <th>1</th>\n",
       "      <td>2</td>\n",
       "      <td>113497</td>\n",
       "      <td>8844.0</td>\n",
       "    </tr>\n",
       "    <tr>\n",
       "      <th>2</th>\n",
       "      <td>3</td>\n",
       "      <td>113228</td>\n",
       "      <td>15602.0</td>\n",
       "    </tr>\n",
       "    <tr>\n",
       "      <th>3</th>\n",
       "      <td>4</td>\n",
       "      <td>114885</td>\n",
       "      <td>31357.0</td>\n",
       "    </tr>\n",
       "    <tr>\n",
       "      <th>4</th>\n",
       "      <td>5</td>\n",
       "      <td>113041</td>\n",
       "      <td>11862.0</td>\n",
       "    </tr>\n",
       "  </tbody>\n",
       "</table>\n",
       "</div>"
      ],
      "text/plain": [
       "   movieId  imdbId   tmdbId\n",
       "0        1  114709    862.0\n",
       "1        2  113497   8844.0\n",
       "2        3  113228  15602.0\n",
       "3        4  114885  31357.0\n",
       "4        5  113041  11862.0"
      ]
     },
     "execution_count": 5,
     "metadata": {},
     "output_type": "execute_result"
    }
   ],
   "source": [
    "links.head()"
   ]
  },
  {
   "cell_type": "code",
   "execution_count": 6,
   "metadata": {},
   "outputs": [
    {
     "data": {
      "text/plain": [
       "movieId      int64\n",
       "imdbId       int64\n",
       "tmdbId     float64\n",
       "dtype: object"
      ]
     },
     "execution_count": 6,
     "metadata": {},
     "output_type": "execute_result"
    }
   ],
   "source": [
    "links.dtypes"
   ]
  },
  {
   "cell_type": "code",
   "execution_count": 7,
   "metadata": {
    "scrolled": true
   },
   "outputs": [
    {
     "data": {
      "text/html": [
       "<div>\n",
       "<style scoped>\n",
       "    .dataframe tbody tr th:only-of-type {\n",
       "        vertical-align: middle;\n",
       "    }\n",
       "\n",
       "    .dataframe tbody tr th {\n",
       "        vertical-align: top;\n",
       "    }\n",
       "\n",
       "    .dataframe thead th {\n",
       "        text-align: right;\n",
       "    }\n",
       "</style>\n",
       "<table border=\"1\" class=\"dataframe\">\n",
       "  <thead>\n",
       "    <tr style=\"text-align: right;\">\n",
       "      <th></th>\n",
       "      <th>actors</th>\n",
       "      <th>country</th>\n",
       "      <th>director</th>\n",
       "      <th>req_imdbid</th>\n",
       "      <th>year</th>\n",
       "    </tr>\n",
       "  </thead>\n",
       "  <tbody>\n",
       "    <tr>\n",
       "      <th>0</th>\n",
       "      <td>Tom Hanks, Tim Allen, Don Rickles, Jim Varney</td>\n",
       "      <td>USA</td>\n",
       "      <td>John Lasseter</td>\n",
       "      <td>tt0114709</td>\n",
       "      <td>1995</td>\n",
       "    </tr>\n",
       "    <tr>\n",
       "      <th>1</th>\n",
       "      <td>Robin Williams, Jonathan Hyde, Kirsten Dunst, ...</td>\n",
       "      <td>USA</td>\n",
       "      <td>Joe Johnston</td>\n",
       "      <td>tt0113497</td>\n",
       "      <td>1995</td>\n",
       "    </tr>\n",
       "    <tr>\n",
       "      <th>2</th>\n",
       "      <td>Walter Matthau, Jack Lemmon, Sophia Loren, Ann...</td>\n",
       "      <td>USA</td>\n",
       "      <td>Howard Deutch</td>\n",
       "      <td>tt0113228</td>\n",
       "      <td>1995</td>\n",
       "    </tr>\n",
       "    <tr>\n",
       "      <th>3</th>\n",
       "      <td>Whitney Houston, Angela Bassett, Loretta Devin...</td>\n",
       "      <td>USA</td>\n",
       "      <td>Forest Whitaker</td>\n",
       "      <td>tt0114885</td>\n",
       "      <td>1995</td>\n",
       "    </tr>\n",
       "    <tr>\n",
       "      <th>4</th>\n",
       "      <td>Steve Martin, Diane Keaton, Martin Short, Kimb...</td>\n",
       "      <td>USA</td>\n",
       "      <td>Charles Shyer</td>\n",
       "      <td>tt0113041</td>\n",
       "      <td>1995</td>\n",
       "    </tr>\n",
       "  </tbody>\n",
       "</table>\n",
       "</div>"
      ],
      "text/plain": [
       "                                              actors country         director  \\\n",
       "0      Tom Hanks, Tim Allen, Don Rickles, Jim Varney     USA    John Lasseter   \n",
       "1  Robin Williams, Jonathan Hyde, Kirsten Dunst, ...     USA     Joe Johnston   \n",
       "2  Walter Matthau, Jack Lemmon, Sophia Loren, Ann...     USA    Howard Deutch   \n",
       "3  Whitney Houston, Angela Bassett, Loretta Devin...     USA  Forest Whitaker   \n",
       "4  Steve Martin, Diane Keaton, Martin Short, Kimb...     USA    Charles Shyer   \n",
       "\n",
       "  req_imdbid  year  \n",
       "0  tt0114709  1995  \n",
       "1  tt0113497  1995  \n",
       "2  tt0113228  1995  \n",
       "3  tt0114885  1995  \n",
       "4  tt0113041  1995  "
      ]
     },
     "execution_count": 7,
     "metadata": {},
     "output_type": "execute_result"
    }
   ],
   "source": [
    "imdb.head()"
   ]
  },
  {
   "cell_type": "code",
   "execution_count": 8,
   "metadata": {},
   "outputs": [
    {
     "data": {
      "text/html": [
       "<div>\n",
       "<style scoped>\n",
       "    .dataframe tbody tr th:only-of-type {\n",
       "        vertical-align: middle;\n",
       "    }\n",
       "\n",
       "    .dataframe tbody tr th {\n",
       "        vertical-align: top;\n",
       "    }\n",
       "\n",
       "    .dataframe thead th {\n",
       "        text-align: right;\n",
       "    }\n",
       "</style>\n",
       "<table border=\"1\" class=\"dataframe\">\n",
       "  <thead>\n",
       "    <tr style=\"text-align: right;\">\n",
       "      <th></th>\n",
       "      <th>actors</th>\n",
       "      <th>country</th>\n",
       "      <th>director</th>\n",
       "      <th>req_imdbid</th>\n",
       "      <th>year</th>\n",
       "    </tr>\n",
       "  </thead>\n",
       "  <tbody>\n",
       "    <tr>\n",
       "      <th>0</th>\n",
       "      <td>Tom Hanks, Tim Allen, Don Rickles, Jim Varney</td>\n",
       "      <td>USA</td>\n",
       "      <td>John Lasseter</td>\n",
       "      <td>tt0114709</td>\n",
       "      <td>1995</td>\n",
       "    </tr>\n",
       "    <tr>\n",
       "      <th>1</th>\n",
       "      <td>Robin Williams, Jonathan Hyde, Kirsten Dunst, ...</td>\n",
       "      <td>USA</td>\n",
       "      <td>Joe Johnston</td>\n",
       "      <td>tt0113497</td>\n",
       "      <td>1995</td>\n",
       "    </tr>\n",
       "    <tr>\n",
       "      <th>2</th>\n",
       "      <td>Walter Matthau, Jack Lemmon, Sophia Loren, Ann...</td>\n",
       "      <td>USA</td>\n",
       "      <td>Howard Deutch</td>\n",
       "      <td>tt0113228</td>\n",
       "      <td>1995</td>\n",
       "    </tr>\n",
       "    <tr>\n",
       "      <th>3</th>\n",
       "      <td>Whitney Houston, Angela Bassett, Loretta Devin...</td>\n",
       "      <td>USA</td>\n",
       "      <td>Forest Whitaker</td>\n",
       "      <td>tt0114885</td>\n",
       "      <td>1995</td>\n",
       "    </tr>\n",
       "    <tr>\n",
       "      <th>4</th>\n",
       "      <td>Steve Martin, Diane Keaton, Martin Short, Kimb...</td>\n",
       "      <td>USA</td>\n",
       "      <td>Charles Shyer</td>\n",
       "      <td>tt0113041</td>\n",
       "      <td>1995</td>\n",
       "    </tr>\n",
       "  </tbody>\n",
       "</table>\n",
       "</div>"
      ],
      "text/plain": [
       "                                              actors country         director  \\\n",
       "0      Tom Hanks, Tim Allen, Don Rickles, Jim Varney     USA    John Lasseter   \n",
       "1  Robin Williams, Jonathan Hyde, Kirsten Dunst, ...     USA     Joe Johnston   \n",
       "2  Walter Matthau, Jack Lemmon, Sophia Loren, Ann...     USA    Howard Deutch   \n",
       "3  Whitney Houston, Angela Bassett, Loretta Devin...     USA  Forest Whitaker   \n",
       "4  Steve Martin, Diane Keaton, Martin Short, Kimb...     USA    Charles Shyer   \n",
       "\n",
       "  req_imdbid  year  \n",
       "0  tt0114709  1995  \n",
       "1  tt0113497  1995  \n",
       "2  tt0113228  1995  \n",
       "3  tt0114885  1995  \n",
       "4  tt0113041  1995  "
      ]
     },
     "execution_count": 8,
     "metadata": {},
     "output_type": "execute_result"
    }
   ],
   "source": [
    "imdb.head()"
   ]
  },
  {
   "cell_type": "markdown",
   "metadata": {},
   "source": [
    "## 3. Feature Extraction"
   ]
  },
  {
   "cell_type": "markdown",
   "metadata": {},
   "source": [
    "Corregir id's de imdb:"
   ]
  },
  {
   "cell_type": "code",
   "execution_count": 9,
   "metadata": {},
   "outputs": [],
   "source": [
    "imdb['imdbId']=imdb['req_imdbid'].apply(lambda x: x[2:]).astype('int64')"
   ]
  },
  {
   "cell_type": "code",
   "execution_count": 10,
   "metadata": {
    "scrolled": true
   },
   "outputs": [
    {
     "data": {
      "text/html": [
       "<div>\n",
       "<style scoped>\n",
       "    .dataframe tbody tr th:only-of-type {\n",
       "        vertical-align: middle;\n",
       "    }\n",
       "\n",
       "    .dataframe tbody tr th {\n",
       "        vertical-align: top;\n",
       "    }\n",
       "\n",
       "    .dataframe thead th {\n",
       "        text-align: right;\n",
       "    }\n",
       "</style>\n",
       "<table border=\"1\" class=\"dataframe\">\n",
       "  <thead>\n",
       "    <tr style=\"text-align: right;\">\n",
       "      <th></th>\n",
       "      <th>movieId</th>\n",
       "      <th>imdbId</th>\n",
       "      <th>tmdbId</th>\n",
       "      <th>title</th>\n",
       "      <th>genres</th>\n",
       "    </tr>\n",
       "  </thead>\n",
       "  <tbody>\n",
       "    <tr>\n",
       "      <th>0</th>\n",
       "      <td>1</td>\n",
       "      <td>114709</td>\n",
       "      <td>862.0</td>\n",
       "      <td>Toy Story (1995)</td>\n",
       "      <td>Adventure|Animation|Children|Comedy|Fantasy</td>\n",
       "    </tr>\n",
       "    <tr>\n",
       "      <th>1</th>\n",
       "      <td>2</td>\n",
       "      <td>113497</td>\n",
       "      <td>8844.0</td>\n",
       "      <td>Jumanji (1995)</td>\n",
       "      <td>Adventure|Children|Fantasy</td>\n",
       "    </tr>\n",
       "    <tr>\n",
       "      <th>2</th>\n",
       "      <td>3</td>\n",
       "      <td>113228</td>\n",
       "      <td>15602.0</td>\n",
       "      <td>Grumpier Old Men (1995)</td>\n",
       "      <td>Comedy|Romance</td>\n",
       "    </tr>\n",
       "    <tr>\n",
       "      <th>3</th>\n",
       "      <td>4</td>\n",
       "      <td>114885</td>\n",
       "      <td>31357.0</td>\n",
       "      <td>Waiting to Exhale (1995)</td>\n",
       "      <td>Comedy|Drama|Romance</td>\n",
       "    </tr>\n",
       "    <tr>\n",
       "      <th>4</th>\n",
       "      <td>5</td>\n",
       "      <td>113041</td>\n",
       "      <td>11862.0</td>\n",
       "      <td>Father of the Bride Part II (1995)</td>\n",
       "      <td>Comedy</td>\n",
       "    </tr>\n",
       "  </tbody>\n",
       "</table>\n",
       "</div>"
      ],
      "text/plain": [
       "   movieId  imdbId   tmdbId                               title  \\\n",
       "0        1  114709    862.0                    Toy Story (1995)   \n",
       "1        2  113497   8844.0                      Jumanji (1995)   \n",
       "2        3  113228  15602.0             Grumpier Old Men (1995)   \n",
       "3        4  114885  31357.0            Waiting to Exhale (1995)   \n",
       "4        5  113041  11862.0  Father of the Bride Part II (1995)   \n",
       "\n",
       "                                        genres  \n",
       "0  Adventure|Animation|Children|Comedy|Fantasy  \n",
       "1                   Adventure|Children|Fantasy  \n",
       "2                               Comedy|Romance  \n",
       "3                         Comedy|Drama|Romance  \n",
       "4                                       Comedy  "
      ]
     },
     "execution_count": 10,
     "metadata": {},
     "output_type": "execute_result"
    }
   ],
   "source": [
    "pd.merge(links,movies,on='movieId').head()"
   ]
  },
  {
   "cell_type": "code",
   "execution_count": 11,
   "metadata": {},
   "outputs": [
    {
     "data": {
      "text/plain": [
       "actors        32\n",
       "country       12\n",
       "director      94\n",
       "req_imdbid     0\n",
       "year           0\n",
       "imdbId         0\n",
       "dtype: int64"
      ]
     },
     "execution_count": 11,
     "metadata": {},
     "output_type": "execute_result"
    }
   ],
   "source": [
    "imdb.isna().sum()"
   ]
  },
  {
   "cell_type": "code",
   "execution_count": 12,
   "metadata": {},
   "outputs": [],
   "source": [
    "imdb.fillna('-',inplace=True)"
   ]
  },
  {
   "cell_type": "code",
   "execution_count": 13,
   "metadata": {},
   "outputs": [
    {
     "data": {
      "text/plain": [
       "array([4, 2, 3, 1], dtype=int64)"
      ]
     },
     "execution_count": 13,
     "metadata": {},
     "output_type": "execute_result"
    }
   ],
   "source": [
    "imdb['actors'].apply(lambda x: len(x.split(','))).unique()"
   ]
  },
  {
   "cell_type": "code",
   "execution_count": 14,
   "metadata": {},
   "outputs": [],
   "source": [
    "# imdb['director1'] = imdb['director'].apply(lambda x: x.split(',')[0])\n",
    "# imdb['actor1'] = imdb['actors'].apply(lambda x: x.split(',')[0])\n",
    "# #imdb['actor2'] = imdb['actors'].apply(lambda x: x.split(',')[1])\n",
    "# imdb['country1'] = imdb['country'].apply(lambda x: x.split(',')[0])"
   ]
  },
  {
   "cell_type": "markdown",
   "metadata": {},
   "source": [
    "Creo un dataframe con todos los datos necesarios para crear features por películas:"
   ]
  },
  {
   "cell_type": "code",
   "execution_count": 15,
   "metadata": {},
   "outputs": [
    {
     "data": {
      "text/html": [
       "<div>\n",
       "<style scoped>\n",
       "    .dataframe tbody tr th:only-of-type {\n",
       "        vertical-align: middle;\n",
       "    }\n",
       "\n",
       "    .dataframe tbody tr th {\n",
       "        vertical-align: top;\n",
       "    }\n",
       "\n",
       "    .dataframe thead th {\n",
       "        text-align: right;\n",
       "    }\n",
       "</style>\n",
       "<table border=\"1\" class=\"dataframe\">\n",
       "  <thead>\n",
       "    <tr style=\"text-align: right;\">\n",
       "      <th></th>\n",
       "      <th>movieId</th>\n",
       "      <th>imdbId</th>\n",
       "      <th>tmdbId</th>\n",
       "      <th>actors</th>\n",
       "      <th>country</th>\n",
       "      <th>director</th>\n",
       "      <th>req_imdbid</th>\n",
       "      <th>year</th>\n",
       "      <th>title</th>\n",
       "      <th>genres</th>\n",
       "    </tr>\n",
       "  </thead>\n",
       "  <tbody>\n",
       "    <tr>\n",
       "      <th>0</th>\n",
       "      <td>1</td>\n",
       "      <td>114709</td>\n",
       "      <td>862.0</td>\n",
       "      <td>Tom Hanks, Tim Allen, Don Rickles, Jim Varney</td>\n",
       "      <td>USA</td>\n",
       "      <td>John Lasseter</td>\n",
       "      <td>tt0114709</td>\n",
       "      <td>1995</td>\n",
       "      <td>Toy Story (1995)</td>\n",
       "      <td>Adventure|Animation|Children|Comedy|Fantasy</td>\n",
       "    </tr>\n",
       "    <tr>\n",
       "      <th>1</th>\n",
       "      <td>2</td>\n",
       "      <td>113497</td>\n",
       "      <td>8844.0</td>\n",
       "      <td>Robin Williams, Jonathan Hyde, Kirsten Dunst, ...</td>\n",
       "      <td>USA</td>\n",
       "      <td>Joe Johnston</td>\n",
       "      <td>tt0113497</td>\n",
       "      <td>1995</td>\n",
       "      <td>Jumanji (1995)</td>\n",
       "      <td>Adventure|Children|Fantasy</td>\n",
       "    </tr>\n",
       "    <tr>\n",
       "      <th>2</th>\n",
       "      <td>3</td>\n",
       "      <td>113228</td>\n",
       "      <td>15602.0</td>\n",
       "      <td>Walter Matthau, Jack Lemmon, Sophia Loren, Ann...</td>\n",
       "      <td>USA</td>\n",
       "      <td>Howard Deutch</td>\n",
       "      <td>tt0113228</td>\n",
       "      <td>1995</td>\n",
       "      <td>Grumpier Old Men (1995)</td>\n",
       "      <td>Comedy|Romance</td>\n",
       "    </tr>\n",
       "    <tr>\n",
       "      <th>3</th>\n",
       "      <td>4</td>\n",
       "      <td>114885</td>\n",
       "      <td>31357.0</td>\n",
       "      <td>Whitney Houston, Angela Bassett, Loretta Devin...</td>\n",
       "      <td>USA</td>\n",
       "      <td>Forest Whitaker</td>\n",
       "      <td>tt0114885</td>\n",
       "      <td>1995</td>\n",
       "      <td>Waiting to Exhale (1995)</td>\n",
       "      <td>Comedy|Drama|Romance</td>\n",
       "    </tr>\n",
       "    <tr>\n",
       "      <th>4</th>\n",
       "      <td>5</td>\n",
       "      <td>113041</td>\n",
       "      <td>11862.0</td>\n",
       "      <td>Steve Martin, Diane Keaton, Martin Short, Kimb...</td>\n",
       "      <td>USA</td>\n",
       "      <td>Charles Shyer</td>\n",
       "      <td>tt0113041</td>\n",
       "      <td>1995</td>\n",
       "      <td>Father of the Bride Part II (1995)</td>\n",
       "      <td>Comedy</td>\n",
       "    </tr>\n",
       "  </tbody>\n",
       "</table>\n",
       "</div>"
      ],
      "text/plain": [
       "   movieId  imdbId   tmdbId  \\\n",
       "0        1  114709    862.0   \n",
       "1        2  113497   8844.0   \n",
       "2        3  113228  15602.0   \n",
       "3        4  114885  31357.0   \n",
       "4        5  113041  11862.0   \n",
       "\n",
       "                                              actors country         director  \\\n",
       "0      Tom Hanks, Tim Allen, Don Rickles, Jim Varney     USA    John Lasseter   \n",
       "1  Robin Williams, Jonathan Hyde, Kirsten Dunst, ...     USA     Joe Johnston   \n",
       "2  Walter Matthau, Jack Lemmon, Sophia Loren, Ann...     USA    Howard Deutch   \n",
       "3  Whitney Houston, Angela Bassett, Loretta Devin...     USA  Forest Whitaker   \n",
       "4  Steve Martin, Diane Keaton, Martin Short, Kimb...     USA    Charles Shyer   \n",
       "\n",
       "  req_imdbid  year                               title  \\\n",
       "0  tt0114709  1995                    Toy Story (1995)   \n",
       "1  tt0113497  1995                      Jumanji (1995)   \n",
       "2  tt0113228  1995             Grumpier Old Men (1995)   \n",
       "3  tt0114885  1995            Waiting to Exhale (1995)   \n",
       "4  tt0113041  1995  Father of the Bride Part II (1995)   \n",
       "\n",
       "                                        genres  \n",
       "0  Adventure|Animation|Children|Comedy|Fantasy  \n",
       "1                   Adventure|Children|Fantasy  \n",
       "2                               Comedy|Romance  \n",
       "3                         Comedy|Drama|Romance  \n",
       "4                                       Comedy  "
      ]
     },
     "execution_count": 15,
     "metadata": {},
     "output_type": "execute_result"
    }
   ],
   "source": [
    "mov_with_feat = pd.merge(links,imdb,on='imdbId')\n",
    "mov_with_feat = pd.merge(mov_with_feat,movies,on='movieId')\n",
    "mov_with_feat.head()"
   ]
  },
  {
   "cell_type": "code",
   "execution_count": 16,
   "metadata": {},
   "outputs": [
    {
     "data": {
      "text/plain": [
       "movieId       0\n",
       "imdbId        0\n",
       "tmdbId        8\n",
       "actors        0\n",
       "country       0\n",
       "director      0\n",
       "req_imdbid    0\n",
       "year          0\n",
       "title         0\n",
       "genres        0\n",
       "dtype: int64"
      ]
     },
     "execution_count": 16,
     "metadata": {},
     "output_type": "execute_result"
    }
   ],
   "source": [
    "mov_with_feat.isna().sum()"
   ]
  },
  {
   "cell_type": "code",
   "execution_count": 17,
   "metadata": {},
   "outputs": [],
   "source": [
    "mov_with_feat.fillna('-',inplace=True)"
   ]
  },
  {
   "cell_type": "code",
   "execution_count": 18,
   "metadata": {},
   "outputs": [
    {
     "data": {
      "text/html": [
       "<div>\n",
       "<style scoped>\n",
       "    .dataframe tbody tr th:only-of-type {\n",
       "        vertical-align: middle;\n",
       "    }\n",
       "\n",
       "    .dataframe tbody tr th {\n",
       "        vertical-align: top;\n",
       "    }\n",
       "\n",
       "    .dataframe thead th {\n",
       "        text-align: right;\n",
       "    }\n",
       "</style>\n",
       "<table border=\"1\" class=\"dataframe\">\n",
       "  <thead>\n",
       "    <tr style=\"text-align: right;\">\n",
       "      <th></th>\n",
       "      <th>movieId</th>\n",
       "      <th>imdbId</th>\n",
       "      <th>tmdbId</th>\n",
       "      <th>actors</th>\n",
       "      <th>country</th>\n",
       "      <th>director</th>\n",
       "      <th>req_imdbid</th>\n",
       "      <th>year</th>\n",
       "      <th>title</th>\n",
       "      <th>genres</th>\n",
       "    </tr>\n",
       "  </thead>\n",
       "  <tbody>\n",
       "    <tr>\n",
       "      <th>0</th>\n",
       "      <td>1</td>\n",
       "      <td>114709</td>\n",
       "      <td>862</td>\n",
       "      <td>TomHanks,TimAllen,DonRickles,JimVarney</td>\n",
       "      <td>USA</td>\n",
       "      <td>JohnLasseter</td>\n",
       "      <td>tt0114709</td>\n",
       "      <td>1995</td>\n",
       "      <td>Toy Story (1995)</td>\n",
       "      <td>Adventure,Animation,Children,Comedy,Fantasy</td>\n",
       "    </tr>\n",
       "    <tr>\n",
       "      <th>1</th>\n",
       "      <td>2</td>\n",
       "      <td>113497</td>\n",
       "      <td>8844</td>\n",
       "      <td>RobinWilliams,JonathanHyde,KirstenDunst,Bradle...</td>\n",
       "      <td>USA</td>\n",
       "      <td>JoeJohnston</td>\n",
       "      <td>tt0113497</td>\n",
       "      <td>1995</td>\n",
       "      <td>Jumanji (1995)</td>\n",
       "      <td>Adventure,Children,Fantasy</td>\n",
       "    </tr>\n",
       "    <tr>\n",
       "      <th>2</th>\n",
       "      <td>3</td>\n",
       "      <td>113228</td>\n",
       "      <td>15602</td>\n",
       "      <td>WalterMatthau,JackLemmon,SophiaLoren,Ann-Margret</td>\n",
       "      <td>USA</td>\n",
       "      <td>HowardDeutch</td>\n",
       "      <td>tt0113228</td>\n",
       "      <td>1995</td>\n",
       "      <td>Grumpier Old Men (1995)</td>\n",
       "      <td>Comedy,Romance</td>\n",
       "    </tr>\n",
       "    <tr>\n",
       "      <th>3</th>\n",
       "      <td>4</td>\n",
       "      <td>114885</td>\n",
       "      <td>31357</td>\n",
       "      <td>WhitneyHouston,AngelaBassett,LorettaDevine,Lel...</td>\n",
       "      <td>USA</td>\n",
       "      <td>ForestWhitaker</td>\n",
       "      <td>tt0114885</td>\n",
       "      <td>1995</td>\n",
       "      <td>Waiting to Exhale (1995)</td>\n",
       "      <td>Comedy,Drama,Romance</td>\n",
       "    </tr>\n",
       "    <tr>\n",
       "      <th>4</th>\n",
       "      <td>5</td>\n",
       "      <td>113041</td>\n",
       "      <td>11862</td>\n",
       "      <td>SteveMartin,DianeKeaton,MartinShort,KimberlyWi...</td>\n",
       "      <td>USA</td>\n",
       "      <td>CharlesShyer</td>\n",
       "      <td>tt0113041</td>\n",
       "      <td>1995</td>\n",
       "      <td>Father of the Bride Part II (1995)</td>\n",
       "      <td>Comedy</td>\n",
       "    </tr>\n",
       "  </tbody>\n",
       "</table>\n",
       "</div>"
      ],
      "text/plain": [
       "   movieId  imdbId tmdbId                                             actors  \\\n",
       "0        1  114709    862             TomHanks,TimAllen,DonRickles,JimVarney   \n",
       "1        2  113497   8844  RobinWilliams,JonathanHyde,KirstenDunst,Bradle...   \n",
       "2        3  113228  15602   WalterMatthau,JackLemmon,SophiaLoren,Ann-Margret   \n",
       "3        4  114885  31357  WhitneyHouston,AngelaBassett,LorettaDevine,Lel...   \n",
       "4        5  113041  11862  SteveMartin,DianeKeaton,MartinShort,KimberlyWi...   \n",
       "\n",
       "  country        director req_imdbid  year  \\\n",
       "0     USA    JohnLasseter  tt0114709  1995   \n",
       "1     USA     JoeJohnston  tt0113497  1995   \n",
       "2     USA    HowardDeutch  tt0113228  1995   \n",
       "3     USA  ForestWhitaker  tt0114885  1995   \n",
       "4     USA    CharlesShyer  tt0113041  1995   \n",
       "\n",
       "                                title  \\\n",
       "0                    Toy Story (1995)   \n",
       "1                      Jumanji (1995)   \n",
       "2             Grumpier Old Men (1995)   \n",
       "3            Waiting to Exhale (1995)   \n",
       "4  Father of the Bride Part II (1995)   \n",
       "\n",
       "                                        genres  \n",
       "0  Adventure,Animation,Children,Comedy,Fantasy  \n",
       "1                   Adventure,Children,Fantasy  \n",
       "2                               Comedy,Romance  \n",
       "3                         Comedy,Drama,Romance  \n",
       "4                                       Comedy  "
      ]
     },
     "execution_count": 18,
     "metadata": {},
     "output_type": "execute_result"
    }
   ],
   "source": [
    "mov_with_feat['actors'] = mov_with_feat['actors'].str.replace(' ','')\n",
    "mov_with_feat['genres'] = mov_with_feat['genres'].str.replace('|',',')\n",
    "mov_with_feat['genres'] = mov_with_feat['genres'].str.replace(' ','')\n",
    "mov_with_feat['director'] = mov_with_feat['director'].str.replace(' ','')\n",
    "mov_with_feat['country'] = mov_with_feat['country'].str.replace(' ','')\n",
    "mov_with_feat.head()"
   ]
  },
  {
   "cell_type": "markdown",
   "metadata": {},
   "source": [
    "Armado de tokens:"
   ]
  },
  {
   "cell_type": "code",
   "execution_count": 19,
   "metadata": {},
   "outputs": [
    {
     "name": "stdout",
     "output_type": "stream",
     "text": [
      "['TomHanks,TimAllen,DonRickles,JimVarney,JohnLasseter,USA,Adventure,Animation,Children,Comedy,Fantasy']\n"
     ]
    },
    {
     "data": {
      "text/plain": [
       "[('tt0114709',\n",
       "  ['TomHanks',\n",
       "   'TimAllen',\n",
       "   'DonRickles',\n",
       "   'JimVarney',\n",
       "   'JohnLasseter',\n",
       "   'USA',\n",
       "   'Adventure',\n",
       "   'Animation',\n",
       "   'Children',\n",
       "   'Comedy',\n",
       "   'Fantasy']),\n",
       " ('tt0113497',\n",
       "  ['RobinWilliams',\n",
       "   'JonathanHyde',\n",
       "   'KirstenDunst',\n",
       "   'BradleyPierce',\n",
       "   'JoeJohnston',\n",
       "   'USA',\n",
       "   'Adventure',\n",
       "   'Children',\n",
       "   'Fantasy'])]"
      ]
     },
     "execution_count": 19,
     "metadata": {},
     "output_type": "execute_result"
    }
   ],
   "source": [
    "#df1 = mov_with_feat[['actor1','director1','country1']]\n",
    "df1 = mov_with_feat[['actors','director','country','genres']]\n",
    "df1 = df1.apply(lambda x: ','.join(x.astype(str)), axis=1)\n",
    "df1 = df1.str.replace(' ','')\n",
    "df1 = pd.DataFrame({'clean': df1}) \n",
    "print(df1.iloc[0].values)\n",
    "sent = [row.split(',') for row in df1['clean']]\n",
    "mov_sent = [a for a in zip(imdb['req_imdbid'],sent)]\n",
    "mov_sent[0:2]"
   ]
  },
  {
   "cell_type": "markdown",
   "metadata": {},
   "source": [
    "Entrenar modelo de word2vec de gensim:"
   ]
  },
  {
   "cell_type": "code",
   "execution_count": 20,
   "metadata": {},
   "outputs": [],
   "source": [
    "model = Word2Vec(sent, min_count=1,size= 50,workers=3, window =3, sg = 1)"
   ]
  },
  {
   "cell_type": "code",
   "execution_count": 21,
   "metadata": {},
   "outputs": [
    {
     "data": {
      "text/plain": [
       "array([-0.06513455, -0.05357993, -0.00784492,  0.04903268, -0.06228677,\n",
       "        0.01729047,  0.0332482 ,  0.09084351,  0.01733334, -0.00576951,\n",
       "       -0.03562678,  0.04957668, -0.04490826,  0.00513787,  0.05696142,\n",
       "       -0.05547569,  0.04508258,  0.03508759,  0.00611551,  0.02993434,\n",
       "       -0.00450447,  0.02810488,  0.03586949,  0.15793872,  0.05700679,\n",
       "       -0.0807839 ,  0.02346669, -0.00485344,  0.03263455,  0.00918836,\n",
       "       -0.00370202, -0.11537883,  0.079957  , -0.08854255,  0.0391321 ,\n",
       "       -0.10401874, -0.00099702, -0.03302311, -0.01729025,  0.00545133,\n",
       "        0.01726113, -0.06727697, -0.09599549, -0.00858708, -0.04017727,\n",
       "        0.09036271,  0.0054476 , -0.03321884,  0.04880426,  0.01844932],\n",
       "      dtype=float32)"
      ]
     },
     "execution_count": 21,
     "metadata": {},
     "output_type": "execute_result"
    }
   ],
   "source": [
    "#Representation for director John Lasseter\n",
    "model.wv['JohnLasseter']"
   ]
  },
  {
   "cell_type": "code",
   "execution_count": 22,
   "metadata": {},
   "outputs": [
    {
     "data": {
      "text/plain": [
       "0.5269329130397457"
      ]
     },
     "execution_count": 22,
     "metadata": {},
     "output_type": "execute_result"
    }
   ],
   "source": [
    "#Get similarity\n",
    "model.wv.similarity('TomHanks', 'USA')"
   ]
  },
  {
   "cell_type": "code",
   "execution_count": 23,
   "metadata": {},
   "outputs": [
    {
     "data": {
      "text/plain": [
       "array([-0.15005015, -0.6116287 ,  0.27079964,  0.17159277,  0.08979527,\n",
       "        0.13976486,  0.4936723 ,  0.5582854 , -0.5274856 , -0.2662793 ,\n",
       "        0.28853273, -0.03253898, -0.63796437, -0.30863243,  0.8837206 ,\n",
       "       -0.9834892 ,  0.10290851,  0.6208423 ,  0.5248298 , -0.09030478,\n",
       "        0.01872242, -0.06732021, -0.20051268,  0.35983455,  0.34918037,\n",
       "       -0.94554234,  0.04577538,  0.04378659,  0.14848171,  0.49827707,\n",
       "        0.17155252, -0.26868334,  0.17600599, -0.49367732,  0.4610561 ,\n",
       "       -1.1534053 ,  0.68705136, -0.41333264,  0.36980993,  1.2927449 ,\n",
       "        0.1987763 , -0.2891264 , -0.62387824, -0.11485973,  0.20993064,\n",
       "        0.4365118 ,  0.25655055,  0.12777013,  0.80288285,  0.34236103],\n",
       "      dtype=float32)"
      ]
     },
     "execution_count": 23,
     "metadata": {},
     "output_type": "execute_result"
    }
   ],
   "source": [
    "model.wv['Adventure']"
   ]
  },
  {
   "cell_type": "code",
   "execution_count": 24,
   "metadata": {},
   "outputs": [
    {
     "data": {
      "text/plain": [
       "array([-0.09162746, -0.07461325, -0.00069353,  0.06562842, -0.08128706,\n",
       "        0.00244307,  0.06321871,  0.14696223,  0.003079  ,  0.00334302,\n",
       "       -0.04582416,  0.09201556, -0.13142928,  0.04177121,  0.09909967,\n",
       "       -0.07026197,  0.06139214,  0.04451076,  0.01334166,  0.04127597,\n",
       "       -0.01395735,  0.04129964,  0.07111347,  0.2907442 ,  0.0991927 ,\n",
       "       -0.14109369,  0.0363652 ,  0.01529003,  0.05573293,  0.01140377,\n",
       "        0.01243316, -0.20780341,  0.12498571, -0.1447764 ,  0.08556683,\n",
       "       -0.17399745,  0.01649323, -0.06696954, -0.01969743,  0.02157802,\n",
       "        0.0521393 , -0.12681334, -0.18081841, -0.03112936, -0.05201434,\n",
       "        0.17350696,  0.00518498, -0.06709794,  0.12190174,  0.05328292],\n",
       "      dtype=float32)"
      ]
     },
     "execution_count": 24,
     "metadata": {},
     "output_type": "execute_result"
    }
   ],
   "source": [
    "model.wv['(nogenreslisted)']"
   ]
  },
  {
   "cell_type": "code",
   "execution_count": 25,
   "metadata": {},
   "outputs": [
    {
     "data": {
      "text/html": [
       "<div>\n",
       "<style scoped>\n",
       "    .dataframe tbody tr th:only-of-type {\n",
       "        vertical-align: middle;\n",
       "    }\n",
       "\n",
       "    .dataframe tbody tr th {\n",
       "        vertical-align: top;\n",
       "    }\n",
       "\n",
       "    .dataframe thead th {\n",
       "        text-align: right;\n",
       "    }\n",
       "</style>\n",
       "<table border=\"1\" class=\"dataframe\">\n",
       "  <thead>\n",
       "    <tr style=\"text-align: right;\">\n",
       "      <th></th>\n",
       "      <th>actors</th>\n",
       "      <th>country</th>\n",
       "      <th>director</th>\n",
       "      <th>req_imdbid</th>\n",
       "      <th>year</th>\n",
       "      <th>imdbId</th>\n",
       "    </tr>\n",
       "  </thead>\n",
       "  <tbody>\n",
       "    <tr>\n",
       "      <th>0</th>\n",
       "      <td>Tom Hanks, Tim Allen, Don Rickles, Jim Varney</td>\n",
       "      <td>USA</td>\n",
       "      <td>John Lasseter</td>\n",
       "      <td>tt0114709</td>\n",
       "      <td>1995</td>\n",
       "      <td>114709</td>\n",
       "    </tr>\n",
       "    <tr>\n",
       "      <th>1</th>\n",
       "      <td>Robin Williams, Jonathan Hyde, Kirsten Dunst, ...</td>\n",
       "      <td>USA</td>\n",
       "      <td>Joe Johnston</td>\n",
       "      <td>tt0113497</td>\n",
       "      <td>1995</td>\n",
       "      <td>113497</td>\n",
       "    </tr>\n",
       "    <tr>\n",
       "      <th>2</th>\n",
       "      <td>Walter Matthau, Jack Lemmon, Sophia Loren, Ann...</td>\n",
       "      <td>USA</td>\n",
       "      <td>Howard Deutch</td>\n",
       "      <td>tt0113228</td>\n",
       "      <td>1995</td>\n",
       "      <td>113228</td>\n",
       "    </tr>\n",
       "    <tr>\n",
       "      <th>3</th>\n",
       "      <td>Whitney Houston, Angela Bassett, Loretta Devin...</td>\n",
       "      <td>USA</td>\n",
       "      <td>Forest Whitaker</td>\n",
       "      <td>tt0114885</td>\n",
       "      <td>1995</td>\n",
       "      <td>114885</td>\n",
       "    </tr>\n",
       "    <tr>\n",
       "      <th>4</th>\n",
       "      <td>Steve Martin, Diane Keaton, Martin Short, Kimb...</td>\n",
       "      <td>USA</td>\n",
       "      <td>Charles Shyer</td>\n",
       "      <td>tt0113041</td>\n",
       "      <td>1995</td>\n",
       "      <td>113041</td>\n",
       "    </tr>\n",
       "  </tbody>\n",
       "</table>\n",
       "</div>"
      ],
      "text/plain": [
       "                                              actors country         director  \\\n",
       "0      Tom Hanks, Tim Allen, Don Rickles, Jim Varney     USA    John Lasseter   \n",
       "1  Robin Williams, Jonathan Hyde, Kirsten Dunst, ...     USA     Joe Johnston   \n",
       "2  Walter Matthau, Jack Lemmon, Sophia Loren, Ann...     USA    Howard Deutch   \n",
       "3  Whitney Houston, Angela Bassett, Loretta Devin...     USA  Forest Whitaker   \n",
       "4  Steve Martin, Diane Keaton, Martin Short, Kimb...     USA    Charles Shyer   \n",
       "\n",
       "  req_imdbid  year  imdbId  \n",
       "0  tt0114709  1995  114709  \n",
       "1  tt0113497  1995  113497  \n",
       "2  tt0113228  1995  113228  \n",
       "3  tt0114885  1995  114885  \n",
       "4  tt0113041  1995  113041  "
      ]
     },
     "execution_count": 25,
     "metadata": {},
     "output_type": "execute_result"
    }
   ],
   "source": [
    "imdb.head()"
   ]
  },
  {
   "cell_type": "code",
   "execution_count": 26,
   "metadata": {},
   "outputs": [
    {
     "data": {
      "text/plain": [
       "actors        object\n",
       "country       object\n",
       "director      object\n",
       "req_imdbid    object\n",
       "year          object\n",
       "imdbId         int64\n",
       "dtype: object"
      ]
     },
     "execution_count": 26,
     "metadata": {},
     "output_type": "execute_result"
    }
   ],
   "source": [
    "imdb.dtypes"
   ]
  },
  {
   "cell_type": "code",
   "execution_count": 27,
   "metadata": {},
   "outputs": [],
   "source": [
    "def rep_col(text):\n",
    "    #print(text)\n",
    "    rep = []\n",
    "    for item in text.split(','):\n",
    "        rep.append(model.wv[item])\n",
    "    return np.concatenate(rep,axis=0)"
   ]
  },
  {
   "cell_type": "code",
   "execution_count": 28,
   "metadata": {},
   "outputs": [],
   "source": [
    "def items_rep(item_lst):\n",
    "    a=0\n",
    "    for item in item_lst:\n",
    "        a+=model.wv[item]\n",
    "    a/=len(item_lst)\n",
    "    return a\n",
    "\n"
   ]
  },
  {
   "cell_type": "code",
   "execution_count": 29,
   "metadata": {},
   "outputs": [
    {
     "data": {
      "text/html": [
       "<div>\n",
       "<style scoped>\n",
       "    .dataframe tbody tr th:only-of-type {\n",
       "        vertical-align: middle;\n",
       "    }\n",
       "\n",
       "    .dataframe tbody tr th {\n",
       "        vertical-align: top;\n",
       "    }\n",
       "\n",
       "    .dataframe thead th {\n",
       "        text-align: right;\n",
       "    }\n",
       "</style>\n",
       "<table border=\"1\" class=\"dataframe\">\n",
       "  <thead>\n",
       "    <tr style=\"text-align: right;\">\n",
       "      <th></th>\n",
       "      <th>movieId</th>\n",
       "      <th>imdbId</th>\n",
       "      <th>tmdbId</th>\n",
       "      <th>actors</th>\n",
       "      <th>country</th>\n",
       "      <th>director</th>\n",
       "      <th>req_imdbid</th>\n",
       "      <th>year</th>\n",
       "      <th>title</th>\n",
       "      <th>genres</th>\n",
       "      <th>actors_rep</th>\n",
       "      <th>director_rep</th>\n",
       "      <th>country_rep</th>\n",
       "      <th>genres_rep</th>\n",
       "    </tr>\n",
       "  </thead>\n",
       "  <tbody>\n",
       "    <tr>\n",
       "      <th>0</th>\n",
       "      <td>1</td>\n",
       "      <td>114709</td>\n",
       "      <td>862</td>\n",
       "      <td>TomHanks,TimAllen,DonRickles,JimVarney</td>\n",
       "      <td>USA</td>\n",
       "      <td>JohnLasseter</td>\n",
       "      <td>tt0114709</td>\n",
       "      <td>1995</td>\n",
       "      <td>Toy Story (1995)</td>\n",
       "      <td>Adventure,Animation,Children,Comedy,Fantasy</td>\n",
       "      <td>[-0.098627284, -0.06452264, -0.014179099, 0.07...</td>\n",
       "      <td>[-0.06513455, -0.053579926, -0.00784492, 0.049...</td>\n",
       "      <td>[0.1606117, -0.7556332, 0.5231987, 0.18509997,...</td>\n",
       "      <td>[-0.1554276, -0.55280864, 0.2540639, 0.1599902...</td>\n",
       "    </tr>\n",
       "    <tr>\n",
       "      <th>1</th>\n",
       "      <td>2</td>\n",
       "      <td>113497</td>\n",
       "      <td>8844</td>\n",
       "      <td>RobinWilliams,JonathanHyde,KirstenDunst,Bradle...</td>\n",
       "      <td>USA</td>\n",
       "      <td>JoeJohnston</td>\n",
       "      <td>tt0113497</td>\n",
       "      <td>1995</td>\n",
       "      <td>Jumanji (1995)</td>\n",
       "      <td>Adventure,Children,Fantasy</td>\n",
       "      <td>[-0.08367961, -0.060699154, -0.009460866, 0.05...</td>\n",
       "      <td>[-0.04231859, -0.049106013, 0.0006052975, 0.04...</td>\n",
       "      <td>[0.1606117, -0.7556332, 0.5231987, 0.18509997,...</td>\n",
       "      <td>[-0.13878484, -0.590914, 0.2287424, 0.17225717...</td>\n",
       "    </tr>\n",
       "    <tr>\n",
       "      <th>2</th>\n",
       "      <td>3</td>\n",
       "      <td>113228</td>\n",
       "      <td>15602</td>\n",
       "      <td>WalterMatthau,JackLemmon,SophiaLoren,Ann-Margret</td>\n",
       "      <td>USA</td>\n",
       "      <td>HowardDeutch</td>\n",
       "      <td>tt0113228</td>\n",
       "      <td>1995</td>\n",
       "      <td>Grumpier Old Men (1995)</td>\n",
       "      <td>Comedy,Romance</td>\n",
       "      <td>[-0.10054105, -0.061897784, -0.01615449, 0.073...</td>\n",
       "      <td>[-0.03906891, -0.025711477, 0.00096076186, 0.0...</td>\n",
       "      <td>[0.1606117, -0.7556332, 0.5231987, 0.18509997,...</td>\n",
       "      <td>[-0.073302165, -0.40967262, 0.42492777, 0.1652...</td>\n",
       "    </tr>\n",
       "    <tr>\n",
       "      <th>3</th>\n",
       "      <td>4</td>\n",
       "      <td>114885</td>\n",
       "      <td>31357</td>\n",
       "      <td>WhitneyHouston,AngelaBassett,LorettaDevine,Lel...</td>\n",
       "      <td>USA</td>\n",
       "      <td>ForestWhitaker</td>\n",
       "      <td>tt0114885</td>\n",
       "      <td>1995</td>\n",
       "      <td>Waiting to Exhale (1995)</td>\n",
       "      <td>Comedy,Drama,Romance</td>\n",
       "      <td>[-0.070090026, -0.043671522, -0.008246271, 0.0...</td>\n",
       "      <td>[-0.09651796, -0.078760765, 0.013412462, 0.073...</td>\n",
       "      <td>[0.1606117, -0.7556332, 0.5231987, 0.18509997,...</td>\n",
       "      <td>[-0.032006145, -0.4394165, 0.48523116, 0.18079...</td>\n",
       "    </tr>\n",
       "    <tr>\n",
       "      <th>4</th>\n",
       "      <td>5</td>\n",
       "      <td>113041</td>\n",
       "      <td>11862</td>\n",
       "      <td>SteveMartin,DianeKeaton,MartinShort,KimberlyWi...</td>\n",
       "      <td>USA</td>\n",
       "      <td>CharlesShyer</td>\n",
       "      <td>tt0113041</td>\n",
       "      <td>1995</td>\n",
       "      <td>Father of the Bride Part II (1995)</td>\n",
       "      <td>Comedy</td>\n",
       "      <td>[-0.119018815, -0.08060948, -0.0168114, 0.0861...</td>\n",
       "      <td>[-0.030895295, -0.025455315, 0.0036606686, 0.0...</td>\n",
       "      <td>[0.1606117, -0.7556332, 0.5231987, 0.18509997,...</td>\n",
       "      <td>[-0.1523373, -0.4479573, 0.4607106, 0.16200452...</td>\n",
       "    </tr>\n",
       "  </tbody>\n",
       "</table>\n",
       "</div>"
      ],
      "text/plain": [
       "   movieId  imdbId tmdbId                                             actors  \\\n",
       "0        1  114709    862             TomHanks,TimAllen,DonRickles,JimVarney   \n",
       "1        2  113497   8844  RobinWilliams,JonathanHyde,KirstenDunst,Bradle...   \n",
       "2        3  113228  15602   WalterMatthau,JackLemmon,SophiaLoren,Ann-Margret   \n",
       "3        4  114885  31357  WhitneyHouston,AngelaBassett,LorettaDevine,Lel...   \n",
       "4        5  113041  11862  SteveMartin,DianeKeaton,MartinShort,KimberlyWi...   \n",
       "\n",
       "  country        director req_imdbid  year  \\\n",
       "0     USA    JohnLasseter  tt0114709  1995   \n",
       "1     USA     JoeJohnston  tt0113497  1995   \n",
       "2     USA    HowardDeutch  tt0113228  1995   \n",
       "3     USA  ForestWhitaker  tt0114885  1995   \n",
       "4     USA    CharlesShyer  tt0113041  1995   \n",
       "\n",
       "                                title  \\\n",
       "0                    Toy Story (1995)   \n",
       "1                      Jumanji (1995)   \n",
       "2             Grumpier Old Men (1995)   \n",
       "3            Waiting to Exhale (1995)   \n",
       "4  Father of the Bride Part II (1995)   \n",
       "\n",
       "                                        genres  \\\n",
       "0  Adventure,Animation,Children,Comedy,Fantasy   \n",
       "1                   Adventure,Children,Fantasy   \n",
       "2                               Comedy,Romance   \n",
       "3                         Comedy,Drama,Romance   \n",
       "4                                       Comedy   \n",
       "\n",
       "                                          actors_rep  \\\n",
       "0  [-0.098627284, -0.06452264, -0.014179099, 0.07...   \n",
       "1  [-0.08367961, -0.060699154, -0.009460866, 0.05...   \n",
       "2  [-0.10054105, -0.061897784, -0.01615449, 0.073...   \n",
       "3  [-0.070090026, -0.043671522, -0.008246271, 0.0...   \n",
       "4  [-0.119018815, -0.08060948, -0.0168114, 0.0861...   \n",
       "\n",
       "                                        director_rep  \\\n",
       "0  [-0.06513455, -0.053579926, -0.00784492, 0.049...   \n",
       "1  [-0.04231859, -0.049106013, 0.0006052975, 0.04...   \n",
       "2  [-0.03906891, -0.025711477, 0.00096076186, 0.0...   \n",
       "3  [-0.09651796, -0.078760765, 0.013412462, 0.073...   \n",
       "4  [-0.030895295, -0.025455315, 0.0036606686, 0.0...   \n",
       "\n",
       "                                         country_rep  \\\n",
       "0  [0.1606117, -0.7556332, 0.5231987, 0.18509997,...   \n",
       "1  [0.1606117, -0.7556332, 0.5231987, 0.18509997,...   \n",
       "2  [0.1606117, -0.7556332, 0.5231987, 0.18509997,...   \n",
       "3  [0.1606117, -0.7556332, 0.5231987, 0.18509997,...   \n",
       "4  [0.1606117, -0.7556332, 0.5231987, 0.18509997,...   \n",
       "\n",
       "                                          genres_rep  \n",
       "0  [-0.1554276, -0.55280864, 0.2540639, 0.1599902...  \n",
       "1  [-0.13878484, -0.590914, 0.2287424, 0.17225717...  \n",
       "2  [-0.073302165, -0.40967262, 0.42492777, 0.1652...  \n",
       "3  [-0.032006145, -0.4394165, 0.48523116, 0.18079...  \n",
       "4  [-0.1523373, -0.4479573, 0.4607106, 0.16200452...  "
      ]
     },
     "execution_count": 29,
     "metadata": {},
     "output_type": "execute_result"
    }
   ],
   "source": [
    "mov_with_feat['actors_rep'] = mov_with_feat['actors'].apply(lambda x:x.split(',')).apply(items_rep)\n",
    "mov_with_feat['director_rep'] = mov_with_feat['director'].apply(lambda x:x.split(',')).apply(items_rep)\n",
    "mov_with_feat['country_rep'] = mov_with_feat['country'].apply(lambda x:x.split(',')).apply(items_rep)\n",
    "mov_with_feat['genres_rep'] = mov_with_feat['genres'].apply(lambda x:x.split(',')).apply(items_rep)\n",
    "mov_with_feat.head()"
   ]
  },
  {
   "cell_type": "code",
   "execution_count": 30,
   "metadata": {},
   "outputs": [],
   "source": [
    "# mov_with_feat['actors_rep'][0]"
   ]
  },
  {
   "cell_type": "code",
   "execution_count": 31,
   "metadata": {},
   "outputs": [],
   "source": [
    "# mov_with_feat['director_rep'][0]"
   ]
  },
  {
   "cell_type": "code",
   "execution_count": 32,
   "metadata": {},
   "outputs": [],
   "source": [
    "# mov_with_feat['country_rep'][0]"
   ]
  },
  {
   "cell_type": "code",
   "execution_count": 33,
   "metadata": {},
   "outputs": [],
   "source": [
    "# np.concatenate([mov_with_feat['actors_rep'][0],mov_with_feat['director_rep'][0],mov_with_feat['country_rep'][0]],axis=0)"
   ]
  },
  {
   "cell_type": "code",
   "execution_count": 34,
   "metadata": {},
   "outputs": [],
   "source": [
    "mov_with_feat['all_feat']=mov_with_feat.apply(lambda x: np.concatenate([x['actors_rep'],x['director_rep'],x['country_rep'],x['genres_rep']],axis=0),axis=1)"
   ]
  },
  {
   "cell_type": "code",
   "execution_count": 35,
   "metadata": {},
   "outputs": [
    {
     "data": {
      "text/html": [
       "<div>\n",
       "<style scoped>\n",
       "    .dataframe tbody tr th:only-of-type {\n",
       "        vertical-align: middle;\n",
       "    }\n",
       "\n",
       "    .dataframe tbody tr th {\n",
       "        vertical-align: top;\n",
       "    }\n",
       "\n",
       "    .dataframe thead th {\n",
       "        text-align: right;\n",
       "    }\n",
       "</style>\n",
       "<table border=\"1\" class=\"dataframe\">\n",
       "  <thead>\n",
       "    <tr style=\"text-align: right;\">\n",
       "      <th></th>\n",
       "      <th>movieId</th>\n",
       "      <th>all_feat</th>\n",
       "    </tr>\n",
       "  </thead>\n",
       "  <tbody>\n",
       "    <tr>\n",
       "      <th>0</th>\n",
       "      <td>1</td>\n",
       "      <td>[-0.098627284, -0.06452264, -0.014179099, 0.07...</td>\n",
       "    </tr>\n",
       "    <tr>\n",
       "      <th>1</th>\n",
       "      <td>2</td>\n",
       "      <td>[-0.08367961, -0.060699154, -0.009460866, 0.05...</td>\n",
       "    </tr>\n",
       "    <tr>\n",
       "      <th>2</th>\n",
       "      <td>3</td>\n",
       "      <td>[-0.10054105, -0.061897784, -0.01615449, 0.073...</td>\n",
       "    </tr>\n",
       "    <tr>\n",
       "      <th>3</th>\n",
       "      <td>4</td>\n",
       "      <td>[-0.070090026, -0.043671522, -0.008246271, 0.0...</td>\n",
       "    </tr>\n",
       "    <tr>\n",
       "      <th>4</th>\n",
       "      <td>5</td>\n",
       "      <td>[-0.119018815, -0.08060948, -0.0168114, 0.0861...</td>\n",
       "    </tr>\n",
       "  </tbody>\n",
       "</table>\n",
       "</div>"
      ],
      "text/plain": [
       "   movieId                                           all_feat\n",
       "0        1  [-0.098627284, -0.06452264, -0.014179099, 0.07...\n",
       "1        2  [-0.08367961, -0.060699154, -0.009460866, 0.05...\n",
       "2        3  [-0.10054105, -0.061897784, -0.01615449, 0.073...\n",
       "3        4  [-0.070090026, -0.043671522, -0.008246271, 0.0...\n",
       "4        5  [-0.119018815, -0.08060948, -0.0168114, 0.0861..."
      ]
     },
     "execution_count": 35,
     "metadata": {},
     "output_type": "execute_result"
    }
   ],
   "source": [
    "mov_with_feat[['movieId','all_feat']].head()"
   ]
  },
  {
   "cell_type": "code",
   "execution_count": 36,
   "metadata": {},
   "outputs": [
    {
     "data": {
      "text/plain": [
       "(9742, 200)"
      ]
     },
     "execution_count": 36,
     "metadata": {},
     "output_type": "execute_result"
    }
   ],
   "source": [
    "a = mov_with_feat['all_feat'][0].reshape(1,-1)\n",
    "for mov_feat in mov_with_feat['all_feat'][1:]:\n",
    "    b = mov_feat.reshape(1,-1)\n",
    "    a = np.concatenate([a,b])\n",
    "\n",
    "a.shape"
   ]
  },
  {
   "cell_type": "code",
   "execution_count": 37,
   "metadata": {},
   "outputs": [],
   "source": [
    "#temp_actor = rep_col(imdb['actors'][0])\n",
    "#print(np.concatenate(temp_actor,axis=0))\n",
    "#temp_director = rep_col(imdb['director'][0])\n",
    "#temp_country = rep_col(imdb['country'][0])\n",
    "#a = np.concatenate(temp_actor,axis=0)\n",
    "##np.concatenate([temp_actor,temp_director,temp_country],axis=1)\n",
    "#np.concatenate(temp_director,axis=0)"
   ]
  },
  {
   "cell_type": "code",
   "execution_count": 38,
   "metadata": {},
   "outputs": [],
   "source": [
    "#def get_movie_features(fila):\n",
    "#    temp_actor = rep_col(fila['actors'])\n",
    "#    a = np.concatenate(temp_actor,axis=0)\n",
    "#    temp_director = rep_col(fila['director'])\n",
    "#    b = np.concatenate(temp_director,axis=0)\n",
    "#    temp_country = rep_col(fila['country'])\n",
    "#    c = np.concatenate(temp_country,axis=0)\n",
    "#    feat_lst = [a,b,c]\n",
    "#    return np.concatenate(feat_lst)\n",
    "#get_movie_features(imdb.iloc[0])\n",
    "\n",
    "#imdb['actors'].apply(rep_col)"
   ]
  },
  {
   "cell_type": "code",
   "execution_count": 39,
   "metadata": {
    "scrolled": true
   },
   "outputs": [],
   "source": [
    "# imdb['feat_str'] = imdb['actor1'] + ', ' + imdb['director1'] + ', ' + imdb['country1']\n",
    "# imdb['feat_str'] = imdb['feat_str'].str.replace(' ','')\n",
    "# imdb.head()"
   ]
  },
  {
   "cell_type": "code",
   "execution_count": 40,
   "metadata": {
    "scrolled": true
   },
   "outputs": [],
   "source": [
    "# imdb['feat_str'][0]"
   ]
  },
  {
   "cell_type": "code",
   "execution_count": 41,
   "metadata": {},
   "outputs": [],
   "source": [
    "# imdb['movie_feat'] = imdb['feat_str'].apply(rep_col)\n",
    "# imdb.head(5)"
   ]
  },
  {
   "cell_type": "code",
   "execution_count": null,
   "metadata": {},
   "outputs": [],
   "source": []
  },
  {
   "cell_type": "code",
   "execution_count": 42,
   "metadata": {},
   "outputs": [],
   "source": [
    "# mov_with_feat['genres'] = mov_with_feat['genres'].str.replace('|',',')\n",
    "# mov_with_feat['feat_str'] = mov_with_feat['actor1'] + ', ' + mov_with_feat['director1'] + ', ' + mov_with_feat['country1'] #+ ', ' + mov_with_feat['genres']  \n",
    "# mov_with_feat['feat_str'] = mov_with_feat['feat_str'].str.replace(' ','')\n",
    "# mov_with_feat.head()"
   ]
  },
  {
   "cell_type": "code",
   "execution_count": 43,
   "metadata": {},
   "outputs": [],
   "source": [
    "# mov_with_feat['features'] = mov_with_feat['feat_str'].apply(rep_col)\n",
    "# mov_with_feat[['movieId','features']].head()"
   ]
  },
  {
   "cell_type": "code",
   "execution_count": 44,
   "metadata": {},
   "outputs": [],
   "source": [
    "# a = mov_with_feat['features'][0].reshape(1,-1)\n",
    "# for mov_feat in mov_with_feat['features'][1:]:\n",
    "#     b = mov_feat.reshape(1,-1)\n",
    "#     a = np.concatenate([a,b])\n",
    "\n",
    "# a.shape"
   ]
  },
  {
   "cell_type": "code",
   "execution_count": 45,
   "metadata": {},
   "outputs": [],
   "source": [
    "# np.median(a)"
   ]
  },
  {
   "cell_type": "code",
   "execution_count": 46,
   "metadata": {},
   "outputs": [],
   "source": [
    "# np.mean(a)"
   ]
  },
  {
   "cell_type": "code",
   "execution_count": 47,
   "metadata": {},
   "outputs": [],
   "source": [
    "# lista = [sublista.split('|') for sublista in movies['genres']]\n",
    "# genres = sorted(set([item for s in lista for item in s]))\n",
    "# dummies = pd.DataFrame(np.zeros((len(movies), len(genres)), dtype=int), columns=genres)\n",
    "# for i, gen in enumerate(movies['genres']):\n",
    "#     dummies.loc[i, gen.split('|')] = 0.2\n",
    "# dummies.values"
   ]
  },
  {
   "cell_type": "code",
   "execution_count": 48,
   "metadata": {},
   "outputs": [],
   "source": [
    "# dummies.shape"
   ]
  },
  {
   "cell_type": "markdown",
   "metadata": {},
   "source": [
    "## 4. Obtención de peliculas similares"
   ]
  },
  {
   "cell_type": "code",
   "execution_count": 49,
   "metadata": {},
   "outputs": [
    {
     "data": {
      "text/plain": [
       "array([[1.        , 0.9988209 , 0.9871794 , ..., 0.9694684 , 0.94616294,\n",
       "        0.9799886 ],\n",
       "       [0.9988209 , 1.        , 0.9819624 , ..., 0.9627937 , 0.94305193,\n",
       "        0.97482246],\n",
       "       [0.9871794 , 0.9819624 , 1.        , ..., 0.9887344 , 0.92918354,\n",
       "        0.99186003],\n",
       "       [0.98138034, 0.97567844, 0.99384785, ..., 0.9950658 , 0.92939776,\n",
       "        0.9883979 ],\n",
       "       [0.9849663 , 0.9777984 , 0.99569714, ..., 0.9902432 , 0.94460243,\n",
       "        0.9951565 ]], dtype=float32)"
      ]
     },
     "execution_count": 49,
     "metadata": {},
     "output_type": "execute_result"
    }
   ],
   "source": [
    "from sklearn.metrics.pairwise import cosine_similarity\n",
    "\n",
    "#movie_features = np.concatenate([a,dummies],axis=1)\n",
    "movie_features = a\n",
    "cosine_sim = cosine_similarity(movie_features,dense_output=True)\n",
    "cosine_sim[0:5]"
   ]
  },
  {
   "cell_type": "code",
   "execution_count": 50,
   "metadata": {},
   "outputs": [],
   "source": [
    "# movies.loc[movies['movieId'] == 1,'title'].values[0]"
   ]
  },
  {
   "cell_type": "code",
   "execution_count": 51,
   "metadata": {},
   "outputs": [],
   "source": [
    "results = {}\n",
    "\n",
    "for idx, row in movies.iterrows():\n",
    "    similar_indices = cosine_sim[idx].argsort()[:-100:-1]\n",
    "    similar_items = [(cosine_sim[idx][i], movies['movieId'][i]) for i in similar_indices]\n",
    "    results[row['movieId']] = similar_items[1:]"
   ]
  },
  {
   "cell_type": "markdown",
   "metadata": {},
   "source": [
    "## 5. Recomendar películas similares a una película en particular"
   ]
  },
  {
   "cell_type": "code",
   "execution_count": 52,
   "metadata": {},
   "outputs": [],
   "source": [
    "def item(mid):\n",
    "    return movies.loc[movies['movieId'] == mid]['title'].tolist()[0].split(' - ')[0]\n",
    "\n",
    "def recommend_movie(item_id, num):\n",
    "    print(\"Recomendando \" + str(num) + \" productos similares a \" + item(item_id) + \"...\")\n",
    "    print(\"-------\")\n",
    "    recs = results[item_id][:num]\n",
    "    for rec in recs:\n",
    "        print(\"Recomendado: \" + item(rec[1]) + \" (score:\" + str(rec[0]) + \")\")\n",
    "        \n",
    "#Ingresando el ID de la película y el número de recomendaciones devuelve los títulos mejor posisionados"
   ]
  },
  {
   "cell_type": "code",
   "execution_count": 53,
   "metadata": {
    "scrolled": true
   },
   "outputs": [
    {
     "name": "stdout",
     "output_type": "stream",
     "text": [
      "Recomendando 10 productos similares a Toy Story (1995)...\n",
      "-------\n",
      "Recomendado: Madagascar (2005) (score:0.99971133)\n",
      "Recomendado: Ice Age 2: The Meltdown (2006) (score:0.99963653)\n",
      "Recomendado: The Boss Baby (2017) (score:0.9995539)\n",
      "Recomendado: Antz (1998) (score:0.9995277)\n",
      "Recomendado: Minions (2015) (score:0.9993278)\n",
      "Recomendado: Home (2015) (score:0.99930304)\n",
      "Recomendado: Monsters, Inc. (2001) (score:0.9993009)\n",
      "Recomendado: Cool World (1992) (score:0.99925977)\n",
      "Recomendado: Over the Hedge (2006) (score:0.99925643)\n",
      "Recomendado: Emperor's New Groove, The (2000) (score:0.9992494)\n"
     ]
    }
   ],
   "source": [
    "recommend_movie(1,10)"
   ]
  },
  {
   "cell_type": "code",
   "execution_count": 54,
   "metadata": {},
   "outputs": [
    {
     "name": "stdout",
     "output_type": "stream",
     "text": [
      "Recomendando 10 productos similares a Mission: Impossible (1996)...\n",
      "-------\n",
      "Recomendado: Death Proof (2007) (score:0.9995393)\n",
      "Recomendado: Island, The (2005) (score:0.99947894)\n",
      "Recomendado: Darkman (1990) (score:0.99938744)\n",
      "Recomendado: Matrix, The (1999) (score:0.99937904)\n",
      "Recomendado: Blade Runner (1982) (score:0.9992826)\n",
      "Recomendado: Captain America: The First Avenger (2011) (score:0.9992516)\n",
      "Recomendado: One, The (2001) (score:0.9992028)\n",
      "Recomendado: Chronicles of Riddick, The (2004) (score:0.9992007)\n",
      "Recomendado: Scanner Darkly, A (2006) (score:0.9991232)\n",
      "Recomendado: Hackers (1995) (score:0.9990895)\n"
     ]
    }
   ],
   "source": [
    "recommend_movie(648,10)"
   ]
  },
  {
   "cell_type": "code",
   "execution_count": 55,
   "metadata": {},
   "outputs": [
    {
     "name": "stdout",
     "output_type": "stream",
     "text": [
      "Recomendando 10 productos similares a 20 Dates (1998)...\n",
      "-------\n",
      "Recomendado: The Escort (2015) (score:0.99990624)\n",
      "Recomendado: Outsourced (2006) (score:0.9999056)\n",
      "Recomendado: Lola Versus (2012) (score:0.99989456)\n",
      "Recomendado: How to Make Love to a Woman (2010) (score:0.9998936)\n",
      "Recomendado: It Happened on Fifth Avenue (1947) (score:0.9998914)\n",
      "Recomendado: Mischief (1985) (score:0.9998781)\n",
      "Recomendado: Play the Game (2009) (score:0.9998723)\n",
      "Recomendado: Nina Takes a Lover (1994) (score:0.99985975)\n",
      "Recomendado: Sex Ed (2014) (score:0.9998594)\n",
      "Recomendado: Lost & Found (1999) (score:0.99985415)\n"
     ]
    }
   ],
   "source": [
    "recommend_movie(2492,10)"
   ]
  },
  {
   "cell_type": "code",
   "execution_count": 56,
   "metadata": {},
   "outputs": [],
   "source": [
    "# imdb['actors'].apply(lambda x: len(x.split(','))).unique()"
   ]
  },
  {
   "cell_type": "code",
   "execution_count": null,
   "metadata": {},
   "outputs": [],
   "source": []
  },
  {
   "cell_type": "markdown",
   "metadata": {},
   "source": [
    "### Lista de películas vistas por usuario"
   ]
  },
  {
   "cell_type": "code",
   "execution_count": 57,
   "metadata": {},
   "outputs": [
    {
     "data": {
      "text/html": [
       "<div>\n",
       "<style scoped>\n",
       "    .dataframe tbody tr th:only-of-type {\n",
       "        vertical-align: middle;\n",
       "    }\n",
       "\n",
       "    .dataframe tbody tr th {\n",
       "        vertical-align: top;\n",
       "    }\n",
       "\n",
       "    .dataframe thead th {\n",
       "        text-align: right;\n",
       "    }\n",
       "</style>\n",
       "<table border=\"1\" class=\"dataframe\">\n",
       "  <thead>\n",
       "    <tr style=\"text-align: right;\">\n",
       "      <th></th>\n",
       "      <th>movieId</th>\n",
       "    </tr>\n",
       "    <tr>\n",
       "      <th>userId</th>\n",
       "      <th></th>\n",
       "    </tr>\n",
       "  </thead>\n",
       "  <tbody>\n",
       "    <tr>\n",
       "      <th>1</th>\n",
       "      <td>[804, 1210, 2628, 2826, 2018, 3578, 3617, 3744...</td>\n",
       "    </tr>\n",
       "    <tr>\n",
       "      <th>2</th>\n",
       "      <td>[318, 79132, 131724, 115713, 99114, 112552, 35...</td>\n",
       "    </tr>\n",
       "    <tr>\n",
       "      <th>3</th>\n",
       "      <td>[1275, 2105, 1371, 914, 1263, 2080, 31, 720, 3...</td>\n",
       "    </tr>\n",
       "    <tr>\n",
       "      <th>4</th>\n",
       "      <td>[171, 902, 2351, 417, 1304, 2959, 2712, 162, 5...</td>\n",
       "    </tr>\n",
       "    <tr>\n",
       "      <th>5</th>\n",
       "      <td>[590, 592, 150, 380, 296, 457, 588, 153, 344, ...</td>\n",
       "    </tr>\n",
       "  </tbody>\n",
       "</table>\n",
       "</div>"
      ],
      "text/plain": [
       "                                                  movieId\n",
       "userId                                                   \n",
       "1       [804, 1210, 2628, 2826, 2018, 3578, 3617, 3744...\n",
       "2       [318, 79132, 131724, 115713, 99114, 112552, 35...\n",
       "3       [1275, 2105, 1371, 914, 1263, 2080, 31, 720, 3...\n",
       "4       [171, 902, 2351, 417, 1304, 2959, 2712, 162, 5...\n",
       "5       [590, 592, 150, 380, 296, 457, 588, 153, 344, ..."
      ]
     },
     "execution_count": 57,
     "metadata": {},
     "output_type": "execute_result"
    }
   ],
   "source": [
    "ratings_sorted = ratings.sort_values(by='timestamp')\n",
    "movies_by_user = pd.DataFrame(ratings_sorted.groupby('userId')['movieId'].apply(list))\n",
    "movies_by_user.head()"
   ]
  },
  {
   "cell_type": "markdown",
   "metadata": {},
   "source": [
    "Para cada usuario me quedo con la última película que vio:"
   ]
  },
  {
   "cell_type": "code",
   "execution_count": 58,
   "metadata": {},
   "outputs": [
    {
     "data": {
      "text/plain": [
       "2492"
      ]
     },
     "execution_count": 58,
     "metadata": {},
     "output_type": "execute_result"
    }
   ],
   "source": [
    "movies_by_user['movieId'][1][-1]"
   ]
  },
  {
   "cell_type": "code",
   "execution_count": 59,
   "metadata": {},
   "outputs": [
    {
     "data": {
      "text/html": [
       "<div>\n",
       "<style scoped>\n",
       "    .dataframe tbody tr th:only-of-type {\n",
       "        vertical-align: middle;\n",
       "    }\n",
       "\n",
       "    .dataframe tbody tr th {\n",
       "        vertical-align: top;\n",
       "    }\n",
       "\n",
       "    .dataframe thead th {\n",
       "        text-align: right;\n",
       "    }\n",
       "</style>\n",
       "<table border=\"1\" class=\"dataframe\">\n",
       "  <thead>\n",
       "    <tr style=\"text-align: right;\">\n",
       "      <th></th>\n",
       "      <th>movieId</th>\n",
       "      <th>last_watched</th>\n",
       "    </tr>\n",
       "    <tr>\n",
       "      <th>userId</th>\n",
       "      <th></th>\n",
       "      <th></th>\n",
       "    </tr>\n",
       "  </thead>\n",
       "  <tbody>\n",
       "    <tr>\n",
       "      <th>1</th>\n",
       "      <td>[804, 1210, 2628, 2826, 2018, 3578, 3617, 3744...</td>\n",
       "      <td>2492</td>\n",
       "    </tr>\n",
       "    <tr>\n",
       "      <th>2</th>\n",
       "      <td>[318, 79132, 131724, 115713, 99114, 112552, 35...</td>\n",
       "      <td>80489</td>\n",
       "    </tr>\n",
       "    <tr>\n",
       "      <th>3</th>\n",
       "      <td>[1275, 2105, 1371, 914, 1263, 2080, 31, 720, 3...</td>\n",
       "      <td>2424</td>\n",
       "    </tr>\n",
       "    <tr>\n",
       "      <th>4</th>\n",
       "      <td>[171, 902, 2351, 417, 1304, 2959, 2712, 162, 5...</td>\n",
       "      <td>4246</td>\n",
       "    </tr>\n",
       "    <tr>\n",
       "      <th>5</th>\n",
       "      <td>[590, 592, 150, 380, 296, 457, 588, 153, 344, ...</td>\n",
       "      <td>474</td>\n",
       "    </tr>\n",
       "  </tbody>\n",
       "</table>\n",
       "</div>"
      ],
      "text/plain": [
       "                                                  movieId  last_watched\n",
       "userId                                                                 \n",
       "1       [804, 1210, 2628, 2826, 2018, 3578, 3617, 3744...          2492\n",
       "2       [318, 79132, 131724, 115713, 99114, 112552, 35...         80489\n",
       "3       [1275, 2105, 1371, 914, 1263, 2080, 31, 720, 3...          2424\n",
       "4       [171, 902, 2351, 417, 1304, 2959, 2712, 162, 5...          4246\n",
       "5       [590, 592, 150, 380, 296, 457, 588, 153, 344, ...           474"
      ]
     },
     "execution_count": 59,
     "metadata": {},
     "output_type": "execute_result"
    }
   ],
   "source": [
    "movies_by_user['last_watched'] = movies_by_user['movieId'].apply(lambda x: x[-1])\n",
    "movies_by_user.head()"
   ]
  },
  {
   "cell_type": "markdown",
   "metadata": {},
   "source": [
    "Y le recomiendo las 10 películas más parecidas a esa, sin recomendarle alguna que ya vio:"
   ]
  },
  {
   "cell_type": "code",
   "execution_count": 60,
   "metadata": {},
   "outputs": [],
   "source": [
    "def user_recommendation(uid=1,num=1):\n",
    "    last_watched_id = movies_by_user.loc[uid]['last_watched']\n",
    "    movies_watched = movies_by_user.loc[uid]['movieId']\n",
    "    recommendation = results[last_watched_id]#[:num]\n",
    "    i=0\n",
    "    j=0\n",
    "    recs=[]\n",
    "    while i<num:\n",
    "        if recommendation[j][1] not in movies_watched:\n",
    "            recs.append(recommendation[j])\n",
    "            j+=1\n",
    "            i+=1\n",
    "        else:\n",
    "            j+=1\n",
    "    \n",
    "    #print(\"Recomendando \" + str(num) + \" productos similares a \" + item(last_watched_id) + \"...\")\n",
    "    print(\"Porque ya viste \" + item(last_watched_id) + \"...\")\n",
    "    print(\"-------\")\n",
    "    for rec in recs:\n",
    "        #print(\"Recomendado: \" + str(rec[1]) + ' ' + item(rec[1]) + \" (score:\" + str(rec[0]) + \")\")\n",
    "        print(\"Recomendado: \" + item(rec[1]) + \" (score:\" + str(rec[0]) + \")\")\n",
    "    #return recommendation"
   ]
  },
  {
   "cell_type": "code",
   "execution_count": 61,
   "metadata": {
    "scrolled": false
   },
   "outputs": [
    {
     "name": "stdout",
     "output_type": "stream",
     "text": [
      "Porque ya viste Hellraiser (1987)...\n",
      "-------\n",
      "Recomendado: Hellbound: Hellraiser II (1988) (score:0.99960595)\n",
      "Recomendado: The Plague of the Zombies (1966) (score:0.9994568)\n",
      "Recomendado: Horror of Dracula (Dracula) (1958) (score:0.998719)\n",
      "Recomendado: Awakening, The (1980) (score:0.9984838)\n",
      "Recomendado: Curse of Frankenstein, The (1957) (score:0.9983713)\n",
      "Recomendado: Mummy, The (1959) (score:0.9983321)\n",
      "Recomendado: Black Mirror: White Christmas (2014) (score:0.9973811)\n",
      "Recomendado: Legend of Hell House, The (1973) (score:0.99707943)\n",
      "Recomendado: The Hound of the Baskervilles (1988) (score:0.9970715)\n",
      "Recomendado: The Deadly Bees (1967) (score:0.9966915)\n"
     ]
    }
   ],
   "source": [
    "uid=610\n",
    "num=10\n",
    "user_recommendation(uid,num)"
   ]
  },
  {
   "cell_type": "code",
   "execution_count": 62,
   "metadata": {},
   "outputs": [
    {
     "name": "stdout",
     "output_type": "stream",
     "text": [
      "Porque ya viste 20 Dates (1998)...\n",
      "-------\n",
      "Recomendado: The Escort (2015) (score:0.99990624)\n",
      "Recomendado: Outsourced (2006) (score:0.9999056)\n",
      "Recomendado: Lola Versus (2012) (score:0.99989456)\n",
      "Recomendado: How to Make Love to a Woman (2010) (score:0.9998936)\n",
      "Recomendado: It Happened on Fifth Avenue (1947) (score:0.9998914)\n",
      "Recomendado: Mischief (1985) (score:0.9998781)\n",
      "Recomendado: Play the Game (2009) (score:0.9998723)\n",
      "Recomendado: Nina Takes a Lover (1994) (score:0.99985975)\n",
      "Recomendado: Sex Ed (2014) (score:0.9998594)\n",
      "Recomendado: Lost & Found (1999) (score:0.99985415)\n"
     ]
    }
   ],
   "source": [
    "uid=1\n",
    "num=10\n",
    "user_recommendation(uid,num)"
   ]
  },
  {
   "cell_type": "code",
   "execution_count": 63,
   "metadata": {},
   "outputs": [
    {
     "name": "stdout",
     "output_type": "stream",
     "text": [
      "Porque ya viste Finding Dory (2016)...\n",
      "-------\n",
      "Recomendado: Planes (2013) (score:0.9998964)\n",
      "Recomendado: ParaNorman (2012) (score:0.9997401)\n",
      "Recomendado: Dragons: Gift of the Night Fury (2011) (score:0.99951994)\n",
      "Recomendado: Cars 3 (2017) (score:0.9994921)\n",
      "Recomendado: Planes: Fire & Rescue (2014) (score:0.9993984)\n",
      "Recomendado: Puss in Boots: The Three Diablos (2012) (score:0.99934965)\n",
      "Recomendado: Wreck-It Ralph (2012) (score:0.9992212)\n",
      "Recomendado: Ice Age 4: Continental Drift (2012) (score:0.99920255)\n",
      "Recomendado: Black Knight (2001) (score:0.99919)\n",
      "Recomendado: Alvin and the Chipmunks: Chipwrecked (2011) (score:0.99895793)\n"
     ]
    }
   ],
   "source": [
    "uid=154\n",
    "num=10\n",
    "user_recommendation(uid,num)"
   ]
  },
  {
   "cell_type": "code",
   "execution_count": 64,
   "metadata": {},
   "outputs": [],
   "source": [
    "# sorted(movies_by_user.loc[uid]['movieId'])"
   ]
  },
  {
   "cell_type": "markdown",
   "metadata": {},
   "source": [
    "User Random Recommendation (tomo una pelicula random que vio, y le recomiendo otras):"
   ]
  },
  {
   "cell_type": "code",
   "execution_count": 66,
   "metadata": {},
   "outputs": [],
   "source": [
    "import random\n",
    "\n",
    "def user_rand_recommendation(uid=1,num=1):\n",
    "    movies_watched = movies_by_user.loc[uid]['movieId']\n",
    "    rand_watched_id = random.choice(movies_watched)\n",
    "    recommendation = results[rand_watched_id]#[:num]\n",
    "    i=0\n",
    "    j=0\n",
    "    recs=[]\n",
    "    while i<num:\n",
    "        if recommendation[j][1] not in movies_watched:\n",
    "            recs.append(recommendation[j])\n",
    "            j+=1\n",
    "            i+=1\n",
    "        else:\n",
    "            j+=1\n",
    "    \n",
    "    #print(\"Recomendando \" + str(num) + \" productos similares a \" + item(last_watched_id) + \"...\")\n",
    "    print(\"Porque ya viste \" + item(rand_watched_id) + \"...\")\n",
    "    print(\"-------\")\n",
    "    for rec in recs:\n",
    "        #print(\"Recomendado: \" + str(rec[1]) + ' ' + item(rec[1]) + \" (score:\" + str(rec[0]) + \")\")\n",
    "        print(\"Recomendado: \" + item(rec[1]) + \" (score:\" + str(rec[0]) + \")\")\n",
    "    #return recommendation"
   ]
  },
  {
   "cell_type": "code",
   "execution_count": 72,
   "metadata": {
    "scrolled": false
   },
   "outputs": [
    {
     "name": "stdout",
     "output_type": "stream",
     "text": [
      "Porque ya viste Field in England, A (2013)...\n",
      "-------\n",
      "Recomendado: Paperhouse (1988) (score:0.99751496)\n",
      "Recomendado: I Know Where I'm Going! (1945) (score:0.9970697)\n",
      "Recomendado: Dam Busters, The (1955) (score:0.9967695)\n",
      "Recomendado: Dorian Gray (2009) (score:0.9967139)\n",
      "Recomendado: Red Shoes, The (1948) (score:0.9967045)\n",
      "Recomendado: Henry V (1989) (score:0.9964687)\n",
      "Recomendado: Pink Floyd: The Wall (1982) (score:0.99643403)\n",
      "Recomendado: Abominable Snowman, The (Abominable Snowman of the Himalayas, The) (1957) (score:0.9963002)\n",
      "Recomendado: Road to Guantanamo, The (2006) (score:0.9960692)\n",
      "Recomendado: Edge of Love, The (2008) (score:0.99591374)\n"
     ]
    }
   ],
   "source": [
    "uid=610\n",
    "num=10\n",
    "user_rand_recommendation(uid,num)"
   ]
  },
  {
   "cell_type": "code",
   "execution_count": 73,
   "metadata": {},
   "outputs": [
    {
     "name": "stdout",
     "output_type": "stream",
     "text": [
      "Porque ya viste That Thing You Do! (1996)...\n",
      "-------\n",
      "Recomendado: Unstrung Heroes (1995) (score:0.9993211)\n",
      "Recomendado: The Disaster Artist (2017) (score:0.99873585)\n",
      "Recomendado: Bronx Tale, A (1993) (score:0.9984861)\n",
      "Recomendado: Pollock (2000) (score:0.9983051)\n",
      "Recomendado: Antwone Fisher (2002) (score:0.9982897)\n",
      "Recomendado: Man Without a Face, The (1993) (score:0.9982252)\n",
      "Recomendado: Larry Crowne (2011) (score:0.9981845)\n",
      "Recomendado: Mr. Saturday Night (1992) (score:0.99787503)\n",
      "Recomendado: Sling Blade (1996) (score:0.9971619)\n",
      "Recomendado: Rocky Balboa (2006) (score:0.9971091)\n"
     ]
    }
   ],
   "source": [
    "uid=1\n",
    "num=10\n",
    "user_rand_recommendation(uid,num)"
   ]
  },
  {
   "cell_type": "code",
   "execution_count": 74,
   "metadata": {},
   "outputs": [
    {
     "name": "stdout",
     "output_type": "stream",
     "text": [
      "Porque ya viste Finding Dory (2016)...\n",
      "-------\n",
      "Recomendado: Planes (2013) (score:0.9998964)\n",
      "Recomendado: ParaNorman (2012) (score:0.9997401)\n",
      "Recomendado: Dragons: Gift of the Night Fury (2011) (score:0.99951994)\n",
      "Recomendado: Cars 3 (2017) (score:0.9994921)\n",
      "Recomendado: Planes: Fire & Rescue (2014) (score:0.9993984)\n",
      "Recomendado: Puss in Boots: The Three Diablos (2012) (score:0.99934965)\n",
      "Recomendado: Wreck-It Ralph (2012) (score:0.9992212)\n",
      "Recomendado: Ice Age 4: Continental Drift (2012) (score:0.99920255)\n",
      "Recomendado: Black Knight (2001) (score:0.99919)\n",
      "Recomendado: Alvin and the Chipmunks: Chipwrecked (2011) (score:0.99895793)\n"
     ]
    }
   ],
   "source": [
    "uid=154\n",
    "num=10\n",
    "user_rand_recommendation(uid,num)"
   ]
  },
  {
   "cell_type": "code",
   "execution_count": null,
   "metadata": {},
   "outputs": [],
   "source": []
  }
 ],
 "metadata": {
  "kernelspec": {
   "display_name": "Python 3",
   "language": "python",
   "name": "python3"
  },
  "language_info": {
   "codemirror_mode": {
    "name": "ipython",
    "version": 3
   },
   "file_extension": ".py",
   "mimetype": "text/x-python",
   "name": "python",
   "nbconvert_exporter": "python",
   "pygments_lexer": "ipython3",
   "version": "3.7.3"
  }
 },
 "nbformat": 4,
 "nbformat_minor": 2
}
