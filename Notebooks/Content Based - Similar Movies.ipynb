{
 "cells": [
  {
   "cell_type": "markdown",
   "metadata": {},
   "source": [
    "## 1. Importar librerías"
   ]
  },
  {
   "cell_type": "code",
   "execution_count": 1,
   "metadata": {},
   "outputs": [
    {
     "name": "stderr",
     "output_type": "stream",
     "text": [
      "C:\\Users\\JAVI\\Miniconda3\\envs\\dhds\\lib\\site-packages\\gensim\\utils.py:1197: UserWarning: detected Windows; aliasing chunkize to chunkize_serial\n",
      "  warnings.warn(\"detected Windows; aliasing chunkize to chunkize_serial\")\n"
     ]
    }
   ],
   "source": [
    "import pandas as pd\n",
    "import numpy as np\n",
    "import matplotlib.pyplot as pltd\n",
    "import seaborn as sns\n",
    "\n",
    "from gensim.models import Word2Vec"
   ]
  },
  {
   "cell_type": "markdown",
   "metadata": {},
   "source": [
    "## 2. Cargar datos"
   ]
  },
  {
   "cell_type": "code",
   "execution_count": 2,
   "metadata": {},
   "outputs": [],
   "source": [
    "movies=pd.read_csv('../Data/movies.csv')\n",
    "ratings=pd.read_csv('../Data/ratings.csv')\n",
    "links=pd.read_csv('../Data/links.csv')\n",
    "tags=pd.read_csv('../Data/tags.csv')\n",
    "imdb=pd.read_csv('../Data/tab_imdb_info.csv',index_col=0)"
   ]
  },
  {
   "cell_type": "code",
   "execution_count": 3,
   "metadata": {},
   "outputs": [
    {
     "data": {
      "text/html": [
       "<div>\n",
       "<style scoped>\n",
       "    .dataframe tbody tr th:only-of-type {\n",
       "        vertical-align: middle;\n",
       "    }\n",
       "\n",
       "    .dataframe tbody tr th {\n",
       "        vertical-align: top;\n",
       "    }\n",
       "\n",
       "    .dataframe thead th {\n",
       "        text-align: right;\n",
       "    }\n",
       "</style>\n",
       "<table border=\"1\" class=\"dataframe\">\n",
       "  <thead>\n",
       "    <tr style=\"text-align: right;\">\n",
       "      <th></th>\n",
       "      <th>movieId</th>\n",
       "      <th>title</th>\n",
       "      <th>genres</th>\n",
       "    </tr>\n",
       "  </thead>\n",
       "  <tbody>\n",
       "    <tr>\n",
       "      <th>0</th>\n",
       "      <td>1</td>\n",
       "      <td>Toy Story (1995)</td>\n",
       "      <td>Adventure|Animation|Children|Comedy|Fantasy</td>\n",
       "    </tr>\n",
       "    <tr>\n",
       "      <th>1</th>\n",
       "      <td>2</td>\n",
       "      <td>Jumanji (1995)</td>\n",
       "      <td>Adventure|Children|Fantasy</td>\n",
       "    </tr>\n",
       "    <tr>\n",
       "      <th>2</th>\n",
       "      <td>3</td>\n",
       "      <td>Grumpier Old Men (1995)</td>\n",
       "      <td>Comedy|Romance</td>\n",
       "    </tr>\n",
       "    <tr>\n",
       "      <th>3</th>\n",
       "      <td>4</td>\n",
       "      <td>Waiting to Exhale (1995)</td>\n",
       "      <td>Comedy|Drama|Romance</td>\n",
       "    </tr>\n",
       "    <tr>\n",
       "      <th>4</th>\n",
       "      <td>5</td>\n",
       "      <td>Father of the Bride Part II (1995)</td>\n",
       "      <td>Comedy</td>\n",
       "    </tr>\n",
       "  </tbody>\n",
       "</table>\n",
       "</div>"
      ],
      "text/plain": [
       "   movieId                               title  \\\n",
       "0        1                    Toy Story (1995)   \n",
       "1        2                      Jumanji (1995)   \n",
       "2        3             Grumpier Old Men (1995)   \n",
       "3        4            Waiting to Exhale (1995)   \n",
       "4        5  Father of the Bride Part II (1995)   \n",
       "\n",
       "                                        genres  \n",
       "0  Adventure|Animation|Children|Comedy|Fantasy  \n",
       "1                   Adventure|Children|Fantasy  \n",
       "2                               Comedy|Romance  \n",
       "3                         Comedy|Drama|Romance  \n",
       "4                                       Comedy  "
      ]
     },
     "execution_count": 3,
     "metadata": {},
     "output_type": "execute_result"
    }
   ],
   "source": [
    "movies.head()"
   ]
  },
  {
   "cell_type": "code",
   "execution_count": 4,
   "metadata": {},
   "outputs": [
    {
     "data": {
      "text/html": [
       "<div>\n",
       "<style scoped>\n",
       "    .dataframe tbody tr th:only-of-type {\n",
       "        vertical-align: middle;\n",
       "    }\n",
       "\n",
       "    .dataframe tbody tr th {\n",
       "        vertical-align: top;\n",
       "    }\n",
       "\n",
       "    .dataframe thead th {\n",
       "        text-align: right;\n",
       "    }\n",
       "</style>\n",
       "<table border=\"1\" class=\"dataframe\">\n",
       "  <thead>\n",
       "    <tr style=\"text-align: right;\">\n",
       "      <th></th>\n",
       "      <th>movieId</th>\n",
       "      <th>imdbId</th>\n",
       "      <th>tmdbId</th>\n",
       "    </tr>\n",
       "  </thead>\n",
       "  <tbody>\n",
       "    <tr>\n",
       "      <th>0</th>\n",
       "      <td>1</td>\n",
       "      <td>114709</td>\n",
       "      <td>862.0</td>\n",
       "    </tr>\n",
       "    <tr>\n",
       "      <th>1</th>\n",
       "      <td>2</td>\n",
       "      <td>113497</td>\n",
       "      <td>8844.0</td>\n",
       "    </tr>\n",
       "    <tr>\n",
       "      <th>2</th>\n",
       "      <td>3</td>\n",
       "      <td>113228</td>\n",
       "      <td>15602.0</td>\n",
       "    </tr>\n",
       "    <tr>\n",
       "      <th>3</th>\n",
       "      <td>4</td>\n",
       "      <td>114885</td>\n",
       "      <td>31357.0</td>\n",
       "    </tr>\n",
       "    <tr>\n",
       "      <th>4</th>\n",
       "      <td>5</td>\n",
       "      <td>113041</td>\n",
       "      <td>11862.0</td>\n",
       "    </tr>\n",
       "  </tbody>\n",
       "</table>\n",
       "</div>"
      ],
      "text/plain": [
       "   movieId  imdbId   tmdbId\n",
       "0        1  114709    862.0\n",
       "1        2  113497   8844.0\n",
       "2        3  113228  15602.0\n",
       "3        4  114885  31357.0\n",
       "4        5  113041  11862.0"
      ]
     },
     "execution_count": 4,
     "metadata": {},
     "output_type": "execute_result"
    }
   ],
   "source": [
    "links.head()"
   ]
  },
  {
   "cell_type": "code",
   "execution_count": 5,
   "metadata": {},
   "outputs": [
    {
     "data": {
      "text/plain": [
       "movieId      int64\n",
       "imdbId       int64\n",
       "tmdbId     float64\n",
       "dtype: object"
      ]
     },
     "execution_count": 5,
     "metadata": {},
     "output_type": "execute_result"
    }
   ],
   "source": [
    "links.dtypes"
   ]
  },
  {
   "cell_type": "code",
   "execution_count": 6,
   "metadata": {
    "scrolled": true
   },
   "outputs": [
    {
     "data": {
      "text/html": [
       "<div>\n",
       "<style scoped>\n",
       "    .dataframe tbody tr th:only-of-type {\n",
       "        vertical-align: middle;\n",
       "    }\n",
       "\n",
       "    .dataframe tbody tr th {\n",
       "        vertical-align: top;\n",
       "    }\n",
       "\n",
       "    .dataframe thead th {\n",
       "        text-align: right;\n",
       "    }\n",
       "</style>\n",
       "<table border=\"1\" class=\"dataframe\">\n",
       "  <thead>\n",
       "    <tr style=\"text-align: right;\">\n",
       "      <th></th>\n",
       "      <th>actors</th>\n",
       "      <th>country</th>\n",
       "      <th>director</th>\n",
       "      <th>req_imdbid</th>\n",
       "      <th>year</th>\n",
       "    </tr>\n",
       "  </thead>\n",
       "  <tbody>\n",
       "    <tr>\n",
       "      <th>0</th>\n",
       "      <td>Tom Hanks, Tim Allen, Don Rickles, Jim Varney</td>\n",
       "      <td>USA</td>\n",
       "      <td>John Lasseter</td>\n",
       "      <td>tt0114709</td>\n",
       "      <td>1995</td>\n",
       "    </tr>\n",
       "    <tr>\n",
       "      <th>1</th>\n",
       "      <td>Robin Williams, Jonathan Hyde, Kirsten Dunst, ...</td>\n",
       "      <td>USA</td>\n",
       "      <td>Joe Johnston</td>\n",
       "      <td>tt0113497</td>\n",
       "      <td>1995</td>\n",
       "    </tr>\n",
       "    <tr>\n",
       "      <th>2</th>\n",
       "      <td>Walter Matthau, Jack Lemmon, Sophia Loren, Ann...</td>\n",
       "      <td>USA</td>\n",
       "      <td>Howard Deutch</td>\n",
       "      <td>tt0113228</td>\n",
       "      <td>1995</td>\n",
       "    </tr>\n",
       "    <tr>\n",
       "      <th>3</th>\n",
       "      <td>Whitney Houston, Angela Bassett, Loretta Devin...</td>\n",
       "      <td>USA</td>\n",
       "      <td>Forest Whitaker</td>\n",
       "      <td>tt0114885</td>\n",
       "      <td>1995</td>\n",
       "    </tr>\n",
       "    <tr>\n",
       "      <th>4</th>\n",
       "      <td>Steve Martin, Diane Keaton, Martin Short, Kimb...</td>\n",
       "      <td>USA</td>\n",
       "      <td>Charles Shyer</td>\n",
       "      <td>tt0113041</td>\n",
       "      <td>1995</td>\n",
       "    </tr>\n",
       "  </tbody>\n",
       "</table>\n",
       "</div>"
      ],
      "text/plain": [
       "                                              actors country         director  \\\n",
       "0      Tom Hanks, Tim Allen, Don Rickles, Jim Varney     USA    John Lasseter   \n",
       "1  Robin Williams, Jonathan Hyde, Kirsten Dunst, ...     USA     Joe Johnston   \n",
       "2  Walter Matthau, Jack Lemmon, Sophia Loren, Ann...     USA    Howard Deutch   \n",
       "3  Whitney Houston, Angela Bassett, Loretta Devin...     USA  Forest Whitaker   \n",
       "4  Steve Martin, Diane Keaton, Martin Short, Kimb...     USA    Charles Shyer   \n",
       "\n",
       "  req_imdbid  year  \n",
       "0  tt0114709  1995  \n",
       "1  tt0113497  1995  \n",
       "2  tt0113228  1995  \n",
       "3  tt0114885  1995  \n",
       "4  tt0113041  1995  "
      ]
     },
     "execution_count": 6,
     "metadata": {},
     "output_type": "execute_result"
    }
   ],
   "source": [
    "imdb.head()"
   ]
  },
  {
   "cell_type": "code",
   "execution_count": 7,
   "metadata": {},
   "outputs": [
    {
     "data": {
      "text/html": [
       "<div>\n",
       "<style scoped>\n",
       "    .dataframe tbody tr th:only-of-type {\n",
       "        vertical-align: middle;\n",
       "    }\n",
       "\n",
       "    .dataframe tbody tr th {\n",
       "        vertical-align: top;\n",
       "    }\n",
       "\n",
       "    .dataframe thead th {\n",
       "        text-align: right;\n",
       "    }\n",
       "</style>\n",
       "<table border=\"1\" class=\"dataframe\">\n",
       "  <thead>\n",
       "    <tr style=\"text-align: right;\">\n",
       "      <th></th>\n",
       "      <th>actors</th>\n",
       "      <th>country</th>\n",
       "      <th>director</th>\n",
       "      <th>req_imdbid</th>\n",
       "      <th>year</th>\n",
       "    </tr>\n",
       "  </thead>\n",
       "  <tbody>\n",
       "    <tr>\n",
       "      <th>0</th>\n",
       "      <td>Tom Hanks, Tim Allen, Don Rickles, Jim Varney</td>\n",
       "      <td>USA</td>\n",
       "      <td>John Lasseter</td>\n",
       "      <td>tt0114709</td>\n",
       "      <td>1995</td>\n",
       "    </tr>\n",
       "    <tr>\n",
       "      <th>1</th>\n",
       "      <td>Robin Williams, Jonathan Hyde, Kirsten Dunst, ...</td>\n",
       "      <td>USA</td>\n",
       "      <td>Joe Johnston</td>\n",
       "      <td>tt0113497</td>\n",
       "      <td>1995</td>\n",
       "    </tr>\n",
       "    <tr>\n",
       "      <th>2</th>\n",
       "      <td>Walter Matthau, Jack Lemmon, Sophia Loren, Ann...</td>\n",
       "      <td>USA</td>\n",
       "      <td>Howard Deutch</td>\n",
       "      <td>tt0113228</td>\n",
       "      <td>1995</td>\n",
       "    </tr>\n",
       "    <tr>\n",
       "      <th>3</th>\n",
       "      <td>Whitney Houston, Angela Bassett, Loretta Devin...</td>\n",
       "      <td>USA</td>\n",
       "      <td>Forest Whitaker</td>\n",
       "      <td>tt0114885</td>\n",
       "      <td>1995</td>\n",
       "    </tr>\n",
       "    <tr>\n",
       "      <th>4</th>\n",
       "      <td>Steve Martin, Diane Keaton, Martin Short, Kimb...</td>\n",
       "      <td>USA</td>\n",
       "      <td>Charles Shyer</td>\n",
       "      <td>tt0113041</td>\n",
       "      <td>1995</td>\n",
       "    </tr>\n",
       "  </tbody>\n",
       "</table>\n",
       "</div>"
      ],
      "text/plain": [
       "                                              actors country         director  \\\n",
       "0      Tom Hanks, Tim Allen, Don Rickles, Jim Varney     USA    John Lasseter   \n",
       "1  Robin Williams, Jonathan Hyde, Kirsten Dunst, ...     USA     Joe Johnston   \n",
       "2  Walter Matthau, Jack Lemmon, Sophia Loren, Ann...     USA    Howard Deutch   \n",
       "3  Whitney Houston, Angela Bassett, Loretta Devin...     USA  Forest Whitaker   \n",
       "4  Steve Martin, Diane Keaton, Martin Short, Kimb...     USA    Charles Shyer   \n",
       "\n",
       "  req_imdbid  year  \n",
       "0  tt0114709  1995  \n",
       "1  tt0113497  1995  \n",
       "2  tt0113228  1995  \n",
       "3  tt0114885  1995  \n",
       "4  tt0113041  1995  "
      ]
     },
     "execution_count": 7,
     "metadata": {},
     "output_type": "execute_result"
    }
   ],
   "source": [
    "imdb.head()"
   ]
  },
  {
   "cell_type": "markdown",
   "metadata": {},
   "source": [
    "## 3. Feature Extraction"
   ]
  },
  {
   "cell_type": "markdown",
   "metadata": {},
   "source": [
    "Corregir id's de imdb:"
   ]
  },
  {
   "cell_type": "code",
   "execution_count": 8,
   "metadata": {},
   "outputs": [],
   "source": [
    "imdb['imdbId']=imdb['req_imdbid'].apply(lambda x: x[2:]).astype('int64')"
   ]
  },
  {
   "cell_type": "code",
   "execution_count": 9,
   "metadata": {
    "scrolled": true
   },
   "outputs": [
    {
     "data": {
      "text/html": [
       "<div>\n",
       "<style scoped>\n",
       "    .dataframe tbody tr th:only-of-type {\n",
       "        vertical-align: middle;\n",
       "    }\n",
       "\n",
       "    .dataframe tbody tr th {\n",
       "        vertical-align: top;\n",
       "    }\n",
       "\n",
       "    .dataframe thead th {\n",
       "        text-align: right;\n",
       "    }\n",
       "</style>\n",
       "<table border=\"1\" class=\"dataframe\">\n",
       "  <thead>\n",
       "    <tr style=\"text-align: right;\">\n",
       "      <th></th>\n",
       "      <th>movieId</th>\n",
       "      <th>imdbId</th>\n",
       "      <th>tmdbId</th>\n",
       "      <th>title</th>\n",
       "      <th>genres</th>\n",
       "    </tr>\n",
       "  </thead>\n",
       "  <tbody>\n",
       "    <tr>\n",
       "      <th>0</th>\n",
       "      <td>1</td>\n",
       "      <td>114709</td>\n",
       "      <td>862.0</td>\n",
       "      <td>Toy Story (1995)</td>\n",
       "      <td>Adventure|Animation|Children|Comedy|Fantasy</td>\n",
       "    </tr>\n",
       "    <tr>\n",
       "      <th>1</th>\n",
       "      <td>2</td>\n",
       "      <td>113497</td>\n",
       "      <td>8844.0</td>\n",
       "      <td>Jumanji (1995)</td>\n",
       "      <td>Adventure|Children|Fantasy</td>\n",
       "    </tr>\n",
       "    <tr>\n",
       "      <th>2</th>\n",
       "      <td>3</td>\n",
       "      <td>113228</td>\n",
       "      <td>15602.0</td>\n",
       "      <td>Grumpier Old Men (1995)</td>\n",
       "      <td>Comedy|Romance</td>\n",
       "    </tr>\n",
       "    <tr>\n",
       "      <th>3</th>\n",
       "      <td>4</td>\n",
       "      <td>114885</td>\n",
       "      <td>31357.0</td>\n",
       "      <td>Waiting to Exhale (1995)</td>\n",
       "      <td>Comedy|Drama|Romance</td>\n",
       "    </tr>\n",
       "    <tr>\n",
       "      <th>4</th>\n",
       "      <td>5</td>\n",
       "      <td>113041</td>\n",
       "      <td>11862.0</td>\n",
       "      <td>Father of the Bride Part II (1995)</td>\n",
       "      <td>Comedy</td>\n",
       "    </tr>\n",
       "  </tbody>\n",
       "</table>\n",
       "</div>"
      ],
      "text/plain": [
       "   movieId  imdbId   tmdbId                               title  \\\n",
       "0        1  114709    862.0                    Toy Story (1995)   \n",
       "1        2  113497   8844.0                      Jumanji (1995)   \n",
       "2        3  113228  15602.0             Grumpier Old Men (1995)   \n",
       "3        4  114885  31357.0            Waiting to Exhale (1995)   \n",
       "4        5  113041  11862.0  Father of the Bride Part II (1995)   \n",
       "\n",
       "                                        genres  \n",
       "0  Adventure|Animation|Children|Comedy|Fantasy  \n",
       "1                   Adventure|Children|Fantasy  \n",
       "2                               Comedy|Romance  \n",
       "3                         Comedy|Drama|Romance  \n",
       "4                                       Comedy  "
      ]
     },
     "execution_count": 9,
     "metadata": {},
     "output_type": "execute_result"
    }
   ],
   "source": [
    "pd.merge(links,movies,on='movieId').head()"
   ]
  },
  {
   "cell_type": "code",
   "execution_count": 10,
   "metadata": {},
   "outputs": [
    {
     "data": {
      "text/plain": [
       "actors        32\n",
       "country       12\n",
       "director      94\n",
       "req_imdbid     0\n",
       "year           0\n",
       "imdbId         0\n",
       "dtype: int64"
      ]
     },
     "execution_count": 10,
     "metadata": {},
     "output_type": "execute_result"
    }
   ],
   "source": [
    "imdb.isna().sum()"
   ]
  },
  {
   "cell_type": "code",
   "execution_count": 11,
   "metadata": {},
   "outputs": [],
   "source": [
    "imdb.fillna('-',inplace=True)"
   ]
  },
  {
   "cell_type": "code",
   "execution_count": 12,
   "metadata": {},
   "outputs": [
    {
     "data": {
      "text/plain": [
       "array([4, 2, 3, 1], dtype=int64)"
      ]
     },
     "execution_count": 12,
     "metadata": {},
     "output_type": "execute_result"
    }
   ],
   "source": [
    "imdb['actors'].apply(lambda x: len(x.split(','))).unique()"
   ]
  },
  {
   "cell_type": "code",
   "execution_count": 13,
   "metadata": {},
   "outputs": [],
   "source": [
    "# imdb['director1'] = imdb['director'].apply(lambda x: x.split(',')[0])\n",
    "# imdb['actor1'] = imdb['actors'].apply(lambda x: x.split(',')[0])\n",
    "# #imdb['actor2'] = imdb['actors'].apply(lambda x: x.split(',')[1])\n",
    "# imdb['country1'] = imdb['country'].apply(lambda x: x.split(',')[0])"
   ]
  },
  {
   "cell_type": "markdown",
   "metadata": {},
   "source": [
    "Creo un dataframe con todos los datos necesarios para crear features por películas:"
   ]
  },
  {
   "cell_type": "code",
   "execution_count": 14,
   "metadata": {},
   "outputs": [
    {
     "data": {
      "text/html": [
       "<div>\n",
       "<style scoped>\n",
       "    .dataframe tbody tr th:only-of-type {\n",
       "        vertical-align: middle;\n",
       "    }\n",
       "\n",
       "    .dataframe tbody tr th {\n",
       "        vertical-align: top;\n",
       "    }\n",
       "\n",
       "    .dataframe thead th {\n",
       "        text-align: right;\n",
       "    }\n",
       "</style>\n",
       "<table border=\"1\" class=\"dataframe\">\n",
       "  <thead>\n",
       "    <tr style=\"text-align: right;\">\n",
       "      <th></th>\n",
       "      <th>movieId</th>\n",
       "      <th>imdbId</th>\n",
       "      <th>tmdbId</th>\n",
       "      <th>actors</th>\n",
       "      <th>country</th>\n",
       "      <th>director</th>\n",
       "      <th>req_imdbid</th>\n",
       "      <th>year</th>\n",
       "      <th>title</th>\n",
       "      <th>genres</th>\n",
       "    </tr>\n",
       "  </thead>\n",
       "  <tbody>\n",
       "    <tr>\n",
       "      <th>0</th>\n",
       "      <td>1</td>\n",
       "      <td>114709</td>\n",
       "      <td>862.0</td>\n",
       "      <td>Tom Hanks, Tim Allen, Don Rickles, Jim Varney</td>\n",
       "      <td>USA</td>\n",
       "      <td>John Lasseter</td>\n",
       "      <td>tt0114709</td>\n",
       "      <td>1995</td>\n",
       "      <td>Toy Story (1995)</td>\n",
       "      <td>Adventure|Animation|Children|Comedy|Fantasy</td>\n",
       "    </tr>\n",
       "    <tr>\n",
       "      <th>1</th>\n",
       "      <td>2</td>\n",
       "      <td>113497</td>\n",
       "      <td>8844.0</td>\n",
       "      <td>Robin Williams, Jonathan Hyde, Kirsten Dunst, ...</td>\n",
       "      <td>USA</td>\n",
       "      <td>Joe Johnston</td>\n",
       "      <td>tt0113497</td>\n",
       "      <td>1995</td>\n",
       "      <td>Jumanji (1995)</td>\n",
       "      <td>Adventure|Children|Fantasy</td>\n",
       "    </tr>\n",
       "    <tr>\n",
       "      <th>2</th>\n",
       "      <td>3</td>\n",
       "      <td>113228</td>\n",
       "      <td>15602.0</td>\n",
       "      <td>Walter Matthau, Jack Lemmon, Sophia Loren, Ann...</td>\n",
       "      <td>USA</td>\n",
       "      <td>Howard Deutch</td>\n",
       "      <td>tt0113228</td>\n",
       "      <td>1995</td>\n",
       "      <td>Grumpier Old Men (1995)</td>\n",
       "      <td>Comedy|Romance</td>\n",
       "    </tr>\n",
       "    <tr>\n",
       "      <th>3</th>\n",
       "      <td>4</td>\n",
       "      <td>114885</td>\n",
       "      <td>31357.0</td>\n",
       "      <td>Whitney Houston, Angela Bassett, Loretta Devin...</td>\n",
       "      <td>USA</td>\n",
       "      <td>Forest Whitaker</td>\n",
       "      <td>tt0114885</td>\n",
       "      <td>1995</td>\n",
       "      <td>Waiting to Exhale (1995)</td>\n",
       "      <td>Comedy|Drama|Romance</td>\n",
       "    </tr>\n",
       "    <tr>\n",
       "      <th>4</th>\n",
       "      <td>5</td>\n",
       "      <td>113041</td>\n",
       "      <td>11862.0</td>\n",
       "      <td>Steve Martin, Diane Keaton, Martin Short, Kimb...</td>\n",
       "      <td>USA</td>\n",
       "      <td>Charles Shyer</td>\n",
       "      <td>tt0113041</td>\n",
       "      <td>1995</td>\n",
       "      <td>Father of the Bride Part II (1995)</td>\n",
       "      <td>Comedy</td>\n",
       "    </tr>\n",
       "  </tbody>\n",
       "</table>\n",
       "</div>"
      ],
      "text/plain": [
       "   movieId  imdbId   tmdbId  \\\n",
       "0        1  114709    862.0   \n",
       "1        2  113497   8844.0   \n",
       "2        3  113228  15602.0   \n",
       "3        4  114885  31357.0   \n",
       "4        5  113041  11862.0   \n",
       "\n",
       "                                              actors country         director  \\\n",
       "0      Tom Hanks, Tim Allen, Don Rickles, Jim Varney     USA    John Lasseter   \n",
       "1  Robin Williams, Jonathan Hyde, Kirsten Dunst, ...     USA     Joe Johnston   \n",
       "2  Walter Matthau, Jack Lemmon, Sophia Loren, Ann...     USA    Howard Deutch   \n",
       "3  Whitney Houston, Angela Bassett, Loretta Devin...     USA  Forest Whitaker   \n",
       "4  Steve Martin, Diane Keaton, Martin Short, Kimb...     USA    Charles Shyer   \n",
       "\n",
       "  req_imdbid  year                               title  \\\n",
       "0  tt0114709  1995                    Toy Story (1995)   \n",
       "1  tt0113497  1995                      Jumanji (1995)   \n",
       "2  tt0113228  1995             Grumpier Old Men (1995)   \n",
       "3  tt0114885  1995            Waiting to Exhale (1995)   \n",
       "4  tt0113041  1995  Father of the Bride Part II (1995)   \n",
       "\n",
       "                                        genres  \n",
       "0  Adventure|Animation|Children|Comedy|Fantasy  \n",
       "1                   Adventure|Children|Fantasy  \n",
       "2                               Comedy|Romance  \n",
       "3                         Comedy|Drama|Romance  \n",
       "4                                       Comedy  "
      ]
     },
     "execution_count": 14,
     "metadata": {},
     "output_type": "execute_result"
    }
   ],
   "source": [
    "mov_with_feat = pd.merge(links,imdb,on='imdbId')\n",
    "mov_with_feat = pd.merge(mov_with_feat,movies,on='movieId')\n",
    "mov_with_feat.head()"
   ]
  },
  {
   "cell_type": "code",
   "execution_count": 15,
   "metadata": {},
   "outputs": [
    {
     "data": {
      "text/plain": [
       "movieId       0\n",
       "imdbId        0\n",
       "tmdbId        8\n",
       "actors        0\n",
       "country       0\n",
       "director      0\n",
       "req_imdbid    0\n",
       "year          0\n",
       "title         0\n",
       "genres        0\n",
       "dtype: int64"
      ]
     },
     "execution_count": 15,
     "metadata": {},
     "output_type": "execute_result"
    }
   ],
   "source": [
    "mov_with_feat.isna().sum()"
   ]
  },
  {
   "cell_type": "code",
   "execution_count": 16,
   "metadata": {},
   "outputs": [],
   "source": [
    "mov_with_feat.fillna('-',inplace=True)"
   ]
  },
  {
   "cell_type": "code",
   "execution_count": 17,
   "metadata": {},
   "outputs": [
    {
     "data": {
      "text/html": [
       "<div>\n",
       "<style scoped>\n",
       "    .dataframe tbody tr th:only-of-type {\n",
       "        vertical-align: middle;\n",
       "    }\n",
       "\n",
       "    .dataframe tbody tr th {\n",
       "        vertical-align: top;\n",
       "    }\n",
       "\n",
       "    .dataframe thead th {\n",
       "        text-align: right;\n",
       "    }\n",
       "</style>\n",
       "<table border=\"1\" class=\"dataframe\">\n",
       "  <thead>\n",
       "    <tr style=\"text-align: right;\">\n",
       "      <th></th>\n",
       "      <th>movieId</th>\n",
       "      <th>imdbId</th>\n",
       "      <th>tmdbId</th>\n",
       "      <th>actors</th>\n",
       "      <th>country</th>\n",
       "      <th>director</th>\n",
       "      <th>req_imdbid</th>\n",
       "      <th>year</th>\n",
       "      <th>title</th>\n",
       "      <th>genres</th>\n",
       "    </tr>\n",
       "  </thead>\n",
       "  <tbody>\n",
       "    <tr>\n",
       "      <th>0</th>\n",
       "      <td>1</td>\n",
       "      <td>114709</td>\n",
       "      <td>862</td>\n",
       "      <td>TomHanks,TimAllen,DonRickles,JimVarney</td>\n",
       "      <td>USA</td>\n",
       "      <td>JohnLasseter</td>\n",
       "      <td>tt0114709</td>\n",
       "      <td>1995</td>\n",
       "      <td>Toy Story (1995)</td>\n",
       "      <td>Adventure,Animation,Children,Comedy,Fantasy</td>\n",
       "    </tr>\n",
       "    <tr>\n",
       "      <th>1</th>\n",
       "      <td>2</td>\n",
       "      <td>113497</td>\n",
       "      <td>8844</td>\n",
       "      <td>RobinWilliams,JonathanHyde,KirstenDunst,Bradle...</td>\n",
       "      <td>USA</td>\n",
       "      <td>JoeJohnston</td>\n",
       "      <td>tt0113497</td>\n",
       "      <td>1995</td>\n",
       "      <td>Jumanji (1995)</td>\n",
       "      <td>Adventure,Children,Fantasy</td>\n",
       "    </tr>\n",
       "    <tr>\n",
       "      <th>2</th>\n",
       "      <td>3</td>\n",
       "      <td>113228</td>\n",
       "      <td>15602</td>\n",
       "      <td>WalterMatthau,JackLemmon,SophiaLoren,Ann-Margret</td>\n",
       "      <td>USA</td>\n",
       "      <td>HowardDeutch</td>\n",
       "      <td>tt0113228</td>\n",
       "      <td>1995</td>\n",
       "      <td>Grumpier Old Men (1995)</td>\n",
       "      <td>Comedy,Romance</td>\n",
       "    </tr>\n",
       "    <tr>\n",
       "      <th>3</th>\n",
       "      <td>4</td>\n",
       "      <td>114885</td>\n",
       "      <td>31357</td>\n",
       "      <td>WhitneyHouston,AngelaBassett,LorettaDevine,Lel...</td>\n",
       "      <td>USA</td>\n",
       "      <td>ForestWhitaker</td>\n",
       "      <td>tt0114885</td>\n",
       "      <td>1995</td>\n",
       "      <td>Waiting to Exhale (1995)</td>\n",
       "      <td>Comedy,Drama,Romance</td>\n",
       "    </tr>\n",
       "    <tr>\n",
       "      <th>4</th>\n",
       "      <td>5</td>\n",
       "      <td>113041</td>\n",
       "      <td>11862</td>\n",
       "      <td>SteveMartin,DianeKeaton,MartinShort,KimberlyWi...</td>\n",
       "      <td>USA</td>\n",
       "      <td>CharlesShyer</td>\n",
       "      <td>tt0113041</td>\n",
       "      <td>1995</td>\n",
       "      <td>Father of the Bride Part II (1995)</td>\n",
       "      <td>Comedy</td>\n",
       "    </tr>\n",
       "  </tbody>\n",
       "</table>\n",
       "</div>"
      ],
      "text/plain": [
       "   movieId  imdbId tmdbId                                             actors  \\\n",
       "0        1  114709    862             TomHanks,TimAllen,DonRickles,JimVarney   \n",
       "1        2  113497   8844  RobinWilliams,JonathanHyde,KirstenDunst,Bradle...   \n",
       "2        3  113228  15602   WalterMatthau,JackLemmon,SophiaLoren,Ann-Margret   \n",
       "3        4  114885  31357  WhitneyHouston,AngelaBassett,LorettaDevine,Lel...   \n",
       "4        5  113041  11862  SteveMartin,DianeKeaton,MartinShort,KimberlyWi...   \n",
       "\n",
       "  country        director req_imdbid  year  \\\n",
       "0     USA    JohnLasseter  tt0114709  1995   \n",
       "1     USA     JoeJohnston  tt0113497  1995   \n",
       "2     USA    HowardDeutch  tt0113228  1995   \n",
       "3     USA  ForestWhitaker  tt0114885  1995   \n",
       "4     USA    CharlesShyer  tt0113041  1995   \n",
       "\n",
       "                                title  \\\n",
       "0                    Toy Story (1995)   \n",
       "1                      Jumanji (1995)   \n",
       "2             Grumpier Old Men (1995)   \n",
       "3            Waiting to Exhale (1995)   \n",
       "4  Father of the Bride Part II (1995)   \n",
       "\n",
       "                                        genres  \n",
       "0  Adventure,Animation,Children,Comedy,Fantasy  \n",
       "1                   Adventure,Children,Fantasy  \n",
       "2                               Comedy,Romance  \n",
       "3                         Comedy,Drama,Romance  \n",
       "4                                       Comedy  "
      ]
     },
     "execution_count": 17,
     "metadata": {},
     "output_type": "execute_result"
    }
   ],
   "source": [
    "mov_with_feat['actors'] = mov_with_feat['actors'].str.replace(' ','')\n",
    "mov_with_feat['genres'] = mov_with_feat['genres'].str.replace('|',',')\n",
    "mov_with_feat['genres'] = mov_with_feat['genres'].str.replace(' ','')\n",
    "mov_with_feat['director'] = mov_with_feat['director'].str.replace(' ','')\n",
    "mov_with_feat['country'] = mov_with_feat['country'].str.replace(' ','')\n",
    "mov_with_feat.head()"
   ]
  },
  {
   "cell_type": "markdown",
   "metadata": {},
   "source": [
    "Armado de tokens:"
   ]
  },
  {
   "cell_type": "code",
   "execution_count": 18,
   "metadata": {},
   "outputs": [
    {
     "name": "stdout",
     "output_type": "stream",
     "text": [
      "['TomHanks,TimAllen,DonRickles,JimVarney,JohnLasseter,USA,Adventure,Animation,Children,Comedy,Fantasy']\n"
     ]
    },
    {
     "data": {
      "text/plain": [
       "[('tt0114709',\n",
       "  ['TomHanks',\n",
       "   'TimAllen',\n",
       "   'DonRickles',\n",
       "   'JimVarney',\n",
       "   'JohnLasseter',\n",
       "   'USA',\n",
       "   'Adventure',\n",
       "   'Animation',\n",
       "   'Children',\n",
       "   'Comedy',\n",
       "   'Fantasy']),\n",
       " ('tt0113497',\n",
       "  ['RobinWilliams',\n",
       "   'JonathanHyde',\n",
       "   'KirstenDunst',\n",
       "   'BradleyPierce',\n",
       "   'JoeJohnston',\n",
       "   'USA',\n",
       "   'Adventure',\n",
       "   'Children',\n",
       "   'Fantasy'])]"
      ]
     },
     "execution_count": 18,
     "metadata": {},
     "output_type": "execute_result"
    }
   ],
   "source": [
    "#df1 = mov_with_feat[['actor1','director1','country1']]\n",
    "df1 = mov_with_feat[['actors','director','country','genres']]\n",
    "df1 = df1.apply(lambda x: ','.join(x.astype(str)), axis=1)\n",
    "df1 = df1.str.replace(' ','')\n",
    "df1 = pd.DataFrame({'clean': df1}) \n",
    "print(df1.iloc[0].values)\n",
    "sent = [row.split(',') for row in df1['clean']]\n",
    "mov_sent = [a for a in zip(imdb['req_imdbid'],sent)]\n",
    "mov_sent[0:2]"
   ]
  },
  {
   "cell_type": "markdown",
   "metadata": {},
   "source": [
    "Entrenar modelo de word2vec de gensim:"
   ]
  },
  {
   "cell_type": "code",
   "execution_count": 19,
   "metadata": {},
   "outputs": [],
   "source": [
    "model = Word2Vec(sent, min_count=1,size= 50,workers=3, window =3, sg = 1)"
   ]
  },
  {
   "cell_type": "code",
   "execution_count": 20,
   "metadata": {},
   "outputs": [
    {
     "data": {
      "text/plain": [
       "array([-0.00530838, -0.00821753, -0.01241069, -0.00390607,  0.02467749,\n",
       "        0.00081867,  0.12036797, -0.00406078, -0.06494071, -0.1071832 ,\n",
       "        0.00553983, -0.04288299, -0.05797353, -0.01357377,  0.05264683,\n",
       "        0.03802342, -0.0108917 , -0.0040256 , -0.06203947, -0.05294405,\n",
       "        0.08883951, -0.16014571, -0.02038274, -0.05808151, -0.08904957,\n",
       "        0.01099537,  0.01851519, -0.07417219,  0.03949223, -0.00190608,\n",
       "       -0.0323001 ,  0.02179354,  0.01100896, -0.0589769 , -0.0895072 ,\n",
       "       -0.00086337,  0.07297938,  0.08725852,  0.00248522,  0.03030696,\n",
       "        0.00627305,  0.01637614,  0.03988529,  0.04127919, -0.10453401,\n",
       "        0.05467838, -0.02688392,  0.00482532, -0.02741257, -0.00327732],\n",
       "      dtype=float32)"
      ]
     },
     "execution_count": 20,
     "metadata": {},
     "output_type": "execute_result"
    }
   ],
   "source": [
    "#Representation for director John Lasseter\n",
    "model.wv['JohnLasseter']"
   ]
  },
  {
   "cell_type": "code",
   "execution_count": 21,
   "metadata": {},
   "outputs": [
    {
     "data": {
      "text/plain": [
       "0.5196904062463137"
      ]
     },
     "execution_count": 21,
     "metadata": {},
     "output_type": "execute_result"
    }
   ],
   "source": [
    "#Get similarity\n",
    "model.wv.similarity('TomHanks', 'USA')"
   ]
  },
  {
   "cell_type": "code",
   "execution_count": 22,
   "metadata": {},
   "outputs": [
    {
     "data": {
      "text/plain": [
       "0.8929011892125337"
      ]
     },
     "execution_count": 22,
     "metadata": {},
     "output_type": "execute_result"
    }
   ],
   "source": [
    "model.wv.similarity('JohnnyDepp','TimBurton')"
   ]
  },
  {
   "cell_type": "code",
   "execution_count": 23,
   "metadata": {},
   "outputs": [
    {
     "data": {
      "text/plain": [
       "0.9708765284791"
      ]
     },
     "execution_count": 23,
     "metadata": {},
     "output_type": "execute_result"
    }
   ],
   "source": [
    "model.wv.similarity('Action','USA')"
   ]
  },
  {
   "cell_type": "code",
   "execution_count": 24,
   "metadata": {},
   "outputs": [
    {
     "data": {
      "text/plain": [
       "0.9092230750871284"
      ]
     },
     "execution_count": 24,
     "metadata": {},
     "output_type": "execute_result"
    }
   ],
   "source": [
    "model.wv.similarity('Children','Comedy')"
   ]
  },
  {
   "cell_type": "code",
   "execution_count": 25,
   "metadata": {},
   "outputs": [
    {
     "data": {
      "text/plain": [
       "0.971513454660109"
      ]
     },
     "execution_count": 25,
     "metadata": {},
     "output_type": "execute_result"
    }
   ],
   "source": [
    "model.wv.similarity('Action','Adventure')"
   ]
  },
  {
   "cell_type": "code",
   "execution_count": 26,
   "metadata": {},
   "outputs": [
    {
     "data": {
      "text/plain": [
       "array([ 0.37382078, -0.56967914,  0.12922356, -0.0240774 ,  0.43953124,\n",
       "        0.14738359,  0.65133375,  0.00728319,  0.0576599 , -1.0973365 ,\n",
       "       -0.2244763 , -0.6371443 , -0.65482706, -0.12907426, -0.14620261,\n",
       "        0.28750563, -0.01033304,  0.7774263 , -0.9040231 , -0.36122504,\n",
       "        0.2721634 , -1.1640457 , -0.26613644,  0.14863424, -0.3163089 ,\n",
       "        1.0896744 , -0.31850117,  0.5150338 , -0.3330369 , -0.08649182,\n",
       "        0.08062632, -0.240044  ,  0.7171102 , -0.10483798, -0.34158668,\n",
       "       -0.7336749 , -0.214322  ,  0.17189251,  0.1103375 ,  0.18603888,\n",
       "       -0.0085896 ,  0.14359958,  0.40312493,  0.71055615, -0.46122903,\n",
       "        0.16732833, -0.39912406,  0.32370317,  0.25611362, -0.07388034],\n",
       "      dtype=float32)"
      ]
     },
     "execution_count": 26,
     "metadata": {},
     "output_type": "execute_result"
    }
   ],
   "source": [
    "model.wv['Adventure']"
   ]
  },
  {
   "cell_type": "code",
   "execution_count": 27,
   "metadata": {},
   "outputs": [
    {
     "data": {
      "text/plain": [
       "array([ 0.01119771, -0.04540184, -0.00468265,  0.00206574,  0.06557903,\n",
       "        0.01310313,  0.23003586, -0.04145144, -0.10902765, -0.20110203,\n",
       "        0.02183666, -0.11288605, -0.12378885, -0.01901232,  0.05343007,\n",
       "        0.0819945 , -0.00415863,  0.02138261, -0.13259575, -0.11114521,\n",
       "        0.13746491, -0.29116663, -0.01068106, -0.0631005 , -0.15588225,\n",
       "        0.04977215,  0.02221074, -0.11577576,  0.04281944,  0.03510855,\n",
       "       -0.06990065,  0.02522622,  0.04540444, -0.07618127, -0.14356816,\n",
       "       -0.03932277,  0.1387692 ,  0.16024189,  0.05033239,  0.01416309,\n",
       "       -0.01042143,  0.03254402,  0.06467213,  0.07598737, -0.18424535,\n",
       "        0.0997132 , -0.03457621,  0.01311972, -0.03643058, -0.03747056],\n",
       "      dtype=float32)"
      ]
     },
     "execution_count": 27,
     "metadata": {},
     "output_type": "execute_result"
    }
   ],
   "source": [
    "model.wv['(nogenreslisted)']"
   ]
  },
  {
   "cell_type": "code",
   "execution_count": 28,
   "metadata": {},
   "outputs": [
    {
     "data": {
      "text/html": [
       "<div>\n",
       "<style scoped>\n",
       "    .dataframe tbody tr th:only-of-type {\n",
       "        vertical-align: middle;\n",
       "    }\n",
       "\n",
       "    .dataframe tbody tr th {\n",
       "        vertical-align: top;\n",
       "    }\n",
       "\n",
       "    .dataframe thead th {\n",
       "        text-align: right;\n",
       "    }\n",
       "</style>\n",
       "<table border=\"1\" class=\"dataframe\">\n",
       "  <thead>\n",
       "    <tr style=\"text-align: right;\">\n",
       "      <th></th>\n",
       "      <th>actors</th>\n",
       "      <th>country</th>\n",
       "      <th>director</th>\n",
       "      <th>req_imdbid</th>\n",
       "      <th>year</th>\n",
       "      <th>imdbId</th>\n",
       "    </tr>\n",
       "  </thead>\n",
       "  <tbody>\n",
       "    <tr>\n",
       "      <th>0</th>\n",
       "      <td>Tom Hanks, Tim Allen, Don Rickles, Jim Varney</td>\n",
       "      <td>USA</td>\n",
       "      <td>John Lasseter</td>\n",
       "      <td>tt0114709</td>\n",
       "      <td>1995</td>\n",
       "      <td>114709</td>\n",
       "    </tr>\n",
       "    <tr>\n",
       "      <th>1</th>\n",
       "      <td>Robin Williams, Jonathan Hyde, Kirsten Dunst, ...</td>\n",
       "      <td>USA</td>\n",
       "      <td>Joe Johnston</td>\n",
       "      <td>tt0113497</td>\n",
       "      <td>1995</td>\n",
       "      <td>113497</td>\n",
       "    </tr>\n",
       "    <tr>\n",
       "      <th>2</th>\n",
       "      <td>Walter Matthau, Jack Lemmon, Sophia Loren, Ann...</td>\n",
       "      <td>USA</td>\n",
       "      <td>Howard Deutch</td>\n",
       "      <td>tt0113228</td>\n",
       "      <td>1995</td>\n",
       "      <td>113228</td>\n",
       "    </tr>\n",
       "    <tr>\n",
       "      <th>3</th>\n",
       "      <td>Whitney Houston, Angela Bassett, Loretta Devin...</td>\n",
       "      <td>USA</td>\n",
       "      <td>Forest Whitaker</td>\n",
       "      <td>tt0114885</td>\n",
       "      <td>1995</td>\n",
       "      <td>114885</td>\n",
       "    </tr>\n",
       "    <tr>\n",
       "      <th>4</th>\n",
       "      <td>Steve Martin, Diane Keaton, Martin Short, Kimb...</td>\n",
       "      <td>USA</td>\n",
       "      <td>Charles Shyer</td>\n",
       "      <td>tt0113041</td>\n",
       "      <td>1995</td>\n",
       "      <td>113041</td>\n",
       "    </tr>\n",
       "  </tbody>\n",
       "</table>\n",
       "</div>"
      ],
      "text/plain": [
       "                                              actors country         director  \\\n",
       "0      Tom Hanks, Tim Allen, Don Rickles, Jim Varney     USA    John Lasseter   \n",
       "1  Robin Williams, Jonathan Hyde, Kirsten Dunst, ...     USA     Joe Johnston   \n",
       "2  Walter Matthau, Jack Lemmon, Sophia Loren, Ann...     USA    Howard Deutch   \n",
       "3  Whitney Houston, Angela Bassett, Loretta Devin...     USA  Forest Whitaker   \n",
       "4  Steve Martin, Diane Keaton, Martin Short, Kimb...     USA    Charles Shyer   \n",
       "\n",
       "  req_imdbid  year  imdbId  \n",
       "0  tt0114709  1995  114709  \n",
       "1  tt0113497  1995  113497  \n",
       "2  tt0113228  1995  113228  \n",
       "3  tt0114885  1995  114885  \n",
       "4  tt0113041  1995  113041  "
      ]
     },
     "execution_count": 28,
     "metadata": {},
     "output_type": "execute_result"
    }
   ],
   "source": [
    "imdb.head()"
   ]
  },
  {
   "cell_type": "code",
   "execution_count": 29,
   "metadata": {},
   "outputs": [
    {
     "data": {
      "text/plain": [
       "actors        object\n",
       "country       object\n",
       "director      object\n",
       "req_imdbid    object\n",
       "year          object\n",
       "imdbId         int64\n",
       "dtype: object"
      ]
     },
     "execution_count": 29,
     "metadata": {},
     "output_type": "execute_result"
    }
   ],
   "source": [
    "imdb.dtypes"
   ]
  },
  {
   "cell_type": "code",
   "execution_count": 30,
   "metadata": {},
   "outputs": [],
   "source": [
    "def rep_col(text):\n",
    "    #print(text)\n",
    "    rep = []\n",
    "    for item in text.split(','):\n",
    "        rep.append(model.wv[item])\n",
    "    return np.concatenate(rep,axis=0)"
   ]
  },
  {
   "cell_type": "code",
   "execution_count": 31,
   "metadata": {},
   "outputs": [],
   "source": [
    "def items_rep(item_lst):\n",
    "    a=0\n",
    "    for item in item_lst:\n",
    "        a+=model.wv[item]\n",
    "    a/=len(item_lst)\n",
    "    return a\n",
    "\n"
   ]
  },
  {
   "cell_type": "code",
   "execution_count": 32,
   "metadata": {},
   "outputs": [
    {
     "data": {
      "text/html": [
       "<div>\n",
       "<style scoped>\n",
       "    .dataframe tbody tr th:only-of-type {\n",
       "        vertical-align: middle;\n",
       "    }\n",
       "\n",
       "    .dataframe tbody tr th {\n",
       "        vertical-align: top;\n",
       "    }\n",
       "\n",
       "    .dataframe thead th {\n",
       "        text-align: right;\n",
       "    }\n",
       "</style>\n",
       "<table border=\"1\" class=\"dataframe\">\n",
       "  <thead>\n",
       "    <tr style=\"text-align: right;\">\n",
       "      <th></th>\n",
       "      <th>movieId</th>\n",
       "      <th>imdbId</th>\n",
       "      <th>tmdbId</th>\n",
       "      <th>actors</th>\n",
       "      <th>country</th>\n",
       "      <th>director</th>\n",
       "      <th>req_imdbid</th>\n",
       "      <th>year</th>\n",
       "      <th>title</th>\n",
       "      <th>genres</th>\n",
       "      <th>actors_rep</th>\n",
       "      <th>director_rep</th>\n",
       "      <th>country_rep</th>\n",
       "      <th>genres_rep</th>\n",
       "    </tr>\n",
       "  </thead>\n",
       "  <tbody>\n",
       "    <tr>\n",
       "      <th>0</th>\n",
       "      <td>1</td>\n",
       "      <td>114709</td>\n",
       "      <td>862</td>\n",
       "      <td>TomHanks,TimAllen,DonRickles,JimVarney</td>\n",
       "      <td>USA</td>\n",
       "      <td>JohnLasseter</td>\n",
       "      <td>tt0114709</td>\n",
       "      <td>1995</td>\n",
       "      <td>Toy Story (1995)</td>\n",
       "      <td>Adventure,Animation,Children,Comedy,Fantasy</td>\n",
       "      <td>[-0.012516696, -0.016406087, -0.015700508, 0.0...</td>\n",
       "      <td>[-0.0053083794, -0.00821753, -0.012410687, -0....</td>\n",
       "      <td>[0.27281365, -0.8571311, 0.22393864, -0.194021...</td>\n",
       "      <td>[0.35758302, -0.55831045, 0.10758762, 0.036733...</td>\n",
       "    </tr>\n",
       "    <tr>\n",
       "      <th>1</th>\n",
       "      <td>2</td>\n",
       "      <td>113497</td>\n",
       "      <td>8844</td>\n",
       "      <td>RobinWilliams,JonathanHyde,KirstenDunst,Bradle...</td>\n",
       "      <td>USA</td>\n",
       "      <td>JoeJohnston</td>\n",
       "      <td>tt0113497</td>\n",
       "      <td>1995</td>\n",
       "      <td>Jumanji (1995)</td>\n",
       "      <td>Adventure,Children,Fantasy</td>\n",
       "      <td>[-0.0071320916, -0.015461, -0.009175457, 0.001...</td>\n",
       "      <td>[0.017497657, -0.015911492, -0.0024551374, 0.0...</td>\n",
       "      <td>[0.27281365, -0.8571311, 0.22393864, -0.194021...</td>\n",
       "      <td>[0.36124364, -0.53867704, 0.09701236, 0.052505...</td>\n",
       "    </tr>\n",
       "    <tr>\n",
       "      <th>2</th>\n",
       "      <td>3</td>\n",
       "      <td>113228</td>\n",
       "      <td>15602</td>\n",
       "      <td>WalterMatthau,JackLemmon,SophiaLoren,Ann-Margret</td>\n",
       "      <td>USA</td>\n",
       "      <td>HowardDeutch</td>\n",
       "      <td>tt0113228</td>\n",
       "      <td>1995</td>\n",
       "      <td>Grumpier Old Men (1995)</td>\n",
       "      <td>Comedy,Romance</td>\n",
       "      <td>[-0.012997238, -0.0101928115, -0.015151955, 0....</td>\n",
       "      <td>[0.004719363, -0.026426474, -0.0106845265, 0.0...</td>\n",
       "      <td>[0.27281365, -0.8571311, 0.22393864, -0.194021...</td>\n",
       "      <td>[0.28334972, -0.6019492, 0.016440647, -0.05251...</td>\n",
       "    </tr>\n",
       "    <tr>\n",
       "      <th>3</th>\n",
       "      <td>4</td>\n",
       "      <td>114885</td>\n",
       "      <td>31357</td>\n",
       "      <td>WhitneyHouston,AngelaBassett,LorettaDevine,Lel...</td>\n",
       "      <td>USA</td>\n",
       "      <td>ForestWhitaker</td>\n",
       "      <td>tt0114885</td>\n",
       "      <td>1995</td>\n",
       "      <td>Waiting to Exhale (1995)</td>\n",
       "      <td>Comedy,Drama,Romance</td>\n",
       "      <td>[-0.009106173, -0.010243561, -0.007373129, 0.0...</td>\n",
       "      <td>[-0.013581269, -0.030414926, -0.0047316803, -0...</td>\n",
       "      <td>[0.27281365, -0.8571311, 0.22393864, -0.194021...</td>\n",
       "      <td>[0.26314408, -0.6409857, 0.039903723, -0.07393...</td>\n",
       "    </tr>\n",
       "    <tr>\n",
       "      <th>4</th>\n",
       "      <td>5</td>\n",
       "      <td>113041</td>\n",
       "      <td>11862</td>\n",
       "      <td>SteveMartin,DianeKeaton,MartinShort,KimberlyWi...</td>\n",
       "      <td>USA</td>\n",
       "      <td>CharlesShyer</td>\n",
       "      <td>tt0113041</td>\n",
       "      <td>1995</td>\n",
       "      <td>Father of the Bride Part II (1995)</td>\n",
       "      <td>Comedy</td>\n",
       "      <td>[-0.014934219, -0.024522327, -0.010537192, -0....</td>\n",
       "      <td>[-0.0062812464, -0.011112935, -0.012702396, 0....</td>\n",
       "      <td>[0.27281365, -0.8571311, 0.22393864, -0.194021...</td>\n",
       "      <td>[0.36966288, -0.68920994, 0.04608947, -0.01302...</td>\n",
       "    </tr>\n",
       "  </tbody>\n",
       "</table>\n",
       "</div>"
      ],
      "text/plain": [
       "   movieId  imdbId tmdbId                                             actors  \\\n",
       "0        1  114709    862             TomHanks,TimAllen,DonRickles,JimVarney   \n",
       "1        2  113497   8844  RobinWilliams,JonathanHyde,KirstenDunst,Bradle...   \n",
       "2        3  113228  15602   WalterMatthau,JackLemmon,SophiaLoren,Ann-Margret   \n",
       "3        4  114885  31357  WhitneyHouston,AngelaBassett,LorettaDevine,Lel...   \n",
       "4        5  113041  11862  SteveMartin,DianeKeaton,MartinShort,KimberlyWi...   \n",
       "\n",
       "  country        director req_imdbid  year  \\\n",
       "0     USA    JohnLasseter  tt0114709  1995   \n",
       "1     USA     JoeJohnston  tt0113497  1995   \n",
       "2     USA    HowardDeutch  tt0113228  1995   \n",
       "3     USA  ForestWhitaker  tt0114885  1995   \n",
       "4     USA    CharlesShyer  tt0113041  1995   \n",
       "\n",
       "                                title  \\\n",
       "0                    Toy Story (1995)   \n",
       "1                      Jumanji (1995)   \n",
       "2             Grumpier Old Men (1995)   \n",
       "3            Waiting to Exhale (1995)   \n",
       "4  Father of the Bride Part II (1995)   \n",
       "\n",
       "                                        genres  \\\n",
       "0  Adventure,Animation,Children,Comedy,Fantasy   \n",
       "1                   Adventure,Children,Fantasy   \n",
       "2                               Comedy,Romance   \n",
       "3                         Comedy,Drama,Romance   \n",
       "4                                       Comedy   \n",
       "\n",
       "                                          actors_rep  \\\n",
       "0  [-0.012516696, -0.016406087, -0.015700508, 0.0...   \n",
       "1  [-0.0071320916, -0.015461, -0.009175457, 0.001...   \n",
       "2  [-0.012997238, -0.0101928115, -0.015151955, 0....   \n",
       "3  [-0.009106173, -0.010243561, -0.007373129, 0.0...   \n",
       "4  [-0.014934219, -0.024522327, -0.010537192, -0....   \n",
       "\n",
       "                                        director_rep  \\\n",
       "0  [-0.0053083794, -0.00821753, -0.012410687, -0....   \n",
       "1  [0.017497657, -0.015911492, -0.0024551374, 0.0...   \n",
       "2  [0.004719363, -0.026426474, -0.0106845265, 0.0...   \n",
       "3  [-0.013581269, -0.030414926, -0.0047316803, -0...   \n",
       "4  [-0.0062812464, -0.011112935, -0.012702396, 0....   \n",
       "\n",
       "                                         country_rep  \\\n",
       "0  [0.27281365, -0.8571311, 0.22393864, -0.194021...   \n",
       "1  [0.27281365, -0.8571311, 0.22393864, -0.194021...   \n",
       "2  [0.27281365, -0.8571311, 0.22393864, -0.194021...   \n",
       "3  [0.27281365, -0.8571311, 0.22393864, -0.194021...   \n",
       "4  [0.27281365, -0.8571311, 0.22393864, -0.194021...   \n",
       "\n",
       "                                          genres_rep  \n",
       "0  [0.35758302, -0.55831045, 0.10758762, 0.036733...  \n",
       "1  [0.36124364, -0.53867704, 0.09701236, 0.052505...  \n",
       "2  [0.28334972, -0.6019492, 0.016440647, -0.05251...  \n",
       "3  [0.26314408, -0.6409857, 0.039903723, -0.07393...  \n",
       "4  [0.36966288, -0.68920994, 0.04608947, -0.01302...  "
      ]
     },
     "execution_count": 32,
     "metadata": {},
     "output_type": "execute_result"
    }
   ],
   "source": [
    "mov_with_feat['actors_rep'] = mov_with_feat['actors'].apply(lambda x:x.split(',')).apply(items_rep)\n",
    "mov_with_feat['director_rep'] = mov_with_feat['director'].apply(lambda x:x.split(',')).apply(items_rep)\n",
    "mov_with_feat['country_rep'] = mov_with_feat['country'].apply(lambda x:x.split(',')).apply(items_rep)\n",
    "mov_with_feat['genres_rep'] = mov_with_feat['genres'].apply(lambda x:x.split(',')).apply(items_rep)\n",
    "mov_with_feat.head()"
   ]
  },
  {
   "cell_type": "code",
   "execution_count": 33,
   "metadata": {},
   "outputs": [],
   "source": [
    "# mov_with_feat['actors_rep'][0]"
   ]
  },
  {
   "cell_type": "code",
   "execution_count": 34,
   "metadata": {},
   "outputs": [],
   "source": [
    "# mov_with_feat['director_rep'][0]"
   ]
  },
  {
   "cell_type": "code",
   "execution_count": 35,
   "metadata": {},
   "outputs": [],
   "source": [
    "# mov_with_feat['country_rep'][0]"
   ]
  },
  {
   "cell_type": "code",
   "execution_count": 36,
   "metadata": {},
   "outputs": [],
   "source": [
    "# np.concatenate([mov_with_feat['actors_rep'][0],mov_with_feat['director_rep'][0],mov_with_feat['country_rep'][0]],axis=0)"
   ]
  },
  {
   "cell_type": "code",
   "execution_count": 37,
   "metadata": {},
   "outputs": [],
   "source": [
    "mov_with_feat['all_feat']=mov_with_feat.apply(lambda x: np.concatenate([x['actors_rep'],x['director_rep'],x['country_rep'],x['genres_rep']],axis=0),axis=1)"
   ]
  },
  {
   "cell_type": "code",
   "execution_count": 38,
   "metadata": {},
   "outputs": [
    {
     "data": {
      "text/html": [
       "<div>\n",
       "<style scoped>\n",
       "    .dataframe tbody tr th:only-of-type {\n",
       "        vertical-align: middle;\n",
       "    }\n",
       "\n",
       "    .dataframe tbody tr th {\n",
       "        vertical-align: top;\n",
       "    }\n",
       "\n",
       "    .dataframe thead th {\n",
       "        text-align: right;\n",
       "    }\n",
       "</style>\n",
       "<table border=\"1\" class=\"dataframe\">\n",
       "  <thead>\n",
       "    <tr style=\"text-align: right;\">\n",
       "      <th></th>\n",
       "      <th>movieId</th>\n",
       "      <th>all_feat</th>\n",
       "    </tr>\n",
       "  </thead>\n",
       "  <tbody>\n",
       "    <tr>\n",
       "      <th>0</th>\n",
       "      <td>1</td>\n",
       "      <td>[-0.012516696, -0.016406087, -0.015700508, 0.0...</td>\n",
       "    </tr>\n",
       "    <tr>\n",
       "      <th>1</th>\n",
       "      <td>2</td>\n",
       "      <td>[-0.0071320916, -0.015461, -0.009175457, 0.001...</td>\n",
       "    </tr>\n",
       "    <tr>\n",
       "      <th>2</th>\n",
       "      <td>3</td>\n",
       "      <td>[-0.012997238, -0.0101928115, -0.015151955, 0....</td>\n",
       "    </tr>\n",
       "    <tr>\n",
       "      <th>3</th>\n",
       "      <td>4</td>\n",
       "      <td>[-0.009106173, -0.010243561, -0.007373129, 0.0...</td>\n",
       "    </tr>\n",
       "    <tr>\n",
       "      <th>4</th>\n",
       "      <td>5</td>\n",
       "      <td>[-0.014934219, -0.024522327, -0.010537192, -0....</td>\n",
       "    </tr>\n",
       "  </tbody>\n",
       "</table>\n",
       "</div>"
      ],
      "text/plain": [
       "   movieId                                           all_feat\n",
       "0        1  [-0.012516696, -0.016406087, -0.015700508, 0.0...\n",
       "1        2  [-0.0071320916, -0.015461, -0.009175457, 0.001...\n",
       "2        3  [-0.012997238, -0.0101928115, -0.015151955, 0....\n",
       "3        4  [-0.009106173, -0.010243561, -0.007373129, 0.0...\n",
       "4        5  [-0.014934219, -0.024522327, -0.010537192, -0...."
      ]
     },
     "execution_count": 38,
     "metadata": {},
     "output_type": "execute_result"
    }
   ],
   "source": [
    "mov_with_feat[['movieId','all_feat']].head()"
   ]
  },
  {
   "cell_type": "code",
   "execution_count": 39,
   "metadata": {},
   "outputs": [
    {
     "data": {
      "text/plain": [
       "(9742, 200)"
      ]
     },
     "execution_count": 39,
     "metadata": {},
     "output_type": "execute_result"
    }
   ],
   "source": [
    "a = mov_with_feat['all_feat'][0].reshape(1,-1)\n",
    "for mov_feat in mov_with_feat['all_feat'][1:]:\n",
    "    b = mov_feat.reshape(1,-1)\n",
    "    a = np.concatenate([a,b])\n",
    "\n",
    "a.shape"
   ]
  },
  {
   "cell_type": "code",
   "execution_count": 40,
   "metadata": {},
   "outputs": [],
   "source": [
    "#temp_actor = rep_col(imdb['actors'][0])\n",
    "#print(np.concatenate(temp_actor,axis=0))\n",
    "#temp_director = rep_col(imdb['director'][0])\n",
    "#temp_country = rep_col(imdb['country'][0])\n",
    "#a = np.concatenate(temp_actor,axis=0)\n",
    "##np.concatenate([temp_actor,temp_director,temp_country],axis=1)\n",
    "#np.concatenate(temp_director,axis=0)"
   ]
  },
  {
   "cell_type": "code",
   "execution_count": 41,
   "metadata": {},
   "outputs": [],
   "source": [
    "#def get_movie_features(fila):\n",
    "#    temp_actor = rep_col(fila['actors'])\n",
    "#    a = np.concatenate(temp_actor,axis=0)\n",
    "#    temp_director = rep_col(fila['director'])\n",
    "#    b = np.concatenate(temp_director,axis=0)\n",
    "#    temp_country = rep_col(fila['country'])\n",
    "#    c = np.concatenate(temp_country,axis=0)\n",
    "#    feat_lst = [a,b,c]\n",
    "#    return np.concatenate(feat_lst)\n",
    "#get_movie_features(imdb.iloc[0])\n",
    "\n",
    "#imdb['actors'].apply(rep_col)"
   ]
  },
  {
   "cell_type": "code",
   "execution_count": 42,
   "metadata": {
    "scrolled": true
   },
   "outputs": [],
   "source": [
    "# imdb['feat_str'] = imdb['actor1'] + ', ' + imdb['director1'] + ', ' + imdb['country1']\n",
    "# imdb['feat_str'] = imdb['feat_str'].str.replace(' ','')\n",
    "# imdb.head()"
   ]
  },
  {
   "cell_type": "code",
   "execution_count": 43,
   "metadata": {
    "scrolled": true
   },
   "outputs": [],
   "source": [
    "# imdb['feat_str'][0]"
   ]
  },
  {
   "cell_type": "code",
   "execution_count": 44,
   "metadata": {},
   "outputs": [],
   "source": [
    "# imdb['movie_feat'] = imdb['feat_str'].apply(rep_col)\n",
    "# imdb.head(5)"
   ]
  },
  {
   "cell_type": "code",
   "execution_count": null,
   "metadata": {},
   "outputs": [],
   "source": []
  },
  {
   "cell_type": "code",
   "execution_count": 45,
   "metadata": {},
   "outputs": [],
   "source": [
    "# mov_with_feat['genres'] = mov_with_feat['genres'].str.replace('|',',')\n",
    "# mov_with_feat['feat_str'] = mov_with_feat['actor1'] + ', ' + mov_with_feat['director1'] + ', ' + mov_with_feat['country1'] #+ ', ' + mov_with_feat['genres']  \n",
    "# mov_with_feat['feat_str'] = mov_with_feat['feat_str'].str.replace(' ','')\n",
    "# mov_with_feat.head()"
   ]
  },
  {
   "cell_type": "code",
   "execution_count": 46,
   "metadata": {},
   "outputs": [],
   "source": [
    "# mov_with_feat['features'] = mov_with_feat['feat_str'].apply(rep_col)\n",
    "# mov_with_feat[['movieId','features']].head()"
   ]
  },
  {
   "cell_type": "code",
   "execution_count": 47,
   "metadata": {},
   "outputs": [],
   "source": [
    "# a = mov_with_feat['features'][0].reshape(1,-1)\n",
    "# for mov_feat in mov_with_feat['features'][1:]:\n",
    "#     b = mov_feat.reshape(1,-1)\n",
    "#     a = np.concatenate([a,b])\n",
    "\n",
    "# a.shape"
   ]
  },
  {
   "cell_type": "code",
   "execution_count": 48,
   "metadata": {},
   "outputs": [],
   "source": [
    "# np.median(a)"
   ]
  },
  {
   "cell_type": "code",
   "execution_count": 49,
   "metadata": {},
   "outputs": [],
   "source": [
    "# np.mean(a)"
   ]
  },
  {
   "cell_type": "code",
   "execution_count": 50,
   "metadata": {},
   "outputs": [],
   "source": [
    "# lista = [sublista.split('|') for sublista in movies['genres']]\n",
    "# genres = sorted(set([item for s in lista for item in s]))\n",
    "# dummies = pd.DataFrame(np.zeros((len(movies), len(genres)), dtype=int), columns=genres)\n",
    "# for i, gen in enumerate(movies['genres']):\n",
    "#     dummies.loc[i, gen.split('|')] = 0.2\n",
    "# dummies.values"
   ]
  },
  {
   "cell_type": "code",
   "execution_count": 51,
   "metadata": {},
   "outputs": [],
   "source": [
    "# dummies.shape"
   ]
  },
  {
   "cell_type": "markdown",
   "metadata": {},
   "source": [
    "## 4. Obtención de peliculas similares"
   ]
  },
  {
   "cell_type": "code",
   "execution_count": 52,
   "metadata": {},
   "outputs": [
    {
     "data": {
      "text/plain": [
       "array([[0.9999999 , 0.99860054, 0.9863323 , ..., 0.9622292 , 0.9402538 ,\n",
       "        0.98196155],\n",
       "       [0.99860054, 1.        , 0.98280084, ..., 0.9569641 , 0.9364108 ,\n",
       "        0.97915727],\n",
       "       [0.9863323 , 0.98280084, 1.        , ..., 0.9870677 , 0.9173041 ,\n",
       "        0.99051946],\n",
       "       [0.9770453 , 0.9719447 , 0.99257326, ..., 0.99360794, 0.91474533,\n",
       "        0.9849532 ],\n",
       "       [0.9866722 , 0.9812299 , 0.9949675 , ..., 0.9869387 , 0.94054   ,\n",
       "        0.99644995]], dtype=float32)"
      ]
     },
     "execution_count": 52,
     "metadata": {},
     "output_type": "execute_result"
    }
   ],
   "source": [
    "from sklearn.metrics.pairwise import cosine_similarity\n",
    "\n",
    "#movie_features = np.concatenate([a,dummies],axis=1)\n",
    "movie_features = a\n",
    "cosine_sim = cosine_similarity(movie_features,dense_output=True)\n",
    "cosine_sim[0:5]"
   ]
  },
  {
   "cell_type": "code",
   "execution_count": 53,
   "metadata": {},
   "outputs": [],
   "source": [
    "# movies.loc[movies['movieId'] == 1,'title'].values[0]"
   ]
  },
  {
   "cell_type": "code",
   "execution_count": 54,
   "metadata": {},
   "outputs": [],
   "source": [
    "results = {}\n",
    "\n",
    "for idx, row in movies.iterrows():\n",
    "    similar_indices = cosine_sim[idx].argsort()[:-100:-1]\n",
    "    similar_items = [(cosine_sim[idx][i], movies['movieId'][i]) for i in similar_indices]\n",
    "    results[row['movieId']] = similar_items[1:]"
   ]
  },
  {
   "cell_type": "markdown",
   "metadata": {},
   "source": [
    "## 5. Recomendar películas similares a una película en particular"
   ]
  },
  {
   "cell_type": "code",
   "execution_count": 55,
   "metadata": {},
   "outputs": [],
   "source": [
    "def item(mid):\n",
    "    return movies.loc[movies['movieId'] == mid]['title'].tolist()[0].split(' - ')[0]\n",
    "\n",
    "def recommend_movie(item_id, num):\n",
    "    print(\"Recomendando \" + str(num) + \" productos similares a \" + item(item_id) + \"...\")\n",
    "    print(\"-------\")\n",
    "    recs = results[item_id][:num]\n",
    "    for rec in recs:\n",
    "        print(\"Recomendado: \" + item(rec[1]) + \" (score:\" + str(rec[0]) + \")\")\n",
    "        \n",
    "#Ingresando el ID de la película y el número de recomendaciones devuelve los títulos mejor posisionados"
   ]
  },
  {
   "cell_type": "code",
   "execution_count": 56,
   "metadata": {
    "scrolled": true
   },
   "outputs": [
    {
     "name": "stdout",
     "output_type": "stream",
     "text": [
      "Recomendando 10 productos similares a Toy Story (1995)...\n",
      "-------\n",
      "Recomendado: Monsters, Inc. (2001) (score:0.99969095)\n",
      "Recomendado: Ice Age 2: The Meltdown (2006) (score:0.99962115)\n",
      "Recomendado: Antz (1998) (score:0.99962026)\n",
      "Recomendado: Madagascar (2005) (score:0.99959767)\n",
      "Recomendado: Horton Hears a Who! (2008) (score:0.9995464)\n",
      "Recomendado: Toy Story 2 (1999) (score:0.99940795)\n",
      "Recomendado: The Boss Baby (2017) (score:0.99940354)\n",
      "Recomendado: Minions (2015) (score:0.99939156)\n",
      "Recomendado: Emperor's New Groove, The (2000) (score:0.99938977)\n",
      "Recomendado: Cool World (1992) (score:0.99925184)\n"
     ]
    }
   ],
   "source": [
    "recommend_movie(1,10)"
   ]
  },
  {
   "cell_type": "code",
   "execution_count": 57,
   "metadata": {},
   "outputs": [
    {
     "name": "stdout",
     "output_type": "stream",
     "text": [
      "Recomendando 10 productos similares a Mission: Impossible (1996)...\n",
      "-------\n",
      "Recomendado: Death Proof (2007) (score:0.99957335)\n",
      "Recomendado: Blade Runner (1982) (score:0.99951583)\n",
      "Recomendado: Island, The (2005) (score:0.9993232)\n",
      "Recomendado: Alien³ (a.k.a. Alien 3) (1992) (score:0.99929833)\n",
      "Recomendado: Thing, The (1982) (score:0.9991589)\n",
      "Recomendado: One, The (2001) (score:0.9990476)\n",
      "Recomendado: Matrix, The (1999) (score:0.99904716)\n",
      "Recomendado: Carrie (1976) (score:0.9990454)\n",
      "Recomendado: Saint, The (1997) (score:0.9989708)\n",
      "Recomendado: End of Days (1999) (score:0.9989693)\n"
     ]
    }
   ],
   "source": [
    "recommend_movie(648,10)"
   ]
  },
  {
   "cell_type": "code",
   "execution_count": 58,
   "metadata": {},
   "outputs": [
    {
     "name": "stdout",
     "output_type": "stream",
     "text": [
      "Recomendando 10 productos similares a 20 Dates (1998)...\n",
      "-------\n",
      "Recomendado: Lola Versus (2012) (score:0.99990004)\n",
      "Recomendado: Drive Me Crazy (1999) (score:0.9998944)\n",
      "Recomendado: Lovesick (2014) (score:0.9998915)\n",
      "Recomendado: Two Night Stand (2014) (score:0.9998842)\n",
      "Recomendado: Kissing Jessica Stein (2001) (score:0.9998736)\n",
      "Recomendado: Outsourced (2006) (score:0.9998688)\n",
      "Recomendado: Allnighter, The (1987) (score:0.99986404)\n",
      "Recomendado: Amy's O (a.k.a. Amy's Orgasm) (2001) (score:0.9998479)\n",
      "Recomendado: Lost & Found (1999) (score:0.99983966)\n",
      "Recomendado: Play the Game (2009) (score:0.9998366)\n"
     ]
    }
   ],
   "source": [
    "recommend_movie(2492,10)"
   ]
  },
  {
   "cell_type": "code",
   "execution_count": 59,
   "metadata": {},
   "outputs": [],
   "source": [
    "# imdb['actors'].apply(lambda x: len(x.split(','))).unique()"
   ]
  },
  {
   "cell_type": "code",
   "execution_count": null,
   "metadata": {},
   "outputs": [],
   "source": []
  },
  {
   "cell_type": "markdown",
   "metadata": {},
   "source": [
    "### Lista de películas vistas por usuario"
   ]
  },
  {
   "cell_type": "code",
   "execution_count": 60,
   "metadata": {},
   "outputs": [
    {
     "data": {
      "text/html": [
       "<div>\n",
       "<style scoped>\n",
       "    .dataframe tbody tr th:only-of-type {\n",
       "        vertical-align: middle;\n",
       "    }\n",
       "\n",
       "    .dataframe tbody tr th {\n",
       "        vertical-align: top;\n",
       "    }\n",
       "\n",
       "    .dataframe thead th {\n",
       "        text-align: right;\n",
       "    }\n",
       "</style>\n",
       "<table border=\"1\" class=\"dataframe\">\n",
       "  <thead>\n",
       "    <tr style=\"text-align: right;\">\n",
       "      <th></th>\n",
       "      <th>movieId</th>\n",
       "    </tr>\n",
       "    <tr>\n",
       "      <th>userId</th>\n",
       "      <th></th>\n",
       "    </tr>\n",
       "  </thead>\n",
       "  <tbody>\n",
       "    <tr>\n",
       "      <th>1</th>\n",
       "      <td>[804, 1210, 2628, 2826, 2018, 3578, 3617, 3744...</td>\n",
       "    </tr>\n",
       "    <tr>\n",
       "      <th>2</th>\n",
       "      <td>[318, 79132, 131724, 115713, 99114, 112552, 35...</td>\n",
       "    </tr>\n",
       "    <tr>\n",
       "      <th>3</th>\n",
       "      <td>[1275, 2105, 1371, 914, 1263, 2080, 31, 720, 3...</td>\n",
       "    </tr>\n",
       "    <tr>\n",
       "      <th>4</th>\n",
       "      <td>[171, 902, 2351, 417, 1304, 2959, 2712, 162, 5...</td>\n",
       "    </tr>\n",
       "    <tr>\n",
       "      <th>5</th>\n",
       "      <td>[590, 592, 150, 380, 296, 457, 588, 153, 344, ...</td>\n",
       "    </tr>\n",
       "  </tbody>\n",
       "</table>\n",
       "</div>"
      ],
      "text/plain": [
       "                                                  movieId\n",
       "userId                                                   \n",
       "1       [804, 1210, 2628, 2826, 2018, 3578, 3617, 3744...\n",
       "2       [318, 79132, 131724, 115713, 99114, 112552, 35...\n",
       "3       [1275, 2105, 1371, 914, 1263, 2080, 31, 720, 3...\n",
       "4       [171, 902, 2351, 417, 1304, 2959, 2712, 162, 5...\n",
       "5       [590, 592, 150, 380, 296, 457, 588, 153, 344, ..."
      ]
     },
     "execution_count": 60,
     "metadata": {},
     "output_type": "execute_result"
    }
   ],
   "source": [
    "ratings_sorted = ratings.sort_values(by='timestamp')\n",
    "movies_by_user = pd.DataFrame(ratings_sorted.groupby('userId')['movieId'].apply(list))\n",
    "movies_by_user.head()"
   ]
  },
  {
   "cell_type": "markdown",
   "metadata": {},
   "source": [
    "Para cada usuario me quedo con la última película que vio:"
   ]
  },
  {
   "cell_type": "code",
   "execution_count": 61,
   "metadata": {},
   "outputs": [
    {
     "data": {
      "text/plain": [
       "2492"
      ]
     },
     "execution_count": 61,
     "metadata": {},
     "output_type": "execute_result"
    }
   ],
   "source": [
    "movies_by_user['movieId'][1][-1]"
   ]
  },
  {
   "cell_type": "code",
   "execution_count": 71,
   "metadata": {},
   "outputs": [
    {
     "data": {
      "text/plain": [
       "[(1445, \"McHale's Navy (1997)\"),\n",
       " (553, 'Tombstone (1993)'),\n",
       " (2478, '¡Three Amigos! (1986)'),\n",
       " (2012, 'Back to the Future Part III (1990)'),\n",
       " (2492, '20 Dates (1998)')]"
      ]
     },
     "execution_count": 71,
     "metadata": {},
     "output_type": "execute_result"
    }
   ],
   "source": [
    "def get_user_views(uid,num):\n",
    "    movies_ids = movies_by_user.loc[uid]['movieId'][-num:]\n",
    "    titles = []\n",
    "    for mid in movies_ids:\n",
    "        titles.append((mid,movies.loc[movies['movieId']==mid,'title'].values[0]))\n",
    "    return titles\n",
    "get_user_views(1,5)"
   ]
  },
  {
   "cell_type": "code",
   "execution_count": 64,
   "metadata": {},
   "outputs": [
    {
     "data": {
      "text/plain": [
       "[2478, 2012, 2492]"
      ]
     },
     "execution_count": 64,
     "metadata": {},
     "output_type": "execute_result"
    }
   ],
   "source": [
    "movies_by_user.loc[1]['movieId'][-3:]"
   ]
  },
  {
   "cell_type": "code",
   "execution_count": 59,
   "metadata": {},
   "outputs": [
    {
     "data": {
      "text/html": [
       "<div>\n",
       "<style scoped>\n",
       "    .dataframe tbody tr th:only-of-type {\n",
       "        vertical-align: middle;\n",
       "    }\n",
       "\n",
       "    .dataframe tbody tr th {\n",
       "        vertical-align: top;\n",
       "    }\n",
       "\n",
       "    .dataframe thead th {\n",
       "        text-align: right;\n",
       "    }\n",
       "</style>\n",
       "<table border=\"1\" class=\"dataframe\">\n",
       "  <thead>\n",
       "    <tr style=\"text-align: right;\">\n",
       "      <th></th>\n",
       "      <th>movieId</th>\n",
       "      <th>last_watched</th>\n",
       "    </tr>\n",
       "    <tr>\n",
       "      <th>userId</th>\n",
       "      <th></th>\n",
       "      <th></th>\n",
       "    </tr>\n",
       "  </thead>\n",
       "  <tbody>\n",
       "    <tr>\n",
       "      <th>1</th>\n",
       "      <td>[804, 1210, 2628, 2826, 2018, 3578, 3617, 3744...</td>\n",
       "      <td>2492</td>\n",
       "    </tr>\n",
       "    <tr>\n",
       "      <th>2</th>\n",
       "      <td>[318, 79132, 131724, 115713, 99114, 112552, 35...</td>\n",
       "      <td>80489</td>\n",
       "    </tr>\n",
       "    <tr>\n",
       "      <th>3</th>\n",
       "      <td>[1275, 2105, 1371, 914, 1263, 2080, 31, 720, 3...</td>\n",
       "      <td>2424</td>\n",
       "    </tr>\n",
       "    <tr>\n",
       "      <th>4</th>\n",
       "      <td>[171, 902, 2351, 417, 1304, 2959, 2712, 162, 5...</td>\n",
       "      <td>4246</td>\n",
       "    </tr>\n",
       "    <tr>\n",
       "      <th>5</th>\n",
       "      <td>[590, 592, 150, 380, 296, 457, 588, 153, 344, ...</td>\n",
       "      <td>474</td>\n",
       "    </tr>\n",
       "  </tbody>\n",
       "</table>\n",
       "</div>"
      ],
      "text/plain": [
       "                                                  movieId  last_watched\n",
       "userId                                                                 \n",
       "1       [804, 1210, 2628, 2826, 2018, 3578, 3617, 3744...          2492\n",
       "2       [318, 79132, 131724, 115713, 99114, 112552, 35...         80489\n",
       "3       [1275, 2105, 1371, 914, 1263, 2080, 31, 720, 3...          2424\n",
       "4       [171, 902, 2351, 417, 1304, 2959, 2712, 162, 5...          4246\n",
       "5       [590, 592, 150, 380, 296, 457, 588, 153, 344, ...           474"
      ]
     },
     "execution_count": 59,
     "metadata": {},
     "output_type": "execute_result"
    }
   ],
   "source": [
    "movies_by_user['last_watched'] = movies_by_user['movieId'].apply(lambda x: x[-1])\n",
    "movies_by_user.head()"
   ]
  },
  {
   "cell_type": "markdown",
   "metadata": {},
   "source": [
    "Y le recomiendo las 10 películas más parecidas a esa, sin recomendarle alguna que ya vio:"
   ]
  },
  {
   "cell_type": "code",
   "execution_count": 60,
   "metadata": {},
   "outputs": [],
   "source": [
    "def user_recommendation(uid=1,num=1):\n",
    "    last_watched_id = movies_by_user.loc[uid]['last_watched']\n",
    "    movies_watched = movies_by_user.loc[uid]['movieId']\n",
    "    recommendation = results[last_watched_id]#[:num]\n",
    "    i=0\n",
    "    j=0\n",
    "    recs=[]\n",
    "    while i<num:\n",
    "        if recommendation[j][1] not in movies_watched:\n",
    "            recs.append(recommendation[j])\n",
    "            j+=1\n",
    "            i+=1\n",
    "        else:\n",
    "            j+=1\n",
    "    \n",
    "    #print(\"Recomendando \" + str(num) + \" productos similares a \" + item(last_watched_id) + \"...\")\n",
    "    print(\"Porque ya viste \" + item(last_watched_id) + \"...\")\n",
    "    print(\"-------\")\n",
    "    for rec in recs:\n",
    "        #print(\"Recomendado: \" + str(rec[1]) + ' ' + item(rec[1]) + \" (score:\" + str(rec[0]) + \")\")\n",
    "        print(\"Recomendado: \" + item(rec[1]) + \" (score:\" + str(rec[0]) + \")\")\n",
    "    #return recommendation"
   ]
  },
  {
   "cell_type": "code",
   "execution_count": 61,
   "metadata": {
    "scrolled": false
   },
   "outputs": [
    {
     "name": "stdout",
     "output_type": "stream",
     "text": [
      "Porque ya viste Hellraiser (1987)...\n",
      "-------\n",
      "Recomendado: Hellbound: Hellraiser II (1988) (score:0.99960595)\n",
      "Recomendado: The Plague of the Zombies (1966) (score:0.9994568)\n",
      "Recomendado: Horror of Dracula (Dracula) (1958) (score:0.998719)\n",
      "Recomendado: Awakening, The (1980) (score:0.9984838)\n",
      "Recomendado: Curse of Frankenstein, The (1957) (score:0.9983713)\n",
      "Recomendado: Mummy, The (1959) (score:0.9983321)\n",
      "Recomendado: Black Mirror: White Christmas (2014) (score:0.9973811)\n",
      "Recomendado: Legend of Hell House, The (1973) (score:0.99707943)\n",
      "Recomendado: The Hound of the Baskervilles (1988) (score:0.9970715)\n",
      "Recomendado: The Deadly Bees (1967) (score:0.9966915)\n"
     ]
    }
   ],
   "source": [
    "uid=610\n",
    "num=10\n",
    "user_recommendation(uid,num)"
   ]
  },
  {
   "cell_type": "code",
   "execution_count": 62,
   "metadata": {},
   "outputs": [
    {
     "name": "stdout",
     "output_type": "stream",
     "text": [
      "Porque ya viste 20 Dates (1998)...\n",
      "-------\n",
      "Recomendado: The Escort (2015) (score:0.99990624)\n",
      "Recomendado: Outsourced (2006) (score:0.9999056)\n",
      "Recomendado: Lola Versus (2012) (score:0.99989456)\n",
      "Recomendado: How to Make Love to a Woman (2010) (score:0.9998936)\n",
      "Recomendado: It Happened on Fifth Avenue (1947) (score:0.9998914)\n",
      "Recomendado: Mischief (1985) (score:0.9998781)\n",
      "Recomendado: Play the Game (2009) (score:0.9998723)\n",
      "Recomendado: Nina Takes a Lover (1994) (score:0.99985975)\n",
      "Recomendado: Sex Ed (2014) (score:0.9998594)\n",
      "Recomendado: Lost & Found (1999) (score:0.99985415)\n"
     ]
    }
   ],
   "source": [
    "uid=1\n",
    "num=10\n",
    "user_recommendation(uid,num)"
   ]
  },
  {
   "cell_type": "code",
   "execution_count": 63,
   "metadata": {},
   "outputs": [
    {
     "name": "stdout",
     "output_type": "stream",
     "text": [
      "Porque ya viste Finding Dory (2016)...\n",
      "-------\n",
      "Recomendado: Planes (2013) (score:0.9998964)\n",
      "Recomendado: ParaNorman (2012) (score:0.9997401)\n",
      "Recomendado: Dragons: Gift of the Night Fury (2011) (score:0.99951994)\n",
      "Recomendado: Cars 3 (2017) (score:0.9994921)\n",
      "Recomendado: Planes: Fire & Rescue (2014) (score:0.9993984)\n",
      "Recomendado: Puss in Boots: The Three Diablos (2012) (score:0.99934965)\n",
      "Recomendado: Wreck-It Ralph (2012) (score:0.9992212)\n",
      "Recomendado: Ice Age 4: Continental Drift (2012) (score:0.99920255)\n",
      "Recomendado: Black Knight (2001) (score:0.99919)\n",
      "Recomendado: Alvin and the Chipmunks: Chipwrecked (2011) (score:0.99895793)\n"
     ]
    }
   ],
   "source": [
    "uid=154\n",
    "num=10\n",
    "user_recommendation(uid,num)"
   ]
  },
  {
   "cell_type": "code",
   "execution_count": 64,
   "metadata": {},
   "outputs": [],
   "source": [
    "# sorted(movies_by_user.loc[uid]['movieId'])"
   ]
  },
  {
   "cell_type": "markdown",
   "metadata": {},
   "source": [
    "User Random Recommendation (tomo una pelicula random que vio, y le recomiendo otras):"
   ]
  },
  {
   "cell_type": "code",
   "execution_count": 66,
   "metadata": {},
   "outputs": [],
   "source": [
    "import random\n",
    "\n",
    "def user_rand_recommendation(uid=1,num=1):\n",
    "    movies_watched = movies_by_user.loc[uid]['movieId']\n",
    "    rand_watched_id = random.choice(movies_watched)\n",
    "    recommendation = results[rand_watched_id]#[:num]\n",
    "    i=0\n",
    "    j=0\n",
    "    recs=[]\n",
    "    while i<num:\n",
    "        if recommendation[j][1] not in movies_watched:\n",
    "            recs.append(recommendation[j])\n",
    "            j+=1\n",
    "            i+=1\n",
    "        else:\n",
    "            j+=1\n",
    "    \n",
    "    #print(\"Recomendando \" + str(num) + \" productos similares a \" + item(last_watched_id) + \"...\")\n",
    "    print(\"Porque ya viste \" + item(rand_watched_id) + \"...\")\n",
    "    print(\"-------\")\n",
    "    for rec in recs:\n",
    "        #print(\"Recomendado: \" + str(rec[1]) + ' ' + item(rec[1]) + \" (score:\" + str(rec[0]) + \")\")\n",
    "        print(\"Recomendado: \" + item(rec[1]) + \" (score:\" + str(rec[0]) + \")\")\n",
    "    #return recommendation"
   ]
  },
  {
   "cell_type": "code",
   "execution_count": 72,
   "metadata": {
    "scrolled": false
   },
   "outputs": [
    {
     "name": "stdout",
     "output_type": "stream",
     "text": [
      "Porque ya viste Field in England, A (2013)...\n",
      "-------\n",
      "Recomendado: Paperhouse (1988) (score:0.99751496)\n",
      "Recomendado: I Know Where I'm Going! (1945) (score:0.9970697)\n",
      "Recomendado: Dam Busters, The (1955) (score:0.9967695)\n",
      "Recomendado: Dorian Gray (2009) (score:0.9967139)\n",
      "Recomendado: Red Shoes, The (1948) (score:0.9967045)\n",
      "Recomendado: Henry V (1989) (score:0.9964687)\n",
      "Recomendado: Pink Floyd: The Wall (1982) (score:0.99643403)\n",
      "Recomendado: Abominable Snowman, The (Abominable Snowman of the Himalayas, The) (1957) (score:0.9963002)\n",
      "Recomendado: Road to Guantanamo, The (2006) (score:0.9960692)\n",
      "Recomendado: Edge of Love, The (2008) (score:0.99591374)\n"
     ]
    }
   ],
   "source": [
    "uid=610\n",
    "num=10\n",
    "user_rand_recommendation(uid,num)"
   ]
  },
  {
   "cell_type": "code",
   "execution_count": 73,
   "metadata": {},
   "outputs": [
    {
     "name": "stdout",
     "output_type": "stream",
     "text": [
      "Porque ya viste That Thing You Do! (1996)...\n",
      "-------\n",
      "Recomendado: Unstrung Heroes (1995) (score:0.9993211)\n",
      "Recomendado: The Disaster Artist (2017) (score:0.99873585)\n",
      "Recomendado: Bronx Tale, A (1993) (score:0.9984861)\n",
      "Recomendado: Pollock (2000) (score:0.9983051)\n",
      "Recomendado: Antwone Fisher (2002) (score:0.9982897)\n",
      "Recomendado: Man Without a Face, The (1993) (score:0.9982252)\n",
      "Recomendado: Larry Crowne (2011) (score:0.9981845)\n",
      "Recomendado: Mr. Saturday Night (1992) (score:0.99787503)\n",
      "Recomendado: Sling Blade (1996) (score:0.9971619)\n",
      "Recomendado: Rocky Balboa (2006) (score:0.9971091)\n"
     ]
    }
   ],
   "source": [
    "uid=1\n",
    "num=10\n",
    "user_rand_recommendation(uid,num)"
   ]
  },
  {
   "cell_type": "code",
   "execution_count": 74,
   "metadata": {},
   "outputs": [
    {
     "name": "stdout",
     "output_type": "stream",
     "text": [
      "Porque ya viste Finding Dory (2016)...\n",
      "-------\n",
      "Recomendado: Planes (2013) (score:0.9998964)\n",
      "Recomendado: ParaNorman (2012) (score:0.9997401)\n",
      "Recomendado: Dragons: Gift of the Night Fury (2011) (score:0.99951994)\n",
      "Recomendado: Cars 3 (2017) (score:0.9994921)\n",
      "Recomendado: Planes: Fire & Rescue (2014) (score:0.9993984)\n",
      "Recomendado: Puss in Boots: The Three Diablos (2012) (score:0.99934965)\n",
      "Recomendado: Wreck-It Ralph (2012) (score:0.9992212)\n",
      "Recomendado: Ice Age 4: Continental Drift (2012) (score:0.99920255)\n",
      "Recomendado: Black Knight (2001) (score:0.99919)\n",
      "Recomendado: Alvin and the Chipmunks: Chipwrecked (2011) (score:0.99895793)\n"
     ]
    }
   ],
   "source": [
    "uid=154\n",
    "num=10\n",
    "user_rand_recommendation(uid,num)"
   ]
  },
  {
   "cell_type": "code",
   "execution_count": null,
   "metadata": {},
   "outputs": [],
   "source": []
  }
 ],
 "metadata": {
  "kernelspec": {
   "display_name": "Python 3",
   "language": "python",
   "name": "python3"
  },
  "language_info": {
   "codemirror_mode": {
    "name": "ipython",
    "version": 3
   },
   "file_extension": ".py",
   "mimetype": "text/x-python",
   "name": "python",
   "nbconvert_exporter": "python",
   "pygments_lexer": "ipython3",
   "version": "3.7.3"
  }
 },
 "nbformat": 4,
 "nbformat_minor": 2
}
