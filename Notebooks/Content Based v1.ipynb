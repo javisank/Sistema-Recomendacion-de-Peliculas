{
 "cells": [
  {
   "cell_type": "markdown",
   "metadata": {},
   "source": [
    "## 1. Importar librerías"
   ]
  },
  {
   "cell_type": "code",
   "execution_count": 1,
   "metadata": {},
   "outputs": [
    {
     "name": "stderr",
     "output_type": "stream",
     "text": [
      "C:\\Users\\JAVI\\Miniconda3\\envs\\dhds\\lib\\site-packages\\gensim\\utils.py:1197: UserWarning: detected Windows; aliasing chunkize to chunkize_serial\n",
      "  warnings.warn(\"detected Windows; aliasing chunkize to chunkize_serial\")\n"
     ]
    }
   ],
   "source": [
    "import pandas as pd\n",
    "import numpy as np\n",
    "import matplotlib.pyplot as pltd\n",
    "import seaborn as sns\n",
    "\n",
    "from gensim.models import Word2Vec"
   ]
  },
  {
   "cell_type": "markdown",
   "metadata": {},
   "source": [
    "## 2. Cargar datos"
   ]
  },
  {
   "cell_type": "code",
   "execution_count": 2,
   "metadata": {},
   "outputs": [],
   "source": [
    "movies=pd.read_csv('../Data/movies.csv')\n",
    "ratings=pd.read_csv('../Data/ratings.csv')\n",
    "links=pd.read_csv('../Data/links.csv')\n",
    "tags=pd.read_csv('../Data/tags.csv')\n",
    "imdb=pd.read_csv('../Data/tab_imdb_info.csv',index_col=0)"
   ]
  },
  {
   "cell_type": "code",
   "execution_count": 3,
   "metadata": {},
   "outputs": [
    {
     "data": {
      "text/html": [
       "<div>\n",
       "<style scoped>\n",
       "    .dataframe tbody tr th:only-of-type {\n",
       "        vertical-align: middle;\n",
       "    }\n",
       "\n",
       "    .dataframe tbody tr th {\n",
       "        vertical-align: top;\n",
       "    }\n",
       "\n",
       "    .dataframe thead th {\n",
       "        text-align: right;\n",
       "    }\n",
       "</style>\n",
       "<table border=\"1\" class=\"dataframe\">\n",
       "  <thead>\n",
       "    <tr style=\"text-align: right;\">\n",
       "      <th></th>\n",
       "      <th>movieId</th>\n",
       "      <th>title</th>\n",
       "      <th>genres</th>\n",
       "    </tr>\n",
       "  </thead>\n",
       "  <tbody>\n",
       "    <tr>\n",
       "      <th>0</th>\n",
       "      <td>1</td>\n",
       "      <td>Toy Story (1995)</td>\n",
       "      <td>Adventure|Animation|Children|Comedy|Fantasy</td>\n",
       "    </tr>\n",
       "    <tr>\n",
       "      <th>1</th>\n",
       "      <td>2</td>\n",
       "      <td>Jumanji (1995)</td>\n",
       "      <td>Adventure|Children|Fantasy</td>\n",
       "    </tr>\n",
       "    <tr>\n",
       "      <th>2</th>\n",
       "      <td>3</td>\n",
       "      <td>Grumpier Old Men (1995)</td>\n",
       "      <td>Comedy|Romance</td>\n",
       "    </tr>\n",
       "    <tr>\n",
       "      <th>3</th>\n",
       "      <td>4</td>\n",
       "      <td>Waiting to Exhale (1995)</td>\n",
       "      <td>Comedy|Drama|Romance</td>\n",
       "    </tr>\n",
       "    <tr>\n",
       "      <th>4</th>\n",
       "      <td>5</td>\n",
       "      <td>Father of the Bride Part II (1995)</td>\n",
       "      <td>Comedy</td>\n",
       "    </tr>\n",
       "  </tbody>\n",
       "</table>\n",
       "</div>"
      ],
      "text/plain": [
       "   movieId                               title  \\\n",
       "0        1                    Toy Story (1995)   \n",
       "1        2                      Jumanji (1995)   \n",
       "2        3             Grumpier Old Men (1995)   \n",
       "3        4            Waiting to Exhale (1995)   \n",
       "4        5  Father of the Bride Part II (1995)   \n",
       "\n",
       "                                        genres  \n",
       "0  Adventure|Animation|Children|Comedy|Fantasy  \n",
       "1                   Adventure|Children|Fantasy  \n",
       "2                               Comedy|Romance  \n",
       "3                         Comedy|Drama|Romance  \n",
       "4                                       Comedy  "
      ]
     },
     "execution_count": 3,
     "metadata": {},
     "output_type": "execute_result"
    }
   ],
   "source": [
    "movies.head()"
   ]
  },
  {
   "cell_type": "code",
   "execution_count": 4,
   "metadata": {},
   "outputs": [
    {
     "data": {
      "text/html": [
       "<div>\n",
       "<style scoped>\n",
       "    .dataframe tbody tr th:only-of-type {\n",
       "        vertical-align: middle;\n",
       "    }\n",
       "\n",
       "    .dataframe tbody tr th {\n",
       "        vertical-align: top;\n",
       "    }\n",
       "\n",
       "    .dataframe thead th {\n",
       "        text-align: right;\n",
       "    }\n",
       "</style>\n",
       "<table border=\"1\" class=\"dataframe\">\n",
       "  <thead>\n",
       "    <tr style=\"text-align: right;\">\n",
       "      <th></th>\n",
       "      <th>movieId</th>\n",
       "      <th>imdbId</th>\n",
       "      <th>tmdbId</th>\n",
       "    </tr>\n",
       "  </thead>\n",
       "  <tbody>\n",
       "    <tr>\n",
       "      <th>0</th>\n",
       "      <td>1</td>\n",
       "      <td>114709</td>\n",
       "      <td>862.0</td>\n",
       "    </tr>\n",
       "    <tr>\n",
       "      <th>1</th>\n",
       "      <td>2</td>\n",
       "      <td>113497</td>\n",
       "      <td>8844.0</td>\n",
       "    </tr>\n",
       "    <tr>\n",
       "      <th>2</th>\n",
       "      <td>3</td>\n",
       "      <td>113228</td>\n",
       "      <td>15602.0</td>\n",
       "    </tr>\n",
       "    <tr>\n",
       "      <th>3</th>\n",
       "      <td>4</td>\n",
       "      <td>114885</td>\n",
       "      <td>31357.0</td>\n",
       "    </tr>\n",
       "    <tr>\n",
       "      <th>4</th>\n",
       "      <td>5</td>\n",
       "      <td>113041</td>\n",
       "      <td>11862.0</td>\n",
       "    </tr>\n",
       "  </tbody>\n",
       "</table>\n",
       "</div>"
      ],
      "text/plain": [
       "   movieId  imdbId   tmdbId\n",
       "0        1  114709    862.0\n",
       "1        2  113497   8844.0\n",
       "2        3  113228  15602.0\n",
       "3        4  114885  31357.0\n",
       "4        5  113041  11862.0"
      ]
     },
     "execution_count": 4,
     "metadata": {},
     "output_type": "execute_result"
    }
   ],
   "source": [
    "links.head()"
   ]
  },
  {
   "cell_type": "code",
   "execution_count": 5,
   "metadata": {},
   "outputs": [
    {
     "data": {
      "text/plain": [
       "movieId      int64\n",
       "imdbId       int64\n",
       "tmdbId     float64\n",
       "dtype: object"
      ]
     },
     "execution_count": 5,
     "metadata": {},
     "output_type": "execute_result"
    }
   ],
   "source": [
    "links.dtypes"
   ]
  },
  {
   "cell_type": "code",
   "execution_count": 6,
   "metadata": {
    "scrolled": true
   },
   "outputs": [
    {
     "data": {
      "text/html": [
       "<div>\n",
       "<style scoped>\n",
       "    .dataframe tbody tr th:only-of-type {\n",
       "        vertical-align: middle;\n",
       "    }\n",
       "\n",
       "    .dataframe tbody tr th {\n",
       "        vertical-align: top;\n",
       "    }\n",
       "\n",
       "    .dataframe thead th {\n",
       "        text-align: right;\n",
       "    }\n",
       "</style>\n",
       "<table border=\"1\" class=\"dataframe\">\n",
       "  <thead>\n",
       "    <tr style=\"text-align: right;\">\n",
       "      <th></th>\n",
       "      <th>actors</th>\n",
       "      <th>country</th>\n",
       "      <th>director</th>\n",
       "      <th>req_imdbid</th>\n",
       "      <th>year</th>\n",
       "    </tr>\n",
       "  </thead>\n",
       "  <tbody>\n",
       "    <tr>\n",
       "      <th>0</th>\n",
       "      <td>Tom Hanks, Tim Allen, Don Rickles, Jim Varney</td>\n",
       "      <td>USA</td>\n",
       "      <td>John Lasseter</td>\n",
       "      <td>tt0114709</td>\n",
       "      <td>1995</td>\n",
       "    </tr>\n",
       "    <tr>\n",
       "      <th>1</th>\n",
       "      <td>Robin Williams, Jonathan Hyde, Kirsten Dunst, ...</td>\n",
       "      <td>USA</td>\n",
       "      <td>Joe Johnston</td>\n",
       "      <td>tt0113497</td>\n",
       "      <td>1995</td>\n",
       "    </tr>\n",
       "    <tr>\n",
       "      <th>2</th>\n",
       "      <td>Walter Matthau, Jack Lemmon, Sophia Loren, Ann...</td>\n",
       "      <td>USA</td>\n",
       "      <td>Howard Deutch</td>\n",
       "      <td>tt0113228</td>\n",
       "      <td>1995</td>\n",
       "    </tr>\n",
       "    <tr>\n",
       "      <th>3</th>\n",
       "      <td>Whitney Houston, Angela Bassett, Loretta Devin...</td>\n",
       "      <td>USA</td>\n",
       "      <td>Forest Whitaker</td>\n",
       "      <td>tt0114885</td>\n",
       "      <td>1995</td>\n",
       "    </tr>\n",
       "    <tr>\n",
       "      <th>4</th>\n",
       "      <td>Steve Martin, Diane Keaton, Martin Short, Kimb...</td>\n",
       "      <td>USA</td>\n",
       "      <td>Charles Shyer</td>\n",
       "      <td>tt0113041</td>\n",
       "      <td>1995</td>\n",
       "    </tr>\n",
       "  </tbody>\n",
       "</table>\n",
       "</div>"
      ],
      "text/plain": [
       "                                              actors country         director  \\\n",
       "0      Tom Hanks, Tim Allen, Don Rickles, Jim Varney     USA    John Lasseter   \n",
       "1  Robin Williams, Jonathan Hyde, Kirsten Dunst, ...     USA     Joe Johnston   \n",
       "2  Walter Matthau, Jack Lemmon, Sophia Loren, Ann...     USA    Howard Deutch   \n",
       "3  Whitney Houston, Angela Bassett, Loretta Devin...     USA  Forest Whitaker   \n",
       "4  Steve Martin, Diane Keaton, Martin Short, Kimb...     USA    Charles Shyer   \n",
       "\n",
       "  req_imdbid  year  \n",
       "0  tt0114709  1995  \n",
       "1  tt0113497  1995  \n",
       "2  tt0113228  1995  \n",
       "3  tt0114885  1995  \n",
       "4  tt0113041  1995  "
      ]
     },
     "execution_count": 6,
     "metadata": {},
     "output_type": "execute_result"
    }
   ],
   "source": [
    "imdb.head()"
   ]
  },
  {
   "cell_type": "code",
   "execution_count": 7,
   "metadata": {},
   "outputs": [
    {
     "data": {
      "text/html": [
       "<div>\n",
       "<style scoped>\n",
       "    .dataframe tbody tr th:only-of-type {\n",
       "        vertical-align: middle;\n",
       "    }\n",
       "\n",
       "    .dataframe tbody tr th {\n",
       "        vertical-align: top;\n",
       "    }\n",
       "\n",
       "    .dataframe thead th {\n",
       "        text-align: right;\n",
       "    }\n",
       "</style>\n",
       "<table border=\"1\" class=\"dataframe\">\n",
       "  <thead>\n",
       "    <tr style=\"text-align: right;\">\n",
       "      <th></th>\n",
       "      <th>actors</th>\n",
       "      <th>country</th>\n",
       "      <th>director</th>\n",
       "      <th>req_imdbid</th>\n",
       "      <th>year</th>\n",
       "    </tr>\n",
       "  </thead>\n",
       "  <tbody>\n",
       "    <tr>\n",
       "      <th>0</th>\n",
       "      <td>Tom Hanks, Tim Allen, Don Rickles, Jim Varney</td>\n",
       "      <td>USA</td>\n",
       "      <td>John Lasseter</td>\n",
       "      <td>tt0114709</td>\n",
       "      <td>1995</td>\n",
       "    </tr>\n",
       "    <tr>\n",
       "      <th>1</th>\n",
       "      <td>Robin Williams, Jonathan Hyde, Kirsten Dunst, ...</td>\n",
       "      <td>USA</td>\n",
       "      <td>Joe Johnston</td>\n",
       "      <td>tt0113497</td>\n",
       "      <td>1995</td>\n",
       "    </tr>\n",
       "    <tr>\n",
       "      <th>2</th>\n",
       "      <td>Walter Matthau, Jack Lemmon, Sophia Loren, Ann...</td>\n",
       "      <td>USA</td>\n",
       "      <td>Howard Deutch</td>\n",
       "      <td>tt0113228</td>\n",
       "      <td>1995</td>\n",
       "    </tr>\n",
       "    <tr>\n",
       "      <th>3</th>\n",
       "      <td>Whitney Houston, Angela Bassett, Loretta Devin...</td>\n",
       "      <td>USA</td>\n",
       "      <td>Forest Whitaker</td>\n",
       "      <td>tt0114885</td>\n",
       "      <td>1995</td>\n",
       "    </tr>\n",
       "    <tr>\n",
       "      <th>4</th>\n",
       "      <td>Steve Martin, Diane Keaton, Martin Short, Kimb...</td>\n",
       "      <td>USA</td>\n",
       "      <td>Charles Shyer</td>\n",
       "      <td>tt0113041</td>\n",
       "      <td>1995</td>\n",
       "    </tr>\n",
       "  </tbody>\n",
       "</table>\n",
       "</div>"
      ],
      "text/plain": [
       "                                              actors country         director  \\\n",
       "0      Tom Hanks, Tim Allen, Don Rickles, Jim Varney     USA    John Lasseter   \n",
       "1  Robin Williams, Jonathan Hyde, Kirsten Dunst, ...     USA     Joe Johnston   \n",
       "2  Walter Matthau, Jack Lemmon, Sophia Loren, Ann...     USA    Howard Deutch   \n",
       "3  Whitney Houston, Angela Bassett, Loretta Devin...     USA  Forest Whitaker   \n",
       "4  Steve Martin, Diane Keaton, Martin Short, Kimb...     USA    Charles Shyer   \n",
       "\n",
       "  req_imdbid  year  \n",
       "0  tt0114709  1995  \n",
       "1  tt0113497  1995  \n",
       "2  tt0113228  1995  \n",
       "3  tt0114885  1995  \n",
       "4  tt0113041  1995  "
      ]
     },
     "execution_count": 7,
     "metadata": {},
     "output_type": "execute_result"
    }
   ],
   "source": [
    "imdb.head()"
   ]
  },
  {
   "cell_type": "markdown",
   "metadata": {},
   "source": [
    "## 3. Feature Extraction"
   ]
  },
  {
   "cell_type": "markdown",
   "metadata": {},
   "source": [
    "Corregir id's de imdb:"
   ]
  },
  {
   "cell_type": "code",
   "execution_count": 8,
   "metadata": {},
   "outputs": [],
   "source": [
    "imdb['imdbId']=imdb['req_imdbid'].apply(lambda x: x[2:]).astype('int64')"
   ]
  },
  {
   "cell_type": "code",
   "execution_count": 9,
   "metadata": {
    "scrolled": true
   },
   "outputs": [
    {
     "data": {
      "text/html": [
       "<div>\n",
       "<style scoped>\n",
       "    .dataframe tbody tr th:only-of-type {\n",
       "        vertical-align: middle;\n",
       "    }\n",
       "\n",
       "    .dataframe tbody tr th {\n",
       "        vertical-align: top;\n",
       "    }\n",
       "\n",
       "    .dataframe thead th {\n",
       "        text-align: right;\n",
       "    }\n",
       "</style>\n",
       "<table border=\"1\" class=\"dataframe\">\n",
       "  <thead>\n",
       "    <tr style=\"text-align: right;\">\n",
       "      <th></th>\n",
       "      <th>movieId</th>\n",
       "      <th>imdbId</th>\n",
       "      <th>tmdbId</th>\n",
       "      <th>title</th>\n",
       "      <th>genres</th>\n",
       "    </tr>\n",
       "  </thead>\n",
       "  <tbody>\n",
       "    <tr>\n",
       "      <th>0</th>\n",
       "      <td>1</td>\n",
       "      <td>114709</td>\n",
       "      <td>862.0</td>\n",
       "      <td>Toy Story (1995)</td>\n",
       "      <td>Adventure|Animation|Children|Comedy|Fantasy</td>\n",
       "    </tr>\n",
       "    <tr>\n",
       "      <th>1</th>\n",
       "      <td>2</td>\n",
       "      <td>113497</td>\n",
       "      <td>8844.0</td>\n",
       "      <td>Jumanji (1995)</td>\n",
       "      <td>Adventure|Children|Fantasy</td>\n",
       "    </tr>\n",
       "    <tr>\n",
       "      <th>2</th>\n",
       "      <td>3</td>\n",
       "      <td>113228</td>\n",
       "      <td>15602.0</td>\n",
       "      <td>Grumpier Old Men (1995)</td>\n",
       "      <td>Comedy|Romance</td>\n",
       "    </tr>\n",
       "    <tr>\n",
       "      <th>3</th>\n",
       "      <td>4</td>\n",
       "      <td>114885</td>\n",
       "      <td>31357.0</td>\n",
       "      <td>Waiting to Exhale (1995)</td>\n",
       "      <td>Comedy|Drama|Romance</td>\n",
       "    </tr>\n",
       "    <tr>\n",
       "      <th>4</th>\n",
       "      <td>5</td>\n",
       "      <td>113041</td>\n",
       "      <td>11862.0</td>\n",
       "      <td>Father of the Bride Part II (1995)</td>\n",
       "      <td>Comedy</td>\n",
       "    </tr>\n",
       "  </tbody>\n",
       "</table>\n",
       "</div>"
      ],
      "text/plain": [
       "   movieId  imdbId   tmdbId                               title  \\\n",
       "0        1  114709    862.0                    Toy Story (1995)   \n",
       "1        2  113497   8844.0                      Jumanji (1995)   \n",
       "2        3  113228  15602.0             Grumpier Old Men (1995)   \n",
       "3        4  114885  31357.0            Waiting to Exhale (1995)   \n",
       "4        5  113041  11862.0  Father of the Bride Part II (1995)   \n",
       "\n",
       "                                        genres  \n",
       "0  Adventure|Animation|Children|Comedy|Fantasy  \n",
       "1                   Adventure|Children|Fantasy  \n",
       "2                               Comedy|Romance  \n",
       "3                         Comedy|Drama|Romance  \n",
       "4                                       Comedy  "
      ]
     },
     "execution_count": 9,
     "metadata": {},
     "output_type": "execute_result"
    }
   ],
   "source": [
    "pd.merge(links,movies,on='movieId').head()"
   ]
  },
  {
   "cell_type": "code",
   "execution_count": 10,
   "metadata": {},
   "outputs": [
    {
     "data": {
      "text/plain": [
       "actors        32\n",
       "country       12\n",
       "director      94\n",
       "req_imdbid     0\n",
       "year           0\n",
       "imdbId         0\n",
       "dtype: int64"
      ]
     },
     "execution_count": 10,
     "metadata": {},
     "output_type": "execute_result"
    }
   ],
   "source": [
    "imdb.isna().sum()"
   ]
  },
  {
   "cell_type": "code",
   "execution_count": 11,
   "metadata": {},
   "outputs": [],
   "source": [
    "imdb.fillna('-',inplace=True)"
   ]
  },
  {
   "cell_type": "code",
   "execution_count": 12,
   "metadata": {},
   "outputs": [
    {
     "data": {
      "text/plain": [
       "array([4, 2, 3, 1], dtype=int64)"
      ]
     },
     "execution_count": 12,
     "metadata": {},
     "output_type": "execute_result"
    }
   ],
   "source": [
    "imdb['actors'].apply(lambda x: len(x.split(','))).unique()"
   ]
  },
  {
   "cell_type": "code",
   "execution_count": 13,
   "metadata": {},
   "outputs": [],
   "source": [
    "# imdb['director1'] = imdb['director'].apply(lambda x: x.split(',')[0])\n",
    "# imdb['actor1'] = imdb['actors'].apply(lambda x: x.split(',')[0])\n",
    "# #imdb['actor2'] = imdb['actors'].apply(lambda x: x.split(',')[1])\n",
    "# imdb['country1'] = imdb['country'].apply(lambda x: x.split(',')[0])"
   ]
  },
  {
   "cell_type": "markdown",
   "metadata": {},
   "source": [
    "Creo un dataframe con todos los datos necesarios para crear features por películas:"
   ]
  },
  {
   "cell_type": "code",
   "execution_count": 14,
   "metadata": {},
   "outputs": [
    {
     "data": {
      "text/html": [
       "<div>\n",
       "<style scoped>\n",
       "    .dataframe tbody tr th:only-of-type {\n",
       "        vertical-align: middle;\n",
       "    }\n",
       "\n",
       "    .dataframe tbody tr th {\n",
       "        vertical-align: top;\n",
       "    }\n",
       "\n",
       "    .dataframe thead th {\n",
       "        text-align: right;\n",
       "    }\n",
       "</style>\n",
       "<table border=\"1\" class=\"dataframe\">\n",
       "  <thead>\n",
       "    <tr style=\"text-align: right;\">\n",
       "      <th></th>\n",
       "      <th>movieId</th>\n",
       "      <th>imdbId</th>\n",
       "      <th>tmdbId</th>\n",
       "      <th>actors</th>\n",
       "      <th>country</th>\n",
       "      <th>director</th>\n",
       "      <th>req_imdbid</th>\n",
       "      <th>year</th>\n",
       "      <th>title</th>\n",
       "      <th>genres</th>\n",
       "    </tr>\n",
       "  </thead>\n",
       "  <tbody>\n",
       "    <tr>\n",
       "      <th>0</th>\n",
       "      <td>1</td>\n",
       "      <td>114709</td>\n",
       "      <td>862.0</td>\n",
       "      <td>Tom Hanks, Tim Allen, Don Rickles, Jim Varney</td>\n",
       "      <td>USA</td>\n",
       "      <td>John Lasseter</td>\n",
       "      <td>tt0114709</td>\n",
       "      <td>1995</td>\n",
       "      <td>Toy Story (1995)</td>\n",
       "      <td>Adventure|Animation|Children|Comedy|Fantasy</td>\n",
       "    </tr>\n",
       "    <tr>\n",
       "      <th>1</th>\n",
       "      <td>2</td>\n",
       "      <td>113497</td>\n",
       "      <td>8844.0</td>\n",
       "      <td>Robin Williams, Jonathan Hyde, Kirsten Dunst, ...</td>\n",
       "      <td>USA</td>\n",
       "      <td>Joe Johnston</td>\n",
       "      <td>tt0113497</td>\n",
       "      <td>1995</td>\n",
       "      <td>Jumanji (1995)</td>\n",
       "      <td>Adventure|Children|Fantasy</td>\n",
       "    </tr>\n",
       "    <tr>\n",
       "      <th>2</th>\n",
       "      <td>3</td>\n",
       "      <td>113228</td>\n",
       "      <td>15602.0</td>\n",
       "      <td>Walter Matthau, Jack Lemmon, Sophia Loren, Ann...</td>\n",
       "      <td>USA</td>\n",
       "      <td>Howard Deutch</td>\n",
       "      <td>tt0113228</td>\n",
       "      <td>1995</td>\n",
       "      <td>Grumpier Old Men (1995)</td>\n",
       "      <td>Comedy|Romance</td>\n",
       "    </tr>\n",
       "    <tr>\n",
       "      <th>3</th>\n",
       "      <td>4</td>\n",
       "      <td>114885</td>\n",
       "      <td>31357.0</td>\n",
       "      <td>Whitney Houston, Angela Bassett, Loretta Devin...</td>\n",
       "      <td>USA</td>\n",
       "      <td>Forest Whitaker</td>\n",
       "      <td>tt0114885</td>\n",
       "      <td>1995</td>\n",
       "      <td>Waiting to Exhale (1995)</td>\n",
       "      <td>Comedy|Drama|Romance</td>\n",
       "    </tr>\n",
       "    <tr>\n",
       "      <th>4</th>\n",
       "      <td>5</td>\n",
       "      <td>113041</td>\n",
       "      <td>11862.0</td>\n",
       "      <td>Steve Martin, Diane Keaton, Martin Short, Kimb...</td>\n",
       "      <td>USA</td>\n",
       "      <td>Charles Shyer</td>\n",
       "      <td>tt0113041</td>\n",
       "      <td>1995</td>\n",
       "      <td>Father of the Bride Part II (1995)</td>\n",
       "      <td>Comedy</td>\n",
       "    </tr>\n",
       "  </tbody>\n",
       "</table>\n",
       "</div>"
      ],
      "text/plain": [
       "   movieId  imdbId   tmdbId  \\\n",
       "0        1  114709    862.0   \n",
       "1        2  113497   8844.0   \n",
       "2        3  113228  15602.0   \n",
       "3        4  114885  31357.0   \n",
       "4        5  113041  11862.0   \n",
       "\n",
       "                                              actors country         director  \\\n",
       "0      Tom Hanks, Tim Allen, Don Rickles, Jim Varney     USA    John Lasseter   \n",
       "1  Robin Williams, Jonathan Hyde, Kirsten Dunst, ...     USA     Joe Johnston   \n",
       "2  Walter Matthau, Jack Lemmon, Sophia Loren, Ann...     USA    Howard Deutch   \n",
       "3  Whitney Houston, Angela Bassett, Loretta Devin...     USA  Forest Whitaker   \n",
       "4  Steve Martin, Diane Keaton, Martin Short, Kimb...     USA    Charles Shyer   \n",
       "\n",
       "  req_imdbid  year                               title  \\\n",
       "0  tt0114709  1995                    Toy Story (1995)   \n",
       "1  tt0113497  1995                      Jumanji (1995)   \n",
       "2  tt0113228  1995             Grumpier Old Men (1995)   \n",
       "3  tt0114885  1995            Waiting to Exhale (1995)   \n",
       "4  tt0113041  1995  Father of the Bride Part II (1995)   \n",
       "\n",
       "                                        genres  \n",
       "0  Adventure|Animation|Children|Comedy|Fantasy  \n",
       "1                   Adventure|Children|Fantasy  \n",
       "2                               Comedy|Romance  \n",
       "3                         Comedy|Drama|Romance  \n",
       "4                                       Comedy  "
      ]
     },
     "execution_count": 14,
     "metadata": {},
     "output_type": "execute_result"
    }
   ],
   "source": [
    "mov_with_feat = pd.merge(links,imdb,on='imdbId')\n",
    "mov_with_feat = pd.merge(mov_with_feat,movies,on='movieId')\n",
    "mov_with_feat.head()"
   ]
  },
  {
   "cell_type": "code",
   "execution_count": 15,
   "metadata": {},
   "outputs": [
    {
     "data": {
      "text/plain": [
       "movieId       0\n",
       "imdbId        0\n",
       "tmdbId        8\n",
       "actors        0\n",
       "country       0\n",
       "director      0\n",
       "req_imdbid    0\n",
       "year          0\n",
       "title         0\n",
       "genres        0\n",
       "dtype: int64"
      ]
     },
     "execution_count": 15,
     "metadata": {},
     "output_type": "execute_result"
    }
   ],
   "source": [
    "mov_with_feat.isna().sum()"
   ]
  },
  {
   "cell_type": "code",
   "execution_count": 16,
   "metadata": {},
   "outputs": [],
   "source": [
    "mov_with_feat.fillna('-',inplace=True)"
   ]
  },
  {
   "cell_type": "code",
   "execution_count": 17,
   "metadata": {},
   "outputs": [
    {
     "data": {
      "text/html": [
       "<div>\n",
       "<style scoped>\n",
       "    .dataframe tbody tr th:only-of-type {\n",
       "        vertical-align: middle;\n",
       "    }\n",
       "\n",
       "    .dataframe tbody tr th {\n",
       "        vertical-align: top;\n",
       "    }\n",
       "\n",
       "    .dataframe thead th {\n",
       "        text-align: right;\n",
       "    }\n",
       "</style>\n",
       "<table border=\"1\" class=\"dataframe\">\n",
       "  <thead>\n",
       "    <tr style=\"text-align: right;\">\n",
       "      <th></th>\n",
       "      <th>movieId</th>\n",
       "      <th>imdbId</th>\n",
       "      <th>tmdbId</th>\n",
       "      <th>actors</th>\n",
       "      <th>country</th>\n",
       "      <th>director</th>\n",
       "      <th>req_imdbid</th>\n",
       "      <th>year</th>\n",
       "      <th>title</th>\n",
       "      <th>genres</th>\n",
       "    </tr>\n",
       "  </thead>\n",
       "  <tbody>\n",
       "    <tr>\n",
       "      <th>0</th>\n",
       "      <td>1</td>\n",
       "      <td>114709</td>\n",
       "      <td>862</td>\n",
       "      <td>TomHanks,TimAllen,DonRickles,JimVarney</td>\n",
       "      <td>USA</td>\n",
       "      <td>JohnLasseter</td>\n",
       "      <td>tt0114709</td>\n",
       "      <td>1995</td>\n",
       "      <td>Toy Story (1995)</td>\n",
       "      <td>Adventure,Animation,Children,Comedy,Fantasy</td>\n",
       "    </tr>\n",
       "    <tr>\n",
       "      <th>1</th>\n",
       "      <td>2</td>\n",
       "      <td>113497</td>\n",
       "      <td>8844</td>\n",
       "      <td>RobinWilliams,JonathanHyde,KirstenDunst,Bradle...</td>\n",
       "      <td>USA</td>\n",
       "      <td>JoeJohnston</td>\n",
       "      <td>tt0113497</td>\n",
       "      <td>1995</td>\n",
       "      <td>Jumanji (1995)</td>\n",
       "      <td>Adventure,Children,Fantasy</td>\n",
       "    </tr>\n",
       "    <tr>\n",
       "      <th>2</th>\n",
       "      <td>3</td>\n",
       "      <td>113228</td>\n",
       "      <td>15602</td>\n",
       "      <td>WalterMatthau,JackLemmon,SophiaLoren,Ann-Margret</td>\n",
       "      <td>USA</td>\n",
       "      <td>HowardDeutch</td>\n",
       "      <td>tt0113228</td>\n",
       "      <td>1995</td>\n",
       "      <td>Grumpier Old Men (1995)</td>\n",
       "      <td>Comedy,Romance</td>\n",
       "    </tr>\n",
       "    <tr>\n",
       "      <th>3</th>\n",
       "      <td>4</td>\n",
       "      <td>114885</td>\n",
       "      <td>31357</td>\n",
       "      <td>WhitneyHouston,AngelaBassett,LorettaDevine,Lel...</td>\n",
       "      <td>USA</td>\n",
       "      <td>ForestWhitaker</td>\n",
       "      <td>tt0114885</td>\n",
       "      <td>1995</td>\n",
       "      <td>Waiting to Exhale (1995)</td>\n",
       "      <td>Comedy,Drama,Romance</td>\n",
       "    </tr>\n",
       "    <tr>\n",
       "      <th>4</th>\n",
       "      <td>5</td>\n",
       "      <td>113041</td>\n",
       "      <td>11862</td>\n",
       "      <td>SteveMartin,DianeKeaton,MartinShort,KimberlyWi...</td>\n",
       "      <td>USA</td>\n",
       "      <td>CharlesShyer</td>\n",
       "      <td>tt0113041</td>\n",
       "      <td>1995</td>\n",
       "      <td>Father of the Bride Part II (1995)</td>\n",
       "      <td>Comedy</td>\n",
       "    </tr>\n",
       "  </tbody>\n",
       "</table>\n",
       "</div>"
      ],
      "text/plain": [
       "   movieId  imdbId tmdbId                                             actors  \\\n",
       "0        1  114709    862             TomHanks,TimAllen,DonRickles,JimVarney   \n",
       "1        2  113497   8844  RobinWilliams,JonathanHyde,KirstenDunst,Bradle...   \n",
       "2        3  113228  15602   WalterMatthau,JackLemmon,SophiaLoren,Ann-Margret   \n",
       "3        4  114885  31357  WhitneyHouston,AngelaBassett,LorettaDevine,Lel...   \n",
       "4        5  113041  11862  SteveMartin,DianeKeaton,MartinShort,KimberlyWi...   \n",
       "\n",
       "  country        director req_imdbid  year  \\\n",
       "0     USA    JohnLasseter  tt0114709  1995   \n",
       "1     USA     JoeJohnston  tt0113497  1995   \n",
       "2     USA    HowardDeutch  tt0113228  1995   \n",
       "3     USA  ForestWhitaker  tt0114885  1995   \n",
       "4     USA    CharlesShyer  tt0113041  1995   \n",
       "\n",
       "                                title  \\\n",
       "0                    Toy Story (1995)   \n",
       "1                      Jumanji (1995)   \n",
       "2             Grumpier Old Men (1995)   \n",
       "3            Waiting to Exhale (1995)   \n",
       "4  Father of the Bride Part II (1995)   \n",
       "\n",
       "                                        genres  \n",
       "0  Adventure,Animation,Children,Comedy,Fantasy  \n",
       "1                   Adventure,Children,Fantasy  \n",
       "2                               Comedy,Romance  \n",
       "3                         Comedy,Drama,Romance  \n",
       "4                                       Comedy  "
      ]
     },
     "execution_count": 17,
     "metadata": {},
     "output_type": "execute_result"
    }
   ],
   "source": [
    "mov_with_feat['actors'] = mov_with_feat['actors'].str.replace(' ','')\n",
    "mov_with_feat['genres'] = mov_with_feat['genres'].str.replace('|',',')\n",
    "mov_with_feat['genres'] = mov_with_feat['genres'].str.replace(' ','')\n",
    "mov_with_feat['director'] = mov_with_feat['director'].str.replace(' ','')\n",
    "mov_with_feat['country'] = mov_with_feat['country'].str.replace(' ','')\n",
    "mov_with_feat.head()"
   ]
  },
  {
   "cell_type": "markdown",
   "metadata": {},
   "source": [
    "Armado de tokens:"
   ]
  },
  {
   "cell_type": "code",
   "execution_count": 18,
   "metadata": {},
   "outputs": [
    {
     "name": "stdout",
     "output_type": "stream",
     "text": [
      "['TomHanks,TimAllen,DonRickles,JimVarney,JohnLasseter,USA,Adventure,Animation,Children,Comedy,Fantasy']\n"
     ]
    },
    {
     "data": {
      "text/plain": [
       "[('tt0114709',\n",
       "  ['TomHanks',\n",
       "   'TimAllen',\n",
       "   'DonRickles',\n",
       "   'JimVarney',\n",
       "   'JohnLasseter',\n",
       "   'USA',\n",
       "   'Adventure',\n",
       "   'Animation',\n",
       "   'Children',\n",
       "   'Comedy',\n",
       "   'Fantasy']),\n",
       " ('tt0113497',\n",
       "  ['RobinWilliams',\n",
       "   'JonathanHyde',\n",
       "   'KirstenDunst',\n",
       "   'BradleyPierce',\n",
       "   'JoeJohnston',\n",
       "   'USA',\n",
       "   'Adventure',\n",
       "   'Children',\n",
       "   'Fantasy'])]"
      ]
     },
     "execution_count": 18,
     "metadata": {},
     "output_type": "execute_result"
    }
   ],
   "source": [
    "#df1 = mov_with_feat[['actor1','director1','country1']]\n",
    "df1 = mov_with_feat[['actors','director','country','genres']]\n",
    "df1 = df1.apply(lambda x: ','.join(x.astype(str)), axis=1)\n",
    "df1 = df1.str.replace(' ','')\n",
    "df1 = pd.DataFrame({'clean': df1}) \n",
    "print(df1.iloc[0].values)\n",
    "sent = [row.split(',') for row in df1['clean']]\n",
    "mov_sent = [a for a in zip(imdb['req_imdbid'],sent)]\n",
    "mov_sent[0:2]"
   ]
  },
  {
   "cell_type": "markdown",
   "metadata": {},
   "source": [
    "Entrenar modelo de word2vec de gensim:"
   ]
  },
  {
   "cell_type": "code",
   "execution_count": 19,
   "metadata": {},
   "outputs": [],
   "source": [
    "model = Word2Vec(sent, min_count=1,size= 50,workers=3, window =3, sg = 1)"
   ]
  },
  {
   "cell_type": "code",
   "execution_count": 20,
   "metadata": {},
   "outputs": [
    {
     "data": {
      "text/plain": [
       "array([-0.05779706, -0.01801369,  0.01012435,  0.02490549, -0.09863111,\n",
       "       -0.02378695,  0.03747099, -0.10208313, -0.02946062,  0.02181053,\n",
       "        0.00981032, -0.00607438, -0.01981093, -0.06191008, -0.08452686,\n",
       "        0.02484289,  0.13031095, -0.03265464,  0.05967576, -0.02507416,\n",
       "        0.0391211 , -0.02863384, -0.00032489,  0.07442655, -0.02112328,\n",
       "       -0.04212496,  0.01649513,  0.07552388, -0.06799508, -0.03127813,\n",
       "       -0.05374504,  0.03922107,  0.05951696,  0.07854552,  0.00618573,\n",
       "        0.01007642,  0.02614738,  0.02008487, -0.00548574,  0.01153782,\n",
       "       -0.00893883,  0.04309571, -0.03095798, -0.06758938, -0.01271949,\n",
       "        0.0639147 ,  0.00441754,  0.05816582, -0.02415486, -0.01478071],\n",
       "      dtype=float32)"
      ]
     },
     "execution_count": 20,
     "metadata": {},
     "output_type": "execute_result"
    }
   ],
   "source": [
    "#Representation for director John Lasseter\n",
    "model.wv['JohnLasseter']"
   ]
  },
  {
   "cell_type": "code",
   "execution_count": 21,
   "metadata": {},
   "outputs": [
    {
     "data": {
      "text/plain": [
       "0.5475702176038864"
      ]
     },
     "execution_count": 21,
     "metadata": {},
     "output_type": "execute_result"
    }
   ],
   "source": [
    "#Get similarity\n",
    "model.wv.similarity('TomHanks', 'USA')"
   ]
  },
  {
   "cell_type": "code",
   "execution_count": 22,
   "metadata": {},
   "outputs": [
    {
     "data": {
      "text/plain": [
       "array([ 0.38138062, -0.7551327 ,  0.00865916,  0.41625643, -0.7446956 ,\n",
       "        0.48539996,  0.07793624, -0.7436322 ,  0.04032438,  0.62642705,\n",
       "        0.30338326, -0.17782931,  0.2958304 , -1.089879  , -0.22094749,\n",
       "        0.06189395,  0.55067945, -0.27507436, -0.23936547,  0.15248977,\n",
       "        0.591896  , -0.50439066,  0.18154693,  0.56801647,  0.14558977,\n",
       "        0.14396915,  0.219652  ,  0.40452808, -0.796205  , -0.11516809,\n",
       "       -0.31403282,  0.21200766,  1.012986  ,  0.90413916,  0.345333  ,\n",
       "        0.14025499,  0.59033966,  0.20733055,  0.28009856,  0.1895054 ,\n",
       "        0.22475949, -0.21817125, -0.01644237, -0.8092293 ,  0.6645535 ,\n",
       "        0.96320593,  0.6135039 ,  0.5444442 , -0.3324713 , -0.46331784],\n",
       "      dtype=float32)"
      ]
     },
     "execution_count": 22,
     "metadata": {},
     "output_type": "execute_result"
    }
   ],
   "source": [
    "model.wv['Adventure']"
   ]
  },
  {
   "cell_type": "code",
   "execution_count": 23,
   "metadata": {},
   "outputs": [
    {
     "data": {
      "text/plain": [
       "array([-0.13564421, -0.04650283,  0.00776119, -0.00724831, -0.17084603,\n",
       "       -0.03765997,  0.06846732, -0.18209566, -0.05905335,  0.04976904,\n",
       "        0.0229392 ,  0.00174799, -0.02271788, -0.13405584, -0.19163862,\n",
       "        0.04955588,  0.24131191, -0.08678605,  0.11990955, -0.04632201,\n",
       "        0.08836544, -0.05000726, -0.01903313,  0.18036197, -0.05525366,\n",
       "       -0.10850971,  0.03240912,  0.16836211, -0.15027794, -0.06277625,\n",
       "       -0.10844663,  0.11736957,  0.06912878,  0.18500075,  0.06473946,\n",
       "        0.04426077,  0.09945782,  0.05577767, -0.01804947,  0.04746909,\n",
       "        0.03400557,  0.04869014, -0.0688428 , -0.09722891, -0.06791025,\n",
       "        0.17254946,  0.00348954,  0.12208806, -0.01451797, -0.01551466],\n",
       "      dtype=float32)"
      ]
     },
     "execution_count": 23,
     "metadata": {},
     "output_type": "execute_result"
    }
   ],
   "source": [
    "model.wv['(nogenreslisted)']"
   ]
  },
  {
   "cell_type": "code",
   "execution_count": 24,
   "metadata": {},
   "outputs": [
    {
     "data": {
      "text/html": [
       "<div>\n",
       "<style scoped>\n",
       "    .dataframe tbody tr th:only-of-type {\n",
       "        vertical-align: middle;\n",
       "    }\n",
       "\n",
       "    .dataframe tbody tr th {\n",
       "        vertical-align: top;\n",
       "    }\n",
       "\n",
       "    .dataframe thead th {\n",
       "        text-align: right;\n",
       "    }\n",
       "</style>\n",
       "<table border=\"1\" class=\"dataframe\">\n",
       "  <thead>\n",
       "    <tr style=\"text-align: right;\">\n",
       "      <th></th>\n",
       "      <th>actors</th>\n",
       "      <th>country</th>\n",
       "      <th>director</th>\n",
       "      <th>req_imdbid</th>\n",
       "      <th>year</th>\n",
       "      <th>imdbId</th>\n",
       "    </tr>\n",
       "  </thead>\n",
       "  <tbody>\n",
       "    <tr>\n",
       "      <th>0</th>\n",
       "      <td>Tom Hanks, Tim Allen, Don Rickles, Jim Varney</td>\n",
       "      <td>USA</td>\n",
       "      <td>John Lasseter</td>\n",
       "      <td>tt0114709</td>\n",
       "      <td>1995</td>\n",
       "      <td>114709</td>\n",
       "    </tr>\n",
       "    <tr>\n",
       "      <th>1</th>\n",
       "      <td>Robin Williams, Jonathan Hyde, Kirsten Dunst, ...</td>\n",
       "      <td>USA</td>\n",
       "      <td>Joe Johnston</td>\n",
       "      <td>tt0113497</td>\n",
       "      <td>1995</td>\n",
       "      <td>113497</td>\n",
       "    </tr>\n",
       "    <tr>\n",
       "      <th>2</th>\n",
       "      <td>Walter Matthau, Jack Lemmon, Sophia Loren, Ann...</td>\n",
       "      <td>USA</td>\n",
       "      <td>Howard Deutch</td>\n",
       "      <td>tt0113228</td>\n",
       "      <td>1995</td>\n",
       "      <td>113228</td>\n",
       "    </tr>\n",
       "    <tr>\n",
       "      <th>3</th>\n",
       "      <td>Whitney Houston, Angela Bassett, Loretta Devin...</td>\n",
       "      <td>USA</td>\n",
       "      <td>Forest Whitaker</td>\n",
       "      <td>tt0114885</td>\n",
       "      <td>1995</td>\n",
       "      <td>114885</td>\n",
       "    </tr>\n",
       "    <tr>\n",
       "      <th>4</th>\n",
       "      <td>Steve Martin, Diane Keaton, Martin Short, Kimb...</td>\n",
       "      <td>USA</td>\n",
       "      <td>Charles Shyer</td>\n",
       "      <td>tt0113041</td>\n",
       "      <td>1995</td>\n",
       "      <td>113041</td>\n",
       "    </tr>\n",
       "  </tbody>\n",
       "</table>\n",
       "</div>"
      ],
      "text/plain": [
       "                                              actors country         director  \\\n",
       "0      Tom Hanks, Tim Allen, Don Rickles, Jim Varney     USA    John Lasseter   \n",
       "1  Robin Williams, Jonathan Hyde, Kirsten Dunst, ...     USA     Joe Johnston   \n",
       "2  Walter Matthau, Jack Lemmon, Sophia Loren, Ann...     USA    Howard Deutch   \n",
       "3  Whitney Houston, Angela Bassett, Loretta Devin...     USA  Forest Whitaker   \n",
       "4  Steve Martin, Diane Keaton, Martin Short, Kimb...     USA    Charles Shyer   \n",
       "\n",
       "  req_imdbid  year  imdbId  \n",
       "0  tt0114709  1995  114709  \n",
       "1  tt0113497  1995  113497  \n",
       "2  tt0113228  1995  113228  \n",
       "3  tt0114885  1995  114885  \n",
       "4  tt0113041  1995  113041  "
      ]
     },
     "execution_count": 24,
     "metadata": {},
     "output_type": "execute_result"
    }
   ],
   "source": [
    "imdb.head()"
   ]
  },
  {
   "cell_type": "code",
   "execution_count": 25,
   "metadata": {},
   "outputs": [
    {
     "data": {
      "text/plain": [
       "actors        object\n",
       "country       object\n",
       "director      object\n",
       "req_imdbid    object\n",
       "year          object\n",
       "imdbId         int64\n",
       "dtype: object"
      ]
     },
     "execution_count": 25,
     "metadata": {},
     "output_type": "execute_result"
    }
   ],
   "source": [
    "imdb.dtypes"
   ]
  },
  {
   "cell_type": "code",
   "execution_count": 26,
   "metadata": {},
   "outputs": [],
   "source": [
    "def rep_col(text):\n",
    "    #print(text)\n",
    "    rep = []\n",
    "    for item in text.split(','):\n",
    "        rep.append(model.wv[item])\n",
    "    return np.concatenate(rep,axis=0)"
   ]
  },
  {
   "cell_type": "code",
   "execution_count": 27,
   "metadata": {},
   "outputs": [],
   "source": [
    "def items_rep(item_lst):\n",
    "    a=0\n",
    "    for item in item_lst:\n",
    "        a+=model.wv[item]\n",
    "    a/=len(item_lst)\n",
    "    return a\n",
    "\n"
   ]
  },
  {
   "cell_type": "code",
   "execution_count": 28,
   "metadata": {},
   "outputs": [
    {
     "data": {
      "text/html": [
       "<div>\n",
       "<style scoped>\n",
       "    .dataframe tbody tr th:only-of-type {\n",
       "        vertical-align: middle;\n",
       "    }\n",
       "\n",
       "    .dataframe tbody tr th {\n",
       "        vertical-align: top;\n",
       "    }\n",
       "\n",
       "    .dataframe thead th {\n",
       "        text-align: right;\n",
       "    }\n",
       "</style>\n",
       "<table border=\"1\" class=\"dataframe\">\n",
       "  <thead>\n",
       "    <tr style=\"text-align: right;\">\n",
       "      <th></th>\n",
       "      <th>movieId</th>\n",
       "      <th>imdbId</th>\n",
       "      <th>tmdbId</th>\n",
       "      <th>actors</th>\n",
       "      <th>country</th>\n",
       "      <th>director</th>\n",
       "      <th>req_imdbid</th>\n",
       "      <th>year</th>\n",
       "      <th>title</th>\n",
       "      <th>genres</th>\n",
       "      <th>actors_rep</th>\n",
       "      <th>director_rep</th>\n",
       "      <th>country_rep</th>\n",
       "      <th>genres_rep</th>\n",
       "    </tr>\n",
       "  </thead>\n",
       "  <tbody>\n",
       "    <tr>\n",
       "      <th>0</th>\n",
       "      <td>1</td>\n",
       "      <td>114709</td>\n",
       "      <td>862</td>\n",
       "      <td>TomHanks,TimAllen,DonRickles,JimVarney</td>\n",
       "      <td>USA</td>\n",
       "      <td>JohnLasseter</td>\n",
       "      <td>tt0114709</td>\n",
       "      <td>1995</td>\n",
       "      <td>Toy Story (1995)</td>\n",
       "      <td>Adventure,Animation,Children,Comedy,Fantasy</td>\n",
       "      <td>[-0.16031985, -0.012125978, 0.018840322, -0.00...</td>\n",
       "      <td>[-0.057797063, -0.018013693, 0.010124352, 0.02...</td>\n",
       "      <td>[0.40111426, -0.94431585, 0.30691, 0.38653317,...</td>\n",
       "      <td>[0.3466633, -0.69452226, -0.022450218, 0.43731...</td>\n",
       "    </tr>\n",
       "    <tr>\n",
       "      <th>1</th>\n",
       "      <td>2</td>\n",
       "      <td>113497</td>\n",
       "      <td>8844</td>\n",
       "      <td>RobinWilliams,JonathanHyde,KirstenDunst,Bradle...</td>\n",
       "      <td>USA</td>\n",
       "      <td>JoeJohnston</td>\n",
       "      <td>tt0113497</td>\n",
       "      <td>1995</td>\n",
       "      <td>Jumanji (1995)</td>\n",
       "      <td>Adventure,Children,Fantasy</td>\n",
       "      <td>[-0.146141, -0.0039580152, 0.020822594, -0.006...</td>\n",
       "      <td>[-0.050130606, -0.02658987, 0.012218042, 0.017...</td>\n",
       "      <td>[0.40111426, -0.94431585, 0.30691, 0.38653317,...</td>\n",
       "      <td>[0.3341992, -0.68723947, 0.0046548755, 0.46521...</td>\n",
       "    </tr>\n",
       "    <tr>\n",
       "      <th>2</th>\n",
       "      <td>3</td>\n",
       "      <td>113228</td>\n",
       "      <td>15602</td>\n",
       "      <td>WalterMatthau,JackLemmon,SophiaLoren,Ann-Margret</td>\n",
       "      <td>USA</td>\n",
       "      <td>HowardDeutch</td>\n",
       "      <td>tt0113228</td>\n",
       "      <td>1995</td>\n",
       "      <td>Grumpier Old Men (1995)</td>\n",
       "      <td>Comedy,Romance</td>\n",
       "      <td>[-0.18133293, -0.013688635, 0.016494844, -0.01...</td>\n",
       "      <td>[-0.09096009, -0.011482924, 0.016259573, -0.00...</td>\n",
       "      <td>[0.40111426, -0.94431585, 0.30691, 0.38653317,...</td>\n",
       "      <td>[0.33071277, -0.6900284, 0.00084304996, 0.2686...</td>\n",
       "    </tr>\n",
       "    <tr>\n",
       "      <th>3</th>\n",
       "      <td>4</td>\n",
       "      <td>114885</td>\n",
       "      <td>31357</td>\n",
       "      <td>WhitneyHouston,AngelaBassett,LorettaDevine,Lel...</td>\n",
       "      <td>USA</td>\n",
       "      <td>ForestWhitaker</td>\n",
       "      <td>tt0114885</td>\n",
       "      <td>1995</td>\n",
       "      <td>Waiting to Exhale (1995)</td>\n",
       "      <td>Comedy,Drama,Romance</td>\n",
       "      <td>[-0.11154778, -0.004495819, 0.014042145, -0.01...</td>\n",
       "      <td>[-0.19589122, -0.032701656, 0.022611862, -0.00...</td>\n",
       "      <td>[0.40111426, -0.94431585, 0.30691, 0.38653317,...</td>\n",
       "      <td>[0.31550333, -0.7216442, -0.0031799823, 0.2119...</td>\n",
       "    </tr>\n",
       "    <tr>\n",
       "      <th>4</th>\n",
       "      <td>5</td>\n",
       "      <td>113041</td>\n",
       "      <td>11862</td>\n",
       "      <td>SteveMartin,DianeKeaton,MartinShort,KimberlyWi...</td>\n",
       "      <td>USA</td>\n",
       "      <td>CharlesShyer</td>\n",
       "      <td>tt0113041</td>\n",
       "      <td>1995</td>\n",
       "      <td>Father of the Bride Part II (1995)</td>\n",
       "      <td>Comedy</td>\n",
       "      <td>[-0.17747661, -0.013665864, 0.0152197145, -0.0...</td>\n",
       "      <td>[-0.06990615, 0.0012784553, 0.014338127, 0.006...</td>\n",
       "      <td>[0.40111426, -0.94431585, 0.30691, 0.38653317,...</td>\n",
       "      <td>[0.3846935, -0.75861996, -0.026334323, 0.29418...</td>\n",
       "    </tr>\n",
       "  </tbody>\n",
       "</table>\n",
       "</div>"
      ],
      "text/plain": [
       "   movieId  imdbId tmdbId                                             actors  \\\n",
       "0        1  114709    862             TomHanks,TimAllen,DonRickles,JimVarney   \n",
       "1        2  113497   8844  RobinWilliams,JonathanHyde,KirstenDunst,Bradle...   \n",
       "2        3  113228  15602   WalterMatthau,JackLemmon,SophiaLoren,Ann-Margret   \n",
       "3        4  114885  31357  WhitneyHouston,AngelaBassett,LorettaDevine,Lel...   \n",
       "4        5  113041  11862  SteveMartin,DianeKeaton,MartinShort,KimberlyWi...   \n",
       "\n",
       "  country        director req_imdbid  year  \\\n",
       "0     USA    JohnLasseter  tt0114709  1995   \n",
       "1     USA     JoeJohnston  tt0113497  1995   \n",
       "2     USA    HowardDeutch  tt0113228  1995   \n",
       "3     USA  ForestWhitaker  tt0114885  1995   \n",
       "4     USA    CharlesShyer  tt0113041  1995   \n",
       "\n",
       "                                title  \\\n",
       "0                    Toy Story (1995)   \n",
       "1                      Jumanji (1995)   \n",
       "2             Grumpier Old Men (1995)   \n",
       "3            Waiting to Exhale (1995)   \n",
       "4  Father of the Bride Part II (1995)   \n",
       "\n",
       "                                        genres  \\\n",
       "0  Adventure,Animation,Children,Comedy,Fantasy   \n",
       "1                   Adventure,Children,Fantasy   \n",
       "2                               Comedy,Romance   \n",
       "3                         Comedy,Drama,Romance   \n",
       "4                                       Comedy   \n",
       "\n",
       "                                          actors_rep  \\\n",
       "0  [-0.16031985, -0.012125978, 0.018840322, -0.00...   \n",
       "1  [-0.146141, -0.0039580152, 0.020822594, -0.006...   \n",
       "2  [-0.18133293, -0.013688635, 0.016494844, -0.01...   \n",
       "3  [-0.11154778, -0.004495819, 0.014042145, -0.01...   \n",
       "4  [-0.17747661, -0.013665864, 0.0152197145, -0.0...   \n",
       "\n",
       "                                        director_rep  \\\n",
       "0  [-0.057797063, -0.018013693, 0.010124352, 0.02...   \n",
       "1  [-0.050130606, -0.02658987, 0.012218042, 0.017...   \n",
       "2  [-0.09096009, -0.011482924, 0.016259573, -0.00...   \n",
       "3  [-0.19589122, -0.032701656, 0.022611862, -0.00...   \n",
       "4  [-0.06990615, 0.0012784553, 0.014338127, 0.006...   \n",
       "\n",
       "                                         country_rep  \\\n",
       "0  [0.40111426, -0.94431585, 0.30691, 0.38653317,...   \n",
       "1  [0.40111426, -0.94431585, 0.30691, 0.38653317,...   \n",
       "2  [0.40111426, -0.94431585, 0.30691, 0.38653317,...   \n",
       "3  [0.40111426, -0.94431585, 0.30691, 0.38653317,...   \n",
       "4  [0.40111426, -0.94431585, 0.30691, 0.38653317,...   \n",
       "\n",
       "                                          genres_rep  \n",
       "0  [0.3466633, -0.69452226, -0.022450218, 0.43731...  \n",
       "1  [0.3341992, -0.68723947, 0.0046548755, 0.46521...  \n",
       "2  [0.33071277, -0.6900284, 0.00084304996, 0.2686...  \n",
       "3  [0.31550333, -0.7216442, -0.0031799823, 0.2119...  \n",
       "4  [0.3846935, -0.75861996, -0.026334323, 0.29418...  "
      ]
     },
     "execution_count": 28,
     "metadata": {},
     "output_type": "execute_result"
    }
   ],
   "source": [
    "mov_with_feat['actors_rep'] = mov_with_feat['actors'].apply(lambda x:x.split(',')).apply(items_rep)\n",
    "mov_with_feat['director_rep'] = mov_with_feat['director'].apply(lambda x:x.split(',')).apply(items_rep)\n",
    "mov_with_feat['country_rep'] = mov_with_feat['country'].apply(lambda x:x.split(',')).apply(items_rep)\n",
    "mov_with_feat['genres_rep'] = mov_with_feat['genres'].apply(lambda x:x.split(',')).apply(items_rep)\n",
    "mov_with_feat.head()"
   ]
  },
  {
   "cell_type": "code",
   "execution_count": 29,
   "metadata": {},
   "outputs": [],
   "source": [
    "# mov_with_feat['actors_rep'][0]"
   ]
  },
  {
   "cell_type": "code",
   "execution_count": 30,
   "metadata": {},
   "outputs": [],
   "source": [
    "# mov_with_feat['director_rep'][0]"
   ]
  },
  {
   "cell_type": "code",
   "execution_count": 31,
   "metadata": {},
   "outputs": [],
   "source": [
    "# mov_with_feat['country_rep'][0]"
   ]
  },
  {
   "cell_type": "code",
   "execution_count": 32,
   "metadata": {},
   "outputs": [],
   "source": [
    "# np.concatenate([mov_with_feat['actors_rep'][0],mov_with_feat['director_rep'][0],mov_with_feat['country_rep'][0]],axis=0)"
   ]
  },
  {
   "cell_type": "code",
   "execution_count": 33,
   "metadata": {},
   "outputs": [],
   "source": [
    "mov_with_feat['all_feat']=mov_with_feat.apply(lambda x: np.concatenate([x['actors_rep'],x['director_rep'],x['country_rep'],x['genres_rep']],axis=0),axis=1)"
   ]
  },
  {
   "cell_type": "code",
   "execution_count": 34,
   "metadata": {},
   "outputs": [
    {
     "data": {
      "text/html": [
       "<div>\n",
       "<style scoped>\n",
       "    .dataframe tbody tr th:only-of-type {\n",
       "        vertical-align: middle;\n",
       "    }\n",
       "\n",
       "    .dataframe tbody tr th {\n",
       "        vertical-align: top;\n",
       "    }\n",
       "\n",
       "    .dataframe thead th {\n",
       "        text-align: right;\n",
       "    }\n",
       "</style>\n",
       "<table border=\"1\" class=\"dataframe\">\n",
       "  <thead>\n",
       "    <tr style=\"text-align: right;\">\n",
       "      <th></th>\n",
       "      <th>movieId</th>\n",
       "      <th>all_feat</th>\n",
       "    </tr>\n",
       "  </thead>\n",
       "  <tbody>\n",
       "    <tr>\n",
       "      <th>0</th>\n",
       "      <td>1</td>\n",
       "      <td>[-0.16031985, -0.012125978, 0.018840322, -0.00...</td>\n",
       "    </tr>\n",
       "    <tr>\n",
       "      <th>1</th>\n",
       "      <td>2</td>\n",
       "      <td>[-0.146141, -0.0039580152, 0.020822594, -0.006...</td>\n",
       "    </tr>\n",
       "    <tr>\n",
       "      <th>2</th>\n",
       "      <td>3</td>\n",
       "      <td>[-0.18133293, -0.013688635, 0.016494844, -0.01...</td>\n",
       "    </tr>\n",
       "    <tr>\n",
       "      <th>3</th>\n",
       "      <td>4</td>\n",
       "      <td>[-0.11154778, -0.004495819, 0.014042145, -0.01...</td>\n",
       "    </tr>\n",
       "    <tr>\n",
       "      <th>4</th>\n",
       "      <td>5</td>\n",
       "      <td>[-0.17747661, -0.013665864, 0.0152197145, -0.0...</td>\n",
       "    </tr>\n",
       "  </tbody>\n",
       "</table>\n",
       "</div>"
      ],
      "text/plain": [
       "   movieId                                           all_feat\n",
       "0        1  [-0.16031985, -0.012125978, 0.018840322, -0.00...\n",
       "1        2  [-0.146141, -0.0039580152, 0.020822594, -0.006...\n",
       "2        3  [-0.18133293, -0.013688635, 0.016494844, -0.01...\n",
       "3        4  [-0.11154778, -0.004495819, 0.014042145, -0.01...\n",
       "4        5  [-0.17747661, -0.013665864, 0.0152197145, -0.0..."
      ]
     },
     "execution_count": 34,
     "metadata": {},
     "output_type": "execute_result"
    }
   ],
   "source": [
    "mov_with_feat[['movieId','all_feat']].head()"
   ]
  },
  {
   "cell_type": "code",
   "execution_count": 35,
   "metadata": {},
   "outputs": [
    {
     "data": {
      "text/plain": [
       "(9742, 200)"
      ]
     },
     "execution_count": 35,
     "metadata": {},
     "output_type": "execute_result"
    }
   ],
   "source": [
    "a = mov_with_feat['all_feat'][0].reshape(1,-1)\n",
    "for mov_feat in mov_with_feat['all_feat'][1:]:\n",
    "    b = mov_feat.reshape(1,-1)\n",
    "    a = np.concatenate([a,b])\n",
    "\n",
    "a.shape"
   ]
  },
  {
   "cell_type": "code",
   "execution_count": 36,
   "metadata": {},
   "outputs": [],
   "source": [
    "#temp_actor = rep_col(imdb['actors'][0])\n",
    "#print(np.concatenate(temp_actor,axis=0))\n",
    "#temp_director = rep_col(imdb['director'][0])\n",
    "#temp_country = rep_col(imdb['country'][0])\n",
    "#a = np.concatenate(temp_actor,axis=0)\n",
    "##np.concatenate([temp_actor,temp_director,temp_country],axis=1)\n",
    "#np.concatenate(temp_director,axis=0)"
   ]
  },
  {
   "cell_type": "code",
   "execution_count": 37,
   "metadata": {},
   "outputs": [],
   "source": [
    "#def get_movie_features(fila):\n",
    "#    temp_actor = rep_col(fila['actors'])\n",
    "#    a = np.concatenate(temp_actor,axis=0)\n",
    "#    temp_director = rep_col(fila['director'])\n",
    "#    b = np.concatenate(temp_director,axis=0)\n",
    "#    temp_country = rep_col(fila['country'])\n",
    "#    c = np.concatenate(temp_country,axis=0)\n",
    "#    feat_lst = [a,b,c]\n",
    "#    return np.concatenate(feat_lst)\n",
    "#get_movie_features(imdb.iloc[0])\n",
    "\n",
    "#imdb['actors'].apply(rep_col)"
   ]
  },
  {
   "cell_type": "code",
   "execution_count": 38,
   "metadata": {
    "scrolled": true
   },
   "outputs": [],
   "source": [
    "# imdb['feat_str'] = imdb['actor1'] + ', ' + imdb['director1'] + ', ' + imdb['country1']\n",
    "# imdb['feat_str'] = imdb['feat_str'].str.replace(' ','')\n",
    "# imdb.head()"
   ]
  },
  {
   "cell_type": "code",
   "execution_count": 39,
   "metadata": {
    "scrolled": true
   },
   "outputs": [],
   "source": [
    "# imdb['feat_str'][0]"
   ]
  },
  {
   "cell_type": "code",
   "execution_count": 40,
   "metadata": {},
   "outputs": [],
   "source": [
    "# imdb['movie_feat'] = imdb['feat_str'].apply(rep_col)\n",
    "# imdb.head(5)"
   ]
  },
  {
   "cell_type": "code",
   "execution_count": null,
   "metadata": {},
   "outputs": [],
   "source": []
  },
  {
   "cell_type": "code",
   "execution_count": 41,
   "metadata": {},
   "outputs": [],
   "source": [
    "# mov_with_feat['genres'] = mov_with_feat['genres'].str.replace('|',',')\n",
    "# mov_with_feat['feat_str'] = mov_with_feat['actor1'] + ', ' + mov_with_feat['director1'] + ', ' + mov_with_feat['country1'] #+ ', ' + mov_with_feat['genres']  \n",
    "# mov_with_feat['feat_str'] = mov_with_feat['feat_str'].str.replace(' ','')\n",
    "# mov_with_feat.head()"
   ]
  },
  {
   "cell_type": "code",
   "execution_count": 42,
   "metadata": {},
   "outputs": [],
   "source": [
    "# mov_with_feat['features'] = mov_with_feat['feat_str'].apply(rep_col)\n",
    "# mov_with_feat[['movieId','features']].head()"
   ]
  },
  {
   "cell_type": "code",
   "execution_count": 43,
   "metadata": {},
   "outputs": [],
   "source": [
    "# a = mov_with_feat['features'][0].reshape(1,-1)\n",
    "# for mov_feat in mov_with_feat['features'][1:]:\n",
    "#     b = mov_feat.reshape(1,-1)\n",
    "#     a = np.concatenate([a,b])\n",
    "\n",
    "# a.shape"
   ]
  },
  {
   "cell_type": "code",
   "execution_count": 44,
   "metadata": {},
   "outputs": [],
   "source": [
    "# np.median(a)"
   ]
  },
  {
   "cell_type": "code",
   "execution_count": 45,
   "metadata": {},
   "outputs": [],
   "source": [
    "# np.mean(a)"
   ]
  },
  {
   "cell_type": "code",
   "execution_count": 46,
   "metadata": {},
   "outputs": [],
   "source": [
    "# lista = [sublista.split('|') for sublista in movies['genres']]\n",
    "# genres = sorted(set([item for s in lista for item in s]))\n",
    "# dummies = pd.DataFrame(np.zeros((len(movies), len(genres)), dtype=int), columns=genres)\n",
    "# for i, gen in enumerate(movies['genres']):\n",
    "#     dummies.loc[i, gen.split('|')] = 0.2\n",
    "# dummies.values"
   ]
  },
  {
   "cell_type": "code",
   "execution_count": 47,
   "metadata": {},
   "outputs": [],
   "source": [
    "# dummies.shape"
   ]
  },
  {
   "cell_type": "markdown",
   "metadata": {},
   "source": [
    "## 4. Obtención de peliculas similares"
   ]
  },
  {
   "cell_type": "code",
   "execution_count": 48,
   "metadata": {},
   "outputs": [
    {
     "data": {
      "text/plain": [
       "array([[1.0000001 , 0.9990484 , 0.98829484, ..., 0.961938  , 0.9475195 ,\n",
       "        0.98423564],\n",
       "       [0.9990484 , 1.        , 0.9843519 , ..., 0.95494556, 0.94320107,\n",
       "        0.979211  ],\n",
       "       [0.98829484, 0.9843519 , 1.0000002 , ..., 0.9864166 , 0.9299316 ,\n",
       "        0.99008983],\n",
       "       [0.97758496, 0.9726308 , 0.9938849 , ..., 0.9925827 , 0.9278924 ,\n",
       "        0.98703516],\n",
       "       [0.9875279 , 0.9813743 , 0.9941152 , ..., 0.987648  , 0.9503884 ,\n",
       "        0.99669945]], dtype=float32)"
      ]
     },
     "execution_count": 48,
     "metadata": {},
     "output_type": "execute_result"
    }
   ],
   "source": [
    "from sklearn.metrics.pairwise import cosine_similarity\n",
    "\n",
    "#movie_features = np.concatenate([a,dummies],axis=1)\n",
    "movie_features = a\n",
    "cosine_sim = cosine_similarity(movie_features,dense_output=True)\n",
    "cosine_sim[0:5]"
   ]
  },
  {
   "cell_type": "code",
   "execution_count": 49,
   "metadata": {},
   "outputs": [],
   "source": [
    "# movies.loc[movies['movieId'] == 1,'title'].values[0]"
   ]
  },
  {
   "cell_type": "code",
   "execution_count": 50,
   "metadata": {},
   "outputs": [],
   "source": [
    "results = {}\n",
    "\n",
    "for idx, row in movies.iterrows():\n",
    "    similar_indices = cosine_sim[idx].argsort()[:-100:-1]\n",
    "    similar_items = [(cosine_sim[idx][i], movies['movieId'][i]) for i in similar_indices]\n",
    "    results[row['movieId']] = similar_items[1:]"
   ]
  },
  {
   "cell_type": "markdown",
   "metadata": {},
   "source": [
    "## 5. Recomendar películas similares a una película en particular"
   ]
  },
  {
   "cell_type": "code",
   "execution_count": 51,
   "metadata": {},
   "outputs": [],
   "source": [
    "def item(mid):\n",
    "    return movies.loc[movies['movieId'] == mid]['title'].tolist()[0].split(' - ')[0]\n",
    "\n",
    "def recommend_movie(item_id, num):\n",
    "    print(\"Recomendando \" + str(num) + \" productos similares a \" + item(item_id) + \"...\")\n",
    "    print(\"-------\")\n",
    "    recs = results[item_id][:num]\n",
    "    for rec in recs:\n",
    "        print(\"Recomendado: \" + item(rec[1]) + \" (score:\" + str(rec[0]) + \")\")\n",
    "        \n",
    "#Ingresando el ID de la película y el número de recomendaciones devuelve los títulos mejor posisionados"
   ]
  },
  {
   "cell_type": "code",
   "execution_count": 52,
   "metadata": {
    "scrolled": true
   },
   "outputs": [
    {
     "name": "stdout",
     "output_type": "stream",
     "text": [
      "Recomendando 10 productos similares a Toy Story (1995)...\n",
      "-------\n",
      "Recomendado: Antz (1998) (score:0.9997197)\n",
      "Recomendado: Emperor's New Groove, The (2000) (score:0.9996582)\n",
      "Recomendado: Ice Age 2: The Meltdown (2006) (score:0.99960214)\n",
      "Recomendado: Madagascar (2005) (score:0.99959165)\n",
      "Recomendado: Monsters, Inc. (2001) (score:0.9995839)\n",
      "Recomendado: The Boss Baby (2017) (score:0.9995303)\n",
      "Recomendado: Ice Age (2002) (score:0.9995179)\n",
      "Recomendado: Addams Family, The (1991) (score:0.9994908)\n",
      "Recomendado: Horton Hears a Who! (2008) (score:0.9994749)\n",
      "Recomendado: Cool World (1992) (score:0.99946725)\n"
     ]
    }
   ],
   "source": [
    "recommend_movie(1,10)"
   ]
  },
  {
   "cell_type": "code",
   "execution_count": 53,
   "metadata": {},
   "outputs": [
    {
     "name": "stdout",
     "output_type": "stream",
     "text": [
      "Recomendando 10 productos similares a Mission: Impossible (1996)...\n",
      "-------\n",
      "Recomendado: Death Proof (2007) (score:0.9995389)\n",
      "Recomendado: Alien³ (a.k.a. Alien 3) (1992) (score:0.9994453)\n",
      "Recomendado: Blade Runner (1982) (score:0.9993215)\n",
      "Recomendado: Matrix, The (1999) (score:0.99928856)\n",
      "Recomendado: Scanner Darkly, A (2006) (score:0.9992103)\n",
      "Recomendado: Darkman (1990) (score:0.9991901)\n",
      "Recomendado: End of Days (1999) (score:0.99917096)\n",
      "Recomendado: One, The (2001) (score:0.99914986)\n",
      "Recomendado: Chronicles of Riddick, The (2004) (score:0.999147)\n",
      "Recomendado: Island, The (2005) (score:0.99914104)\n"
     ]
    }
   ],
   "source": [
    "recommend_movie(648,10)"
   ]
  },
  {
   "cell_type": "code",
   "execution_count": 54,
   "metadata": {},
   "outputs": [
    {
     "name": "stdout",
     "output_type": "stream",
     "text": [
      "Recomendando 10 productos similares a 20 Dates (1998)...\n",
      "-------\n",
      "Recomendado: Drive Me Crazy (1999) (score:0.99990344)\n",
      "Recomendado: Boys and Girls (2000) (score:0.9998874)\n",
      "Recomendado: Sweetest Thing, The (2002) (score:0.99988365)\n",
      "Recomendado: Lost & Found (1999) (score:0.9998821)\n",
      "Recomendado: Booty Call (1997) (score:0.99987364)\n",
      "Recomendado: Sixteen Candles (1984) (score:0.99987316)\n",
      "Recomendado: Amy's O (a.k.a. Amy's Orgasm) (2001) (score:0.9998625)\n",
      "Recomendado: Admission (2013) (score:0.9998502)\n",
      "Recomendado: Whatever It Takes (2000) (score:0.9998469)\n",
      "Recomendado: Rewrite, The (2014) (score:0.9998394)\n"
     ]
    }
   ],
   "source": [
    "recommend_movie(2492,10)"
   ]
  },
  {
   "cell_type": "code",
   "execution_count": 55,
   "metadata": {},
   "outputs": [],
   "source": [
    "# imdb['actors'].apply(lambda x: len(x.split(','))).unique()"
   ]
  },
  {
   "cell_type": "code",
   "execution_count": null,
   "metadata": {},
   "outputs": [],
   "source": []
  },
  {
   "cell_type": "markdown",
   "metadata": {},
   "source": [
    "### Lista de películas vistas por usuario"
   ]
  },
  {
   "cell_type": "code",
   "execution_count": 56,
   "metadata": {},
   "outputs": [
    {
     "data": {
      "text/html": [
       "<div>\n",
       "<style scoped>\n",
       "    .dataframe tbody tr th:only-of-type {\n",
       "        vertical-align: middle;\n",
       "    }\n",
       "\n",
       "    .dataframe tbody tr th {\n",
       "        vertical-align: top;\n",
       "    }\n",
       "\n",
       "    .dataframe thead th {\n",
       "        text-align: right;\n",
       "    }\n",
       "</style>\n",
       "<table border=\"1\" class=\"dataframe\">\n",
       "  <thead>\n",
       "    <tr style=\"text-align: right;\">\n",
       "      <th></th>\n",
       "      <th>movieId</th>\n",
       "    </tr>\n",
       "    <tr>\n",
       "      <th>userId</th>\n",
       "      <th></th>\n",
       "    </tr>\n",
       "  </thead>\n",
       "  <tbody>\n",
       "    <tr>\n",
       "      <th>1</th>\n",
       "      <td>[804, 1210, 2628, 2826, 2018, 3578, 3617, 3744...</td>\n",
       "    </tr>\n",
       "    <tr>\n",
       "      <th>2</th>\n",
       "      <td>[318, 79132, 131724, 115713, 99114, 112552, 35...</td>\n",
       "    </tr>\n",
       "    <tr>\n",
       "      <th>3</th>\n",
       "      <td>[1275, 2105, 1371, 914, 1263, 2080, 31, 720, 3...</td>\n",
       "    </tr>\n",
       "    <tr>\n",
       "      <th>4</th>\n",
       "      <td>[171, 902, 2351, 417, 1304, 2959, 2712, 162, 5...</td>\n",
       "    </tr>\n",
       "    <tr>\n",
       "      <th>5</th>\n",
       "      <td>[590, 592, 150, 380, 296, 457, 588, 153, 344, ...</td>\n",
       "    </tr>\n",
       "  </tbody>\n",
       "</table>\n",
       "</div>"
      ],
      "text/plain": [
       "                                                  movieId\n",
       "userId                                                   \n",
       "1       [804, 1210, 2628, 2826, 2018, 3578, 3617, 3744...\n",
       "2       [318, 79132, 131724, 115713, 99114, 112552, 35...\n",
       "3       [1275, 2105, 1371, 914, 1263, 2080, 31, 720, 3...\n",
       "4       [171, 902, 2351, 417, 1304, 2959, 2712, 162, 5...\n",
       "5       [590, 592, 150, 380, 296, 457, 588, 153, 344, ..."
      ]
     },
     "execution_count": 56,
     "metadata": {},
     "output_type": "execute_result"
    }
   ],
   "source": [
    "ratings_sorted = ratings.sort_values(by='timestamp')\n",
    "movies_by_user = pd.DataFrame(ratings_sorted.groupby('userId')['movieId'].apply(list))\n",
    "movies_by_user.head()"
   ]
  },
  {
   "cell_type": "markdown",
   "metadata": {},
   "source": [
    "Para cada usuario me quedo con la última película que vio:"
   ]
  },
  {
   "cell_type": "code",
   "execution_count": 57,
   "metadata": {},
   "outputs": [
    {
     "data": {
      "text/plain": [
       "2492"
      ]
     },
     "execution_count": 57,
     "metadata": {},
     "output_type": "execute_result"
    }
   ],
   "source": [
    "movies_by_user['movieId'][1][-1]"
   ]
  },
  {
   "cell_type": "code",
   "execution_count": 58,
   "metadata": {},
   "outputs": [
    {
     "data": {
      "text/html": [
       "<div>\n",
       "<style scoped>\n",
       "    .dataframe tbody tr th:only-of-type {\n",
       "        vertical-align: middle;\n",
       "    }\n",
       "\n",
       "    .dataframe tbody tr th {\n",
       "        vertical-align: top;\n",
       "    }\n",
       "\n",
       "    .dataframe thead th {\n",
       "        text-align: right;\n",
       "    }\n",
       "</style>\n",
       "<table border=\"1\" class=\"dataframe\">\n",
       "  <thead>\n",
       "    <tr style=\"text-align: right;\">\n",
       "      <th></th>\n",
       "      <th>movieId</th>\n",
       "      <th>last_watched</th>\n",
       "    </tr>\n",
       "    <tr>\n",
       "      <th>userId</th>\n",
       "      <th></th>\n",
       "      <th></th>\n",
       "    </tr>\n",
       "  </thead>\n",
       "  <tbody>\n",
       "    <tr>\n",
       "      <th>1</th>\n",
       "      <td>[804, 1210, 2628, 2826, 2018, 3578, 3617, 3744...</td>\n",
       "      <td>2492</td>\n",
       "    </tr>\n",
       "    <tr>\n",
       "      <th>2</th>\n",
       "      <td>[318, 79132, 131724, 115713, 99114, 112552, 35...</td>\n",
       "      <td>80489</td>\n",
       "    </tr>\n",
       "    <tr>\n",
       "      <th>3</th>\n",
       "      <td>[1275, 2105, 1371, 914, 1263, 2080, 31, 720, 3...</td>\n",
       "      <td>2424</td>\n",
       "    </tr>\n",
       "    <tr>\n",
       "      <th>4</th>\n",
       "      <td>[171, 902, 2351, 417, 1304, 2959, 2712, 162, 5...</td>\n",
       "      <td>4246</td>\n",
       "    </tr>\n",
       "    <tr>\n",
       "      <th>5</th>\n",
       "      <td>[590, 592, 150, 380, 296, 457, 588, 153, 344, ...</td>\n",
       "      <td>474</td>\n",
       "    </tr>\n",
       "  </tbody>\n",
       "</table>\n",
       "</div>"
      ],
      "text/plain": [
       "                                                  movieId  last_watched\n",
       "userId                                                                 \n",
       "1       [804, 1210, 2628, 2826, 2018, 3578, 3617, 3744...          2492\n",
       "2       [318, 79132, 131724, 115713, 99114, 112552, 35...         80489\n",
       "3       [1275, 2105, 1371, 914, 1263, 2080, 31, 720, 3...          2424\n",
       "4       [171, 902, 2351, 417, 1304, 2959, 2712, 162, 5...          4246\n",
       "5       [590, 592, 150, 380, 296, 457, 588, 153, 344, ...           474"
      ]
     },
     "execution_count": 58,
     "metadata": {},
     "output_type": "execute_result"
    }
   ],
   "source": [
    "movies_by_user['last_watched'] = movies_by_user['movieId'].apply(lambda x: x[-1])\n",
    "movies_by_user.head()"
   ]
  },
  {
   "cell_type": "markdown",
   "metadata": {},
   "source": [
    "Y le recomiendo las 10 películas más parecidas a esa, sin recomendarle alguna que ya vio:"
   ]
  },
  {
   "cell_type": "code",
   "execution_count": 64,
   "metadata": {},
   "outputs": [],
   "source": [
    "def user_recommendation(uid=1,num=1):\n",
    "    last_watched_id = movies_by_user.loc[uid]['last_watched']\n",
    "    movies_watched = movies_by_user.loc[uid]['movieId']\n",
    "    recommendation = results[last_watched_id]#[:num]\n",
    "    i=0\n",
    "    j=0\n",
    "    recs=[]\n",
    "    while i<num:\n",
    "        if recommendation[j][1] not in movies_watched:\n",
    "            recs.append(recommendation[j])\n",
    "            j+=1\n",
    "            i+=1\n",
    "        else:\n",
    "            j+=1\n",
    "    \n",
    "    #print(\"Recomendando \" + str(num) + \" productos similares a \" + item(last_watched_id) + \"...\")\n",
    "    print(\"Porque ya viste \" + item(last_watched_id) + \"...\")\n",
    "    print(\"-------\")\n",
    "    for rec in recs:\n",
    "        #print(\"Recomendado: \" + str(rec[1]) + ' ' + item(rec[1]) + \" (score:\" + str(rec[0]) + \")\")\n",
    "        print(\"Recomendado: \" + item(rec[1]) + \" (score:\" + str(rec[0]) + \")\")\n",
    "    #return recommendation"
   ]
  },
  {
   "cell_type": "code",
   "execution_count": 65,
   "metadata": {
    "scrolled": false
   },
   "outputs": [
    {
     "name": "stdout",
     "output_type": "stream",
     "text": [
      "Porque ya viste Hellraiser (1987)...\n",
      "-------\n",
      "Recomendado: Hellbound: Hellraiser II (1988) (score:0.9997528)\n",
      "Recomendado: Curse of Frankenstein, The (1957) (score:0.9993524)\n",
      "Recomendado: Horror of Dracula (Dracula) (1958) (score:0.9993259)\n",
      "Recomendado: The Plague of the Zombies (1966) (score:0.9991412)\n",
      "Recomendado: Mummy, The (1959) (score:0.9990238)\n",
      "Recomendado: Awakening, The (1980) (score:0.99892455)\n",
      "Recomendado: Black Mirror: White Christmas (2014) (score:0.99806404)\n",
      "Recomendado: Legend of Hell House, The (1973) (score:0.9975152)\n",
      "Recomendado: The Girl with All the Gifts (2016) (score:0.9971984)\n",
      "Recomendado: Children of the Damned (1963) (score:0.99719554)\n"
     ]
    }
   ],
   "source": [
    "uid=610\n",
    "num=10\n",
    "user_recommendation(uid,num)"
   ]
  },
  {
   "cell_type": "code",
   "execution_count": 66,
   "metadata": {},
   "outputs": [
    {
     "name": "stdout",
     "output_type": "stream",
     "text": [
      "Porque ya viste 20 Dates (1998)...\n",
      "-------\n",
      "Recomendado: Drive Me Crazy (1999) (score:0.99990344)\n",
      "Recomendado: Boys and Girls (2000) (score:0.9998874)\n",
      "Recomendado: Sweetest Thing, The (2002) (score:0.99988365)\n",
      "Recomendado: Lost & Found (1999) (score:0.9998821)\n",
      "Recomendado: Booty Call (1997) (score:0.99987364)\n",
      "Recomendado: Sixteen Candles (1984) (score:0.99987316)\n",
      "Recomendado: Amy's O (a.k.a. Amy's Orgasm) (2001) (score:0.9998625)\n",
      "Recomendado: Admission (2013) (score:0.9998502)\n",
      "Recomendado: Whatever It Takes (2000) (score:0.9998469)\n",
      "Recomendado: Rewrite, The (2014) (score:0.9998394)\n"
     ]
    }
   ],
   "source": [
    "uid=1\n",
    "num=10\n",
    "user_recommendation(uid,num)"
   ]
  },
  {
   "cell_type": "code",
   "execution_count": 67,
   "metadata": {},
   "outputs": [
    {
     "name": "stdout",
     "output_type": "stream",
     "text": [
      "Porque ya viste Finding Dory (2016)...\n",
      "-------\n",
      "Recomendado: Ice Age 4: Continental Drift (2012) (score:0.99983585)\n",
      "Recomendado: Planes (2013) (score:0.99964774)\n",
      "Recomendado: Sausage Party (2016) (score:0.9995589)\n",
      "Recomendado: The Madagascar Penguins in a Christmas Caper (2005) (score:0.9994921)\n",
      "Recomendado: Wreck-It Ralph (2012) (score:0.99948347)\n",
      "Recomendado: ParaNorman (2012) (score:0.99943465)\n",
      "Recomendado: Bolt (2008) (score:0.99940515)\n",
      "Recomendado: Puss in Boots: The Three Diablos (2012) (score:0.99938387)\n",
      "Recomendado: Mr. Peabody & Sherman (2014) (score:0.99937123)\n",
      "Recomendado: Inside Out (2015) (score:0.999301)\n"
     ]
    }
   ],
   "source": [
    "uid=154\n",
    "num=10\n",
    "user_recommendation(uid,num)"
   ]
  },
  {
   "cell_type": "code",
   "execution_count": 63,
   "metadata": {},
   "outputs": [],
   "source": [
    "# sorted(movies_by_user.loc[uid]['movieId'])"
   ]
  },
  {
   "cell_type": "code",
   "execution_count": null,
   "metadata": {},
   "outputs": [],
   "source": []
  }
 ],
 "metadata": {
  "kernelspec": {
   "display_name": "Python 3",
   "language": "python",
   "name": "python3"
  },
  "language_info": {
   "codemirror_mode": {
    "name": "ipython",
    "version": 3
   },
   "file_extension": ".py",
   "mimetype": "text/x-python",
   "name": "python",
   "nbconvert_exporter": "python",
   "pygments_lexer": "ipython3",
   "version": "3.7.3"
  }
 },
 "nbformat": 4,
 "nbformat_minor": 2
}
