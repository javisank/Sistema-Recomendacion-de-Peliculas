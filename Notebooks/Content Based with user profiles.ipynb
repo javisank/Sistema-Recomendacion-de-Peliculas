{
 "cells": [
  {
   "cell_type": "markdown",
   "metadata": {},
   "source": [
    "## 1. Importar librerías"
   ]
  },
  {
   "cell_type": "code",
   "execution_count": 1,
   "metadata": {},
   "outputs": [
    {
     "name": "stderr",
     "output_type": "stream",
     "text": [
      "C:\\Users\\JAVI\\Miniconda3\\envs\\dhds\\lib\\site-packages\\gensim\\utils.py:1197: UserWarning: detected Windows; aliasing chunkize to chunkize_serial\n",
      "  warnings.warn(\"detected Windows; aliasing chunkize to chunkize_serial\")\n"
     ]
    }
   ],
   "source": [
    "import pandas as pd\n",
    "import numpy as np\n",
    "import matplotlib.pyplot as pltd\n",
    "import seaborn as sns\n",
    "from sklearn.metrics.pairwise import cosine_similarity\n",
    "\n",
    "from gensim.models import Word2Vec"
   ]
  },
  {
   "cell_type": "markdown",
   "metadata": {},
   "source": [
    "## 2. Cargar datos"
   ]
  },
  {
   "cell_type": "code",
   "execution_count": 2,
   "metadata": {},
   "outputs": [],
   "source": [
    "movies=pd.read_csv('../Data/movies.csv')\n",
    "ratings=pd.read_csv('../Data/ratings.csv')\n",
    "links=pd.read_csv('../Data/links.csv')\n",
    "tags=pd.read_csv('../Data/tags.csv')\n",
    "imdb=pd.read_csv('../Data/tab_imdb_info.csv',index_col=0)"
   ]
  },
  {
   "cell_type": "code",
   "execution_count": 3,
   "metadata": {},
   "outputs": [
    {
     "data": {
      "text/html": [
       "<div>\n",
       "<style scoped>\n",
       "    .dataframe tbody tr th:only-of-type {\n",
       "        vertical-align: middle;\n",
       "    }\n",
       "\n",
       "    .dataframe tbody tr th {\n",
       "        vertical-align: top;\n",
       "    }\n",
       "\n",
       "    .dataframe thead th {\n",
       "        text-align: right;\n",
       "    }\n",
       "</style>\n",
       "<table border=\"1\" class=\"dataframe\">\n",
       "  <thead>\n",
       "    <tr style=\"text-align: right;\">\n",
       "      <th></th>\n",
       "      <th>movieId</th>\n",
       "      <th>title</th>\n",
       "      <th>genres</th>\n",
       "    </tr>\n",
       "  </thead>\n",
       "  <tbody>\n",
       "    <tr>\n",
       "      <th>0</th>\n",
       "      <td>1</td>\n",
       "      <td>Toy Story (1995)</td>\n",
       "      <td>Adventure|Animation|Children|Comedy|Fantasy</td>\n",
       "    </tr>\n",
       "    <tr>\n",
       "      <th>1</th>\n",
       "      <td>2</td>\n",
       "      <td>Jumanji (1995)</td>\n",
       "      <td>Adventure|Children|Fantasy</td>\n",
       "    </tr>\n",
       "    <tr>\n",
       "      <th>2</th>\n",
       "      <td>3</td>\n",
       "      <td>Grumpier Old Men (1995)</td>\n",
       "      <td>Comedy|Romance</td>\n",
       "    </tr>\n",
       "    <tr>\n",
       "      <th>3</th>\n",
       "      <td>4</td>\n",
       "      <td>Waiting to Exhale (1995)</td>\n",
       "      <td>Comedy|Drama|Romance</td>\n",
       "    </tr>\n",
       "    <tr>\n",
       "      <th>4</th>\n",
       "      <td>5</td>\n",
       "      <td>Father of the Bride Part II (1995)</td>\n",
       "      <td>Comedy</td>\n",
       "    </tr>\n",
       "  </tbody>\n",
       "</table>\n",
       "</div>"
      ],
      "text/plain": [
       "   movieId                               title  \\\n",
       "0        1                    Toy Story (1995)   \n",
       "1        2                      Jumanji (1995)   \n",
       "2        3             Grumpier Old Men (1995)   \n",
       "3        4            Waiting to Exhale (1995)   \n",
       "4        5  Father of the Bride Part II (1995)   \n",
       "\n",
       "                                        genres  \n",
       "0  Adventure|Animation|Children|Comedy|Fantasy  \n",
       "1                   Adventure|Children|Fantasy  \n",
       "2                               Comedy|Romance  \n",
       "3                         Comedy|Drama|Romance  \n",
       "4                                       Comedy  "
      ]
     },
     "execution_count": 3,
     "metadata": {},
     "output_type": "execute_result"
    }
   ],
   "source": [
    "movies.head()"
   ]
  },
  {
   "cell_type": "code",
   "execution_count": 4,
   "metadata": {},
   "outputs": [
    {
     "data": {
      "text/html": [
       "<div>\n",
       "<style scoped>\n",
       "    .dataframe tbody tr th:only-of-type {\n",
       "        vertical-align: middle;\n",
       "    }\n",
       "\n",
       "    .dataframe tbody tr th {\n",
       "        vertical-align: top;\n",
       "    }\n",
       "\n",
       "    .dataframe thead th {\n",
       "        text-align: right;\n",
       "    }\n",
       "</style>\n",
       "<table border=\"1\" class=\"dataframe\">\n",
       "  <thead>\n",
       "    <tr style=\"text-align: right;\">\n",
       "      <th></th>\n",
       "      <th>movieId</th>\n",
       "      <th>imdbId</th>\n",
       "      <th>tmdbId</th>\n",
       "    </tr>\n",
       "  </thead>\n",
       "  <tbody>\n",
       "    <tr>\n",
       "      <th>0</th>\n",
       "      <td>1</td>\n",
       "      <td>114709</td>\n",
       "      <td>862.0</td>\n",
       "    </tr>\n",
       "    <tr>\n",
       "      <th>1</th>\n",
       "      <td>2</td>\n",
       "      <td>113497</td>\n",
       "      <td>8844.0</td>\n",
       "    </tr>\n",
       "    <tr>\n",
       "      <th>2</th>\n",
       "      <td>3</td>\n",
       "      <td>113228</td>\n",
       "      <td>15602.0</td>\n",
       "    </tr>\n",
       "    <tr>\n",
       "      <th>3</th>\n",
       "      <td>4</td>\n",
       "      <td>114885</td>\n",
       "      <td>31357.0</td>\n",
       "    </tr>\n",
       "    <tr>\n",
       "      <th>4</th>\n",
       "      <td>5</td>\n",
       "      <td>113041</td>\n",
       "      <td>11862.0</td>\n",
       "    </tr>\n",
       "  </tbody>\n",
       "</table>\n",
       "</div>"
      ],
      "text/plain": [
       "   movieId  imdbId   tmdbId\n",
       "0        1  114709    862.0\n",
       "1        2  113497   8844.0\n",
       "2        3  113228  15602.0\n",
       "3        4  114885  31357.0\n",
       "4        5  113041  11862.0"
      ]
     },
     "execution_count": 4,
     "metadata": {},
     "output_type": "execute_result"
    }
   ],
   "source": [
    "links.head()"
   ]
  },
  {
   "cell_type": "code",
   "execution_count": 5,
   "metadata": {},
   "outputs": [
    {
     "data": {
      "text/plain": [
       "movieId      int64\n",
       "imdbId       int64\n",
       "tmdbId     float64\n",
       "dtype: object"
      ]
     },
     "execution_count": 5,
     "metadata": {},
     "output_type": "execute_result"
    }
   ],
   "source": [
    "links.dtypes"
   ]
  },
  {
   "cell_type": "code",
   "execution_count": 6,
   "metadata": {
    "scrolled": true
   },
   "outputs": [
    {
     "data": {
      "text/html": [
       "<div>\n",
       "<style scoped>\n",
       "    .dataframe tbody tr th:only-of-type {\n",
       "        vertical-align: middle;\n",
       "    }\n",
       "\n",
       "    .dataframe tbody tr th {\n",
       "        vertical-align: top;\n",
       "    }\n",
       "\n",
       "    .dataframe thead th {\n",
       "        text-align: right;\n",
       "    }\n",
       "</style>\n",
       "<table border=\"1\" class=\"dataframe\">\n",
       "  <thead>\n",
       "    <tr style=\"text-align: right;\">\n",
       "      <th></th>\n",
       "      <th>actors</th>\n",
       "      <th>country</th>\n",
       "      <th>director</th>\n",
       "      <th>req_imdbid</th>\n",
       "      <th>year</th>\n",
       "    </tr>\n",
       "  </thead>\n",
       "  <tbody>\n",
       "    <tr>\n",
       "      <th>0</th>\n",
       "      <td>Tom Hanks, Tim Allen, Don Rickles, Jim Varney</td>\n",
       "      <td>USA</td>\n",
       "      <td>John Lasseter</td>\n",
       "      <td>tt0114709</td>\n",
       "      <td>1995</td>\n",
       "    </tr>\n",
       "    <tr>\n",
       "      <th>1</th>\n",
       "      <td>Robin Williams, Jonathan Hyde, Kirsten Dunst, ...</td>\n",
       "      <td>USA</td>\n",
       "      <td>Joe Johnston</td>\n",
       "      <td>tt0113497</td>\n",
       "      <td>1995</td>\n",
       "    </tr>\n",
       "    <tr>\n",
       "      <th>2</th>\n",
       "      <td>Walter Matthau, Jack Lemmon, Sophia Loren, Ann...</td>\n",
       "      <td>USA</td>\n",
       "      <td>Howard Deutch</td>\n",
       "      <td>tt0113228</td>\n",
       "      <td>1995</td>\n",
       "    </tr>\n",
       "    <tr>\n",
       "      <th>3</th>\n",
       "      <td>Whitney Houston, Angela Bassett, Loretta Devin...</td>\n",
       "      <td>USA</td>\n",
       "      <td>Forest Whitaker</td>\n",
       "      <td>tt0114885</td>\n",
       "      <td>1995</td>\n",
       "    </tr>\n",
       "    <tr>\n",
       "      <th>4</th>\n",
       "      <td>Steve Martin, Diane Keaton, Martin Short, Kimb...</td>\n",
       "      <td>USA</td>\n",
       "      <td>Charles Shyer</td>\n",
       "      <td>tt0113041</td>\n",
       "      <td>1995</td>\n",
       "    </tr>\n",
       "  </tbody>\n",
       "</table>\n",
       "</div>"
      ],
      "text/plain": [
       "                                              actors country         director  \\\n",
       "0      Tom Hanks, Tim Allen, Don Rickles, Jim Varney     USA    John Lasseter   \n",
       "1  Robin Williams, Jonathan Hyde, Kirsten Dunst, ...     USA     Joe Johnston   \n",
       "2  Walter Matthau, Jack Lemmon, Sophia Loren, Ann...     USA    Howard Deutch   \n",
       "3  Whitney Houston, Angela Bassett, Loretta Devin...     USA  Forest Whitaker   \n",
       "4  Steve Martin, Diane Keaton, Martin Short, Kimb...     USA    Charles Shyer   \n",
       "\n",
       "  req_imdbid  year  \n",
       "0  tt0114709  1995  \n",
       "1  tt0113497  1995  \n",
       "2  tt0113228  1995  \n",
       "3  tt0114885  1995  \n",
       "4  tt0113041  1995  "
      ]
     },
     "execution_count": 6,
     "metadata": {},
     "output_type": "execute_result"
    }
   ],
   "source": [
    "imdb.head()"
   ]
  },
  {
   "cell_type": "code",
   "execution_count": 7,
   "metadata": {},
   "outputs": [
    {
     "data": {
      "text/html": [
       "<div>\n",
       "<style scoped>\n",
       "    .dataframe tbody tr th:only-of-type {\n",
       "        vertical-align: middle;\n",
       "    }\n",
       "\n",
       "    .dataframe tbody tr th {\n",
       "        vertical-align: top;\n",
       "    }\n",
       "\n",
       "    .dataframe thead th {\n",
       "        text-align: right;\n",
       "    }\n",
       "</style>\n",
       "<table border=\"1\" class=\"dataframe\">\n",
       "  <thead>\n",
       "    <tr style=\"text-align: right;\">\n",
       "      <th></th>\n",
       "      <th>actors</th>\n",
       "      <th>country</th>\n",
       "      <th>director</th>\n",
       "      <th>req_imdbid</th>\n",
       "      <th>year</th>\n",
       "    </tr>\n",
       "  </thead>\n",
       "  <tbody>\n",
       "    <tr>\n",
       "      <th>0</th>\n",
       "      <td>Tom Hanks, Tim Allen, Don Rickles, Jim Varney</td>\n",
       "      <td>USA</td>\n",
       "      <td>John Lasseter</td>\n",
       "      <td>tt0114709</td>\n",
       "      <td>1995</td>\n",
       "    </tr>\n",
       "    <tr>\n",
       "      <th>1</th>\n",
       "      <td>Robin Williams, Jonathan Hyde, Kirsten Dunst, ...</td>\n",
       "      <td>USA</td>\n",
       "      <td>Joe Johnston</td>\n",
       "      <td>tt0113497</td>\n",
       "      <td>1995</td>\n",
       "    </tr>\n",
       "    <tr>\n",
       "      <th>2</th>\n",
       "      <td>Walter Matthau, Jack Lemmon, Sophia Loren, Ann...</td>\n",
       "      <td>USA</td>\n",
       "      <td>Howard Deutch</td>\n",
       "      <td>tt0113228</td>\n",
       "      <td>1995</td>\n",
       "    </tr>\n",
       "    <tr>\n",
       "      <th>3</th>\n",
       "      <td>Whitney Houston, Angela Bassett, Loretta Devin...</td>\n",
       "      <td>USA</td>\n",
       "      <td>Forest Whitaker</td>\n",
       "      <td>tt0114885</td>\n",
       "      <td>1995</td>\n",
       "    </tr>\n",
       "    <tr>\n",
       "      <th>4</th>\n",
       "      <td>Steve Martin, Diane Keaton, Martin Short, Kimb...</td>\n",
       "      <td>USA</td>\n",
       "      <td>Charles Shyer</td>\n",
       "      <td>tt0113041</td>\n",
       "      <td>1995</td>\n",
       "    </tr>\n",
       "  </tbody>\n",
       "</table>\n",
       "</div>"
      ],
      "text/plain": [
       "                                              actors country         director  \\\n",
       "0      Tom Hanks, Tim Allen, Don Rickles, Jim Varney     USA    John Lasseter   \n",
       "1  Robin Williams, Jonathan Hyde, Kirsten Dunst, ...     USA     Joe Johnston   \n",
       "2  Walter Matthau, Jack Lemmon, Sophia Loren, Ann...     USA    Howard Deutch   \n",
       "3  Whitney Houston, Angela Bassett, Loretta Devin...     USA  Forest Whitaker   \n",
       "4  Steve Martin, Diane Keaton, Martin Short, Kimb...     USA    Charles Shyer   \n",
       "\n",
       "  req_imdbid  year  \n",
       "0  tt0114709  1995  \n",
       "1  tt0113497  1995  \n",
       "2  tt0113228  1995  \n",
       "3  tt0114885  1995  \n",
       "4  tt0113041  1995  "
      ]
     },
     "execution_count": 7,
     "metadata": {},
     "output_type": "execute_result"
    }
   ],
   "source": [
    "imdb.head()"
   ]
  },
  {
   "cell_type": "markdown",
   "metadata": {},
   "source": [
    "## 3. Feature Extraction"
   ]
  },
  {
   "cell_type": "markdown",
   "metadata": {},
   "source": [
    "Corregir id's de imdb:"
   ]
  },
  {
   "cell_type": "code",
   "execution_count": 8,
   "metadata": {},
   "outputs": [],
   "source": [
    "imdb['imdbId']=imdb['req_imdbid'].apply(lambda x: x[2:]).astype('int64')"
   ]
  },
  {
   "cell_type": "code",
   "execution_count": 9,
   "metadata": {
    "scrolled": true
   },
   "outputs": [
    {
     "data": {
      "text/html": [
       "<div>\n",
       "<style scoped>\n",
       "    .dataframe tbody tr th:only-of-type {\n",
       "        vertical-align: middle;\n",
       "    }\n",
       "\n",
       "    .dataframe tbody tr th {\n",
       "        vertical-align: top;\n",
       "    }\n",
       "\n",
       "    .dataframe thead th {\n",
       "        text-align: right;\n",
       "    }\n",
       "</style>\n",
       "<table border=\"1\" class=\"dataframe\">\n",
       "  <thead>\n",
       "    <tr style=\"text-align: right;\">\n",
       "      <th></th>\n",
       "      <th>movieId</th>\n",
       "      <th>imdbId</th>\n",
       "      <th>tmdbId</th>\n",
       "      <th>title</th>\n",
       "      <th>genres</th>\n",
       "    </tr>\n",
       "  </thead>\n",
       "  <tbody>\n",
       "    <tr>\n",
       "      <th>0</th>\n",
       "      <td>1</td>\n",
       "      <td>114709</td>\n",
       "      <td>862.0</td>\n",
       "      <td>Toy Story (1995)</td>\n",
       "      <td>Adventure|Animation|Children|Comedy|Fantasy</td>\n",
       "    </tr>\n",
       "    <tr>\n",
       "      <th>1</th>\n",
       "      <td>2</td>\n",
       "      <td>113497</td>\n",
       "      <td>8844.0</td>\n",
       "      <td>Jumanji (1995)</td>\n",
       "      <td>Adventure|Children|Fantasy</td>\n",
       "    </tr>\n",
       "    <tr>\n",
       "      <th>2</th>\n",
       "      <td>3</td>\n",
       "      <td>113228</td>\n",
       "      <td>15602.0</td>\n",
       "      <td>Grumpier Old Men (1995)</td>\n",
       "      <td>Comedy|Romance</td>\n",
       "    </tr>\n",
       "    <tr>\n",
       "      <th>3</th>\n",
       "      <td>4</td>\n",
       "      <td>114885</td>\n",
       "      <td>31357.0</td>\n",
       "      <td>Waiting to Exhale (1995)</td>\n",
       "      <td>Comedy|Drama|Romance</td>\n",
       "    </tr>\n",
       "    <tr>\n",
       "      <th>4</th>\n",
       "      <td>5</td>\n",
       "      <td>113041</td>\n",
       "      <td>11862.0</td>\n",
       "      <td>Father of the Bride Part II (1995)</td>\n",
       "      <td>Comedy</td>\n",
       "    </tr>\n",
       "  </tbody>\n",
       "</table>\n",
       "</div>"
      ],
      "text/plain": [
       "   movieId  imdbId   tmdbId                               title  \\\n",
       "0        1  114709    862.0                    Toy Story (1995)   \n",
       "1        2  113497   8844.0                      Jumanji (1995)   \n",
       "2        3  113228  15602.0             Grumpier Old Men (1995)   \n",
       "3        4  114885  31357.0            Waiting to Exhale (1995)   \n",
       "4        5  113041  11862.0  Father of the Bride Part II (1995)   \n",
       "\n",
       "                                        genres  \n",
       "0  Adventure|Animation|Children|Comedy|Fantasy  \n",
       "1                   Adventure|Children|Fantasy  \n",
       "2                               Comedy|Romance  \n",
       "3                         Comedy|Drama|Romance  \n",
       "4                                       Comedy  "
      ]
     },
     "execution_count": 9,
     "metadata": {},
     "output_type": "execute_result"
    }
   ],
   "source": [
    "pd.merge(links,movies,on='movieId').head()"
   ]
  },
  {
   "cell_type": "code",
   "execution_count": 10,
   "metadata": {},
   "outputs": [
    {
     "data": {
      "text/plain": [
       "actors        32\n",
       "country       12\n",
       "director      94\n",
       "req_imdbid     0\n",
       "year           0\n",
       "imdbId         0\n",
       "dtype: int64"
      ]
     },
     "execution_count": 10,
     "metadata": {},
     "output_type": "execute_result"
    }
   ],
   "source": [
    "imdb.isna().sum()"
   ]
  },
  {
   "cell_type": "code",
   "execution_count": 11,
   "metadata": {},
   "outputs": [],
   "source": [
    "imdb.fillna('-',inplace=True)"
   ]
  },
  {
   "cell_type": "code",
   "execution_count": 12,
   "metadata": {},
   "outputs": [
    {
     "data": {
      "text/plain": [
       "array([4, 2, 3, 1], dtype=int64)"
      ]
     },
     "execution_count": 12,
     "metadata": {},
     "output_type": "execute_result"
    }
   ],
   "source": [
    "imdb['actors'].apply(lambda x: len(x.split(','))).unique()"
   ]
  },
  {
   "cell_type": "code",
   "execution_count": 13,
   "metadata": {},
   "outputs": [],
   "source": [
    "# imdb['director1'] = imdb['director'].apply(lambda x: x.split(',')[0])\n",
    "# imdb['actor1'] = imdb['actors'].apply(lambda x: x.split(',')[0])\n",
    "# #imdb['actor2'] = imdb['actors'].apply(lambda x: x.split(',')[1])\n",
    "# imdb['country1'] = imdb['country'].apply(lambda x: x.split(',')[0])"
   ]
  },
  {
   "cell_type": "markdown",
   "metadata": {},
   "source": [
    "Creo un dataframe con todos los datos necesarios para crear features por películas:"
   ]
  },
  {
   "cell_type": "code",
   "execution_count": 14,
   "metadata": {},
   "outputs": [
    {
     "data": {
      "text/html": [
       "<div>\n",
       "<style scoped>\n",
       "    .dataframe tbody tr th:only-of-type {\n",
       "        vertical-align: middle;\n",
       "    }\n",
       "\n",
       "    .dataframe tbody tr th {\n",
       "        vertical-align: top;\n",
       "    }\n",
       "\n",
       "    .dataframe thead th {\n",
       "        text-align: right;\n",
       "    }\n",
       "</style>\n",
       "<table border=\"1\" class=\"dataframe\">\n",
       "  <thead>\n",
       "    <tr style=\"text-align: right;\">\n",
       "      <th></th>\n",
       "      <th>movieId</th>\n",
       "      <th>imdbId</th>\n",
       "      <th>tmdbId</th>\n",
       "      <th>actors</th>\n",
       "      <th>country</th>\n",
       "      <th>director</th>\n",
       "      <th>req_imdbid</th>\n",
       "      <th>year</th>\n",
       "      <th>title</th>\n",
       "      <th>genres</th>\n",
       "    </tr>\n",
       "  </thead>\n",
       "  <tbody>\n",
       "    <tr>\n",
       "      <th>0</th>\n",
       "      <td>1</td>\n",
       "      <td>114709</td>\n",
       "      <td>862.0</td>\n",
       "      <td>Tom Hanks, Tim Allen, Don Rickles, Jim Varney</td>\n",
       "      <td>USA</td>\n",
       "      <td>John Lasseter</td>\n",
       "      <td>tt0114709</td>\n",
       "      <td>1995</td>\n",
       "      <td>Toy Story (1995)</td>\n",
       "      <td>Adventure|Animation|Children|Comedy|Fantasy</td>\n",
       "    </tr>\n",
       "    <tr>\n",
       "      <th>1</th>\n",
       "      <td>2</td>\n",
       "      <td>113497</td>\n",
       "      <td>8844.0</td>\n",
       "      <td>Robin Williams, Jonathan Hyde, Kirsten Dunst, ...</td>\n",
       "      <td>USA</td>\n",
       "      <td>Joe Johnston</td>\n",
       "      <td>tt0113497</td>\n",
       "      <td>1995</td>\n",
       "      <td>Jumanji (1995)</td>\n",
       "      <td>Adventure|Children|Fantasy</td>\n",
       "    </tr>\n",
       "    <tr>\n",
       "      <th>2</th>\n",
       "      <td>3</td>\n",
       "      <td>113228</td>\n",
       "      <td>15602.0</td>\n",
       "      <td>Walter Matthau, Jack Lemmon, Sophia Loren, Ann...</td>\n",
       "      <td>USA</td>\n",
       "      <td>Howard Deutch</td>\n",
       "      <td>tt0113228</td>\n",
       "      <td>1995</td>\n",
       "      <td>Grumpier Old Men (1995)</td>\n",
       "      <td>Comedy|Romance</td>\n",
       "    </tr>\n",
       "    <tr>\n",
       "      <th>3</th>\n",
       "      <td>4</td>\n",
       "      <td>114885</td>\n",
       "      <td>31357.0</td>\n",
       "      <td>Whitney Houston, Angela Bassett, Loretta Devin...</td>\n",
       "      <td>USA</td>\n",
       "      <td>Forest Whitaker</td>\n",
       "      <td>tt0114885</td>\n",
       "      <td>1995</td>\n",
       "      <td>Waiting to Exhale (1995)</td>\n",
       "      <td>Comedy|Drama|Romance</td>\n",
       "    </tr>\n",
       "    <tr>\n",
       "      <th>4</th>\n",
       "      <td>5</td>\n",
       "      <td>113041</td>\n",
       "      <td>11862.0</td>\n",
       "      <td>Steve Martin, Diane Keaton, Martin Short, Kimb...</td>\n",
       "      <td>USA</td>\n",
       "      <td>Charles Shyer</td>\n",
       "      <td>tt0113041</td>\n",
       "      <td>1995</td>\n",
       "      <td>Father of the Bride Part II (1995)</td>\n",
       "      <td>Comedy</td>\n",
       "    </tr>\n",
       "  </tbody>\n",
       "</table>\n",
       "</div>"
      ],
      "text/plain": [
       "   movieId  imdbId   tmdbId  \\\n",
       "0        1  114709    862.0   \n",
       "1        2  113497   8844.0   \n",
       "2        3  113228  15602.0   \n",
       "3        4  114885  31357.0   \n",
       "4        5  113041  11862.0   \n",
       "\n",
       "                                              actors country         director  \\\n",
       "0      Tom Hanks, Tim Allen, Don Rickles, Jim Varney     USA    John Lasseter   \n",
       "1  Robin Williams, Jonathan Hyde, Kirsten Dunst, ...     USA     Joe Johnston   \n",
       "2  Walter Matthau, Jack Lemmon, Sophia Loren, Ann...     USA    Howard Deutch   \n",
       "3  Whitney Houston, Angela Bassett, Loretta Devin...     USA  Forest Whitaker   \n",
       "4  Steve Martin, Diane Keaton, Martin Short, Kimb...     USA    Charles Shyer   \n",
       "\n",
       "  req_imdbid  year                               title  \\\n",
       "0  tt0114709  1995                    Toy Story (1995)   \n",
       "1  tt0113497  1995                      Jumanji (1995)   \n",
       "2  tt0113228  1995             Grumpier Old Men (1995)   \n",
       "3  tt0114885  1995            Waiting to Exhale (1995)   \n",
       "4  tt0113041  1995  Father of the Bride Part II (1995)   \n",
       "\n",
       "                                        genres  \n",
       "0  Adventure|Animation|Children|Comedy|Fantasy  \n",
       "1                   Adventure|Children|Fantasy  \n",
       "2                               Comedy|Romance  \n",
       "3                         Comedy|Drama|Romance  \n",
       "4                                       Comedy  "
      ]
     },
     "execution_count": 14,
     "metadata": {},
     "output_type": "execute_result"
    }
   ],
   "source": [
    "mov_with_feat = pd.merge(links,imdb,on='imdbId')\n",
    "mov_with_feat = pd.merge(mov_with_feat,movies,on='movieId')\n",
    "mov_with_feat.head()"
   ]
  },
  {
   "cell_type": "code",
   "execution_count": 15,
   "metadata": {},
   "outputs": [
    {
     "data": {
      "text/plain": [
       "movieId       0\n",
       "imdbId        0\n",
       "tmdbId        8\n",
       "actors        0\n",
       "country       0\n",
       "director      0\n",
       "req_imdbid    0\n",
       "year          0\n",
       "title         0\n",
       "genres        0\n",
       "dtype: int64"
      ]
     },
     "execution_count": 15,
     "metadata": {},
     "output_type": "execute_result"
    }
   ],
   "source": [
    "mov_with_feat.isna().sum()"
   ]
  },
  {
   "cell_type": "code",
   "execution_count": 16,
   "metadata": {},
   "outputs": [],
   "source": [
    "mov_with_feat.fillna('-',inplace=True)"
   ]
  },
  {
   "cell_type": "code",
   "execution_count": 17,
   "metadata": {},
   "outputs": [
    {
     "data": {
      "text/html": [
       "<div>\n",
       "<style scoped>\n",
       "    .dataframe tbody tr th:only-of-type {\n",
       "        vertical-align: middle;\n",
       "    }\n",
       "\n",
       "    .dataframe tbody tr th {\n",
       "        vertical-align: top;\n",
       "    }\n",
       "\n",
       "    .dataframe thead th {\n",
       "        text-align: right;\n",
       "    }\n",
       "</style>\n",
       "<table border=\"1\" class=\"dataframe\">\n",
       "  <thead>\n",
       "    <tr style=\"text-align: right;\">\n",
       "      <th></th>\n",
       "      <th>movieId</th>\n",
       "      <th>imdbId</th>\n",
       "      <th>tmdbId</th>\n",
       "      <th>actors</th>\n",
       "      <th>country</th>\n",
       "      <th>director</th>\n",
       "      <th>req_imdbid</th>\n",
       "      <th>year</th>\n",
       "      <th>title</th>\n",
       "      <th>genres</th>\n",
       "    </tr>\n",
       "  </thead>\n",
       "  <tbody>\n",
       "    <tr>\n",
       "      <th>0</th>\n",
       "      <td>1</td>\n",
       "      <td>114709</td>\n",
       "      <td>862</td>\n",
       "      <td>TomHanks,TimAllen,DonRickles,JimVarney</td>\n",
       "      <td>USA</td>\n",
       "      <td>JohnLasseter</td>\n",
       "      <td>tt0114709</td>\n",
       "      <td>1995</td>\n",
       "      <td>Toy Story (1995)</td>\n",
       "      <td>Adventure,Animation,Children,Comedy,Fantasy</td>\n",
       "    </tr>\n",
       "    <tr>\n",
       "      <th>1</th>\n",
       "      <td>2</td>\n",
       "      <td>113497</td>\n",
       "      <td>8844</td>\n",
       "      <td>RobinWilliams,JonathanHyde,KirstenDunst,Bradle...</td>\n",
       "      <td>USA</td>\n",
       "      <td>JoeJohnston</td>\n",
       "      <td>tt0113497</td>\n",
       "      <td>1995</td>\n",
       "      <td>Jumanji (1995)</td>\n",
       "      <td>Adventure,Children,Fantasy</td>\n",
       "    </tr>\n",
       "    <tr>\n",
       "      <th>2</th>\n",
       "      <td>3</td>\n",
       "      <td>113228</td>\n",
       "      <td>15602</td>\n",
       "      <td>WalterMatthau,JackLemmon,SophiaLoren,Ann-Margret</td>\n",
       "      <td>USA</td>\n",
       "      <td>HowardDeutch</td>\n",
       "      <td>tt0113228</td>\n",
       "      <td>1995</td>\n",
       "      <td>Grumpier Old Men (1995)</td>\n",
       "      <td>Comedy,Romance</td>\n",
       "    </tr>\n",
       "    <tr>\n",
       "      <th>3</th>\n",
       "      <td>4</td>\n",
       "      <td>114885</td>\n",
       "      <td>31357</td>\n",
       "      <td>WhitneyHouston,AngelaBassett,LorettaDevine,Lel...</td>\n",
       "      <td>USA</td>\n",
       "      <td>ForestWhitaker</td>\n",
       "      <td>tt0114885</td>\n",
       "      <td>1995</td>\n",
       "      <td>Waiting to Exhale (1995)</td>\n",
       "      <td>Comedy,Drama,Romance</td>\n",
       "    </tr>\n",
       "    <tr>\n",
       "      <th>4</th>\n",
       "      <td>5</td>\n",
       "      <td>113041</td>\n",
       "      <td>11862</td>\n",
       "      <td>SteveMartin,DianeKeaton,MartinShort,KimberlyWi...</td>\n",
       "      <td>USA</td>\n",
       "      <td>CharlesShyer</td>\n",
       "      <td>tt0113041</td>\n",
       "      <td>1995</td>\n",
       "      <td>Father of the Bride Part II (1995)</td>\n",
       "      <td>Comedy</td>\n",
       "    </tr>\n",
       "  </tbody>\n",
       "</table>\n",
       "</div>"
      ],
      "text/plain": [
       "   movieId  imdbId tmdbId                                             actors  \\\n",
       "0        1  114709    862             TomHanks,TimAllen,DonRickles,JimVarney   \n",
       "1        2  113497   8844  RobinWilliams,JonathanHyde,KirstenDunst,Bradle...   \n",
       "2        3  113228  15602   WalterMatthau,JackLemmon,SophiaLoren,Ann-Margret   \n",
       "3        4  114885  31357  WhitneyHouston,AngelaBassett,LorettaDevine,Lel...   \n",
       "4        5  113041  11862  SteveMartin,DianeKeaton,MartinShort,KimberlyWi...   \n",
       "\n",
       "  country        director req_imdbid  year  \\\n",
       "0     USA    JohnLasseter  tt0114709  1995   \n",
       "1     USA     JoeJohnston  tt0113497  1995   \n",
       "2     USA    HowardDeutch  tt0113228  1995   \n",
       "3     USA  ForestWhitaker  tt0114885  1995   \n",
       "4     USA    CharlesShyer  tt0113041  1995   \n",
       "\n",
       "                                title  \\\n",
       "0                    Toy Story (1995)   \n",
       "1                      Jumanji (1995)   \n",
       "2             Grumpier Old Men (1995)   \n",
       "3            Waiting to Exhale (1995)   \n",
       "4  Father of the Bride Part II (1995)   \n",
       "\n",
       "                                        genres  \n",
       "0  Adventure,Animation,Children,Comedy,Fantasy  \n",
       "1                   Adventure,Children,Fantasy  \n",
       "2                               Comedy,Romance  \n",
       "3                         Comedy,Drama,Romance  \n",
       "4                                       Comedy  "
      ]
     },
     "execution_count": 17,
     "metadata": {},
     "output_type": "execute_result"
    }
   ],
   "source": [
    "mov_with_feat['actors'] = mov_with_feat['actors'].str.replace(' ','')\n",
    "mov_with_feat['genres'] = mov_with_feat['genres'].str.replace('|',',')\n",
    "mov_with_feat['genres'] = mov_with_feat['genres'].str.replace(' ','')\n",
    "mov_with_feat['director'] = mov_with_feat['director'].str.replace(' ','')\n",
    "mov_with_feat['country'] = mov_with_feat['country'].str.replace(' ','')\n",
    "mov_with_feat.head()"
   ]
  },
  {
   "cell_type": "markdown",
   "metadata": {},
   "source": [
    "Armado de tokens:"
   ]
  },
  {
   "cell_type": "code",
   "execution_count": 18,
   "metadata": {},
   "outputs": [
    {
     "name": "stdout",
     "output_type": "stream",
     "text": [
      "['TomHanks,TimAllen,DonRickles,JimVarney,JohnLasseter,USA,Adventure,Animation,Children,Comedy,Fantasy']\n"
     ]
    },
    {
     "data": {
      "text/plain": [
       "[('tt0114709',\n",
       "  ['TomHanks',\n",
       "   'TimAllen',\n",
       "   'DonRickles',\n",
       "   'JimVarney',\n",
       "   'JohnLasseter',\n",
       "   'USA',\n",
       "   'Adventure',\n",
       "   'Animation',\n",
       "   'Children',\n",
       "   'Comedy',\n",
       "   'Fantasy']),\n",
       " ('tt0113497',\n",
       "  ['RobinWilliams',\n",
       "   'JonathanHyde',\n",
       "   'KirstenDunst',\n",
       "   'BradleyPierce',\n",
       "   'JoeJohnston',\n",
       "   'USA',\n",
       "   'Adventure',\n",
       "   'Children',\n",
       "   'Fantasy'])]"
      ]
     },
     "execution_count": 18,
     "metadata": {},
     "output_type": "execute_result"
    }
   ],
   "source": [
    "#df1 = mov_with_feat[['actor1','director1','country1']]\n",
    "df1 = mov_with_feat[['actors','director','country','genres']]\n",
    "df1 = df1.apply(lambda x: ','.join(x.astype(str)), axis=1)\n",
    "df1 = df1.str.replace(' ','')\n",
    "df1 = pd.DataFrame({'clean': df1}) \n",
    "print(df1.iloc[0].values)\n",
    "sent = [row.split(',') for row in df1['clean']]\n",
    "mov_sent = [a for a in zip(imdb['req_imdbid'],sent)]\n",
    "mov_sent[0:2]"
   ]
  },
  {
   "cell_type": "markdown",
   "metadata": {},
   "source": [
    "Entrenar modelo de word2vec de gensim:"
   ]
  },
  {
   "cell_type": "code",
   "execution_count": 19,
   "metadata": {},
   "outputs": [],
   "source": [
    "model = Word2Vec(sent, min_count=1,size= 50,workers=3, window =3, sg = 1)"
   ]
  },
  {
   "cell_type": "code",
   "execution_count": 20,
   "metadata": {},
   "outputs": [
    {
     "data": {
      "text/plain": [
       "array([-0.00812474,  0.02219038, -0.13629742, -0.06812207, -0.04932716,\n",
       "       -0.04544505,  0.10206544,  0.07050139, -0.00258269,  0.01271585,\n",
       "       -0.00541251,  0.05166418,  0.06213424, -0.01605988, -0.05592975,\n",
       "        0.07479975, -0.05262347,  0.05855098, -0.02091684,  0.02932028,\n",
       "       -0.08932471, -0.08301935, -0.00633457, -0.09503993, -0.02784147,\n",
       "        0.0122588 ,  0.05447495,  0.05829696,  0.01714864, -0.00502475,\n",
       "        0.09962022, -0.00295439, -0.07304174,  0.01579507, -0.02341432,\n",
       "        0.02143682, -0.02308349, -0.03419221,  0.0127209 ,  0.04806065,\n",
       "        0.01022443,  0.01177682, -0.0104064 , -0.05515768, -0.03004179,\n",
       "        0.01579618,  0.0421125 ,  0.00824872, -0.04222525,  0.01727462],\n",
       "      dtype=float32)"
      ]
     },
     "execution_count": 20,
     "metadata": {},
     "output_type": "execute_result"
    }
   ],
   "source": [
    "#Representation for director John Lasseter\n",
    "model.wv['JohnLasseter']"
   ]
  },
  {
   "cell_type": "code",
   "execution_count": 21,
   "metadata": {},
   "outputs": [
    {
     "data": {
      "text/plain": [
       "0.5414548011288299"
      ]
     },
     "execution_count": 21,
     "metadata": {},
     "output_type": "execute_result"
    }
   ],
   "source": [
    "#Get similarity\n",
    "model.wv.similarity('TomHanks', 'USA')"
   ]
  },
  {
   "cell_type": "code",
   "execution_count": 22,
   "metadata": {},
   "outputs": [
    {
     "data": {
      "text/plain": [
       "array([-0.62427366,  1.2299356 , -0.6054975 , -1.0669184 , -0.03653602,\n",
       "       -0.32616565,  0.49666584,  0.9617545 , -0.20517153,  0.09650631,\n",
       "       -0.04739233,  0.23033707,  0.72469956, -0.53337836,  0.00935083,\n",
       "        0.730372  , -0.29523665,  0.6030255 , -0.38640106, -0.03389729,\n",
       "       -0.5156962 , -0.73369634, -0.2238264 , -0.5295261 ,  0.00583082,\n",
       "        0.07154215,  0.03152158,  0.78821975, -0.21047875, -0.4032773 ,\n",
       "        0.21127698, -0.4957901 ,  0.2597317 ,  0.04746807,  0.75399   ,\n",
       "        0.17057098, -0.22494192, -0.5179529 ,  0.23666866, -0.24235468,\n",
       "        0.24002372,  0.35018936,  0.05686023, -0.5442583 ,  0.151518  ,\n",
       "        0.31308445,  0.74016404,  0.07349315, -0.25695682,  0.21564281],\n",
       "      dtype=float32)"
      ]
     },
     "execution_count": 22,
     "metadata": {},
     "output_type": "execute_result"
    }
   ],
   "source": [
    "model.wv['Adventure']"
   ]
  },
  {
   "cell_type": "code",
   "execution_count": 23,
   "metadata": {},
   "outputs": [
    {
     "data": {
      "text/plain": [
       "array([-0.00553771,  0.06318007, -0.27084884, -0.14818357, -0.10336877,\n",
       "       -0.11326849,  0.16832025,  0.12069437, -0.01216182, -0.00884214,\n",
       "       -0.01904568,  0.06417146,  0.0909134 , -0.02169696, -0.140268  ,\n",
       "        0.14217748, -0.0669183 ,  0.1190383 , -0.0187173 ,  0.04197485,\n",
       "       -0.22056851, -0.16658711, -0.02495076, -0.1941906 , -0.08156897,\n",
       "        0.03293151,  0.11780616,  0.13456377, -0.02307981,  0.01003983,\n",
       "        0.22208475, -0.03866437, -0.15123016,  0.05031635, -0.03126462,\n",
       "        0.02344567, -0.02348871, -0.07349367,  0.03798313,  0.08728705,\n",
       "       -0.00847673,  0.02199434, -0.04332367, -0.11878702, -0.05418347,\n",
       "       -0.01622499,  0.08162432,  0.02776108, -0.09168603, -0.0288553 ],\n",
       "      dtype=float32)"
      ]
     },
     "execution_count": 23,
     "metadata": {},
     "output_type": "execute_result"
    }
   ],
   "source": [
    "model.wv['(nogenreslisted)']"
   ]
  },
  {
   "cell_type": "code",
   "execution_count": 24,
   "metadata": {},
   "outputs": [
    {
     "data": {
      "text/html": [
       "<div>\n",
       "<style scoped>\n",
       "    .dataframe tbody tr th:only-of-type {\n",
       "        vertical-align: middle;\n",
       "    }\n",
       "\n",
       "    .dataframe tbody tr th {\n",
       "        vertical-align: top;\n",
       "    }\n",
       "\n",
       "    .dataframe thead th {\n",
       "        text-align: right;\n",
       "    }\n",
       "</style>\n",
       "<table border=\"1\" class=\"dataframe\">\n",
       "  <thead>\n",
       "    <tr style=\"text-align: right;\">\n",
       "      <th></th>\n",
       "      <th>actors</th>\n",
       "      <th>country</th>\n",
       "      <th>director</th>\n",
       "      <th>req_imdbid</th>\n",
       "      <th>year</th>\n",
       "      <th>imdbId</th>\n",
       "    </tr>\n",
       "  </thead>\n",
       "  <tbody>\n",
       "    <tr>\n",
       "      <th>0</th>\n",
       "      <td>Tom Hanks, Tim Allen, Don Rickles, Jim Varney</td>\n",
       "      <td>USA</td>\n",
       "      <td>John Lasseter</td>\n",
       "      <td>tt0114709</td>\n",
       "      <td>1995</td>\n",
       "      <td>114709</td>\n",
       "    </tr>\n",
       "    <tr>\n",
       "      <th>1</th>\n",
       "      <td>Robin Williams, Jonathan Hyde, Kirsten Dunst, ...</td>\n",
       "      <td>USA</td>\n",
       "      <td>Joe Johnston</td>\n",
       "      <td>tt0113497</td>\n",
       "      <td>1995</td>\n",
       "      <td>113497</td>\n",
       "    </tr>\n",
       "    <tr>\n",
       "      <th>2</th>\n",
       "      <td>Walter Matthau, Jack Lemmon, Sophia Loren, Ann...</td>\n",
       "      <td>USA</td>\n",
       "      <td>Howard Deutch</td>\n",
       "      <td>tt0113228</td>\n",
       "      <td>1995</td>\n",
       "      <td>113228</td>\n",
       "    </tr>\n",
       "    <tr>\n",
       "      <th>3</th>\n",
       "      <td>Whitney Houston, Angela Bassett, Loretta Devin...</td>\n",
       "      <td>USA</td>\n",
       "      <td>Forest Whitaker</td>\n",
       "      <td>tt0114885</td>\n",
       "      <td>1995</td>\n",
       "      <td>114885</td>\n",
       "    </tr>\n",
       "    <tr>\n",
       "      <th>4</th>\n",
       "      <td>Steve Martin, Diane Keaton, Martin Short, Kimb...</td>\n",
       "      <td>USA</td>\n",
       "      <td>Charles Shyer</td>\n",
       "      <td>tt0113041</td>\n",
       "      <td>1995</td>\n",
       "      <td>113041</td>\n",
       "    </tr>\n",
       "  </tbody>\n",
       "</table>\n",
       "</div>"
      ],
      "text/plain": [
       "                                              actors country         director  \\\n",
       "0      Tom Hanks, Tim Allen, Don Rickles, Jim Varney     USA    John Lasseter   \n",
       "1  Robin Williams, Jonathan Hyde, Kirsten Dunst, ...     USA     Joe Johnston   \n",
       "2  Walter Matthau, Jack Lemmon, Sophia Loren, Ann...     USA    Howard Deutch   \n",
       "3  Whitney Houston, Angela Bassett, Loretta Devin...     USA  Forest Whitaker   \n",
       "4  Steve Martin, Diane Keaton, Martin Short, Kimb...     USA    Charles Shyer   \n",
       "\n",
       "  req_imdbid  year  imdbId  \n",
       "0  tt0114709  1995  114709  \n",
       "1  tt0113497  1995  113497  \n",
       "2  tt0113228  1995  113228  \n",
       "3  tt0114885  1995  114885  \n",
       "4  tt0113041  1995  113041  "
      ]
     },
     "execution_count": 24,
     "metadata": {},
     "output_type": "execute_result"
    }
   ],
   "source": [
    "imdb.head()"
   ]
  },
  {
   "cell_type": "code",
   "execution_count": 25,
   "metadata": {},
   "outputs": [
    {
     "data": {
      "text/plain": [
       "actors        object\n",
       "country       object\n",
       "director      object\n",
       "req_imdbid    object\n",
       "year          object\n",
       "imdbId         int64\n",
       "dtype: object"
      ]
     },
     "execution_count": 25,
     "metadata": {},
     "output_type": "execute_result"
    }
   ],
   "source": [
    "imdb.dtypes"
   ]
  },
  {
   "cell_type": "code",
   "execution_count": 26,
   "metadata": {},
   "outputs": [],
   "source": [
    "def rep_col(text):\n",
    "    #print(text)\n",
    "    rep = []\n",
    "    for item in text.split(','):\n",
    "        rep.append(model.wv[item])\n",
    "    return np.concatenate(rep,axis=0)"
   ]
  },
  {
   "cell_type": "code",
   "execution_count": 27,
   "metadata": {},
   "outputs": [],
   "source": [
    "def items_rep(item_lst):\n",
    "    a=0\n",
    "    for item in item_lst:\n",
    "        a+=model.wv[item]\n",
    "    a/=len(item_lst)\n",
    "    return a\n",
    "\n"
   ]
  },
  {
   "cell_type": "code",
   "execution_count": 28,
   "metadata": {},
   "outputs": [
    {
     "data": {
      "text/html": [
       "<div>\n",
       "<style scoped>\n",
       "    .dataframe tbody tr th:only-of-type {\n",
       "        vertical-align: middle;\n",
       "    }\n",
       "\n",
       "    .dataframe tbody tr th {\n",
       "        vertical-align: top;\n",
       "    }\n",
       "\n",
       "    .dataframe thead th {\n",
       "        text-align: right;\n",
       "    }\n",
       "</style>\n",
       "<table border=\"1\" class=\"dataframe\">\n",
       "  <thead>\n",
       "    <tr style=\"text-align: right;\">\n",
       "      <th></th>\n",
       "      <th>movieId</th>\n",
       "      <th>imdbId</th>\n",
       "      <th>tmdbId</th>\n",
       "      <th>actors</th>\n",
       "      <th>country</th>\n",
       "      <th>director</th>\n",
       "      <th>req_imdbid</th>\n",
       "      <th>year</th>\n",
       "      <th>title</th>\n",
       "      <th>genres</th>\n",
       "      <th>actors_rep</th>\n",
       "      <th>director_rep</th>\n",
       "      <th>country_rep</th>\n",
       "      <th>genres_rep</th>\n",
       "    </tr>\n",
       "  </thead>\n",
       "  <tbody>\n",
       "    <tr>\n",
       "      <th>0</th>\n",
       "      <td>1</td>\n",
       "      <td>114709</td>\n",
       "      <td>862</td>\n",
       "      <td>TomHanks,TimAllen,DonRickles,JimVarney</td>\n",
       "      <td>USA</td>\n",
       "      <td>JohnLasseter</td>\n",
       "      <td>tt0114709</td>\n",
       "      <td>1995</td>\n",
       "      <td>Toy Story (1995)</td>\n",
       "      <td>Adventure,Animation,Children,Comedy,Fantasy</td>\n",
       "      <td>[0.01770277, -0.003399582, -0.2814597, -0.1002...</td>\n",
       "      <td>[-0.008124744, 0.022190383, -0.13629742, -0.06...</td>\n",
       "      <td>[-0.9112063, 1.4076829, -0.58778447, -1.392849...</td>\n",
       "      <td>[-0.6267214, 1.1165192, -0.5401955, -0.9408003...</td>\n",
       "    </tr>\n",
       "    <tr>\n",
       "      <th>1</th>\n",
       "      <td>2</td>\n",
       "      <td>113497</td>\n",
       "      <td>8844</td>\n",
       "      <td>RobinWilliams,JonathanHyde,KirstenDunst,Bradle...</td>\n",
       "      <td>USA</td>\n",
       "      <td>JoeJohnston</td>\n",
       "      <td>tt0113497</td>\n",
       "      <td>1995</td>\n",
       "      <td>Jumanji (1995)</td>\n",
       "      <td>Adventure,Children,Fantasy</td>\n",
       "      <td>[0.021069147, -0.013693997, -0.24132837, -0.08...</td>\n",
       "      <td>[-0.02470821, 0.03644547, -0.12483062, -0.0701...</td>\n",
       "      <td>[-0.9112063, 1.4076829, -0.58778447, -1.392849...</td>\n",
       "      <td>[-0.63809353, 1.0291268, -0.5161161, -0.909790...</td>\n",
       "    </tr>\n",
       "    <tr>\n",
       "      <th>2</th>\n",
       "      <td>3</td>\n",
       "      <td>113228</td>\n",
       "      <td>15602</td>\n",
       "      <td>WalterMatthau,JackLemmon,SophiaLoren,Ann-Margret</td>\n",
       "      <td>USA</td>\n",
       "      <td>HowardDeutch</td>\n",
       "      <td>tt0113228</td>\n",
       "      <td>1995</td>\n",
       "      <td>Grumpier Old Men (1995)</td>\n",
       "      <td>Comedy,Romance</td>\n",
       "      <td>[0.025332935, -0.018919246, -0.28977153, -0.10...</td>\n",
       "      <td>[0.0055389744, -0.0038269097, -0.1363292, -0.0...</td>\n",
       "      <td>[-0.9112063, 1.4076829, -0.58778447, -1.392849...</td>\n",
       "      <td>[-0.5831043, 1.1218148, -0.39607716, -0.857223...</td>\n",
       "    </tr>\n",
       "    <tr>\n",
       "      <th>3</th>\n",
       "      <td>4</td>\n",
       "      <td>114885</td>\n",
       "      <td>31357</td>\n",
       "      <td>WhitneyHouston,AngelaBassett,LorettaDevine,Lel...</td>\n",
       "      <td>USA</td>\n",
       "      <td>ForestWhitaker</td>\n",
       "      <td>tt0114885</td>\n",
       "      <td>1995</td>\n",
       "      <td>Waiting to Exhale (1995)</td>\n",
       "      <td>Comedy,Drama,Romance</td>\n",
       "      <td>[0.015292371, -0.014692996, -0.1755847, -0.057...</td>\n",
       "      <td>[0.01967406, 0.0103367325, -0.30541116, -0.121...</td>\n",
       "      <td>[-0.9112063, 1.4076829, -0.58778447, -1.392849...</td>\n",
       "      <td>[-0.55375886, 1.2107646, -0.39301026, -0.93681...</td>\n",
       "    </tr>\n",
       "    <tr>\n",
       "      <th>4</th>\n",
       "      <td>5</td>\n",
       "      <td>113041</td>\n",
       "      <td>11862</td>\n",
       "      <td>SteveMartin,DianeKeaton,MartinShort,KimberlyWi...</td>\n",
       "      <td>USA</td>\n",
       "      <td>CharlesShyer</td>\n",
       "      <td>tt0113041</td>\n",
       "      <td>1995</td>\n",
       "      <td>Father of the Bride Part II (1995)</td>\n",
       "      <td>Comedy</td>\n",
       "      <td>[0.027237857, -0.014314956, -0.29298657, -0.10...</td>\n",
       "      <td>[0.0037826144, 0.008747628, -0.087395914, -0.0...</td>\n",
       "      <td>[-0.9112063, 1.4076829, -0.58778447, -1.392849...</td>\n",
       "      <td>[-0.59518737, 1.3939978, -0.51104116, -1.06618...</td>\n",
       "    </tr>\n",
       "  </tbody>\n",
       "</table>\n",
       "</div>"
      ],
      "text/plain": [
       "   movieId  imdbId tmdbId                                             actors  \\\n",
       "0        1  114709    862             TomHanks,TimAllen,DonRickles,JimVarney   \n",
       "1        2  113497   8844  RobinWilliams,JonathanHyde,KirstenDunst,Bradle...   \n",
       "2        3  113228  15602   WalterMatthau,JackLemmon,SophiaLoren,Ann-Margret   \n",
       "3        4  114885  31357  WhitneyHouston,AngelaBassett,LorettaDevine,Lel...   \n",
       "4        5  113041  11862  SteveMartin,DianeKeaton,MartinShort,KimberlyWi...   \n",
       "\n",
       "  country        director req_imdbid  year  \\\n",
       "0     USA    JohnLasseter  tt0114709  1995   \n",
       "1     USA     JoeJohnston  tt0113497  1995   \n",
       "2     USA    HowardDeutch  tt0113228  1995   \n",
       "3     USA  ForestWhitaker  tt0114885  1995   \n",
       "4     USA    CharlesShyer  tt0113041  1995   \n",
       "\n",
       "                                title  \\\n",
       "0                    Toy Story (1995)   \n",
       "1                      Jumanji (1995)   \n",
       "2             Grumpier Old Men (1995)   \n",
       "3            Waiting to Exhale (1995)   \n",
       "4  Father of the Bride Part II (1995)   \n",
       "\n",
       "                                        genres  \\\n",
       "0  Adventure,Animation,Children,Comedy,Fantasy   \n",
       "1                   Adventure,Children,Fantasy   \n",
       "2                               Comedy,Romance   \n",
       "3                         Comedy,Drama,Romance   \n",
       "4                                       Comedy   \n",
       "\n",
       "                                          actors_rep  \\\n",
       "0  [0.01770277, -0.003399582, -0.2814597, -0.1002...   \n",
       "1  [0.021069147, -0.013693997, -0.24132837, -0.08...   \n",
       "2  [0.025332935, -0.018919246, -0.28977153, -0.10...   \n",
       "3  [0.015292371, -0.014692996, -0.1755847, -0.057...   \n",
       "4  [0.027237857, -0.014314956, -0.29298657, -0.10...   \n",
       "\n",
       "                                        director_rep  \\\n",
       "0  [-0.008124744, 0.022190383, -0.13629742, -0.06...   \n",
       "1  [-0.02470821, 0.03644547, -0.12483062, -0.0701...   \n",
       "2  [0.0055389744, -0.0038269097, -0.1363292, -0.0...   \n",
       "3  [0.01967406, 0.0103367325, -0.30541116, -0.121...   \n",
       "4  [0.0037826144, 0.008747628, -0.087395914, -0.0...   \n",
       "\n",
       "                                         country_rep  \\\n",
       "0  [-0.9112063, 1.4076829, -0.58778447, -1.392849...   \n",
       "1  [-0.9112063, 1.4076829, -0.58778447, -1.392849...   \n",
       "2  [-0.9112063, 1.4076829, -0.58778447, -1.392849...   \n",
       "3  [-0.9112063, 1.4076829, -0.58778447, -1.392849...   \n",
       "4  [-0.9112063, 1.4076829, -0.58778447, -1.392849...   \n",
       "\n",
       "                                          genres_rep  \n",
       "0  [-0.6267214, 1.1165192, -0.5401955, -0.9408003...  \n",
       "1  [-0.63809353, 1.0291268, -0.5161161, -0.909790...  \n",
       "2  [-0.5831043, 1.1218148, -0.39607716, -0.857223...  \n",
       "3  [-0.55375886, 1.2107646, -0.39301026, -0.93681...  \n",
       "4  [-0.59518737, 1.3939978, -0.51104116, -1.06618...  "
      ]
     },
     "execution_count": 28,
     "metadata": {},
     "output_type": "execute_result"
    }
   ],
   "source": [
    "mov_with_feat['actors_rep'] = mov_with_feat['actors'].apply(lambda x:x.split(',')).apply(items_rep)\n",
    "mov_with_feat['director_rep'] = mov_with_feat['director'].apply(lambda x:x.split(',')).apply(items_rep)\n",
    "mov_with_feat['country_rep'] = mov_with_feat['country'].apply(lambda x:x.split(',')).apply(items_rep)\n",
    "mov_with_feat['genres_rep'] = mov_with_feat['genres'].apply(lambda x:x.split(',')).apply(items_rep)\n",
    "mov_with_feat.head()"
   ]
  },
  {
   "cell_type": "code",
   "execution_count": 29,
   "metadata": {},
   "outputs": [],
   "source": [
    "# mov_with_feat['actors_rep'][0]"
   ]
  },
  {
   "cell_type": "code",
   "execution_count": 30,
   "metadata": {},
   "outputs": [],
   "source": [
    "# mov_with_feat['director_rep'][0]"
   ]
  },
  {
   "cell_type": "code",
   "execution_count": 31,
   "metadata": {},
   "outputs": [],
   "source": [
    "# mov_with_feat['country_rep'][0]"
   ]
  },
  {
   "cell_type": "code",
   "execution_count": 32,
   "metadata": {},
   "outputs": [],
   "source": [
    "# np.concatenate([mov_with_feat['actors_rep'][0],mov_with_feat['director_rep'][0],mov_with_feat['country_rep'][0]],axis=0)"
   ]
  },
  {
   "cell_type": "code",
   "execution_count": 33,
   "metadata": {},
   "outputs": [],
   "source": [
    "mov_with_feat['all_feat']=mov_with_feat.apply(lambda x: np.concatenate([x['actors_rep'],x['director_rep'],x['country_rep'],x['genres_rep']],axis=0),axis=1)"
   ]
  },
  {
   "cell_type": "code",
   "execution_count": 34,
   "metadata": {},
   "outputs": [
    {
     "data": {
      "text/html": [
       "<div>\n",
       "<style scoped>\n",
       "    .dataframe tbody tr th:only-of-type {\n",
       "        vertical-align: middle;\n",
       "    }\n",
       "\n",
       "    .dataframe tbody tr th {\n",
       "        vertical-align: top;\n",
       "    }\n",
       "\n",
       "    .dataframe thead th {\n",
       "        text-align: right;\n",
       "    }\n",
       "</style>\n",
       "<table border=\"1\" class=\"dataframe\">\n",
       "  <thead>\n",
       "    <tr style=\"text-align: right;\">\n",
       "      <th></th>\n",
       "      <th>movieId</th>\n",
       "      <th>all_feat</th>\n",
       "    </tr>\n",
       "  </thead>\n",
       "  <tbody>\n",
       "    <tr>\n",
       "      <th>0</th>\n",
       "      <td>1</td>\n",
       "      <td>[0.01770277, -0.003399582, -0.2814597, -0.1002...</td>\n",
       "    </tr>\n",
       "    <tr>\n",
       "      <th>1</th>\n",
       "      <td>2</td>\n",
       "      <td>[0.021069147, -0.013693997, -0.24132837, -0.08...</td>\n",
       "    </tr>\n",
       "    <tr>\n",
       "      <th>2</th>\n",
       "      <td>3</td>\n",
       "      <td>[0.025332935, -0.018919246, -0.28977153, -0.10...</td>\n",
       "    </tr>\n",
       "    <tr>\n",
       "      <th>3</th>\n",
       "      <td>4</td>\n",
       "      <td>[0.015292371, -0.014692996, -0.1755847, -0.057...</td>\n",
       "    </tr>\n",
       "    <tr>\n",
       "      <th>4</th>\n",
       "      <td>5</td>\n",
       "      <td>[0.027237857, -0.014314956, -0.29298657, -0.10...</td>\n",
       "    </tr>\n",
       "  </tbody>\n",
       "</table>\n",
       "</div>"
      ],
      "text/plain": [
       "   movieId                                           all_feat\n",
       "0        1  [0.01770277, -0.003399582, -0.2814597, -0.1002...\n",
       "1        2  [0.021069147, -0.013693997, -0.24132837, -0.08...\n",
       "2        3  [0.025332935, -0.018919246, -0.28977153, -0.10...\n",
       "3        4  [0.015292371, -0.014692996, -0.1755847, -0.057...\n",
       "4        5  [0.027237857, -0.014314956, -0.29298657, -0.10..."
      ]
     },
     "execution_count": 34,
     "metadata": {},
     "output_type": "execute_result"
    }
   ],
   "source": [
    "mov_with_feat[['movieId','all_feat']].head()"
   ]
  },
  {
   "cell_type": "code",
   "execution_count": 35,
   "metadata": {},
   "outputs": [
    {
     "data": {
      "text/plain": [
       "(9742, 200)"
      ]
     },
     "execution_count": 35,
     "metadata": {},
     "output_type": "execute_result"
    }
   ],
   "source": [
    "a = mov_with_feat['all_feat'][0].reshape(1,-1)\n",
    "for mov_feat in mov_with_feat['all_feat'][1:]:\n",
    "    b = mov_feat.reshape(1,-1)\n",
    "    a = np.concatenate([a,b])\n",
    "\n",
    "a.shape"
   ]
  },
  {
   "cell_type": "code",
   "execution_count": 36,
   "metadata": {},
   "outputs": [
    {
     "data": {
      "text/plain": [
       "(9742, 200)"
      ]
     },
     "execution_count": 36,
     "metadata": {},
     "output_type": "execute_result"
    }
   ],
   "source": [
    "feature_matrix = a\n",
    "feature_matrix.shape"
   ]
  },
  {
   "cell_type": "code",
   "execution_count": 37,
   "metadata": {},
   "outputs": [],
   "source": [
    "feat_names = ['f'+str(i+1) for i in range(feature_matrix.shape[1])]"
   ]
  },
  {
   "cell_type": "code",
   "execution_count": 38,
   "metadata": {},
   "outputs": [],
   "source": [
    "feature_matrix = pd.DataFrame(feature_matrix,index=mov_with_feat['movieId'],columns=feat_names)"
   ]
  },
  {
   "cell_type": "code",
   "execution_count": 39,
   "metadata": {},
   "outputs": [
    {
     "data": {
      "text/html": [
       "<div>\n",
       "<style scoped>\n",
       "    .dataframe tbody tr th:only-of-type {\n",
       "        vertical-align: middle;\n",
       "    }\n",
       "\n",
       "    .dataframe tbody tr th {\n",
       "        vertical-align: top;\n",
       "    }\n",
       "\n",
       "    .dataframe thead th {\n",
       "        text-align: right;\n",
       "    }\n",
       "</style>\n",
       "<table border=\"1\" class=\"dataframe\">\n",
       "  <thead>\n",
       "    <tr style=\"text-align: right;\">\n",
       "      <th></th>\n",
       "      <th>f1</th>\n",
       "      <th>f2</th>\n",
       "      <th>f3</th>\n",
       "      <th>f4</th>\n",
       "      <th>f5</th>\n",
       "      <th>f6</th>\n",
       "      <th>f7</th>\n",
       "      <th>f8</th>\n",
       "      <th>f9</th>\n",
       "      <th>f10</th>\n",
       "      <th>...</th>\n",
       "      <th>f191</th>\n",
       "      <th>f192</th>\n",
       "      <th>f193</th>\n",
       "      <th>f194</th>\n",
       "      <th>f195</th>\n",
       "      <th>f196</th>\n",
       "      <th>f197</th>\n",
       "      <th>f198</th>\n",
       "      <th>f199</th>\n",
       "      <th>f200</th>\n",
       "    </tr>\n",
       "    <tr>\n",
       "      <th>movieId</th>\n",
       "      <th></th>\n",
       "      <th></th>\n",
       "      <th></th>\n",
       "      <th></th>\n",
       "      <th></th>\n",
       "      <th></th>\n",
       "      <th></th>\n",
       "      <th></th>\n",
       "      <th></th>\n",
       "      <th></th>\n",
       "      <th></th>\n",
       "      <th></th>\n",
       "      <th></th>\n",
       "      <th></th>\n",
       "      <th></th>\n",
       "      <th></th>\n",
       "      <th></th>\n",
       "      <th></th>\n",
       "      <th></th>\n",
       "      <th></th>\n",
       "      <th></th>\n",
       "    </tr>\n",
       "  </thead>\n",
       "  <tbody>\n",
       "    <tr>\n",
       "      <th>1</th>\n",
       "      <td>0.017703</td>\n",
       "      <td>-0.003400</td>\n",
       "      <td>-0.281460</td>\n",
       "      <td>-0.100260</td>\n",
       "      <td>-0.103649</td>\n",
       "      <td>-0.087141</td>\n",
       "      <td>0.161378</td>\n",
       "      <td>0.084230</td>\n",
       "      <td>0.011568</td>\n",
       "      <td>0.003587</td>\n",
       "      <td>...</td>\n",
       "      <td>0.247261</td>\n",
       "      <td>0.285972</td>\n",
       "      <td>0.123081</td>\n",
       "      <td>-0.457963</td>\n",
       "      <td>0.133610</td>\n",
       "      <td>0.362561</td>\n",
       "      <td>0.641073</td>\n",
       "      <td>-0.011898</td>\n",
       "      <td>-0.290134</td>\n",
       "      <td>0.283255</td>\n",
       "    </tr>\n",
       "    <tr>\n",
       "      <th>2</th>\n",
       "      <td>0.021069</td>\n",
       "      <td>-0.013694</td>\n",
       "      <td>-0.241328</td>\n",
       "      <td>-0.086311</td>\n",
       "      <td>-0.089675</td>\n",
       "      <td>-0.074929</td>\n",
       "      <td>0.142776</td>\n",
       "      <td>0.074475</td>\n",
       "      <td>0.006155</td>\n",
       "      <td>0.004661</td>\n",
       "      <td>...</td>\n",
       "      <td>0.232982</td>\n",
       "      <td>0.304115</td>\n",
       "      <td>0.100542</td>\n",
       "      <td>-0.423954</td>\n",
       "      <td>0.111046</td>\n",
       "      <td>0.374318</td>\n",
       "      <td>0.645290</td>\n",
       "      <td>-0.031280</td>\n",
       "      <td>-0.268557</td>\n",
       "      <td>0.321540</td>\n",
       "    </tr>\n",
       "    <tr>\n",
       "      <th>3</th>\n",
       "      <td>0.025333</td>\n",
       "      <td>-0.018919</td>\n",
       "      <td>-0.289772</td>\n",
       "      <td>-0.101136</td>\n",
       "      <td>-0.116739</td>\n",
       "      <td>-0.086364</td>\n",
       "      <td>0.160219</td>\n",
       "      <td>0.086166</td>\n",
       "      <td>0.006061</td>\n",
       "      <td>0.000061</td>\n",
       "      <td>...</td>\n",
       "      <td>0.022048</td>\n",
       "      <td>0.408571</td>\n",
       "      <td>0.186824</td>\n",
       "      <td>-0.509360</td>\n",
       "      <td>0.044562</td>\n",
       "      <td>0.175232</td>\n",
       "      <td>0.552817</td>\n",
       "      <td>0.114041</td>\n",
       "      <td>-0.297396</td>\n",
       "      <td>0.059544</td>\n",
       "    </tr>\n",
       "    <tr>\n",
       "      <th>4</th>\n",
       "      <td>0.015292</td>\n",
       "      <td>-0.014693</td>\n",
       "      <td>-0.175585</td>\n",
       "      <td>-0.057780</td>\n",
       "      <td>-0.072190</td>\n",
       "      <td>-0.058601</td>\n",
       "      <td>0.100192</td>\n",
       "      <td>0.047474</td>\n",
       "      <td>0.001760</td>\n",
       "      <td>-0.002279</td>\n",
       "      <td>...</td>\n",
       "      <td>0.022509</td>\n",
       "      <td>0.444965</td>\n",
       "      <td>0.183059</td>\n",
       "      <td>-0.584969</td>\n",
       "      <td>0.061490</td>\n",
       "      <td>0.118276</td>\n",
       "      <td>0.570928</td>\n",
       "      <td>0.172136</td>\n",
       "      <td>-0.308740</td>\n",
       "      <td>-0.008265</td>\n",
       "    </tr>\n",
       "    <tr>\n",
       "      <th>5</th>\n",
       "      <td>0.027238</td>\n",
       "      <td>-0.014315</td>\n",
       "      <td>-0.292987</td>\n",
       "      <td>-0.102513</td>\n",
       "      <td>-0.112916</td>\n",
       "      <td>-0.091514</td>\n",
       "      <td>0.169081</td>\n",
       "      <td>0.087958</td>\n",
       "      <td>0.004788</td>\n",
       "      <td>0.000657</td>\n",
       "      <td>...</td>\n",
       "      <td>0.188490</td>\n",
       "      <td>0.339515</td>\n",
       "      <td>0.195722</td>\n",
       "      <td>-0.625431</td>\n",
       "      <td>0.152817</td>\n",
       "      <td>0.224950</td>\n",
       "      <td>0.629804</td>\n",
       "      <td>0.133102</td>\n",
       "      <td>-0.396118</td>\n",
       "      <td>0.057063</td>\n",
       "    </tr>\n",
       "  </tbody>\n",
       "</table>\n",
       "<p>5 rows × 200 columns</p>\n",
       "</div>"
      ],
      "text/plain": [
       "               f1        f2        f3        f4        f5        f6        f7  \\\n",
       "movieId                                                                         \n",
       "1        0.017703 -0.003400 -0.281460 -0.100260 -0.103649 -0.087141  0.161378   \n",
       "2        0.021069 -0.013694 -0.241328 -0.086311 -0.089675 -0.074929  0.142776   \n",
       "3        0.025333 -0.018919 -0.289772 -0.101136 -0.116739 -0.086364  0.160219   \n",
       "4        0.015292 -0.014693 -0.175585 -0.057780 -0.072190 -0.058601  0.100192   \n",
       "5        0.027238 -0.014315 -0.292987 -0.102513 -0.112916 -0.091514  0.169081   \n",
       "\n",
       "               f8        f9       f10  ...      f191      f192      f193  \\\n",
       "movieId                                ...                                 \n",
       "1        0.084230  0.011568  0.003587  ...  0.247261  0.285972  0.123081   \n",
       "2        0.074475  0.006155  0.004661  ...  0.232982  0.304115  0.100542   \n",
       "3        0.086166  0.006061  0.000061  ...  0.022048  0.408571  0.186824   \n",
       "4        0.047474  0.001760 -0.002279  ...  0.022509  0.444965  0.183059   \n",
       "5        0.087958  0.004788  0.000657  ...  0.188490  0.339515  0.195722   \n",
       "\n",
       "             f194      f195      f196      f197      f198      f199      f200  \n",
       "movieId                                                                        \n",
       "1       -0.457963  0.133610  0.362561  0.641073 -0.011898 -0.290134  0.283255  \n",
       "2       -0.423954  0.111046  0.374318  0.645290 -0.031280 -0.268557  0.321540  \n",
       "3       -0.509360  0.044562  0.175232  0.552817  0.114041 -0.297396  0.059544  \n",
       "4       -0.584969  0.061490  0.118276  0.570928  0.172136 -0.308740 -0.008265  \n",
       "5       -0.625431  0.152817  0.224950  0.629804  0.133102 -0.396118  0.057063  \n",
       "\n",
       "[5 rows x 200 columns]"
      ]
     },
     "execution_count": 39,
     "metadata": {},
     "output_type": "execute_result"
    }
   ],
   "source": [
    "feature_matrix.head()"
   ]
  },
  {
   "cell_type": "code",
   "execution_count": 40,
   "metadata": {},
   "outputs": [
    {
     "data": {
      "text/plain": [
       "(9742, 200)"
      ]
     },
     "execution_count": 40,
     "metadata": {},
     "output_type": "execute_result"
    }
   ],
   "source": [
    "feature_matrix.shape"
   ]
  },
  {
   "cell_type": "markdown",
   "metadata": {},
   "source": [
    "## 4. Perfiles de Usuarios\n",
    "\n",
    "Los mismos se obtienen de multiplicar la matriz user-item (n_users\\*n_items) con la matriz de movie_features (n_items\\*n_features)"
   ]
  },
  {
   "cell_type": "code",
   "execution_count": null,
   "metadata": {},
   "outputs": [],
   "source": []
  },
  {
   "cell_type": "code",
   "execution_count": 41,
   "metadata": {},
   "outputs": [
    {
     "data": {
      "text/html": [
       "<div>\n",
       "<style scoped>\n",
       "    .dataframe tbody tr th:only-of-type {\n",
       "        vertical-align: middle;\n",
       "    }\n",
       "\n",
       "    .dataframe tbody tr th {\n",
       "        vertical-align: top;\n",
       "    }\n",
       "\n",
       "    .dataframe thead th {\n",
       "        text-align: right;\n",
       "    }\n",
       "</style>\n",
       "<table border=\"1\" class=\"dataframe\">\n",
       "  <thead>\n",
       "    <tr style=\"text-align: right;\">\n",
       "      <th>movieId</th>\n",
       "      <th>1</th>\n",
       "      <th>2</th>\n",
       "      <th>3</th>\n",
       "      <th>4</th>\n",
       "      <th>5</th>\n",
       "      <th>6</th>\n",
       "      <th>7</th>\n",
       "      <th>8</th>\n",
       "      <th>9</th>\n",
       "      <th>10</th>\n",
       "      <th>...</th>\n",
       "      <th>193565</th>\n",
       "      <th>193567</th>\n",
       "      <th>193571</th>\n",
       "      <th>193573</th>\n",
       "      <th>193579</th>\n",
       "      <th>193581</th>\n",
       "      <th>193583</th>\n",
       "      <th>193585</th>\n",
       "      <th>193587</th>\n",
       "      <th>193609</th>\n",
       "    </tr>\n",
       "    <tr>\n",
       "      <th>userId</th>\n",
       "      <th></th>\n",
       "      <th></th>\n",
       "      <th></th>\n",
       "      <th></th>\n",
       "      <th></th>\n",
       "      <th></th>\n",
       "      <th></th>\n",
       "      <th></th>\n",
       "      <th></th>\n",
       "      <th></th>\n",
       "      <th></th>\n",
       "      <th></th>\n",
       "      <th></th>\n",
       "      <th></th>\n",
       "      <th></th>\n",
       "      <th></th>\n",
       "      <th></th>\n",
       "      <th></th>\n",
       "      <th></th>\n",
       "      <th></th>\n",
       "      <th></th>\n",
       "    </tr>\n",
       "  </thead>\n",
       "  <tbody>\n",
       "    <tr>\n",
       "      <th>1</th>\n",
       "      <td>4.0</td>\n",
       "      <td>0.0</td>\n",
       "      <td>4.0</td>\n",
       "      <td>0.0</td>\n",
       "      <td>0.0</td>\n",
       "      <td>4.0</td>\n",
       "      <td>0.0</td>\n",
       "      <td>0.0</td>\n",
       "      <td>0.0</td>\n",
       "      <td>0.0</td>\n",
       "      <td>...</td>\n",
       "      <td>0.0</td>\n",
       "      <td>0.0</td>\n",
       "      <td>0.0</td>\n",
       "      <td>0.0</td>\n",
       "      <td>0.0</td>\n",
       "      <td>0.0</td>\n",
       "      <td>0.0</td>\n",
       "      <td>0.0</td>\n",
       "      <td>0.0</td>\n",
       "      <td>0.0</td>\n",
       "    </tr>\n",
       "    <tr>\n",
       "      <th>2</th>\n",
       "      <td>0.0</td>\n",
       "      <td>0.0</td>\n",
       "      <td>0.0</td>\n",
       "      <td>0.0</td>\n",
       "      <td>0.0</td>\n",
       "      <td>0.0</td>\n",
       "      <td>0.0</td>\n",
       "      <td>0.0</td>\n",
       "      <td>0.0</td>\n",
       "      <td>0.0</td>\n",
       "      <td>...</td>\n",
       "      <td>0.0</td>\n",
       "      <td>0.0</td>\n",
       "      <td>0.0</td>\n",
       "      <td>0.0</td>\n",
       "      <td>0.0</td>\n",
       "      <td>0.0</td>\n",
       "      <td>0.0</td>\n",
       "      <td>0.0</td>\n",
       "      <td>0.0</td>\n",
       "      <td>0.0</td>\n",
       "    </tr>\n",
       "    <tr>\n",
       "      <th>3</th>\n",
       "      <td>0.0</td>\n",
       "      <td>0.0</td>\n",
       "      <td>0.0</td>\n",
       "      <td>0.0</td>\n",
       "      <td>0.0</td>\n",
       "      <td>0.0</td>\n",
       "      <td>0.0</td>\n",
       "      <td>0.0</td>\n",
       "      <td>0.0</td>\n",
       "      <td>0.0</td>\n",
       "      <td>...</td>\n",
       "      <td>0.0</td>\n",
       "      <td>0.0</td>\n",
       "      <td>0.0</td>\n",
       "      <td>0.0</td>\n",
       "      <td>0.0</td>\n",
       "      <td>0.0</td>\n",
       "      <td>0.0</td>\n",
       "      <td>0.0</td>\n",
       "      <td>0.0</td>\n",
       "      <td>0.0</td>\n",
       "    </tr>\n",
       "    <tr>\n",
       "      <th>4</th>\n",
       "      <td>0.0</td>\n",
       "      <td>0.0</td>\n",
       "      <td>0.0</td>\n",
       "      <td>0.0</td>\n",
       "      <td>0.0</td>\n",
       "      <td>0.0</td>\n",
       "      <td>0.0</td>\n",
       "      <td>0.0</td>\n",
       "      <td>0.0</td>\n",
       "      <td>0.0</td>\n",
       "      <td>...</td>\n",
       "      <td>0.0</td>\n",
       "      <td>0.0</td>\n",
       "      <td>0.0</td>\n",
       "      <td>0.0</td>\n",
       "      <td>0.0</td>\n",
       "      <td>0.0</td>\n",
       "      <td>0.0</td>\n",
       "      <td>0.0</td>\n",
       "      <td>0.0</td>\n",
       "      <td>0.0</td>\n",
       "    </tr>\n",
       "    <tr>\n",
       "      <th>5</th>\n",
       "      <td>4.0</td>\n",
       "      <td>0.0</td>\n",
       "      <td>0.0</td>\n",
       "      <td>0.0</td>\n",
       "      <td>0.0</td>\n",
       "      <td>0.0</td>\n",
       "      <td>0.0</td>\n",
       "      <td>0.0</td>\n",
       "      <td>0.0</td>\n",
       "      <td>0.0</td>\n",
       "      <td>...</td>\n",
       "      <td>0.0</td>\n",
       "      <td>0.0</td>\n",
       "      <td>0.0</td>\n",
       "      <td>0.0</td>\n",
       "      <td>0.0</td>\n",
       "      <td>0.0</td>\n",
       "      <td>0.0</td>\n",
       "      <td>0.0</td>\n",
       "      <td>0.0</td>\n",
       "      <td>0.0</td>\n",
       "    </tr>\n",
       "  </tbody>\n",
       "</table>\n",
       "<p>5 rows × 9724 columns</p>\n",
       "</div>"
      ],
      "text/plain": [
       "movieId  1       2       3       4       5       6       7       8       \\\n",
       "userId                                                                    \n",
       "1           4.0     0.0     4.0     0.0     0.0     4.0     0.0     0.0   \n",
       "2           0.0     0.0     0.0     0.0     0.0     0.0     0.0     0.0   \n",
       "3           0.0     0.0     0.0     0.0     0.0     0.0     0.0     0.0   \n",
       "4           0.0     0.0     0.0     0.0     0.0     0.0     0.0     0.0   \n",
       "5           4.0     0.0     0.0     0.0     0.0     0.0     0.0     0.0   \n",
       "\n",
       "movieId  9       10      ...  193565  193567  193571  193573  193579  193581  \\\n",
       "userId                   ...                                                   \n",
       "1           0.0     0.0  ...     0.0     0.0     0.0     0.0     0.0     0.0   \n",
       "2           0.0     0.0  ...     0.0     0.0     0.0     0.0     0.0     0.0   \n",
       "3           0.0     0.0  ...     0.0     0.0     0.0     0.0     0.0     0.0   \n",
       "4           0.0     0.0  ...     0.0     0.0     0.0     0.0     0.0     0.0   \n",
       "5           0.0     0.0  ...     0.0     0.0     0.0     0.0     0.0     0.0   \n",
       "\n",
       "movieId  193583  193585  193587  193609  \n",
       "userId                                   \n",
       "1           0.0     0.0     0.0     0.0  \n",
       "2           0.0     0.0     0.0     0.0  \n",
       "3           0.0     0.0     0.0     0.0  \n",
       "4           0.0     0.0     0.0     0.0  \n",
       "5           0.0     0.0     0.0     0.0  \n",
       "\n",
       "[5 rows x 9724 columns]"
      ]
     },
     "execution_count": 41,
     "metadata": {},
     "output_type": "execute_result"
    }
   ],
   "source": [
    "ratings_matrix = ratings.pivot_table(index=['userId'],columns=['movieId'],values='rating')\n",
    "ratings_matrix = ratings_matrix.fillna(0)\n",
    "ratings_matrix.head()"
   ]
  },
  {
   "cell_type": "code",
   "execution_count": 42,
   "metadata": {},
   "outputs": [
    {
     "data": {
      "text/plain": [
       "(610, 9724)"
      ]
     },
     "execution_count": 42,
     "metadata": {},
     "output_type": "execute_result"
    }
   ],
   "source": [
    "ratings_matrix.shape"
   ]
  },
  {
   "cell_type": "code",
   "execution_count": 43,
   "metadata": {},
   "outputs": [],
   "source": [
    "# np.dot(ratings_matrix.values,feature_matrix.values)"
   ]
  },
  {
   "cell_type": "code",
   "execution_count": 44,
   "metadata": {},
   "outputs": [
    {
     "data": {
      "text/plain": [
       "9724"
      ]
     },
     "execution_count": 44,
     "metadata": {},
     "output_type": "execute_result"
    }
   ],
   "source": [
    "len(ratings['movieId'].unique())"
   ]
  },
  {
   "cell_type": "code",
   "execution_count": 45,
   "metadata": {},
   "outputs": [
    {
     "data": {
      "text/plain": [
       "9742"
      ]
     },
     "execution_count": 45,
     "metadata": {},
     "output_type": "execute_result"
    }
   ],
   "source": [
    "len(movies['movieId'].unique())"
   ]
  },
  {
   "cell_type": "code",
   "execution_count": 46,
   "metadata": {
    "scrolled": true
   },
   "outputs": [
    {
     "data": {
      "text/plain": [
       "[1076,\n",
       " 2939,\n",
       " 3338,\n",
       " 3456,\n",
       " 4194,\n",
       " 5721,\n",
       " 6668,\n",
       " 6849,\n",
       " 7020,\n",
       " 7792,\n",
       " 8765,\n",
       " 25855,\n",
       " 26085,\n",
       " 30892,\n",
       " 32160,\n",
       " 32371,\n",
       " 34482,\n",
       " 85565]"
      ]
     },
     "execution_count": 46,
     "metadata": {},
     "output_type": "execute_result"
    }
   ],
   "source": [
    "not_rated = []\n",
    "for iid in movies['movieId'].unique():\n",
    "    if iid not in ratings['movieId'].unique():\n",
    "        not_rated.append(iid)\n",
    "not_rated"
   ]
  },
  {
   "cell_type": "code",
   "execution_count": 47,
   "metadata": {},
   "outputs": [
    {
     "data": {
      "text/plain": [
       "18"
      ]
     },
     "execution_count": 47,
     "metadata": {},
     "output_type": "execute_result"
    }
   ],
   "source": [
    "len(not_rated)"
   ]
  },
  {
   "cell_type": "markdown",
   "metadata": {},
   "source": [
    "Hay 18 películas que no tienen puntaje de ningun usuario. Por lo tanto, las sacaremos del dataset para este enfoque, ya que necesitamos los rating de los usuarios para las peliculas."
   ]
  },
  {
   "cell_type": "code",
   "execution_count": 48,
   "metadata": {},
   "outputs": [
    {
     "data": {
      "text/plain": [
       "(9724, 200)"
      ]
     },
     "execution_count": 48,
     "metadata": {},
     "output_type": "execute_result"
    }
   ],
   "source": [
    "feature_matrix = feature_matrix.drop(index=not_rated)\n",
    "feature_matrix.shape"
   ]
  },
  {
   "cell_type": "code",
   "execution_count": 49,
   "metadata": {},
   "outputs": [],
   "source": [
    "user_profiles = np.dot(ratings_matrix.values,feature_matrix.values)"
   ]
  },
  {
   "cell_type": "code",
   "execution_count": 50,
   "metadata": {},
   "outputs": [],
   "source": [
    "user_profiles = pd.DataFrame(user_profiles,index=ratings_matrix.index,columns=feature_matrix.columns)"
   ]
  },
  {
   "cell_type": "code",
   "execution_count": 51,
   "metadata": {},
   "outputs": [
    {
     "data": {
      "text/html": [
       "<div>\n",
       "<style scoped>\n",
       "    .dataframe tbody tr th:only-of-type {\n",
       "        vertical-align: middle;\n",
       "    }\n",
       "\n",
       "    .dataframe tbody tr th {\n",
       "        vertical-align: top;\n",
       "    }\n",
       "\n",
       "    .dataframe thead th {\n",
       "        text-align: right;\n",
       "    }\n",
       "</style>\n",
       "<table border=\"1\" class=\"dataframe\">\n",
       "  <thead>\n",
       "    <tr style=\"text-align: right;\">\n",
       "      <th></th>\n",
       "      <th>f1</th>\n",
       "      <th>f2</th>\n",
       "      <th>f3</th>\n",
       "      <th>f4</th>\n",
       "      <th>f5</th>\n",
       "      <th>f6</th>\n",
       "      <th>f7</th>\n",
       "      <th>f8</th>\n",
       "      <th>f9</th>\n",
       "      <th>f10</th>\n",
       "      <th>...</th>\n",
       "      <th>f191</th>\n",
       "      <th>f192</th>\n",
       "      <th>f193</th>\n",
       "      <th>f194</th>\n",
       "      <th>f195</th>\n",
       "      <th>f196</th>\n",
       "      <th>f197</th>\n",
       "      <th>f198</th>\n",
       "      <th>f199</th>\n",
       "      <th>f200</th>\n",
       "    </tr>\n",
       "    <tr>\n",
       "      <th>userId</th>\n",
       "      <th></th>\n",
       "      <th></th>\n",
       "      <th></th>\n",
       "      <th></th>\n",
       "      <th></th>\n",
       "      <th></th>\n",
       "      <th></th>\n",
       "      <th></th>\n",
       "      <th></th>\n",
       "      <th></th>\n",
       "      <th></th>\n",
       "      <th></th>\n",
       "      <th></th>\n",
       "      <th></th>\n",
       "      <th></th>\n",
       "      <th></th>\n",
       "      <th></th>\n",
       "      <th></th>\n",
       "      <th></th>\n",
       "      <th></th>\n",
       "      <th></th>\n",
       "    </tr>\n",
       "  </thead>\n",
       "  <tbody>\n",
       "    <tr>\n",
       "      <th>1</th>\n",
       "      <td>16.376331</td>\n",
       "      <td>-6.016376</td>\n",
       "      <td>-218.366150</td>\n",
       "      <td>-79.910255</td>\n",
       "      <td>-85.704251</td>\n",
       "      <td>-67.657745</td>\n",
       "      <td>125.617381</td>\n",
       "      <td>65.641501</td>\n",
       "      <td>4.167418</td>\n",
       "      <td>0.251680</td>\n",
       "      <td>...</td>\n",
       "      <td>102.004678</td>\n",
       "      <td>372.528201</td>\n",
       "      <td>107.283146</td>\n",
       "      <td>-540.037994</td>\n",
       "      <td>85.950019</td>\n",
       "      <td>182.486866</td>\n",
       "      <td>569.064701</td>\n",
       "      <td>129.783166</td>\n",
       "      <td>-246.293454</td>\n",
       "      <td>50.218178</td>\n",
       "    </tr>\n",
       "    <tr>\n",
       "      <th>2</th>\n",
       "      <td>2.332451</td>\n",
       "      <td>-0.702275</td>\n",
       "      <td>-30.193499</td>\n",
       "      <td>-11.129003</td>\n",
       "      <td>-11.946041</td>\n",
       "      <td>-9.552445</td>\n",
       "      <td>17.439489</td>\n",
       "      <td>9.173270</td>\n",
       "      <td>0.543981</td>\n",
       "      <td>0.109895</td>\n",
       "      <td>...</td>\n",
       "      <td>5.552850</td>\n",
       "      <td>45.003221</td>\n",
       "      <td>12.916609</td>\n",
       "      <td>-65.171291</td>\n",
       "      <td>8.049507</td>\n",
       "      <td>10.654608</td>\n",
       "      <td>60.163407</td>\n",
       "      <td>21.930993</td>\n",
       "      <td>-27.923467</td>\n",
       "      <td>-6.139881</td>\n",
       "    </tr>\n",
       "    <tr>\n",
       "      <th>3</th>\n",
       "      <td>0.019762</td>\n",
       "      <td>1.615843</td>\n",
       "      <td>-16.722290</td>\n",
       "      <td>-7.477221</td>\n",
       "      <td>-6.406284</td>\n",
       "      <td>-5.615944</td>\n",
       "      <td>9.854203</td>\n",
       "      <td>6.312979</td>\n",
       "      <td>0.003089</td>\n",
       "      <td>0.169851</td>\n",
       "      <td>...</td>\n",
       "      <td>10.474085</td>\n",
       "      <td>34.076752</td>\n",
       "      <td>5.992240</td>\n",
       "      <td>-50.613416</td>\n",
       "      <td>7.701672</td>\n",
       "      <td>15.933887</td>\n",
       "      <td>51.712762</td>\n",
       "      <td>13.550454</td>\n",
       "      <td>-18.902888</td>\n",
       "      <td>3.380964</td>\n",
       "    </tr>\n",
       "    <tr>\n",
       "      <th>4</th>\n",
       "      <td>11.621038</td>\n",
       "      <td>-4.392411</td>\n",
       "      <td>-149.011095</td>\n",
       "      <td>-54.249702</td>\n",
       "      <td>-58.928057</td>\n",
       "      <td>-46.508871</td>\n",
       "      <td>86.118611</td>\n",
       "      <td>44.244706</td>\n",
       "      <td>3.259344</td>\n",
       "      <td>-0.127604</td>\n",
       "      <td>...</td>\n",
       "      <td>46.399574</td>\n",
       "      <td>310.065970</td>\n",
       "      <td>105.204626</td>\n",
       "      <td>-440.910602</td>\n",
       "      <td>59.806966</td>\n",
       "      <td>92.491736</td>\n",
       "      <td>423.115547</td>\n",
       "      <td>134.270256</td>\n",
       "      <td>-209.472136</td>\n",
       "      <td>-15.519950</td>\n",
       "    </tr>\n",
       "    <tr>\n",
       "      <th>5</th>\n",
       "      <td>2.622840</td>\n",
       "      <td>-0.755940</td>\n",
       "      <td>-34.679470</td>\n",
       "      <td>-12.858020</td>\n",
       "      <td>-13.662002</td>\n",
       "      <td>-10.894320</td>\n",
       "      <td>20.005054</td>\n",
       "      <td>10.311378</td>\n",
       "      <td>0.637858</td>\n",
       "      <td>0.043308</td>\n",
       "      <td>...</td>\n",
       "      <td>9.507320</td>\n",
       "      <td>64.617630</td>\n",
       "      <td>19.774654</td>\n",
       "      <td>-88.212147</td>\n",
       "      <td>11.183926</td>\n",
       "      <td>21.333410</td>\n",
       "      <td>88.000653</td>\n",
       "      <td>25.355950</td>\n",
       "      <td>-40.274676</td>\n",
       "      <td>0.434457</td>\n",
       "    </tr>\n",
       "  </tbody>\n",
       "</table>\n",
       "<p>5 rows × 200 columns</p>\n",
       "</div>"
      ],
      "text/plain": [
       "               f1        f2          f3         f4         f5         f6  \\\n",
       "userId                                                                     \n",
       "1       16.376331 -6.016376 -218.366150 -79.910255 -85.704251 -67.657745   \n",
       "2        2.332451 -0.702275  -30.193499 -11.129003 -11.946041  -9.552445   \n",
       "3        0.019762  1.615843  -16.722290  -7.477221  -6.406284  -5.615944   \n",
       "4       11.621038 -4.392411 -149.011095 -54.249702 -58.928057 -46.508871   \n",
       "5        2.622840 -0.755940  -34.679470 -12.858020 -13.662002 -10.894320   \n",
       "\n",
       "                f7         f8        f9       f10  ...        f191  \\\n",
       "userId                                             ...               \n",
       "1       125.617381  65.641501  4.167418  0.251680  ...  102.004678   \n",
       "2        17.439489   9.173270  0.543981  0.109895  ...    5.552850   \n",
       "3         9.854203   6.312979  0.003089  0.169851  ...   10.474085   \n",
       "4        86.118611  44.244706  3.259344 -0.127604  ...   46.399574   \n",
       "5        20.005054  10.311378  0.637858  0.043308  ...    9.507320   \n",
       "\n",
       "              f192        f193        f194       f195        f196        f197  \\\n",
       "userId                                                                          \n",
       "1       372.528201  107.283146 -540.037994  85.950019  182.486866  569.064701   \n",
       "2        45.003221   12.916609  -65.171291   8.049507   10.654608   60.163407   \n",
       "3        34.076752    5.992240  -50.613416   7.701672   15.933887   51.712762   \n",
       "4       310.065970  105.204626 -440.910602  59.806966   92.491736  423.115547   \n",
       "5        64.617630   19.774654  -88.212147  11.183926   21.333410   88.000653   \n",
       "\n",
       "              f198        f199       f200  \n",
       "userId                                     \n",
       "1       129.783166 -246.293454  50.218178  \n",
       "2        21.930993  -27.923467  -6.139881  \n",
       "3        13.550454  -18.902888   3.380964  \n",
       "4       134.270256 -209.472136 -15.519950  \n",
       "5        25.355950  -40.274676   0.434457  \n",
       "\n",
       "[5 rows x 200 columns]"
      ]
     },
     "execution_count": 51,
     "metadata": {},
     "output_type": "execute_result"
    }
   ],
   "source": [
    "user_profiles.head()"
   ]
  },
  {
   "cell_type": "code",
   "execution_count": 52,
   "metadata": {},
   "outputs": [
    {
     "data": {
      "text/plain": [
       "(610, 200)"
      ]
     },
     "execution_count": 52,
     "metadata": {},
     "output_type": "execute_result"
    }
   ],
   "source": [
    "user_profiles.shape"
   ]
  },
  {
   "cell_type": "markdown",
   "metadata": {},
   "source": [
    "### Lista de películas vistas por usuario"
   ]
  },
  {
   "cell_type": "code",
   "execution_count": 53,
   "metadata": {
    "scrolled": true
   },
   "outputs": [
    {
     "data": {
      "text/html": [
       "<div>\n",
       "<style scoped>\n",
       "    .dataframe tbody tr th:only-of-type {\n",
       "        vertical-align: middle;\n",
       "    }\n",
       "\n",
       "    .dataframe tbody tr th {\n",
       "        vertical-align: top;\n",
       "    }\n",
       "\n",
       "    .dataframe thead th {\n",
       "        text-align: right;\n",
       "    }\n",
       "</style>\n",
       "<table border=\"1\" class=\"dataframe\">\n",
       "  <thead>\n",
       "    <tr style=\"text-align: right;\">\n",
       "      <th></th>\n",
       "      <th>movieId</th>\n",
       "    </tr>\n",
       "    <tr>\n",
       "      <th>userId</th>\n",
       "      <th></th>\n",
       "    </tr>\n",
       "  </thead>\n",
       "  <tbody>\n",
       "    <tr>\n",
       "      <th>1</th>\n",
       "      <td>[804, 1210, 2628, 2826, 2018, 3578, 3617, 3744...</td>\n",
       "    </tr>\n",
       "    <tr>\n",
       "      <th>2</th>\n",
       "      <td>[318, 79132, 131724, 115713, 99114, 112552, 35...</td>\n",
       "    </tr>\n",
       "    <tr>\n",
       "      <th>3</th>\n",
       "      <td>[1275, 2105, 1371, 914, 1263, 2080, 31, 720, 3...</td>\n",
       "    </tr>\n",
       "    <tr>\n",
       "      <th>4</th>\n",
       "      <td>[171, 902, 2351, 417, 1304, 2959, 2712, 162, 5...</td>\n",
       "    </tr>\n",
       "    <tr>\n",
       "      <th>5</th>\n",
       "      <td>[590, 592, 150, 380, 296, 457, 588, 153, 344, ...</td>\n",
       "    </tr>\n",
       "  </tbody>\n",
       "</table>\n",
       "</div>"
      ],
      "text/plain": [
       "                                                  movieId\n",
       "userId                                                   \n",
       "1       [804, 1210, 2628, 2826, 2018, 3578, 3617, 3744...\n",
       "2       [318, 79132, 131724, 115713, 99114, 112552, 35...\n",
       "3       [1275, 2105, 1371, 914, 1263, 2080, 31, 720, 3...\n",
       "4       [171, 902, 2351, 417, 1304, 2959, 2712, 162, 5...\n",
       "5       [590, 592, 150, 380, 296, 457, 588, 153, 344, ..."
      ]
     },
     "execution_count": 53,
     "metadata": {},
     "output_type": "execute_result"
    }
   ],
   "source": [
    "ratings_sorted = ratings.sort_values(by='timestamp')\n",
    "movies_by_user = pd.DataFrame(ratings_sorted.groupby('userId')['movieId'].apply(list))\n",
    "movies_by_user.head()"
   ]
  },
  {
   "cell_type": "markdown",
   "metadata": {},
   "source": [
    "## 5. Recomendaciones por usuario"
   ]
  },
  {
   "cell_type": "code",
   "execution_count": 56,
   "metadata": {},
   "outputs": [],
   "source": [
    "def get_user_recommendations(uid,num):\n",
    "    C = cosine_similarity(np.atleast_2d(user_profiles.loc[uid]), feature_matrix.values)\n",
    "    R = np.argsort(C)[:, ::-1]\n",
    "    recommendations = [i for i in R[0] if i not in movies_by_user.loc[uid].values]\n",
    "    return movies['title'][recommendations].head(num)"
   ]
  },
  {
   "cell_type": "code",
   "execution_count": 57,
   "metadata": {},
   "outputs": [
    {
     "data": {
      "text/plain": [
       "777     20,000 Leagues Under the Sea (1954)\n",
       "7724                        Puncture (2011)\n",
       "1827                    Faculty, The (1998)\n",
       "4487               Man's Best Friend (1993)\n",
       "6295                 Bow, The (Hwal) (2005)\n",
       "1487     Back to the Future Part III (1990)\n",
       "3880          Look Who's Talking Now (1993)\n",
       "2257           House on Haunted Hill (1999)\n",
       "325                        Mask, The (1994)\n",
       "6077             Memoirs of a Geisha (2005)\n",
       "Name: title, dtype: object"
      ]
     },
     "execution_count": 57,
     "metadata": {},
     "output_type": "execute_result"
    }
   ],
   "source": [
    "get_user_recommendations(uid=1,num=10)"
   ]
  },
  {
   "cell_type": "code",
   "execution_count": 60,
   "metadata": {},
   "outputs": [
    {
     "data": {
      "text/plain": [
       "4416                                     Babe, The (1992)\n",
       "7609                             Midnight in Paris (2011)\n",
       "8677                       The Diary of Anne Frank (2009)\n",
       "8457    Internet's Own Boy: The Story of Aaron Swartz,...\n",
       "9695            Fred Armisen: Standup for Drummers (2018)\n",
       "1556                                  Return to Oz (1985)\n",
       "5880                                 King's Ransom (2005)\n",
       "8671                  Bill Burr: Why Do I Do This? (2008)\n",
       "4650                                Big Empty, The (2003)\n",
       "224             Star Wars: Episode IV - A New Hope (1977)\n",
       "Name: title, dtype: object"
      ]
     },
     "execution_count": 60,
     "metadata": {},
     "output_type": "execute_result"
    }
   ],
   "source": [
    "get_user_recommendations(uid=154,num=10)"
   ]
  },
  {
   "cell_type": "code",
   "execution_count": 61,
   "metadata": {},
   "outputs": [
    {
     "data": {
      "text/plain": [
       "8040    Fantastic Fear of Everything, A (2012)\n",
       "3921               24 Hour Party People (2002)\n",
       "8219                              Turbo (2013)\n",
       "6441             I Think I Love My Wife (2007)\n",
       "1722                            Beloved (1998)\n",
       "2542                  Raise the Titanic (1980)\n",
       "1487        Back to the Future Part III (1990)\n",
       "6664                        Cloverfield (2008)\n",
       "6295                    Bow, The (Hwal) (2005)\n",
       "5555                    Nuns on the Run (1990)\n",
       "Name: title, dtype: object"
      ]
     },
     "execution_count": 61,
     "metadata": {},
     "output_type": "execute_result"
    }
   ],
   "source": [
    "get_user_recommendations(uid=610,num=10)"
   ]
  }
 ],
 "metadata": {
  "kernelspec": {
   "display_name": "Python 3",
   "language": "python",
   "name": "python3"
  },
  "language_info": {
   "codemirror_mode": {
    "name": "ipython",
    "version": 3
   },
   "file_extension": ".py",
   "mimetype": "text/x-python",
   "name": "python",
   "nbconvert_exporter": "python",
   "pygments_lexer": "ipython3",
   "version": "3.7.3"
  }
 },
 "nbformat": 4,
 "nbformat_minor": 2
}
