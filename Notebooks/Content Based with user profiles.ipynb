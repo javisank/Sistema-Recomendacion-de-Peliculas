{
 "cells": [
  {
   "cell_type": "markdown",
   "metadata": {},
   "source": [
    "## 1. Importar librerías"
   ]
  },
  {
   "cell_type": "code",
   "execution_count": 1,
   "metadata": {},
   "outputs": [
    {
     "name": "stderr",
     "output_type": "stream",
     "text": [
      "C:\\Users\\JAVI\\Miniconda3\\envs\\dhds\\lib\\site-packages\\gensim\\utils.py:1197: UserWarning: detected Windows; aliasing chunkize to chunkize_serial\n",
      "  warnings.warn(\"detected Windows; aliasing chunkize to chunkize_serial\")\n"
     ]
    }
   ],
   "source": [
    "import pandas as pd\n",
    "import numpy as np\n",
    "import matplotlib.pyplot as plt\n",
    "import seaborn as sns\n",
    "from sklearn.metrics.pairwise import cosine_similarity\n",
    "\n",
    "from gensim.models import Word2Vec"
   ]
  },
  {
   "cell_type": "markdown",
   "metadata": {},
   "source": [
    "## 2. Cargar datos"
   ]
  },
  {
   "cell_type": "code",
   "execution_count": 2,
   "metadata": {},
   "outputs": [],
   "source": [
    "movies=pd.read_csv('../Data/movies.csv')\n",
    "ratings=pd.read_csv('../Data/ratings.csv')\n",
    "links=pd.read_csv('../Data/links.csv')\n",
    "tags=pd.read_csv('../Data/tags.csv')\n",
    "imdb=pd.read_csv('../Data/tab_imdb_info.csv',index_col=0)"
   ]
  },
  {
   "cell_type": "code",
   "execution_count": 3,
   "metadata": {},
   "outputs": [
    {
     "data": {
      "text/html": [
       "<div>\n",
       "<style scoped>\n",
       "    .dataframe tbody tr th:only-of-type {\n",
       "        vertical-align: middle;\n",
       "    }\n",
       "\n",
       "    .dataframe tbody tr th {\n",
       "        vertical-align: top;\n",
       "    }\n",
       "\n",
       "    .dataframe thead th {\n",
       "        text-align: right;\n",
       "    }\n",
       "</style>\n",
       "<table border=\"1\" class=\"dataframe\">\n",
       "  <thead>\n",
       "    <tr style=\"text-align: right;\">\n",
       "      <th></th>\n",
       "      <th>movieId</th>\n",
       "      <th>title</th>\n",
       "      <th>genres</th>\n",
       "    </tr>\n",
       "  </thead>\n",
       "  <tbody>\n",
       "    <tr>\n",
       "      <th>0</th>\n",
       "      <td>1</td>\n",
       "      <td>Toy Story (1995)</td>\n",
       "      <td>Adventure|Animation|Children|Comedy|Fantasy</td>\n",
       "    </tr>\n",
       "    <tr>\n",
       "      <th>1</th>\n",
       "      <td>2</td>\n",
       "      <td>Jumanji (1995)</td>\n",
       "      <td>Adventure|Children|Fantasy</td>\n",
       "    </tr>\n",
       "    <tr>\n",
       "      <th>2</th>\n",
       "      <td>3</td>\n",
       "      <td>Grumpier Old Men (1995)</td>\n",
       "      <td>Comedy|Romance</td>\n",
       "    </tr>\n",
       "    <tr>\n",
       "      <th>3</th>\n",
       "      <td>4</td>\n",
       "      <td>Waiting to Exhale (1995)</td>\n",
       "      <td>Comedy|Drama|Romance</td>\n",
       "    </tr>\n",
       "    <tr>\n",
       "      <th>4</th>\n",
       "      <td>5</td>\n",
       "      <td>Father of the Bride Part II (1995)</td>\n",
       "      <td>Comedy</td>\n",
       "    </tr>\n",
       "  </tbody>\n",
       "</table>\n",
       "</div>"
      ],
      "text/plain": [
       "   movieId                               title  \\\n",
       "0        1                    Toy Story (1995)   \n",
       "1        2                      Jumanji (1995)   \n",
       "2        3             Grumpier Old Men (1995)   \n",
       "3        4            Waiting to Exhale (1995)   \n",
       "4        5  Father of the Bride Part II (1995)   \n",
       "\n",
       "                                        genres  \n",
       "0  Adventure|Animation|Children|Comedy|Fantasy  \n",
       "1                   Adventure|Children|Fantasy  \n",
       "2                               Comedy|Romance  \n",
       "3                         Comedy|Drama|Romance  \n",
       "4                                       Comedy  "
      ]
     },
     "execution_count": 3,
     "metadata": {},
     "output_type": "execute_result"
    }
   ],
   "source": [
    "movies.head()"
   ]
  },
  {
   "cell_type": "code",
   "execution_count": 4,
   "metadata": {},
   "outputs": [
    {
     "data": {
      "text/html": [
       "<div>\n",
       "<style scoped>\n",
       "    .dataframe tbody tr th:only-of-type {\n",
       "        vertical-align: middle;\n",
       "    }\n",
       "\n",
       "    .dataframe tbody tr th {\n",
       "        vertical-align: top;\n",
       "    }\n",
       "\n",
       "    .dataframe thead th {\n",
       "        text-align: right;\n",
       "    }\n",
       "</style>\n",
       "<table border=\"1\" class=\"dataframe\">\n",
       "  <thead>\n",
       "    <tr style=\"text-align: right;\">\n",
       "      <th></th>\n",
       "      <th>movieId</th>\n",
       "      <th>imdbId</th>\n",
       "      <th>tmdbId</th>\n",
       "    </tr>\n",
       "  </thead>\n",
       "  <tbody>\n",
       "    <tr>\n",
       "      <th>0</th>\n",
       "      <td>1</td>\n",
       "      <td>114709</td>\n",
       "      <td>862.0</td>\n",
       "    </tr>\n",
       "    <tr>\n",
       "      <th>1</th>\n",
       "      <td>2</td>\n",
       "      <td>113497</td>\n",
       "      <td>8844.0</td>\n",
       "    </tr>\n",
       "    <tr>\n",
       "      <th>2</th>\n",
       "      <td>3</td>\n",
       "      <td>113228</td>\n",
       "      <td>15602.0</td>\n",
       "    </tr>\n",
       "    <tr>\n",
       "      <th>3</th>\n",
       "      <td>4</td>\n",
       "      <td>114885</td>\n",
       "      <td>31357.0</td>\n",
       "    </tr>\n",
       "    <tr>\n",
       "      <th>4</th>\n",
       "      <td>5</td>\n",
       "      <td>113041</td>\n",
       "      <td>11862.0</td>\n",
       "    </tr>\n",
       "  </tbody>\n",
       "</table>\n",
       "</div>"
      ],
      "text/plain": [
       "   movieId  imdbId   tmdbId\n",
       "0        1  114709    862.0\n",
       "1        2  113497   8844.0\n",
       "2        3  113228  15602.0\n",
       "3        4  114885  31357.0\n",
       "4        5  113041  11862.0"
      ]
     },
     "execution_count": 4,
     "metadata": {},
     "output_type": "execute_result"
    }
   ],
   "source": [
    "links.head()"
   ]
  },
  {
   "cell_type": "code",
   "execution_count": 5,
   "metadata": {},
   "outputs": [
    {
     "data": {
      "text/plain": [
       "movieId      int64\n",
       "imdbId       int64\n",
       "tmdbId     float64\n",
       "dtype: object"
      ]
     },
     "execution_count": 5,
     "metadata": {},
     "output_type": "execute_result"
    }
   ],
   "source": [
    "links.dtypes"
   ]
  },
  {
   "cell_type": "code",
   "execution_count": 6,
   "metadata": {
    "scrolled": true
   },
   "outputs": [
    {
     "data": {
      "text/html": [
       "<div>\n",
       "<style scoped>\n",
       "    .dataframe tbody tr th:only-of-type {\n",
       "        vertical-align: middle;\n",
       "    }\n",
       "\n",
       "    .dataframe tbody tr th {\n",
       "        vertical-align: top;\n",
       "    }\n",
       "\n",
       "    .dataframe thead th {\n",
       "        text-align: right;\n",
       "    }\n",
       "</style>\n",
       "<table border=\"1\" class=\"dataframe\">\n",
       "  <thead>\n",
       "    <tr style=\"text-align: right;\">\n",
       "      <th></th>\n",
       "      <th>actors</th>\n",
       "      <th>country</th>\n",
       "      <th>director</th>\n",
       "      <th>req_imdbid</th>\n",
       "      <th>year</th>\n",
       "    </tr>\n",
       "  </thead>\n",
       "  <tbody>\n",
       "    <tr>\n",
       "      <th>0</th>\n",
       "      <td>Tom Hanks, Tim Allen, Don Rickles, Jim Varney</td>\n",
       "      <td>USA</td>\n",
       "      <td>John Lasseter</td>\n",
       "      <td>tt0114709</td>\n",
       "      <td>1995</td>\n",
       "    </tr>\n",
       "    <tr>\n",
       "      <th>1</th>\n",
       "      <td>Robin Williams, Jonathan Hyde, Kirsten Dunst, ...</td>\n",
       "      <td>USA</td>\n",
       "      <td>Joe Johnston</td>\n",
       "      <td>tt0113497</td>\n",
       "      <td>1995</td>\n",
       "    </tr>\n",
       "    <tr>\n",
       "      <th>2</th>\n",
       "      <td>Walter Matthau, Jack Lemmon, Sophia Loren, Ann...</td>\n",
       "      <td>USA</td>\n",
       "      <td>Howard Deutch</td>\n",
       "      <td>tt0113228</td>\n",
       "      <td>1995</td>\n",
       "    </tr>\n",
       "    <tr>\n",
       "      <th>3</th>\n",
       "      <td>Whitney Houston, Angela Bassett, Loretta Devin...</td>\n",
       "      <td>USA</td>\n",
       "      <td>Forest Whitaker</td>\n",
       "      <td>tt0114885</td>\n",
       "      <td>1995</td>\n",
       "    </tr>\n",
       "    <tr>\n",
       "      <th>4</th>\n",
       "      <td>Steve Martin, Diane Keaton, Martin Short, Kimb...</td>\n",
       "      <td>USA</td>\n",
       "      <td>Charles Shyer</td>\n",
       "      <td>tt0113041</td>\n",
       "      <td>1995</td>\n",
       "    </tr>\n",
       "  </tbody>\n",
       "</table>\n",
       "</div>"
      ],
      "text/plain": [
       "                                              actors country         director  \\\n",
       "0      Tom Hanks, Tim Allen, Don Rickles, Jim Varney     USA    John Lasseter   \n",
       "1  Robin Williams, Jonathan Hyde, Kirsten Dunst, ...     USA     Joe Johnston   \n",
       "2  Walter Matthau, Jack Lemmon, Sophia Loren, Ann...     USA    Howard Deutch   \n",
       "3  Whitney Houston, Angela Bassett, Loretta Devin...     USA  Forest Whitaker   \n",
       "4  Steve Martin, Diane Keaton, Martin Short, Kimb...     USA    Charles Shyer   \n",
       "\n",
       "  req_imdbid  year  \n",
       "0  tt0114709  1995  \n",
       "1  tt0113497  1995  \n",
       "2  tt0113228  1995  \n",
       "3  tt0114885  1995  \n",
       "4  tt0113041  1995  "
      ]
     },
     "execution_count": 6,
     "metadata": {},
     "output_type": "execute_result"
    }
   ],
   "source": [
    "imdb.head()"
   ]
  },
  {
   "cell_type": "code",
   "execution_count": 7,
   "metadata": {},
   "outputs": [
    {
     "data": {
      "text/html": [
       "<div>\n",
       "<style scoped>\n",
       "    .dataframe tbody tr th:only-of-type {\n",
       "        vertical-align: middle;\n",
       "    }\n",
       "\n",
       "    .dataframe tbody tr th {\n",
       "        vertical-align: top;\n",
       "    }\n",
       "\n",
       "    .dataframe thead th {\n",
       "        text-align: right;\n",
       "    }\n",
       "</style>\n",
       "<table border=\"1\" class=\"dataframe\">\n",
       "  <thead>\n",
       "    <tr style=\"text-align: right;\">\n",
       "      <th></th>\n",
       "      <th>actors</th>\n",
       "      <th>country</th>\n",
       "      <th>director</th>\n",
       "      <th>req_imdbid</th>\n",
       "      <th>year</th>\n",
       "    </tr>\n",
       "  </thead>\n",
       "  <tbody>\n",
       "    <tr>\n",
       "      <th>0</th>\n",
       "      <td>Tom Hanks, Tim Allen, Don Rickles, Jim Varney</td>\n",
       "      <td>USA</td>\n",
       "      <td>John Lasseter</td>\n",
       "      <td>tt0114709</td>\n",
       "      <td>1995</td>\n",
       "    </tr>\n",
       "    <tr>\n",
       "      <th>1</th>\n",
       "      <td>Robin Williams, Jonathan Hyde, Kirsten Dunst, ...</td>\n",
       "      <td>USA</td>\n",
       "      <td>Joe Johnston</td>\n",
       "      <td>tt0113497</td>\n",
       "      <td>1995</td>\n",
       "    </tr>\n",
       "    <tr>\n",
       "      <th>2</th>\n",
       "      <td>Walter Matthau, Jack Lemmon, Sophia Loren, Ann...</td>\n",
       "      <td>USA</td>\n",
       "      <td>Howard Deutch</td>\n",
       "      <td>tt0113228</td>\n",
       "      <td>1995</td>\n",
       "    </tr>\n",
       "    <tr>\n",
       "      <th>3</th>\n",
       "      <td>Whitney Houston, Angela Bassett, Loretta Devin...</td>\n",
       "      <td>USA</td>\n",
       "      <td>Forest Whitaker</td>\n",
       "      <td>tt0114885</td>\n",
       "      <td>1995</td>\n",
       "    </tr>\n",
       "    <tr>\n",
       "      <th>4</th>\n",
       "      <td>Steve Martin, Diane Keaton, Martin Short, Kimb...</td>\n",
       "      <td>USA</td>\n",
       "      <td>Charles Shyer</td>\n",
       "      <td>tt0113041</td>\n",
       "      <td>1995</td>\n",
       "    </tr>\n",
       "  </tbody>\n",
       "</table>\n",
       "</div>"
      ],
      "text/plain": [
       "                                              actors country         director  \\\n",
       "0      Tom Hanks, Tim Allen, Don Rickles, Jim Varney     USA    John Lasseter   \n",
       "1  Robin Williams, Jonathan Hyde, Kirsten Dunst, ...     USA     Joe Johnston   \n",
       "2  Walter Matthau, Jack Lemmon, Sophia Loren, Ann...     USA    Howard Deutch   \n",
       "3  Whitney Houston, Angela Bassett, Loretta Devin...     USA  Forest Whitaker   \n",
       "4  Steve Martin, Diane Keaton, Martin Short, Kimb...     USA    Charles Shyer   \n",
       "\n",
       "  req_imdbid  year  \n",
       "0  tt0114709  1995  \n",
       "1  tt0113497  1995  \n",
       "2  tt0113228  1995  \n",
       "3  tt0114885  1995  \n",
       "4  tt0113041  1995  "
      ]
     },
     "execution_count": 7,
     "metadata": {},
     "output_type": "execute_result"
    }
   ],
   "source": [
    "imdb.head()"
   ]
  },
  {
   "cell_type": "markdown",
   "metadata": {},
   "source": [
    "## 3. Feature Extraction"
   ]
  },
  {
   "cell_type": "markdown",
   "metadata": {},
   "source": [
    "Corregir id's de imdb:"
   ]
  },
  {
   "cell_type": "code",
   "execution_count": 8,
   "metadata": {},
   "outputs": [],
   "source": [
    "imdb['imdbId']=imdb['req_imdbid'].apply(lambda x: x[2:]).astype('int64')"
   ]
  },
  {
   "cell_type": "code",
   "execution_count": 9,
   "metadata": {
    "scrolled": true
   },
   "outputs": [
    {
     "data": {
      "text/html": [
       "<div>\n",
       "<style scoped>\n",
       "    .dataframe tbody tr th:only-of-type {\n",
       "        vertical-align: middle;\n",
       "    }\n",
       "\n",
       "    .dataframe tbody tr th {\n",
       "        vertical-align: top;\n",
       "    }\n",
       "\n",
       "    .dataframe thead th {\n",
       "        text-align: right;\n",
       "    }\n",
       "</style>\n",
       "<table border=\"1\" class=\"dataframe\">\n",
       "  <thead>\n",
       "    <tr style=\"text-align: right;\">\n",
       "      <th></th>\n",
       "      <th>movieId</th>\n",
       "      <th>imdbId</th>\n",
       "      <th>tmdbId</th>\n",
       "      <th>title</th>\n",
       "      <th>genres</th>\n",
       "    </tr>\n",
       "  </thead>\n",
       "  <tbody>\n",
       "    <tr>\n",
       "      <th>0</th>\n",
       "      <td>1</td>\n",
       "      <td>114709</td>\n",
       "      <td>862.0</td>\n",
       "      <td>Toy Story (1995)</td>\n",
       "      <td>Adventure|Animation|Children|Comedy|Fantasy</td>\n",
       "    </tr>\n",
       "    <tr>\n",
       "      <th>1</th>\n",
       "      <td>2</td>\n",
       "      <td>113497</td>\n",
       "      <td>8844.0</td>\n",
       "      <td>Jumanji (1995)</td>\n",
       "      <td>Adventure|Children|Fantasy</td>\n",
       "    </tr>\n",
       "    <tr>\n",
       "      <th>2</th>\n",
       "      <td>3</td>\n",
       "      <td>113228</td>\n",
       "      <td>15602.0</td>\n",
       "      <td>Grumpier Old Men (1995)</td>\n",
       "      <td>Comedy|Romance</td>\n",
       "    </tr>\n",
       "    <tr>\n",
       "      <th>3</th>\n",
       "      <td>4</td>\n",
       "      <td>114885</td>\n",
       "      <td>31357.0</td>\n",
       "      <td>Waiting to Exhale (1995)</td>\n",
       "      <td>Comedy|Drama|Romance</td>\n",
       "    </tr>\n",
       "    <tr>\n",
       "      <th>4</th>\n",
       "      <td>5</td>\n",
       "      <td>113041</td>\n",
       "      <td>11862.0</td>\n",
       "      <td>Father of the Bride Part II (1995)</td>\n",
       "      <td>Comedy</td>\n",
       "    </tr>\n",
       "  </tbody>\n",
       "</table>\n",
       "</div>"
      ],
      "text/plain": [
       "   movieId  imdbId   tmdbId                               title  \\\n",
       "0        1  114709    862.0                    Toy Story (1995)   \n",
       "1        2  113497   8844.0                      Jumanji (1995)   \n",
       "2        3  113228  15602.0             Grumpier Old Men (1995)   \n",
       "3        4  114885  31357.0            Waiting to Exhale (1995)   \n",
       "4        5  113041  11862.0  Father of the Bride Part II (1995)   \n",
       "\n",
       "                                        genres  \n",
       "0  Adventure|Animation|Children|Comedy|Fantasy  \n",
       "1                   Adventure|Children|Fantasy  \n",
       "2                               Comedy|Romance  \n",
       "3                         Comedy|Drama|Romance  \n",
       "4                                       Comedy  "
      ]
     },
     "execution_count": 9,
     "metadata": {},
     "output_type": "execute_result"
    }
   ],
   "source": [
    "pd.merge(links,movies,on='movieId').head()"
   ]
  },
  {
   "cell_type": "code",
   "execution_count": 10,
   "metadata": {},
   "outputs": [
    {
     "data": {
      "text/plain": [
       "actors        32\n",
       "country       12\n",
       "director      94\n",
       "req_imdbid     0\n",
       "year           0\n",
       "imdbId         0\n",
       "dtype: int64"
      ]
     },
     "execution_count": 10,
     "metadata": {},
     "output_type": "execute_result"
    }
   ],
   "source": [
    "imdb.isna().sum()"
   ]
  },
  {
   "cell_type": "code",
   "execution_count": 11,
   "metadata": {},
   "outputs": [],
   "source": [
    "imdb.fillna('-',inplace=True)"
   ]
  },
  {
   "cell_type": "code",
   "execution_count": 12,
   "metadata": {},
   "outputs": [
    {
     "data": {
      "text/plain": [
       "array([4, 2, 3, 1], dtype=int64)"
      ]
     },
     "execution_count": 12,
     "metadata": {},
     "output_type": "execute_result"
    }
   ],
   "source": [
    "imdb['actors'].apply(lambda x: len(x.split(','))).unique()"
   ]
  },
  {
   "cell_type": "code",
   "execution_count": 13,
   "metadata": {},
   "outputs": [],
   "source": [
    "# imdb['director1'] = imdb['director'].apply(lambda x: x.split(',')[0])\n",
    "# imdb['actor1'] = imdb['actors'].apply(lambda x: x.split(',')[0])\n",
    "# #imdb['actor2'] = imdb['actors'].apply(lambda x: x.split(',')[1])\n",
    "# imdb['country1'] = imdb['country'].apply(lambda x: x.split(',')[0])"
   ]
  },
  {
   "cell_type": "markdown",
   "metadata": {},
   "source": [
    "Creo un dataframe con todos los datos necesarios para crear features por películas:"
   ]
  },
  {
   "cell_type": "code",
   "execution_count": 14,
   "metadata": {},
   "outputs": [
    {
     "data": {
      "text/html": [
       "<div>\n",
       "<style scoped>\n",
       "    .dataframe tbody tr th:only-of-type {\n",
       "        vertical-align: middle;\n",
       "    }\n",
       "\n",
       "    .dataframe tbody tr th {\n",
       "        vertical-align: top;\n",
       "    }\n",
       "\n",
       "    .dataframe thead th {\n",
       "        text-align: right;\n",
       "    }\n",
       "</style>\n",
       "<table border=\"1\" class=\"dataframe\">\n",
       "  <thead>\n",
       "    <tr style=\"text-align: right;\">\n",
       "      <th></th>\n",
       "      <th>movieId</th>\n",
       "      <th>imdbId</th>\n",
       "      <th>tmdbId</th>\n",
       "      <th>actors</th>\n",
       "      <th>country</th>\n",
       "      <th>director</th>\n",
       "      <th>req_imdbid</th>\n",
       "      <th>year</th>\n",
       "      <th>title</th>\n",
       "      <th>genres</th>\n",
       "    </tr>\n",
       "  </thead>\n",
       "  <tbody>\n",
       "    <tr>\n",
       "      <th>0</th>\n",
       "      <td>1</td>\n",
       "      <td>114709</td>\n",
       "      <td>862.0</td>\n",
       "      <td>Tom Hanks, Tim Allen, Don Rickles, Jim Varney</td>\n",
       "      <td>USA</td>\n",
       "      <td>John Lasseter</td>\n",
       "      <td>tt0114709</td>\n",
       "      <td>1995</td>\n",
       "      <td>Toy Story (1995)</td>\n",
       "      <td>Adventure|Animation|Children|Comedy|Fantasy</td>\n",
       "    </tr>\n",
       "    <tr>\n",
       "      <th>1</th>\n",
       "      <td>2</td>\n",
       "      <td>113497</td>\n",
       "      <td>8844.0</td>\n",
       "      <td>Robin Williams, Jonathan Hyde, Kirsten Dunst, ...</td>\n",
       "      <td>USA</td>\n",
       "      <td>Joe Johnston</td>\n",
       "      <td>tt0113497</td>\n",
       "      <td>1995</td>\n",
       "      <td>Jumanji (1995)</td>\n",
       "      <td>Adventure|Children|Fantasy</td>\n",
       "    </tr>\n",
       "    <tr>\n",
       "      <th>2</th>\n",
       "      <td>3</td>\n",
       "      <td>113228</td>\n",
       "      <td>15602.0</td>\n",
       "      <td>Walter Matthau, Jack Lemmon, Sophia Loren, Ann...</td>\n",
       "      <td>USA</td>\n",
       "      <td>Howard Deutch</td>\n",
       "      <td>tt0113228</td>\n",
       "      <td>1995</td>\n",
       "      <td>Grumpier Old Men (1995)</td>\n",
       "      <td>Comedy|Romance</td>\n",
       "    </tr>\n",
       "    <tr>\n",
       "      <th>3</th>\n",
       "      <td>4</td>\n",
       "      <td>114885</td>\n",
       "      <td>31357.0</td>\n",
       "      <td>Whitney Houston, Angela Bassett, Loretta Devin...</td>\n",
       "      <td>USA</td>\n",
       "      <td>Forest Whitaker</td>\n",
       "      <td>tt0114885</td>\n",
       "      <td>1995</td>\n",
       "      <td>Waiting to Exhale (1995)</td>\n",
       "      <td>Comedy|Drama|Romance</td>\n",
       "    </tr>\n",
       "    <tr>\n",
       "      <th>4</th>\n",
       "      <td>5</td>\n",
       "      <td>113041</td>\n",
       "      <td>11862.0</td>\n",
       "      <td>Steve Martin, Diane Keaton, Martin Short, Kimb...</td>\n",
       "      <td>USA</td>\n",
       "      <td>Charles Shyer</td>\n",
       "      <td>tt0113041</td>\n",
       "      <td>1995</td>\n",
       "      <td>Father of the Bride Part II (1995)</td>\n",
       "      <td>Comedy</td>\n",
       "    </tr>\n",
       "  </tbody>\n",
       "</table>\n",
       "</div>"
      ],
      "text/plain": [
       "   movieId  imdbId   tmdbId  \\\n",
       "0        1  114709    862.0   \n",
       "1        2  113497   8844.0   \n",
       "2        3  113228  15602.0   \n",
       "3        4  114885  31357.0   \n",
       "4        5  113041  11862.0   \n",
       "\n",
       "                                              actors country         director  \\\n",
       "0      Tom Hanks, Tim Allen, Don Rickles, Jim Varney     USA    John Lasseter   \n",
       "1  Robin Williams, Jonathan Hyde, Kirsten Dunst, ...     USA     Joe Johnston   \n",
       "2  Walter Matthau, Jack Lemmon, Sophia Loren, Ann...     USA    Howard Deutch   \n",
       "3  Whitney Houston, Angela Bassett, Loretta Devin...     USA  Forest Whitaker   \n",
       "4  Steve Martin, Diane Keaton, Martin Short, Kimb...     USA    Charles Shyer   \n",
       "\n",
       "  req_imdbid  year                               title  \\\n",
       "0  tt0114709  1995                    Toy Story (1995)   \n",
       "1  tt0113497  1995                      Jumanji (1995)   \n",
       "2  tt0113228  1995             Grumpier Old Men (1995)   \n",
       "3  tt0114885  1995            Waiting to Exhale (1995)   \n",
       "4  tt0113041  1995  Father of the Bride Part II (1995)   \n",
       "\n",
       "                                        genres  \n",
       "0  Adventure|Animation|Children|Comedy|Fantasy  \n",
       "1                   Adventure|Children|Fantasy  \n",
       "2                               Comedy|Romance  \n",
       "3                         Comedy|Drama|Romance  \n",
       "4                                       Comedy  "
      ]
     },
     "execution_count": 14,
     "metadata": {},
     "output_type": "execute_result"
    }
   ],
   "source": [
    "mov_with_feat = pd.merge(links,imdb,on='imdbId')\n",
    "mov_with_feat = pd.merge(mov_with_feat,movies,on='movieId')\n",
    "mov_with_feat.head()"
   ]
  },
  {
   "cell_type": "code",
   "execution_count": 15,
   "metadata": {},
   "outputs": [
    {
     "data": {
      "text/plain": [
       "movieId       0\n",
       "imdbId        0\n",
       "tmdbId        8\n",
       "actors        0\n",
       "country       0\n",
       "director      0\n",
       "req_imdbid    0\n",
       "year          0\n",
       "title         0\n",
       "genres        0\n",
       "dtype: int64"
      ]
     },
     "execution_count": 15,
     "metadata": {},
     "output_type": "execute_result"
    }
   ],
   "source": [
    "mov_with_feat.isna().sum()"
   ]
  },
  {
   "cell_type": "code",
   "execution_count": 16,
   "metadata": {},
   "outputs": [],
   "source": [
    "mov_with_feat.fillna('-',inplace=True)"
   ]
  },
  {
   "cell_type": "code",
   "execution_count": 17,
   "metadata": {},
   "outputs": [
    {
     "data": {
      "text/html": [
       "<div>\n",
       "<style scoped>\n",
       "    .dataframe tbody tr th:only-of-type {\n",
       "        vertical-align: middle;\n",
       "    }\n",
       "\n",
       "    .dataframe tbody tr th {\n",
       "        vertical-align: top;\n",
       "    }\n",
       "\n",
       "    .dataframe thead th {\n",
       "        text-align: right;\n",
       "    }\n",
       "</style>\n",
       "<table border=\"1\" class=\"dataframe\">\n",
       "  <thead>\n",
       "    <tr style=\"text-align: right;\">\n",
       "      <th></th>\n",
       "      <th>movieId</th>\n",
       "      <th>imdbId</th>\n",
       "      <th>tmdbId</th>\n",
       "      <th>actors</th>\n",
       "      <th>country</th>\n",
       "      <th>director</th>\n",
       "      <th>req_imdbid</th>\n",
       "      <th>year</th>\n",
       "      <th>title</th>\n",
       "      <th>genres</th>\n",
       "    </tr>\n",
       "  </thead>\n",
       "  <tbody>\n",
       "    <tr>\n",
       "      <th>0</th>\n",
       "      <td>1</td>\n",
       "      <td>114709</td>\n",
       "      <td>862</td>\n",
       "      <td>TomHanks,TimAllen,DonRickles,JimVarney</td>\n",
       "      <td>USA</td>\n",
       "      <td>JohnLasseter</td>\n",
       "      <td>tt0114709</td>\n",
       "      <td>1995</td>\n",
       "      <td>Toy Story (1995)</td>\n",
       "      <td>Adventure,Animation,Children,Comedy,Fantasy</td>\n",
       "    </tr>\n",
       "    <tr>\n",
       "      <th>1</th>\n",
       "      <td>2</td>\n",
       "      <td>113497</td>\n",
       "      <td>8844</td>\n",
       "      <td>RobinWilliams,JonathanHyde,KirstenDunst,Bradle...</td>\n",
       "      <td>USA</td>\n",
       "      <td>JoeJohnston</td>\n",
       "      <td>tt0113497</td>\n",
       "      <td>1995</td>\n",
       "      <td>Jumanji (1995)</td>\n",
       "      <td>Adventure,Children,Fantasy</td>\n",
       "    </tr>\n",
       "    <tr>\n",
       "      <th>2</th>\n",
       "      <td>3</td>\n",
       "      <td>113228</td>\n",
       "      <td>15602</td>\n",
       "      <td>WalterMatthau,JackLemmon,SophiaLoren,Ann-Margret</td>\n",
       "      <td>USA</td>\n",
       "      <td>HowardDeutch</td>\n",
       "      <td>tt0113228</td>\n",
       "      <td>1995</td>\n",
       "      <td>Grumpier Old Men (1995)</td>\n",
       "      <td>Comedy,Romance</td>\n",
       "    </tr>\n",
       "    <tr>\n",
       "      <th>3</th>\n",
       "      <td>4</td>\n",
       "      <td>114885</td>\n",
       "      <td>31357</td>\n",
       "      <td>WhitneyHouston,AngelaBassett,LorettaDevine,Lel...</td>\n",
       "      <td>USA</td>\n",
       "      <td>ForestWhitaker</td>\n",
       "      <td>tt0114885</td>\n",
       "      <td>1995</td>\n",
       "      <td>Waiting to Exhale (1995)</td>\n",
       "      <td>Comedy,Drama,Romance</td>\n",
       "    </tr>\n",
       "    <tr>\n",
       "      <th>4</th>\n",
       "      <td>5</td>\n",
       "      <td>113041</td>\n",
       "      <td>11862</td>\n",
       "      <td>SteveMartin,DianeKeaton,MartinShort,KimberlyWi...</td>\n",
       "      <td>USA</td>\n",
       "      <td>CharlesShyer</td>\n",
       "      <td>tt0113041</td>\n",
       "      <td>1995</td>\n",
       "      <td>Father of the Bride Part II (1995)</td>\n",
       "      <td>Comedy</td>\n",
       "    </tr>\n",
       "  </tbody>\n",
       "</table>\n",
       "</div>"
      ],
      "text/plain": [
       "   movieId  imdbId tmdbId                                             actors  \\\n",
       "0        1  114709    862             TomHanks,TimAllen,DonRickles,JimVarney   \n",
       "1        2  113497   8844  RobinWilliams,JonathanHyde,KirstenDunst,Bradle...   \n",
       "2        3  113228  15602   WalterMatthau,JackLemmon,SophiaLoren,Ann-Margret   \n",
       "3        4  114885  31357  WhitneyHouston,AngelaBassett,LorettaDevine,Lel...   \n",
       "4        5  113041  11862  SteveMartin,DianeKeaton,MartinShort,KimberlyWi...   \n",
       "\n",
       "  country        director req_imdbid  year  \\\n",
       "0     USA    JohnLasseter  tt0114709  1995   \n",
       "1     USA     JoeJohnston  tt0113497  1995   \n",
       "2     USA    HowardDeutch  tt0113228  1995   \n",
       "3     USA  ForestWhitaker  tt0114885  1995   \n",
       "4     USA    CharlesShyer  tt0113041  1995   \n",
       "\n",
       "                                title  \\\n",
       "0                    Toy Story (1995)   \n",
       "1                      Jumanji (1995)   \n",
       "2             Grumpier Old Men (1995)   \n",
       "3            Waiting to Exhale (1995)   \n",
       "4  Father of the Bride Part II (1995)   \n",
       "\n",
       "                                        genres  \n",
       "0  Adventure,Animation,Children,Comedy,Fantasy  \n",
       "1                   Adventure,Children,Fantasy  \n",
       "2                               Comedy,Romance  \n",
       "3                         Comedy,Drama,Romance  \n",
       "4                                       Comedy  "
      ]
     },
     "execution_count": 17,
     "metadata": {},
     "output_type": "execute_result"
    }
   ],
   "source": [
    "mov_with_feat['actors'] = mov_with_feat['actors'].str.replace(' ','')\n",
    "mov_with_feat['genres'] = mov_with_feat['genres'].str.replace('|',',')\n",
    "mov_with_feat['genres'] = mov_with_feat['genres'].str.replace(' ','')\n",
    "mov_with_feat['director'] = mov_with_feat['director'].str.replace(' ','')\n",
    "mov_with_feat['country'] = mov_with_feat['country'].str.replace(' ','')\n",
    "mov_with_feat.head()"
   ]
  },
  {
   "cell_type": "markdown",
   "metadata": {},
   "source": [
    "Armado de tokens:"
   ]
  },
  {
   "cell_type": "code",
   "execution_count": 18,
   "metadata": {},
   "outputs": [
    {
     "name": "stdout",
     "output_type": "stream",
     "text": [
      "['TomHanks,TimAllen,DonRickles,JimVarney,JohnLasseter,USA,Adventure,Animation,Children,Comedy,Fantasy']\n"
     ]
    },
    {
     "data": {
      "text/plain": [
       "[('tt0114709',\n",
       "  ['TomHanks',\n",
       "   'TimAllen',\n",
       "   'DonRickles',\n",
       "   'JimVarney',\n",
       "   'JohnLasseter',\n",
       "   'USA',\n",
       "   'Adventure',\n",
       "   'Animation',\n",
       "   'Children',\n",
       "   'Comedy',\n",
       "   'Fantasy']),\n",
       " ('tt0113497',\n",
       "  ['RobinWilliams',\n",
       "   'JonathanHyde',\n",
       "   'KirstenDunst',\n",
       "   'BradleyPierce',\n",
       "   'JoeJohnston',\n",
       "   'USA',\n",
       "   'Adventure',\n",
       "   'Children',\n",
       "   'Fantasy'])]"
      ]
     },
     "execution_count": 18,
     "metadata": {},
     "output_type": "execute_result"
    }
   ],
   "source": [
    "#df1 = mov_with_feat[['actor1','director1','country1']]\n",
    "df1 = mov_with_feat[['actors','director','country','genres']]\n",
    "df1 = df1.apply(lambda x: ','.join(x.astype(str)), axis=1)\n",
    "df1 = df1.str.replace(' ','')\n",
    "df1 = pd.DataFrame({'clean': df1}) \n",
    "print(df1.iloc[0].values)\n",
    "sent = [row.split(',') for row in df1['clean']]\n",
    "mov_sent = [a for a in zip(imdb['req_imdbid'],sent)]\n",
    "mov_sent[0:2]"
   ]
  },
  {
   "cell_type": "markdown",
   "metadata": {},
   "source": [
    "Entrenar modelo de word2vec de gensim:"
   ]
  },
  {
   "cell_type": "code",
   "execution_count": 19,
   "metadata": {},
   "outputs": [],
   "source": [
    "model = Word2Vec(sent, min_count=1,size= 50,workers=3, window =3, sg = 1)"
   ]
  },
  {
   "cell_type": "code",
   "execution_count": 20,
   "metadata": {},
   "outputs": [
    {
     "data": {
      "text/plain": [
       "array([-0.06902692, -0.02032053,  0.03269949,  0.03699073, -0.01038133,\n",
       "       -0.098679  , -0.04925255, -0.02807162,  0.07255221, -0.05724383,\n",
       "       -0.02070779, -0.0142433 ,  0.01451093,  0.00126002,  0.03355167,\n",
       "        0.00326157,  0.02814179, -0.0115273 ,  0.0567862 ,  0.06987983,\n",
       "       -0.02888509, -0.09200695,  0.06987879, -0.13282795,  0.02872403,\n",
       "       -0.01149121,  0.06413184,  0.01549263, -0.07157039,  0.00485235,\n",
       "       -0.00513043,  0.0225374 , -0.09410509,  0.1012375 , -0.07112029,\n",
       "        0.05992955, -0.01250696, -0.01380466, -0.06387655, -0.03802859,\n",
       "       -0.00252734, -0.07385489,  0.02803891, -0.06623362, -0.08583655,\n",
       "       -0.00519474,  0.03062098, -0.01952633, -0.02446698,  0.03779869],\n",
       "      dtype=float32)"
      ]
     },
     "execution_count": 20,
     "metadata": {},
     "output_type": "execute_result"
    }
   ],
   "source": [
    "#Representation for director John Lasseter\n",
    "model.wv['JohnLasseter']"
   ]
  },
  {
   "cell_type": "code",
   "execution_count": 21,
   "metadata": {},
   "outputs": [
    {
     "data": {
      "text/plain": [
       "0.49676630721162374"
      ]
     },
     "execution_count": 21,
     "metadata": {},
     "output_type": "execute_result"
    }
   ],
   "source": [
    "#Get similarity\n",
    "model.wv.similarity('TomHanks', 'USA')"
   ]
  },
  {
   "cell_type": "code",
   "execution_count": 22,
   "metadata": {},
   "outputs": [
    {
     "data": {
      "text/plain": [
       "array([-0.36064607, -0.6015488 , -0.12491114, -0.09620138,  0.20001468,\n",
       "       -1.0764909 , -0.0052591 , -0.07640246, -0.17127128, -0.28454098,\n",
       "       -0.05811675, -0.03585466,  0.24743639,  0.19692487,  0.42435157,\n",
       "        0.2864549 ,  0.5383293 , -0.29927072,  0.33277774,  0.57374096,\n",
       "       -0.0390864 , -0.39783266,  0.46668407, -0.8412741 ,  0.59209794,\n",
       "       -0.7145393 ,  0.35548297, -0.18797548, -0.7981928 , -0.49112025,\n",
       "        0.15210055, -0.12869711, -0.7132978 ,  0.451838  , -0.5172065 ,\n",
       "        0.41149077, -0.5992487 , -0.19612435,  0.17891514,  0.12907426,\n",
       "        0.5669889 , -0.39235252, -0.47345188,  0.24119934,  0.3819955 ,\n",
       "        0.277306  , -0.30181584,  0.05197136, -0.00199552,  0.44454426],\n",
       "      dtype=float32)"
      ]
     },
     "execution_count": 22,
     "metadata": {},
     "output_type": "execute_result"
    }
   ],
   "source": [
    "model.wv['Adventure']"
   ]
  },
  {
   "cell_type": "code",
   "execution_count": 23,
   "metadata": {},
   "outputs": [
    {
     "data": {
      "text/plain": [
       "array([-0.07402472, -0.05072477,  0.1107582 ,  0.09212188, -0.06972072,\n",
       "       -0.18893251, -0.11675443, -0.02925096,  0.14427005, -0.11924504,\n",
       "       -0.08035097,  0.00849434,  0.00372628,  0.00710055,  0.07307328,\n",
       "       -0.03694683,  0.06470872,  0.02072913,  0.08899808,  0.13610278,\n",
       "       -0.06060383, -0.15395327,  0.10914179, -0.23890573,  0.06124378,\n",
       "       -0.03961135,  0.12101928,  0.07490422, -0.11642683,  0.00536723,\n",
       "       -0.00501172,  0.07674105, -0.17773826,  0.2313854 , -0.13351521,\n",
       "        0.10425684, -0.04216936, -0.02507067, -0.10544158, -0.06557231,\n",
       "       -0.00192441, -0.14310166,  0.02266148, -0.16865273, -0.16870368,\n",
       "       -0.0077989 ,  0.05181112, -0.03525853, -0.05211582,  0.06562388],\n",
       "      dtype=float32)"
      ]
     },
     "execution_count": 23,
     "metadata": {},
     "output_type": "execute_result"
    }
   ],
   "source": [
    "model.wv['(nogenreslisted)']"
   ]
  },
  {
   "cell_type": "code",
   "execution_count": 24,
   "metadata": {},
   "outputs": [
    {
     "data": {
      "text/plain": [
       "[('UK', 0.9894570112228394),\n",
       " ('War', 0.981853723526001),\n",
       " ('Australia', 0.9812292456626892),\n",
       " ('Canada', 0.980694055557251),\n",
       " ('USA', 0.9797766804695129),\n",
       " ('-', 0.9791041016578674),\n",
       " ('Germany', 0.9749627113342285),\n",
       " ('Comedy', 0.9730315208435059),\n",
       " ('Western', 0.9723223447799683),\n",
       " ('France', 0.9693043828010559)]"
      ]
     },
     "execution_count": 24,
     "metadata": {},
     "output_type": "execute_result"
    }
   ],
   "source": [
    "model.wv.most_similar('Romance')"
   ]
  },
  {
   "cell_type": "code",
   "execution_count": 25,
   "metadata": {},
   "outputs": [
    {
     "data": {
      "text/html": [
       "<div>\n",
       "<style scoped>\n",
       "    .dataframe tbody tr th:only-of-type {\n",
       "        vertical-align: middle;\n",
       "    }\n",
       "\n",
       "    .dataframe tbody tr th {\n",
       "        vertical-align: top;\n",
       "    }\n",
       "\n",
       "    .dataframe thead th {\n",
       "        text-align: right;\n",
       "    }\n",
       "</style>\n",
       "<table border=\"1\" class=\"dataframe\">\n",
       "  <thead>\n",
       "    <tr style=\"text-align: right;\">\n",
       "      <th></th>\n",
       "      <th>actors</th>\n",
       "      <th>country</th>\n",
       "      <th>director</th>\n",
       "      <th>req_imdbid</th>\n",
       "      <th>year</th>\n",
       "      <th>imdbId</th>\n",
       "    </tr>\n",
       "  </thead>\n",
       "  <tbody>\n",
       "    <tr>\n",
       "      <th>0</th>\n",
       "      <td>Tom Hanks, Tim Allen, Don Rickles, Jim Varney</td>\n",
       "      <td>USA</td>\n",
       "      <td>John Lasseter</td>\n",
       "      <td>tt0114709</td>\n",
       "      <td>1995</td>\n",
       "      <td>114709</td>\n",
       "    </tr>\n",
       "    <tr>\n",
       "      <th>1</th>\n",
       "      <td>Robin Williams, Jonathan Hyde, Kirsten Dunst, ...</td>\n",
       "      <td>USA</td>\n",
       "      <td>Joe Johnston</td>\n",
       "      <td>tt0113497</td>\n",
       "      <td>1995</td>\n",
       "      <td>113497</td>\n",
       "    </tr>\n",
       "    <tr>\n",
       "      <th>2</th>\n",
       "      <td>Walter Matthau, Jack Lemmon, Sophia Loren, Ann...</td>\n",
       "      <td>USA</td>\n",
       "      <td>Howard Deutch</td>\n",
       "      <td>tt0113228</td>\n",
       "      <td>1995</td>\n",
       "      <td>113228</td>\n",
       "    </tr>\n",
       "    <tr>\n",
       "      <th>3</th>\n",
       "      <td>Whitney Houston, Angela Bassett, Loretta Devin...</td>\n",
       "      <td>USA</td>\n",
       "      <td>Forest Whitaker</td>\n",
       "      <td>tt0114885</td>\n",
       "      <td>1995</td>\n",
       "      <td>114885</td>\n",
       "    </tr>\n",
       "    <tr>\n",
       "      <th>4</th>\n",
       "      <td>Steve Martin, Diane Keaton, Martin Short, Kimb...</td>\n",
       "      <td>USA</td>\n",
       "      <td>Charles Shyer</td>\n",
       "      <td>tt0113041</td>\n",
       "      <td>1995</td>\n",
       "      <td>113041</td>\n",
       "    </tr>\n",
       "  </tbody>\n",
       "</table>\n",
       "</div>"
      ],
      "text/plain": [
       "                                              actors country         director  \\\n",
       "0      Tom Hanks, Tim Allen, Don Rickles, Jim Varney     USA    John Lasseter   \n",
       "1  Robin Williams, Jonathan Hyde, Kirsten Dunst, ...     USA     Joe Johnston   \n",
       "2  Walter Matthau, Jack Lemmon, Sophia Loren, Ann...     USA    Howard Deutch   \n",
       "3  Whitney Houston, Angela Bassett, Loretta Devin...     USA  Forest Whitaker   \n",
       "4  Steve Martin, Diane Keaton, Martin Short, Kimb...     USA    Charles Shyer   \n",
       "\n",
       "  req_imdbid  year  imdbId  \n",
       "0  tt0114709  1995  114709  \n",
       "1  tt0113497  1995  113497  \n",
       "2  tt0113228  1995  113228  \n",
       "3  tt0114885  1995  114885  \n",
       "4  tt0113041  1995  113041  "
      ]
     },
     "execution_count": 25,
     "metadata": {},
     "output_type": "execute_result"
    }
   ],
   "source": [
    "imdb.head()"
   ]
  },
  {
   "cell_type": "code",
   "execution_count": 26,
   "metadata": {},
   "outputs": [
    {
     "data": {
      "text/plain": [
       "actors        object\n",
       "country       object\n",
       "director      object\n",
       "req_imdbid    object\n",
       "year          object\n",
       "imdbId         int64\n",
       "dtype: object"
      ]
     },
     "execution_count": 26,
     "metadata": {},
     "output_type": "execute_result"
    }
   ],
   "source": [
    "imdb.dtypes"
   ]
  },
  {
   "cell_type": "code",
   "execution_count": 27,
   "metadata": {},
   "outputs": [],
   "source": [
    "def rep_col(text):\n",
    "    #print(text)\n",
    "    rep = []\n",
    "    for item in text.split(','):\n",
    "        rep.append(model.wv[item])\n",
    "    return np.concatenate(rep,axis=0)"
   ]
  },
  {
   "cell_type": "code",
   "execution_count": 28,
   "metadata": {},
   "outputs": [],
   "source": [
    "def items_rep(item_lst):\n",
    "    a=0\n",
    "    for item in item_lst:\n",
    "        a+=model.wv[item]\n",
    "    a/=len(item_lst)\n",
    "    return a\n",
    "\n"
   ]
  },
  {
   "cell_type": "code",
   "execution_count": 29,
   "metadata": {},
   "outputs": [
    {
     "data": {
      "text/html": [
       "<div>\n",
       "<style scoped>\n",
       "    .dataframe tbody tr th:only-of-type {\n",
       "        vertical-align: middle;\n",
       "    }\n",
       "\n",
       "    .dataframe tbody tr th {\n",
       "        vertical-align: top;\n",
       "    }\n",
       "\n",
       "    .dataframe thead th {\n",
       "        text-align: right;\n",
       "    }\n",
       "</style>\n",
       "<table border=\"1\" class=\"dataframe\">\n",
       "  <thead>\n",
       "    <tr style=\"text-align: right;\">\n",
       "      <th></th>\n",
       "      <th>movieId</th>\n",
       "      <th>imdbId</th>\n",
       "      <th>tmdbId</th>\n",
       "      <th>actors</th>\n",
       "      <th>country</th>\n",
       "      <th>director</th>\n",
       "      <th>req_imdbid</th>\n",
       "      <th>year</th>\n",
       "      <th>title</th>\n",
       "      <th>genres</th>\n",
       "      <th>actors_rep</th>\n",
       "      <th>director_rep</th>\n",
       "      <th>country_rep</th>\n",
       "      <th>genres_rep</th>\n",
       "    </tr>\n",
       "  </thead>\n",
       "  <tbody>\n",
       "    <tr>\n",
       "      <th>0</th>\n",
       "      <td>1</td>\n",
       "      <td>114709</td>\n",
       "      <td>862</td>\n",
       "      <td>TomHanks,TimAllen,DonRickles,JimVarney</td>\n",
       "      <td>USA</td>\n",
       "      <td>JohnLasseter</td>\n",
       "      <td>tt0114709</td>\n",
       "      <td>1995</td>\n",
       "      <td>Toy Story (1995)</td>\n",
       "      <td>Adventure,Animation,Children,Comedy,Fantasy</td>\n",
       "      <td>[-0.0960319, -0.022097396, 0.09610726, 0.09217...</td>\n",
       "      <td>[-0.06902692, -0.020320531, 0.03269949, 0.0369...</td>\n",
       "      <td>[-0.5291597, -0.6734069, -0.2821772, -0.167874...</td>\n",
       "      <td>[-0.28821427, -0.5480379, -0.13412249, -0.1192...</td>\n",
       "    </tr>\n",
       "    <tr>\n",
       "      <th>1</th>\n",
       "      <td>2</td>\n",
       "      <td>113497</td>\n",
       "      <td>8844</td>\n",
       "      <td>RobinWilliams,JonathanHyde,KirstenDunst,Bradle...</td>\n",
       "      <td>USA</td>\n",
       "      <td>JoeJohnston</td>\n",
       "      <td>tt0113497</td>\n",
       "      <td>1995</td>\n",
       "      <td>Jumanji (1995)</td>\n",
       "      <td>Adventure,Children,Fantasy</td>\n",
       "      <td>[-0.07841623, -0.015286557, 0.07697222, 0.0712...</td>\n",
       "      <td>[-0.05384186, -0.038962144, 0.046443004, 0.046...</td>\n",
       "      <td>[-0.5291597, -0.6734069, -0.2821772, -0.167874...</td>\n",
       "      <td>[-0.32954922, -0.49126133, -0.14008866, -0.172...</td>\n",
       "    </tr>\n",
       "    <tr>\n",
       "      <th>2</th>\n",
       "      <td>3</td>\n",
       "      <td>113228</td>\n",
       "      <td>15602</td>\n",
       "      <td>WalterMatthau,JackLemmon,SophiaLoren,Ann-Margret</td>\n",
       "      <td>USA</td>\n",
       "      <td>HowardDeutch</td>\n",
       "      <td>tt0113228</td>\n",
       "      <td>1995</td>\n",
       "      <td>Grumpier Old Men (1995)</td>\n",
       "      <td>Comedy,Romance</td>\n",
       "      <td>[-0.10424325, -0.025989171, 0.101216875, 0.096...</td>\n",
       "      <td>[-0.05840567, -0.016608005, 0.047147427, 0.036...</td>\n",
       "      <td>[-0.5291597, -0.6734069, -0.2821772, -0.167874...</td>\n",
       "      <td>[-0.10806366, -0.5624227, -0.07015285, 0.05349...</td>\n",
       "    </tr>\n",
       "    <tr>\n",
       "      <th>3</th>\n",
       "      <td>4</td>\n",
       "      <td>114885</td>\n",
       "      <td>31357</td>\n",
       "      <td>WhitneyHouston,AngelaBassett,LorettaDevine,Lel...</td>\n",
       "      <td>USA</td>\n",
       "      <td>ForestWhitaker</td>\n",
       "      <td>tt0114885</td>\n",
       "      <td>1995</td>\n",
       "      <td>Waiting to Exhale (1995)</td>\n",
       "      <td>Comedy,Drama,Romance</td>\n",
       "      <td>[-0.06734513, -0.010235792, 0.06708083, 0.0585...</td>\n",
       "      <td>[-0.098534904, -0.044069916, 0.103668995, 0.10...</td>\n",
       "      <td>[-0.5291597, -0.6734069, -0.2821772, -0.167874...</td>\n",
       "      <td>[-0.03677793, -0.6061794, -0.025810288, 0.0835...</td>\n",
       "    </tr>\n",
       "    <tr>\n",
       "      <th>4</th>\n",
       "      <td>5</td>\n",
       "      <td>113041</td>\n",
       "      <td>11862</td>\n",
       "      <td>SteveMartin,DianeKeaton,MartinShort,KimberlyWi...</td>\n",
       "      <td>USA</td>\n",
       "      <td>CharlesShyer</td>\n",
       "      <td>tt0113041</td>\n",
       "      <td>1995</td>\n",
       "      <td>Father of the Bride Part II (1995)</td>\n",
       "      <td>Comedy</td>\n",
       "      <td>[-0.10269821, -0.024273984, 0.10728241, 0.0948...</td>\n",
       "      <td>[-0.03272634, -0.02133254, 0.03425686, 0.03177...</td>\n",
       "      <td>[-0.5291597, -0.6734069, -0.2821772, -0.167874...</td>\n",
       "      <td>[-0.08054416, -0.7197027, -0.07439148, 0.08736...</td>\n",
       "    </tr>\n",
       "  </tbody>\n",
       "</table>\n",
       "</div>"
      ],
      "text/plain": [
       "   movieId  imdbId tmdbId                                             actors  \\\n",
       "0        1  114709    862             TomHanks,TimAllen,DonRickles,JimVarney   \n",
       "1        2  113497   8844  RobinWilliams,JonathanHyde,KirstenDunst,Bradle...   \n",
       "2        3  113228  15602   WalterMatthau,JackLemmon,SophiaLoren,Ann-Margret   \n",
       "3        4  114885  31357  WhitneyHouston,AngelaBassett,LorettaDevine,Lel...   \n",
       "4        5  113041  11862  SteveMartin,DianeKeaton,MartinShort,KimberlyWi...   \n",
       "\n",
       "  country        director req_imdbid  year  \\\n",
       "0     USA    JohnLasseter  tt0114709  1995   \n",
       "1     USA     JoeJohnston  tt0113497  1995   \n",
       "2     USA    HowardDeutch  tt0113228  1995   \n",
       "3     USA  ForestWhitaker  tt0114885  1995   \n",
       "4     USA    CharlesShyer  tt0113041  1995   \n",
       "\n",
       "                                title  \\\n",
       "0                    Toy Story (1995)   \n",
       "1                      Jumanji (1995)   \n",
       "2             Grumpier Old Men (1995)   \n",
       "3            Waiting to Exhale (1995)   \n",
       "4  Father of the Bride Part II (1995)   \n",
       "\n",
       "                                        genres  \\\n",
       "0  Adventure,Animation,Children,Comedy,Fantasy   \n",
       "1                   Adventure,Children,Fantasy   \n",
       "2                               Comedy,Romance   \n",
       "3                         Comedy,Drama,Romance   \n",
       "4                                       Comedy   \n",
       "\n",
       "                                          actors_rep  \\\n",
       "0  [-0.0960319, -0.022097396, 0.09610726, 0.09217...   \n",
       "1  [-0.07841623, -0.015286557, 0.07697222, 0.0712...   \n",
       "2  [-0.10424325, -0.025989171, 0.101216875, 0.096...   \n",
       "3  [-0.06734513, -0.010235792, 0.06708083, 0.0585...   \n",
       "4  [-0.10269821, -0.024273984, 0.10728241, 0.0948...   \n",
       "\n",
       "                                        director_rep  \\\n",
       "0  [-0.06902692, -0.020320531, 0.03269949, 0.0369...   \n",
       "1  [-0.05384186, -0.038962144, 0.046443004, 0.046...   \n",
       "2  [-0.05840567, -0.016608005, 0.047147427, 0.036...   \n",
       "3  [-0.098534904, -0.044069916, 0.103668995, 0.10...   \n",
       "4  [-0.03272634, -0.02133254, 0.03425686, 0.03177...   \n",
       "\n",
       "                                         country_rep  \\\n",
       "0  [-0.5291597, -0.6734069, -0.2821772, -0.167874...   \n",
       "1  [-0.5291597, -0.6734069, -0.2821772, -0.167874...   \n",
       "2  [-0.5291597, -0.6734069, -0.2821772, -0.167874...   \n",
       "3  [-0.5291597, -0.6734069, -0.2821772, -0.167874...   \n",
       "4  [-0.5291597, -0.6734069, -0.2821772, -0.167874...   \n",
       "\n",
       "                                          genres_rep  \n",
       "0  [-0.28821427, -0.5480379, -0.13412249, -0.1192...  \n",
       "1  [-0.32954922, -0.49126133, -0.14008866, -0.172...  \n",
       "2  [-0.10806366, -0.5624227, -0.07015285, 0.05349...  \n",
       "3  [-0.03677793, -0.6061794, -0.025810288, 0.0835...  \n",
       "4  [-0.08054416, -0.7197027, -0.07439148, 0.08736...  "
      ]
     },
     "execution_count": 29,
     "metadata": {},
     "output_type": "execute_result"
    }
   ],
   "source": [
    "mov_with_feat['actors_rep'] = mov_with_feat['actors'].apply(lambda x:x.split(',')).apply(items_rep)\n",
    "mov_with_feat['director_rep'] = mov_with_feat['director'].apply(lambda x:x.split(',')).apply(items_rep)\n",
    "mov_with_feat['country_rep'] = mov_with_feat['country'].apply(lambda x:x.split(',')).apply(items_rep)\n",
    "mov_with_feat['genres_rep'] = mov_with_feat['genres'].apply(lambda x:x.split(',')).apply(items_rep)\n",
    "mov_with_feat.head()"
   ]
  },
  {
   "cell_type": "code",
   "execution_count": 30,
   "metadata": {},
   "outputs": [],
   "source": [
    "# mov_with_feat['actors_rep'][0]"
   ]
  },
  {
   "cell_type": "code",
   "execution_count": 31,
   "metadata": {},
   "outputs": [],
   "source": [
    "# mov_with_feat['director_rep'][0]"
   ]
  },
  {
   "cell_type": "code",
   "execution_count": 32,
   "metadata": {},
   "outputs": [],
   "source": [
    "# mov_with_feat['country_rep'][0]"
   ]
  },
  {
   "cell_type": "code",
   "execution_count": 33,
   "metadata": {},
   "outputs": [],
   "source": [
    "# np.concatenate([mov_with_feat['actors_rep'][0],mov_with_feat['director_rep'][0],mov_with_feat['country_rep'][0]],axis=0)"
   ]
  },
  {
   "cell_type": "code",
   "execution_count": 34,
   "metadata": {},
   "outputs": [],
   "source": [
    "mov_with_feat['all_feat']=mov_with_feat.apply(lambda x: np.concatenate([x['actors_rep'],x['director_rep'],x['country_rep'],x['genres_rep']],axis=0),axis=1)"
   ]
  },
  {
   "cell_type": "code",
   "execution_count": 35,
   "metadata": {},
   "outputs": [
    {
     "data": {
      "text/html": [
       "<div>\n",
       "<style scoped>\n",
       "    .dataframe tbody tr th:only-of-type {\n",
       "        vertical-align: middle;\n",
       "    }\n",
       "\n",
       "    .dataframe tbody tr th {\n",
       "        vertical-align: top;\n",
       "    }\n",
       "\n",
       "    .dataframe thead th {\n",
       "        text-align: right;\n",
       "    }\n",
       "</style>\n",
       "<table border=\"1\" class=\"dataframe\">\n",
       "  <thead>\n",
       "    <tr style=\"text-align: right;\">\n",
       "      <th></th>\n",
       "      <th>movieId</th>\n",
       "      <th>all_feat</th>\n",
       "    </tr>\n",
       "  </thead>\n",
       "  <tbody>\n",
       "    <tr>\n",
       "      <th>0</th>\n",
       "      <td>1</td>\n",
       "      <td>[-0.0960319, -0.022097396, 0.09610726, 0.09217...</td>\n",
       "    </tr>\n",
       "    <tr>\n",
       "      <th>1</th>\n",
       "      <td>2</td>\n",
       "      <td>[-0.07841623, -0.015286557, 0.07697222, 0.0712...</td>\n",
       "    </tr>\n",
       "    <tr>\n",
       "      <th>2</th>\n",
       "      <td>3</td>\n",
       "      <td>[-0.10424325, -0.025989171, 0.101216875, 0.096...</td>\n",
       "    </tr>\n",
       "    <tr>\n",
       "      <th>3</th>\n",
       "      <td>4</td>\n",
       "      <td>[-0.06734513, -0.010235792, 0.06708083, 0.0585...</td>\n",
       "    </tr>\n",
       "    <tr>\n",
       "      <th>4</th>\n",
       "      <td>5</td>\n",
       "      <td>[-0.10269821, -0.024273984, 0.10728241, 0.0948...</td>\n",
       "    </tr>\n",
       "  </tbody>\n",
       "</table>\n",
       "</div>"
      ],
      "text/plain": [
       "   movieId                                           all_feat\n",
       "0        1  [-0.0960319, -0.022097396, 0.09610726, 0.09217...\n",
       "1        2  [-0.07841623, -0.015286557, 0.07697222, 0.0712...\n",
       "2        3  [-0.10424325, -0.025989171, 0.101216875, 0.096...\n",
       "3        4  [-0.06734513, -0.010235792, 0.06708083, 0.0585...\n",
       "4        5  [-0.10269821, -0.024273984, 0.10728241, 0.0948..."
      ]
     },
     "execution_count": 35,
     "metadata": {},
     "output_type": "execute_result"
    }
   ],
   "source": [
    "mov_with_feat[['movieId','all_feat']].head()"
   ]
  },
  {
   "cell_type": "code",
   "execution_count": 36,
   "metadata": {},
   "outputs": [
    {
     "data": {
      "text/plain": [
       "(9742, 200)"
      ]
     },
     "execution_count": 36,
     "metadata": {},
     "output_type": "execute_result"
    }
   ],
   "source": [
    "a = mov_with_feat['all_feat'][0].reshape(1,-1)\n",
    "for mov_feat in mov_with_feat['all_feat'][1:]:\n",
    "    b = mov_feat.reshape(1,-1)\n",
    "    a = np.concatenate([a,b])\n",
    "\n",
    "a.shape"
   ]
  },
  {
   "cell_type": "code",
   "execution_count": 37,
   "metadata": {},
   "outputs": [
    {
     "data": {
      "text/plain": [
       "(9742, 200)"
      ]
     },
     "execution_count": 37,
     "metadata": {},
     "output_type": "execute_result"
    }
   ],
   "source": [
    "feature_matrix = a\n",
    "feature_matrix.shape"
   ]
  },
  {
   "cell_type": "code",
   "execution_count": 38,
   "metadata": {},
   "outputs": [],
   "source": [
    "feat_names = ['f'+str(i+1) for i in range(feature_matrix.shape[1])]"
   ]
  },
  {
   "cell_type": "code",
   "execution_count": 39,
   "metadata": {},
   "outputs": [],
   "source": [
    "feature_matrix = pd.DataFrame(feature_matrix,index=mov_with_feat['movieId'],columns=feat_names)"
   ]
  },
  {
   "cell_type": "code",
   "execution_count": 40,
   "metadata": {},
   "outputs": [
    {
     "data": {
      "text/html": [
       "<div>\n",
       "<style scoped>\n",
       "    .dataframe tbody tr th:only-of-type {\n",
       "        vertical-align: middle;\n",
       "    }\n",
       "\n",
       "    .dataframe tbody tr th {\n",
       "        vertical-align: top;\n",
       "    }\n",
       "\n",
       "    .dataframe thead th {\n",
       "        text-align: right;\n",
       "    }\n",
       "</style>\n",
       "<table border=\"1\" class=\"dataframe\">\n",
       "  <thead>\n",
       "    <tr style=\"text-align: right;\">\n",
       "      <th></th>\n",
       "      <th>f1</th>\n",
       "      <th>f2</th>\n",
       "      <th>f3</th>\n",
       "      <th>f4</th>\n",
       "      <th>f5</th>\n",
       "      <th>f6</th>\n",
       "      <th>f7</th>\n",
       "      <th>f8</th>\n",
       "      <th>f9</th>\n",
       "      <th>f10</th>\n",
       "      <th>...</th>\n",
       "      <th>f191</th>\n",
       "      <th>f192</th>\n",
       "      <th>f193</th>\n",
       "      <th>f194</th>\n",
       "      <th>f195</th>\n",
       "      <th>f196</th>\n",
       "      <th>f197</th>\n",
       "      <th>f198</th>\n",
       "      <th>f199</th>\n",
       "      <th>f200</th>\n",
       "    </tr>\n",
       "    <tr>\n",
       "      <th>movieId</th>\n",
       "      <th></th>\n",
       "      <th></th>\n",
       "      <th></th>\n",
       "      <th></th>\n",
       "      <th></th>\n",
       "      <th></th>\n",
       "      <th></th>\n",
       "      <th></th>\n",
       "      <th></th>\n",
       "      <th></th>\n",
       "      <th></th>\n",
       "      <th></th>\n",
       "      <th></th>\n",
       "      <th></th>\n",
       "      <th></th>\n",
       "      <th></th>\n",
       "      <th></th>\n",
       "      <th></th>\n",
       "      <th></th>\n",
       "      <th></th>\n",
       "      <th></th>\n",
       "    </tr>\n",
       "  </thead>\n",
       "  <tbody>\n",
       "    <tr>\n",
       "      <th>1</th>\n",
       "      <td>-0.096032</td>\n",
       "      <td>-0.022097</td>\n",
       "      <td>0.096107</td>\n",
       "      <td>0.092173</td>\n",
       "      <td>-0.069829</td>\n",
       "      <td>-0.172570</td>\n",
       "      <td>-0.100821</td>\n",
       "      <td>-0.033339</td>\n",
       "      <td>0.158643</td>\n",
       "      <td>-0.111983</td>\n",
       "      <td>...</td>\n",
       "      <td>0.543185</td>\n",
       "      <td>-0.383237</td>\n",
       "      <td>-0.393627</td>\n",
       "      <td>0.181510</td>\n",
       "      <td>0.306281</td>\n",
       "      <td>0.230766</td>\n",
       "      <td>-0.272134</td>\n",
       "      <td>0.043170</td>\n",
       "      <td>0.028098</td>\n",
       "      <td>0.430541</td>\n",
       "    </tr>\n",
       "    <tr>\n",
       "      <th>2</th>\n",
       "      <td>-0.078416</td>\n",
       "      <td>-0.015287</td>\n",
       "      <td>0.076972</td>\n",
       "      <td>0.071211</td>\n",
       "      <td>-0.056282</td>\n",
       "      <td>-0.134641</td>\n",
       "      <td>-0.088162</td>\n",
       "      <td>-0.029439</td>\n",
       "      <td>0.133179</td>\n",
       "      <td>-0.091126</td>\n",
       "      <td>...</td>\n",
       "      <td>0.493018</td>\n",
       "      <td>-0.362867</td>\n",
       "      <td>-0.378356</td>\n",
       "      <td>0.250063</td>\n",
       "      <td>0.316867</td>\n",
       "      <td>0.226561</td>\n",
       "      <td>-0.215054</td>\n",
       "      <td>0.086625</td>\n",
       "      <td>0.026813</td>\n",
       "      <td>0.373165</td>\n",
       "    </tr>\n",
       "    <tr>\n",
       "      <th>3</th>\n",
       "      <td>-0.104243</td>\n",
       "      <td>-0.025989</td>\n",
       "      <td>0.101217</td>\n",
       "      <td>0.096202</td>\n",
       "      <td>-0.072755</td>\n",
       "      <td>-0.177771</td>\n",
       "      <td>-0.111414</td>\n",
       "      <td>-0.035495</td>\n",
       "      <td>0.171938</td>\n",
       "      <td>-0.117676</td>\n",
       "      <td>...</td>\n",
       "      <td>0.472847</td>\n",
       "      <td>-0.404220</td>\n",
       "      <td>-0.513982</td>\n",
       "      <td>-0.030722</td>\n",
       "      <td>0.288811</td>\n",
       "      <td>0.169149</td>\n",
       "      <td>-0.332474</td>\n",
       "      <td>0.009879</td>\n",
       "      <td>0.123505</td>\n",
       "      <td>0.458085</td>\n",
       "    </tr>\n",
       "    <tr>\n",
       "      <th>4</th>\n",
       "      <td>-0.067345</td>\n",
       "      <td>-0.010236</td>\n",
       "      <td>0.067081</td>\n",
       "      <td>0.058548</td>\n",
       "      <td>-0.040621</td>\n",
       "      <td>-0.111843</td>\n",
       "      <td>-0.076015</td>\n",
       "      <td>-0.021089</td>\n",
       "      <td>0.110564</td>\n",
       "      <td>-0.076084</td>\n",
       "      <td>...</td>\n",
       "      <td>0.515236</td>\n",
       "      <td>-0.442002</td>\n",
       "      <td>-0.553784</td>\n",
       "      <td>-0.090330</td>\n",
       "      <td>0.314931</td>\n",
       "      <td>0.187779</td>\n",
       "      <td>-0.368472</td>\n",
       "      <td>-0.016916</td>\n",
       "      <td>0.106105</td>\n",
       "      <td>0.485244</td>\n",
       "    </tr>\n",
       "    <tr>\n",
       "      <th>5</th>\n",
       "      <td>-0.102698</td>\n",
       "      <td>-0.024274</td>\n",
       "      <td>0.107282</td>\n",
       "      <td>0.094831</td>\n",
       "      <td>-0.070647</td>\n",
       "      <td>-0.179384</td>\n",
       "      <td>-0.116284</td>\n",
       "      <td>-0.036751</td>\n",
       "      <td>0.174914</td>\n",
       "      <td>-0.126336</td>\n",
       "      <td>...</td>\n",
       "      <td>0.616811</td>\n",
       "      <td>-0.471956</td>\n",
       "      <td>-0.567767</td>\n",
       "      <td>-0.050624</td>\n",
       "      <td>0.324780</td>\n",
       "      <td>0.263123</td>\n",
       "      <td>-0.469047</td>\n",
       "      <td>0.006225</td>\n",
       "      <td>0.032699</td>\n",
       "      <td>0.575492</td>\n",
       "    </tr>\n",
       "  </tbody>\n",
       "</table>\n",
       "<p>5 rows × 200 columns</p>\n",
       "</div>"
      ],
      "text/plain": [
       "               f1        f2        f3        f4        f5        f6        f7  \\\n",
       "movieId                                                                         \n",
       "1       -0.096032 -0.022097  0.096107  0.092173 -0.069829 -0.172570 -0.100821   \n",
       "2       -0.078416 -0.015287  0.076972  0.071211 -0.056282 -0.134641 -0.088162   \n",
       "3       -0.104243 -0.025989  0.101217  0.096202 -0.072755 -0.177771 -0.111414   \n",
       "4       -0.067345 -0.010236  0.067081  0.058548 -0.040621 -0.111843 -0.076015   \n",
       "5       -0.102698 -0.024274  0.107282  0.094831 -0.070647 -0.179384 -0.116284   \n",
       "\n",
       "               f8        f9       f10  ...      f191      f192      f193  \\\n",
       "movieId                                ...                                 \n",
       "1       -0.033339  0.158643 -0.111983  ...  0.543185 -0.383237 -0.393627   \n",
       "2       -0.029439  0.133179 -0.091126  ...  0.493018 -0.362867 -0.378356   \n",
       "3       -0.035495  0.171938 -0.117676  ...  0.472847 -0.404220 -0.513982   \n",
       "4       -0.021089  0.110564 -0.076084  ...  0.515236 -0.442002 -0.553784   \n",
       "5       -0.036751  0.174914 -0.126336  ...  0.616811 -0.471956 -0.567767   \n",
       "\n",
       "             f194      f195      f196      f197      f198      f199      f200  \n",
       "movieId                                                                        \n",
       "1        0.181510  0.306281  0.230766 -0.272134  0.043170  0.028098  0.430541  \n",
       "2        0.250063  0.316867  0.226561 -0.215054  0.086625  0.026813  0.373165  \n",
       "3       -0.030722  0.288811  0.169149 -0.332474  0.009879  0.123505  0.458085  \n",
       "4       -0.090330  0.314931  0.187779 -0.368472 -0.016916  0.106105  0.485244  \n",
       "5       -0.050624  0.324780  0.263123 -0.469047  0.006225  0.032699  0.575492  \n",
       "\n",
       "[5 rows x 200 columns]"
      ]
     },
     "execution_count": 40,
     "metadata": {},
     "output_type": "execute_result"
    }
   ],
   "source": [
    "feature_matrix.head()"
   ]
  },
  {
   "cell_type": "code",
   "execution_count": 41,
   "metadata": {},
   "outputs": [
    {
     "data": {
      "text/plain": [
       "(9742, 200)"
      ]
     },
     "execution_count": 41,
     "metadata": {},
     "output_type": "execute_result"
    }
   ],
   "source": [
    "feature_matrix.shape"
   ]
  },
  {
   "cell_type": "markdown",
   "metadata": {},
   "source": [
    "## 4. Perfiles de Usuarios\n",
    "\n",
    "Los mismos se obtienen de multiplicar la matriz user-item (n_users\\*n_items) con la matriz de movie_features (n_items\\*n_features)"
   ]
  },
  {
   "cell_type": "code",
   "execution_count": null,
   "metadata": {},
   "outputs": [],
   "source": []
  },
  {
   "cell_type": "code",
   "execution_count": 42,
   "metadata": {},
   "outputs": [
    {
     "data": {
      "text/html": [
       "<div>\n",
       "<style scoped>\n",
       "    .dataframe tbody tr th:only-of-type {\n",
       "        vertical-align: middle;\n",
       "    }\n",
       "\n",
       "    .dataframe tbody tr th {\n",
       "        vertical-align: top;\n",
       "    }\n",
       "\n",
       "    .dataframe thead th {\n",
       "        text-align: right;\n",
       "    }\n",
       "</style>\n",
       "<table border=\"1\" class=\"dataframe\">\n",
       "  <thead>\n",
       "    <tr style=\"text-align: right;\">\n",
       "      <th>movieId</th>\n",
       "      <th>1</th>\n",
       "      <th>2</th>\n",
       "      <th>3</th>\n",
       "      <th>4</th>\n",
       "      <th>5</th>\n",
       "      <th>6</th>\n",
       "      <th>7</th>\n",
       "      <th>8</th>\n",
       "      <th>9</th>\n",
       "      <th>10</th>\n",
       "      <th>...</th>\n",
       "      <th>193565</th>\n",
       "      <th>193567</th>\n",
       "      <th>193571</th>\n",
       "      <th>193573</th>\n",
       "      <th>193579</th>\n",
       "      <th>193581</th>\n",
       "      <th>193583</th>\n",
       "      <th>193585</th>\n",
       "      <th>193587</th>\n",
       "      <th>193609</th>\n",
       "    </tr>\n",
       "    <tr>\n",
       "      <th>userId</th>\n",
       "      <th></th>\n",
       "      <th></th>\n",
       "      <th></th>\n",
       "      <th></th>\n",
       "      <th></th>\n",
       "      <th></th>\n",
       "      <th></th>\n",
       "      <th></th>\n",
       "      <th></th>\n",
       "      <th></th>\n",
       "      <th></th>\n",
       "      <th></th>\n",
       "      <th></th>\n",
       "      <th></th>\n",
       "      <th></th>\n",
       "      <th></th>\n",
       "      <th></th>\n",
       "      <th></th>\n",
       "      <th></th>\n",
       "      <th></th>\n",
       "      <th></th>\n",
       "    </tr>\n",
       "  </thead>\n",
       "  <tbody>\n",
       "    <tr>\n",
       "      <th>1</th>\n",
       "      <td>4.0</td>\n",
       "      <td>0.0</td>\n",
       "      <td>4.0</td>\n",
       "      <td>0.0</td>\n",
       "      <td>0.0</td>\n",
       "      <td>4.0</td>\n",
       "      <td>0.0</td>\n",
       "      <td>0.0</td>\n",
       "      <td>0.0</td>\n",
       "      <td>0.0</td>\n",
       "      <td>...</td>\n",
       "      <td>0.0</td>\n",
       "      <td>0.0</td>\n",
       "      <td>0.0</td>\n",
       "      <td>0.0</td>\n",
       "      <td>0.0</td>\n",
       "      <td>0.0</td>\n",
       "      <td>0.0</td>\n",
       "      <td>0.0</td>\n",
       "      <td>0.0</td>\n",
       "      <td>0.0</td>\n",
       "    </tr>\n",
       "    <tr>\n",
       "      <th>2</th>\n",
       "      <td>0.0</td>\n",
       "      <td>0.0</td>\n",
       "      <td>0.0</td>\n",
       "      <td>0.0</td>\n",
       "      <td>0.0</td>\n",
       "      <td>0.0</td>\n",
       "      <td>0.0</td>\n",
       "      <td>0.0</td>\n",
       "      <td>0.0</td>\n",
       "      <td>0.0</td>\n",
       "      <td>...</td>\n",
       "      <td>0.0</td>\n",
       "      <td>0.0</td>\n",
       "      <td>0.0</td>\n",
       "      <td>0.0</td>\n",
       "      <td>0.0</td>\n",
       "      <td>0.0</td>\n",
       "      <td>0.0</td>\n",
       "      <td>0.0</td>\n",
       "      <td>0.0</td>\n",
       "      <td>0.0</td>\n",
       "    </tr>\n",
       "    <tr>\n",
       "      <th>3</th>\n",
       "      <td>0.0</td>\n",
       "      <td>0.0</td>\n",
       "      <td>0.0</td>\n",
       "      <td>0.0</td>\n",
       "      <td>0.0</td>\n",
       "      <td>0.0</td>\n",
       "      <td>0.0</td>\n",
       "      <td>0.0</td>\n",
       "      <td>0.0</td>\n",
       "      <td>0.0</td>\n",
       "      <td>...</td>\n",
       "      <td>0.0</td>\n",
       "      <td>0.0</td>\n",
       "      <td>0.0</td>\n",
       "      <td>0.0</td>\n",
       "      <td>0.0</td>\n",
       "      <td>0.0</td>\n",
       "      <td>0.0</td>\n",
       "      <td>0.0</td>\n",
       "      <td>0.0</td>\n",
       "      <td>0.0</td>\n",
       "    </tr>\n",
       "    <tr>\n",
       "      <th>4</th>\n",
       "      <td>0.0</td>\n",
       "      <td>0.0</td>\n",
       "      <td>0.0</td>\n",
       "      <td>0.0</td>\n",
       "      <td>0.0</td>\n",
       "      <td>0.0</td>\n",
       "      <td>0.0</td>\n",
       "      <td>0.0</td>\n",
       "      <td>0.0</td>\n",
       "      <td>0.0</td>\n",
       "      <td>...</td>\n",
       "      <td>0.0</td>\n",
       "      <td>0.0</td>\n",
       "      <td>0.0</td>\n",
       "      <td>0.0</td>\n",
       "      <td>0.0</td>\n",
       "      <td>0.0</td>\n",
       "      <td>0.0</td>\n",
       "      <td>0.0</td>\n",
       "      <td>0.0</td>\n",
       "      <td>0.0</td>\n",
       "    </tr>\n",
       "    <tr>\n",
       "      <th>5</th>\n",
       "      <td>4.0</td>\n",
       "      <td>0.0</td>\n",
       "      <td>0.0</td>\n",
       "      <td>0.0</td>\n",
       "      <td>0.0</td>\n",
       "      <td>0.0</td>\n",
       "      <td>0.0</td>\n",
       "      <td>0.0</td>\n",
       "      <td>0.0</td>\n",
       "      <td>0.0</td>\n",
       "      <td>...</td>\n",
       "      <td>0.0</td>\n",
       "      <td>0.0</td>\n",
       "      <td>0.0</td>\n",
       "      <td>0.0</td>\n",
       "      <td>0.0</td>\n",
       "      <td>0.0</td>\n",
       "      <td>0.0</td>\n",
       "      <td>0.0</td>\n",
       "      <td>0.0</td>\n",
       "      <td>0.0</td>\n",
       "    </tr>\n",
       "  </tbody>\n",
       "</table>\n",
       "<p>5 rows × 9724 columns</p>\n",
       "</div>"
      ],
      "text/plain": [
       "movieId  1       2       3       4       5       6       7       8       \\\n",
       "userId                                                                    \n",
       "1           4.0     0.0     4.0     0.0     0.0     4.0     0.0     0.0   \n",
       "2           0.0     0.0     0.0     0.0     0.0     0.0     0.0     0.0   \n",
       "3           0.0     0.0     0.0     0.0     0.0     0.0     0.0     0.0   \n",
       "4           0.0     0.0     0.0     0.0     0.0     0.0     0.0     0.0   \n",
       "5           4.0     0.0     0.0     0.0     0.0     0.0     0.0     0.0   \n",
       "\n",
       "movieId  9       10      ...  193565  193567  193571  193573  193579  193581  \\\n",
       "userId                   ...                                                   \n",
       "1           0.0     0.0  ...     0.0     0.0     0.0     0.0     0.0     0.0   \n",
       "2           0.0     0.0  ...     0.0     0.0     0.0     0.0     0.0     0.0   \n",
       "3           0.0     0.0  ...     0.0     0.0     0.0     0.0     0.0     0.0   \n",
       "4           0.0     0.0  ...     0.0     0.0     0.0     0.0     0.0     0.0   \n",
       "5           0.0     0.0  ...     0.0     0.0     0.0     0.0     0.0     0.0   \n",
       "\n",
       "movieId  193583  193585  193587  193609  \n",
       "userId                                   \n",
       "1           0.0     0.0     0.0     0.0  \n",
       "2           0.0     0.0     0.0     0.0  \n",
       "3           0.0     0.0     0.0     0.0  \n",
       "4           0.0     0.0     0.0     0.0  \n",
       "5           0.0     0.0     0.0     0.0  \n",
       "\n",
       "[5 rows x 9724 columns]"
      ]
     },
     "execution_count": 42,
     "metadata": {},
     "output_type": "execute_result"
    }
   ],
   "source": [
    "ratings_matrix = ratings.pivot_table(index=['userId'],columns=['movieId'],values='rating')\n",
    "ratings_matrix = ratings_matrix.fillna(0)\n",
    "ratings_matrix.head()"
   ]
  },
  {
   "cell_type": "code",
   "execution_count": 43,
   "metadata": {},
   "outputs": [
    {
     "data": {
      "text/plain": [
       "(610, 9724)"
      ]
     },
     "execution_count": 43,
     "metadata": {},
     "output_type": "execute_result"
    }
   ],
   "source": [
    "ratings_matrix.shape"
   ]
  },
  {
   "cell_type": "code",
   "execution_count": 44,
   "metadata": {},
   "outputs": [],
   "source": [
    "# np.dot(ratings_matrix.values,feature_matrix.values)"
   ]
  },
  {
   "cell_type": "code",
   "execution_count": 45,
   "metadata": {},
   "outputs": [
    {
     "data": {
      "text/plain": [
       "9724"
      ]
     },
     "execution_count": 45,
     "metadata": {},
     "output_type": "execute_result"
    }
   ],
   "source": [
    "len(ratings['movieId'].unique())"
   ]
  },
  {
   "cell_type": "code",
   "execution_count": 46,
   "metadata": {},
   "outputs": [
    {
     "data": {
      "text/plain": [
       "9742"
      ]
     },
     "execution_count": 46,
     "metadata": {},
     "output_type": "execute_result"
    }
   ],
   "source": [
    "len(movies['movieId'].unique())"
   ]
  },
  {
   "cell_type": "code",
   "execution_count": 47,
   "metadata": {
    "scrolled": true
   },
   "outputs": [
    {
     "data": {
      "text/plain": [
       "[1076,\n",
       " 2939,\n",
       " 3338,\n",
       " 3456,\n",
       " 4194,\n",
       " 5721,\n",
       " 6668,\n",
       " 6849,\n",
       " 7020,\n",
       " 7792,\n",
       " 8765,\n",
       " 25855,\n",
       " 26085,\n",
       " 30892,\n",
       " 32160,\n",
       " 32371,\n",
       " 34482,\n",
       " 85565]"
      ]
     },
     "execution_count": 47,
     "metadata": {},
     "output_type": "execute_result"
    }
   ],
   "source": [
    "not_rated = []\n",
    "for iid in movies['movieId'].unique():\n",
    "    if iid not in ratings['movieId'].unique():\n",
    "        not_rated.append(iid)\n",
    "not_rated"
   ]
  },
  {
   "cell_type": "code",
   "execution_count": 48,
   "metadata": {},
   "outputs": [
    {
     "data": {
      "text/plain": [
       "18"
      ]
     },
     "execution_count": 48,
     "metadata": {},
     "output_type": "execute_result"
    }
   ],
   "source": [
    "len(not_rated)"
   ]
  },
  {
   "cell_type": "markdown",
   "metadata": {},
   "source": [
    "Hay 18 películas que no tienen puntaje de ningun usuario. Por lo tanto, las sacaremos del dataset para este enfoque, ya que necesitamos los rating de los usuarios para las peliculas."
   ]
  },
  {
   "cell_type": "code",
   "execution_count": 49,
   "metadata": {},
   "outputs": [
    {
     "data": {
      "text/plain": [
       "(9724, 200)"
      ]
     },
     "execution_count": 49,
     "metadata": {},
     "output_type": "execute_result"
    }
   ],
   "source": [
    "feature_matrix = feature_matrix.drop(index=not_rated)\n",
    "feature_matrix.shape"
   ]
  },
  {
   "cell_type": "code",
   "execution_count": 50,
   "metadata": {},
   "outputs": [],
   "source": [
    "user_profiles = np.dot(ratings_matrix.values,feature_matrix.values)"
   ]
  },
  {
   "cell_type": "code",
   "execution_count": 51,
   "metadata": {},
   "outputs": [],
   "source": [
    "user_profiles = pd.DataFrame(user_profiles,index=ratings_matrix.index,columns=feature_matrix.columns)"
   ]
  },
  {
   "cell_type": "code",
   "execution_count": 52,
   "metadata": {},
   "outputs": [
    {
     "data": {
      "text/html": [
       "<div>\n",
       "<style scoped>\n",
       "    .dataframe tbody tr th:only-of-type {\n",
       "        vertical-align: middle;\n",
       "    }\n",
       "\n",
       "    .dataframe tbody tr th {\n",
       "        vertical-align: top;\n",
       "    }\n",
       "\n",
       "    .dataframe thead th {\n",
       "        text-align: right;\n",
       "    }\n",
       "</style>\n",
       "<table border=\"1\" class=\"dataframe\">\n",
       "  <thead>\n",
       "    <tr style=\"text-align: right;\">\n",
       "      <th></th>\n",
       "      <th>f1</th>\n",
       "      <th>f2</th>\n",
       "      <th>f3</th>\n",
       "      <th>f4</th>\n",
       "      <th>f5</th>\n",
       "      <th>f6</th>\n",
       "      <th>f7</th>\n",
       "      <th>f8</th>\n",
       "      <th>f9</th>\n",
       "      <th>f10</th>\n",
       "      <th>...</th>\n",
       "      <th>f191</th>\n",
       "      <th>f192</th>\n",
       "      <th>f193</th>\n",
       "      <th>f194</th>\n",
       "      <th>f195</th>\n",
       "      <th>f196</th>\n",
       "      <th>f197</th>\n",
       "      <th>f198</th>\n",
       "      <th>f199</th>\n",
       "      <th>f200</th>\n",
       "    </tr>\n",
       "    <tr>\n",
       "      <th>userId</th>\n",
       "      <th></th>\n",
       "      <th></th>\n",
       "      <th></th>\n",
       "      <th></th>\n",
       "      <th></th>\n",
       "      <th></th>\n",
       "      <th></th>\n",
       "      <th></th>\n",
       "      <th></th>\n",
       "      <th></th>\n",
       "      <th></th>\n",
       "      <th></th>\n",
       "      <th></th>\n",
       "      <th></th>\n",
       "      <th></th>\n",
       "      <th></th>\n",
       "      <th></th>\n",
       "      <th></th>\n",
       "      <th></th>\n",
       "      <th></th>\n",
       "      <th></th>\n",
       "    </tr>\n",
       "  </thead>\n",
       "  <tbody>\n",
       "    <tr>\n",
       "      <th>1</th>\n",
       "      <td>-73.162169</td>\n",
       "      <td>-20.051171</td>\n",
       "      <td>74.411525</td>\n",
       "      <td>68.919746</td>\n",
       "      <td>-50.707436</td>\n",
       "      <td>-134.949778</td>\n",
       "      <td>-82.390759</td>\n",
       "      <td>-24.944229</td>\n",
       "      <td>123.058566</td>\n",
       "      <td>-87.072532</td>\n",
       "      <td>...</td>\n",
       "      <td>519.710142</td>\n",
       "      <td>-410.932990</td>\n",
       "      <td>-462.908655</td>\n",
       "      <td>20.072104</td>\n",
       "      <td>323.494853</td>\n",
       "      <td>212.224987</td>\n",
       "      <td>-324.106973</td>\n",
       "      <td>20.312185</td>\n",
       "      <td>45.018878</td>\n",
       "      <td>440.894026</td>\n",
       "    </tr>\n",
       "    <tr>\n",
       "      <th>2</th>\n",
       "      <td>-10.207872</td>\n",
       "      <td>-2.806102</td>\n",
       "      <td>10.285926</td>\n",
       "      <td>9.551610</td>\n",
       "      <td>-6.922418</td>\n",
       "      <td>-18.727052</td>\n",
       "      <td>-11.435347</td>\n",
       "      <td>-3.319213</td>\n",
       "      <td>17.043928</td>\n",
       "      <td>-12.090920</td>\n",
       "      <td>...</td>\n",
       "      <td>57.721504</td>\n",
       "      <td>-48.228306</td>\n",
       "      <td>-55.862623</td>\n",
       "      <td>-9.911879</td>\n",
       "      <td>34.630671</td>\n",
       "      <td>23.088252</td>\n",
       "      <td>-40.326699</td>\n",
       "      <td>-0.762175</td>\n",
       "      <td>4.765308</td>\n",
       "      <td>51.225499</td>\n",
       "    </tr>\n",
       "    <tr>\n",
       "      <th>3</th>\n",
       "      <td>-5.928212</td>\n",
       "      <td>-2.468640</td>\n",
       "      <td>5.299010</td>\n",
       "      <td>4.847624</td>\n",
       "      <td>-3.694456</td>\n",
       "      <td>-11.562600</td>\n",
       "      <td>-6.055904</td>\n",
       "      <td>-1.701043</td>\n",
       "      <td>8.732749</td>\n",
       "      <td>-7.011068</td>\n",
       "      <td>...</td>\n",
       "      <td>49.321859</td>\n",
       "      <td>-38.063122</td>\n",
       "      <td>-41.133277</td>\n",
       "      <td>3.266037</td>\n",
       "      <td>31.873703</td>\n",
       "      <td>21.368657</td>\n",
       "      <td>-29.844344</td>\n",
       "      <td>2.075258</td>\n",
       "      <td>1.529976</td>\n",
       "      <td>39.514304</td>\n",
       "    </tr>\n",
       "    <tr>\n",
       "      <th>4</th>\n",
       "      <td>-50.210739</td>\n",
       "      <td>-13.589964</td>\n",
       "      <td>51.556469</td>\n",
       "      <td>47.527020</td>\n",
       "      <td>-35.359998</td>\n",
       "      <td>-91.993718</td>\n",
       "      <td>-56.623434</td>\n",
       "      <td>-16.862973</td>\n",
       "      <td>84.788851</td>\n",
       "      <td>-60.043778</td>\n",
       "      <td>...</td>\n",
       "      <td>395.712451</td>\n",
       "      <td>-328.106872</td>\n",
       "      <td>-387.114376</td>\n",
       "      <td>-50.937525</td>\n",
       "      <td>240.878721</td>\n",
       "      <td>153.366755</td>\n",
       "      <td>-274.037342</td>\n",
       "      <td>-3.172486</td>\n",
       "      <td>49.491830</td>\n",
       "      <td>355.623164</td>\n",
       "    </tr>\n",
       "    <tr>\n",
       "      <th>5</th>\n",
       "      <td>-11.503054</td>\n",
       "      <td>-3.159008</td>\n",
       "      <td>11.672788</td>\n",
       "      <td>10.927287</td>\n",
       "      <td>-8.171681</td>\n",
       "      <td>-21.506874</td>\n",
       "      <td>-12.918545</td>\n",
       "      <td>-3.978558</td>\n",
       "      <td>19.477767</td>\n",
       "      <td>-13.760499</td>\n",
       "      <td>...</td>\n",
       "      <td>80.251779</td>\n",
       "      <td>-66.522736</td>\n",
       "      <td>-77.260171</td>\n",
       "      <td>-5.675408</td>\n",
       "      <td>50.312281</td>\n",
       "      <td>31.302525</td>\n",
       "      <td>-52.299560</td>\n",
       "      <td>0.805199</td>\n",
       "      <td>9.884950</td>\n",
       "      <td>70.185026</td>\n",
       "    </tr>\n",
       "  </tbody>\n",
       "</table>\n",
       "<p>5 rows × 200 columns</p>\n",
       "</div>"
      ],
      "text/plain": [
       "               f1         f2         f3         f4         f5          f6  \\\n",
       "userId                                                                      \n",
       "1      -73.162169 -20.051171  74.411525  68.919746 -50.707436 -134.949778   \n",
       "2      -10.207872  -2.806102  10.285926   9.551610  -6.922418  -18.727052   \n",
       "3       -5.928212  -2.468640   5.299010   4.847624  -3.694456  -11.562600   \n",
       "4      -50.210739 -13.589964  51.556469  47.527020 -35.359998  -91.993718   \n",
       "5      -11.503054  -3.159008  11.672788  10.927287  -8.171681  -21.506874   \n",
       "\n",
       "               f7         f8          f9        f10  ...        f191  \\\n",
       "userId                                               ...               \n",
       "1      -82.390759 -24.944229  123.058566 -87.072532  ...  519.710142   \n",
       "2      -11.435347  -3.319213   17.043928 -12.090920  ...   57.721504   \n",
       "3       -6.055904  -1.701043    8.732749  -7.011068  ...   49.321859   \n",
       "4      -56.623434 -16.862973   84.788851 -60.043778  ...  395.712451   \n",
       "5      -12.918545  -3.978558   19.477767 -13.760499  ...   80.251779   \n",
       "\n",
       "              f192        f193       f194        f195        f196        f197  \\\n",
       "userId                                                                          \n",
       "1      -410.932990 -462.908655  20.072104  323.494853  212.224987 -324.106973   \n",
       "2       -48.228306  -55.862623  -9.911879   34.630671   23.088252  -40.326699   \n",
       "3       -38.063122  -41.133277   3.266037   31.873703   21.368657  -29.844344   \n",
       "4      -328.106872 -387.114376 -50.937525  240.878721  153.366755 -274.037342   \n",
       "5       -66.522736  -77.260171  -5.675408   50.312281   31.302525  -52.299560   \n",
       "\n",
       "             f198       f199        f200  \n",
       "userId                                    \n",
       "1       20.312185  45.018878  440.894026  \n",
       "2       -0.762175   4.765308   51.225499  \n",
       "3        2.075258   1.529976   39.514304  \n",
       "4       -3.172486  49.491830  355.623164  \n",
       "5        0.805199   9.884950   70.185026  \n",
       "\n",
       "[5 rows x 200 columns]"
      ]
     },
     "execution_count": 52,
     "metadata": {},
     "output_type": "execute_result"
    }
   ],
   "source": [
    "user_profiles.head()"
   ]
  },
  {
   "cell_type": "code",
   "execution_count": 53,
   "metadata": {},
   "outputs": [
    {
     "data": {
      "text/plain": [
       "(610, 200)"
      ]
     },
     "execution_count": 53,
     "metadata": {},
     "output_type": "execute_result"
    }
   ],
   "source": [
    "user_profiles.shape"
   ]
  },
  {
   "cell_type": "markdown",
   "metadata": {},
   "source": [
    "### Lista de películas vistas por usuario"
   ]
  },
  {
   "cell_type": "code",
   "execution_count": 54,
   "metadata": {
    "scrolled": true
   },
   "outputs": [
    {
     "data": {
      "text/html": [
       "<div>\n",
       "<style scoped>\n",
       "    .dataframe tbody tr th:only-of-type {\n",
       "        vertical-align: middle;\n",
       "    }\n",
       "\n",
       "    .dataframe tbody tr th {\n",
       "        vertical-align: top;\n",
       "    }\n",
       "\n",
       "    .dataframe thead th {\n",
       "        text-align: right;\n",
       "    }\n",
       "</style>\n",
       "<table border=\"1\" class=\"dataframe\">\n",
       "  <thead>\n",
       "    <tr style=\"text-align: right;\">\n",
       "      <th></th>\n",
       "      <th>movieId</th>\n",
       "    </tr>\n",
       "    <tr>\n",
       "      <th>userId</th>\n",
       "      <th></th>\n",
       "    </tr>\n",
       "  </thead>\n",
       "  <tbody>\n",
       "    <tr>\n",
       "      <th>1</th>\n",
       "      <td>[804, 1210, 2628, 2826, 2018, 3578, 3617, 3744...</td>\n",
       "    </tr>\n",
       "    <tr>\n",
       "      <th>2</th>\n",
       "      <td>[318, 79132, 131724, 115713, 99114, 112552, 35...</td>\n",
       "    </tr>\n",
       "    <tr>\n",
       "      <th>3</th>\n",
       "      <td>[1275, 2105, 1371, 914, 1263, 2080, 31, 720, 3...</td>\n",
       "    </tr>\n",
       "    <tr>\n",
       "      <th>4</th>\n",
       "      <td>[171, 902, 2351, 417, 1304, 2959, 2712, 162, 5...</td>\n",
       "    </tr>\n",
       "    <tr>\n",
       "      <th>5</th>\n",
       "      <td>[590, 592, 150, 380, 296, 457, 588, 153, 344, ...</td>\n",
       "    </tr>\n",
       "  </tbody>\n",
       "</table>\n",
       "</div>"
      ],
      "text/plain": [
       "                                                  movieId\n",
       "userId                                                   \n",
       "1       [804, 1210, 2628, 2826, 2018, 3578, 3617, 3744...\n",
       "2       [318, 79132, 131724, 115713, 99114, 112552, 35...\n",
       "3       [1275, 2105, 1371, 914, 1263, 2080, 31, 720, 3...\n",
       "4       [171, 902, 2351, 417, 1304, 2959, 2712, 162, 5...\n",
       "5       [590, 592, 150, 380, 296, 457, 588, 153, 344, ..."
      ]
     },
     "execution_count": 54,
     "metadata": {},
     "output_type": "execute_result"
    }
   ],
   "source": [
    "ratings_sorted = ratings.sort_values(by='timestamp')\n",
    "movies_by_user = pd.DataFrame(ratings_sorted.groupby('userId')['movieId'].apply(list))\n",
    "movies_by_user.head()"
   ]
  },
  {
   "cell_type": "markdown",
   "metadata": {},
   "source": [
    "## 5. Recomendaciones por usuario"
   ]
  },
  {
   "cell_type": "code",
   "execution_count": 55,
   "metadata": {},
   "outputs": [],
   "source": [
    "def get_user_recommendations(uid,num):\n",
    "    C = cosine_similarity(np.atleast_2d(user_profiles.loc[uid]), feature_matrix.values)\n",
    "    R = np.argsort(C)[:, ::-1]\n",
    "    recommendations = [i for i in R[0] if i not in movies_by_user.loc[uid].values]\n",
    "    return movies['title'][recommendations].head(num)"
   ]
  },
  {
   "cell_type": "code",
   "execution_count": 56,
   "metadata": {},
   "outputs": [
    {
     "data": {
      "text/plain": [
       "4717                                 Teen Wolf (1985)\n",
       "5407    Andalusian Dog, An (Chien andalou, Un) (1929)\n",
       "1827                              Faculty, The (1998)\n",
       "6077                       Memoirs of a Geisha (2005)\n",
       "7724                                  Puncture (2011)\n",
       "1215                                  In & Out (1997)\n",
       "6123    Tristram Shandy: A Cock and Bull Story (2005)\n",
       "4487                         Man's Best Friend (1993)\n",
       "777               20,000 Leagues Under the Sea (1954)\n",
       "5422                         Wuthering Heights (1939)\n",
       "Name: title, dtype: object"
      ]
     },
     "execution_count": 56,
     "metadata": {},
     "output_type": "execute_result"
    }
   ],
   "source": [
    "get_user_recommendations(uid=1,num=10)"
   ]
  },
  {
   "cell_type": "code",
   "execution_count": 57,
   "metadata": {},
   "outputs": [
    {
     "data": {
      "text/plain": [
       "7615                                 Roommate, The (2011)\n",
       "422                               Last Action Hero (1993)\n",
       "4650                                Big Empty, The (2003)\n",
       "4416                                     Babe, The (1992)\n",
       "8457    Internet's Own Boy: The Story of Aaron Swartz,...\n",
       "8677                       The Diary of Anne Frank (2009)\n",
       "7609                             Midnight in Paris (2011)\n",
       "897                 Cheech and Chong's Up in Smoke (1978)\n",
       "4421                               What's Up, Doc? (1972)\n",
       "6471                                     Lucky You (2007)\n",
       "Name: title, dtype: object"
      ]
     },
     "execution_count": 57,
     "metadata": {},
     "output_type": "execute_result"
    }
   ],
   "source": [
    "get_user_recommendations(uid=154,num=10)"
   ]
  },
  {
   "cell_type": "code",
   "execution_count": 58,
   "metadata": {
    "scrolled": false
   },
   "outputs": [
    {
     "data": {
      "text/plain": [
       "3921                          24 Hour Party People (2002)\n",
       "8219                                         Turbo (2013)\n",
       "6441                        I Think I Love My Wife (2007)\n",
       "8040               Fantastic Fear of Everything, A (2012)\n",
       "6341                                  Good Year, A (2006)\n",
       "5233    Happenstance (Battement d'ailes du papillon, L...\n",
       "4495                       Atragon (Kaitei Gunkan) (1963)\n",
       "7543                                     Hall Pass (2011)\n",
       "5555                               Nuns on the Run (1990)\n",
       "5794                                         Hitch (2005)\n",
       "Name: title, dtype: object"
      ]
     },
     "execution_count": 58,
     "metadata": {},
     "output_type": "execute_result"
    }
   ],
   "source": [
    "get_user_recommendations(uid=610,num=10)"
   ]
  },
  {
   "cell_type": "code",
   "execution_count": 89,
   "metadata": {
    "scrolled": true
   },
   "outputs": [
    {
     "data": {
      "text/plain": [
       "6077                           Memoirs of a Geisha (2005)\n",
       "7290                                  Little Ashes (2008)\n",
       "7823                             Atomic Brain, The (1963)\n",
       "2173                               Mystery, Alaska (1999)\n",
       "1827                                  Faculty, The (1998)\n",
       "9337                                   Indignation (2016)\n",
       "3455                                Altered States (1980)\n",
       "4717                                     Teen Wolf (1985)\n",
       "3907    Nosferatu the Vampyre (Nosferatu: Phantom der ...\n",
       "6123        Tristram Shandy: A Cock and Bull Story (2005)\n",
       "Name: title, dtype: object"
      ]
     },
     "execution_count": 89,
     "metadata": {},
     "output_type": "execute_result"
    }
   ],
   "source": [
    "get_user_recommendations(uid=120,num=10)"
   ]
  },
  {
   "cell_type": "code",
   "execution_count": 90,
   "metadata": {},
   "outputs": [
    {
     "data": {
      "text/plain": [
       "6077                           Memoirs of a Geisha (2005)\n",
       "4717                                     Teen Wolf (1985)\n",
       "3880                        Look Who's Talking Now (1993)\n",
       "1827                                  Faculty, The (1998)\n",
       "1215                                      In & Out (1997)\n",
       "3167                                      Scarface (1983)\n",
       "1804                                     Rambo III (1988)\n",
       "6663    In the Name of the King: A Dungeon Siege Tale ...\n",
       "3409                             Jurassic Park III (2001)\n",
       "5407        Andalusian Dog, An (Chien andalou, Un) (1929)\n",
       "Name: title, dtype: object"
      ]
     },
     "execution_count": 90,
     "metadata": {},
     "output_type": "execute_result"
    }
   ],
   "source": [
    "get_user_recommendations(uid=230,num=10)"
   ]
  },
  {
   "cell_type": "code",
   "execution_count": null,
   "metadata": {},
   "outputs": [],
   "source": []
  },
  {
   "cell_type": "markdown",
   "metadata": {},
   "source": [
    "## 6. Train Test Split"
   ]
  },
  {
   "cell_type": "code",
   "execution_count": 59,
   "metadata": {},
   "outputs": [],
   "source": [
    "from sklearn.model_selection import train_test_split\n",
    "\n",
    "ratings_train, ratings_test = train_test_split(ratings, test_size=0.25, random_state=42,\n",
    "                                               shuffle=True,stratify=ratings['userId'])"
   ]
  },
  {
   "cell_type": "code",
   "execution_count": 60,
   "metadata": {
    "scrolled": false
   },
   "outputs": [
    {
     "data": {
      "text/plain": [
       "442    20\n",
       "431    20\n",
       "569    20\n",
       "595    20\n",
       "406    20\n",
       "Name: userId, dtype: int64"
      ]
     },
     "execution_count": 60,
     "metadata": {},
     "output_type": "execute_result"
    }
   ],
   "source": [
    "ratings['userId'].value_counts(ascending=True).head()"
   ]
  },
  {
   "cell_type": "code",
   "execution_count": 61,
   "metadata": {},
   "outputs": [
    {
     "data": {
      "text/plain": [
       "147    15\n",
       "569    15\n",
       "194    15\n",
       "406    15\n",
       "278    15\n",
       "Name: userId, dtype: int64"
      ]
     },
     "execution_count": 61,
     "metadata": {},
     "output_type": "execute_result"
    }
   ],
   "source": [
    "ratings_train['userId'].value_counts(ascending=True).head()"
   ]
  },
  {
   "cell_type": "code",
   "execution_count": 62,
   "metadata": {},
   "outputs": [
    {
     "data": {
      "text/plain": [
       "406    5\n",
       "37     5\n",
       "147    5\n",
       "53     5\n",
       "569    5\n",
       "Name: userId, dtype: int64"
      ]
     },
     "execution_count": 62,
     "metadata": {},
     "output_type": "execute_result"
    }
   ],
   "source": [
    "ratings_test['userId'].value_counts(ascending=True).head()"
   ]
  },
  {
   "cell_type": "code",
   "execution_count": 63,
   "metadata": {
    "scrolled": true
   },
   "outputs": [],
   "source": [
    "# ratings_train.to_csv('../Data/ratings_train.csv')"
   ]
  },
  {
   "cell_type": "code",
   "execution_count": 64,
   "metadata": {},
   "outputs": [],
   "source": [
    "# ratings_test.to_csv('../Data/ratings_test.csv')"
   ]
  },
  {
   "cell_type": "code",
   "execution_count": 65,
   "metadata": {},
   "outputs": [
    {
     "data": {
      "text/html": [
       "<div>\n",
       "<style scoped>\n",
       "    .dataframe tbody tr th:only-of-type {\n",
       "        vertical-align: middle;\n",
       "    }\n",
       "\n",
       "    .dataframe tbody tr th {\n",
       "        vertical-align: top;\n",
       "    }\n",
       "\n",
       "    .dataframe thead th {\n",
       "        text-align: right;\n",
       "    }\n",
       "</style>\n",
       "<table border=\"1\" class=\"dataframe\">\n",
       "  <thead>\n",
       "    <tr style=\"text-align: right;\">\n",
       "      <th>movieId</th>\n",
       "      <th>1</th>\n",
       "      <th>2</th>\n",
       "      <th>3</th>\n",
       "      <th>4</th>\n",
       "      <th>5</th>\n",
       "      <th>6</th>\n",
       "      <th>7</th>\n",
       "      <th>8</th>\n",
       "      <th>9</th>\n",
       "      <th>10</th>\n",
       "      <th>...</th>\n",
       "      <th>185435</th>\n",
       "      <th>186587</th>\n",
       "      <th>188797</th>\n",
       "      <th>189713</th>\n",
       "      <th>190183</th>\n",
       "      <th>190215</th>\n",
       "      <th>190219</th>\n",
       "      <th>190221</th>\n",
       "      <th>193567</th>\n",
       "      <th>193579</th>\n",
       "    </tr>\n",
       "    <tr>\n",
       "      <th>userId</th>\n",
       "      <th></th>\n",
       "      <th></th>\n",
       "      <th></th>\n",
       "      <th></th>\n",
       "      <th></th>\n",
       "      <th></th>\n",
       "      <th></th>\n",
       "      <th></th>\n",
       "      <th></th>\n",
       "      <th></th>\n",
       "      <th></th>\n",
       "      <th></th>\n",
       "      <th></th>\n",
       "      <th></th>\n",
       "      <th></th>\n",
       "      <th></th>\n",
       "      <th></th>\n",
       "      <th></th>\n",
       "      <th></th>\n",
       "      <th></th>\n",
       "      <th></th>\n",
       "    </tr>\n",
       "  </thead>\n",
       "  <tbody>\n",
       "    <tr>\n",
       "      <th>1</th>\n",
       "      <td>4.0</td>\n",
       "      <td>0.0</td>\n",
       "      <td>4.0</td>\n",
       "      <td>0.0</td>\n",
       "      <td>0.0</td>\n",
       "      <td>4.0</td>\n",
       "      <td>0.0</td>\n",
       "      <td>0.0</td>\n",
       "      <td>0.0</td>\n",
       "      <td>0.0</td>\n",
       "      <td>...</td>\n",
       "      <td>0.0</td>\n",
       "      <td>0.0</td>\n",
       "      <td>0.0</td>\n",
       "      <td>0.0</td>\n",
       "      <td>0.0</td>\n",
       "      <td>0.0</td>\n",
       "      <td>0.0</td>\n",
       "      <td>0.0</td>\n",
       "      <td>0.0</td>\n",
       "      <td>0.0</td>\n",
       "    </tr>\n",
       "    <tr>\n",
       "      <th>2</th>\n",
       "      <td>0.0</td>\n",
       "      <td>0.0</td>\n",
       "      <td>0.0</td>\n",
       "      <td>0.0</td>\n",
       "      <td>0.0</td>\n",
       "      <td>0.0</td>\n",
       "      <td>0.0</td>\n",
       "      <td>0.0</td>\n",
       "      <td>0.0</td>\n",
       "      <td>0.0</td>\n",
       "      <td>...</td>\n",
       "      <td>0.0</td>\n",
       "      <td>0.0</td>\n",
       "      <td>0.0</td>\n",
       "      <td>0.0</td>\n",
       "      <td>0.0</td>\n",
       "      <td>0.0</td>\n",
       "      <td>0.0</td>\n",
       "      <td>0.0</td>\n",
       "      <td>0.0</td>\n",
       "      <td>0.0</td>\n",
       "    </tr>\n",
       "    <tr>\n",
       "      <th>3</th>\n",
       "      <td>0.0</td>\n",
       "      <td>0.0</td>\n",
       "      <td>0.0</td>\n",
       "      <td>0.0</td>\n",
       "      <td>0.0</td>\n",
       "      <td>0.0</td>\n",
       "      <td>0.0</td>\n",
       "      <td>0.0</td>\n",
       "      <td>0.0</td>\n",
       "      <td>0.0</td>\n",
       "      <td>...</td>\n",
       "      <td>0.0</td>\n",
       "      <td>0.0</td>\n",
       "      <td>0.0</td>\n",
       "      <td>0.0</td>\n",
       "      <td>0.0</td>\n",
       "      <td>0.0</td>\n",
       "      <td>0.0</td>\n",
       "      <td>0.0</td>\n",
       "      <td>0.0</td>\n",
       "      <td>0.0</td>\n",
       "    </tr>\n",
       "    <tr>\n",
       "      <th>4</th>\n",
       "      <td>0.0</td>\n",
       "      <td>0.0</td>\n",
       "      <td>0.0</td>\n",
       "      <td>0.0</td>\n",
       "      <td>0.0</td>\n",
       "      <td>0.0</td>\n",
       "      <td>0.0</td>\n",
       "      <td>0.0</td>\n",
       "      <td>0.0</td>\n",
       "      <td>0.0</td>\n",
       "      <td>...</td>\n",
       "      <td>0.0</td>\n",
       "      <td>0.0</td>\n",
       "      <td>0.0</td>\n",
       "      <td>0.0</td>\n",
       "      <td>0.0</td>\n",
       "      <td>0.0</td>\n",
       "      <td>0.0</td>\n",
       "      <td>0.0</td>\n",
       "      <td>0.0</td>\n",
       "      <td>0.0</td>\n",
       "    </tr>\n",
       "    <tr>\n",
       "      <th>5</th>\n",
       "      <td>4.0</td>\n",
       "      <td>0.0</td>\n",
       "      <td>0.0</td>\n",
       "      <td>0.0</td>\n",
       "      <td>0.0</td>\n",
       "      <td>0.0</td>\n",
       "      <td>0.0</td>\n",
       "      <td>0.0</td>\n",
       "      <td>0.0</td>\n",
       "      <td>0.0</td>\n",
       "      <td>...</td>\n",
       "      <td>0.0</td>\n",
       "      <td>0.0</td>\n",
       "      <td>0.0</td>\n",
       "      <td>0.0</td>\n",
       "      <td>0.0</td>\n",
       "      <td>0.0</td>\n",
       "      <td>0.0</td>\n",
       "      <td>0.0</td>\n",
       "      <td>0.0</td>\n",
       "      <td>0.0</td>\n",
       "    </tr>\n",
       "  </tbody>\n",
       "</table>\n",
       "<p>5 rows × 9724 columns</p>\n",
       "</div>"
      ],
      "text/plain": [
       "movieId  1       2       3       4       5       6       7       8       \\\n",
       "userId                                                                    \n",
       "1           4.0     0.0     4.0     0.0     0.0     4.0     0.0     0.0   \n",
       "2           0.0     0.0     0.0     0.0     0.0     0.0     0.0     0.0   \n",
       "3           0.0     0.0     0.0     0.0     0.0     0.0     0.0     0.0   \n",
       "4           0.0     0.0     0.0     0.0     0.0     0.0     0.0     0.0   \n",
       "5           4.0     0.0     0.0     0.0     0.0     0.0     0.0     0.0   \n",
       "\n",
       "movieId  9       10      ...  185435  186587  188797  189713  190183  190215  \\\n",
       "userId                   ...                                                   \n",
       "1           0.0     0.0  ...     0.0     0.0     0.0     0.0     0.0     0.0   \n",
       "2           0.0     0.0  ...     0.0     0.0     0.0     0.0     0.0     0.0   \n",
       "3           0.0     0.0  ...     0.0     0.0     0.0     0.0     0.0     0.0   \n",
       "4           0.0     0.0  ...     0.0     0.0     0.0     0.0     0.0     0.0   \n",
       "5           0.0     0.0  ...     0.0     0.0     0.0     0.0     0.0     0.0   \n",
       "\n",
       "movieId  190219  190221  193567  193579  \n",
       "userId                                   \n",
       "1           0.0     0.0     0.0     0.0  \n",
       "2           0.0     0.0     0.0     0.0  \n",
       "3           0.0     0.0     0.0     0.0  \n",
       "4           0.0     0.0     0.0     0.0  \n",
       "5           0.0     0.0     0.0     0.0  \n",
       "\n",
       "[5 rows x 9724 columns]"
      ]
     },
     "execution_count": 65,
     "metadata": {},
     "output_type": "execute_result"
    }
   ],
   "source": [
    "ratings_matrix = ratings_train.pivot_table(index=['userId'],columns=['movieId'],values='rating')\n",
    "ratings_matrix = ratings_matrix.fillna(0)\n",
    "for mid in movies['movieId'].unique():\n",
    "    if mid not in ratings_matrix.columns and mid not in not_rated:\n",
    "        ratings_matrix[mid] = 0.0\n",
    "ratings_matrix.head()"
   ]
  },
  {
   "cell_type": "code",
   "execution_count": 66,
   "metadata": {},
   "outputs": [
    {
     "data": {
      "text/html": [
       "<div>\n",
       "<style scoped>\n",
       "    .dataframe tbody tr th:only-of-type {\n",
       "        vertical-align: middle;\n",
       "    }\n",
       "\n",
       "    .dataframe tbody tr th {\n",
       "        vertical-align: top;\n",
       "    }\n",
       "\n",
       "    .dataframe thead th {\n",
       "        text-align: right;\n",
       "    }\n",
       "</style>\n",
       "<table border=\"1\" class=\"dataframe\">\n",
       "  <thead>\n",
       "    <tr style=\"text-align: right;\">\n",
       "      <th>movieId</th>\n",
       "      <th>1</th>\n",
       "      <th>2</th>\n",
       "      <th>3</th>\n",
       "      <th>4</th>\n",
       "      <th>5</th>\n",
       "      <th>6</th>\n",
       "      <th>7</th>\n",
       "      <th>8</th>\n",
       "      <th>9</th>\n",
       "      <th>10</th>\n",
       "      <th>...</th>\n",
       "      <th>193565</th>\n",
       "      <th>193567</th>\n",
       "      <th>193571</th>\n",
       "      <th>193573</th>\n",
       "      <th>193579</th>\n",
       "      <th>193581</th>\n",
       "      <th>193583</th>\n",
       "      <th>193585</th>\n",
       "      <th>193587</th>\n",
       "      <th>193609</th>\n",
       "    </tr>\n",
       "    <tr>\n",
       "      <th>userId</th>\n",
       "      <th></th>\n",
       "      <th></th>\n",
       "      <th></th>\n",
       "      <th></th>\n",
       "      <th></th>\n",
       "      <th></th>\n",
       "      <th></th>\n",
       "      <th></th>\n",
       "      <th></th>\n",
       "      <th></th>\n",
       "      <th></th>\n",
       "      <th></th>\n",
       "      <th></th>\n",
       "      <th></th>\n",
       "      <th></th>\n",
       "      <th></th>\n",
       "      <th></th>\n",
       "      <th></th>\n",
       "      <th></th>\n",
       "      <th></th>\n",
       "      <th></th>\n",
       "    </tr>\n",
       "  </thead>\n",
       "  <tbody>\n",
       "    <tr>\n",
       "      <th>1</th>\n",
       "      <td>4.0</td>\n",
       "      <td>0.0</td>\n",
       "      <td>4.0</td>\n",
       "      <td>0.0</td>\n",
       "      <td>0.0</td>\n",
       "      <td>4.0</td>\n",
       "      <td>0.0</td>\n",
       "      <td>0.0</td>\n",
       "      <td>0.0</td>\n",
       "      <td>0.0</td>\n",
       "      <td>...</td>\n",
       "      <td>0.0</td>\n",
       "      <td>0.0</td>\n",
       "      <td>0.0</td>\n",
       "      <td>0.0</td>\n",
       "      <td>0.0</td>\n",
       "      <td>0.0</td>\n",
       "      <td>0.0</td>\n",
       "      <td>0.0</td>\n",
       "      <td>0.0</td>\n",
       "      <td>0.0</td>\n",
       "    </tr>\n",
       "    <tr>\n",
       "      <th>2</th>\n",
       "      <td>0.0</td>\n",
       "      <td>0.0</td>\n",
       "      <td>0.0</td>\n",
       "      <td>0.0</td>\n",
       "      <td>0.0</td>\n",
       "      <td>0.0</td>\n",
       "      <td>0.0</td>\n",
       "      <td>0.0</td>\n",
       "      <td>0.0</td>\n",
       "      <td>0.0</td>\n",
       "      <td>...</td>\n",
       "      <td>0.0</td>\n",
       "      <td>0.0</td>\n",
       "      <td>0.0</td>\n",
       "      <td>0.0</td>\n",
       "      <td>0.0</td>\n",
       "      <td>0.0</td>\n",
       "      <td>0.0</td>\n",
       "      <td>0.0</td>\n",
       "      <td>0.0</td>\n",
       "      <td>0.0</td>\n",
       "    </tr>\n",
       "    <tr>\n",
       "      <th>3</th>\n",
       "      <td>0.0</td>\n",
       "      <td>0.0</td>\n",
       "      <td>0.0</td>\n",
       "      <td>0.0</td>\n",
       "      <td>0.0</td>\n",
       "      <td>0.0</td>\n",
       "      <td>0.0</td>\n",
       "      <td>0.0</td>\n",
       "      <td>0.0</td>\n",
       "      <td>0.0</td>\n",
       "      <td>...</td>\n",
       "      <td>0.0</td>\n",
       "      <td>0.0</td>\n",
       "      <td>0.0</td>\n",
       "      <td>0.0</td>\n",
       "      <td>0.0</td>\n",
       "      <td>0.0</td>\n",
       "      <td>0.0</td>\n",
       "      <td>0.0</td>\n",
       "      <td>0.0</td>\n",
       "      <td>0.0</td>\n",
       "    </tr>\n",
       "    <tr>\n",
       "      <th>4</th>\n",
       "      <td>0.0</td>\n",
       "      <td>0.0</td>\n",
       "      <td>0.0</td>\n",
       "      <td>0.0</td>\n",
       "      <td>0.0</td>\n",
       "      <td>0.0</td>\n",
       "      <td>0.0</td>\n",
       "      <td>0.0</td>\n",
       "      <td>0.0</td>\n",
       "      <td>0.0</td>\n",
       "      <td>...</td>\n",
       "      <td>0.0</td>\n",
       "      <td>0.0</td>\n",
       "      <td>0.0</td>\n",
       "      <td>0.0</td>\n",
       "      <td>0.0</td>\n",
       "      <td>0.0</td>\n",
       "      <td>0.0</td>\n",
       "      <td>0.0</td>\n",
       "      <td>0.0</td>\n",
       "      <td>0.0</td>\n",
       "    </tr>\n",
       "    <tr>\n",
       "      <th>5</th>\n",
       "      <td>4.0</td>\n",
       "      <td>0.0</td>\n",
       "      <td>0.0</td>\n",
       "      <td>0.0</td>\n",
       "      <td>0.0</td>\n",
       "      <td>0.0</td>\n",
       "      <td>0.0</td>\n",
       "      <td>0.0</td>\n",
       "      <td>0.0</td>\n",
       "      <td>0.0</td>\n",
       "      <td>...</td>\n",
       "      <td>0.0</td>\n",
       "      <td>0.0</td>\n",
       "      <td>0.0</td>\n",
       "      <td>0.0</td>\n",
       "      <td>0.0</td>\n",
       "      <td>0.0</td>\n",
       "      <td>0.0</td>\n",
       "      <td>0.0</td>\n",
       "      <td>0.0</td>\n",
       "      <td>0.0</td>\n",
       "    </tr>\n",
       "  </tbody>\n",
       "</table>\n",
       "<p>5 rows × 9724 columns</p>\n",
       "</div>"
      ],
      "text/plain": [
       "movieId  1       2       3       4       5       6       7       8       \\\n",
       "userId                                                                    \n",
       "1           4.0     0.0     4.0     0.0     0.0     4.0     0.0     0.0   \n",
       "2           0.0     0.0     0.0     0.0     0.0     0.0     0.0     0.0   \n",
       "3           0.0     0.0     0.0     0.0     0.0     0.0     0.0     0.0   \n",
       "4           0.0     0.0     0.0     0.0     0.0     0.0     0.0     0.0   \n",
       "5           4.0     0.0     0.0     0.0     0.0     0.0     0.0     0.0   \n",
       "\n",
       "movieId  9       10      ...  193565  193567  193571  193573  193579  193581  \\\n",
       "userId                   ...                                                   \n",
       "1           0.0     0.0  ...     0.0     0.0     0.0     0.0     0.0     0.0   \n",
       "2           0.0     0.0  ...     0.0     0.0     0.0     0.0     0.0     0.0   \n",
       "3           0.0     0.0  ...     0.0     0.0     0.0     0.0     0.0     0.0   \n",
       "4           0.0     0.0  ...     0.0     0.0     0.0     0.0     0.0     0.0   \n",
       "5           0.0     0.0  ...     0.0     0.0     0.0     0.0     0.0     0.0   \n",
       "\n",
       "movieId  193583  193585  193587  193609  \n",
       "userId                                   \n",
       "1           0.0     0.0     0.0     0.0  \n",
       "2           0.0     0.0     0.0     0.0  \n",
       "3           0.0     0.0     0.0     0.0  \n",
       "4           0.0     0.0     0.0     0.0  \n",
       "5           0.0     0.0     0.0     0.0  \n",
       "\n",
       "[5 rows x 9724 columns]"
      ]
     },
     "execution_count": 66,
     "metadata": {},
     "output_type": "execute_result"
    }
   ],
   "source": [
    "ratings_matrix = ratings_matrix.sort_index(axis=1)\n",
    "ratings_matrix.head()"
   ]
  },
  {
   "cell_type": "code",
   "execution_count": 67,
   "metadata": {},
   "outputs": [
    {
     "data": {
      "text/plain": [
       "(9724, 200)"
      ]
     },
     "execution_count": 67,
     "metadata": {},
     "output_type": "execute_result"
    }
   ],
   "source": [
    "feature_matrix.shape"
   ]
  },
  {
   "cell_type": "code",
   "execution_count": 68,
   "metadata": {},
   "outputs": [
    {
     "data": {
      "text/html": [
       "<div>\n",
       "<style scoped>\n",
       "    .dataframe tbody tr th:only-of-type {\n",
       "        vertical-align: middle;\n",
       "    }\n",
       "\n",
       "    .dataframe tbody tr th {\n",
       "        vertical-align: top;\n",
       "    }\n",
       "\n",
       "    .dataframe thead th {\n",
       "        text-align: right;\n",
       "    }\n",
       "</style>\n",
       "<table border=\"1\" class=\"dataframe\">\n",
       "  <thead>\n",
       "    <tr style=\"text-align: right;\">\n",
       "      <th></th>\n",
       "      <th>f1</th>\n",
       "      <th>f2</th>\n",
       "      <th>f3</th>\n",
       "      <th>f4</th>\n",
       "      <th>f5</th>\n",
       "      <th>f6</th>\n",
       "      <th>f7</th>\n",
       "      <th>f8</th>\n",
       "      <th>f9</th>\n",
       "      <th>f10</th>\n",
       "      <th>...</th>\n",
       "      <th>f191</th>\n",
       "      <th>f192</th>\n",
       "      <th>f193</th>\n",
       "      <th>f194</th>\n",
       "      <th>f195</th>\n",
       "      <th>f196</th>\n",
       "      <th>f197</th>\n",
       "      <th>f198</th>\n",
       "      <th>f199</th>\n",
       "      <th>f200</th>\n",
       "    </tr>\n",
       "    <tr>\n",
       "      <th>userId</th>\n",
       "      <th></th>\n",
       "      <th></th>\n",
       "      <th></th>\n",
       "      <th></th>\n",
       "      <th></th>\n",
       "      <th></th>\n",
       "      <th></th>\n",
       "      <th></th>\n",
       "      <th></th>\n",
       "      <th></th>\n",
       "      <th></th>\n",
       "      <th></th>\n",
       "      <th></th>\n",
       "      <th></th>\n",
       "      <th></th>\n",
       "      <th></th>\n",
       "      <th></th>\n",
       "      <th></th>\n",
       "      <th></th>\n",
       "      <th></th>\n",
       "      <th></th>\n",
       "    </tr>\n",
       "  </thead>\n",
       "  <tbody>\n",
       "    <tr>\n",
       "      <th>1</th>\n",
       "      <td>-55.499473</td>\n",
       "      <td>-15.232576</td>\n",
       "      <td>56.440271</td>\n",
       "      <td>52.138050</td>\n",
       "      <td>-38.472092</td>\n",
       "      <td>-102.145811</td>\n",
       "      <td>-62.362068</td>\n",
       "      <td>-18.973473</td>\n",
       "      <td>93.172311</td>\n",
       "      <td>-65.983555</td>\n",
       "      <td>...</td>\n",
       "      <td>390.661277</td>\n",
       "      <td>-307.626612</td>\n",
       "      <td>-345.168288</td>\n",
       "      <td>19.673197</td>\n",
       "      <td>243.288676</td>\n",
       "      <td>159.993039</td>\n",
       "      <td>-242.099785</td>\n",
       "      <td>16.314769</td>\n",
       "      <td>32.600870</td>\n",
       "      <td>330.090920</td>\n",
       "    </tr>\n",
       "    <tr>\n",
       "      <th>2</th>\n",
       "      <td>-7.673988</td>\n",
       "      <td>-2.033372</td>\n",
       "      <td>7.770275</td>\n",
       "      <td>7.153398</td>\n",
       "      <td>-5.234415</td>\n",
       "      <td>-14.056490</td>\n",
       "      <td>-8.544466</td>\n",
       "      <td>-2.517871</td>\n",
       "      <td>12.848649</td>\n",
       "      <td>-9.062382</td>\n",
       "      <td>...</td>\n",
       "      <td>43.961603</td>\n",
       "      <td>-37.028860</td>\n",
       "      <td>-42.974966</td>\n",
       "      <td>-8.319987</td>\n",
       "      <td>26.174670</td>\n",
       "      <td>17.596943</td>\n",
       "      <td>-30.770090</td>\n",
       "      <td>-0.860131</td>\n",
       "      <td>3.750826</td>\n",
       "      <td>39.209255</td>\n",
       "    </tr>\n",
       "    <tr>\n",
       "      <th>3</th>\n",
       "      <td>-4.072432</td>\n",
       "      <td>-1.169049</td>\n",
       "      <td>4.028119</td>\n",
       "      <td>3.687239</td>\n",
       "      <td>-2.755781</td>\n",
       "      <td>-7.332495</td>\n",
       "      <td>-4.398231</td>\n",
       "      <td>-1.292029</td>\n",
       "      <td>6.621311</td>\n",
       "      <td>-4.796881</td>\n",
       "      <td>...</td>\n",
       "      <td>31.933763</td>\n",
       "      <td>-24.606013</td>\n",
       "      <td>-26.568467</td>\n",
       "      <td>2.242180</td>\n",
       "      <td>20.421815</td>\n",
       "      <td>13.735056</td>\n",
       "      <td>-19.246596</td>\n",
       "      <td>1.304576</td>\n",
       "      <td>1.244947</td>\n",
       "      <td>25.759976</td>\n",
       "    </tr>\n",
       "    <tr>\n",
       "      <th>4</th>\n",
       "      <td>-37.844672</td>\n",
       "      <td>-10.344227</td>\n",
       "      <td>38.890441</td>\n",
       "      <td>35.849960</td>\n",
       "      <td>-26.678248</td>\n",
       "      <td>-69.597746</td>\n",
       "      <td>-42.812167</td>\n",
       "      <td>-12.732752</td>\n",
       "      <td>63.742373</td>\n",
       "      <td>-45.222134</td>\n",
       "      <td>...</td>\n",
       "      <td>295.796121</td>\n",
       "      <td>-245.540630</td>\n",
       "      <td>-290.444956</td>\n",
       "      <td>-41.880070</td>\n",
       "      <td>178.997858</td>\n",
       "      <td>114.720201</td>\n",
       "      <td>-207.213778</td>\n",
       "      <td>-3.279897</td>\n",
       "      <td>36.249939</td>\n",
       "      <td>267.046397</td>\n",
       "    </tr>\n",
       "    <tr>\n",
       "      <th>5</th>\n",
       "      <td>-9.104350</td>\n",
       "      <td>-2.518753</td>\n",
       "      <td>9.171480</td>\n",
       "      <td>8.615066</td>\n",
       "      <td>-6.454783</td>\n",
       "      <td>-17.024886</td>\n",
       "      <td>-10.162874</td>\n",
       "      <td>-3.105300</td>\n",
       "      <td>15.257165</td>\n",
       "      <td>-10.847573</td>\n",
       "      <td>...</td>\n",
       "      <td>60.971855</td>\n",
       "      <td>-50.576910</td>\n",
       "      <td>-58.612953</td>\n",
       "      <td>-4.307239</td>\n",
       "      <td>38.435116</td>\n",
       "      <td>23.955445</td>\n",
       "      <td>-39.858475</td>\n",
       "      <td>0.946303</td>\n",
       "      <td>7.175312</td>\n",
       "      <td>53.213288</td>\n",
       "    </tr>\n",
       "  </tbody>\n",
       "</table>\n",
       "<p>5 rows × 200 columns</p>\n",
       "</div>"
      ],
      "text/plain": [
       "               f1         f2         f3         f4         f5          f6  \\\n",
       "userId                                                                      \n",
       "1      -55.499473 -15.232576  56.440271  52.138050 -38.472092 -102.145811   \n",
       "2       -7.673988  -2.033372   7.770275   7.153398  -5.234415  -14.056490   \n",
       "3       -4.072432  -1.169049   4.028119   3.687239  -2.755781   -7.332495   \n",
       "4      -37.844672 -10.344227  38.890441  35.849960 -26.678248  -69.597746   \n",
       "5       -9.104350  -2.518753   9.171480   8.615066  -6.454783  -17.024886   \n",
       "\n",
       "               f7         f8         f9        f10  ...        f191  \\\n",
       "userId                                              ...               \n",
       "1      -62.362068 -18.973473  93.172311 -65.983555  ...  390.661277   \n",
       "2       -8.544466  -2.517871  12.848649  -9.062382  ...   43.961603   \n",
       "3       -4.398231  -1.292029   6.621311  -4.796881  ...   31.933763   \n",
       "4      -42.812167 -12.732752  63.742373 -45.222134  ...  295.796121   \n",
       "5      -10.162874  -3.105300  15.257165 -10.847573  ...   60.971855   \n",
       "\n",
       "              f192        f193       f194        f195        f196        f197  \\\n",
       "userId                                                                          \n",
       "1      -307.626612 -345.168288  19.673197  243.288676  159.993039 -242.099785   \n",
       "2       -37.028860  -42.974966  -8.319987   26.174670   17.596943  -30.770090   \n",
       "3       -24.606013  -26.568467   2.242180   20.421815   13.735056  -19.246596   \n",
       "4      -245.540630 -290.444956 -41.880070  178.997858  114.720201 -207.213778   \n",
       "5       -50.576910  -58.612953  -4.307239   38.435116   23.955445  -39.858475   \n",
       "\n",
       "             f198       f199        f200  \n",
       "userId                                    \n",
       "1       16.314769  32.600870  330.090920  \n",
       "2       -0.860131   3.750826   39.209255  \n",
       "3        1.304576   1.244947   25.759976  \n",
       "4       -3.279897  36.249939  267.046397  \n",
       "5        0.946303   7.175312   53.213288  \n",
       "\n",
       "[5 rows x 200 columns]"
      ]
     },
     "execution_count": 68,
     "metadata": {},
     "output_type": "execute_result"
    }
   ],
   "source": [
    "user_profiles = np.dot(ratings_matrix.values,feature_matrix.values)\n",
    "user_profiles = pd.DataFrame(user_profiles,index=ratings_matrix.index,columns=feature_matrix.columns)\n",
    "user_profiles.head()"
   ]
  },
  {
   "cell_type": "code",
   "execution_count": 69,
   "metadata": {},
   "outputs": [
    {
     "data": {
      "text/plain": [
       "(610, 200)"
      ]
     },
     "execution_count": 69,
     "metadata": {},
     "output_type": "execute_result"
    }
   ],
   "source": [
    "user_profiles.shape"
   ]
  },
  {
   "cell_type": "markdown",
   "metadata": {},
   "source": [
    "### Lista de películas vistas por usuario"
   ]
  },
  {
   "cell_type": "code",
   "execution_count": 70,
   "metadata": {
    "scrolled": true
   },
   "outputs": [
    {
     "data": {
      "text/html": [
       "<div>\n",
       "<style scoped>\n",
       "    .dataframe tbody tr th:only-of-type {\n",
       "        vertical-align: middle;\n",
       "    }\n",
       "\n",
       "    .dataframe tbody tr th {\n",
       "        vertical-align: top;\n",
       "    }\n",
       "\n",
       "    .dataframe thead th {\n",
       "        text-align: right;\n",
       "    }\n",
       "</style>\n",
       "<table border=\"1\" class=\"dataframe\">\n",
       "  <thead>\n",
       "    <tr style=\"text-align: right;\">\n",
       "      <th></th>\n",
       "      <th>movieId</th>\n",
       "    </tr>\n",
       "    <tr>\n",
       "      <th>userId</th>\n",
       "      <th></th>\n",
       "    </tr>\n",
       "  </thead>\n",
       "  <tbody>\n",
       "    <tr>\n",
       "      <th>1</th>\n",
       "      <td>[804, 1210, 2628, 2826, 2018, 3578, 3617, 3744...</td>\n",
       "    </tr>\n",
       "    <tr>\n",
       "      <th>2</th>\n",
       "      <td>[318, 79132, 131724, 115713, 99114, 112552, 35...</td>\n",
       "    </tr>\n",
       "    <tr>\n",
       "      <th>3</th>\n",
       "      <td>[1275, 2105, 1371, 914, 1263, 2080, 31, 720, 3...</td>\n",
       "    </tr>\n",
       "    <tr>\n",
       "      <th>4</th>\n",
       "      <td>[171, 902, 2351, 417, 1304, 2959, 2712, 162, 5...</td>\n",
       "    </tr>\n",
       "    <tr>\n",
       "      <th>5</th>\n",
       "      <td>[590, 592, 150, 380, 296, 457, 588, 153, 344, ...</td>\n",
       "    </tr>\n",
       "  </tbody>\n",
       "</table>\n",
       "</div>"
      ],
      "text/plain": [
       "                                                  movieId\n",
       "userId                                                   \n",
       "1       [804, 1210, 2628, 2826, 2018, 3578, 3617, 3744...\n",
       "2       [318, 79132, 131724, 115713, 99114, 112552, 35...\n",
       "3       [1275, 2105, 1371, 914, 1263, 2080, 31, 720, 3...\n",
       "4       [171, 902, 2351, 417, 1304, 2959, 2712, 162, 5...\n",
       "5       [590, 592, 150, 380, 296, 457, 588, 153, 344, ..."
      ]
     },
     "execution_count": 70,
     "metadata": {},
     "output_type": "execute_result"
    }
   ],
   "source": [
    "ratings_sorted = ratings.sort_values(by='timestamp')\n",
    "movies_by_user = pd.DataFrame(ratings_sorted.groupby('userId')['movieId'].apply(list))\n",
    "movies_by_user.head()"
   ]
  },
  {
   "cell_type": "markdown",
   "metadata": {},
   "source": [
    "## 5. Recomendaciones por usuario"
   ]
  },
  {
   "cell_type": "code",
   "execution_count": 71,
   "metadata": {},
   "outputs": [],
   "source": [
    "def get_user_recommendations(uid,num):\n",
    "    C = cosine_similarity(np.atleast_2d(user_profiles.loc[uid]), feature_matrix.values)\n",
    "    R = np.argsort(C)[:, ::-1]\n",
    "    recommendations = [i for i in R[0] if i not in movies_by_user.loc[uid].values]\n",
    "    return movies['title'][recommendations[0:num]]#.head(num)"
   ]
  },
  {
   "cell_type": "code",
   "execution_count": 72,
   "metadata": {},
   "outputs": [
    {
     "data": {
      "text/plain": [
       "4717                                 Teen Wolf (1985)\n",
       "1827                              Faculty, The (1998)\n",
       "5407    Andalusian Dog, An (Chien andalou, Un) (1929)\n",
       "7724                                  Puncture (2011)\n",
       "777               20,000 Leagues Under the Sea (1954)\n",
       "6077                       Memoirs of a Geisha (2005)\n",
       "4487                         Man's Best Friend (1993)\n",
       "1215                                  In & Out (1997)\n",
       "6123    Tristram Shandy: A Cock and Bull Story (2005)\n",
       "5422                         Wuthering Heights (1939)\n",
       "Name: title, dtype: object"
      ]
     },
     "execution_count": 72,
     "metadata": {},
     "output_type": "execute_result"
    }
   ],
   "source": [
    "get_user_recommendations(uid=1,num=10)"
   ]
  },
  {
   "cell_type": "code",
   "execution_count": 73,
   "metadata": {},
   "outputs": [
    {
     "data": {
      "text/plain": [
       "7615                     Roommate, The (2011)\n",
       "4650                    Big Empty, The (2003)\n",
       "4421                   What's Up, Doc? (1972)\n",
       "6471                         Lucky You (2007)\n",
       "4416                         Babe, The (1992)\n",
       "897     Cheech and Chong's Up in Smoke (1978)\n",
       "422                   Last Action Hero (1993)\n",
       "549                        Dragonheart (1996)\n",
       "2832                   Pawnbroker, The (1964)\n",
       "8677           The Diary of Anne Frank (2009)\n",
       "Name: title, dtype: object"
      ]
     },
     "execution_count": 73,
     "metadata": {},
     "output_type": "execute_result"
    }
   ],
   "source": [
    "get_user_recommendations(uid=154,num=10)"
   ]
  },
  {
   "cell_type": "code",
   "execution_count": 74,
   "metadata": {},
   "outputs": [
    {
     "data": {
      "text/plain": [
       "5555                               Nuns on the Run (1990)\n",
       "8911    Ghost in the Shell: Stand Alone Complex - The ...\n",
       "901                                         Brazil (1985)\n",
       "2869                                   Phantasm II (1988)\n",
       "7308    Emperor's New Groove 2: Kronk's New Groove, Th...\n",
       "2325                                Mansfield Park (1999)\n",
       "4090                                       Ragtime (1981)\n",
       "5790                                        El Cid (1961)\n",
       "3426                                     Skin Deep (1989)\n",
       "8327                                    Wrong Cops (2013)\n",
       "Name: title, dtype: object"
      ]
     },
     "execution_count": 74,
     "metadata": {},
     "output_type": "execute_result"
    }
   ],
   "source": [
    "get_user_recommendations(uid=320,num=10)"
   ]
  },
  {
   "cell_type": "code",
   "execution_count": 75,
   "metadata": {
    "scrolled": true
   },
   "outputs": [
    {
     "data": {
      "text/plain": [
       "3921                          24 Hour Party People (2002)\n",
       "6441                        I Think I Love My Wife (2007)\n",
       "8219                                         Turbo (2013)\n",
       "7543                                     Hall Pass (2011)\n",
       "8040               Fantastic Fear of Everything, A (2012)\n",
       "5233    Happenstance (Battement d'ailes du papillon, L...\n",
       "5555                               Nuns on the Run (1990)\n",
       "5794                                         Hitch (2005)\n",
       "6341                                  Good Year, A (2006)\n",
       "4495                       Atragon (Kaitei Gunkan) (1963)\n",
       "Name: title, dtype: object"
      ]
     },
     "execution_count": 75,
     "metadata": {},
     "output_type": "execute_result"
    }
   ],
   "source": [
    "get_user_recommendations(uid=610,num=10)"
   ]
  },
  {
   "cell_type": "code",
   "execution_count": 76,
   "metadata": {
    "scrolled": true
   },
   "outputs": [
    {
     "data": {
      "text/plain": [
       "array(['24 Hour Party People (2002)', 'I Think I Love My Wife (2007)',\n",
       "       'Turbo (2013)', 'Hall Pass (2011)',\n",
       "       'Fantastic Fear of Everything, A (2012)',\n",
       "       \"Happenstance (Battement d'ailes du papillon, Le) (2001)\",\n",
       "       'Nuns on the Run (1990)', 'Hitch (2005)', 'Good Year, A (2006)',\n",
       "       'Atragon (Kaitei Gunkan) (1963)'], dtype=object)"
      ]
     },
     "execution_count": 76,
     "metadata": {},
     "output_type": "execute_result"
    }
   ],
   "source": [
    "u610_rec = get_user_recommendations(uid=610,num=10)\n",
    "ratings_test.loc[ratings_test['userId']==610]\n",
    "u610_rec.values"
   ]
  },
  {
   "cell_type": "code",
   "execution_count": 77,
   "metadata": {},
   "outputs": [
    {
     "data": {
      "text/html": [
       "<div>\n",
       "<style scoped>\n",
       "    .dataframe tbody tr th:only-of-type {\n",
       "        vertical-align: middle;\n",
       "    }\n",
       "\n",
       "    .dataframe tbody tr th {\n",
       "        vertical-align: top;\n",
       "    }\n",
       "\n",
       "    .dataframe thead th {\n",
       "        text-align: right;\n",
       "    }\n",
       "</style>\n",
       "<table border=\"1\" class=\"dataframe\">\n",
       "  <thead>\n",
       "    <tr style=\"text-align: right;\">\n",
       "      <th></th>\n",
       "      <th>movieId</th>\n",
       "      <th>title</th>\n",
       "    </tr>\n",
       "  </thead>\n",
       "  <tbody>\n",
       "    <tr>\n",
       "      <th>3921</th>\n",
       "      <td>5508</td>\n",
       "      <td>24 Hour Party People (2002)</td>\n",
       "    </tr>\n",
       "    <tr>\n",
       "      <th>6441</th>\n",
       "      <td>51903</td>\n",
       "      <td>I Think I Love My Wife (2007)</td>\n",
       "    </tr>\n",
       "    <tr>\n",
       "      <th>8219</th>\n",
       "      <td>103755</td>\n",
       "      <td>Turbo (2013)</td>\n",
       "    </tr>\n",
       "    <tr>\n",
       "      <th>7543</th>\n",
       "      <td>85022</td>\n",
       "      <td>Hall Pass (2011)</td>\n",
       "    </tr>\n",
       "    <tr>\n",
       "      <th>8040</th>\n",
       "      <td>98279</td>\n",
       "      <td>Fantastic Fear of Everything, A (2012)</td>\n",
       "    </tr>\n",
       "    <tr>\n",
       "      <th>5233</th>\n",
       "      <td>8575</td>\n",
       "      <td>Happenstance (Battement d'ailes du papillon, L...</td>\n",
       "    </tr>\n",
       "    <tr>\n",
       "      <th>5555</th>\n",
       "      <td>26700</td>\n",
       "      <td>Nuns on the Run (1990)</td>\n",
       "    </tr>\n",
       "    <tr>\n",
       "      <th>5794</th>\n",
       "      <td>31685</td>\n",
       "      <td>Hitch (2005)</td>\n",
       "    </tr>\n",
       "    <tr>\n",
       "      <th>6341</th>\n",
       "      <td>49130</td>\n",
       "      <td>Good Year, A (2006)</td>\n",
       "    </tr>\n",
       "    <tr>\n",
       "      <th>4495</th>\n",
       "      <td>6654</td>\n",
       "      <td>Atragon (Kaitei Gunkan) (1963)</td>\n",
       "    </tr>\n",
       "  </tbody>\n",
       "</table>\n",
       "</div>"
      ],
      "text/plain": [
       "      movieId                                              title\n",
       "3921     5508                        24 Hour Party People (2002)\n",
       "6441    51903                      I Think I Love My Wife (2007)\n",
       "8219   103755                                       Turbo (2013)\n",
       "7543    85022                                   Hall Pass (2011)\n",
       "8040    98279             Fantastic Fear of Everything, A (2012)\n",
       "5233     8575  Happenstance (Battement d'ailes du papillon, L...\n",
       "5555    26700                             Nuns on the Run (1990)\n",
       "5794    31685                                       Hitch (2005)\n",
       "6341    49130                                Good Year, A (2006)\n",
       "4495     6654                     Atragon (Kaitei Gunkan) (1963)"
      ]
     },
     "execution_count": 77,
     "metadata": {},
     "output_type": "execute_result"
    }
   ],
   "source": [
    "a = pd.DataFrame(movies.iloc[u610_rec.index]['movieId'])\n",
    "u610_rec = pd.DataFrame(u610_rec)\n",
    "u610_rec = pd.concat([a,u610_rec],axis=1)\n",
    "u610_rec"
   ]
  },
  {
   "cell_type": "code",
   "execution_count": 78,
   "metadata": {},
   "outputs": [
    {
     "data": {
      "text/plain": [
       "array([], dtype=int64)"
      ]
     },
     "execution_count": 78,
     "metadata": {},
     "output_type": "execute_result"
    }
   ],
   "source": [
    "a = u610_rec['movieId']\n",
    "b = ratings_test.loc[ratings_test['userId']==610,'movieId']\n",
    "np.intersect1d(a,b)"
   ]
  },
  {
   "cell_type": "code",
   "execution_count": null,
   "metadata": {},
   "outputs": [],
   "source": []
  },
  {
   "cell_type": "code",
   "execution_count": 79,
   "metadata": {},
   "outputs": [],
   "source": [
    "# a=[1,2,3]\n",
    "# b=[1,2,5,6,7,8]\n",
    "# np.intersect1d(a,b)"
   ]
  },
  {
   "cell_type": "code",
   "execution_count": null,
   "metadata": {},
   "outputs": [],
   "source": []
  },
  {
   "cell_type": "code",
   "execution_count": null,
   "metadata": {},
   "outputs": [],
   "source": []
  },
  {
   "cell_type": "code",
   "execution_count": 80,
   "metadata": {},
   "outputs": [],
   "source": [
    "# tp = 0\n",
    "# fp = 0\n",
    "# for item in a:\n",
    "#     if item in b:\n",
    "#         tp+=1\n",
    "# fp = 10 - tp\n",
    "# print(tp,fp)"
   ]
  },
  {
   "cell_type": "code",
   "execution_count": 81,
   "metadata": {},
   "outputs": [],
   "source": [
    "# a = [1,2,3]\n",
    "# b = [1,4,5,7,685,2]\n",
    "# # tp = 0\n",
    "# # fp = 0\n",
    "# # for item in a:\n",
    "# #     if item in b:\n",
    "# #         tp+=1\n",
    "# # fp = 10 - tp\n",
    "# # print(tp,fp)\n",
    "\n",
    "# def intersection(lst1, lst2): \n",
    "#     return list(set(lst1) & set(lst2)) \n",
    "# intersection(a,b)"
   ]
  },
  {
   "cell_type": "code",
   "execution_count": null,
   "metadata": {},
   "outputs": [],
   "source": []
  },
  {
   "cell_type": "code",
   "execution_count": null,
   "metadata": {},
   "outputs": [],
   "source": []
  },
  {
   "cell_type": "code",
   "execution_count": 82,
   "metadata": {},
   "outputs": [
    {
     "data": {
      "text/plain": [
       "Int64Index([     1,      2,      3,      4,      5,      6,      7,      8,\n",
       "                 9,     10,\n",
       "            ...\n",
       "            193565, 193567, 193571, 193573, 193579, 193581, 193583, 193585,\n",
       "            193587, 193609],\n",
       "           dtype='int64', name='movieId', length=9724)"
      ]
     },
     "execution_count": 82,
     "metadata": {},
     "output_type": "execute_result"
    }
   ],
   "source": [
    "feature_matrix.index"
   ]
  },
  {
   "cell_type": "code",
   "execution_count": 83,
   "metadata": {},
   "outputs": [],
   "source": [
    "# def intersection(lst1, lst2): \n",
    "#     return list(set(lst1) & set(lst2)) \n",
    "\n",
    "# all_tp = 0\n",
    "# all_fp = 0\n",
    "# for uid in ratings['userId'].unique():\n",
    "#     if uid%100==0:\n",
    "#         print(uid)\n",
    "#     user_rec = pd.DataFrame(get_user_recommendations(uid=uid,num=10))\n",
    "#     user_rec = pd.concat([pd.DataFrame(movies.iloc[user_rec.index]['movieId']),user_rec],axis=1)\n",
    "#     recommended_movies = user_rec['movieId']\n",
    "#     watched_movies = ratings_test.loc[ratings_test['userId']==610,'movieId']\n",
    "#     #tp = len(np.intersect1d(recommended_movies,watched_movies))\n",
    "#     #fp = 10 - tp\n",
    "#     all_tp += len(np.intersect1d(recommended_movies,watched_movies))\n",
    "#     #all_tp+=tp\n",
    "#     #all_fp+=fp\n",
    "# all_fp=len(ratings['userId'].unique())*10-all_tp\n",
    "# print(all_tp,all_fp)"
   ]
  },
  {
   "cell_type": "code",
   "execution_count": 84,
   "metadata": {},
   "outputs": [],
   "source": [
    "# precision=all_tp/(all_tp+all_fp)\n",
    "# print(precision)"
   ]
  },
  {
   "cell_type": "code",
   "execution_count": 85,
   "metadata": {},
   "outputs": [
    {
     "data": {
      "text/plain": [
       "array([[<matplotlib.axes._subplots.AxesSubplot object at 0x000001CE40F39828>]],\n",
       "      dtype=object)"
      ]
     },
     "execution_count": 85,
     "metadata": {},
     "output_type": "execute_result"
    },
    {
     "data": {
      "image/png": "[encoded data removed]",
      "text/plain": [
       "<Figure size 576x576 with 1 Axes>"
      ]
     },
     "metadata": {
      "needs_background": "light"
     },
     "output_type": "display_data"
    }
   ],
   "source": [
    "ratings[['movieId','userId']].groupby('userId').count().hist(bins=50,figsize=(8,8))"
   ]
  },
  {
   "cell_type": "code",
   "execution_count": 86,
   "metadata": {},
   "outputs": [],
   "source": [
    "a = ratings[['movieId','userId']].groupby('userId').count()"
   ]
  },
  {
   "cell_type": "code",
   "execution_count": 87,
   "metadata": {},
   "outputs": [
    {
     "data": {
      "text/plain": [
       "userId\n",
       "1       232\n",
       "2        29\n",
       "3        39\n",
       "4       216\n",
       "5        44\n",
       "6       314\n",
       "7       152\n",
       "8        47\n",
       "9        46\n",
       "10      140\n",
       "11       64\n",
       "12       32\n",
       "13       31\n",
       "14       48\n",
       "15      135\n",
       "16       98\n",
       "17      105\n",
       "18      502\n",
       "19      703\n",
       "20      242\n",
       "21      443\n",
       "22      119\n",
       "23      121\n",
       "24      110\n",
       "25       26\n",
       "26       21\n",
       "27      135\n",
       "28      570\n",
       "29       81\n",
       "30       34\n",
       "       ... \n",
       "581      40\n",
       "582      56\n",
       "583      56\n",
       "584      83\n",
       "585      61\n",
       "586     208\n",
       "587     165\n",
       "588      56\n",
       "589      40\n",
       "590     728\n",
       "591      54\n",
       "592      94\n",
       "593     103\n",
       "594     232\n",
       "595      20\n",
       "596     411\n",
       "597     443\n",
       "598      21\n",
       "599    2478\n",
       "600     763\n",
       "601     101\n",
       "602     135\n",
       "603     943\n",
       "604     100\n",
       "605     221\n",
       "606    1115\n",
       "607     187\n",
       "608     831\n",
       "609      37\n",
       "610    1302\n",
       "Name: movieId, Length: 610, dtype: int64"
      ]
     },
     "execution_count": 87,
     "metadata": {},
     "output_type": "execute_result"
    }
   ],
   "source": [
    "a['movieId']"
   ]
  },
  {
   "cell_type": "code",
   "execution_count": 88,
   "metadata": {},
   "outputs": [
    {
     "data": {
      "text/html": [
       "        <script type=\"text/javascript\">\n",
       "        window.PlotlyConfig = {MathJaxConfig: 'local'};\n",
       "        if (window.MathJax) {MathJax.Hub.Config({SVG: {font: \"STIX-Web\"}});}\n",
       "        if (typeof require !== 'undefined') {\n",
       "        require.undef(\"plotly\");\n",
       "        requirejs.config({\n",
       "            paths: {\n",
       "                'plotly': ['https://cdn.plot.ly/plotly-latest.min']\n",
       "            }\n",
       "        });\n",
       "        require(['plotly'], function(Plotly) {\n",
       "            window._Plotly = Plotly;\n",
       "        });\n",
       "        }\n",
       "        </script>\n",
       "        "
      ]
     },
     "metadata": {},
     "output_type": "display_data"
    },
    {
     "data": {
      "application/vnd.plotly.v1+json": {
       "config": {
        "linkText": "Export to plot.ly",
        "plotlyServerURL": "https://plot.ly",
        "showLink": false
       },
       "data": [
        {
         "type": "histogram",
         "x": [
          232,
          29,
          39,
          216,
          44,
          314,
          152,
          47,
          46,
          140,
          64,
          32,
          31,
          48,
          135,
          98,
          105,
          502,
          703,
          242,
          443,
          119,
          121,
          110,
          26,
          21,
          135,
          570,
          81,
          34,
          50,
          102,
          156,
          86,
          23,
          60,
          21,
          78,
          100,
          103,
          217,
          440,
          114,
          48,
          399,
          42,
          140,
          33,
          21,
          310,
          359,
          130,
          20,
          33,
          25,
          46,
          476,
          112,
          107,
          22,
          39,
          366,
          271,
          517,
          34,
          345,
          36,
          1260,
          46,
          62,
          35,
          45,
          210,
          177,
          69,
          119,
          29,
          61,
          64,
          167,
          26,
          227,
          118,
          293,
          34,
          70,
          21,
          56,
          518,
          54,
          575,
          24,
          97,
          56,
          168,
          78,
          36,
          92,
          53,
          148,
          61,
          56,
          377,
          273,
          722,
          33,
          34,
          76,
          127,
          51,
          646,
          65,
          150,
          31,
          112,
          87,
          165,
          22,
          215,
          22,
          58,
          292,
          56,
          50,
          360,
          38,
          22,
          33,
          140,
          28,
          69,
          347,
          35,
          35,
          279,
          111,
          141,
          22,
          194,
          608,
          168,
          38,
          71,
          128,
          23,
          32,
          20,
          48,
          58,
          26,
          59,
          63,
          179,
          34,
          46,
          398,
          21,
          26,
          97,
          437,
          39,
          38,
          23,
          36,
          65,
          190,
          173,
          94,
          269,
          50,
          82,
          26,
          25,
          67,
          24,
          36,
          904,
          77,
          69,
          24,
          118,
          977,
          57,
          134,
          47,
          226,
          258,
          48,
          20,
          66,
          85,
          22,
          35,
          20,
          187,
          32,
          35,
          230,
          363,
          334,
          110,
          403,
          45,
          83,
          27,
          25,
          20,
          26,
          35,
          138,
          89,
          248,
          84,
          22,
          98,
          164,
          613,
          26,
          528,
          207,
          331,
          250,
          75,
          54,
          75,
          507,
          94,
          25,
          65,
          139,
          24,
          862,
          150,
          202,
          65,
          30,
          50,
          44,
          279,
          128,
          76,
          35,
          36,
          93,
          21,
          204,
          150,
          51,
          1046,
          27,
          23,
          38,
          47,
          127,
          44,
          174,
          20,
          25,
          29,
          152,
          53,
          57,
          210,
          56,
          163,
          180,
          57,
          129,
          29,
          40,
          43,
          31,
          55,
          1346,
          403,
          41,
          28,
          20,
          176,
          196,
          21,
          237,
          35,
          88,
          36,
          106,
          152,
          1055,
          24,
          267,
          31,
          446,
          21,
          437,
          41,
          27,
          72,
          939,
          23,
          32,
          114,
          32,
          53,
          216,
          677,
          112,
          975,
          115,
          103,
          64,
          28,
          223,
          340,
          128,
          33,
          53,
          189,
          879,
          35,
          20,
          56,
          107,
          98,
          21,
          270,
          152,
          48,
          255,
          23,
          247,
          168,
          267,
          25,
          154,
          28,
          56,
          77,
          39,
          371,
          28,
          52,
          66,
          59,
          69,
          62,
          164,
          45,
          55,
          37,
          40,
          141,
          294,
          90,
          226,
          26,
          289,
          383,
          41,
          74,
          25,
          97,
          109,
          30,
          21,
          277,
          31,
          185,
          469,
          129,
          93,
          41,
          236,
          100,
          33,
          33,
          133,
          131,
          48,
          36,
          1218,
          474,
          291,
          34,
          70,
          201,
          68,
          1027,
          29,
          34,
          81,
          386,
          25,
          123,
          23,
          61,
          28,
          23,
          46,
          36,
          43,
          72,
          48,
          34,
          60,
          120,
          20,
          22,
          141,
          126,
          167,
          127,
          102,
          56,
          2698,
          94,
          51,
          67,
          93,
          155,
          141,
          37,
          93,
          23,
          138,
          306,
          88,
          84,
          300,
          58,
          58,
          20,
          260,
          22,
          233,
          42,
          106,
          122,
          635,
          21,
          33,
          45,
          20,
          37,
          42,
          77,
          84,
          78,
          1864,
          38,
          51,
          34,
          202,
          311,
          45,
          57,
          43,
          50,
          59,
          26,
          82,
          27,
          455,
          33,
          138,
          115,
          113,
          22,
          33,
          465,
          80,
          28,
          29,
          37,
          2108,
          155,
          69,
          600,
          22,
          181,
          836,
          31,
          128,
          728,
          275,
          23,
          56,
          56,
          111,
          648,
          113,
          64,
          121,
          61,
          22,
          265,
          29,
          51,
          35,
          27,
          86,
          45,
          35,
          95,
          87,
          31,
          42,
          21,
          24,
          467,
          108,
          52,
          50,
          32,
          397,
          26,
          26,
          400,
          24,
          26,
          186,
          40,
          200,
          75,
          131,
          500,
          58,
          167,
          73,
          25,
          27,
          22,
          50,
          38,
          520,
          30,
          40,
          47,
          37,
          38,
          42,
          87,
          113,
          76,
          22,
          23,
          64,
          21,
          26,
          21,
          28,
          123,
          188,
          83,
          89,
          578,
          32,
          27,
          56,
          140,
          458,
          505,
          231,
          213,
          157,
          29,
          74,
          385,
          23,
          20,
          191,
          112,
          155,
          299,
          23,
          36,
          20,
          161,
          27,
          73,
          436,
          40,
          56,
          56,
          83,
          61,
          208,
          165,
          56,
          40,
          728,
          54,
          94,
          103,
          232,
          20,
          411,
          443,
          21,
          2478,
          763,
          101,
          135,
          943,
          100,
          221,
          1115,
          187,
          831,
          37,
          1302
         ],
         "xbins": {
          "end": 2700,
          "size": 20,
          "start": 0
         }
        }
       ],
       "layout": {
        "bargap": 0.1,
        "bargroupgap": 0.2,
        "paper_bgcolor": "rgba(0,0,0,0)",
        "plot_bgcolor": "rgba(0,0,0,0)",
        "template": {
         "data": {
          "bar": [
           {
            "error_x": {
             "color": "#2a3f5f"
            },
            "error_y": {
             "color": "#2a3f5f"
            },
            "marker": {
             "line": {
              "color": "#E5ECF6",
              "width": 0.5
             }
            },
            "type": "bar"
           }
          ],
          "barpolar": [
           {
            "marker": {
             "line": {
              "color": "#E5ECF6",
              "width": 0.5
             }
            },
            "type": "barpolar"
           }
          ],
          "carpet": [
           {
            "aaxis": {
             "endlinecolor": "#2a3f5f",
             "gridcolor": "white",
             "linecolor": "white",
             "minorgridcolor": "white",
             "startlinecolor": "#2a3f5f"
            },
            "baxis": {
             "endlinecolor": "#2a3f5f",
             "gridcolor": "white",
             "linecolor": "white",
             "minorgridcolor": "white",
             "startlinecolor": "#2a3f5f"
            },
            "type": "carpet"
           }
          ],
          "choropleth": [
           {
            "colorbar": {
             "outlinewidth": 0,
             "ticks": ""
            },
            "type": "choropleth"
           }
          ],
          "contour": [
           {
            "colorbar": {
             "outlinewidth": 0,
             "ticks": ""
            },
            "colorscale": [
             [
              0,
              "#0d0887"
             ],
             [
              0.1111111111111111,
              "#46039f"
             ],
             [
              0.2222222222222222,
              "#7201a8"
             ],
             [
              0.3333333333333333,
              "#9c179e"
             ],
             [
              0.4444444444444444,
              "#bd3786"
             ],
             [
              0.5555555555555556,
              "#d8576b"
             ],
             [
              0.6666666666666666,
              "#ed7953"
             ],
             [
              0.7777777777777778,
              "#fb9f3a"
             ],
             [
              0.8888888888888888,
              "#fdca26"
             ],
             [
              1,
              "#f0f921"
             ]
            ],
            "type": "contour"
           }
          ],
          "contourcarpet": [
           {
            "colorbar": {
             "outlinewidth": 0,
             "ticks": ""
            },
            "type": "contourcarpet"
           }
          ],
          "heatmap": [
           {
            "colorbar": {
             "outlinewidth": 0,
             "ticks": ""
            },
            "colorscale": [
             [
              0,
              "#0d0887"
             ],
             [
              0.1111111111111111,
              "#46039f"
             ],
             [
              0.2222222222222222,
              "#7201a8"
             ],
             [
              0.3333333333333333,
              "#9c179e"
             ],
             [
              0.4444444444444444,
              "#bd3786"
             ],
             [
              0.5555555555555556,
              "#d8576b"
             ],
             [
              0.6666666666666666,
              "#ed7953"
             ],
             [
              0.7777777777777778,
              "#fb9f3a"
             ],
             [
              0.8888888888888888,
              "#fdca26"
             ],
             [
              1,
              "#f0f921"
             ]
            ],
            "type": "heatmap"
           }
          ],
          "heatmapgl": [
           {
            "colorbar": {
             "outlinewidth": 0,
             "ticks": ""
            },
            "colorscale": [
             [
              0,
              "#0d0887"
             ],
             [
              0.1111111111111111,
              "#46039f"
             ],
             [
              0.2222222222222222,
              "#7201a8"
             ],
             [
              0.3333333333333333,
              "#9c179e"
             ],
             [
              0.4444444444444444,
              "#bd3786"
             ],
             [
              0.5555555555555556,
              "#d8576b"
             ],
             [
              0.6666666666666666,
              "#ed7953"
             ],
             [
              0.7777777777777778,
              "#fb9f3a"
             ],
             [
              0.8888888888888888,
              "#fdca26"
             ],
             [
              1,
              "#f0f921"
             ]
            ],
            "type": "heatmapgl"
           }
          ],
          "histogram": [
           {
            "marker": {
             "colorbar": {
              "outlinewidth": 0,
              "ticks": ""
             }
            },
            "type": "histogram"
           }
          ],
          "histogram2d": [
           {
            "colorbar": {
             "outlinewidth": 0,
             "ticks": ""
            },
            "colorscale": [
             [
              0,
              "#0d0887"
             ],
             [
              0.1111111111111111,
              "#46039f"
             ],
             [
              0.2222222222222222,
              "#7201a8"
             ],
             [
              0.3333333333333333,
              "#9c179e"
             ],
             [
              0.4444444444444444,
              "#bd3786"
             ],
             [
              0.5555555555555556,
              "#d8576b"
             ],
             [
              0.6666666666666666,
              "#ed7953"
             ],
             [
              0.7777777777777778,
              "#fb9f3a"
             ],
             [
              0.8888888888888888,
              "#fdca26"
             ],
             [
              1,
              "#f0f921"
             ]
            ],
            "type": "histogram2d"
           }
          ],
          "histogram2dcontour": [
           {
            "colorbar": {
             "outlinewidth": 0,
             "ticks": ""
            },
            "colorscale": [
             [
              0,
              "#0d0887"
             ],
             [
              0.1111111111111111,
              "#46039f"
             ],
             [
              0.2222222222222222,
              "#7201a8"
             ],
             [
              0.3333333333333333,
              "#9c179e"
             ],
             [
              0.4444444444444444,
              "#bd3786"
             ],
             [
              0.5555555555555556,
              "#d8576b"
             ],
             [
              0.6666666666666666,
              "#ed7953"
             ],
             [
              0.7777777777777778,
              "#fb9f3a"
             ],
             [
              0.8888888888888888,
              "#fdca26"
             ],
             [
              1,
              "#f0f921"
             ]
            ],
            "type": "histogram2dcontour"
           }
          ],
          "mesh3d": [
           {
            "colorbar": {
             "outlinewidth": 0,
             "ticks": ""
            },
            "type": "mesh3d"
           }
          ],
          "parcoords": [
           {
            "line": {
             "colorbar": {
              "outlinewidth": 0,
              "ticks": ""
             }
            },
            "type": "parcoords"
           }
          ],
          "scatter": [
           {
            "marker": {
             "colorbar": {
              "outlinewidth": 0,
              "ticks": ""
             }
            },
            "type": "scatter"
           }
          ],
          "scatter3d": [
           {
            "line": {
             "colorbar": {
              "outlinewidth": 0,
              "ticks": ""
             }
            },
            "marker": {
             "colorbar": {
              "outlinewidth": 0,
              "ticks": ""
             }
            },
            "type": "scatter3d"
           }
          ],
          "scattercarpet": [
           {
            "marker": {
             "colorbar": {
              "outlinewidth": 0,
              "ticks": ""
             }
            },
            "type": "scattercarpet"
           }
          ],
          "scattergeo": [
           {
            "marker": {
             "colorbar": {
              "outlinewidth": 0,
              "ticks": ""
             }
            },
            "type": "scattergeo"
           }
          ],
          "scattergl": [
           {
            "marker": {
             "colorbar": {
              "outlinewidth": 0,
              "ticks": ""
             }
            },
            "type": "scattergl"
           }
          ],
          "scattermapbox": [
           {
            "marker": {
             "colorbar": {
              "outlinewidth": 0,
              "ticks": ""
             }
            },
            "type": "scattermapbox"
           }
          ],
          "scatterpolar": [
           {
            "marker": {
             "colorbar": {
              "outlinewidth": 0,
              "ticks": ""
             }
            },
            "type": "scatterpolar"
           }
          ],
          "scatterpolargl": [
           {
            "marker": {
             "colorbar": {
              "outlinewidth": 0,
              "ticks": ""
             }
            },
            "type": "scatterpolargl"
           }
          ],
          "scatterternary": [
           {
            "marker": {
             "colorbar": {
              "outlinewidth": 0,
              "ticks": ""
             }
            },
            "type": "scatterternary"
           }
          ],
          "surface": [
           {
            "colorbar": {
             "outlinewidth": 0,
             "ticks": ""
            },
            "colorscale": [
             [
              0,
              "#0d0887"
             ],
             [
              0.1111111111111111,
              "#46039f"
             ],
             [
              0.2222222222222222,
              "#7201a8"
             ],
             [
              0.3333333333333333,
              "#9c179e"
             ],
             [
              0.4444444444444444,
              "#bd3786"
             ],
             [
              0.5555555555555556,
              "#d8576b"
             ],
             [
              0.6666666666666666,
              "#ed7953"
             ],
             [
              0.7777777777777778,
              "#fb9f3a"
             ],
             [
              0.8888888888888888,
              "#fdca26"
             ],
             [
              1,
              "#f0f921"
             ]
            ],
            "type": "surface"
           }
          ],
          "table": [
           {
            "cells": {
             "fill": {
              "color": "#EBF0F8"
             },
             "line": {
              "color": "white"
             }
            },
            "header": {
             "fill": {
              "color": "#C8D4E3"
             },
             "line": {
              "color": "white"
             }
            },
            "type": "table"
           }
          ]
         },
         "layout": {
          "annotationdefaults": {
           "arrowcolor": "#2a3f5f",
           "arrowhead": 0,
           "arrowwidth": 1
          },
          "colorscale": {
           "diverging": [
            [
             0,
             "#8e0152"
            ],
            [
             0.1,
             "#c51b7d"
            ],
            [
             0.2,
             "#de77ae"
            ],
            [
             0.3,
             "#f1b6da"
            ],
            [
             0.4,
             "#fde0ef"
            ],
            [
             0.5,
             "#f7f7f7"
            ],
            [
             0.6,
             "#e6f5d0"
            ],
            [
             0.7,
             "#b8e186"
            ],
            [
             0.8,
             "#7fbc41"
            ],
            [
             0.9,
             "#4d9221"
            ],
            [
             1,
             "#276419"
            ]
           ],
           "sequential": [
            [
             0,
             "#0d0887"
            ],
            [
             0.1111111111111111,
             "#46039f"
            ],
            [
             0.2222222222222222,
             "#7201a8"
            ],
            [
             0.3333333333333333,
             "#9c179e"
            ],
            [
             0.4444444444444444,
             "#bd3786"
            ],
            [
             0.5555555555555556,
             "#d8576b"
            ],
            [
             0.6666666666666666,
             "#ed7953"
            ],
            [
             0.7777777777777778,
             "#fb9f3a"
            ],
            [
             0.8888888888888888,
             "#fdca26"
            ],
            [
             1,
             "#f0f921"
            ]
           ],
           "sequentialminus": [
            [
             0,
             "#0d0887"
            ],
            [
             0.1111111111111111,
             "#46039f"
            ],
            [
             0.2222222222222222,
             "#7201a8"
            ],
            [
             0.3333333333333333,
             "#9c179e"
            ],
            [
             0.4444444444444444,
             "#bd3786"
            ],
            [
             0.5555555555555556,
             "#d8576b"
            ],
            [
             0.6666666666666666,
             "#ed7953"
            ],
            [
             0.7777777777777778,
             "#fb9f3a"
            ],
            [
             0.8888888888888888,
             "#fdca26"
            ],
            [
             1,
             "#f0f921"
            ]
           ]
          },
          "colorway": [
           "#636efa",
           "#EF553B",
           "#00cc96",
           "#ab63fa",
           "#FFA15A",
           "#19d3f3",
           "#FF6692",
           "#B6E880",
           "#FF97FF",
           "#FECB52"
          ],
          "font": {
           "color": "#2a3f5f"
          },
          "geo": {
           "bgcolor": "white",
           "lakecolor": "white",
           "landcolor": "#E5ECF6",
           "showlakes": true,
           "showland": true,
           "subunitcolor": "white"
          },
          "hoverlabel": {
           "align": "left"
          },
          "hovermode": "closest",
          "mapbox": {
           "style": "light"
          },
          "paper_bgcolor": "white",
          "plot_bgcolor": "#E5ECF6",
          "polar": {
           "angularaxis": {
            "gridcolor": "white",
            "linecolor": "white",
            "ticks": ""
           },
           "bgcolor": "#E5ECF6",
           "radialaxis": {
            "gridcolor": "white",
            "linecolor": "white",
            "ticks": ""
           }
          },
          "scene": {
           "xaxis": {
            "backgroundcolor": "#E5ECF6",
            "gridcolor": "white",
            "gridwidth": 2,
            "linecolor": "white",
            "showbackground": true,
            "ticks": "",
            "zerolinecolor": "white"
           },
           "yaxis": {
            "backgroundcolor": "#E5ECF6",
            "gridcolor": "white",
            "gridwidth": 2,
            "linecolor": "white",
            "showbackground": true,
            "ticks": "",
            "zerolinecolor": "white"
           },
           "zaxis": {
            "backgroundcolor": "#E5ECF6",
            "gridcolor": "white",
            "gridwidth": 2,
            "linecolor": "white",
            "showbackground": true,
            "ticks": "",
            "zerolinecolor": "white"
           }
          },
          "shapedefaults": {
           "line": {
            "color": "#2a3f5f"
           }
          },
          "ternary": {
           "aaxis": {
            "gridcolor": "white",
            "linecolor": "white",
            "ticks": ""
           },
           "baxis": {
            "gridcolor": "white",
            "linecolor": "white",
            "ticks": ""
           },
           "bgcolor": "#E5ECF6",
           "caxis": {
            "gridcolor": "white",
            "linecolor": "white",
            "ticks": ""
           }
          },
          "title": {
           "x": 0.05
          },
          "xaxis": {
           "automargin": true,
           "gridcolor": "white",
           "linecolor": "white",
           "ticks": "",
           "zerolinecolor": "white",
           "zerolinewidth": 2
          },
          "yaxis": {
           "automargin": true,
           "gridcolor": "white",
           "linecolor": "white",
           "ticks": "",
           "zerolinecolor": "white",
           "zerolinewidth": 2
          }
         }
        },
        "title": {
         "font": {
          "size": 20
         },
         "text": "Distribución de Cant. películas miradas"
        }
       }
      },
      "text/html": [
       "<div>\n",
       "        \n",
       "        \n",
       "            <div id=\"e8a5fff8-2dad-478c-b1a3-18a1fe9bc4ed\" class=\"plotly-graph-div\" style=\"height:525px; width:100%;\"></div>\n",
       "            <script type=\"text/javascript\">\n",
       "                require([\"plotly\"], function(Plotly) {\n",
       "                    window.PLOTLYENV=window.PLOTLYENV || {};\n",
       "                    \n",
       "                if (document.getElementById(\"e8a5fff8-2dad-478c-b1a3-18a1fe9bc4ed\")) {\n",
       "                    Plotly.newPlot(\n",
       "                        'e8a5fff8-2dad-478c-b1a3-18a1fe9bc4ed',\n",
       "                        [{\"type\": \"histogram\", \"x\": [232, 29, 39, 216, 44, 314, 152, 47, 46, 140, 64, 32, 31, 48, 135, 98, 105, 502, 703, 242, 443, 119, 121, 110, 26, 21, 135, 570, 81, 34, 50, 102, 156, 86, 23, 60, 21, 78, 100, 103, 217, 440, 114, 48, 399, 42, 140, 33, 21, 310, 359, 130, 20, 33, 25, 46, 476, 112, 107, 22, 39, 366, 271, 517, 34, 345, 36, 1260, 46, 62, 35, 45, 210, 177, 69, 119, 29, 61, 64, 167, 26, 227, 118, 293, 34, 70, 21, 56, 518, 54, 575, 24, 97, 56, 168, 78, 36, 92, 53, 148, 61, 56, 377, 273, 722, 33, 34, 76, 127, 51, 646, 65, 150, 31, 112, 87, 165, 22, 215, 22, 58, 292, 56, 50, 360, 38, 22, 33, 140, 28, 69, 347, 35, 35, 279, 111, 141, 22, 194, 608, 168, 38, 71, 128, 23, 32, 20, 48, 58, 26, 59, 63, 179, 34, 46, 398, 21, 26, 97, 437, 39, 38, 23, 36, 65, 190, 173, 94, 269, 50, 82, 26, 25, 67, 24, 36, 904, 77, 69, 24, 118, 977, 57, 134, 47, 226, 258, 48, 20, 66, 85, 22, 35, 20, 187, 32, 35, 230, 363, 334, 110, 403, 45, 83, 27, 25, 20, 26, 35, 138, 89, 248, 84, 22, 98, 164, 613, 26, 528, 207, 331, 250, 75, 54, 75, 507, 94, 25, 65, 139, 24, 862, 150, 202, 65, 30, 50, 44, 279, 128, 76, 35, 36, 93, 21, 204, 150, 51, 1046, 27, 23, 38, 47, 127, 44, 174, 20, 25, 29, 152, 53, 57, 210, 56, 163, 180, 57, 129, 29, 40, 43, 31, 55, 1346, 403, 41, 28, 20, 176, 196, 21, 237, 35, 88, 36, 106, 152, 1055, 24, 267, 31, 446, 21, 437, 41, 27, 72, 939, 23, 32, 114, 32, 53, 216, 677, 112, 975, 115, 103, 64, 28, 223, 340, 128, 33, 53, 189, 879, 35, 20, 56, 107, 98, 21, 270, 152, 48, 255, 23, 247, 168, 267, 25, 154, 28, 56, 77, 39, 371, 28, 52, 66, 59, 69, 62, 164, 45, 55, 37, 40, 141, 294, 90, 226, 26, 289, 383, 41, 74, 25, 97, 109, 30, 21, 277, 31, 185, 469, 129, 93, 41, 236, 100, 33, 33, 133, 131, 48, 36, 1218, 474, 291, 34, 70, 201, 68, 1027, 29, 34, 81, 386, 25, 123, 23, 61, 28, 23, 46, 36, 43, 72, 48, 34, 60, 120, 20, 22, 141, 126, 167, 127, 102, 56, 2698, 94, 51, 67, 93, 155, 141, 37, 93, 23, 138, 306, 88, 84, 300, 58, 58, 20, 260, 22, 233, 42, 106, 122, 635, 21, 33, 45, 20, 37, 42, 77, 84, 78, 1864, 38, 51, 34, 202, 311, 45, 57, 43, 50, 59, 26, 82, 27, 455, 33, 138, 115, 113, 22, 33, 465, 80, 28, 29, 37, 2108, 155, 69, 600, 22, 181, 836, 31, 128, 728, 275, 23, 56, 56, 111, 648, 113, 64, 121, 61, 22, 265, 29, 51, 35, 27, 86, 45, 35, 95, 87, 31, 42, 21, 24, 467, 108, 52, 50, 32, 397, 26, 26, 400, 24, 26, 186, 40, 200, 75, 131, 500, 58, 167, 73, 25, 27, 22, 50, 38, 520, 30, 40, 47, 37, 38, 42, 87, 113, 76, 22, 23, 64, 21, 26, 21, 28, 123, 188, 83, 89, 578, 32, 27, 56, 140, 458, 505, 231, 213, 157, 29, 74, 385, 23, 20, 191, 112, 155, 299, 23, 36, 20, 161, 27, 73, 436, 40, 56, 56, 83, 61, 208, 165, 56, 40, 728, 54, 94, 103, 232, 20, 411, 443, 21, 2478, 763, 101, 135, 943, 100, 221, 1115, 187, 831, 37, 1302], \"xbins\": {\"end\": 2700, \"size\": 20, \"start\": 0}}],\n",
       "                        {\"bargap\": 0.1, \"bargroupgap\": 0.2, \"paper_bgcolor\": \"rgba(0,0,0,0)\", \"plot_bgcolor\": \"rgba(0,0,0,0)\", \"template\": {\"data\": {\"bar\": [{\"error_x\": {\"color\": \"#2a3f5f\"}, \"error_y\": {\"color\": \"#2a3f5f\"}, \"marker\": {\"line\": {\"color\": \"#E5ECF6\", \"width\": 0.5}}, \"type\": \"bar\"}], \"barpolar\": [{\"marker\": {\"line\": {\"color\": \"#E5ECF6\", \"width\": 0.5}}, \"type\": \"barpolar\"}], \"carpet\": [{\"aaxis\": {\"endlinecolor\": \"#2a3f5f\", \"gridcolor\": \"white\", \"linecolor\": \"white\", \"minorgridcolor\": \"white\", \"startlinecolor\": \"#2a3f5f\"}, \"baxis\": {\"endlinecolor\": \"#2a3f5f\", \"gridcolor\": \"white\", \"linecolor\": \"white\", \"minorgridcolor\": \"white\", \"startlinecolor\": \"#2a3f5f\"}, \"type\": \"carpet\"}], \"choropleth\": [{\"colorbar\": {\"outlinewidth\": 0, \"ticks\": \"\"}, \"type\": \"choropleth\"}], \"contour\": [{\"colorbar\": {\"outlinewidth\": 0, \"ticks\": \"\"}, \"colorscale\": [[0.0, \"#0d0887\"], [0.1111111111111111, \"#46039f\"], [0.2222222222222222, \"#7201a8\"], [0.3333333333333333, \"#9c179e\"], [0.4444444444444444, \"#bd3786\"], [0.5555555555555556, \"#d8576b\"], [0.6666666666666666, \"#ed7953\"], [0.7777777777777778, \"#fb9f3a\"], [0.8888888888888888, \"#fdca26\"], [1.0, \"#f0f921\"]], \"type\": \"contour\"}], \"contourcarpet\": [{\"colorbar\": {\"outlinewidth\": 0, \"ticks\": \"\"}, \"type\": \"contourcarpet\"}], \"heatmap\": [{\"colorbar\": {\"outlinewidth\": 0, \"ticks\": \"\"}, \"colorscale\": [[0.0, \"#0d0887\"], [0.1111111111111111, \"#46039f\"], [0.2222222222222222, \"#7201a8\"], [0.3333333333333333, \"#9c179e\"], [0.4444444444444444, \"#bd3786\"], [0.5555555555555556, \"#d8576b\"], [0.6666666666666666, \"#ed7953\"], [0.7777777777777778, \"#fb9f3a\"], [0.8888888888888888, \"#fdca26\"], [1.0, \"#f0f921\"]], \"type\": \"heatmap\"}], \"heatmapgl\": [{\"colorbar\": {\"outlinewidth\": 0, \"ticks\": \"\"}, \"colorscale\": [[0.0, \"#0d0887\"], [0.1111111111111111, \"#46039f\"], [0.2222222222222222, \"#7201a8\"], [0.3333333333333333, \"#9c179e\"], [0.4444444444444444, \"#bd3786\"], [0.5555555555555556, \"#d8576b\"], [0.6666666666666666, \"#ed7953\"], [0.7777777777777778, \"#fb9f3a\"], [0.8888888888888888, \"#fdca26\"], [1.0, \"#f0f921\"]], \"type\": \"heatmapgl\"}], \"histogram\": [{\"marker\": {\"colorbar\": {\"outlinewidth\": 0, \"ticks\": \"\"}}, \"type\": \"histogram\"}], \"histogram2d\": [{\"colorbar\": {\"outlinewidth\": 0, \"ticks\": \"\"}, \"colorscale\": [[0.0, \"#0d0887\"], [0.1111111111111111, \"#46039f\"], [0.2222222222222222, \"#7201a8\"], [0.3333333333333333, \"#9c179e\"], [0.4444444444444444, \"#bd3786\"], [0.5555555555555556, \"#d8576b\"], [0.6666666666666666, \"#ed7953\"], [0.7777777777777778, \"#fb9f3a\"], [0.8888888888888888, \"#fdca26\"], [1.0, \"#f0f921\"]], \"type\": \"histogram2d\"}], \"histogram2dcontour\": [{\"colorbar\": {\"outlinewidth\": 0, \"ticks\": \"\"}, \"colorscale\": [[0.0, \"#0d0887\"], [0.1111111111111111, \"#46039f\"], [0.2222222222222222, \"#7201a8\"], [0.3333333333333333, \"#9c179e\"], [0.4444444444444444, \"#bd3786\"], [0.5555555555555556, \"#d8576b\"], [0.6666666666666666, \"#ed7953\"], [0.7777777777777778, \"#fb9f3a\"], [0.8888888888888888, \"#fdca26\"], [1.0, \"#f0f921\"]], \"type\": \"histogram2dcontour\"}], \"mesh3d\": [{\"colorbar\": {\"outlinewidth\": 0, \"ticks\": \"\"}, \"type\": \"mesh3d\"}], \"parcoords\": [{\"line\": {\"colorbar\": {\"outlinewidth\": 0, \"ticks\": \"\"}}, \"type\": \"parcoords\"}], \"scatter\": [{\"marker\": {\"colorbar\": {\"outlinewidth\": 0, \"ticks\": \"\"}}, \"type\": \"scatter\"}], \"scatter3d\": [{\"line\": {\"colorbar\": {\"outlinewidth\": 0, \"ticks\": \"\"}}, \"marker\": {\"colorbar\": {\"outlinewidth\": 0, \"ticks\": \"\"}}, \"type\": \"scatter3d\"}], \"scattercarpet\": [{\"marker\": {\"colorbar\": {\"outlinewidth\": 0, \"ticks\": \"\"}}, \"type\": \"scattercarpet\"}], \"scattergeo\": [{\"marker\": {\"colorbar\": {\"outlinewidth\": 0, \"ticks\": \"\"}}, \"type\": \"scattergeo\"}], \"scattergl\": [{\"marker\": {\"colorbar\": {\"outlinewidth\": 0, \"ticks\": \"\"}}, \"type\": \"scattergl\"}], \"scattermapbox\": [{\"marker\": {\"colorbar\": {\"outlinewidth\": 0, \"ticks\": \"\"}}, \"type\": \"scattermapbox\"}], \"scatterpolar\": [{\"marker\": {\"colorbar\": {\"outlinewidth\": 0, \"ticks\": \"\"}}, \"type\": \"scatterpolar\"}], \"scatterpolargl\": [{\"marker\": {\"colorbar\": {\"outlinewidth\": 0, \"ticks\": \"\"}}, \"type\": \"scatterpolargl\"}], \"scatterternary\": [{\"marker\": {\"colorbar\": {\"outlinewidth\": 0, \"ticks\": \"\"}}, \"type\": \"scatterternary\"}], \"surface\": [{\"colorbar\": {\"outlinewidth\": 0, \"ticks\": \"\"}, \"colorscale\": [[0.0, \"#0d0887\"], [0.1111111111111111, \"#46039f\"], [0.2222222222222222, \"#7201a8\"], [0.3333333333333333, \"#9c179e\"], [0.4444444444444444, \"#bd3786\"], [0.5555555555555556, \"#d8576b\"], [0.6666666666666666, \"#ed7953\"], [0.7777777777777778, \"#fb9f3a\"], [0.8888888888888888, \"#fdca26\"], [1.0, \"#f0f921\"]], \"type\": \"surface\"}], \"table\": [{\"cells\": {\"fill\": {\"color\": \"#EBF0F8\"}, \"line\": {\"color\": \"white\"}}, \"header\": {\"fill\": {\"color\": \"#C8D4E3\"}, \"line\": {\"color\": \"white\"}}, \"type\": \"table\"}]}, \"layout\": {\"annotationdefaults\": {\"arrowcolor\": \"#2a3f5f\", \"arrowhead\": 0, \"arrowwidth\": 1}, \"colorscale\": {\"diverging\": [[0, \"#8e0152\"], [0.1, \"#c51b7d\"], [0.2, \"#de77ae\"], [0.3, \"#f1b6da\"], [0.4, \"#fde0ef\"], [0.5, \"#f7f7f7\"], [0.6, \"#e6f5d0\"], [0.7, \"#b8e186\"], [0.8, \"#7fbc41\"], [0.9, \"#4d9221\"], [1, \"#276419\"]], \"sequential\": [[0.0, \"#0d0887\"], [0.1111111111111111, \"#46039f\"], [0.2222222222222222, \"#7201a8\"], [0.3333333333333333, \"#9c179e\"], [0.4444444444444444, \"#bd3786\"], [0.5555555555555556, \"#d8576b\"], [0.6666666666666666, \"#ed7953\"], [0.7777777777777778, \"#fb9f3a\"], [0.8888888888888888, \"#fdca26\"], [1.0, \"#f0f921\"]], \"sequentialminus\": [[0.0, \"#0d0887\"], [0.1111111111111111, \"#46039f\"], [0.2222222222222222, \"#7201a8\"], [0.3333333333333333, \"#9c179e\"], [0.4444444444444444, \"#bd3786\"], [0.5555555555555556, \"#d8576b\"], [0.6666666666666666, \"#ed7953\"], [0.7777777777777778, \"#fb9f3a\"], [0.8888888888888888, \"#fdca26\"], [1.0, \"#f0f921\"]]}, \"colorway\": [\"#636efa\", \"#EF553B\", \"#00cc96\", \"#ab63fa\", \"#FFA15A\", \"#19d3f3\", \"#FF6692\", \"#B6E880\", \"#FF97FF\", \"#FECB52\"], \"font\": {\"color\": \"#2a3f5f\"}, \"geo\": {\"bgcolor\": \"white\", \"lakecolor\": \"white\", \"landcolor\": \"#E5ECF6\", \"showlakes\": true, \"showland\": true, \"subunitcolor\": \"white\"}, \"hoverlabel\": {\"align\": \"left\"}, \"hovermode\": \"closest\", \"mapbox\": {\"style\": \"light\"}, \"paper_bgcolor\": \"white\", \"plot_bgcolor\": \"#E5ECF6\", \"polar\": {\"angularaxis\": {\"gridcolor\": \"white\", \"linecolor\": \"white\", \"ticks\": \"\"}, \"bgcolor\": \"#E5ECF6\", \"radialaxis\": {\"gridcolor\": \"white\", \"linecolor\": \"white\", \"ticks\": \"\"}}, \"scene\": {\"xaxis\": {\"backgroundcolor\": \"#E5ECF6\", \"gridcolor\": \"white\", \"gridwidth\": 2, \"linecolor\": \"white\", \"showbackground\": true, \"ticks\": \"\", \"zerolinecolor\": \"white\"}, \"yaxis\": {\"backgroundcolor\": \"#E5ECF6\", \"gridcolor\": \"white\", \"gridwidth\": 2, \"linecolor\": \"white\", \"showbackground\": true, \"ticks\": \"\", \"zerolinecolor\": \"white\"}, \"zaxis\": {\"backgroundcolor\": \"#E5ECF6\", \"gridcolor\": \"white\", \"gridwidth\": 2, \"linecolor\": \"white\", \"showbackground\": true, \"ticks\": \"\", \"zerolinecolor\": \"white\"}}, \"shapedefaults\": {\"line\": {\"color\": \"#2a3f5f\"}}, \"ternary\": {\"aaxis\": {\"gridcolor\": \"white\", \"linecolor\": \"white\", \"ticks\": \"\"}, \"baxis\": {\"gridcolor\": \"white\", \"linecolor\": \"white\", \"ticks\": \"\"}, \"bgcolor\": \"#E5ECF6\", \"caxis\": {\"gridcolor\": \"white\", \"linecolor\": \"white\", \"ticks\": \"\"}}, \"title\": {\"x\": 0.05}, \"xaxis\": {\"automargin\": true, \"gridcolor\": \"white\", \"linecolor\": \"white\", \"ticks\": \"\", \"zerolinecolor\": \"white\", \"zerolinewidth\": 2}, \"yaxis\": {\"automargin\": true, \"gridcolor\": \"white\", \"linecolor\": \"white\", \"ticks\": \"\", \"zerolinecolor\": \"white\", \"zerolinewidth\": 2}}}, \"title\": {\"font\": {\"size\": 20}, \"text\": \"Distribuci\\u00f3n de Cant. pel\\u00edculas miradas\"}},\n",
       "                        {\"responsive\": true}\n",
       "                    ).then(function(){\n",
       "                            \n",
       "var gd = document.getElementById('e8a5fff8-2dad-478c-b1a3-18a1fe9bc4ed');\n",
       "var x = new MutationObserver(function (mutations, observer) {{\n",
       "        var display = window.getComputedStyle(gd).display;\n",
       "        if (!display || display === 'none') {{\n",
       "            console.log([gd, 'removed!']);\n",
       "            Plotly.purge(gd);\n",
       "            observer.disconnect();\n",
       "        }}\n",
       "}});\n",
       "\n",
       "// Listen for the removal of the full notebook cells\n",
       "var notebookContainer = gd.closest('#notebook-container');\n",
       "if (notebookContainer) {{\n",
       "    x.observe(notebookContainer, {childList: true});\n",
       "}}\n",
       "\n",
       "// Listen for the clearing of the current output cell\n",
       "var outputEl = gd.closest('.output');\n",
       "if (outputEl) {{\n",
       "    x.observe(outputEl, {childList: true});\n",
       "}}\n",
       "\n",
       "                        })\n",
       "                };\n",
       "                });\n",
       "            </script>\n",
       "        </div>"
      ]
     },
     "metadata": {},
     "output_type": "display_data"
    }
   ],
   "source": [
    "import plotly\n",
    "#import plotly.plotly as py\n",
    "import chart_studio.plotly as py\n",
    "import plotly.tools as tls\n",
    "import plotly.graph_objs as go\n",
    "import plotly.figure_factory as ff\n",
    "from plotly.graph_objs import *\n",
    "from plotly.offline import init_notebook_mode, iplot, plot\n",
    "\n",
    "init_notebook_mode(connected=True)\n",
    "\n",
    "trace = go.Histogram(x=a['movieId'],\n",
    "                    xbins=dict(start=0,end=2700,size=20),)\n",
    "\n",
    "layout = go.Layout(title='Distribución de Cant. películas miradas',\n",
    "                   titlefont = dict(size = 20),\n",
    "                   paper_bgcolor =  'rgba(0,0,0,0)',\n",
    "                   plot_bgcolor = 'rgba(0,0,0,0)',\n",
    "                   bargap=0.1,\n",
    "                   bargroupgap=0.2\n",
    "                   )\n",
    "fig = dict(data=[trace],layout=layout)\n",
    "figure=go.Figure(data=[trace],layout=layout)\n",
    "plotly.offline.iplot(figure)"
   ]
  }
 ],
 "metadata": {
  "kernelspec": {
   "display_name": "Python 3",
   "language": "python",
   "name": "python3"
  },
  "language_info": {
   "codemirror_mode": {
    "name": "ipython",
    "version": 3
   },
   "file_extension": ".py",
   "mimetype": "text/x-python",
   "name": "python",
   "nbconvert_exporter": "python",
   "pygments_lexer": "ipython3",
   "version": "3.7.3"
  }
 },
 "nbformat": 4,
 "nbformat_minor": 2
}
